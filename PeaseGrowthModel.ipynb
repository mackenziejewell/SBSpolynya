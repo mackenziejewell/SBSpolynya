{
 "cells": [
  {
   "cell_type": "markdown",
   "id": "b746cacd",
   "metadata": {},
   "source": [
    "# 1d polynya growth model\n",
    "\n",
    "https://agupubs.onlinelibrary.wiley.com/doi/epdf/10.1029/JC092iC07p07049"
   ]
  },
  {
   "cell_type": "code",
   "execution_count": 1,
   "id": "a1bfe797",
   "metadata": {},
   "outputs": [],
   "source": [
    "%load_ext autoreload\n",
    "%autoreload 2\n",
    "\n",
    "# general\n",
    "import numpy as np, numpy.ma as ma\n",
    "import xarray as xr\n",
    "import pandas as pd\n",
    "\n",
    "# time\n",
    "from datetime import datetime, timedelta\n",
    "import calendar\n",
    "from calendar import monthrange\n",
    "\n",
    "# local system \n",
    "import sys  \n",
    "import glob\n",
    "import os\n",
    "\n",
    "# plotting\n",
    "import matplotlib as mpl\n",
    "from matplotlib import pyplot as plt\n",
    "import matplotlib.colors\n",
    "import cmocean\n",
    "import matplotlib.patches as mpatches\n",
    "from mpl_toolkits.axes_grid1.inset_locator import inset_axes\n",
    "from matplotlib.colors import Normalize\n",
    "from matplotlib.ticker import MultipleLocator\n",
    "\n",
    "import matplotlib.dates as mdates\n",
    "\n",
    "# geo plotting\n",
    "import cartopy\n",
    "import cartopy.crs as ccrs\n",
    "import cartopy.feature as cfeat\n",
    "from cartopy import img_transform\n",
    "\n",
    "from metpy.units import units"
   ]
  },
  {
   "cell_type": "code",
   "execution_count": 2,
   "id": "91ef6e1c",
   "metadata": {},
   "outputs": [
    {
     "data": {
      "text/plain": [
       "{'Cp_o': <Quantity(3850.0, 'joule / kilogram / delta_degree_Celsius')>,\n",
       " 'Cp_a': <Quantity(1004.0, 'joule / kilogram / delta_degree_Celsius')>,\n",
       " 'sigma_sb': <Quantity(5.670367e-08, 'watt / meter ** 2 / kelvin ** 4')>,\n",
       " 'rho_a': <Quantity(1.225, 'kilogram / meter ** 3')>,\n",
       " 'rho_o': <Quantity(1028.0, 'kilogram / meter ** 3')>,\n",
       " 'rho_i': <Quantity(917.0, 'kilogram / meter ** 3')>,\n",
       " 'L_i': <Quantity(334000.0, 'joule / kilogram')>,\n",
       " 'k_i': <Quantity(2.2, 'watt / meter / delta_degree_Celsius')>,\n",
       " 'kappa': <Quantity(0.4, 'dimensionless')>,\n",
       " 'St': <Quantity(0.0057, 'dimensionless')>,\n",
       " 'omega': <Quantity(7.2921e-05, 'radian / second')>}"
      ]
     },
     "execution_count": 2,
     "metadata": {},
     "output_type": "execute_result"
    }
   ],
   "source": [
    "# Save to file\n",
    "df = pd.read_csv('./data/constants.csv')\n",
    "df = df.set_index('var')\n",
    "df\n",
    "\n",
    "cst = {}\n",
    "for variable in list(df.index):\n",
    "    cst[variable] = df.loc[variable]['value'] * units(df.loc[variable]['units'])\n",
    "    \n",
    "cst"
   ]
  },
  {
   "cell_type": "code",
   "execution_count": 3,
   "id": "f5eee844",
   "metadata": {},
   "outputs": [],
   "source": [
    "\n",
    "time_range = slice(datetime(2024,1,2), datetime(2024,1,17))\n",
    "\n",
    "# time_range = slice(datetime(2019,1,13), datetime(2019,1,20))\n",
    "\n",
    "DS = xr.open_dataset(f'./data/polynya_size/daily_polynya_{time_range.stop.year}_sic15_v3.nc')\n",
    "DS = DS.sel(time = time_range)\n",
    "\n",
    "DS['length'] = DS['l_max'] - DS['l_min']\n",
    "\n",
    "DS['t'] = ((DS.time.values - DS.time.values[0]) / np.timedelta64(1, 's')) * units('s').to('hour')"
   ]
  },
  {
   "cell_type": "code",
   "execution_count": null,
   "id": "da40a28c",
   "metadata": {},
   "outputs": [],
   "source": [
    "# polynya length\n",
    "\n",
    "Xp = 0 * units('km')\n",
    "\n",
    "\n",
    "Va = 20 * units('m/s')\n",
    "\n",
    "# Vi = 30 * units('cm/s') # rate of pack ice advection from shore\n",
    "Vi = 0.03 * Va\n",
    "\n",
    "Fi = 1 * units('cm/hour') # ice produciton rate\n",
    "\n",
    "Hi = 1 * units('m') # frazil ice collection depth\n",
    "\n",
    "t = np.arange(0, 360) * units('hour')\n",
    "\n",
    "\n",
    "\n",
    "def xp_over_time(Vi, t, Fi, Hi = 1 * units('m')):\n",
    "    \n",
    "    # Hi : frazil ice collection depth\n",
    "    \n",
    "    C = - Vi * Hi / Fi\n",
    "    Xp = - C * (1 - np.exp(-t * Fi / Hi))\n",
    "    Xp = Xp.to('km')\n",
    "    Xip = (Vi*t).to('km')\n",
    "\n",
    "\n",
    "    return Xp, Xip \n",
    "\n",
    "\n",
    "\n",
    "\n",
    "def convert_to_k(T):\n",
    "    \n",
    "    if T.units == 'degree_Celsius':\n",
    "        T = T.to('degree_Kelvin')\n",
    "    elif T.units == 'delta_degree_Celsius':\n",
    "        print('T!! should not be delta deg C')\n",
    "    return T\n",
    "        \n",
    "def find_Qlu(Tw, sigma, eo):\n",
    "    \n",
    "    Tw = convert_to_k(Tw)\n",
    "    qlu = sigma * eo * Tw**4\n",
    "    return qlu.to('W/m2')\n",
    "\n",
    "\n",
    "def find_Qld(Ta, sigma, ea):\n",
    "    Ta = convert_to_k(Ta)\n",
    "    qld = sigma * ea * Ta**4\n",
    "    return qld.to('W/m2')\n",
    "\n",
    "\n",
    "def find_Qs(Ta, Tw, rho_a, Cpa, Va):\n",
    "    \n",
    "    Ta = Ta.magnitude * units('delta_degree_Celsius')\n",
    "    Tw = Tw.magnitude * units('delta_degree_Celsius')\n",
    "    \n",
    "    Ch = 2e-3 # sensible heat coefficient\n",
    "\n",
    "    qs = rho_a * Ch * Cpa * Va * (Ta-Tw)\n",
    "    \n",
    "    return qs.to('W/m2')\n"
   ]
  },
  {
   "cell_type": "code",
   "execution_count": 444,
   "id": "7394da6c",
   "metadata": {},
   "outputs": [
    {
     "name": "stdout",
     "output_type": "stream",
     "text": [
      "649.3872000000001 watt / meter ** 2\n"
     ]
    },
    {
     "data": {
      "text/html": [
       "0.8362090638660307 centimeter/hour"
      ],
      "text/latex": [
       "$0.8362090638660307\\ \\frac{\\mathrm{centimeter}}{\\mathrm{hour}}$"
      ],
      "text/plain": [
       "<Quantity(0.836209064, 'centimeter / hour')>"
      ]
     },
     "execution_count": 444,
     "metadata": {},
     "output_type": "execute_result"
    }
   ],
   "source": [
    "\n",
    "# for now, ignore evaporative latent heat flux, and shortwave radiation for winter\n",
    "\n",
    "Ta = -20 * units('degC')\n",
    "rho_a = cst['rho_a']\n",
    "Va = 20 * units('m/s')\n",
    "\n",
    "Tf = -1.8 *units('delta_degC')\n",
    "Tw = -1.8 * units('degC')\n",
    "\n",
    "# define positive upward\n",
    "Qlu = find_Qlu(Tw, cst['sigma_sb'], 0.98)\n",
    "Qld = -find_Qld(Ta, cst['sigma_sb'], 0.95)\n",
    "Qs = -find_Qs(Ta, Tw, rho_a, cst['Cp_a'], Va)\n",
    "print(Qs)\n",
    "\n",
    "Qnet = Qlu + Qld + Qs\n",
    "\n",
    "dHdt = (Qnet / (cst['L_i'] * cst['rho_i'])).to('cm/hour')\n",
    "\n",
    "dHdt"
   ]
  },
  {
   "cell_type": "code",
   "execution_count": null,
   "id": "7980f33b",
   "metadata": {},
   "outputs": [],
   "source": [
    "fig, ax = plt.subplots(figsize=(3,3))\n",
    "plt.bar(0, Qlu)\n",
    "plt.bar(1, Qld)\n",
    "plt.bar(2, Qs)\n",
    "plt.bar(3, Qnet)"
   ]
  },
  {
   "cell_type": "code",
   "execution_count": 446,
   "id": "7cf7b1f5",
   "metadata": {},
   "outputs": [
    {
     "data": {
      "text/html": [
       "0.0 hour"
      ],
      "text/latex": [
       "$0.0\\ \\mathrm{hour}$"
      ],
      "text/plain": [
       "<Quantity(0.0, 'hour')>"
      ]
     },
     "execution_count": 446,
     "metadata": {},
     "output_type": "execute_result"
    }
   ],
   "source": [
    "# Q = m * C * dT\n",
    "\n",
    "\n",
    "# dt = 12 *  units('hour')\n",
    "# rho_o = cst['rho_o']\n",
    "# H = 16 * units('m')\n",
    "# dT = (Qnet * dt / (rho_o * H * cst['Cp_o'])).to_base_units()\n",
    "\n",
    "rho_o = cst['rho_o']\n",
    "H = 16 * units('m')\n",
    "dT = (Tw.magnitude * units('delta_degC') - Tf)\n",
    "\n",
    "(dT * rho_o * H * cst['Cp_o'] / Qnet).to('hour')\n",
    "\n",
    "# change "
   ]
  },
  {
   "cell_type": "code",
   "execution_count": null,
   "id": "922bcaed",
   "metadata": {},
   "outputs": [],
   "source": []
  },
  {
   "cell_type": "code",
   "execution_count": 447,
   "id": "55f3c082",
   "metadata": {},
   "outputs": [
    {
     "data": {
      "text/plain": [
       "<BarContainer object of 16 artists>"
      ]
     },
     "execution_count": 447,
     "metadata": {},
     "output_type": "execute_result"
    },
    {
     "data": {
      "image/png": "[encoded data removed]",
      "text/plain": [
       "<Figure size 300x300 with 1 Axes>"
      ]
     },
     "metadata": {},
     "output_type": "display_data"
    }
   ],
   "source": [
    "fig, ax= plt.subplots(figsize=(3,3))\n",
    "\n",
    "Fi = 0.0001 * units('cm/hour') # ice produciton rate\n",
    "Xp, Xip  = xp_over_time(Vi, t[:22], Fi, Hi = 0.5 * units('m'))\n",
    "plt.plot(t[:22], Xip, c='k')\n",
    "plt.plot(t[:22], Xp, c='k')\n",
    "\n",
    "Fi = dHdt #5 * units('cm/hour') # ice produciton rate\n",
    "Xp, Xip  = xp_over_time(Vi, t[22:], Fi, Hi = 0.5 * units('m'))\n",
    "plt.plot(t[22:], Xp, c='b')\n",
    "\n",
    "plt.bar(DS.t.values, DS.length.values, width=22, align='edge', color='gray')"
   ]
  },
  {
   "cell_type": "code",
   "execution_count": 108,
   "id": "00e8afd0",
   "metadata": {},
   "outputs": [
    {
     "data": {
      "text/plain": [
       "array([  0.,  24.,  48.,  72.,  96., 120., 144., 168.])"
      ]
     },
     "execution_count": 108,
     "metadata": {},
     "output_type": "execute_result"
    }
   ],
   "source": [
    "DS.t.values"
   ]
  },
  {
   "cell_type": "code",
   "execution_count": null,
   "id": "6a011eaa",
   "metadata": {},
   "outputs": [],
   "source": []
  }
 ],
 "metadata": {
  "kernelspec": {
   "display_name": "SBSpolynya",
   "language": "python",
   "name": "sbspolynya"
  },
  "language_info": {
   "codemirror_mode": {
    "name": "ipython",
    "version": 3
   },
   "file_extension": ".py",
   "mimetype": "text/x-python",
   "name": "python",
   "nbconvert_exporter": "python",
   "pygments_lexer": "ipython3",
   "version": "3.12.2"
  }
 },
 "nbformat": 4,
 "nbformat_minor": 5
}
