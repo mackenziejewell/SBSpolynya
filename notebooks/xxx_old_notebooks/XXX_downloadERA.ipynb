{
 "cells": [
  {
   "cell_type": "code",
   "execution_count": 25,
   "id": "b57636aa",
   "metadata": {},
   "outputs": [],
   "source": [
    "import cdsapi\n",
    "import xarray as xr\n",
    "import numpy as np"
   ]
  },
  {
   "cell_type": "code",
   "execution_count": null,
   "id": "694f46bd",
   "metadata": {},
   "outputs": [],
   "source": []
  },
  {
   "cell_type": "code",
   "execution_count": 26,
   "id": "641ca62d",
   "metadata": {},
   "outputs": [
    {
     "name": "stderr",
     "output_type": "stream",
     "text": [
      "2025-06-09 10:35:55,345 INFO [2024-09-26T00:00:00] Watch our [Forum](https://forum.ecmwf.int/) for Announcements, news and other discussed topics.\n"
     ]
    }
   ],
   "source": [
    "URL = 'https://cds.climate.copernicus.eu/api'\n",
    "KEY = '0c841b13-b85d-4be5-9169-43f4fc3e2e8e'\n",
    "client = cdsapi.Client(url=URL, key=KEY)"
   ]
  },
  {
   "cell_type": "code",
   "execution_count": 57,
   "id": "971df71c",
   "metadata": {},
   "outputs": [],
   "source": [
    "# var = \"surface_net_solar_radiation\" #ssr\n",
    "# var = \"surface_net_thermal_radiation\" #str\n",
    "# var = \"surface_latent_heat_flux\" #slhf\n",
    "# var = \"surface_sensible_heat_flux\" #\n",
    "\n",
    "# variables = [\"surface_net_solar_radiation\", \"surface_net_thermal_radiation\", \n",
    "#              \"surface_latent_heat_flux\", \"surface_sensible_heat_flux\"]\n",
    "\n",
    "variables = [\"surface_thermal_radiation_downwards\"]"
   ]
  },
  {
   "cell_type": "code",
   "execution_count": 63,
   "id": "f81283e4",
   "metadata": {},
   "outputs": [],
   "source": [
    "years = np.arange(2002,2025)\n",
    "# years = [2025]"
   ]
  },
  {
   "cell_type": "code",
   "execution_count": 64,
   "id": "5ac24150",
   "metadata": {},
   "outputs": [
    {
     "name": "stderr",
     "output_type": "stream",
     "text": [
      "2025-06-09 16:39:30,248 WARNING [2025-02-12T00:00:00] Requests for non-consecutive date ranges combined with non-UTC time-zones may contain undersampled data points for the dates before and after the gap in the date range. See known-issues table on documentation tab for more details.\n",
      "2025-06-09 16:39:30,249 INFO Request ID is e204f4b9-6ac5-4cee-8334-6367d9fb341e\n",
      "2025-06-09 16:39:30,456 INFO status has been updated to accepted\n",
      "2025-06-09 16:39:35,837 INFO status has been updated to running\n",
      "2025-06-09 16:40:47,283 WARNING Please note that for the daily statistics datasets selection of non-consecutive dates is significantly slower than consecutive dates.\n",
      "2025-06-09 16:41:25,927 INFO status has been updated to successful\n"
     ]
    },
    {
     "data": {
      "application/vnd.jupyter.widget-view+json": {
       "model_id": "",
       "version_major": 2,
       "version_minor": 0
      },
      "text/plain": [
       "935012e025d1641d6c4e8d9894b2d769.nc:   0%|          | 0.00/181k [00:00<?, ?B/s]"
      ]
     },
     "metadata": {},
     "output_type": "display_data"
    },
    {
     "name": "stderr",
     "output_type": "stream",
     "text": [
      "2025-06-09 16:41:29,247 WARNING [2025-02-12T00:00:00] Requests for non-consecutive date ranges combined with non-UTC time-zones may contain undersampled data points for the dates before and after the gap in the date range. See known-issues table on documentation tab for more details.\n",
      "2025-06-09 16:41:29,248 INFO Request ID is bda21133-51c6-42a2-bba6-2f5ec0f4b529\n",
      "2025-06-09 16:41:29,447 INFO status has been updated to accepted\n",
      "2025-06-09 16:42:46,491 INFO status has been updated to running\n",
      "2025-06-09 16:44:23,353 WARNING Please note that for the daily statistics datasets selection of non-consecutive dates is significantly slower than consecutive dates.\n",
      "2025-06-09 16:44:23,354 INFO status has been updated to successful\n"
     ]
    },
    {
     "data": {
      "application/vnd.jupyter.widget-view+json": {
       "model_id": "",
       "version_major": 2,
       "version_minor": 0
      },
      "text/plain": [
       "f4d15d155e78cea20b3372dc241fc830.nc:   0%|          | 0.00/182k [00:00<?, ?B/s]"
      ]
     },
     "metadata": {},
     "output_type": "display_data"
    },
    {
     "name": "stderr",
     "output_type": "stream",
     "text": [
      "2025-06-09 16:44:28,489 WARNING [2025-02-12T00:00:00] Requests for non-consecutive date ranges combined with non-UTC time-zones may contain undersampled data points for the dates before and after the gap in the date range. See known-issues table on documentation tab for more details.\n",
      "2025-06-09 16:44:28,490 INFO Request ID is e8f02fde-5413-473f-950e-cd467e2b9afb\n",
      "2025-06-09 16:44:28,766 INFO status has been updated to accepted\n",
      "2025-06-09 16:44:43,265 INFO status has been updated to running\n",
      "2025-06-09 16:46:24,571 WARNING Please note that for the daily statistics datasets selection of non-consecutive dates is significantly slower than consecutive dates.\n",
      "2025-06-09 16:46:24,572 INFO status has been updated to successful\n"
     ]
    },
    {
     "data": {
      "application/vnd.jupyter.widget-view+json": {
       "model_id": "",
       "version_major": 2,
       "version_minor": 0
      },
      "text/plain": [
       "571c32a51f1ec723cb2b09d12d4eef14.nc:   0%|          | 0.00/183k [00:00<?, ?B/s]"
      ]
     },
     "metadata": {},
     "output_type": "display_data"
    },
    {
     "name": "stderr",
     "output_type": "stream",
     "text": [
      "2025-06-09 16:46:46,799 WARNING [2025-02-12T00:00:00] Requests for non-consecutive date ranges combined with non-UTC time-zones may contain undersampled data points for the dates before and after the gap in the date range. See known-issues table on documentation tab for more details.\n",
      "2025-06-09 16:46:46,800 INFO Request ID is 20bd3d3a-c48d-44ed-8e92-7af3dd0cc73f\n",
      "2025-06-09 16:46:46,995 INFO status has been updated to accepted\n",
      "2025-06-09 16:47:09,321 INFO status has been updated to running\n",
      "2025-06-09 16:48:04,050 WARNING Please note that for the daily statistics datasets selection of non-consecutive dates is significantly slower than consecutive dates.\n",
      "2025-06-09 16:48:42,926 INFO status has been updated to successful\n"
     ]
    },
    {
     "data": {
      "application/vnd.jupyter.widget-view+json": {
       "model_id": "",
       "version_major": 2,
       "version_minor": 0
      },
      "text/plain": [
       "1ad0d33f773d11b887ed3b36504ebe6d.nc:   0%|          | 0.00/181k [00:00<?, ?B/s]"
      ]
     },
     "metadata": {},
     "output_type": "display_data"
    },
    {
     "name": "stderr",
     "output_type": "stream",
     "text": [
      "2025-06-09 16:48:46,349 WARNING [2025-02-12T00:00:00] Requests for non-consecutive date ranges combined with non-UTC time-zones may contain undersampled data points for the dates before and after the gap in the date range. See known-issues table on documentation tab for more details.\n",
      "2025-06-09 16:48:46,350 INFO Request ID is a37a2920-c23a-43fd-966b-12328978c98c\n",
      "2025-06-09 16:48:46,550 INFO status has been updated to accepted\n",
      "2025-06-09 16:49:37,733 INFO status has been updated to running\n",
      "2025-06-09 16:50:42,236 WARNING Please note that for the daily statistics datasets selection of non-consecutive dates is significantly slower than consecutive dates.\n",
      "2025-06-09 16:51:40,574 INFO status has been updated to successful\n"
     ]
    },
    {
     "data": {
      "application/vnd.jupyter.widget-view+json": {
       "model_id": "",
       "version_major": 2,
       "version_minor": 0
      },
      "text/plain": [
       "e84e1d55209263a45c42cf35ed0731d4.nc:   0%|          | 0.00/182k [00:00<?, ?B/s]"
      ]
     },
     "metadata": {},
     "output_type": "display_data"
    },
    {
     "name": "stderr",
     "output_type": "stream",
     "text": [
      "2025-06-09 16:51:44,373 WARNING [2025-02-12T00:00:00] Requests for non-consecutive date ranges combined with non-UTC time-zones may contain undersampled data points for the dates before and after the gap in the date range. See known-issues table on documentation tab for more details.\n",
      "2025-06-09 16:51:44,374 INFO Request ID is 250343a7-c6c8-4447-80a3-ad323fdd33ee\n",
      "2025-06-09 16:51:44,740 INFO status has been updated to accepted\n",
      "2025-06-09 16:53:01,529 INFO status has been updated to running\n",
      "2025-06-09 16:53:40,288 WARNING Please note that for the daily statistics datasets selection of non-consecutive dates is significantly slower than consecutive dates.\n",
      "2025-06-09 16:54:38,482 INFO status has been updated to successful\n"
     ]
    },
    {
     "data": {
      "application/vnd.jupyter.widget-view+json": {
       "model_id": "",
       "version_major": 2,
       "version_minor": 0
      },
      "text/plain": [
       "2482976f0cd0724555f423f02dc8cdcc.nc:   0%|          | 0.00/183k [00:00<?, ?B/s]"
      ]
     },
     "metadata": {},
     "output_type": "display_data"
    },
    {
     "name": "stderr",
     "output_type": "stream",
     "text": [
      "2025-06-09 16:54:41,864 WARNING [2025-02-12T00:00:00] Requests for non-consecutive date ranges combined with non-UTC time-zones may contain undersampled data points for the dates before and after the gap in the date range. See known-issues table on documentation tab for more details.\n",
      "2025-06-09 16:54:41,865 INFO Request ID is 7e8b5136-88f1-45d6-b838-0eac2942a4b0\n",
      "2025-06-09 16:54:42,152 INFO status has been updated to accepted\n",
      "2025-06-09 16:54:56,475 INFO status has been updated to running\n",
      "2025-06-09 16:55:58,989 WARNING Please note that for the daily statistics datasets selection of non-consecutive dates is significantly slower than consecutive dates.\n",
      "2025-06-09 16:55:58,990 INFO status has been updated to successful\n"
     ]
    },
    {
     "data": {
      "application/vnd.jupyter.widget-view+json": {
       "model_id": "",
       "version_major": 2,
       "version_minor": 0
      },
      "text/plain": [
       "eee6a99ef8e07c430e9e706811f6187f.nc:   0%|          | 0.00/184k [00:00<?, ?B/s]"
      ]
     },
     "metadata": {},
     "output_type": "display_data"
    },
    {
     "name": "stderr",
     "output_type": "stream",
     "text": [
      "2025-06-09 16:56:02,285 WARNING [2025-02-12T00:00:00] Requests for non-consecutive date ranges combined with non-UTC time-zones may contain undersampled data points for the dates before and after the gap in the date range. See known-issues table on documentation tab for more details.\n",
      "2025-06-09 16:56:02,286 INFO Request ID is aeb5217b-74b1-40d9-a659-0b42a58ad2f4\n",
      "2025-06-09 16:56:02,487 INFO status has been updated to accepted\n",
      "2025-06-09 16:57:57,897 INFO status has been updated to running\n",
      "2025-06-09 16:58:56,104 WARNING Please note that for the daily statistics datasets selection of non-consecutive dates is significantly slower than consecutive dates.\n",
      "2025-06-09 17:00:23,136 INFO status has been updated to successful\n"
     ]
    },
    {
     "data": {
      "application/vnd.jupyter.widget-view+json": {
       "model_id": "",
       "version_major": 2,
       "version_minor": 0
      },
      "text/plain": [
       "5397a90ed189b65ad3d169a0dba1c21b.nc:   0%|          | 0.00/183k [00:00<?, ?B/s]"
      ]
     },
     "metadata": {},
     "output_type": "display_data"
    },
    {
     "name": "stderr",
     "output_type": "stream",
     "text": [
      "2025-06-09 17:00:26,317 WARNING [2025-02-12T00:00:00] Requests for non-consecutive date ranges combined with non-UTC time-zones may contain undersampled data points for the dates before and after the gap in the date range. See known-issues table on documentation tab for more details.\n",
      "2025-06-09 17:00:26,318 INFO Request ID is 1057e6de-e432-49f2-bf65-63afb3df50c7\n",
      "2025-06-09 17:00:26,520 INFO status has been updated to accepted\n",
      "2025-06-09 17:00:48,784 INFO status has been updated to running\n",
      "2025-06-09 17:02:22,158 WARNING Please note that for the daily statistics datasets selection of non-consecutive dates is significantly slower than consecutive dates.\n",
      "2025-06-09 17:02:22,159 INFO status has been updated to successful\n"
     ]
    },
    {
     "data": {
      "application/vnd.jupyter.widget-view+json": {
       "model_id": "",
       "version_major": 2,
       "version_minor": 0
      },
      "text/plain": [
       "6ec55d97030d7e47c9f2d4fd0a2cb83e.nc:   0%|          | 0.00/183k [00:00<?, ?B/s]"
      ]
     },
     "metadata": {},
     "output_type": "display_data"
    },
    {
     "name": "stderr",
     "output_type": "stream",
     "text": [
      "2025-06-09 17:02:25,031 WARNING [2025-02-12T00:00:00] Requests for non-consecutive date ranges combined with non-UTC time-zones may contain undersampled data points for the dates before and after the gap in the date range. See known-issues table on documentation tab for more details.\n",
      "2025-06-09 17:02:25,032 INFO Request ID is 97efa543-6f6b-43ac-af3a-60e7995c522f\n",
      "2025-06-09 17:02:25,219 INFO status has been updated to accepted\n",
      "2025-06-09 17:03:16,611 INFO status has been updated to running\n",
      "2025-06-09 17:04:21,484 WARNING Please note that for the daily statistics datasets selection of non-consecutive dates is significantly slower than consecutive dates.\n",
      "2025-06-09 17:04:21,485 INFO status has been updated to successful\n"
     ]
    },
    {
     "data": {
      "application/vnd.jupyter.widget-view+json": {
       "model_id": "",
       "version_major": 2,
       "version_minor": 0
      },
      "text/plain": [
       "8ba4fc4c7ab722a4bbc0a638869a20de.nc:   0%|          | 0.00/182k [00:00<?, ?B/s]"
      ]
     },
     "metadata": {},
     "output_type": "display_data"
    },
    {
     "name": "stderr",
     "output_type": "stream",
     "text": [
      "2025-06-09 17:04:25,452 WARNING [2025-02-12T00:00:00] Requests for non-consecutive date ranges combined with non-UTC time-zones may contain undersampled data points for the dates before and after the gap in the date range. See known-issues table on documentation tab for more details.\n",
      "2025-06-09 17:04:25,453 INFO Request ID is ec28c1ae-846d-49f9-abd8-4162944fc414\n",
      "2025-06-09 17:04:25,664 INFO status has been updated to accepted\n",
      "2025-06-09 17:05:42,691 INFO status has been updated to running\n",
      "2025-06-09 17:07:19,570 WARNING Please note that for the daily statistics datasets selection of non-consecutive dates is significantly slower than consecutive dates.\n",
      "2025-06-09 17:07:19,571 INFO status has been updated to successful\n"
     ]
    },
    {
     "data": {
      "application/vnd.jupyter.widget-view+json": {
       "model_id": "",
       "version_major": 2,
       "version_minor": 0
      },
      "text/plain": [
       "ccc49b97cefd2d57d02a3b1b59fb4ee7.nc:   0%|          | 0.00/184k [00:00<?, ?B/s]"
      ]
     },
     "metadata": {},
     "output_type": "display_data"
    },
    {
     "name": "stderr",
     "output_type": "stream",
     "text": [
      "2025-06-09 17:07:22,531 WARNING [2025-02-12T00:00:00] Requests for non-consecutive date ranges combined with non-UTC time-zones may contain undersampled data points for the dates before and after the gap in the date range. See known-issues table on documentation tab for more details.\n",
      "2025-06-09 17:07:22,531 INFO Request ID is bb116c4a-5af9-4a85-88f5-42b448fd9282\n",
      "2025-06-09 17:07:22,728 INFO status has been updated to accepted\n",
      "2025-06-09 17:07:56,347 INFO status has been updated to running\n",
      "2025-06-09 17:09:18,594 WARNING Please note that for the daily statistics datasets selection of non-consecutive dates is significantly slower than consecutive dates.\n",
      "2025-06-09 17:09:18,595 INFO status has been updated to successful\n"
     ]
    },
    {
     "data": {
      "application/vnd.jupyter.widget-view+json": {
       "model_id": "",
       "version_major": 2,
       "version_minor": 0
      },
      "text/plain": [
       "c923f9ddc1c192848e57e630823d5c9f.nc:   0%|          | 0.00/182k [00:00<?, ?B/s]"
      ]
     },
     "metadata": {},
     "output_type": "display_data"
    },
    {
     "name": "stderr",
     "output_type": "stream",
     "text": [
      "2025-06-09 17:09:21,788 WARNING [2025-02-12T00:00:00] Requests for non-consecutive date ranges combined with non-UTC time-zones may contain undersampled data points for the dates before and after the gap in the date range. See known-issues table on documentation tab for more details.\n",
      "2025-06-09 17:09:21,789 INFO Request ID is ba4201cd-0814-4cf0-b6f6-314de0e768b0\n",
      "2025-06-09 17:09:21,990 INFO status has been updated to accepted\n",
      "2025-06-09 17:10:13,296 INFO status has been updated to running\n",
      "2025-06-09 17:11:17,797 WARNING Please note that for the daily statistics datasets selection of non-consecutive dates is significantly slower than consecutive dates.\n",
      "2025-06-09 17:11:17,797 INFO status has been updated to successful\n"
     ]
    },
    {
     "data": {
      "application/vnd.jupyter.widget-view+json": {
       "model_id": "",
       "version_major": 2,
       "version_minor": 0
      },
      "text/plain": [
       "c6d948f620c25f0fb7f449ee46196e5b.nc:   0%|          | 0.00/182k [00:00<?, ?B/s]"
      ]
     },
     "metadata": {},
     "output_type": "display_data"
    },
    {
     "name": "stderr",
     "output_type": "stream",
     "text": [
      "2025-06-09 17:11:21,001 WARNING [2025-02-12T00:00:00] Requests for non-consecutive date ranges combined with non-UTC time-zones may contain undersampled data points for the dates before and after the gap in the date range. See known-issues table on documentation tab for more details.\n",
      "2025-06-09 17:11:21,002 INFO Request ID is 6f0eea0d-59cc-402d-adfd-ddd53016d9bf\n",
      "2025-06-09 17:11:21,193 INFO status has been updated to accepted\n",
      "2025-06-09 17:11:35,853 INFO status has been updated to running\n",
      "2025-06-09 17:12:38,484 WARNING Please note that for the daily statistics datasets selection of non-consecutive dates is significantly slower than consecutive dates.\n",
      "2025-06-09 17:13:17,112 INFO status has been updated to successful\n"
     ]
    },
    {
     "data": {
      "application/vnd.jupyter.widget-view+json": {
       "model_id": "",
       "version_major": 2,
       "version_minor": 0
      },
      "text/plain": [
       "e15b34384086065dde72a680ec06e9bf.nc:   0%|          | 0.00/183k [00:00<?, ?B/s]"
      ]
     },
     "metadata": {},
     "output_type": "display_data"
    },
    {
     "name": "stderr",
     "output_type": "stream",
     "text": [
      "2025-06-09 17:13:20,191 WARNING [2025-02-12T00:00:00] Requests for non-consecutive date ranges combined with non-UTC time-zones may contain undersampled data points for the dates before and after the gap in the date range. See known-issues table on documentation tab for more details.\n",
      "2025-06-09 17:13:20,191 INFO Request ID is e4c128b0-a6d3-45e5-a75b-1b3deb908c34\n",
      "2025-06-09 17:13:20,568 INFO status has been updated to accepted\n",
      "2025-06-09 17:13:54,090 INFO status has been updated to running\n",
      "2025-06-09 17:15:15,840 WARNING Please note that for the daily statistics datasets selection of non-consecutive dates is significantly slower than consecutive dates.\n",
      "2025-06-09 17:15:15,840 INFO status has been updated to successful\n"
     ]
    },
    {
     "data": {
      "application/vnd.jupyter.widget-view+json": {
       "model_id": "",
       "version_major": 2,
       "version_minor": 0
      },
      "text/plain": [
       "7518b6046be8ce4f725e6b0c3fc003fe.nc:   0%|          | 0.00/183k [00:00<?, ?B/s]"
      ]
     },
     "metadata": {},
     "output_type": "display_data"
    },
    {
     "name": "stderr",
     "output_type": "stream",
     "text": [
      "2025-06-09 17:15:19,500 WARNING [2025-02-12T00:00:00] Requests for non-consecutive date ranges combined with non-UTC time-zones may contain undersampled data points for the dates before and after the gap in the date range. See known-issues table on documentation tab for more details.\n",
      "2025-06-09 17:15:19,501 INFO Request ID is d5b80f16-20f2-46fa-ba2b-2e44ea506485\n",
      "2025-06-09 17:15:19,756 INFO status has been updated to accepted\n",
      "2025-06-09 17:16:10,775 INFO status has been updated to running\n",
      "2025-06-09 17:17:15,481 WARNING Please note that for the daily statistics datasets selection of non-consecutive dates is significantly slower than consecutive dates.\n",
      "2025-06-09 17:17:15,482 INFO status has been updated to successful\n"
     ]
    },
    {
     "data": {
      "application/vnd.jupyter.widget-view+json": {
       "model_id": "",
       "version_major": 2,
       "version_minor": 0
      },
      "text/plain": [
       "ce6c78c264dfc373d75231d953ae794e.nc:   0%|          | 0.00/182k [00:00<?, ?B/s]"
      ]
     },
     "metadata": {},
     "output_type": "display_data"
    },
    {
     "name": "stderr",
     "output_type": "stream",
     "text": [
      "2025-06-09 17:17:18,718 WARNING [2025-02-12T00:00:00] Requests for non-consecutive date ranges combined with non-UTC time-zones may contain undersampled data points for the dates before and after the gap in the date range. See known-issues table on documentation tab for more details.\n",
      "2025-06-09 17:17:18,720 INFO Request ID is 599bab88-858a-42c6-b3ea-0bd0b5770368\n",
      "2025-06-09 17:17:18,922 INFO status has been updated to accepted\n",
      "2025-06-09 17:17:41,792 INFO status has been updated to running\n",
      "2025-06-09 17:18:36,620 WARNING Please note that for the daily statistics datasets selection of non-consecutive dates is significantly slower than consecutive dates.\n",
      "2025-06-09 17:18:36,621 INFO status has been updated to successful\n"
     ]
    },
    {
     "data": {
      "application/vnd.jupyter.widget-view+json": {
       "model_id": "",
       "version_major": 2,
       "version_minor": 0
      },
      "text/plain": [
       "ea8216e5b6257ec98306d5cecec8d2b3.nc:   0%|          | 0.00/181k [00:00<?, ?B/s]"
      ]
     },
     "metadata": {},
     "output_type": "display_data"
    },
    {
     "name": "stderr",
     "output_type": "stream",
     "text": [
      "2025-06-09 17:18:40,494 WARNING [2025-02-12T00:00:00] Requests for non-consecutive date ranges combined with non-UTC time-zones may contain undersampled data points for the dates before and after the gap in the date range. See known-issues table on documentation tab for more details.\n",
      "2025-06-09 17:18:40,498 INFO Request ID is 2ba3b772-c3b9-4c22-a37f-f123e20ee4a3\n",
      "2025-06-09 17:18:40,688 INFO status has been updated to accepted\n",
      "2025-06-09 17:19:57,436 INFO status has been updated to running\n",
      "2025-06-09 17:21:34,390 WARNING Please note that for the daily statistics datasets selection of non-consecutive dates is significantly slower than consecutive dates.\n",
      "2025-06-09 17:23:01,488 INFO status has been updated to successful\n"
     ]
    },
    {
     "data": {
      "application/vnd.jupyter.widget-view+json": {
       "model_id": "",
       "version_major": 2,
       "version_minor": 0
      },
      "text/plain": [
       "c6d98b5c1aadb79964876d179a12c09b.nc:   0%|          | 0.00/182k [00:00<?, ?B/s]"
      ]
     },
     "metadata": {},
     "output_type": "display_data"
    },
    {
     "name": "stderr",
     "output_type": "stream",
     "text": [
      "2025-06-09 17:23:04,544 WARNING [2025-02-12T00:00:00] Requests for non-consecutive date ranges combined with non-UTC time-zones may contain undersampled data points for the dates before and after the gap in the date range. See known-issues table on documentation tab for more details.\n",
      "2025-06-09 17:23:04,545 INFO Request ID is c6cb389c-d3fb-4e38-a3a2-27c960a0d95d\n",
      "2025-06-09 17:23:04,748 INFO status has been updated to accepted\n",
      "2025-06-09 17:23:55,913 INFO status has been updated to running\n",
      "2025-06-09 17:25:00,414 WARNING Please note that for the daily statistics datasets selection of non-consecutive dates is significantly slower than consecutive dates.\n",
      "2025-06-09 17:25:00,415 INFO status has been updated to successful\n"
     ]
    },
    {
     "data": {
      "application/vnd.jupyter.widget-view+json": {
       "model_id": "",
       "version_major": 2,
       "version_minor": 0
      },
      "text/plain": [
       "ba30a7eb1d5549fa561702e2ea3314e8.nc:   0%|          | 0.00/183k [00:00<?, ?B/s]"
      ]
     },
     "metadata": {},
     "output_type": "display_data"
    },
    {
     "name": "stderr",
     "output_type": "stream",
     "text": [
      "2025-06-09 17:25:03,400 WARNING [2025-02-12T00:00:00] Requests for non-consecutive date ranges combined with non-UTC time-zones may contain undersampled data points for the dates before and after the gap in the date range. See known-issues table on documentation tab for more details.\n",
      "2025-06-09 17:25:03,400 INFO Request ID is e2a851c0-a6cb-4bcd-96f2-d32d5d19b266\n",
      "2025-06-09 17:25:03,599 INFO status has been updated to accepted\n",
      "2025-06-09 17:29:24,388 INFO status has been updated to running\n",
      "2025-06-09 17:31:24,940 WARNING Please note that for the daily statistics datasets selection of non-consecutive dates is significantly slower than consecutive dates.\n",
      "2025-06-09 17:31:24,941 INFO status has been updated to successful\n"
     ]
    },
    {
     "data": {
      "application/vnd.jupyter.widget-view+json": {
       "model_id": "",
       "version_major": 2,
       "version_minor": 0
      },
      "text/plain": [
       "5c9d0c87dd828f331c4b97238eb8dceb.nc:   0%|          | 0.00/182k [00:00<?, ?B/s]"
      ]
     },
     "metadata": {},
     "output_type": "display_data"
    },
    {
     "name": "stderr",
     "output_type": "stream",
     "text": [
      "2025-06-09 17:31:27,946 WARNING [2025-02-12T00:00:00] Requests for non-consecutive date ranges combined with non-UTC time-zones may contain undersampled data points for the dates before and after the gap in the date range. See known-issues table on documentation tab for more details.\n",
      "2025-06-09 17:31:27,947 INFO Request ID is 238b09b8-d631-4ddd-998d-404e39793c1f\n",
      "2025-06-09 17:31:28,588 INFO status has been updated to accepted\n",
      "2025-06-09 17:32:02,666 INFO status has been updated to running\n",
      "2025-06-09 17:33:24,436 WARNING Please note that for the daily statistics datasets selection of non-consecutive dates is significantly slower than consecutive dates.\n",
      "2025-06-09 17:33:24,437 INFO status has been updated to successful\n"
     ]
    },
    {
     "data": {
      "application/vnd.jupyter.widget-view+json": {
       "model_id": "",
       "version_major": 2,
       "version_minor": 0
      },
      "text/plain": [
       "54500e915efd2905915f2edcf41bc3db.nc:   0%|          | 0.00/183k [00:00<?, ?B/s]"
      ]
     },
     "metadata": {},
     "output_type": "display_data"
    },
    {
     "name": "stderr",
     "output_type": "stream",
     "text": [
      "2025-06-09 17:33:27,427 WARNING [2025-02-12T00:00:00] Requests for non-consecutive date ranges combined with non-UTC time-zones may contain undersampled data points for the dates before and after the gap in the date range. See known-issues table on documentation tab for more details.\n",
      "2025-06-09 17:33:27,428 INFO Request ID is 70e6922d-0ab8-45fa-b6e1-b8d17e60f8bd\n",
      "2025-06-09 17:33:27,666 INFO status has been updated to accepted\n",
      "2025-06-09 17:34:44,421 INFO status has been updated to running\n",
      "2025-06-09 17:35:23,094 WARNING Please note that for the daily statistics datasets selection of non-consecutive dates is significantly slower than consecutive dates.\n",
      "2025-06-09 17:36:21,667 INFO status has been updated to successful\n"
     ]
    },
    {
     "data": {
      "application/vnd.jupyter.widget-view+json": {
       "model_id": "",
       "version_major": 2,
       "version_minor": 0
      },
      "text/plain": [
       "f6f8219a2bb072363db49b1672cbf6f0.nc:   0%|          | 0.00/182k [00:00<?, ?B/s]"
      ]
     },
     "metadata": {},
     "output_type": "display_data"
    },
    {
     "name": "stderr",
     "output_type": "stream",
     "text": [
      "2025-06-09 17:36:24,565 WARNING [2025-02-12T00:00:00] Requests for non-consecutive date ranges combined with non-UTC time-zones may contain undersampled data points for the dates before and after the gap in the date range. See known-issues table on documentation tab for more details.\n",
      "2025-06-09 17:36:24,566 INFO Request ID is 5dded823-f859-41ba-9e78-4fb6a289f39c\n",
      "2025-06-09 17:36:24,796 INFO status has been updated to accepted\n",
      "2025-06-09 17:37:15,688 INFO status has been updated to running\n",
      "2025-06-09 17:38:20,196 WARNING Please note that for the daily statistics datasets selection of non-consecutive dates is significantly slower than consecutive dates.\n",
      "2025-06-09 17:38:20,197 INFO status has been updated to successful\n"
     ]
    },
    {
     "data": {
      "application/vnd.jupyter.widget-view+json": {
       "model_id": "",
       "version_major": 2,
       "version_minor": 0
      },
      "text/plain": [
       "ebd39973868b03d1da3705933b77ca6f.nc:   0%|          | 0.00/183k [00:00<?, ?B/s]"
      ]
     },
     "metadata": {},
     "output_type": "display_data"
    }
   ],
   "source": [
    "\n",
    "\n",
    "for var in variables:\n",
    "    \n",
    "    for year in years:\n",
    "\n",
    "        dataset = \"derived-era5-single-levels-daily-statistics\"\n",
    "        request = {\n",
    "            \"product_type\": \"reanalysis\",\n",
    "            \"variable\": [\n",
    "                var,\n",
    "            ],\n",
    "            \"year\": f\"{year}\",\n",
    "            \"month\": [\n",
    "                \"01\", \"02\", \"03\",\n",
    "                \"04\", \"12\"\n",
    "            ],\n",
    "            \"day\": [\n",
    "                \"01\", \"02\", \"03\",\n",
    "                \"04\", \"05\", \"06\",\n",
    "                \"07\", \"08\", \"09\",\n",
    "                \"10\", \"11\", \"12\",\n",
    "                \"13\", \"14\", \"15\",\n",
    "                \"16\", \"17\", \"18\",\n",
    "                \"19\", \"20\", \"21\",\n",
    "                \"22\", \"23\", \"24\",\n",
    "                \"25\", \"26\", \"27\",\n",
    "                \"28\", \"29\", \"30\",\n",
    "                \"31\"\n",
    "            ],\n",
    "            \"daily_statistic\": \"daily_mean\",\n",
    "            \"time_zone\": \"utc+00:00\",\n",
    "            \"frequency\": \"6_hourly\",\n",
    "            \"area\": [72, -150, 69.25, -137.5], \n",
    "            'data_format': 'netcdf_legacy'\n",
    "        }\n",
    "\n",
    "        target = f'/Volumes/Seagate_Jewell/KenzieStuff/ERA5/dailyQ/{year}_{var}.nc'\n",
    "\n",
    "        client.retrieve(dataset, request, target)\n"
   ]
  },
  {
   "cell_type": "code",
   "execution_count": 65,
   "id": "273f03f5",
   "metadata": {},
   "outputs": [
    {
     "data": {
      "text/html": [
       "<div><svg style=\"position: absolute; width: 0; height: 0; overflow: hidden\">\n",
       "<defs>\n",
       "<symbol id=\"icon-database\" viewBox=\"0 0 32 32\">\n",
       "<path d=\"M16 0c-8.837 0-16 2.239-16 5v4c0 2.761 7.163 5 16 5s16-2.239 16-5v-4c0-2.761-7.163-5-16-5z\"></path>\n",
       "<path d=\"M16 17c-8.837 0-16-2.239-16-5v6c0 2.761 7.163 5 16 5s16-2.239 16-5v-6c0 2.761-7.163 5-16 5z\"></path>\n",
       "<path d=\"M16 26c-8.837 0-16-2.239-16-5v6c0 2.761 7.163 5 16 5s16-2.239 16-5v-6c0 2.761-7.163 5-16 5z\"></path>\n",
       "</symbol>\n",
       "<symbol id=\"icon-file-text2\" viewBox=\"0 0 32 32\">\n",
       "<path d=\"M28.681 7.159c-0.694-0.947-1.662-2.053-2.724-3.116s-2.169-2.030-3.116-2.724c-1.612-1.182-2.393-1.319-2.841-1.319h-15.5c-1.378 0-2.5 1.121-2.5 2.5v27c0 1.378 1.122 2.5 2.5 2.5h23c1.378 0 2.5-1.122 2.5-2.5v-19.5c0-0.448-0.137-1.23-1.319-2.841zM24.543 5.457c0.959 0.959 1.712 1.825 2.268 2.543h-4.811v-4.811c0.718 0.556 1.584 1.309 2.543 2.268zM28 29.5c0 0.271-0.229 0.5-0.5 0.5h-23c-0.271 0-0.5-0.229-0.5-0.5v-27c0-0.271 0.229-0.5 0.5-0.5 0 0 15.499-0 15.5 0v7c0 0.552 0.448 1 1 1h7v19.5z\"></path>\n",
       "<path d=\"M23 26h-14c-0.552 0-1-0.448-1-1s0.448-1 1-1h14c0.552 0 1 0.448 1 1s-0.448 1-1 1z\"></path>\n",
       "<path d=\"M23 22h-14c-0.552 0-1-0.448-1-1s0.448-1 1-1h14c0.552 0 1 0.448 1 1s-0.448 1-1 1z\"></path>\n",
       "<path d=\"M23 18h-14c-0.552 0-1-0.448-1-1s0.448-1 1-1h14c0.552 0 1 0.448 1 1s-0.448 1-1 1z\"></path>\n",
       "</symbol>\n",
       "</defs>\n",
       "</svg>\n",
       "<style>/* CSS stylesheet for displaying xarray objects in jupyterlab.\n",
       " *\n",
       " */\n",
       "\n",
       ":root {\n",
       "  --xr-font-color0: var(--jp-content-font-color0, rgba(0, 0, 0, 1));\n",
       "  --xr-font-color2: var(--jp-content-font-color2, rgba(0, 0, 0, 0.54));\n",
       "  --xr-font-color3: var(--jp-content-font-color3, rgba(0, 0, 0, 0.38));\n",
       "  --xr-border-color: var(--jp-border-color2, #e0e0e0);\n",
       "  --xr-disabled-color: var(--jp-layout-color3, #bdbdbd);\n",
       "  --xr-background-color: var(--jp-layout-color0, white);\n",
       "  --xr-background-color-row-even: var(--jp-layout-color1, white);\n",
       "  --xr-background-color-row-odd: var(--jp-layout-color2, #eeeeee);\n",
       "}\n",
       "\n",
       "html[theme=dark],\n",
       "body[data-theme=dark],\n",
       "body.vscode-dark {\n",
       "  --xr-font-color0: rgba(255, 255, 255, 1);\n",
       "  --xr-font-color2: rgba(255, 255, 255, 0.54);\n",
       "  --xr-font-color3: rgba(255, 255, 255, 0.38);\n",
       "  --xr-border-color: #1F1F1F;\n",
       "  --xr-disabled-color: #515151;\n",
       "  --xr-background-color: #111111;\n",
       "  --xr-background-color-row-even: #111111;\n",
       "  --xr-background-color-row-odd: #313131;\n",
       "}\n",
       "\n",
       ".xr-wrap {\n",
       "  display: block !important;\n",
       "  min-width: 300px;\n",
       "  max-width: 700px;\n",
       "}\n",
       "\n",
       ".xr-text-repr-fallback {\n",
       "  /* fallback to plain text repr when CSS is not injected (untrusted notebook) */\n",
       "  display: none;\n",
       "}\n",
       "\n",
       ".xr-header {\n",
       "  padding-top: 6px;\n",
       "  padding-bottom: 6px;\n",
       "  margin-bottom: 4px;\n",
       "  border-bottom: solid 1px var(--xr-border-color);\n",
       "}\n",
       "\n",
       ".xr-header > div,\n",
       ".xr-header > ul {\n",
       "  display: inline;\n",
       "  margin-top: 0;\n",
       "  margin-bottom: 0;\n",
       "}\n",
       "\n",
       ".xr-obj-type,\n",
       ".xr-array-name {\n",
       "  margin-left: 2px;\n",
       "  margin-right: 10px;\n",
       "}\n",
       "\n",
       ".xr-obj-type {\n",
       "  color: var(--xr-font-color2);\n",
       "}\n",
       "\n",
       ".xr-sections {\n",
       "  padding-left: 0 !important;\n",
       "  display: grid;\n",
       "  grid-template-columns: 150px auto auto 1fr 20px 20px;\n",
       "}\n",
       "\n",
       ".xr-section-item {\n",
       "  display: contents;\n",
       "}\n",
       "\n",
       ".xr-section-item input {\n",
       "  display: none;\n",
       "}\n",
       "\n",
       ".xr-section-item input + label {\n",
       "  color: var(--xr-disabled-color);\n",
       "}\n",
       "\n",
       ".xr-section-item input:enabled + label {\n",
       "  cursor: pointer;\n",
       "  color: var(--xr-font-color2);\n",
       "}\n",
       "\n",
       ".xr-section-item input:enabled + label:hover {\n",
       "  color: var(--xr-font-color0);\n",
       "}\n",
       "\n",
       ".xr-section-summary {\n",
       "  grid-column: 1;\n",
       "  color: var(--xr-font-color2);\n",
       "  font-weight: 500;\n",
       "}\n",
       "\n",
       ".xr-section-summary > span {\n",
       "  display: inline-block;\n",
       "  padding-left: 0.5em;\n",
       "}\n",
       "\n",
       ".xr-section-summary-in:disabled + label {\n",
       "  color: var(--xr-font-color2);\n",
       "}\n",
       "\n",
       ".xr-section-summary-in + label:before {\n",
       "  display: inline-block;\n",
       "  content: '►';\n",
       "  font-size: 11px;\n",
       "  width: 15px;\n",
       "  text-align: center;\n",
       "}\n",
       "\n",
       ".xr-section-summary-in:disabled + label:before {\n",
       "  color: var(--xr-disabled-color);\n",
       "}\n",
       "\n",
       ".xr-section-summary-in:checked + label:before {\n",
       "  content: '▼';\n",
       "}\n",
       "\n",
       ".xr-section-summary-in:checked + label > span {\n",
       "  display: none;\n",
       "}\n",
       "\n",
       ".xr-section-summary,\n",
       ".xr-section-inline-details {\n",
       "  padding-top: 4px;\n",
       "  padding-bottom: 4px;\n",
       "}\n",
       "\n",
       ".xr-section-inline-details {\n",
       "  grid-column: 2 / -1;\n",
       "}\n",
       "\n",
       ".xr-section-details {\n",
       "  display: none;\n",
       "  grid-column: 1 / -1;\n",
       "  margin-bottom: 5px;\n",
       "}\n",
       "\n",
       ".xr-section-summary-in:checked ~ .xr-section-details {\n",
       "  display: contents;\n",
       "}\n",
       "\n",
       ".xr-array-wrap {\n",
       "  grid-column: 1 / -1;\n",
       "  display: grid;\n",
       "  grid-template-columns: 20px auto;\n",
       "}\n",
       "\n",
       ".xr-array-wrap > label {\n",
       "  grid-column: 1;\n",
       "  vertical-align: top;\n",
       "}\n",
       "\n",
       ".xr-preview {\n",
       "  color: var(--xr-font-color3);\n",
       "}\n",
       "\n",
       ".xr-array-preview,\n",
       ".xr-array-data {\n",
       "  padding: 0 5px !important;\n",
       "  grid-column: 2;\n",
       "}\n",
       "\n",
       ".xr-array-data,\n",
       ".xr-array-in:checked ~ .xr-array-preview {\n",
       "  display: none;\n",
       "}\n",
       "\n",
       ".xr-array-in:checked ~ .xr-array-data,\n",
       ".xr-array-preview {\n",
       "  display: inline-block;\n",
       "}\n",
       "\n",
       ".xr-dim-list {\n",
       "  display: inline-block !important;\n",
       "  list-style: none;\n",
       "  padding: 0 !important;\n",
       "  margin: 0;\n",
       "}\n",
       "\n",
       ".xr-dim-list li {\n",
       "  display: inline-block;\n",
       "  padding: 0;\n",
       "  margin: 0;\n",
       "}\n",
       "\n",
       ".xr-dim-list:before {\n",
       "  content: '(';\n",
       "}\n",
       "\n",
       ".xr-dim-list:after {\n",
       "  content: ')';\n",
       "}\n",
       "\n",
       ".xr-dim-list li:not(:last-child):after {\n",
       "  content: ',';\n",
       "  padding-right: 5px;\n",
       "}\n",
       "\n",
       ".xr-has-index {\n",
       "  font-weight: bold;\n",
       "}\n",
       "\n",
       ".xr-var-list,\n",
       ".xr-var-item {\n",
       "  display: contents;\n",
       "}\n",
       "\n",
       ".xr-var-item > div,\n",
       ".xr-var-item label,\n",
       ".xr-var-item > .xr-var-name span {\n",
       "  background-color: var(--xr-background-color-row-even);\n",
       "  margin-bottom: 0;\n",
       "}\n",
       "\n",
       ".xr-var-item > .xr-var-name:hover span {\n",
       "  padding-right: 5px;\n",
       "}\n",
       "\n",
       ".xr-var-list > li:nth-child(odd) > div,\n",
       ".xr-var-list > li:nth-child(odd) > label,\n",
       ".xr-var-list > li:nth-child(odd) > .xr-var-name span {\n",
       "  background-color: var(--xr-background-color-row-odd);\n",
       "}\n",
       "\n",
       ".xr-var-name {\n",
       "  grid-column: 1;\n",
       "}\n",
       "\n",
       ".xr-var-dims {\n",
       "  grid-column: 2;\n",
       "}\n",
       "\n",
       ".xr-var-dtype {\n",
       "  grid-column: 3;\n",
       "  text-align: right;\n",
       "  color: var(--xr-font-color2);\n",
       "}\n",
       "\n",
       ".xr-var-preview {\n",
       "  grid-column: 4;\n",
       "}\n",
       "\n",
       ".xr-index-preview {\n",
       "  grid-column: 2 / 5;\n",
       "  color: var(--xr-font-color2);\n",
       "}\n",
       "\n",
       ".xr-var-name,\n",
       ".xr-var-dims,\n",
       ".xr-var-dtype,\n",
       ".xr-preview,\n",
       ".xr-attrs dt {\n",
       "  white-space: nowrap;\n",
       "  overflow: hidden;\n",
       "  text-overflow: ellipsis;\n",
       "  padding-right: 10px;\n",
       "}\n",
       "\n",
       ".xr-var-name:hover,\n",
       ".xr-var-dims:hover,\n",
       ".xr-var-dtype:hover,\n",
       ".xr-attrs dt:hover {\n",
       "  overflow: visible;\n",
       "  width: auto;\n",
       "  z-index: 1;\n",
       "}\n",
       "\n",
       ".xr-var-attrs,\n",
       ".xr-var-data,\n",
       ".xr-index-data {\n",
       "  display: none;\n",
       "  background-color: var(--xr-background-color) !important;\n",
       "  padding-bottom: 5px !important;\n",
       "}\n",
       "\n",
       ".xr-var-attrs-in:checked ~ .xr-var-attrs,\n",
       ".xr-var-data-in:checked ~ .xr-var-data,\n",
       ".xr-index-data-in:checked ~ .xr-index-data {\n",
       "  display: block;\n",
       "}\n",
       "\n",
       ".xr-var-data > table {\n",
       "  float: right;\n",
       "}\n",
       "\n",
       ".xr-var-name span,\n",
       ".xr-var-data,\n",
       ".xr-index-name div,\n",
       ".xr-index-data,\n",
       ".xr-attrs {\n",
       "  padding-left: 25px !important;\n",
       "}\n",
       "\n",
       ".xr-attrs,\n",
       ".xr-var-attrs,\n",
       ".xr-var-data,\n",
       ".xr-index-data {\n",
       "  grid-column: 1 / -1;\n",
       "}\n",
       "\n",
       "dl.xr-attrs {\n",
       "  padding: 0;\n",
       "  margin: 0;\n",
       "  display: grid;\n",
       "  grid-template-columns: 125px auto;\n",
       "}\n",
       "\n",
       ".xr-attrs dt,\n",
       ".xr-attrs dd {\n",
       "  padding: 0;\n",
       "  margin: 0;\n",
       "  float: left;\n",
       "  padding-right: 10px;\n",
       "  width: auto;\n",
       "}\n",
       "\n",
       ".xr-attrs dt {\n",
       "  font-weight: normal;\n",
       "  grid-column: 1;\n",
       "}\n",
       "\n",
       ".xr-attrs dt:hover span {\n",
       "  display: inline-block;\n",
       "  background: var(--xr-background-color);\n",
       "  padding-right: 10px;\n",
       "}\n",
       "\n",
       ".xr-attrs dd {\n",
       "  grid-column: 2;\n",
       "  white-space: pre-wrap;\n",
       "  word-break: break-all;\n",
       "}\n",
       "\n",
       ".xr-icon-database,\n",
       ".xr-icon-file-text2,\n",
       ".xr-no-icon {\n",
       "  display: inline-block;\n",
       "  vertical-align: middle;\n",
       "  width: 1em;\n",
       "  height: 1.5em !important;\n",
       "  stroke-width: 0;\n",
       "  stroke: currentColor;\n",
       "  fill: currentColor;\n",
       "}\n",
       "</style><pre class='xr-text-repr-fallback'>&lt;xarray.Dataset&gt;\n",
       "Dimensions:     (latitude: 12, longitude: 51, valid_time: 152)\n",
       "Coordinates:\n",
       "  * latitude    (latitude) float64 72.0 71.75 71.5 71.25 ... 69.75 69.5 69.25\n",
       "  * longitude   (longitude) float64 -150.0 -149.8 -149.5 ... -137.8 -137.5\n",
       "  * valid_time  (valid_time) datetime64[ns] 2024-01-01 2024-01-02 ... 2024-12-31\n",
       "    number      int64 ...\n",
       "Data variables:\n",
       "    strd        (valid_time, latitude, longitude) float32 ...\n",
       "Attributes:\n",
       "    GRIB_centre:             ecmf\n",
       "    GRIB_centreDescription:  European Centre for Medium-Range Weather Forecasts\n",
       "    GRIB_subCentre:          0\n",
       "    Conventions:             CF-1.7\n",
       "    institution:             European Centre for Medium-Range Weather Forecasts\n",
       "    history:                 2025-06-10T00:37 GRIB to CDM+CF via cfgrib-0.9.1...</pre><div class='xr-wrap' style='display:none'><div class='xr-header'><div class='xr-obj-type'>xarray.Dataset</div></div><ul class='xr-sections'><li class='xr-section-item'><input id='section-92d50d3d-64e2-4148-9753-51d21fb1645d' class='xr-section-summary-in' type='checkbox' disabled ><label for='section-92d50d3d-64e2-4148-9753-51d21fb1645d' class='xr-section-summary'  title='Expand/collapse section'>Dimensions:</label><div class='xr-section-inline-details'><ul class='xr-dim-list'><li><span class='xr-has-index'>latitude</span>: 12</li><li><span class='xr-has-index'>longitude</span>: 51</li><li><span class='xr-has-index'>valid_time</span>: 152</li></ul></div><div class='xr-section-details'></div></li><li class='xr-section-item'><input id='section-cddd2c29-3794-4fae-bba6-326ad62f14cc' class='xr-section-summary-in' type='checkbox'  checked><label for='section-cddd2c29-3794-4fae-bba6-326ad62f14cc' class='xr-section-summary' >Coordinates: <span>(4)</span></label><div class='xr-section-inline-details'></div><div class='xr-section-details'><ul class='xr-var-list'><li class='xr-var-item'><div class='xr-var-name'><span class='xr-has-index'>latitude</span></div><div class='xr-var-dims'>(latitude)</div><div class='xr-var-dtype'>float64</div><div class='xr-var-preview xr-preview'>72.0 71.75 71.5 ... 69.5 69.25</div><input id='attrs-458afc5d-5457-406d-a770-d54a29e8b27b' class='xr-var-attrs-in' type='checkbox' ><label for='attrs-458afc5d-5457-406d-a770-d54a29e8b27b' title='Show/Hide attributes'><svg class='icon xr-icon-file-text2'><use xlink:href='#icon-file-text2'></use></svg></label><input id='data-62e5dc3c-96bb-4076-98e7-a4a0e51e9bf3' class='xr-var-data-in' type='checkbox'><label for='data-62e5dc3c-96bb-4076-98e7-a4a0e51e9bf3' title='Show/Hide data repr'><svg class='icon xr-icon-database'><use xlink:href='#icon-database'></use></svg></label><div class='xr-var-attrs'><dl class='xr-attrs'><dt><span>units :</span></dt><dd>degrees_north</dd><dt><span>standard_name :</span></dt><dd>latitude</dd><dt><span>long_name :</span></dt><dd>latitude</dd><dt><span>stored_direction :</span></dt><dd>decreasing</dd></dl></div><div class='xr-var-data'><pre>array([72.  , 71.75, 71.5 , 71.25, 71.  , 70.75, 70.5 , 70.25, 70.  , 69.75,\n",
       "       69.5 , 69.25])</pre></div></li><li class='xr-var-item'><div class='xr-var-name'><span class='xr-has-index'>longitude</span></div><div class='xr-var-dims'>(longitude)</div><div class='xr-var-dtype'>float64</div><div class='xr-var-preview xr-preview'>-150.0 -149.8 ... -137.8 -137.5</div><input id='attrs-ecd5128a-e3f0-4734-bff7-dab385b3e1de' class='xr-var-attrs-in' type='checkbox' ><label for='attrs-ecd5128a-e3f0-4734-bff7-dab385b3e1de' title='Show/Hide attributes'><svg class='icon xr-icon-file-text2'><use xlink:href='#icon-file-text2'></use></svg></label><input id='data-a118f44c-65f5-44fe-af0b-5f2674b6fe1c' class='xr-var-data-in' type='checkbox'><label for='data-a118f44c-65f5-44fe-af0b-5f2674b6fe1c' title='Show/Hide data repr'><svg class='icon xr-icon-database'><use xlink:href='#icon-database'></use></svg></label><div class='xr-var-attrs'><dl class='xr-attrs'><dt><span>units :</span></dt><dd>degrees_east</dd><dt><span>standard_name :</span></dt><dd>longitude</dd><dt><span>long_name :</span></dt><dd>longitude</dd></dl></div><div class='xr-var-data'><pre>array([-150.  , -149.75, -149.5 , -149.25, -149.  , -148.75, -148.5 , -148.25,\n",
       "       -148.  , -147.75, -147.5 , -147.25, -147.  , -146.75, -146.5 , -146.25,\n",
       "       -146.  , -145.75, -145.5 , -145.25, -145.  , -144.75, -144.5 , -144.25,\n",
       "       -144.  , -143.75, -143.5 , -143.25, -143.  , -142.75, -142.5 , -142.25,\n",
       "       -142.  , -141.75, -141.5 , -141.25, -141.  , -140.75, -140.5 , -140.25,\n",
       "       -140.  , -139.75, -139.5 , -139.25, -139.  , -138.75, -138.5 , -138.25,\n",
       "       -138.  , -137.75, -137.5 ])</pre></div></li><li class='xr-var-item'><div class='xr-var-name'><span class='xr-has-index'>valid_time</span></div><div class='xr-var-dims'>(valid_time)</div><div class='xr-var-dtype'>datetime64[ns]</div><div class='xr-var-preview xr-preview'>2024-01-01 ... 2024-12-31</div><input id='attrs-a40b35ba-52bd-4f9c-a9c1-9f9f0b7c9bc3' class='xr-var-attrs-in' type='checkbox' ><label for='attrs-a40b35ba-52bd-4f9c-a9c1-9f9f0b7c9bc3' title='Show/Hide attributes'><svg class='icon xr-icon-file-text2'><use xlink:href='#icon-file-text2'></use></svg></label><input id='data-ad9d162b-2ea1-41ba-ac7d-a57430f1a448' class='xr-var-data-in' type='checkbox'><label for='data-ad9d162b-2ea1-41ba-ac7d-a57430f1a448' title='Show/Hide data repr'><svg class='icon xr-icon-database'><use xlink:href='#icon-database'></use></svg></label><div class='xr-var-attrs'><dl class='xr-attrs'><dt><span>time_shift :</span></dt><dd>-1 days +23:00:00</dd></dl></div><div class='xr-var-data'><pre>array([&#x27;2024-01-01T00:00:00.000000000&#x27;, &#x27;2024-01-02T00:00:00.000000000&#x27;,\n",
       "       &#x27;2024-01-03T00:00:00.000000000&#x27;, &#x27;2024-01-04T00:00:00.000000000&#x27;,\n",
       "       &#x27;2024-01-05T00:00:00.000000000&#x27;, &#x27;2024-01-06T00:00:00.000000000&#x27;,\n",
       "       &#x27;2024-01-07T00:00:00.000000000&#x27;, &#x27;2024-01-08T00:00:00.000000000&#x27;,\n",
       "       &#x27;2024-01-09T00:00:00.000000000&#x27;, &#x27;2024-01-10T00:00:00.000000000&#x27;,\n",
       "       &#x27;2024-01-11T00:00:00.000000000&#x27;, &#x27;2024-01-12T00:00:00.000000000&#x27;,\n",
       "       &#x27;2024-01-13T00:00:00.000000000&#x27;, &#x27;2024-01-14T00:00:00.000000000&#x27;,\n",
       "       &#x27;2024-01-15T00:00:00.000000000&#x27;, &#x27;2024-01-16T00:00:00.000000000&#x27;,\n",
       "       &#x27;2024-01-17T00:00:00.000000000&#x27;, &#x27;2024-01-18T00:00:00.000000000&#x27;,\n",
       "       &#x27;2024-01-19T00:00:00.000000000&#x27;, &#x27;2024-01-20T00:00:00.000000000&#x27;,\n",
       "       &#x27;2024-01-21T00:00:00.000000000&#x27;, &#x27;2024-01-22T00:00:00.000000000&#x27;,\n",
       "       &#x27;2024-01-23T00:00:00.000000000&#x27;, &#x27;2024-01-24T00:00:00.000000000&#x27;,\n",
       "       &#x27;2024-01-25T00:00:00.000000000&#x27;, &#x27;2024-01-26T00:00:00.000000000&#x27;,\n",
       "       &#x27;2024-01-27T00:00:00.000000000&#x27;, &#x27;2024-01-28T00:00:00.000000000&#x27;,\n",
       "       &#x27;2024-01-29T00:00:00.000000000&#x27;, &#x27;2024-01-30T00:00:00.000000000&#x27;,\n",
       "       &#x27;2024-01-31T00:00:00.000000000&#x27;, &#x27;2024-02-01T00:00:00.000000000&#x27;,\n",
       "       &#x27;2024-02-02T00:00:00.000000000&#x27;, &#x27;2024-02-03T00:00:00.000000000&#x27;,\n",
       "       &#x27;2024-02-04T00:00:00.000000000&#x27;, &#x27;2024-02-05T00:00:00.000000000&#x27;,\n",
       "       &#x27;2024-02-06T00:00:00.000000000&#x27;, &#x27;2024-02-07T00:00:00.000000000&#x27;,\n",
       "       &#x27;2024-02-08T00:00:00.000000000&#x27;, &#x27;2024-02-09T00:00:00.000000000&#x27;,\n",
       "       &#x27;2024-02-10T00:00:00.000000000&#x27;, &#x27;2024-02-11T00:00:00.000000000&#x27;,\n",
       "       &#x27;2024-02-12T00:00:00.000000000&#x27;, &#x27;2024-02-13T00:00:00.000000000&#x27;,\n",
       "       &#x27;2024-02-14T00:00:00.000000000&#x27;, &#x27;2024-02-15T00:00:00.000000000&#x27;,\n",
       "       &#x27;2024-02-16T00:00:00.000000000&#x27;, &#x27;2024-02-17T00:00:00.000000000&#x27;,\n",
       "       &#x27;2024-02-18T00:00:00.000000000&#x27;, &#x27;2024-02-19T00:00:00.000000000&#x27;,\n",
       "       &#x27;2024-02-20T00:00:00.000000000&#x27;, &#x27;2024-02-21T00:00:00.000000000&#x27;,\n",
       "       &#x27;2024-02-22T00:00:00.000000000&#x27;, &#x27;2024-02-23T00:00:00.000000000&#x27;,\n",
       "       &#x27;2024-02-24T00:00:00.000000000&#x27;, &#x27;2024-02-25T00:00:00.000000000&#x27;,\n",
       "       &#x27;2024-02-26T00:00:00.000000000&#x27;, &#x27;2024-02-27T00:00:00.000000000&#x27;,\n",
       "       &#x27;2024-02-28T00:00:00.000000000&#x27;, &#x27;2024-02-29T00:00:00.000000000&#x27;,\n",
       "       &#x27;2024-03-01T00:00:00.000000000&#x27;, &#x27;2024-03-02T00:00:00.000000000&#x27;,\n",
       "       &#x27;2024-03-03T00:00:00.000000000&#x27;, &#x27;2024-03-04T00:00:00.000000000&#x27;,\n",
       "       &#x27;2024-03-05T00:00:00.000000000&#x27;, &#x27;2024-03-06T00:00:00.000000000&#x27;,\n",
       "       &#x27;2024-03-07T00:00:00.000000000&#x27;, &#x27;2024-03-08T00:00:00.000000000&#x27;,\n",
       "       &#x27;2024-03-09T00:00:00.000000000&#x27;, &#x27;2024-03-10T00:00:00.000000000&#x27;,\n",
       "       &#x27;2024-03-11T00:00:00.000000000&#x27;, &#x27;2024-03-12T00:00:00.000000000&#x27;,\n",
       "       &#x27;2024-03-13T00:00:00.000000000&#x27;, &#x27;2024-03-14T00:00:00.000000000&#x27;,\n",
       "       &#x27;2024-03-15T00:00:00.000000000&#x27;, &#x27;2024-03-16T00:00:00.000000000&#x27;,\n",
       "       &#x27;2024-03-17T00:00:00.000000000&#x27;, &#x27;2024-03-18T00:00:00.000000000&#x27;,\n",
       "       &#x27;2024-03-19T00:00:00.000000000&#x27;, &#x27;2024-03-20T00:00:00.000000000&#x27;,\n",
       "       &#x27;2024-03-21T00:00:00.000000000&#x27;, &#x27;2024-03-22T00:00:00.000000000&#x27;,\n",
       "       &#x27;2024-03-23T00:00:00.000000000&#x27;, &#x27;2024-03-24T00:00:00.000000000&#x27;,\n",
       "       &#x27;2024-03-25T00:00:00.000000000&#x27;, &#x27;2024-03-26T00:00:00.000000000&#x27;,\n",
       "       &#x27;2024-03-27T00:00:00.000000000&#x27;, &#x27;2024-03-28T00:00:00.000000000&#x27;,\n",
       "       &#x27;2024-03-29T00:00:00.000000000&#x27;, &#x27;2024-03-30T00:00:00.000000000&#x27;,\n",
       "       &#x27;2024-03-31T00:00:00.000000000&#x27;, &#x27;2024-04-01T00:00:00.000000000&#x27;,\n",
       "       &#x27;2024-04-02T00:00:00.000000000&#x27;, &#x27;2024-04-03T00:00:00.000000000&#x27;,\n",
       "       &#x27;2024-04-04T00:00:00.000000000&#x27;, &#x27;2024-04-05T00:00:00.000000000&#x27;,\n",
       "       &#x27;2024-04-06T00:00:00.000000000&#x27;, &#x27;2024-04-07T00:00:00.000000000&#x27;,\n",
       "       &#x27;2024-04-08T00:00:00.000000000&#x27;, &#x27;2024-04-09T00:00:00.000000000&#x27;,\n",
       "       &#x27;2024-04-10T00:00:00.000000000&#x27;, &#x27;2024-04-11T00:00:00.000000000&#x27;,\n",
       "       &#x27;2024-04-12T00:00:00.000000000&#x27;, &#x27;2024-04-13T00:00:00.000000000&#x27;,\n",
       "       &#x27;2024-04-14T00:00:00.000000000&#x27;, &#x27;2024-04-15T00:00:00.000000000&#x27;,\n",
       "       &#x27;2024-04-16T00:00:00.000000000&#x27;, &#x27;2024-04-17T00:00:00.000000000&#x27;,\n",
       "       &#x27;2024-04-18T00:00:00.000000000&#x27;, &#x27;2024-04-19T00:00:00.000000000&#x27;,\n",
       "       &#x27;2024-04-20T00:00:00.000000000&#x27;, &#x27;2024-04-21T00:00:00.000000000&#x27;,\n",
       "       &#x27;2024-04-22T00:00:00.000000000&#x27;, &#x27;2024-04-23T00:00:00.000000000&#x27;,\n",
       "       &#x27;2024-04-24T00:00:00.000000000&#x27;, &#x27;2024-04-25T00:00:00.000000000&#x27;,\n",
       "       &#x27;2024-04-26T00:00:00.000000000&#x27;, &#x27;2024-04-27T00:00:00.000000000&#x27;,\n",
       "       &#x27;2024-04-28T00:00:00.000000000&#x27;, &#x27;2024-04-29T00:00:00.000000000&#x27;,\n",
       "       &#x27;2024-04-30T00:00:00.000000000&#x27;, &#x27;2024-12-01T00:00:00.000000000&#x27;,\n",
       "       &#x27;2024-12-02T00:00:00.000000000&#x27;, &#x27;2024-12-03T00:00:00.000000000&#x27;,\n",
       "       &#x27;2024-12-04T00:00:00.000000000&#x27;, &#x27;2024-12-05T00:00:00.000000000&#x27;,\n",
       "       &#x27;2024-12-06T00:00:00.000000000&#x27;, &#x27;2024-12-07T00:00:00.000000000&#x27;,\n",
       "       &#x27;2024-12-08T00:00:00.000000000&#x27;, &#x27;2024-12-09T00:00:00.000000000&#x27;,\n",
       "       &#x27;2024-12-10T00:00:00.000000000&#x27;, &#x27;2024-12-11T00:00:00.000000000&#x27;,\n",
       "       &#x27;2024-12-12T00:00:00.000000000&#x27;, &#x27;2024-12-13T00:00:00.000000000&#x27;,\n",
       "       &#x27;2024-12-14T00:00:00.000000000&#x27;, &#x27;2024-12-15T00:00:00.000000000&#x27;,\n",
       "       &#x27;2024-12-16T00:00:00.000000000&#x27;, &#x27;2024-12-17T00:00:00.000000000&#x27;,\n",
       "       &#x27;2024-12-18T00:00:00.000000000&#x27;, &#x27;2024-12-19T00:00:00.000000000&#x27;,\n",
       "       &#x27;2024-12-20T00:00:00.000000000&#x27;, &#x27;2024-12-21T00:00:00.000000000&#x27;,\n",
       "       &#x27;2024-12-22T00:00:00.000000000&#x27;, &#x27;2024-12-23T00:00:00.000000000&#x27;,\n",
       "       &#x27;2024-12-24T00:00:00.000000000&#x27;, &#x27;2024-12-25T00:00:00.000000000&#x27;,\n",
       "       &#x27;2024-12-26T00:00:00.000000000&#x27;, &#x27;2024-12-27T00:00:00.000000000&#x27;,\n",
       "       &#x27;2024-12-28T00:00:00.000000000&#x27;, &#x27;2024-12-29T00:00:00.000000000&#x27;,\n",
       "       &#x27;2024-12-30T00:00:00.000000000&#x27;, &#x27;2024-12-31T00:00:00.000000000&#x27;],\n",
       "      dtype=&#x27;datetime64[ns]&#x27;)</pre></div></li><li class='xr-var-item'><div class='xr-var-name'><span>number</span></div><div class='xr-var-dims'>()</div><div class='xr-var-dtype'>int64</div><div class='xr-var-preview xr-preview'>...</div><input id='attrs-3d40bc44-202d-4a60-b946-3d9a3c18e2ed' class='xr-var-attrs-in' type='checkbox' ><label for='attrs-3d40bc44-202d-4a60-b946-3d9a3c18e2ed' title='Show/Hide attributes'><svg class='icon xr-icon-file-text2'><use xlink:href='#icon-file-text2'></use></svg></label><input id='data-92ffc176-071c-4b8a-be06-ce764d9ee8fd' class='xr-var-data-in' type='checkbox'><label for='data-92ffc176-071c-4b8a-be06-ce764d9ee8fd' title='Show/Hide data repr'><svg class='icon xr-icon-database'><use xlink:href='#icon-database'></use></svg></label><div class='xr-var-attrs'><dl class='xr-attrs'><dt><span>long_name :</span></dt><dd>ensemble member numerical id</dd><dt><span>units :</span></dt><dd>1</dd><dt><span>standard_name :</span></dt><dd>realization</dd></dl></div><div class='xr-var-data'><pre>[1 values with dtype=int64]</pre></div></li></ul></div></li><li class='xr-section-item'><input id='section-adf5afd8-4eca-4f57-b6e0-63e6bcf35f01' class='xr-section-summary-in' type='checkbox'  checked><label for='section-adf5afd8-4eca-4f57-b6e0-63e6bcf35f01' class='xr-section-summary' >Data variables: <span>(1)</span></label><div class='xr-section-inline-details'></div><div class='xr-section-details'><ul class='xr-var-list'><li class='xr-var-item'><div class='xr-var-name'><span>strd</span></div><div class='xr-var-dims'>(valid_time, latitude, longitude)</div><div class='xr-var-dtype'>float32</div><div class='xr-var-preview xr-preview'>...</div><input id='attrs-7411ccdb-5b1a-423d-b25d-792736e5c948' class='xr-var-attrs-in' type='checkbox' ><label for='attrs-7411ccdb-5b1a-423d-b25d-792736e5c948' title='Show/Hide attributes'><svg class='icon xr-icon-file-text2'><use xlink:href='#icon-file-text2'></use></svg></label><input id='data-84cab72f-2598-498b-b533-b963614c68eb' class='xr-var-data-in' type='checkbox'><label for='data-84cab72f-2598-498b-b533-b963614c68eb' title='Show/Hide data repr'><svg class='icon xr-icon-database'><use xlink:href='#icon-database'></use></svg></label><div class='xr-var-attrs'><dl class='xr-attrs'><dt><span>GRIB_paramId :</span></dt><dd>175</dd><dt><span>GRIB_dataType :</span></dt><dd>fc</dd><dt><span>GRIB_numberOfPoints :</span></dt><dd>612</dd><dt><span>GRIB_typeOfLevel :</span></dt><dd>surface</dd><dt><span>GRIB_stepUnits :</span></dt><dd>1</dd><dt><span>GRIB_stepType :</span></dt><dd>accum</dd><dt><span>GRIB_gridType :</span></dt><dd>regular_ll</dd><dt><span>GRIB_uvRelativeToGrid :</span></dt><dd>0</dd><dt><span>GRIB_NV :</span></dt><dd>0</dd><dt><span>GRIB_Nx :</span></dt><dd>51</dd><dt><span>GRIB_Ny :</span></dt><dd>12</dd><dt><span>GRIB_cfName :</span></dt><dd>unknown</dd><dt><span>GRIB_cfVarName :</span></dt><dd>strd</dd><dt><span>GRIB_gridDefinitionDescription :</span></dt><dd>Latitude/Longitude Grid</dd><dt><span>GRIB_iDirectionIncrementInDegrees :</span></dt><dd>0.25</dd><dt><span>GRIB_iScansNegatively :</span></dt><dd>0</dd><dt><span>GRIB_jDirectionIncrementInDegrees :</span></dt><dd>0.25</dd><dt><span>GRIB_jPointsAreConsecutive :</span></dt><dd>0</dd><dt><span>GRIB_jScansPositively :</span></dt><dd>0</dd><dt><span>GRIB_latitudeOfFirstGridPointInDegrees :</span></dt><dd>72.0</dd><dt><span>GRIB_latitudeOfLastGridPointInDegrees :</span></dt><dd>69.25</dd><dt><span>GRIB_longitudeOfFirstGridPointInDegrees :</span></dt><dd>-150.0</dd><dt><span>GRIB_longitudeOfLastGridPointInDegrees :</span></dt><dd>-137.5</dd><dt><span>GRIB_missingValue :</span></dt><dd>3.4028234663852886e+38</dd><dt><span>GRIB_name :</span></dt><dd>Surface long-wave (thermal) radiation downwards</dd><dt><span>GRIB_shortName :</span></dt><dd>strd</dd><dt><span>GRIB_totalNumber :</span></dt><dd>0</dd><dt><span>GRIB_units :</span></dt><dd>J m**-2</dd><dt><span>long_name :</span></dt><dd>Surface long-wave (thermal) radiation downwards</dd><dt><span>units :</span></dt><dd>J m**-2</dd><dt><span>standard_name :</span></dt><dd>unknown</dd><dt><span>GRIB_surface :</span></dt><dd>0.0</dd></dl></div><div class='xr-var-data'><pre>[93024 values with dtype=float32]</pre></div></li></ul></div></li><li class='xr-section-item'><input id='section-6dc33359-420a-406f-b8e0-3899db791a28' class='xr-section-summary-in' type='checkbox'  ><label for='section-6dc33359-420a-406f-b8e0-3899db791a28' class='xr-section-summary' >Indexes: <span>(3)</span></label><div class='xr-section-inline-details'></div><div class='xr-section-details'><ul class='xr-var-list'><li class='xr-var-item'><div class='xr-index-name'><div>latitude</div></div><div class='xr-index-preview'>PandasIndex</div><div></div><input id='index-e4bc3411-7716-43e2-ba30-aa9de50e980e' class='xr-index-data-in' type='checkbox'/><label for='index-e4bc3411-7716-43e2-ba30-aa9de50e980e' title='Show/Hide index repr'><svg class='icon xr-icon-database'><use xlink:href='#icon-database'></use></svg></label><div class='xr-index-data'><pre>PandasIndex(Index([72.0, 71.75, 71.5, 71.25, 71.0, 70.75, 70.5, 70.25, 70.0, 69.75, 69.5,\n",
       "       69.25],\n",
       "      dtype=&#x27;float64&#x27;, name=&#x27;latitude&#x27;))</pre></div></li><li class='xr-var-item'><div class='xr-index-name'><div>longitude</div></div><div class='xr-index-preview'>PandasIndex</div><div></div><input id='index-d8bce835-14a2-4f45-8537-6b41c65a960f' class='xr-index-data-in' type='checkbox'/><label for='index-d8bce835-14a2-4f45-8537-6b41c65a960f' title='Show/Hide index repr'><svg class='icon xr-icon-database'><use xlink:href='#icon-database'></use></svg></label><div class='xr-index-data'><pre>PandasIndex(Index([ -150.0, -149.75,  -149.5, -149.25,  -149.0, -148.75,  -148.5, -148.25,\n",
       "        -148.0, -147.75,  -147.5, -147.25,  -147.0, -146.75,  -146.5, -146.25,\n",
       "        -146.0, -145.75,  -145.5, -145.25,  -145.0, -144.75,  -144.5, -144.25,\n",
       "        -144.0, -143.75,  -143.5, -143.25,  -143.0, -142.75,  -142.5, -142.25,\n",
       "        -142.0, -141.75,  -141.5, -141.25,  -141.0, -140.75,  -140.5, -140.25,\n",
       "        -140.0, -139.75,  -139.5, -139.25,  -139.0, -138.75,  -138.5, -138.25,\n",
       "        -138.0, -137.75,  -137.5],\n",
       "      dtype=&#x27;float64&#x27;, name=&#x27;longitude&#x27;))</pre></div></li><li class='xr-var-item'><div class='xr-index-name'><div>valid_time</div></div><div class='xr-index-preview'>PandasIndex</div><div></div><input id='index-51bf9950-ea87-4b93-b230-72546f18dbf6' class='xr-index-data-in' type='checkbox'/><label for='index-51bf9950-ea87-4b93-b230-72546f18dbf6' title='Show/Hide index repr'><svg class='icon xr-icon-database'><use xlink:href='#icon-database'></use></svg></label><div class='xr-index-data'><pre>PandasIndex(DatetimeIndex([&#x27;2024-01-01&#x27;, &#x27;2024-01-02&#x27;, &#x27;2024-01-03&#x27;, &#x27;2024-01-04&#x27;,\n",
       "               &#x27;2024-01-05&#x27;, &#x27;2024-01-06&#x27;, &#x27;2024-01-07&#x27;, &#x27;2024-01-08&#x27;,\n",
       "               &#x27;2024-01-09&#x27;, &#x27;2024-01-10&#x27;,\n",
       "               ...\n",
       "               &#x27;2024-12-22&#x27;, &#x27;2024-12-23&#x27;, &#x27;2024-12-24&#x27;, &#x27;2024-12-25&#x27;,\n",
       "               &#x27;2024-12-26&#x27;, &#x27;2024-12-27&#x27;, &#x27;2024-12-28&#x27;, &#x27;2024-12-29&#x27;,\n",
       "               &#x27;2024-12-30&#x27;, &#x27;2024-12-31&#x27;],\n",
       "              dtype=&#x27;datetime64[ns]&#x27;, name=&#x27;valid_time&#x27;, length=152, freq=None))</pre></div></li></ul></div></li><li class='xr-section-item'><input id='section-29989ef2-3265-4d7d-9550-537fdf379e25' class='xr-section-summary-in' type='checkbox'  checked><label for='section-29989ef2-3265-4d7d-9550-537fdf379e25' class='xr-section-summary' >Attributes: <span>(6)</span></label><div class='xr-section-inline-details'></div><div class='xr-section-details'><dl class='xr-attrs'><dt><span>GRIB_centre :</span></dt><dd>ecmf</dd><dt><span>GRIB_centreDescription :</span></dt><dd>European Centre for Medium-Range Weather Forecasts</dd><dt><span>GRIB_subCentre :</span></dt><dd>0</dd><dt><span>Conventions :</span></dt><dd>CF-1.7</dd><dt><span>institution :</span></dt><dd>European Centre for Medium-Range Weather Forecasts</dd><dt><span>history :</span></dt><dd>2025-06-10T00:37 GRIB to CDM+CF via cfgrib-0.9.15.0/ecCodes-2.41.0 with {&quot;source&quot;: &quot;surface_thermal_radiation_downwards.grib&quot;, &quot;filter_by_keys&quot;: {&quot;stream&quot;: [&quot;oper&quot;]}, &quot;encode_cf&quot;: [&quot;parameter&quot;, &quot;time&quot;, &quot;geography&quot;, &quot;vertical&quot;]}\n",
       "earthkit.transforms.aggregate.temporal.daily_reduce(surface_thermal_radiation_downwards_stream-oper, how=mean, **{&#x27;time_shift&#x27;: {&#x27;hours&#x27;: -1}})</dd></dl></div></li></ul></div></div>"
      ],
      "text/plain": [
       "<xarray.Dataset>\n",
       "Dimensions:     (latitude: 12, longitude: 51, valid_time: 152)\n",
       "Coordinates:\n",
       "  * latitude    (latitude) float64 72.0 71.75 71.5 71.25 ... 69.75 69.5 69.25\n",
       "  * longitude   (longitude) float64 -150.0 -149.8 -149.5 ... -137.8 -137.5\n",
       "  * valid_time  (valid_time) datetime64[ns] 2024-01-01 2024-01-02 ... 2024-12-31\n",
       "    number      int64 ...\n",
       "Data variables:\n",
       "    strd        (valid_time, latitude, longitude) float32 ...\n",
       "Attributes:\n",
       "    GRIB_centre:             ecmf\n",
       "    GRIB_centreDescription:  European Centre for Medium-Range Weather Forecasts\n",
       "    GRIB_subCentre:          0\n",
       "    Conventions:             CF-1.7\n",
       "    institution:             European Centre for Medium-Range Weather Forecasts\n",
       "    history:                 2025-06-10T00:37 GRIB to CDM+CF via cfgrib-0.9.1..."
      ]
     },
     "execution_count": 65,
     "metadata": {},
     "output_type": "execute_result"
    }
   ],
   "source": [
    "ds = xr.open_dataset(target)\n",
    "ds"
   ]
  },
  {
   "cell_type": "code",
   "execution_count": 52,
   "id": "93780389",
   "metadata": {},
   "outputs": [
    {
     "data": {
      "text/plain": [
       "[<matplotlib.lines.Line2D at 0x142db73e0>]"
      ]
     },
     "execution_count": 52,
     "metadata": {},
     "output_type": "execute_result"
    },
    {
     "data": {
      "image/png": "[encoded data removed]",
      "text/plain": [
       "<Figure size 640x480 with 1 Axes>"
      ]
     },
     "metadata": {},
     "output_type": "display_data"
    }
   ],
   "source": [
    "\n",
    "# ds6h = ds\n",
    "(ds6h.ssrd.mean(['latitude', 'longitude'])/(60*60)).plot()"
   ]
  },
  {
   "cell_type": "code",
   "execution_count": 53,
   "id": "df648d82",
   "metadata": {},
   "outputs": [
    {
     "data": {
      "text/plain": [
       "[<matplotlib.lines.Line2D at 0x142d02ba0>]"
      ]
     },
     "execution_count": 53,
     "metadata": {},
     "output_type": "execute_result"
    },
    {
     "data": {
      "image/png": "[encoded data removed]",
      "text/plain": [
       "<Figure size 640x480 with 1 Axes>"
      ]
     },
     "metadata": {},
     "output_type": "display_data"
    }
   ],
   "source": [
    "(ds.ssrd.mean(['latitude', 'longitude'])/(60*60)).plot()"
   ]
  },
  {
   "cell_type": "code",
   "execution_count": null,
   "id": "e8e75e8e",
   "metadata": {},
   "outputs": [],
   "source": []
  }
 ],
 "metadata": {
  "kernelspec": {
   "display_name": "SBSpolynya",
   "language": "python",
   "name": "sbspolynya"
  },
  "language_info": {
   "codemirror_mode": {
    "name": "ipython",
    "version": 3
   },
   "file_extension": ".py",
   "mimetype": "text/x-python",
   "name": "python",
   "nbconvert_exporter": "python",
   "pygments_lexer": "ipython3",
   "version": "3.12.2"
  }
 },
 "nbformat": 4,
 "nbformat_minor": 5
}
