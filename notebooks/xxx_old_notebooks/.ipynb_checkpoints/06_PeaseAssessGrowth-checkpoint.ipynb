{
 "cells": [
  {
   "cell_type": "markdown",
   "id": "fb4c86f6",
   "metadata": {},
   "source": [
    "### Import packages"
   ]
  },
  {
   "cell_type": "code",
   "execution_count": 1,
   "id": "97ddeabc",
   "metadata": {},
   "outputs": [],
   "source": [
    "%load_ext autoreload\n",
    "%autoreload 2\n",
    "\n",
    "# general\n",
    "import numpy as np, numpy.ma as ma\n",
    "import xarray as xr\n",
    "import pandas as pd\n",
    "\n",
    "# time\n",
    "from datetime import datetime, timedelta\n",
    "import calendar\n",
    "from calendar import monthrange\n",
    "\n",
    "# local system \n",
    "import sys  \n",
    "import glob\n",
    "import os\n",
    "\n",
    "# plotting\n",
    "import matplotlib as mpl\n",
    "from matplotlib import pyplot as plt\n",
    "import matplotlib.colors\n",
    "import cmocean\n",
    "import matplotlib.patches as mpatches\n",
    "from mpl_toolkits.axes_grid1.inset_locator import inset_axes\n",
    "from matplotlib.colors import Normalize\n",
    "import matplotlib.ticker as ticker\n",
    "# from matplotlib.ticker import MultipleLocator\n",
    "\n",
    "import matplotlib.dates as mdates\n",
    "import matplotlib.patches as patches\n",
    "import matplotlib.ticker as mticker\n",
    "\n",
    "from scipy import stats\n",
    "\n",
    "\n",
    "# geo plotting\n",
    "import cartopy\n",
    "import cartopy.crs as ccrs\n",
    "import cartopy.feature as cfeat\n",
    "from cartopy import img_transform\n",
    "\n",
    "from metpy.units import units\n",
    "\n",
    "# path to own functions\n",
    "sys.path.append('../../')\n",
    "import timeseries.adjust as tseries\n",
    "import timeseries.analyze as tanalyze\n",
    "import geofunc.general as geogen\n",
    "import geofunc.vectors as vectors\n",
    "import geofunc.shapes as geoshape\n",
    "import plot_simply.general as plotter\n",
    "import plot_simply.geomap as geomap\n",
    "import data_NSIDC.icedrift as icedrift\n",
    "import data_UniBremen.SIC as unisic\n",
    "\n",
    "sys.path.append('../')\n",
    "import functions as fn"
   ]
  },
  {
   "cell_type": "markdown",
   "id": "8de101bd",
   "metadata": {},
   "source": [
    "## Function to run pease model"
   ]
  },
  {
   "cell_type": "code",
   "execution_count": 355,
   "id": "bfdf0349",
   "metadata": {},
   "outputs": [],
   "source": [
    "def Pease_Model_v2(event_df, wf=0.02, ta=35, poly_dir=145, Hi = 25 * units('cm'), show_plot = False):\n",
    "\n",
    "\n",
    "    def convert_to_k(T):\n",
    "\n",
    "        if T.units == 'degree_Celsius':\n",
    "            T = T.to('degree_Kelvin')\n",
    "        elif T.units == 'delta_degree_Celsius':\n",
    "            print('T!! should not be delta deg C')\n",
    "        return T\n",
    "\n",
    "\n",
    "    def find_Qlu(Tw, sigma, eo):\n",
    "        Tw = convert_to_k(Tw)\n",
    "        qlu = sigma * eo * Tw**4\n",
    "        return qlu.to('W/m2')\n",
    "\n",
    "\n",
    "    def find_Qld(Ta, sigma, ea):\n",
    "        Ta = convert_to_k(Ta)\n",
    "        qld = sigma * ea * Ta**4\n",
    "        return qld.to('W/m2')\n",
    "\n",
    "\n",
    "    def find_Qs(Ta, Tw, rho_a, Cpa, Va):\n",
    "\n",
    "        Ta = Ta.magnitude * units('delta_degree_Celsius')\n",
    "        Tw = Tw.magnitude * units('delta_degree_Celsius')\n",
    "\n",
    "        Ch = 2e-3 # sensible heat coefficient\n",
    "\n",
    "        qs = rho_a * Ch * Cpa * Va * (Ta-Tw)\n",
    "\n",
    "        return qs.to('W/m2')\n",
    "\n",
    "\n",
    "    def open_Qld(event_df):\n",
    "        # determine event year to open\n",
    "        event_year = pd.to_datetime(event_df.time.values[-1]).year\n",
    "        if pd.to_datetime(event_df.time.values[-1]).month == 12:\n",
    "            event_year+=1\n",
    "\n",
    "        # grab shortwave downward data\n",
    "        with xr.open_dataset(f'../data/forcing/regional_daily_era_strd_{event_year}_v7.nc') as ds_sw:\n",
    "            down_longwave = ds_sw.strd.sel(time=event_df.time.values).values * units('W/m2')\n",
    "\n",
    "        qld = (down_longwave) # longwave down\n",
    "\n",
    "        return qld\n",
    "    \n",
    "    \n",
    "    def open_Qr(event_df):\n",
    "        # determine event year to open\n",
    "        event_year = pd.to_datetime(event_df.time.values[-1]).year\n",
    "        if pd.to_datetime(event_df.time.values[-1]).month == 12:\n",
    "            event_year+=1\n",
    "\n",
    "        # grab shortwave downward data\n",
    "        with xr.open_dataset(f'../data/forcing/regional_daily_era_ssrd_{event_year}_v7.nc') as ds_sw:\n",
    "            down_shortwave = ds_sw.ssrd.sel(time=event_df.time.values).values * units('W/m2')\n",
    "\n",
    "        qr = (1-0.1)*(down_shortwave) # short wave radiation absorbed (10% albedo)\n",
    "\n",
    "        return qr\n",
    "    \n",
    "    \n",
    "    \n",
    "    # wind component that extends polynya\n",
    "#     wind_angle = (poly_dir+ta)*units('degree')\n",
    "#     wind_comp = vectors.comp_along_theta(event_df['u10'].values, event_df['v10'].values, wind_angle)\n",
    "#     wind_speed = np.sqrt(event_df['u10'].values**2 + event_df['v10'].values**2) * units('m/s')\n",
    "\n",
    "\n",
    "    \n",
    "    # observed wind speed and direction\n",
    "    wind_speed = np.sqrt(event_df['u10'].values**2 + event_df['v10'].values**2) * units('m/s')\n",
    "    wind_dir = vectors.vector_angle(event_df['u10'].values, event_df['v10'].values)\n",
    "    \n",
    "    # predicted ice speed and direction\n",
    "    ice_speed = wf * wind_speed.to('km/day')\n",
    "    ice_dir = wind_dir - (ta*units('degree'))\n",
    "    \n",
    "    # back to components\n",
    "    ice_u = ice_speed * np.cos(ice_dir.to('radian').magnitude)\n",
    "    ice_v = ice_speed * np.sin(ice_dir.to('radian').magnitude)\n",
    "    \n",
    "    # component of ice drift along polynya direction\n",
    "    ice_comp_along_polynya = vectors.comp_along_theta(ice_u, ice_v, poly_dir*units('degree'))\n",
    "    Vi = ice_comp_along_polynya\n",
    "    \n",
    "    # daily ice drift\n",
    "#     Vi = wf * wind_comp*units('m/s').to('km/day')\n",
    "\n",
    "    # air temperature\n",
    "    Ta = event_df['t2m'].values * units('degC')\n",
    "\n",
    "    # water temperature\n",
    "    Tw = -1.8 * units('degC')\n",
    "\n",
    "    # surface heat balance\n",
    "    #-----------------------\n",
    "    # define positive upward\n",
    "    Qlu = find_Qlu(Tw, cst['sigma_sb'], 0.98)\n",
    "    Qld = -find_Qld(Ta, cst['sigma_sb'], 0.95)\n",
    "#     Qld = -open_Qld(event_df)\n",
    "    Qs = -find_Qs(Ta, Tw, cst['rho_a'], cst['Cp_a'], wind_speed)\n",
    "#     Qr = -open_Qr(event_df) # short wave radiation absorbed (5% albedo)\n",
    "\n",
    "    Qnet = Qlu+Qld+Qs#+Qr\n",
    "\n",
    "    # heat flux to ice production rate\n",
    "    #-----------------------------------\n",
    "    Fi = (Qnet / (cst['L_i']*cst['rho_i'])).to('cm/day')\n",
    "    \n",
    "    \n",
    "    if show_plot:\n",
    "        fig, ax = plt.subplots(figsize=(3,3))\n",
    "        ax.plot(Qs, label='sensible')\n",
    "        ax.axhline(Qlu, label='lw u', c='b')\n",
    "        ax.plot(Qld, label='lw d')\n",
    "        ax.plot(Qr, label='shortwave')\n",
    "        ax.plot(Qnet, c='k', label='net')\n",
    "        ax.legend()\n",
    "        \n",
    "        \n",
    "        \n",
    "    # iteratively solve for the length\n",
    "    #---------------------------------\n",
    "    Xp = np.array([0]) * units('m')\n",
    "\n",
    "    for tt in range(len(event_df)):\n",
    "\n",
    "        # current length\n",
    "        X_curr = Xp[-1]\n",
    "\n",
    "        # change in length\n",
    "        dXdt = Vi[tt] - X_curr * Fi[tt] / Hi\n",
    "        dX = dXdt * units('day')\n",
    "\n",
    "\n",
    "        Xnew = X_curr + dX\n",
    "        Xp = np.append(Xp, Xnew)\n",
    "\n",
    "\n",
    "    X_num = Xp[1:].to('km')\n",
    "\n",
    "    # solve for limiting width\n",
    "    #---------------------------------\n",
    "    X_max = (Vi * Hi / Fi).to('km')\n",
    "    # time to reach 95% of limiting size\n",
    "    t95 = (3 * Hi / Fi).to('day')\n",
    "    \n",
    "    if show_plot:\n",
    "        fig, ax = plt.subplots(figsize=(8,3))\n",
    "        ax.plot(event_df.time, np.cumsum(Vi.magnitude), marker='.', c='k', label='Fi=0')\n",
    "        ax.plot(event_df.time, X_num.to('km'), label='iter')\n",
    "        ax.plot(event_df.time, X_max.to('km'), label='limiting width')\n",
    "        ax.bar(event_df.time, event_df.length_145max, color='lightgray', label='obs')\n",
    "        plt.legend()\n",
    "\n",
    "    X_zip = np.cumsum(Vi*units('day'))\n",
    "    \n",
    "    return X_num, X_max, t95, X_zip, Ta, Vi, wind_speed, event_df['u10'].values, Fi"
   ]
  },
  {
   "cell_type": "code",
   "execution_count": null,
   "id": "19d641c8",
   "metadata": {},
   "outputs": [],
   "source": [
    "X_max = (Vi * Hi / Fi).to('km')"
   ]
  },
  {
   "cell_type": "code",
   "execution_count": null,
   "id": "b1f87778",
   "metadata": {},
   "outputs": [],
   "source": []
  },
  {
   "cell_type": "code",
   "execution_count": 356,
   "id": "ac5bc9fc",
   "metadata": {},
   "outputs": [
    {
     "data": {
      "text/plain": [
       "{'Cp_o': <Quantity(3850.0, 'joule / kilogram / delta_degree_Celsius')>,\n",
       " 'Cp_a': <Quantity(1004.0, 'joule / kilogram / delta_degree_Celsius')>,\n",
       " 'sigma_sb': <Quantity(5.670367e-08, 'watt / meter ** 2 / kelvin ** 4')>,\n",
       " 'rho_a': <Quantity(1.225, 'kilogram / meter ** 3')>,\n",
       " 'rho_o': <Quantity(1028.0, 'kilogram / meter ** 3')>,\n",
       " 'rho_i': <Quantity(917.0, 'kilogram / meter ** 3')>,\n",
       " 'L_i': <Quantity(334000.0, 'joule / kilogram')>,\n",
       " 'k_i': <Quantity(2.2, 'watt / meter / delta_degree_Celsius')>,\n",
       " 'kappa': <Quantity(0.4, 'dimensionless')>,\n",
       " 'St': <Quantity(0.0057, 'dimensionless')>,\n",
       " 'omega': <Quantity(7.2921e-05, 'radian / second')>}"
      ]
     },
     "execution_count": 356,
     "metadata": {},
     "output_type": "execute_result"
    }
   ],
   "source": [
    "# constants\n",
    "df = pd.read_csv('../data/constants.csv')\n",
    "df = df.set_index('var')\n",
    "df\n",
    "\n",
    "cst = {}\n",
    "for variable in list(df.index):\n",
    "    cst[variable] = df.loc[variable]['value'] * units(df.loc[variable]['units'])\n",
    "    \n",
    "cst"
   ]
  },
  {
   "cell_type": "code",
   "execution_count": 357,
   "id": "0af264aa",
   "metadata": {},
   "outputs": [],
   "source": [
    "\n",
    "# open regional bounding coordinates\n",
    "df = pd.read_csv('../data/coastal_region_bounds_v7.csv')\n",
    "reg_poly = geoshape.make_polygon(np.stack((df['lons'], df['lats']), axis=1))\n"
   ]
  },
  {
   "cell_type": "markdown",
   "id": "102115b5",
   "metadata": {},
   "source": [
    "# polynya and regional stats"
   ]
  },
  {
   "cell_type": "code",
   "execution_count": 358,
   "id": "8bf080be",
   "metadata": {},
   "outputs": [
    {
     "name": "stderr",
     "output_type": "stream",
     "text": [
      "/var/folders/p8/hz449fpx6nscv0jb1klyfqb40000gp/T/ipykernel_4385/2666883459.py:21: SettingWithCopyWarning: \n",
      "A value is trying to be set on a copy of a slice from a DataFrame\n",
      "\n",
      "See the caveats in the documentation: https://pandas.pydata.org/pandas-docs/stable/user_guide/indexing.html#returning-a-view-versus-a-copy\n",
      "  df[f'{cat}_r'][df[f'{cat}_r']<0]+=360\n",
      "/var/folders/p8/hz449fpx6nscv0jb1klyfqb40000gp/T/ipykernel_4385/2666883459.py:21: SettingWithCopyWarning: \n",
      "A value is trying to be set on a copy of a slice from a DataFrame\n",
      "\n",
      "See the caveats in the documentation: https://pandas.pydata.org/pandas-docs/stable/user_guide/indexing.html#returning-a-view-versus-a-copy\n",
      "  df[f'{cat}_r'][df[f'{cat}_r']<0]+=360\n",
      "/var/folders/p8/hz449fpx6nscv0jb1klyfqb40000gp/T/ipykernel_4385/2666883459.py:21: SettingWithCopyWarning: \n",
      "A value is trying to be set on a copy of a slice from a DataFrame\n",
      "\n",
      "See the caveats in the documentation: https://pandas.pydata.org/pandas-docs/stable/user_guide/indexing.html#returning-a-view-versus-a-copy\n",
      "  df[f'{cat}_r'][df[f'{cat}_r']<0]+=360\n",
      "/var/folders/p8/hz449fpx6nscv0jb1klyfqb40000gp/T/ipykernel_4385/2666883459.py:21: SettingWithCopyWarning: \n",
      "A value is trying to be set on a copy of a slice from a DataFrame\n",
      "\n",
      "See the caveats in the documentation: https://pandas.pydata.org/pandas-docs/stable/user_guide/indexing.html#returning-a-view-versus-a-copy\n",
      "  df[f'{cat}_r'][df[f'{cat}_r']<0]+=360\n"
     ]
    }
   ],
   "source": [
    "df = pd.read_csv('../data/compiled_stats.csv')\n",
    "\n",
    "# df['esei'] = vectors.comp_along_theta(df['ui'], df['vi'], 145*units('degree')) * units('cm/s').to('km/day')\n",
    "\n",
    "df['i145'] = vectors.comp_along_theta(df['ui'], df['vi'], 145*units('degree')) * units('cm/s').to('km/day')\n",
    "df['i165'] = vectors.comp_along_theta(df['ui'], df['vi'], 165*units('degree')) * units('cm/s').to('km/day')\n",
    "\n",
    "df['ese10'] = 0.02*vectors.comp_along_theta(df['u10'], df['v10'], 180*units('degree'))* units('m/s').to('km/day')\n",
    "# df['ese10'][df.year>=2016] = 1.3*df['ese10'][df.year>=2016]\n",
    "\n",
    "\n",
    "\n",
    "\n",
    "df['si_km'] = df['si'] * units('cm/s').to('km/day')\n",
    "\n",
    "df['e10'] = - df['u10']\n",
    "# manually modify this for now since I set too strict of threshold\n",
    "\n",
    "for cat in ['a10', 'ai', 'centermass_direction', 'max_length_direction']:\n",
    "    df[f'{cat}_r'] = 90-df[f'{cat}']\n",
    "    df[f'{cat}_r'][df[f'{cat}_r']<0]+=360\n",
    "\n",
    "df['up'] = df['centermass_length'].values * np.cos(df['centermass_direction'].values*np.pi/180)\n",
    "df['vp'] = df['centermass_length'].values * np.sin(df['centermass_direction'].values*np.pi/180)\n",
    "                     \n",
    "    \n",
    "vi = (df['ui'].values, df['vi'].values)\n",
    "vw = (df['u10'].values, df['v10'].values)\n",
    "vp = (df['up'].values, df['vp'].values )\n",
    "                              \n",
    "df['ta_wi'] = vectors.turning_angle(vw,vi).magnitude\n",
    "df['ta_ip'] = vectors.turning_angle(vi,vp).magnitude\n",
    "df['ta_wp'] = vectors.turning_angle(vw,vp).magnitude\n",
    "\n",
    "\n",
    "\n",
    "\n",
    "# identify base period\n",
    "dfb = df[df['2003_2023']]\n",
    "\n",
    "dfr = df[df.year >= 2003]\n"
   ]
  },
  {
   "cell_type": "code",
   "execution_count": null,
   "id": "adbf6cb2",
   "metadata": {},
   "outputs": [],
   "source": []
  },
  {
   "cell_type": "code",
   "execution_count": 359,
   "id": "3c0f020f",
   "metadata": {},
   "outputs": [],
   "source": [
    "def dir_conds(dff, cat):\n",
    "    \n",
    "    if cat == 'wind':\n",
    "        dir_cond = (dff['a10_r'] > 255) & (dff['a10_r'] < 305)\n",
    "        \n",
    "    elif cat == 'ice':   \n",
    "        dir_cond = (dff['ai_r'] > 265) & (dff['ai_r'] < 315)\n",
    "\n",
    "    elif cat == 'poly':\n",
    "        dir_cond = (dff['centermass_direction_r'] > 280) & (dff['centermass_direction_r'] < 330)\n",
    "        \n",
    "    return dir_cond\n",
    "\n",
    "def speed_conds(dff, cat):\n",
    "    \n",
    "    if cat == 'wind':\n",
    "        speed_cond = (dff['s10'] > 6)\n",
    "    elif cat == 'ice':\n",
    "        speed_cond = (dff['si_km'] > 10)\n",
    "\n",
    "    return speed_cond\n"
   ]
  },
  {
   "cell_type": "code",
   "execution_count": 388,
   "id": "a1e1a3ef",
   "metadata": {},
   "outputs": [],
   "source": [
    "#===============\n",
    "DF = dfr\n",
    "\n",
    "# DF = df[df.year>2023]\n",
    "\n",
    "# DF = df[(df.year==2018)+(df.year==2017)]\n",
    "\n",
    "# DF = df[(df.year==2020)+(df.year==2024)]\n",
    "\n",
    "#===============\n",
    "\n",
    "shoulder = (DF['season_start_flag'] + DF['season_end_flag'])\n",
    "shoulder = DF['season_start_flag']\n",
    "\n",
    "# shoulder = shoulder + ((DF.year>2018)+(DF.year<2017))\n",
    "# wind_comp = vectors.comp_along_theta(DF['u10'].values, DF['v10'].values, wind_angle)\n",
    "\n",
    "# wind_event = dir_conds(DF, 'wind') & (DF.s10>6)\n",
    "\n",
    "# wind_event = (DF.s10>6)\n",
    "\n",
    "wind_event = (DF.month!=4)\n",
    "# (DF.s10>0)#&\n",
    "# wind_event = (DF.s10>6) #& dir_conds(DF, 'wind')\n",
    "# wind_event = dir_conds(DF, 'wind')\n",
    "# wind_event = (DF.u10<0) & (DF.s10>6.5)\n",
    "\n",
    "# wind_event = speed_conds(DF, 'wind') & (DF.u10<0)\n",
    "# wind_event = speed_conds(DF, 'wind') & dir_conds(DF, 'wind')\n",
    "# wind_event =(wind_comp>0)\n",
    "#  speed_conds(DF, 'wind') & "
   ]
  },
  {
   "cell_type": "code",
   "execution_count": 389,
   "id": "99dec315",
   "metadata": {},
   "outputs": [
    {
     "data": {
      "text/plain": [
       "3455"
      ]
     },
     "execution_count": 389,
     "metadata": {},
     "output_type": "execute_result"
    }
   ],
   "source": [
    "np.sum(shoulder==False)"
   ]
  },
  {
   "cell_type": "code",
   "execution_count": 390,
   "id": "0d16859a",
   "metadata": {},
   "outputs": [
    {
     "data": {
      "text/plain": [
       "0.782608695652174"
      ]
     },
     "execution_count": 390,
     "metadata": {},
     "output_type": "execute_result"
    }
   ],
   "source": [
    "126/161"
   ]
  },
  {
   "cell_type": "code",
   "execution_count": 391,
   "id": "d2eaf563",
   "metadata": {},
   "outputs": [
    {
     "data": {
      "text/plain": [
       "161"
      ]
     },
     "execution_count": 391,
     "metadata": {},
     "output_type": "execute_result"
    }
   ],
   "source": [
    "len(list(set(DF.sequence)))"
   ]
  },
  {
   "cell_type": "code",
   "execution_count": 392,
   "id": "c74e57e1",
   "metadata": {},
   "outputs": [
    {
     "data": {
      "text/plain": [
       "5"
      ]
     },
     "execution_count": 392,
     "metadata": {},
     "output_type": "execute_result"
    }
   ],
   "source": [
    "len(list(set(DF[shoulder].sequence)))"
   ]
  },
  {
   "cell_type": "code",
   "execution_count": 393,
   "id": "0a617a63",
   "metadata": {},
   "outputs": [
    {
     "data": {
      "text/plain": [
       "32"
      ]
     },
     "execution_count": 393,
     "metadata": {},
     "output_type": "execute_result"
    }
   ],
   "source": [
    "161-129"
   ]
  },
  {
   "cell_type": "code",
   "execution_count": 394,
   "id": "8ca7c6af",
   "metadata": {},
   "outputs": [],
   "source": [
    "\n",
    "# determine sequences to evaluate\n",
    "# omit any that intersect with beginning/end of ice season\n",
    "# and make sure strong wind occur for at least part of event\n",
    "\n",
    "initial_cond = ((DF.sequence!=-999)&(shoulder==False))&wind_event\n",
    "all_seqs = np.array(list(set(DF.sequence[initial_cond])))\n",
    "\n",
    "\n",
    "# print(len(all_seqs))\n",
    "\n",
    "evaluate = {}\n",
    "\n",
    "all_days = np.array([])\n",
    "\n",
    "for ss in all_seqs:\n",
    "    \n",
    "    # current event\n",
    "    event = (DF.sequence==ss)\n",
    "    \n",
    "    M = pd.to_datetime(DF.time[event].values[0]).month \n",
    "    D = pd.to_datetime(DF.time[event].values[0]).day \n",
    "    \n",
    "    # if first day of event has weak winds, omit\n",
    "    if wind_event[event].values[0]==False:\n",
    "        print(f'{ss}: weak winds to start, omit')\n",
    "        \n",
    "#     elif (M == 12)&(D<4):\n",
    "#         print(f'{DF.time[event].values[0]}: too early, omit')\n",
    "\n",
    "    # otherwise, proceed\n",
    "    else:\n",
    "        evaluate[ss] = {}\n",
    "        evaluate[ss]['max_ll'] = 0\n",
    "        evaluate[ss]['start'] = DF.time[event].values[0] # start time\n",
    "        evaluate[ss]['si'] = np.where(DF.time == DF.time[event].values[0])[0][0] # start index\n",
    "        \n",
    "        day_before = pd.to_datetime(DF.time[event].values[0]) - timedelta(days=1)\n",
    "        day2_before = pd.to_datetime(DF.time[event].values[0]) - timedelta(days=2)\n",
    "        day3_before = pd.to_datetime(DF.time[event].values[0]) - timedelta(days=3)\n",
    "        evaluate[ss]['dbi'] = np.where(pd.to_datetime(DF.time) == day_before)[0][0] # day before\n",
    "        # cannot go 2 days before becuase data missing for some events (e.g. '2019-12-02')\n",
    "        \n",
    "        if len(np.where(pd.to_datetime(DF.time) == day2_before)[0]) > 0:\n",
    "            evaluate[ss]['dbi2'] = np.where(pd.to_datetime(DF.time) == day2_before)[0][0] # day before\n",
    "        else: \n",
    "            evaluate[ss]['dbi2'] = evaluate[ss]['dbi']-1\n",
    "#         evaluate[ss]['dbi3'] = np.where(pd.to_datetime(DF.time) == day3_before)[0][0] # day before\n",
    "        \n",
    "        # only include days where wind event persists\n",
    "        for ii in range(len(wind_event[event].values)):\n",
    "            if wind_event[event].values[ii] == True:\n",
    "                evaluate[ss]['max_ll'] = DF.event_day[event].values[ii] # maximum event day w/ cont. winds\n",
    "                evaluate[ss]['end'] = DF.time[event].values[ii]         # end time\n",
    "                evaluate[ss]['fi'] = np.where(DF.time == DF.time[event].values[ii])[0][0] # end index\n",
    "            else:\n",
    "                break\n",
    "\n",
    "        all_days = np.append(all_days, evaluate[ss]['max_ll'])"
   ]
  },
  {
   "cell_type": "code",
   "execution_count": 395,
   "id": "d0d85549",
   "metadata": {},
   "outputs": [
    {
     "data": {
      "text/plain": [
       "3436"
      ]
     },
     "execution_count": 395,
     "metadata": {},
     "output_type": "execute_result"
    }
   ],
   "source": [
    "evaluate[ss]['dbi']"
   ]
  },
  {
   "cell_type": "code",
   "execution_count": 396,
   "id": "544f51be",
   "metadata": {},
   "outputs": [
    {
     "data": {
      "text/plain": [
       "1"
      ]
     },
     "execution_count": 396,
     "metadata": {},
     "output_type": "execute_result"
    }
   ],
   "source": [
    "len(np.where(pd.to_datetime(DF.time) == day2_before)[0])"
   ]
  },
  {
   "cell_type": "code",
   "execution_count": 397,
   "id": "a7b0bdbb",
   "metadata": {},
   "outputs": [
    {
     "data": {
      "text/plain": [
       "(array([72., 33., 15.,  1.,  0.,  4.,  2.,  0.,  2.,  1.]),\n",
       " array([ 1. ,  2.8,  4.6,  6.4,  8.2, 10. , 11.8, 13.6, 15.4, 17.2, 19. ]),\n",
       " <BarContainer object of 10 artists>)"
      ]
     },
     "execution_count": 397,
     "metadata": {},
     "output_type": "execute_result"
    },
    {
     "data": {
      "image/png": "[encoded data removed]",
      "text/plain": [
       "<Figure size 640x480 with 1 Axes>"
      ]
     },
     "metadata": {},
     "output_type": "display_data"
    }
   ],
   "source": [
    "plt.hist(all_days)"
   ]
  },
  {
   "cell_type": "markdown",
   "id": "17c1d52e",
   "metadata": {},
   "source": [
    "### Set up dictionary to save data by day"
   ]
  },
  {
   "cell_type": "code",
   "execution_count": null,
   "id": "72d32744",
   "metadata": {},
   "outputs": [],
   "source": []
  },
  {
   "cell_type": "code",
   "execution_count": 440,
   "id": "603a89bf",
   "metadata": {},
   "outputs": [],
   "source": [
    "across = {}\n",
    "\n",
    "#========\n",
    "lmax = 6\n",
    "#========\n",
    "\n",
    "\n",
    "cats = ['Fi=0', 'Xlim', 'Xp', 'Xo', 'seq', 'Ta', 'Vi', 'ws','wu', 'date', 'cum_drift_real', 'dhdt']\n",
    "\n",
    "# across[f'-3'] = {}\n",
    "# for cat in cats:\n",
    "#     across[f'-3'][cat] = np.array([])\n",
    "    \n",
    "# across[f'-2'] = {}\n",
    "# for cat in cats:\n",
    "#     across[f'-2'][cat] = np.array([])\n",
    "    \n",
    "# across[f'-1'] = {}\n",
    "# for cat in cats:\n",
    "#     across[f'-1'][cat] = np.array([])\n",
    "\n",
    "for ll in range(1, lmax+1):\n",
    "    across[f'{ll}'] = {}\n",
    "    for cat in cats:\n",
    "        across[f'{ll}'][cat] = np.array([])\n",
    "\n",
    "across[f'{lmax+1}+'] = {}\n",
    "for cat in cats:\n",
    "    across[f'{lmax+1}+'][cat] = np.array([])\n",
    "    \n",
    "    \n",
    "    \n",
    "    \n",
    "# model params\n",
    "#===============================\n",
    "wf = 0.03 # wind factor\n",
    "ta = 20   # CW turning angle wind to ice, degrees\n",
    "poly_dir = 145  #  polynya direction, degrees CCW from E\n",
    "Hi = 10 * units('cm')\n",
    "#===============================\n",
    "    \n",
    "all_dhdt = np.array([])\n",
    "    \n",
    "for ev in list(evaluate.keys()):\n",
    "    \n",
    "    # open data from event\n",
    "    dbi = evaluate[ev]['dbi']\n",
    "    si = evaluate[ev]['si']\n",
    "    fi = evaluate[ev]['fi']\n",
    "\n",
    "    # grab conditions over event\n",
    "    #===============================\n",
    "    event_df = DF[si:fi+1]\n",
    "    #===============================\n",
    "\n",
    "    # run model\n",
    "    X_num, X_max, t95, X_zip, Tair, Vice, wsp, u10, fi  = Pease_Model_v2(event_df, wf=wf, ta=ta, poly_dir=poly_dir, Hi = Hi, show_plot = False)\n",
    "    \n",
    "    # save ice grwoth\n",
    "    all_dhdt = np.append(all_dhdt, fi)\n",
    "    \n",
    "    # actual ice drift\n",
    "    Vi_real = np.cumsum(event_df.i145.values) * units('km')\n",
    "    \n",
    "    # save output\n",
    "    for ll, Xp, Xm, Xz, Xo, Ta, Vi, ws, date, count, Vir, wu, dh in zip(event_df.event_day.values, \n",
    "                                                           X_num, X_max, X_zip, event_df.length_145max.values,\n",
    "                                   Tair, Vice, wsp, event_df.time.values, range(len(event_df.event_day.values)), Vi_real, u10, fi):\n",
    "\n",
    "        # determine key to save to\n",
    "#         if (ll == -999)&(count==0):\n",
    "#             key = '-3'\n",
    "        if (ll == -999)&(count==1):\n",
    "            key = '-2'\n",
    "        elif (ll == -999):\n",
    "            key = '-1'\n",
    "        elif ll > lmax:\n",
    "            key = f'{lmax+1}+'\n",
    "        else:\n",
    "            key = f'{ll}'\n",
    "\n",
    "        across[key]['dhdt'] = np.append(across[key]['dhdt'], dh)\n",
    "        across[key]['Fi=0'] = np.append(across[key]['Fi=0'], Xz)\n",
    "        across[key]['Xlim'] = np.append(across[key]['Xlim'], Xm)\n",
    "        across[key]['Xp'] = np.append(across[key]['Xp'], Xp)\n",
    "        across[key]['Xo'] = np.append(across[key]['Xo'], Xo*units('km'))\n",
    "        \n",
    "        across[key]['Ta'] = np.append(across[key]['Ta'], Ta)\n",
    "        across[key]['Vi'] = np.append(across[key]['Vi'], Vi)\n",
    "        across[key]['cum_drift_real'] = np.append(across[key]['cum_drift_real'], Vir)\n",
    "        across[key]['ws'] = np.append(across[key]['ws'], ws)\n",
    "        across[key]['wu'] = np.append(across[key]['wu'], wu)\n",
    "        \n",
    "        # record sequence number and date\n",
    "        across[key]['seq'] = np.append(across[key]['seq'], int(event_df.sequence.values[-1]))\n",
    "        across[key]['date'] = np.append(across[key]['date'], date)\n",
    "\n",
    "        \n",
    "for key in across.keys():\n",
    "    across[key]['date'] = pd.to_datetime(across[key]['date'])"
   ]
  },
  {
   "cell_type": "code",
   "execution_count": 441,
   "id": "dc996b66",
   "metadata": {},
   "outputs": [
    {
     "data": {
      "text/html": [
       "<div>\n",
       "<style scoped>\n",
       "    .dataframe tbody tr th:only-of-type {\n",
       "        vertical-align: middle;\n",
       "    }\n",
       "\n",
       "    .dataframe tbody tr th {\n",
       "        vertical-align: top;\n",
       "    }\n",
       "\n",
       "    .dataframe thead th {\n",
       "        text-align: right;\n",
       "    }\n",
       "</style>\n",
       "<table border=\"1\" class=\"dataframe\">\n",
       "  <thead>\n",
       "    <tr style=\"text-align: right;\">\n",
       "      <th></th>\n",
       "      <th>time</th>\n",
       "      <th>month</th>\n",
       "      <th>year</th>\n",
       "      <th>pre_2003</th>\n",
       "      <th>2003_2023</th>\n",
       "      <th>compact</th>\n",
       "      <th>open</th>\n",
       "      <th>q1</th>\n",
       "      <th>q2</th>\n",
       "      <th>q3</th>\n",
       "      <th>...</th>\n",
       "      <th>e10</th>\n",
       "      <th>a10_r</th>\n",
       "      <th>ai_r</th>\n",
       "      <th>centermass_direction_r</th>\n",
       "      <th>max_length_direction_r</th>\n",
       "      <th>up</th>\n",
       "      <th>vp</th>\n",
       "      <th>ta_wi</th>\n",
       "      <th>ta_ip</th>\n",
       "      <th>ta_wp</th>\n",
       "    </tr>\n",
       "  </thead>\n",
       "  <tbody>\n",
       "    <tr>\n",
       "      <th>5706</th>\n",
       "      <td>2025-03-20</td>\n",
       "      <td>3</td>\n",
       "      <td>2025</td>\n",
       "      <td>False</td>\n",
       "      <td>False</td>\n",
       "      <td>False</td>\n",
       "      <td>True</td>\n",
       "      <td>False</td>\n",
       "      <td>False</td>\n",
       "      <td>True</td>\n",
       "      <td>...</td>\n",
       "      <td>11.353458</td>\n",
       "      <td>275.658238</td>\n",
       "      <td>NaN</td>\n",
       "      <td>295.103032</td>\n",
       "      <td>291.571374</td>\n",
       "      <td>-31.350137</td>\n",
       "      <td>14.687500</td>\n",
       "      <td>NaN</td>\n",
       "      <td>NaN</td>\n",
       "      <td>19.444794</td>\n",
       "    </tr>\n",
       "    <tr>\n",
       "      <th>5707</th>\n",
       "      <td>2025-03-21</td>\n",
       "      <td>3</td>\n",
       "      <td>2025</td>\n",
       "      <td>False</td>\n",
       "      <td>False</td>\n",
       "      <td>False</td>\n",
       "      <td>True</td>\n",
       "      <td>False</td>\n",
       "      <td>False</td>\n",
       "      <td>True</td>\n",
       "      <td>...</td>\n",
       "      <td>8.207611</td>\n",
       "      <td>272.920987</td>\n",
       "      <td>NaN</td>\n",
       "      <td>292.831712</td>\n",
       "      <td>296.940187</td>\n",
       "      <td>-30.586367</td>\n",
       "      <td>12.877250</td>\n",
       "      <td>NaN</td>\n",
       "      <td>NaN</td>\n",
       "      <td>19.910725</td>\n",
       "    </tr>\n",
       "    <tr>\n",
       "      <th>5708</th>\n",
       "      <td>2025-03-22</td>\n",
       "      <td>3</td>\n",
       "      <td>2025</td>\n",
       "      <td>False</td>\n",
       "      <td>False</td>\n",
       "      <td>False</td>\n",
       "      <td>True</td>\n",
       "      <td>False</td>\n",
       "      <td>False</td>\n",
       "      <td>True</td>\n",
       "      <td>...</td>\n",
       "      <td>9.944726</td>\n",
       "      <td>269.329392</td>\n",
       "      <td>NaN</td>\n",
       "      <td>289.031216</td>\n",
       "      <td>277.203840</td>\n",
       "      <td>-33.515333</td>\n",
       "      <td>11.560683</td>\n",
       "      <td>NaN</td>\n",
       "      <td>NaN</td>\n",
       "      <td>19.701824</td>\n",
       "    </tr>\n",
       "    <tr>\n",
       "      <th>5709</th>\n",
       "      <td>2025-03-23</td>\n",
       "      <td>3</td>\n",
       "      <td>2025</td>\n",
       "      <td>False</td>\n",
       "      <td>False</td>\n",
       "      <td>False</td>\n",
       "      <td>True</td>\n",
       "      <td>False</td>\n",
       "      <td>True</td>\n",
       "      <td>False</td>\n",
       "      <td>...</td>\n",
       "      <td>8.086528</td>\n",
       "      <td>260.608372</td>\n",
       "      <td>NaN</td>\n",
       "      <td>282.930939</td>\n",
       "      <td>277.203840</td>\n",
       "      <td>-37.298746</td>\n",
       "      <td>8.563753</td>\n",
       "      <td>NaN</td>\n",
       "      <td>NaN</td>\n",
       "      <td>22.322567</td>\n",
       "    </tr>\n",
       "    <tr>\n",
       "      <th>5710</th>\n",
       "      <td>2025-03-24</td>\n",
       "      <td>3</td>\n",
       "      <td>2025</td>\n",
       "      <td>False</td>\n",
       "      <td>False</td>\n",
       "      <td>False</td>\n",
       "      <td>True</td>\n",
       "      <td>True</td>\n",
       "      <td>False</td>\n",
       "      <td>False</td>\n",
       "      <td>...</td>\n",
       "      <td>7.332649</td>\n",
       "      <td>256.157136</td>\n",
       "      <td>NaN</td>\n",
       "      <td>305.640381</td>\n",
       "      <td>305.640381</td>\n",
       "      <td>-6.335678</td>\n",
       "      <td>4.542657</td>\n",
       "      <td>NaN</td>\n",
       "      <td>NaN</td>\n",
       "      <td>49.483245</td>\n",
       "    </tr>\n",
       "  </tbody>\n",
       "</table>\n",
       "<p>5 rows × 63 columns</p>\n",
       "</div>"
      ],
      "text/plain": [
       "            time  month  year  pre_2003  2003_2023  compact  open     q1  \\\n",
       "5706  2025-03-20      3  2025     False      False    False  True  False   \n",
       "5707  2025-03-21      3  2025     False      False    False  True  False   \n",
       "5708  2025-03-22      3  2025     False      False    False  True  False   \n",
       "5709  2025-03-23      3  2025     False      False    False  True  False   \n",
       "5710  2025-03-24      3  2025     False      False    False  True   True   \n",
       "\n",
       "         q2     q3  ...        e10       a10_r  ai_r  centermass_direction_r  \\\n",
       "5706  False   True  ...  11.353458  275.658238   NaN              295.103032   \n",
       "5707  False   True  ...   8.207611  272.920987   NaN              292.831712   \n",
       "5708  False   True  ...   9.944726  269.329392   NaN              289.031216   \n",
       "5709   True  False  ...   8.086528  260.608372   NaN              282.930939   \n",
       "5710  False  False  ...   7.332649  256.157136   NaN              305.640381   \n",
       "\n",
       "      max_length_direction_r         up         vp  ta_wi  ta_ip      ta_wp  \n",
       "5706              291.571374 -31.350137  14.687500    NaN    NaN  19.444794  \n",
       "5707              296.940187 -30.586367  12.877250    NaN    NaN  19.910725  \n",
       "5708              277.203840 -33.515333  11.560683    NaN    NaN  19.701824  \n",
       "5709              277.203840 -37.298746   8.563753    NaN    NaN  22.322567  \n",
       "5710              305.640381  -6.335678   4.542657    NaN    NaN  49.483245  \n",
       "\n",
       "[5 rows x 63 columns]"
      ]
     },
     "execution_count": 441,
     "metadata": {},
     "output_type": "execute_result"
    }
   ],
   "source": [
    "event_df"
   ]
  },
  {
   "cell_type": "code",
   "execution_count": 442,
   "id": "914968ca",
   "metadata": {},
   "outputs": [
    {
     "data": {
      "text/plain": [
       "3435"
      ]
     },
     "execution_count": 442,
     "metadata": {},
     "output_type": "execute_result"
    }
   ],
   "source": [
    "evaluate[ev]['dbi2']"
   ]
  },
  {
   "cell_type": "code",
   "execution_count": 443,
   "id": "89898abf",
   "metadata": {},
   "outputs": [
    {
     "data": {
      "text/plain": [
       "(array([ 0.,  0.,  0.,  0.,  0.,  0.,  6.,  5., 13., 24., 16., 15., 15.,\n",
       "        27., 29., 22., 28., 24., 32., 35., 25., 23., 20., 13., 10., 15.,\n",
       "         3.,  2.,  7.]),\n",
       " array([-5., -4., -3., -2., -1.,  0.,  1.,  2.,  3.,  4.,  5.,  6.,  7.,\n",
       "         8.,  9., 10., 11., 12., 13., 14., 15., 16., 17., 18., 19., 20.,\n",
       "        21., 22., 23., 24.]),\n",
       " <BarContainer object of 29 artists>)"
      ]
     },
     "execution_count": 443,
     "metadata": {},
     "output_type": "execute_result"
    },
    {
     "data": {
      "image/png": "[encoded data removed]",
      "text/plain": [
       "<Figure size 300x300 with 1 Axes>"
      ]
     },
     "metadata": {},
     "output_type": "display_data"
    }
   ],
   "source": [
    "fig, ax = plt.subplots(figsize=(3,3,))\n",
    "\n",
    "plt.hist(all_dhdt, bins=np.arange(-5,25,1))"
   ]
  },
  {
   "cell_type": "code",
   "execution_count": 444,
   "id": "8a4dc4e6",
   "metadata": {},
   "outputs": [
    {
     "data": {
      "text/html": [
       "12.212085835850997 centimeter/day"
      ],
      "text/latex": [
       "$12.212085835850997\\ \\frac{\\mathrm{centimeter}}{\\mathrm{day}}$"
      ],
      "text/plain": [
       "<Quantity(12.2120858, 'centimeter / day')>"
      ]
     },
     "execution_count": 444,
     "metadata": {},
     "output_type": "execute_result"
    }
   ],
   "source": [
    "np.nanmean(all_dhdt)"
   ]
  },
  {
   "cell_type": "code",
   "execution_count": 445,
   "id": "ec87d8fd",
   "metadata": {},
   "outputs": [
    {
     "data": {
      "text/html": [
       "5.368778321763419 centimeter/day"
      ],
      "text/latex": [
       "$5.368778321763419\\ \\frac{\\mathrm{centimeter}}{\\mathrm{day}}$"
      ],
      "text/plain": [
       "<Quantity(5.36877832, 'centimeter / day')>"
      ]
     },
     "execution_count": 445,
     "metadata": {},
     "output_type": "execute_result"
    }
   ],
   "source": [
    "np.nanstd(all_dhdt)"
   ]
  },
  {
   "cell_type": "code",
   "execution_count": 446,
   "id": "8afe7c69",
   "metadata": {},
   "outputs": [],
   "source": [
    "R = 0.9624271"
   ]
  },
  {
   "cell_type": "code",
   "execution_count": 447,
   "id": "765bab9c",
   "metadata": {},
   "outputs": [],
   "source": [
    "# all_wp3 = all_wp"
   ]
  },
  {
   "cell_type": "code",
   "execution_count": 448,
   "id": "1756269c",
   "metadata": {},
   "outputs": [],
   "source": [
    "# all_wp2 = all_wp"
   ]
  },
  {
   "cell_type": "code",
   "execution_count": 449,
   "id": "367b11e1",
   "metadata": {},
   "outputs": [
    {
     "data": {
      "image/png": "[encoded data removed]",
      "text/plain": [
       "<Figure size 300x300 with 1 Axes>"
      ]
     },
     "metadata": {},
     "output_type": "display_data"
    }
   ],
   "source": [
    "fig, ax = plt.subplots(figsize=(3,3))\n",
    "\n",
    "# all_wp = np.array([])\n",
    "# all_io = np.array([])\n",
    "\n",
    "for key in across.keys():\n",
    "    \n",
    "    ax.scatter(-np.sign(across[key]['wu'])*across[key]['wu']**2, across[key]['Xo'])"
   ]
  },
  {
   "cell_type": "code",
   "execution_count": 450,
   "id": "248580af",
   "metadata": {},
   "outputs": [
    {
     "name": "stdout",
     "output_type": "stream",
     "text": [
      "LinregressResult(slope=nan, intercept=nan, rvalue=nan, pvalue=nan, stderr=nan, intercept_stderr=nan)\n"
     ]
    },
    {
     "data": {
      "text/plain": [
       "[<matplotlib.lines.Line2D at 0x15506fe60>]"
      ]
     },
     "execution_count": 450,
     "metadata": {},
     "output_type": "execute_result"
    },
    {
     "data": {
      "image/png": "[encoded data removed]",
      "text/plain": [
       "<Figure size 300x300 with 1 Axes>"
      ]
     },
     "metadata": {},
     "output_type": "display_data"
    }
   ],
   "source": [
    "fig, ax = plt.subplots(figsize=(3,3))\n",
    "\n",
    "all_wp = np.array([])\n",
    "all_io = np.array([])\n",
    "\n",
    "for key in across.keys():\n",
    "    \n",
    "    ax.scatter(across[key]['Fi=0'], across[key]['cum_drift_real'])\n",
    "    \n",
    "    all_wp = np.append(all_wp,across[key]['Fi=0'] )\n",
    "    all_io = np.append(all_io,across[key]['cum_drift_real'] )\n",
    "    \n",
    "    \n",
    "x = all_wp\n",
    "y = all_io\n",
    "result = stats.linregress(x, y)\n",
    "print(result)\n",
    "    \n",
    "    \n",
    "plt.plot([0,250], [0,250], c='k')\n"
   ]
  },
  {
   "cell_type": "code",
   "execution_count": 451,
   "id": "78192bc0",
   "metadata": {},
   "outputs": [
    {
     "data": {
      "image/png": "[encoded data removed]",
      "text/plain": [
       "<Figure size 300x300 with 1 Axes>"
      ]
     },
     "metadata": {},
     "output_type": "display_data"
    }
   ],
   "source": [
    "nums = np.array([len(across[ll]['Xlim']) for ll in across.keys()])\n",
    "dnums = np.array([len(set(across[ll]['seq'])) for ll in across.keys()])\n",
    "\n",
    "fig, ax = plt.subplots(figsize=(3,3))\n",
    "\n",
    "\n",
    "ax.bar(across.keys(), nums)\n",
    "ax.scatter(across.keys(), dnums)\n",
    "\n",
    "for key, num, dnum in zip(across.keys(), nums, dnums):\n",
    "    \n",
    "    ax.text(key, num, num, ha='center')\n",
    "    ax.text(key, num+10, dnum, ha='center', c='orange')"
   ]
  },
  {
   "cell_type": "code",
   "execution_count": 452,
   "id": "3d75af46",
   "metadata": {},
   "outputs": [
    {
     "data": {
      "text/plain": [
       "286"
      ]
     },
     "execution_count": 452,
     "metadata": {},
     "output_type": "execute_result"
    }
   ],
   "source": [
    "np.sum(nums[1:])"
   ]
  },
  {
   "cell_type": "code",
   "execution_count": 453,
   "id": "4ff5db08",
   "metadata": {},
   "outputs": [
    {
     "data": {
      "text/plain": [
       "[Text(0, 0, '1'),\n",
       " Text(1, 0, '2'),\n",
       " Text(2, 0, '3'),\n",
       " Text(3, 0, '4'),\n",
       " Text(4, 0, '5'),\n",
       " Text(5, 0, '6'),\n",
       " Text(6, 0, '7+')]"
      ]
     },
     "execution_count": 453,
     "metadata": {},
     "output_type": "execute_result"
    },
    {
     "data": {
      "image/png": "[encoded data removed]",
      "text/plain": [
       "<Figure size 300x300 with 1 Axes>"
      ]
     },
     "metadata": {},
     "output_type": "display_data"
    }
   ],
   "source": [
    "fig, ax = plt.subplots(figsize=(3,3))\n",
    "\n",
    "for LL,ll in enumerate(across.keys()):\n",
    "    ax.scatter(LL, np.nanpercentile(across[ll]['Fi=0'], 50), c='b')\n",
    "#     ax.scatter(ll, np.nanpercentile(across[ll]['cum_drift_real'], 50), c='dodgerblue')\n",
    "#     ax.scatter(ll, np.nanpercentile(across[ll]['Xlim'], 50), c='royalblue')\n",
    "    ax.scatter(LL, np.nanpercentile(across[ll]['Xp'], 50), c='royalblue')\n",
    "    \n",
    "    ax.scatter(LL, np.nanpercentile(across[ll]['Xo'], 50), c='k')\n",
    "    \n",
    "\n",
    "ax.set_xticks(range(len(list(across.keys()))))\n",
    "ax.set_xticklabels(list(across.keys()))"
   ]
  },
  {
   "cell_type": "code",
   "execution_count": 454,
   "id": "7d82693c",
   "metadata": {},
   "outputs": [
    {
     "data": {
      "text/plain": [
       "'7+'"
      ]
     },
     "execution_count": 454,
     "metadata": {},
     "output_type": "execute_result"
    }
   ],
   "source": [
    "ll"
   ]
  },
  {
   "cell_type": "markdown",
   "id": "62f19ae0",
   "metadata": {},
   "source": [
    "### Grab percentiles over time"
   ]
  },
  {
   "cell_type": "code",
   "execution_count": 455,
   "id": "a18da547",
   "metadata": {},
   "outputs": [],
   "source": [
    "CATS = ['Fi=0', 'Xp', 'Xo', 'Xlim', 'Ta', 'ws', 'Vi','cum_drift_real']\n",
    "percentiles = [5,25,50,75,95]\n",
    "byday = {}\n",
    "\n",
    "for cat in CATS:\n",
    "    byday[cat] = {}\n",
    "    for per in percentiles:\n",
    "        byday[cat][per] = np.array([])\n",
    "    byday[cat]['mean'] = np.array([])\n",
    "    byday[cat]['std'] = np.array([])\n",
    "\n",
    "for cat in CATS:\n",
    "    \n",
    "    # grab all data\n",
    "    all_data = np.array([])\n",
    "    for ll in across.keys():\n",
    "        all_data = np.append(all_data, across[ll][cat].magnitude)\n",
    "        # save each percentile\n",
    "        for per in percentiles:\n",
    "            byday[cat][per] = np.append(byday[cat][per], np.nanpercentile(across[ll][cat].magnitude, per))\n",
    "            \n",
    "        byday[cat]['mean'] = np.append(byday[cat]['mean'], np.nanmean(across[ll][cat].magnitude))\n",
    "        byday[cat]['std'] = np.append(byday[cat]['std'], np.nanstd(across[ll][cat].magnitude))"
   ]
  },
  {
   "cell_type": "code",
   "execution_count": 456,
   "id": "411ca09c",
   "metadata": {},
   "outputs": [
    {
     "data": {
      "text/plain": [
       "'7+'"
      ]
     },
     "execution_count": 456,
     "metadata": {},
     "output_type": "execute_result"
    }
   ],
   "source": [
    "ll"
   ]
  },
  {
   "cell_type": "code",
   "execution_count": 457,
   "id": "ffa1f816",
   "metadata": {},
   "outputs": [
    {
     "data": {
      "text/plain": [
       "[<matplotlib.lines.Line2D at 0x1551c78c0>]"
      ]
     },
     "execution_count": 457,
     "metadata": {},
     "output_type": "execute_result"
    },
    {
     "data": {
      "image/png": "[encoded data removed]",
      "text/plain": [
       "<Figure size 640x480 with 1 Axes>"
      ]
     },
     "metadata": {},
     "output_type": "display_data"
    }
   ],
   "source": [
    "cat = 'ws'\n",
    "plt.plot(byday[cat][50])\n",
    "plt.plot(byday[cat][75])\n",
    "plt.plot(byday[cat][25])"
   ]
  },
  {
   "cell_type": "code",
   "execution_count": 460,
   "id": "70cf3a58",
   "metadata": {},
   "outputs": [
    {
     "data": {
      "image/png": "[encoded data removed]",
      "text/plain": [
       "<Figure size 275x375 with 2 Axes>"
      ]
     },
     "metadata": {},
     "output_type": "display_data"
    }
   ],
   "source": [
    "fig, axs = plt.subplots(2,1,figsize=(2.75,3.75), gridspec_kw={'height_ratios':[0.25,1]})\n",
    "    \n",
    "\n",
    "# for xx, cat, color, color2, fillc,lab, mr, zo, al, LW, S in zip([np.append(np.array([-1,0]),days), days, \n",
    "#                                         np.append(np.array([-1,0]),days),], ['wind', 'obs', 'lat'], \n",
    "#                               ['white', [0.3,0.3,0.3], 'white'][::-1], \n",
    "#                               [[75/255,150/255,255/255], 'None', 'orange'][::-1], \n",
    "#                                 [[75/255,150/255,255/255], 'k', 'orange'][::-1],                           \n",
    "#                              ['Wind-driven ice drift', 'observed', 'Latent-heat estimate'],\n",
    "#                                                ['d', 's', 'o'][::-1], [0,1,0], [0.4,0.15,0.4], [0.5,1.5,0.5],\n",
    "#                                                           [60,40,60]):\n",
    "\n",
    "x = np.arange(len(across.keys()))\n",
    "\n",
    "\n",
    "ax = axs[0]\n",
    "ax.set_ylim(0,160)\n",
    "ax.bar(x, nums, color='k')\n",
    "# ax.scatter(x, dnums)\n",
    "ax.set_yticks([])\n",
    "ax.set_ylabel('Days', rotation=0, labelpad=20, va='center')\n",
    "for xx, num, dnum in zip(x, nums, dnums):\n",
    "    ax.text(xx, num, num, ha='center', va='bottom', size=7.5)\n",
    "#     ax.text(key, num+10, dnum, ha='center', c='orange')\n",
    "    \n",
    "    \n",
    "# ax.set_xticks(x)\n",
    "# ax.set_xticklabels([])\n",
    "# ax.yaxis.set_major_locator(ticker.MultipleLocator(5))\n",
    "# ax.yaxis.set_minor_locator(ticker.MultipleLocator(1))\n",
    "# ax.set_ylim(3,16)\n",
    "# ax.set_ylabel('Wind\\nspeed\\n($\\mathrm{m\\;s^{-1}}$)', rotation=0, labelpad=25, va='center')\n",
    "# cat = 'ws'\n",
    "\n",
    "# for X, Ymin, Ymax in zip(x, byday[cat][25].magnitude, byday[cat][75].magnitude):\n",
    "#     ax.plot([X,X], [Ymin, Ymax], lw=1, color='k', alpha=1, zorder=-10)\n",
    "# ax.scatter(x, byday[cat][50], lw=0, color='k', alpha=1, zorder=-10)\n",
    "\n",
    "# ax.fill_between(x, byday[cat][25], byday[cat][75], lw=0, color=fillc, alpha=alpha, zorder=-10)\n",
    "\n",
    "\n",
    "\n",
    "# ax = axs[0]\n",
    "ax.set_xticks(x)\n",
    "ax.set_xticklabels([])\n",
    "# ax.set_ylim(-25,-12)\n",
    "# ax.yaxis.set_major_locator(ticker.MultipleLocator(5))\n",
    "# ax.yaxis.set_minor_locator(ticker.MultipleLocator(1))\n",
    "# ax.set_ylabel('$\\mathrm{T_{a}\\;(^{\\circ}C)}$', rotation=0, labelpad=20, va='center')\n",
    "# cat = 'Ta'\n",
    "\n",
    "\n",
    "# for X, Ymin, Ymax, Ymid, low, high in zip(x, byday[cat][25].magnitude, byday[cat][75].magnitude, \n",
    "#                                byday[cat][50].magnitude, byday[cat][5].magnitude, byday[cat][95].magnitude):\n",
    "# #     ax.plot([X,X], [Ymin, Ymax], lw=1, color='k', alpha=1, zorder=-10)\n",
    "    \n",
    "#     bottom = Ymin\n",
    "#     middle = Ymid\n",
    "#     top = Ymax\n",
    "#     height=(top-bottom)\n",
    "#     bf = 0.2\n",
    "#     rectangle = patches.Rectangle((X-bf, bottom), 2*bf, height, lw=1, edgecolor='k', facecolor='None', alpha=1)\n",
    "#     ax.add_patch(rectangle)\n",
    "#     ax.plot([X-bf,X+bf], [Ymid, Ymid], c='k', lw=2.25)\n",
    "# #     ax.plot([X,X], [low,high], c='k', lw=1, zorder=-1)\n",
    "    \n",
    "# #     ax.plot([X-bf/2,X+bf/2], [low,low], c='k', lw=1, zorder=-1)\n",
    "# #     ax.plot([X-bf/2,X+bf/2], [high,high], c='k', lw=1, zorder=-1)\n",
    "    \n",
    "# #     ax.scatter([X], [Ymid], c='k', lw=1, zorder=0)\n",
    "    \n",
    "#     bf = 0.1\n",
    "#     ll = list(across.keys())[X]\n",
    "#     ax.scatter(np.linspace(X-bf,X+bf, len(across[ll][cat])), across[ll][cat].magnitude, \n",
    "#                s = 1, zorder=-1, c='lightgray')\n",
    "    \n",
    "    \n",
    "#     rectangle = patches.Rectangle((dd-bf, bottom), 2*bf, height, lw=LW, edgecolor=color, facecolor='None')\n",
    "#     ax.add_patch(rectangle)\n",
    "    \n",
    "    \n",
    "# for X, Ymin, Ymax in zip(x, byday[cat][5].magnitude, byday[cat][95].magnitude):\n",
    "#     ax.plot([X,X], [Ymin, Ymax], lw=1, color='k', alpha=1, zorder=-10)\n",
    "# ax.plot(x, byday[cat][50], lw=1.5, color='k', alpha=1, marker='o', zorder=-10)\n",
    "# ax.fill_between(x, byday[cat][25], byday[cat][75], lw=0, color='k', alpha=0.15, zorder=-10)\n",
    "\n",
    "\n",
    "\n",
    "ax = axs[1]\n",
    "\n",
    "x_adj = np.concatenate((np.array([x.min()-0.25]), x, np.array([x.max()+0.35])))\n",
    "\n",
    "\n",
    "color2 = [75/255,150/255,255/255]\n",
    "color2 = 'orange'\n",
    "\n",
    "color1 = 'r'\n",
    "\n",
    "for cat, fillc, alpha, edgec, facec, xx, LW, mr, ms in zip(['Fi=0', 'Xlim', 'Xo', 'cum_drift_real'], \n",
    "                                      [color1, color2, 'k'], \n",
    "                                                  [0.35,0.5,0.15],\n",
    "                                     ['white', 'white', 'k'], \n",
    "                                                       \n",
    "                                            [color1, color2, 'None'], \n",
    "                                      [x_adj,x_adj,x_adj], \n",
    "                                                       [0.75,0.75,1.5],\n",
    "                                     [ 's','d', 'o'], [40,55,45]):\n",
    "\n",
    "# for cat, fillc, alpha, edgec, facec, xx, LW, mr, ms in zip([ 'Xp', ], \n",
    "#                                       [ color2, 'k'], \n",
    "#                                                   [0.5,0.15],\n",
    "#                                      [ 'white', 'k'], \n",
    "                                                       \n",
    "#                                             [ color2, 'None'], \n",
    "#                                       [x_adj,x_adj], \n",
    "#                                                        [0.75,1.5],\n",
    "#                                      [ 'd', 'o'], [55,45]):\n",
    "\n",
    "# for cat, fillc, alpha, edgec, facec, xx, LW, mr, ms in zip([  'Xo', 'cum_drift_real'], \n",
    "#                                       [ 'k'], \n",
    "#                                                   [0.15],\n",
    "#                                      [  'k'], \n",
    "                                                       \n",
    "#                                             [  'None'], \n",
    "#                                       [x_adj], \n",
    "#                                                        [1.5],\n",
    "#                                      [  'o'], [45]):\n",
    "\n",
    "\n",
    "#     ax.fill_between(xx, np.concatenate((np.array([byday[cat][25][0].magnitude]), \n",
    "#                                         byday[cat][25].magnitude, np.array([byday[cat][25].magnitude[-1]]))), \n",
    "#                    np.concatenate((np.array([byday[cat][75][0].magnitude]), byday[cat][75].magnitude, np.array([byday[cat][75].magnitude[-1]]))), lw=0, color=fillc, alpha=alpha, zorder=-10)\n",
    "\n",
    "\n",
    "    low = byday[cat][25]\n",
    "    high = byday[cat][75]\n",
    "\n",
    "#     low = (byday[cat]['mean'] - byday[cat]['std'])\n",
    "#     high = (byday[cat]['mean'] + byday[cat]['std'])\n",
    "    \n",
    "    \n",
    "    \n",
    "\n",
    "    ax.fill_between(xx, np.concatenate((np.array([low[0]]), low, np.array([low[-1]]))), \n",
    "                   np.concatenate((np.array([high[0]]), high, np.array([high[-1]]))), lw=0, color=fillc, alpha=alpha, zorder=-10)\n",
    "\n",
    "\n",
    "#     ax.fill_between(xx, byday[cat][5], byday[cat][95], lw=0, color=fillc, alpha=alpha, zorder=-10)\n",
    "    \n",
    "#     ax.fill_between(np.append(xx, xx[-1]+0.35), \n",
    "#                     np.append(byday[cat][25], byday[cat][25][-1]), \n",
    "#                     np.append(byday[cat][75], byday[cat][75][-1]), lw=0, color=fillc, alpha=al, zorder=-1)\n",
    "    \n",
    "#     ax.scatter(xx[1:-1], byday[cat][50], \n",
    "#                edgecolor=edgec, lw=LW,\n",
    "#                facecolor = facec,marker=mr, s=ms)\n",
    "    ax.scatter(xx[1:-1], byday[cat][50], \n",
    "               edgecolor=edgec, lw=LW,\n",
    "               facecolor = facec,marker=mr, s=ms)\n",
    "    \n",
    "for kk, key in enumerate(across.keys()):\n",
    "    \n",
    "#     group = 'Xo'\n",
    "#     ax.scatter(np.full(len(across[key][group]), kk), across[key][group], s=1, zorder=-1, c='darkgray')\n",
    "    \n",
    "#     group = 'Fi=0'\n",
    "#     ax.scatter(np.full(len(across[key][group]), kk), across[key][group], s=1, zorder=-1, c='lightcoral')\n",
    "    \n",
    "    group = 'Xp'\n",
    "    ax.scatter(np.full(len(across[key][group]), kk), across[key][group], s=1, zorder=-1, c='gold')\n",
    "    \n",
    "    \n",
    "# plt.legend()\n",
    "#     for dd in days:\n",
    "#         yy = grouplen[cat]['all'][dd]\n",
    "#         ax.scatter(np.full(len(yy), dd), yy, c=color2, s=1, zorder=-1)\n",
    "\n",
    "\n",
    "ax.set_xticks(x)\n",
    "ax.set_xticklabels(across.keys())\n",
    "\n",
    "# ax.bar(days, nums/2, bottom=250, color='k', clip_on=False)\n",
    "# for dd, n in zip(days, nums):\n",
    "#     ax.text(dd, 250+n/2, f'{n:.0f}', c='k', ha='center', va='bottom', clip_on=False)\n",
    "\n",
    "\n",
    "ax.set_ylabel('Polynya\\nlength\\n(km)\\n', rotation=0, labelpad=25, va='center')\n",
    "ax.set_xlabel('Event day')\n",
    "\n",
    "\n",
    "ax.yaxis.set_major_locator(ticker.MultipleLocator(50))\n",
    "ax.yaxis.set_minor_locator(ticker.MultipleLocator(10))\n",
    "\n",
    "for ax, ch, yy in zip(axs, ['a', 'b', 'c'], [1.03,1.0]):\n",
    "    ax.text(0.975,yy, ch, weight='bold',  ha='right', va='bottom', transform=ax.transAxes)\n",
    "\n",
    "# plt.axhline(6.25, zorder=-1, ls='dashed', c='darkgray')\n",
    "\n",
    "ax.set_ylim(-10,250)\n",
    "# plt.text(5, 200, '2% wind-driven\\npack ice drift', ha='center', c=color1)\n",
    "# plt.text(3.5, 120, 'Observed', ha='right', c='k')\n",
    "# plt.text(9, 8, 'Latent-heat (Pease)', ha='right', c=color2)\n",
    "\n",
    "\n",
    "# ax.set_ylim(-10,380)\n",
    "# plt.text(5, 300, '3% wind-driven\\npack ice drift', ha='center', c=color1)\n",
    "# plt.text(3, 140, 'Observed', ha='right', c='k')\n",
    "# plt.text(9, 8, 'Latent-heat (Pease)', ha='right', c=color2)\n",
    "\n",
    "# plt.axhline(0,c='k', lw=0.5, zorder=-100)\n",
    "for ax in axs:\n",
    "    ax.set_xlim(-0.75,9.75)\n",
    "# plt.text(10, -5, 'SIC resolution', ha='right', c='gray')\n",
    "\n",
    "\n",
    "plt.subplots_adjust(hspace=0.175)\n",
    "\n",
    "# fig.savefig('../figures/results/dailyevent_time_layerLatent.png', transparent=True, dpi=400, bbox_inches='tight', pad_inches=0)\n"
   ]
  },
  {
   "cell_type": "code",
   "execution_count": 459,
   "id": "a00cb160",
   "metadata": {},
   "outputs": [
    {
     "data": {
      "text/plain": [
       "array([-1.88421557,  1.78547805, 19.37940059])"
      ]
     },
     "execution_count": 459,
     "metadata": {},
     "output_type": "execute_result"
    }
   ],
   "source": [
    "(byday['Fi=0'][50] - byday['Xo'][50])[0:3]"
   ]
  },
  {
   "cell_type": "code",
   "execution_count": 560,
   "id": "1f0b62bb",
   "metadata": {},
   "outputs": [
    {
     "data": {
      "text/plain": [
       "array([-12.02926287, -17.46519088, -10.28109955, -10.91743382,\n",
       "         0.93386622,  17.80710523,   1.29667421,  43.99582755,\n",
       "        66.4328786 ,  53.52104848])"
      ]
     },
     "execution_count": 560,
     "metadata": {},
     "output_type": "execute_result"
    }
   ],
   "source": [
    "byday['Fi=0'][50] - byday['Xo'][50]"
   ]
  },
  {
   "cell_type": "code",
   "execution_count": 561,
   "id": "d0244d6f",
   "metadata": {},
   "outputs": [
    {
     "data": {
      "text/plain": [
       "array([-13.64546145, -23.32731147, -21.97206526, -21.55851845,\n",
       "       -14.89848375, -13.85534312,  -5.91557131,  32.12411625,\n",
       "        58.14961881,  55.85880514])"
      ]
     },
     "execution_count": 561,
     "metadata": {},
     "output_type": "execute_result"
    }
   ],
   "source": [
    "byday['Fi=0']['mean'] - byday['Xo']['mean']"
   ]
  },
  {
   "cell_type": "code",
   "execution_count": 559,
   "id": "8a366c9f",
   "metadata": {},
   "outputs": [
    {
     "data": {
      "text/plain": [
       "array([ 16.86530389,  35.21465569,  55.14541337,  72.97968176,\n",
       "       100.58533874, 119.3008359 , 144.58349168, 168.80364152,\n",
       "       180.89954642, 227.01367332])"
      ]
     },
     "execution_count": 559,
     "metadata": {},
     "output_type": "execute_result"
    }
   ],
   "source": [
    "byday['Fi=0'][50]"
   ]
  },
  {
   "cell_type": "code",
   "execution_count": 62,
   "id": "3fc5e205",
   "metadata": {},
   "outputs": [
    {
     "data": {
      "text/plain": [
       "array([25.29795584, 39.36112667, 46.00465684, 50.09591405, 51.40970027,\n",
       "       51.96496262, 53.96676912, 52.0418789 , 49.04712813, 47.24972391])"
      ]
     },
     "execution_count": 62,
     "metadata": {},
     "output_type": "execute_result"
    }
   ],
   "source": [
    "byday['Xp'][50]"
   ]
  },
  {
   "cell_type": "code",
   "execution_count": 74,
   "id": "13cf1528",
   "metadata": {},
   "outputs": [
    {
     "data": {
      "text/plain": [
       "array([16.86530389, 26.24075112, 30.66977122, 33.39727603, 34.27313351,\n",
       "       34.64330841, 35.97784608, 34.69458593, 32.69808542, 31.49981594])"
      ]
     },
     "execution_count": 74,
     "metadata": {},
     "output_type": "execute_result"
    }
   ],
   "source": [
    "byday['Xp'][50]"
   ]
  },
  {
   "cell_type": "code",
   "execution_count": 521,
   "id": "39150020",
   "metadata": {},
   "outputs": [
    {
     "data": {
      "text/plain": [
       "array([ 25.7553524 ,  12.285662  ,   6.91587049,  30.66172566,\n",
       "       -13.16930105,  17.39534308,   4.82346629, -20.88482839,\n",
       "       -24.8173377 ])"
      ]
     },
     "execution_count": 521,
     "metadata": {},
     "output_type": "execute_result"
    }
   ],
   "source": [
    "np.diff(byday['Xo'][50])"
   ]
  },
  {
   "cell_type": "markdown",
   "id": "3e341811",
   "metadata": {},
   "source": [
    "### Average rate of lengthening"
   ]
  },
  {
   "cell_type": "code",
   "execution_count": 114,
   "id": "414a43ff",
   "metadata": {},
   "outputs": [],
   "source": [
    "all_ss = list(set(DF.sequence[(DF.sequence!=-999)&(shoulder==False)]))\n",
    "\n",
    "\n",
    "all_DL = np.array([])\n",
    "all_u = np.array([])\n",
    "\n",
    "for ss in all_ss:\n",
    "    \n",
    "    COND = ((DF.sequence==ss) & (DF.final_day==False)) #&(DF.s10>6)\n",
    "    \n",
    "    all_DL = np.append(all_DL, np.diff(DF.length_145max[COND].values))\n",
    "    \n",
    "    all_u = np.append(all_u, DF.u10[COND].values[:-1])"
   ]
  },
  {
   "cell_type": "code",
   "execution_count": 115,
   "id": "9e6496e6",
   "metadata": {},
   "outputs": [
    {
     "data": {
      "image/png": "[encoded data removed]",
      "text/plain": [
       "<Figure size 300x300 with 1 Axes>"
      ]
     },
     "metadata": {},
     "output_type": "display_data"
    },
    {
     "data": {
      "image/png": "[encoded data removed]",
      "text/plain": [
       "<Figure size 300x300 with 1 Axes>"
      ]
     },
     "metadata": {},
     "output_type": "display_data"
    }
   ],
   "source": [
    "from_w = -0.02 * all_u * units('m/s').to('km/day').magnitude\n",
    "\n",
    "fig, ax= plt.subplots(figsize=(3,3))\n",
    "plt.hist(from_w, bins=np.arange(-200,200,5));\n",
    "\n",
    "fig, ax= plt.subplots(figsize=(3,3))\n",
    "plt.hist(all_DL, bins=np.arange(-200,200,5));"
   ]
  },
  {
   "cell_type": "code",
   "execution_count": 459,
   "id": "104845ef",
   "metadata": {},
   "outputs": [
    {
     "data": {
      "text/plain": [
       "18.524498291015625"
      ]
     },
     "execution_count": 459,
     "metadata": {},
     "output_type": "execute_result"
    }
   ],
   "source": [
    "np.nanmedian(from_w)"
   ]
  },
  {
   "cell_type": "code",
   "execution_count": 460,
   "id": "af9fe378",
   "metadata": {},
   "outputs": [
    {
     "data": {
      "text/plain": [
       "17.716786057727436"
      ]
     },
     "execution_count": 460,
     "metadata": {},
     "output_type": "execute_result"
    }
   ],
   "source": [
    "np.nanmean(from_w)"
   ]
  },
  {
   "cell_type": "code",
   "execution_count": 461,
   "id": "9513aa2b",
   "metadata": {},
   "outputs": [
    {
     "data": {
      "text/plain": [
       "[<matplotlib.lines.Line2D at 0x1564755e0>]"
      ]
     },
     "execution_count": 461,
     "metadata": {},
     "output_type": "execute_result"
    },
    {
     "data": {
      "image/png": "[encoded data removed]",
      "text/plain": [
       "<Figure size 300x300 with 1 Axes>"
      ]
     },
     "metadata": {},
     "output_type": "display_data"
    }
   ],
   "source": [
    "fig, ax= plt.subplots(figsize=(3,3))\n",
    "\n",
    "plt.scatter(from_w, all_DL, s=1)\n",
    "\n",
    "plt.ylim(-50,100)\n",
    "\n",
    "plt.plot([0,100], [0,100])"
   ]
  },
  {
   "cell_type": "code",
   "execution_count": 462,
   "id": "65906af5",
   "metadata": {},
   "outputs": [
    {
     "data": {
      "text/plain": [
       "8.838450904173252"
      ]
     },
     "execution_count": 462,
     "metadata": {},
     "output_type": "execute_result"
    }
   ],
   "source": [
    "np.nanmedian(all_DL)"
   ]
  },
  {
   "cell_type": "code",
   "execution_count": 463,
   "id": "5ddff0e7",
   "metadata": {},
   "outputs": [
    {
     "data": {
      "text/plain": [
       "13.4295227869904"
      ]
     },
     "execution_count": 463,
     "metadata": {},
     "output_type": "execute_result"
    }
   ],
   "source": [
    "np.nanmean(all_DL)"
   ]
  },
  {
   "cell_type": "code",
   "execution_count": 464,
   "id": "65491444",
   "metadata": {},
   "outputs": [
    {
     "data": {
      "text/html": [
       "0.019290123456790122 "
      ],
      "text/latex": [
       "$0.019290123456790122\\ $"
      ],
      "text/plain": [
       "<Quantity(0.0192901235, 'dimensionless')>"
      ]
     },
     "execution_count": 464,
     "metadata": {},
     "output_type": "execute_result"
    }
   ],
   "source": [
    "(10*units('km/day').to('m/s'))/(6*units('m/s'))"
   ]
  },
  {
   "cell_type": "code",
   "execution_count": 465,
   "id": "61ff6c37",
   "metadata": {},
   "outputs": [
    {
     "data": {
      "text/plain": [
       "485"
      ]
     },
     "execution_count": 465,
     "metadata": {},
     "output_type": "execute_result"
    }
   ],
   "source": [
    "len(df[df.event_length>1])"
   ]
  },
  {
   "cell_type": "code",
   "execution_count": 466,
   "id": "c2368e68",
   "metadata": {},
   "outputs": [
    {
     "data": {
      "text/plain": [
       "52"
      ]
     },
     "execution_count": 466,
     "metadata": {},
     "output_type": "execute_result"
    }
   ],
   "source": [
    "len(df[df.event_length==1])"
   ]
  },
  {
   "cell_type": "code",
   "execution_count": 467,
   "id": "a3410873",
   "metadata": {},
   "outputs": [
    {
     "data": {
      "text/plain": [
       "52"
      ]
     },
     "execution_count": 467,
     "metadata": {},
     "output_type": "execute_result"
    }
   ],
   "source": [
    "len(df[df.event_length==1])"
   ]
  },
  {
   "cell_type": "code",
   "execution_count": 468,
   "id": "fa77c3b0",
   "metadata": {},
   "outputs": [
    {
     "data": {
      "text/plain": [
       "35.0"
      ]
     },
     "execution_count": 468,
     "metadata": {},
     "output_type": "execute_result"
    }
   ],
   "source": [
    "len(df[df.event_length==2])/2"
   ]
  },
  {
   "cell_type": "code",
   "execution_count": 469,
   "id": "b407b155",
   "metadata": {},
   "outputs": [
    {
     "data": {
      "text/plain": [
       "22.0"
      ]
     },
     "execution_count": 469,
     "metadata": {},
     "output_type": "execute_result"
    }
   ],
   "source": [
    "len(df[df.event_length==3])/3"
   ]
  },
  {
   "cell_type": "code",
   "execution_count": 470,
   "id": "a6da8d0c",
   "metadata": {},
   "outputs": [
    {
     "data": {
      "text/plain": [
       "17.0"
      ]
     },
     "execution_count": 470,
     "metadata": {},
     "output_type": "execute_result"
    }
   ],
   "source": [
    "len(df[df.event_length==4])/4"
   ]
  },
  {
   "cell_type": "code",
   "execution_count": 471,
   "id": "0e06c083",
   "metadata": {},
   "outputs": [
    {
     "data": {
      "text/plain": [
       "13.0"
      ]
     },
     "execution_count": 471,
     "metadata": {},
     "output_type": "execute_result"
    }
   ],
   "source": [
    "len(df[df.event_length==5])/5"
   ]
  },
  {
   "cell_type": "code",
   "execution_count": 472,
   "id": "714dcd50",
   "metadata": {},
   "outputs": [
    {
     "data": {
      "text/plain": [
       "19"
      ]
     },
     "execution_count": 472,
     "metadata": {},
     "output_type": "execute_result"
    }
   ],
   "source": [
    "df.event_length.max()\n"
   ]
  },
  {
   "cell_type": "code",
   "execution_count": 473,
   "id": "a6b6937a",
   "metadata": {},
   "outputs": [
    {
     "data": {
      "text/plain": [
       "14"
      ]
     },
     "execution_count": 473,
     "metadata": {},
     "output_type": "execute_result"
    }
   ],
   "source": [
    "len(list(set(df.sequence[df.event_length > 7])))"
   ]
  },
  {
   "cell_type": "code",
   "execution_count": 474,
   "id": "b4f36544",
   "metadata": {},
   "outputs": [
    {
     "data": {
      "text/plain": [
       "147"
      ]
     },
     "execution_count": 474,
     "metadata": {},
     "output_type": "execute_result"
    }
   ],
   "source": [
    "len(list(set(df.sequence[df.event_length <=7])))"
   ]
  },
  {
   "cell_type": "code",
   "execution_count": 475,
   "id": "ba2e42e1",
   "metadata": {},
   "outputs": [
    {
     "data": {
      "text/plain": [
       "0.6589595375722543"
      ]
     },
     "execution_count": 475,
     "metadata": {},
     "output_type": "execute_result"
    }
   ],
   "source": [
    "114/len(df.sequence[df.event_length > 7])"
   ]
  },
  {
   "cell_type": "code",
   "execution_count": 476,
   "id": "aee90928",
   "metadata": {},
   "outputs": [
    {
     "data": {
      "text/plain": [
       "114"
      ]
     },
     "execution_count": 476,
     "metadata": {},
     "output_type": "execute_result"
    }
   ],
   "source": [
    "np.sum(df.event_length>=12)"
   ]
  },
  {
   "cell_type": "code",
   "execution_count": 477,
   "id": "1cc44ea5",
   "metadata": {},
   "outputs": [
    {
     "data": {
      "text/plain": [
       "4"
      ]
     },
     "execution_count": 477,
     "metadata": {},
     "output_type": "execute_result"
    }
   ],
   "source": [
    "len(list(set(df.sequence[df.event_length >=13])))"
   ]
  },
  {
   "cell_type": "code",
   "execution_count": 478,
   "id": "e5695ae0",
   "metadata": {},
   "outputs": [
    {
     "data": {
      "text/plain": [
       "66"
      ]
     },
     "execution_count": 478,
     "metadata": {},
     "output_type": "execute_result"
    }
   ],
   "source": [
    "15+16+16+19"
   ]
  },
  {
   "cell_type": "code",
   "execution_count": 479,
   "id": "fd5712f4",
   "metadata": {},
   "outputs": [
    {
     "data": {
      "text/plain": [
       "32"
      ]
     },
     "execution_count": 479,
     "metadata": {},
     "output_type": "execute_result"
    }
   ],
   "source": [
    "32"
   ]
  },
  {
   "cell_type": "code",
   "execution_count": 480,
   "id": "30385e51",
   "metadata": {},
   "outputs": [
    {
     "data": {
      "text/plain": [
       "0.08695652173913043"
      ]
     },
     "execution_count": 480,
     "metadata": {},
     "output_type": "execute_result"
    }
   ],
   "source": [
    "14/(147+14)"
   ]
  },
  {
   "cell_type": "code",
   "execution_count": 481,
   "id": "6f590a21",
   "metadata": {},
   "outputs": [
    {
     "data": {
      "text/plain": [
       "537"
      ]
     },
     "execution_count": 481,
     "metadata": {},
     "output_type": "execute_result"
    }
   ],
   "source": [
    "485+52"
   ]
  },
  {
   "cell_type": "code",
   "execution_count": 482,
   "id": "d618bcd2",
   "metadata": {},
   "outputs": [
    {
     "data": {
      "text/plain": [
       "(array([52., 70., 66., 68., 65., 36.,  7.,  8.,  0., 40., 11., 48.,  0.,\n",
       "         0., 15., 32.,  0.,  0., 19.]),\n",
       " array([ 0.5,  1.5,  2.5,  3.5,  4.5,  5.5,  6.5,  7.5,  8.5,  9.5, 10.5,\n",
       "        11.5, 12.5, 13.5, 14.5, 15.5, 16.5, 17.5, 18.5, 19.5]),\n",
       " <BarContainer object of 19 artists>)"
      ]
     },
     "execution_count": 482,
     "metadata": {},
     "output_type": "execute_result"
    },
    {
     "data": {
      "image/png": "[encoded data removed]",
      "text/plain": [
       "<Figure size 640x480 with 1 Axes>"
      ]
     },
     "metadata": {},
     "output_type": "display_data"
    }
   ],
   "source": [
    "plt.hist(df.event_length[df.event_length!=-999], bins=np.arange(0.5,20,1))"
   ]
  },
  {
   "cell_type": "code",
   "execution_count": 483,
   "id": "1704e063",
   "metadata": {},
   "outputs": [
    {
     "data": {
      "text/html": [
       "<div>\n",
       "<style scoped>\n",
       "    .dataframe tbody tr th:only-of-type {\n",
       "        vertical-align: middle;\n",
       "    }\n",
       "\n",
       "    .dataframe tbody tr th {\n",
       "        vertical-align: top;\n",
       "    }\n",
       "\n",
       "    .dataframe thead th {\n",
       "        text-align: right;\n",
       "    }\n",
       "</style>\n",
       "<table border=\"1\" class=\"dataframe\">\n",
       "  <thead>\n",
       "    <tr style=\"text-align: right;\">\n",
       "      <th></th>\n",
       "      <th>time</th>\n",
       "      <th>month</th>\n",
       "      <th>year</th>\n",
       "      <th>pre_2003</th>\n",
       "      <th>2003_2023</th>\n",
       "      <th>compact</th>\n",
       "      <th>open</th>\n",
       "      <th>q1</th>\n",
       "      <th>q2</th>\n",
       "      <th>q3</th>\n",
       "      <th>...</th>\n",
       "      <th>e10</th>\n",
       "      <th>a10_r</th>\n",
       "      <th>ai_r</th>\n",
       "      <th>centermass_direction_r</th>\n",
       "      <th>max_length_direction_r</th>\n",
       "      <th>up</th>\n",
       "      <th>vp</th>\n",
       "      <th>ta_wi</th>\n",
       "      <th>ta_ip</th>\n",
       "      <th>ta_wp</th>\n",
       "    </tr>\n",
       "  </thead>\n",
       "  <tbody>\n",
       "    <tr>\n",
       "      <th>5389</th>\n",
       "      <td>2023-03-06</td>\n",
       "      <td>3</td>\n",
       "      <td>2023</td>\n",
       "      <td>False</td>\n",
       "      <td>True</td>\n",
       "      <td>False</td>\n",
       "      <td>True</td>\n",
       "      <td>True</td>\n",
       "      <td>False</td>\n",
       "      <td>False</td>\n",
       "      <td>...</td>\n",
       "      <td>9.465423</td>\n",
       "      <td>286.892609</td>\n",
       "      <td>324.594638</td>\n",
       "      <td>288.246639</td>\n",
       "      <td>288.246639</td>\n",
       "      <td>-12.562327</td>\n",
       "      <td>4.141617</td>\n",
       "      <td>37.702029</td>\n",
       "      <td>-36.347999</td>\n",
       "      <td>1.354030</td>\n",
       "    </tr>\n",
       "    <tr>\n",
       "      <th>5390</th>\n",
       "      <td>2023-03-07</td>\n",
       "      <td>3</td>\n",
       "      <td>2023</td>\n",
       "      <td>False</td>\n",
       "      <td>True</td>\n",
       "      <td>False</td>\n",
       "      <td>True</td>\n",
       "      <td>False</td>\n",
       "      <td>False</td>\n",
       "      <td>True</td>\n",
       "      <td>...</td>\n",
       "      <td>8.706365</td>\n",
       "      <td>296.139586</td>\n",
       "      <td>336.208919</td>\n",
       "      <td>318.847197</td>\n",
       "      <td>315.367954</td>\n",
       "      <td>-17.752988</td>\n",
       "      <td>20.312812</td>\n",
       "      <td>40.069333</td>\n",
       "      <td>-17.361722</td>\n",
       "      <td>22.707611</td>\n",
       "    </tr>\n",
       "    <tr>\n",
       "      <th>5391</th>\n",
       "      <td>2023-03-08</td>\n",
       "      <td>3</td>\n",
       "      <td>2023</td>\n",
       "      <td>False</td>\n",
       "      <td>True</td>\n",
       "      <td>False</td>\n",
       "      <td>True</td>\n",
       "      <td>False</td>\n",
       "      <td>True</td>\n",
       "      <td>False</td>\n",
       "      <td>...</td>\n",
       "      <td>3.198637</td>\n",
       "      <td>315.754694</td>\n",
       "      <td>308.822212</td>\n",
       "      <td>321.588237</td>\n",
       "      <td>324.257427</td>\n",
       "      <td>-14.350585</td>\n",
       "      <td>18.098298</td>\n",
       "      <td>-6.932481</td>\n",
       "      <td>12.766025</td>\n",
       "      <td>5.833544</td>\n",
       "    </tr>\n",
       "  </tbody>\n",
       "</table>\n",
       "<p>3 rows × 63 columns</p>\n",
       "</div>"
      ],
      "text/plain": [
       "            time  month  year  pre_2003  2003_2023  compact  open     q1  \\\n",
       "5389  2023-03-06      3  2023     False       True    False  True   True   \n",
       "5390  2023-03-07      3  2023     False       True    False  True  False   \n",
       "5391  2023-03-08      3  2023     False       True    False  True  False   \n",
       "\n",
       "         q2     q3  ...       e10       a10_r        ai_r  \\\n",
       "5389  False  False  ...  9.465423  286.892609  324.594638   \n",
       "5390  False   True  ...  8.706365  296.139586  336.208919   \n",
       "5391   True  False  ...  3.198637  315.754694  308.822212   \n",
       "\n",
       "      centermass_direction_r  max_length_direction_r         up         vp  \\\n",
       "5389              288.246639              288.246639 -12.562327   4.141617   \n",
       "5390              318.847197              315.367954 -17.752988  20.312812   \n",
       "5391              321.588237              324.257427 -14.350585  18.098298   \n",
       "\n",
       "          ta_wi      ta_ip      ta_wp  \n",
       "5389  37.702029 -36.347999   1.354030  \n",
       "5390  40.069333 -17.361722  22.707611  \n",
       "5391  -6.932481  12.766025   5.833544  \n",
       "\n",
       "[3 rows x 63 columns]"
      ]
     },
     "execution_count": 483,
     "metadata": {},
     "output_type": "execute_result"
    }
   ],
   "source": [
    "DF[DF.sequence==143]"
   ]
  },
  {
   "cell_type": "code",
   "execution_count": 484,
   "id": "31d164fa",
   "metadata": {},
   "outputs": [
    {
     "data": {
      "text/plain": [
       "1.3439085406812978"
      ]
     },
     "execution_count": 484,
     "metadata": {},
     "output_type": "execute_result"
    }
   ],
   "source": [
    "np.nanmean((byday['Fi=0'][50] - byday['Xo'][50])[1:6])"
   ]
  },
  {
   "cell_type": "code",
   "execution_count": 485,
   "id": "7004cf11",
   "metadata": {},
   "outputs": [
    {
     "data": {
      "text/plain": [
       "array([ 16.76952551,  35.27334895,  55.66057587,  74.07582901,\n",
       "       101.71509044, 120.37842551, 142.30456874, 171.35049125,\n",
       "       180.36453684, 223.10789387])"
      ]
     },
     "execution_count": 485,
     "metadata": {},
     "output_type": "execute_result"
    }
   ],
   "source": [
    "byday['Fi=0'][50]"
   ]
  },
  {
   "cell_type": "code",
   "execution_count": 486,
   "id": "26e85a3a",
   "metadata": {},
   "outputs": [
    {
     "data": {
      "text/plain": [
       "array([16.76952551, 26.48166362, 30.85581477, 35.1181038 , 34.27313351,\n",
       "       34.29217483, 35.06866436, 35.35546607, 33.07055158, 31.97779731])"
      ]
     },
     "execution_count": 486,
     "metadata": {},
     "output_type": "execute_result"
    }
   ],
   "source": [
    "byday['Xp'][50]"
   ]
  },
  {
   "cell_type": "code",
   "execution_count": 487,
   "id": "42e9df40",
   "metadata": {},
   "outputs": [
    {
     "data": {
      "text/plain": [
       "array([ 26.36417126,  52.22285247,  65.8889821 ,  72.3423834 ,\n",
       "        99.65147252,  90.27803657, 125.25848428, 118.43071567,\n",
       "       108.08585283,  81.94984747])"
      ]
     },
     "execution_count": 487,
     "metadata": {},
     "output_type": "execute_result"
    }
   ],
   "source": [
    "byday['Xo'][50]"
   ]
  },
  {
   "cell_type": "code",
   "execution_count": 488,
   "id": "c54f1f43",
   "metadata": {},
   "outputs": [
    {
     "data": {
      "text/plain": [
       "22.926485373043967"
      ]
     },
     "execution_count": 488,
     "metadata": {},
     "output_type": "execute_result"
    }
   ],
   "source": [
    "np.nanmean(np.diff(byday['Fi=0'][50]))"
   ]
  },
  {
   "cell_type": "code",
   "execution_count": null,
   "id": "e2f2abed",
   "metadata": {},
   "outputs": [],
   "source": []
  },
  {
   "cell_type": "code",
   "execution_count": 489,
   "id": "836d69d1",
   "metadata": {},
   "outputs": [
    {
     "data": {
      "text/plain": [
       "{'1': {'Fi=0': <Quantity([14.43260439 18.35964091 23.35786435 21.11397764 18.82341975 16.50773764\n",
       "   11.86445628 15.13265106 17.47054087 21.52575148 24.72649202 19.46530401\n",
       "   19.72974211 21.53778102 21.42828625 20.33805822 10.66902863 19.09243403\n",
       "   18.42528201 17.30617223 22.53359615 16.79988109 19.21900422 18.74149672\n",
       "   16.62843754 18.95717761 18.24313898 17.2302743  16.16688162 22.63390185\n",
       "   19.50645897 22.24522472 22.43688414 12.82768899 13.84743889 18.49562759\n",
       "   21.82325712 16.4730593  21.33691685 14.8310248  12.09835509 18.08175046\n",
       "   15.31197325 21.08420756 22.37163593 17.41355485 22.160974   16.05755834\n",
       "   15.74664443 15.21450847 10.79523816 19.15218576 18.9017645  12.1619936\n",
       "   16.51009957 19.36699138 11.98744491 24.20012818 15.49060714 16.67931691\n",
       "   17.15077927 24.10800084 12.55564269 16.73916994 14.63594499 15.10252394\n",
       "   23.90353111 16.91017858 19.37869881 25.05786508 12.12483371 13.18910248\n",
       "   12.14374365 11.66346245 13.3999056  22.41544773 12.27933574 15.7751756\n",
       "   13.68044095 10.69106682 16.48450325 14.25973817 12.31852035 15.75873496\n",
       "   17.04696426 14.35032974 16.82042921 23.48794482 11.84476365 17.09507979\n",
       "   12.39791517 11.72390416 16.67649207 15.96889918 20.82495621 14.06798239\n",
       "   20.02878784 18.69826872 12.33433435 18.17818554 15.53072005 21.18798634\n",
       "   14.32632038 12.39296788 10.49863307 22.70672318 21.32938792 15.80429137\n",
       "   14.21859192 16.73486727 13.54399409 11.13090852 17.61911346 11.6341776\n",
       "   17.08450579 15.4100213 ], 'kilometer')>,\n",
       "  'Xlim': <Quantity([  79.01098975   37.05873698   28.44631735   28.0546019    26.53911833\n",
       "     29.129301     29.75922444   44.27548794   29.21234441   28.34540018\n",
       "     26.59272224   28.28684973   18.69496871   19.51823094   29.34890731\n",
       "     29.3108129   -54.36671004   26.88765704   32.657623     30.15909994\n",
       "     22.07714393   37.6026455    35.81762132   28.90662412   59.90091211\n",
       "    542.10797709   27.54447723   24.44402589   24.5572992    24.17562599\n",
       "     52.72323827  163.08835464   26.92384315   39.99107285   43.12193478\n",
       "     32.61175228   28.07948223   36.82517985   30.49739344   22.26022701\n",
       "     24.18125721   41.03686553   26.09627251   28.98930381   25.21996541\n",
       "     36.35527369   30.0667912    41.16310284   29.39877054   28.99499777\n",
       "   -100.03534945  174.60173201   30.15690274   25.5822688    30.08225739\n",
       "     39.6168756    44.24478805   43.42314814  -85.7324549    26.9532187\n",
       "     52.69900162   35.10188675   29.23999457   21.88912471   23.66234036\n",
       "     28.82868881   66.21825101   29.97072179   46.94145454   53.95220278\n",
       "    265.21496628   24.23739585   31.25083602   21.58280727   28.60550223\n",
       "     57.61487963  100.49267298   31.53325822   31.68967654   23.5557342\n",
       "     25.16982279   82.7197865    37.15713597   39.09292288   57.19918421\n",
       "   -332.27917234   20.52338068   24.88396841   23.21101093   25.58132902\n",
       "     22.6924347    71.06514304   83.59407128   41.02703832   32.12935739\n",
       "     25.55212552   26.19964302   30.51393298   25.8034088    32.86725105\n",
       "     32.29045818  233.70699867   21.99244314   32.21230295   28.63826424\n",
       "     28.54859038   41.63107774   62.88908184  262.43693924   46.17234188\n",
       "     33.11734449   22.35181322   21.86007686   28.43413259   33.17088755\n",
       "     68.33725303], 'kilometer')>,\n",
       "  'Xp': <Quantity([14.43260439 18.35964091 23.35786435 21.11397764 18.82341975 16.50773764\n",
       "   11.86445628 15.13265106 17.47054087 21.52575148 24.72649202 19.46530401\n",
       "   19.72974211 21.53778102 21.42828625 20.33805822 10.66902863 19.09243403\n",
       "   18.42528201 17.30617223 22.53359615 16.79988109 19.21900422 18.74149672\n",
       "   16.62843754 18.95717761 18.24313898 17.2302743  16.16688162 22.63390185\n",
       "   19.50645897 22.24522472 22.43688414 12.82768899 13.84743889 18.49562759\n",
       "   21.82325712 16.4730593  21.33691685 14.8310248  12.09835509 18.08175046\n",
       "   15.31197325 21.08420756 22.37163593 17.41355485 22.160974   16.05755834\n",
       "   15.74664443 15.21450847 10.79523816 19.15218576 18.9017645  12.1619936\n",
       "   16.51009957 19.36699138 11.98744491 24.20012818 15.49060714 16.67931691\n",
       "   17.15077927 24.10800084 12.55564269 16.73916994 14.63594499 15.10252394\n",
       "   23.90353111 16.91017858 19.37869881 25.05786508 12.12483371 13.18910248\n",
       "   12.14374365 11.66346245 13.3999056  22.41544773 12.27933574 15.7751756\n",
       "   13.68044095 10.69106682 16.48450325 14.25973817 12.31852035 15.75873496\n",
       "   17.04696426 14.35032974 16.82042921 23.48794482 11.84476365 17.09507979\n",
       "   12.39791517 11.72390416 16.67649207 15.96889918 20.82495621 14.06798239\n",
       "   20.02878784 18.69826872 12.33433435 18.17818554 15.53072005 21.18798634\n",
       "   14.32632038 12.39296788 10.49863307 22.70672318 21.32938792 15.80429137\n",
       "   14.21859192 16.73486727 13.54399409 11.13090852 17.61911346 11.6341776\n",
       "   17.08450579 15.4100213 ], 'kilometer')>,\n",
       "  'Xo': <Quantity([40.83000671 16.62653428 26.36417126 31.1513479  29.38230774 34.25070497\n",
       "   12.7071111  34.25070497 40.83000671 30.30745856 75.99628816 38.18775777\n",
       "   40.83000671 30.30745856 20.55537295 24.4828478  15.68280923 15.68280923\n",
       "   31.1513479  26.36417126 40.83000671 24.4828478  30.30745856 34.25070497\n",
       "   25.46003298 15.68280923 35.10249415 17.6383976   6.98148797 25.46003298\n",
       "   35.10249415 43.8810969  40.83000671 28.40682579 40.83000671 23.53798319\n",
       "    6.39472716 52.67984657 26.36417126 25.46003298 17.6383976  58.70476094\n",
       "   16.62653428 25.46003298 29.38230774 63.24822059 79.06234245 40.83000671\n",
       "    7.80512686 12.7071111  21.54556201 14.00373418  7.80512686 17.6383976\n",
       "   40.83000671 31.1513479  34.25070497 30.30745856 53.60185527 20.55537295\n",
       "   25.46003298 31.1513479  12.7071111  21.54556201 12.7071111  17.6383976\n",
       "   56.61918363 52.67984657 20.55537295 61.49009517 35.97879601 45.69542807\n",
       "   47.82348083 16.62653428 26.36417126 39.04726215 23.53798319 50.50748549\n",
       "   75.11827779 17.6383976  35.97879601 31.1513479  11.74634861 -2.986502\n",
       "   43.8810969  53.60185527  7.80512686 26.36417126 29.38230774 17.6383976\n",
       "   17.6383976  17.6383976  42.99165549 61.49009517 26.36417126 16.62653428\n",
       "   26.36417126 16.62653428 17.6383976  26.36417126 40.83000671  6.98148797\n",
       "   31.1513479  42.11852996 38.18775777 -2.78959555 65.42651291 35.10249415\n",
       "   39.93280567 25.46003298 35.97879601 12.7071111  17.6383976  21.54556201\n",
       "   12.7071111  15.68280923], 'kilometer')>,\n",
       "  'seq': array([  2.,   3.,   4.,   5.,   6.,   7.,   8.,   9.,  11.,  12.,  14.,\n",
       "          15.,  16.,  18.,  19.,  20.,  21.,  23.,  25.,  26.,  27.,  28.,\n",
       "          29.,  30.,  31.,  32.,  34.,  36.,  37.,  38.,  39.,  40.,  41.,\n",
       "          42.,  43.,  46.,  48.,  49.,  50.,  53.,  54.,  55.,  56.,  57.,\n",
       "          58.,  59.,  60.,  62.,  63.,  64.,  65.,  67.,  68.,  69.,  70.,\n",
       "          71.,  72.,  73.,  74.,  75.,  76.,  77.,  78.,  79.,  80.,  81.,\n",
       "          82.,  83.,  84.,  85.,  86.,  87.,  88.,  90.,  91.,  92.,  93.,\n",
       "          95.,  96.,  98.,  99., 100., 102., 103., 104., 105., 106., 107.,\n",
       "         108., 109., 110., 113., 115., 116., 117., 122., 123., 124., 125.,\n",
       "         126., 127., 128., 129., 130., 131., 133., 134., 135., 136., 138.,\n",
       "         139., 140., 141., 142., 143., 145.]),\n",
       "  'Ta': <Quantity([ -7.9564991  -15.56921387 -21.11674881 -20.80127716 -21.80036354\n",
       "   -19.97929764 -19.56687737 -14.76182842 -19.90380669 -20.31793594\n",
       "   -22.45976639 -19.99363518 -29.8326931  -29.37304688 -19.93805504\n",
       "   -19.84745789  -3.90111542 -24.13547897 -17.13858986 -19.12710953\n",
       "   -26.1012249  -15.79629707 -16.99515915 -20.68845558 -14.22800732\n",
       "    -7.52887869 -20.57562447 -20.33026886 -23.26673508 -24.79129982\n",
       "   -12.14227962 -10.03426456 -22.17927361 -13.85042477 -13.39063835\n",
       "   -18.86564827 -22.40141487 -15.8780632  -19.30794334 -22.54333687\n",
       "   -22.15240479 -14.61598587 -21.61963463 -19.42907143 -24.51995087\n",
       "   -18.60819626 -19.97122955 -14.2255497  -20.6166153  -20.13946724\n",
       "    -6.64403725 -10.88420391 -19.12899399 -21.24555969 -18.72237968\n",
       "   -15.22368431 -13.51061535 -16.69508171  -2.6095829  -20.58961105\n",
       "   -11.59912968 -17.2023716  -18.3636322  -25.17777252 -23.29904938\n",
       "   -19.59985161 -10.77829742 -19.39875793 -15.53984165 -15.18489838\n",
       "    -9.36239719 -22.70740891 -17.55045319 -24.31254005 -18.78866768\n",
       "   -14.54692745 -12.09896564 -17.36395454 -15.91623783 -20.83778954\n",
       "   -22.72118759  -7.48809385 -16.11935043 -19.28271103 -15.10051632\n",
       "    -7.15653658 -27.51571083 -23.78485298 -22.72112083 -20.48816681\n",
       "   -24.15813065 -11.69733143 -12.23916245 -13.8010788  -18.27675629\n",
       "   -20.70368767 -21.56565094 -19.14429283 -23.12200546 -20.23349571\n",
       "   -21.48628998  -9.61629581 -24.42694664 -17.13444901 -18.54195595\n",
       "   -21.87381172 -17.41173553 -16.71099091 -11.73279667 -12.98685646\n",
       "   -16.87532997 -23.7840004  -24.54520035 -18.45479965 -19.30236244\n",
       "   -13.4101429 ], 'degree_Celsius')>,\n",
       "  'Vi': <Quantity([14.43260439 18.35964091 23.35786435 21.11397764 18.82341975 16.50773764\n",
       "   11.86445628 15.13265106 17.47054087 21.52575148 24.72649202 19.46530401\n",
       "   19.72974211 21.53778102 21.42828625 20.33805822 10.66902863 19.09243403\n",
       "   18.42528201 17.30617223 22.53359615 16.79988109 19.21900422 18.74149672\n",
       "   16.62843754 18.95717761 18.24313898 17.2302743  16.16688162 22.63390185\n",
       "   19.50645897 22.24522472 22.43688414 12.82768899 13.84743889 18.49562759\n",
       "   21.82325712 16.4730593  21.33691685 14.8310248  12.09835509 18.08175046\n",
       "   15.31197325 21.08420756 22.37163593 17.41355485 22.160974   16.05755834\n",
       "   15.74664443 15.21450847 10.79523816 19.15218576 18.9017645  12.1619936\n",
       "   16.51009957 19.36699138 11.98744491 24.20012818 15.49060714 16.67931691\n",
       "   17.15077927 24.10800084 12.55564269 16.73916994 14.63594499 15.10252394\n",
       "   23.90353111 16.91017858 19.37869881 25.05786508 12.12483371 13.18910248\n",
       "   12.14374365 11.66346245 13.3999056  22.41544773 12.27933574 15.7751756\n",
       "   13.68044095 10.69106682 16.48450325 14.25973817 12.31852035 15.75873496\n",
       "   17.04696426 14.35032974 16.82042921 23.48794482 11.84476365 17.09507979\n",
       "   12.39791517 11.72390416 16.67649207 15.96889918 20.82495621 14.06798239\n",
       "   20.02878784 18.69826872 12.33433435 18.17818554 15.53072005 21.18798634\n",
       "   14.32632038 12.39296788 10.49863307 22.70672318 21.32938792 15.80429137\n",
       "   14.21859192 16.73486727 13.54399409 11.13090852 17.61911346 11.6341776\n",
       "   17.08450579 15.4100213 ], 'kilometer / day')>,\n",
       "  'ws': <Quantity([ 8.38918293 11.06931733 13.548833   12.49796261 11.03098137  9.61126907\n",
       "    7.00294713  8.84379648 10.11199447 12.99342037 14.4732483  11.83899295\n",
       "   11.93265478 12.78142062 12.71863243 12.32772095  6.20416543 11.05017523\n",
       "   11.40041408 10.12564711 13.44910453  9.72714489 11.14940982 10.94205579\n",
       "    9.63101235 11.15877202 10.93258493 11.92376468  9.36863314 13.21722492\n",
       "   11.67065964 12.87551971 12.98590546  7.64199807  8.01705136 10.73635248\n",
       "   12.77074928  9.56302056 12.5950176   9.8316369   7.10958111 10.46412461\n",
       "    8.90917158 13.06431187 13.24447352 10.20568861 12.82525214  9.43356161\n",
       "    9.1869547   9.27886178  6.40595593 11.6161178  11.22528801  7.04451622\n",
       "    9.87004315 11.21671271  7.15224997 14.47561069  8.98787556 10.08947749\n",
       "    9.9253879  14.23381786  7.63638251 10.27417046  9.12429381  9.28187111\n",
       "   13.89509806 10.81826426 11.53377312 14.66972554  7.83225316  7.63973067\n",
       "    7.04708011  6.95171116  8.15207286 13.11983135  7.98589763  9.73432951\n",
       "    9.13417979  6.81774612  9.54131618  8.56380768  7.79078728  9.12869634\n",
       "   10.32699428  8.57360739  9.81984441 13.74907043  7.05425224 11.1205502\n",
       "    7.19745788  6.86678268 10.00232134  9.73506999 12.34801742  8.71904066\n",
       "   12.17670736 10.92581352  7.17216283 10.55107939  8.98777136 12.32206531\n",
       "    8.66346698  7.18731003  6.07568671 13.24722342 12.46217122  9.20002359\n",
       "    8.23113513  9.69273439  7.91550586  6.44189151 11.05987381  7.34495397\n",
       "    9.89226316  8.99749537], 'meter / second')>,\n",
       "  'wu': array([ -7.86395788, -11.06650066, -13.29586506, -12.48233128,\n",
       "         -10.97186947,  -9.50086975,  -6.98873806,  -8.77823257,\n",
       "          -9.71738911, -12.98884583, -14.38394356, -11.8236208 ,\n",
       "         -11.92613411, -12.77196503, -12.70958996, -12.31774712,\n",
       "          -5.80621243, -10.62829494, -11.34357548, -10.06000423,\n",
       "         -13.44767094,  -9.47152138, -10.9449501 , -10.85107899,\n",
       "          -9.19299793, -11.12494183, -10.93257999, -11.32372856,\n",
       "          -9.16374493, -13.10983086, -11.67050362, -12.49529648,\n",
       "         -12.59459591,  -6.70082855,  -7.67931461, -10.121521  ,\n",
       "         -12.68962765,  -9.01229286, -12.56977463,  -9.53149414,\n",
       "          -7.08263111, -10.1218605 ,  -8.3199358 , -12.99417496,\n",
       "         -13.22838497, -10.15159416, -12.42014027,  -9.39648342,\n",
       "          -9.10395718,  -9.26256752,  -5.66759872, -11.60577011,\n",
       "         -11.21830368,  -6.87561798,  -9.86970806, -10.70982075,\n",
       "          -6.2502594 , -14.47534752,  -8.82677937, -10.08377361,\n",
       "          -9.6019907 , -14.2062397 ,  -7.62648058, -10.2430048 ,\n",
       "          -9.05950165,  -9.25096989, -13.70116425, -10.64617443,\n",
       "         -11.52988434, -14.58102894,  -7.67828512,  -7.4580245 ,\n",
       "          -6.65274858,  -6.95030308,  -8.14115238, -13.03837585,\n",
       "          -7.80707121,  -9.69256115,  -8.8262949 ,  -6.71743345,\n",
       "          -9.16834354,  -8.56347561,  -7.69927311,  -8.70366764,\n",
       "         -10.31938076,  -8.57312298,  -9.73760509, -13.66480637,\n",
       "          -7.05233383, -10.87041283,  -7.07820463,  -6.8275156 ,\n",
       "         -10.00223637,  -9.71865845, -12.33702374,  -8.67164612,\n",
       "         -12.16167641, -10.84325218,  -7.07586956,  -9.95115471,\n",
       "          -8.67125225, -12.15940475,  -8.65885925,  -6.80556107,\n",
       "          -5.86007166, -13.12712288, -12.36706161,  -9.09202194,\n",
       "          -7.89258051,  -9.45773602,  -7.28482246,  -6.20358038,\n",
       "         -10.95774078,  -5.743505  ,  -9.46542263,  -8.3047781 ]),\n",
       "  'date': DatetimeIndex(['2002-12-10', '2002-12-22', '2003-01-10', '2003-01-19',\n",
       "                 '2003-01-24', '2003-02-07', '2003-02-28', '2003-03-04',\n",
       "                 '2003-12-07', '2003-12-11',\n",
       "                 ...\n",
       "                 '2022-03-25', '2022-04-16', '2022-04-22', '2022-12-06',\n",
       "                 '2022-12-11', '2022-12-24', '2023-01-11', '2023-02-23',\n",
       "                 '2023-03-06', '2023-03-30'],\n",
       "                dtype='datetime64[ns]', length=116, freq=None),\n",
       "  'cum_drift_real': <Quantity([13.91057376 23.21824155 17.53048409 15.78369235  9.33345754 17.50164729\n",
       "   12.93972743  5.61709693  9.57424468 18.25108987 12.69228732 11.36669415\n",
       "   14.20576405 15.66918217 13.3290985  15.80720814  1.59408361 16.27803851\n",
       "   16.16661392 20.03512283 13.70413711 18.42826935 18.73216171 13.34848407\n",
       "    7.62892946 16.33058096 15.36463908 13.90109534 17.28393136 13.1486906\n",
       "   17.02750513 21.47730841 28.1916053  12.9258825  18.41682535 15.8827377\n",
       "   21.74384088 16.02882048 18.08811222 16.503342   17.33774403 15.57027644\n",
       "   19.3538769  18.68925885 23.78324559 19.86403775 16.61580594 17.21504205\n",
       "   10.27679498 17.42563194  6.7094045   3.10613711 11.62086362  7.54193185\n",
       "    7.69252151  6.67668602  2.48624751 10.13369471  8.47501893 23.77511669\n",
       "   23.4683754  26.52613148 14.47901517 16.67198985 14.54237216 16.09481288\n",
       "   28.29241654 16.41899871 24.64694979 13.11750973 24.58133527 17.08907666\n",
       "   16.11004153 13.50918501 13.24677558 21.61179361 18.83535385 23.6396764\n",
       "   19.60885123 17.64503198 19.83439187  8.5104613  17.02227823 17.05586909\n",
       "   19.80744454 20.84386688 15.02092656 20.40940298 11.98751815 11.79349304\n",
       "   14.22149454  6.08371025 14.21697465 16.32578634 26.77290657 24.94030826\n",
       "   23.51724361 26.64969591 20.16279712 17.88778424 16.63522419 19.86901717\n",
       "   18.80194731  3.37097842 12.50339164 27.45989865 22.23778572 10.57809004\n",
       "   11.6930941  16.08962655 20.07167994  9.34320105 20.74525357  4.55929423\n",
       "   16.71581534 20.25780092], 'kilometer')>},\n",
       " '2': {'Fi=0': <Quantity([ 4.40330724e+01  4.38689212e+01  4.66004772e+01  4.84572068e+01\n",
       "    5.25580355e+01  3.36130758e+01  4.60405642e+01  3.79649395e+01\n",
       "    3.40451256e+01  3.49698131e+01  4.08733948e+01  3.52273595e+01\n",
       "    3.31172420e+01  3.29368125e+01  3.99045554e+01  4.13559599e+01\n",
       "    4.74540683e+01  4.45838700e+01  4.01587324e+01  2.39938848e+01\n",
       "    3.87703032e+01  3.48090595e+01  4.30919825e+01  4.37186752e+01\n",
       "    2.81694897e+01  4.47244063e+01  2.89518805e+01  3.70958108e+01\n",
       "    3.45566717e+01  3.30726393e+01  2.68858958e+01  4.48016542e+01\n",
       "    3.35938845e+01  4.89436516e+01  2.81033251e+01  3.37049135e+01\n",
       "    5.03691281e+01  3.25230452e+01  3.40621203e+01  4.96783687e+01\n",
       "    2.98512135e+01  2.55066450e+01  2.26821944e+01  4.45540757e+01\n",
       "    2.90964539e+01  2.95185810e+01  2.56561100e+01  3.41238350e+01\n",
       "    2.84503371e+01  3.53193384e+01  3.84125067e+01  4.79144911e+01\n",
       "    3.52019519e+01  3.95431233e+01  2.98856484e+01  3.78435387e+01\n",
       "    3.84776663e+01  3.97644842e+01 -1.61620690e-01  4.60990621e+01\n",
       "    4.26283252e+01  3.67785492e+01  2.86264607e+01  2.41200915e+01\n",
       "    3.87808854e+01 -5.23640185e-02  3.35273756e+01  3.22544448e+01], 'kilometer')>,\n",
       "  'Xlim': <Quantity([   38.95339018    32.80253316    31.17080807    30.22740952\n",
       "      34.05520133    27.01058768    23.72040881    28.3808722\n",
       "      29.76102362    38.98029486    36.89111292  -260.93202877\n",
       "      28.96574828    26.60369165    24.78921523  -682.01954986\n",
       "      26.91875092    33.16053652    32.9635663     25.07201791\n",
       "      46.94587824    29.22293076    27.25714675    26.1646781\n",
       "      31.15451133    32.66668683    46.50989471    42.0420453\n",
       "     132.63126604    31.8504765     28.44851515    44.76655331\n",
       "      29.62409839    38.39313123    27.06121456    23.39587097\n",
       "      51.68442486    28.52401433    55.91874106    61.44776229\n",
       "     428.73222657    25.34124463    34.96265869    62.18496287\n",
       "      69.38639793    29.90622463    27.70448514    34.18448675\n",
       "      34.17104022    57.79105825    24.94856897    34.86764616\n",
       "      28.84530173    37.07752692    28.1815652     35.42290269\n",
       "      33.62425571 -1218.73993027   -38.0326756     37.86266027\n",
       "      43.6184534     40.42980792    35.04643353    20.87582665\n",
       "      26.33350724   -76.00487481    39.20047828    63.65493074], 'kilometer')>,\n",
       "  'Xp': <Quantity([31.93258563 29.26351005 29.33684448 29.27859298 32.35036059 23.41741912\n",
       "   23.7923988  25.26899194 24.31134716 27.13886422 29.59220022 36.40941727\n",
       "   23.74926966 22.76424076 24.13550931 41.979289   26.60214749 29.60489924\n",
       "   27.97559936 18.25376677 30.80186673 24.59314838 26.06831898 25.46627443\n",
       "   22.15754943 29.41744728 24.50011098 29.17723176 32.33223712 24.66288949\n",
       "   20.86430105 33.66477782 24.07044079 33.34872953 20.88963759 21.5663415\n",
       "   38.12905338 23.2671123  28.97356507 39.63834066 29.34989963 19.09585766\n",
       "   19.02182504 36.57389469 26.12032247 22.2690991  19.74253922 26.79532682\n",
       "   22.6348831  29.92943002 23.85503804 31.46000008 24.47096955 29.02988139\n",
       "   21.98961262 27.73755144 27.50321588 40.08743959 -4.25254015 32.07037631\n",
       "   32.21316233 28.48198846 22.79771243 17.19431031 24.62205509 -1.84124008\n",
       "   26.36117976 28.17663145], 'kilometer')>,\n",
       "  'Xo': <Quantity([ 64.49269599  35.10249415  86.02844391  75.99628816 245.72636616\n",
       "    50.86113531  35.97879601  49.95625916  40.83000671  34.25070497\n",
       "    47.82348083  72.03515351  42.11852996  21.54556201  58.70476094\n",
       "    96.63408958 114.23852477  72.3423834   62.40007907  25.46003298\n",
       "    73.29489864  56.61918363  65.42651291  77.22051957  39.04726215\n",
       "   182.42056519  67.21118397  43.8810969   10.89397601  44.7849453\n",
       "    42.99165549  25.46003298  29.38230774  35.10249415  35.10249415\n",
       "    26.36417126  79.06234245  35.97879601  31.1513479  101.49373068\n",
       "    66.35145129  58.4422851   51.76585838  89.63964083  25.46003298\n",
       "    34.25070497  63.24822059  70.29638936  11.74634861  52.67984657\n",
       "    53.60185527  98.71703113  17.6383976   55.70209606  40.83000671\n",
       "    48.73501269  52.67984657 102.40709693  33.30344077 101.49373068\n",
       "    70.29638936  43.8810969   63.55586816  21.54556201  79.95132803\n",
       "    23.53798319  46.92961937  79.06234245], 'kilometer')>,\n",
       "  'seq': array([  3.,   4.,   5.,  12.,  14.,  15.,  18.,  23.,  26.,  28.,  29.,\n",
       "          32.,  34.,  36.,  38.,  40.,  41.,  48.,  50.,  54.,  55.,  56.,\n",
       "          57.,  58.,  59.,  60.,  62.,  64.,  67.,  68.,  70.,  73.,  75.,\n",
       "          77.,  78.,  79.,  82.,  83.,  84.,  85.,  86.,  87.,  88.,  92.,\n",
       "          93.,  95.,  96.,  98., 102., 104., 106., 107., 109., 117., 122.,\n",
       "         124., 126., 128., 130., 133., 134., 138., 139., 140., 141., 142.,\n",
       "         143., 145.]),\n",
       "  'Ta': <Quantity([-15.89347839 -18.24672508 -19.60227394 -20.02762413 -18.21944809\n",
       "   -20.11733055 -24.87556458 -23.08474731 -19.44178009 -15.233778\n",
       "   -16.8064537   -5.14885283 -19.27483368 -18.75050735 -23.72227669\n",
       "    -6.83533764 -22.43990135 -19.53334618 -17.64386559 -21.41930199\n",
       "   -13.18567276 -20.18641853 -20.61001015 -23.6297226  -18.08337593\n",
       "   -18.49677849 -12.41949749 -15.69837666 -12.81318092 -17.73567772\n",
       "   -18.31420326 -16.38831139 -19.23303986 -15.86097908 -20.60397911\n",
       "   -23.81198311 -13.18123245 -19.56129456 -13.75795364 -13.67955112\n",
       "    -8.00239086 -21.40356255 -15.30883408 -13.94786644 -14.17570686\n",
       "   -16.87586403 -17.92079926 -17.5867672  -17.83605576 -14.40815449\n",
       "   -23.66057205 -17.35687256 -20.15328407 -16.03712273 -19.45907784\n",
       "   -16.64764595 -19.45806503  -8.43412304 -14.72088432 -17.25270653\n",
       "   -16.7416153  -14.95510197 -16.32068825 -26.15201569 -21.35786247\n",
       "    -8.46226597 -16.19793701 -13.01459789], 'degree_Celsius')>,\n",
       "  'Vi': <Quantity([ 25.67343153  20.51105687  25.48649952  26.93145535  27.83154352\n",
       "    14.1477718   24.50278316  18.87250552  16.73895336  18.16993205\n",
       "    21.65439062  16.2701819   14.87410301  15.70653816  17.27065351\n",
       "    19.11073523  25.01718415  22.7606129   18.82181552  11.89552975\n",
       "    20.68855274  19.49708623  22.00777496  21.3470393   10.75593486\n",
       "    22.56343231  12.89432211  21.88130236  15.40448595  14.17087475\n",
       "    10.37579619  20.60152603  16.91456757  24.83565075  15.54768238\n",
       "    16.96574361  26.46559696  15.61286663  14.68342149  24.62050366\n",
       "    17.72637978  12.31754253  10.53845075  22.13862792  16.81711817\n",
       "    13.74340535  11.97566902  23.43276817  16.13181676  18.27237413\n",
       "    21.5920775   24.42654631  18.10687208  18.71816709  15.81766598\n",
       "    19.14526995  20.29948078  18.5764979  -12.55458857  23.39233893\n",
       "    21.29893724  20.04368192  15.0824666   12.98918299  21.16177198\n",
       "   -11.68654162  16.44286981  16.84442347], 'kilometer / day')>,\n",
       "  'ws': <Quantity([14.96403193 11.8722027  14.75153187 15.82318053 16.10637647  8.51680147\n",
       "   14.42629784 10.92247381  9.68699671 10.74803564 12.54909692  9.45505951\n",
       "    8.78424029 10.73457519 10.00221453 11.07588612 14.48042919 13.25688097\n",
       "   11.14457752  6.95224933 11.97254404 11.28935839 13.68917442 12.69627543\n",
       "    7.38560023 13.08450865  7.49753522 12.66586775  9.37673116  8.22170885\n",
       "    6.13311363 12.53256626  9.99637713 14.71851228  9.36195366 10.35297441\n",
       "   15.45091715 10.41521623  8.52309794 14.57463595 10.7150278   7.17237346\n",
       "    6.13758213 12.90029855 10.4167291   9.12393428  7.82774711 13.80306151\n",
       "    9.94206135 11.13181965 12.54228354 14.37770194 10.56539532 10.89479696\n",
       "    9.65226846 11.25664728 11.87143489 10.99088957  7.28512851 13.55800727\n",
       "   12.56237074 11.66564215  8.80499421  7.5231334  13.04189431  8.02615162\n",
       "    9.69827075 10.02534972], 'meter / second')>,\n",
       "  'wu': array([-14.81278801, -11.52686977, -14.17769623, -15.76168251,\n",
       "         -15.53887939,  -8.51553535, -14.38389111, -10.51345921,\n",
       "          -9.34529305, -10.73283768, -11.93241692,  -9.31808376,\n",
       "          -8.76791573, -10.25778294,  -9.55298042, -10.52651405,\n",
       "         -13.90932655, -13.11128235, -11.13141823,  -6.39788771,\n",
       "         -11.56282043, -10.99635029, -13.60097218, -12.69095898,\n",
       "          -7.04127789, -12.82992744,  -7.01900387, -12.3035717 ,\n",
       "          -9.36333942,  -7.76941538,  -5.47655249, -12.51589584,\n",
       "          -9.979846  , -14.70392036,  -9.3604126 , -10.33369637,\n",
       "         -15.32169247, -10.06826496,  -8.37914658, -14.55665302,\n",
       "         -10.7098074 ,  -6.6796279 ,  -6.06949425, -12.76578522,\n",
       "         -10.36177254,  -8.83954716,  -7.6361084 , -13.7651825 ,\n",
       "          -9.90244484, -11.11435032, -11.78927326, -12.9742384 ,\n",
       "         -10.47143078, -10.7648344 ,  -9.63431644, -11.21683884,\n",
       "         -11.79012299,  -9.79202843,   7.15654087, -12.88178349,\n",
       "         -12.53383732, -11.52553177,  -8.13070011,  -7.34007788,\n",
       "         -12.98995876,   7.6512351 ,  -8.70636463,  -8.80959415]),\n",
       "  'date': DatetimeIndex(['2002-12-23', '2003-01-11', '2003-01-20', '2003-12-12',\n",
       "                 '2003-12-30', '2004-01-12', '2004-12-18', '2006-03-16',\n",
       "                 '2006-12-17', '2007-02-02', '2007-02-08', '2007-04-20',\n",
       "                 '2007-12-25', '2008-01-03', '2008-02-13', '2008-04-24',\n",
       "                 '2008-12-10', '2009-03-10', '2009-12-29', '2010-12-07',\n",
       "                 '2011-01-05', '2012-12-23', '2013-01-15', '2013-03-07',\n",
       "                 '2013-03-17', '2013-12-31', '2014-01-29', '2014-02-28',\n",
       "                 '2014-04-29', '2014-12-22', '2015-01-02', '2015-04-01',\n",
       "                 '2015-12-16', '2016-01-27', '2016-02-03', '2016-02-09',\n",
       "                 '2016-02-27', '2016-03-10', '2016-03-23', '2016-04-06',\n",
       "                 '2016-04-20', '2016-12-07', '2016-12-17', '2017-04-06',\n",
       "                 '2017-04-15', '2017-12-04', '2017-12-10', '2018-01-02',\n",
       "                 '2018-03-10', '2018-04-07', '2018-12-26', '2019-01-16',\n",
       "                 '2019-01-27', '2019-12-09', '2020-12-11', '2021-01-23',\n",
       "                 '2021-03-15', '2021-04-27', '2021-12-21', '2022-02-27',\n",
       "                 '2022-03-26', '2022-12-07', '2022-12-12', '2022-12-25',\n",
       "                 '2023-01-12', '2023-02-24', '2023-03-07', '2023-03-31'],\n",
       "                dtype='datetime64[ns]', freq=None),\n",
       "  'cum_drift_real': <Quantity([45.13284802 33.19995239 31.25833826 33.46360198 34.6196818  23.87067029\n",
       "   34.06886089 29.20044941 39.30306168 34.79824764 37.67550397 26.34046819\n",
       "   21.68537483 28.09195509 32.7041852  36.12194221 51.99694352 41.64703774\n",
       "   39.31351242 37.70521307 32.46444174 39.45808683 33.12478717 46.35160148\n",
       "   25.56196059 34.9990911  23.71052254 33.87071072  7.32669475 17.22625823\n",
       "    9.77804708 16.89204333 48.60368112 49.38374872 29.06258374 36.18439659\n",
       "   51.7834368  29.66953071 39.51457406 38.89456637 46.36028937 28.5489979\n",
       "   38.82451701 44.26168878 37.37459249 47.45348097 36.62573787 36.31169745\n",
       "   37.64302106 39.730995   39.68685981 39.78366821 28.07878074 35.66507149\n",
       "   45.43825211 44.20834655 37.40821831 41.06528095 -3.54411974 51.8360529\n",
       "   35.91893827 42.8679219  25.01817364 15.3713707  35.11394021 -3.48909949\n",
       "   31.23928535 42.92656683], 'kilometer')>},\n",
       " '3': {'Fi=0': <Quantity([55.14541337 56.23126171 57.18512391 76.09992084 67.09373825 46.20379875\n",
       "   70.30589504 58.03608952 51.25983627 56.02540254 59.5377275  56.54684869\n",
       "   58.62561314 60.73749433 51.70313487 55.29574919 53.27882289 70.0890872\n",
       "   68.53367527 46.94277571 69.55810166 44.18012006 50.81876908 74.72547998\n",
       "   71.44035383 51.0175682  36.09614774 65.86415908 43.74494976 43.90213987\n",
       "   45.2331687  47.55153414 68.31915697 66.21827846 48.26571979 53.55708809\n",
       "   53.63323545 50.11029895 59.53739846 60.88609882 49.4427264  40.00452312\n",
       "   60.26847998 43.81992592], 'kilometer')>,\n",
       "  'Xlim': <Quantity([  39.45222957   35.76097328   34.96992936   30.72121052   33.99049635\n",
       "     23.70145633   24.13914247   27.85548407   30.63343705   46.4154268\n",
       "     37.0442994    28.47748929  348.62940284   31.3009429    34.39998005\n",
       "     36.51926912   25.27646823   30.18201342   34.55684668   31.07053248\n",
       "     39.57953687   23.26494207   26.20698536   49.48249832   66.94389513\n",
       "   1307.24543076   33.45232333   60.12008279   73.1598049    31.48874547\n",
       "     30.47131692   73.51410943   39.34257633   49.23039989   28.81573209\n",
       "     27.68969992   34.76740432  -71.47466036   36.92338539   41.28044594\n",
       "     34.06512738   21.52475212   31.78015955   62.11995085], 'kilometer')>,\n",
       "  'Xp': <Quantity([34.05061161 31.50964167 31.04185832 30.57664939 33.05174858 23.56830579\n",
       "   24.14095509 27.13267779 27.86409732 35.88335748 33.34685236 26.67296982\n",
       "   57.1694625  30.48018444 30.13157842 33.38906595 25.0924569  29.58647603\n",
       "   32.95843421 27.07790333 36.59395868 22.5310465  24.59680485 43.71746362\n",
       "   48.5147747  50.04103342 24.8082701  44.92004475 35.53885037 26.54883231\n",
       "   26.95099288 37.18159337 35.54822584 39.97539405 26.34364267 27.71039631\n",
       "   30.66977122 56.23583133 33.83663819 36.2234972  30.55759675 20.39000829\n",
       "   29.46188121 34.49619248], 'kilometer')>,\n",
       "  'Xo': <Quantity([ 46.92961937  46.04296103 137.7754641  188.12370009 131.80490837\n",
       "    29.38230774  87.84290314  50.86113531  46.92961937  21.54556201\n",
       "    65.42651291  35.10249415 108.43857937  38.18775777  83.00608309\n",
       "    65.42651291  61.49009517  77.22051957 182.42056519  25.46003298\n",
       "    51.76585838  39.04726215  26.36417126  95.72158328 101.49373068\n",
       "   111.18656954  40.83000671 143.28681747  71.16788153  75.99628816\n",
       "    25.46003298  42.99165549 103.57502162 165.6946652   43.8810969\n",
       "    66.35145129  26.36417126 124.80781397 126.9608608   79.06234245\n",
       "    38.18775777  34.25070497  91.78538272  86.94344239], 'kilometer')>,\n",
       "  'seq': array([  3.,   4.,   5.,  12.,  14.,  15.,  18.,  23.,  26.,  28.,  29.,\n",
       "          38.,  40.,  48.,  50.,  55.,  56.,  58.,  60.,  75.,  77.,  78.,\n",
       "          79.,  82.,  85.,  86.,  88.,  92.,  93.,  96., 102., 104., 107.,\n",
       "         117., 122., 124., 126., 128., 133., 134., 138., 140., 141., 145.]),\n",
       "  'Ta': <Quantity([-13.89609814 -15.37057209 -14.29630756 -19.92037964 -16.63805962\n",
       "   -22.14929771 -24.11399651 -23.4926281  -18.97078133 -13.45270061\n",
       "   -16.27066612 -20.40629768  -7.4642663  -19.42773819 -15.25003242\n",
       "   -15.77920723 -22.1652298  -21.0443325  -17.55242348 -17.99531174\n",
       "   -14.93205357 -22.95182991 -21.82220078 -13.53983498 -13.05383587\n",
       "    -7.37727833 -16.73746109 -14.32800198 -15.06146145 -16.83127022\n",
       "   -20.10009575 -14.19984531 -15.26914024 -12.99375629 -19.83718872\n",
       "   -19.52489281 -18.43361855  -6.37305593 -16.36101723 -17.45617104\n",
       "   -16.35719109 -25.96702003 -17.9585495  -13.83196068], 'degree_Celsius')>,\n",
       "  'Vi': <Quantity([11.11234093 12.36234049 10.58464674 27.64271401 14.53570272 12.59072294\n",
       "   24.26533087 20.07114998 17.21471067 21.0555894  18.66433266 16.64229334\n",
       "   17.26965319 16.15362432 11.5444025  16.525446   18.46976341 26.37041197\n",
       "   23.80926897 13.34889123 20.61445006 16.07679499 17.11385554 24.35635191\n",
       "   21.76198509 21.16635472 13.41395335 21.31008343 14.64849585 18.24602991\n",
       "   16.78283159 12.23219575 20.40466583 26.67515516 18.38007141 15.71354942\n",
       "   15.15556912 10.34581472 13.43833635 18.25777365 12.66417721 15.88443162\n",
       "   21.48759454 11.56548116], 'kilometer / day')>,\n",
       "  'ws': <Quantity([ 6.44284301  7.27823572  6.79436825 16.10082783  8.51902353  7.65799358\n",
       "   14.51648367 11.67585416  9.9818381  12.20583953 11.02141845  9.82669774\n",
       "   10.01779031  9.96308376  7.08636615  9.77474659 11.18007163 15.50614908\n",
       "   13.91659692  7.7264665  12.41797738 10.17197914 10.21859717 14.28655762\n",
       "   13.0280373  12.47274849  7.80964772 12.37995114  8.97240822 12.02914494\n",
       "   10.16228097  7.14121366 11.97046185 15.45995708 10.94948184  9.74797708\n",
       "    9.17497699  6.03087935  8.11617093 10.99095833  7.32905347  9.31643084\n",
       "   13.24349496  6.87139159], 'meter / second')>,\n",
       "  'wu': array([ -6.31373882,  -6.56397772,  -5.15574551, -15.92448044,\n",
       "          -7.77661991,  -7.64802027, -14.5162611 , -11.52696991,\n",
       "          -9.78466988, -11.95451164,  -9.865592  ,  -9.80789566,\n",
       "          -9.83201122,  -9.92152119,  -5.84156322,  -9.76079178,\n",
       "         -11.17289448, -15.45196915, -13.81516075,  -7.50008059,\n",
       "         -12.41559982, -10.05100441, -10.21773911, -14.21813965,\n",
       "         -13.02798367, -12.44032478,  -7.71948576, -12.19309616,\n",
       "          -8.94915485, -11.69071007, -10.15536213,  -7.0814085 ,\n",
       "         -10.89759445, -15.12893295, -10.9467907 ,  -9.69251156,\n",
       "          -9.16896439,  -5.59554911,  -6.9107542 , -10.98932552,\n",
       "          -7.06350327,  -9.27133751, -13.19056225,  -6.06230497]),\n",
       "  'date': DatetimeIndex(['2002-12-24', '2003-01-12', '2003-01-21', '2003-12-13',\n",
       "                 '2003-12-31', '2004-01-13', '2004-12-19', '2006-03-17',\n",
       "                 '2006-12-18', '2007-02-03', '2007-02-09', '2008-02-14',\n",
       "                 '2008-04-25', '2009-03-11', '2009-12-30', '2011-01-06',\n",
       "                 '2012-12-24', '2013-03-08', '2014-01-01', '2015-12-17',\n",
       "                 '2016-01-28', '2016-02-04', '2016-02-10', '2016-02-28',\n",
       "                 '2016-04-07', '2016-04-21', '2016-12-18', '2017-04-07',\n",
       "                 '2017-04-16', '2017-12-11', '2018-03-11', '2018-04-08',\n",
       "                 '2019-01-17', '2019-12-10', '2020-12-12', '2021-01-24',\n",
       "                 '2021-03-16', '2021-04-28', '2022-02-28', '2022-03-27',\n",
       "                 '2022-12-08', '2022-12-26', '2023-01-13', '2023-04-01'],\n",
       "                dtype='datetime64[ns]', freq=None),\n",
       "  'cum_drift_real': <Quantity([58.03286017 41.79161028 36.1244901  44.15612649 46.04955986 32.49578485\n",
       "   53.72674308 47.48238736 59.18087284 54.33690011 46.26098681 49.00220369\n",
       "   49.45176185 54.4815642  39.40162271 43.07542795 56.59593201 75.95501259\n",
       "   50.47916105 74.01952356 66.63850152 41.58555067 52.20316073 73.86564423\n",
       "   61.33243946 71.68547899 60.98978241 64.60687093 52.54709533 63.05370899\n",
       "   60.58798445 48.30205002 59.80200235 45.1536599  58.92926923 56.42945411\n",
       "   49.4854054  58.8802888  61.47924445 51.14992919 56.57126234 28.18107965\n",
       "   47.24696948 53.44290513], 'kilometer')>},\n",
       " '4': {'Fi=0': <Quantity([101.02764065  90.29684323  82.5466206   65.82338296  66.57637818\n",
       "    92.00534448  89.51514257  59.73724962  84.66752919  71.88353452\n",
       "    97.81145081  95.31370485  74.07582901  47.27785471  85.94570598\n",
       "    57.72483916  57.2701434   61.20773265  61.53763401  90.38130122\n",
       "    89.03352032  60.77441254  74.47120857  79.20697068  55.62926611\n",
       "    71.23383824  58.49278239], 'kilometer')>,\n",
       "  'Xlim': <Quantity([  29.53958775   24.08334567   26.92197923   31.68296987   41.20705188\n",
       "     39.57518968   31.06060422   31.97774067   42.0621089    31.36731872\n",
       "     47.11519769   62.61526698 -885.13449056   33.30193149   55.84498777\n",
       "    114.33897403   31.84393166   32.22390117   81.91478538   43.7712475\n",
       "     58.29710221   23.9304326    41.89502348   37.54336037   19.83317967\n",
       "     23.57976922   62.11026602], 'kilometer')>,\n",
       "  'Xp': <Quantity([29.701499   24.09313503 26.94085186 29.61949869 37.2464778  35.1181038\n",
       "   31.67644827 29.03835581 38.55821158 29.14355262 45.38231898 53.89087573\n",
       "   74.40289182 27.66016572 48.84859348 45.17350927 28.77170188 29.56496598\n",
       "   44.81932187 39.69289844 47.14580539 25.08223199 36.70911291 36.8675803\n",
       "   19.9513341  26.72650816 41.01970886], 'kilometer')>,\n",
       "  'Xo': <Quantity([144.52847068 123.02382785  72.3423834   21.54556201  38.18775777\n",
       "   166.97928966  92.69297059   7.80512686  63.55586816  26.36417126\n",
       "   111.18656954 115.13666323 184.14924517  53.86239735 160.86427176\n",
       "   108.08585283  72.03515351  34.25070497  43.8810969  107.49220449\n",
       "   365.73013941  21.54556201 134.81570669  66.35145129  16.62653428\n",
       "    87.84290314  52.67984657], 'kilometer')>,\n",
       "  'seq': array([ 12.,  18.,  23.,  26.,  28.,  58.,  60.,  75.,  77.,  79.,  82.,\n",
       "          85.,  86.,  88.,  92.,  93.,  96., 102., 104., 107., 117., 122.,\n",
       "         133., 134., 140., 141., 145.]),\n",
       "  'Ta': <Quantity([-20.39460564 -23.90642548 -24.11597061 -17.7171154  -13.42403698\n",
       "   -16.33841896 -18.54559326 -17.37404823 -13.77968502 -19.05009651\n",
       "   -13.86394787 -13.21920681  -6.28142262 -16.29600334 -14.66455746\n",
       "   -13.51783466 -15.50752735 -18.6522522  -13.90382957 -14.00855732\n",
       "   -10.94405365 -20.51088333 -15.30742931 -18.50354576 -26.42552567\n",
       "   -19.0890255  -13.80874634], 'degree_Celsius')>,\n",
       "  'Vi': <Quantity([24.92771981 19.99094819 24.51053107 14.56354669 10.55097564 21.91625727\n",
       "   20.9814673  12.79447392 15.10942753 21.06476544 23.08597084 23.87335102\n",
       "   23.0582608  11.18170697 20.0815469  13.9798894  13.36800352 15.97456395\n",
       "   13.98609987 22.06214425 22.81524186 12.50869276 14.93381011 18.32087186\n",
       "   15.62474299 10.96535826 14.67285646], 'kilometer / day')>,\n",
       "  'ws': <Quantity([14.57059118 11.81091723 14.35865386  8.56677417  6.15861135 12.83129233\n",
       "   12.71477908  7.40989726  8.9120306  12.4592048  13.56992638 14.53348015\n",
       "   13.40119466  6.47160905 11.8854889   8.26688833  9.13824654  9.88071882\n",
       "    8.22592321 12.93163145 13.34618437  8.28717643  8.78245255 11.10365764\n",
       "    9.8476867   7.88392694  8.49191325], 'meter / second')>,\n",
       "  'wu': array([-14.46460533, -11.79037666, -14.27833748,  -8.53830624,\n",
       "          -6.10595846, -12.75426292, -12.70486832,  -7.22704601,\n",
       "          -8.89189339, -12.44128227, -13.52018547, -14.51243782,\n",
       "         -13.20960331,  -6.27528191, -11.87030792,  -8.25452995,\n",
       "          -8.73145008,  -9.83233547,  -8.19805813, -11.80075645,\n",
       "         -12.24921322,  -8.03635883,  -7.94323969, -11.09484959,\n",
       "          -9.74363518,  -7.3403573 ,  -8.22965431]),\n",
       "  'date': DatetimeIndex(['2003-12-14', '2004-12-20', '2006-03-18', '2006-12-19',\n",
       "                 '2007-02-04', '2013-03-09', '2014-01-02', '2015-12-18',\n",
       "                 '2016-01-29', '2016-02-11', '2016-02-29', '2016-04-08',\n",
       "                 '2016-04-22', '2016-12-19', '2017-04-08', '2017-04-17',\n",
       "                 '2017-12-12', '2018-03-12', '2018-04-09', '2019-01-18',\n",
       "                 '2019-12-11', '2020-12-13', '2022-03-01', '2022-03-28',\n",
       "                 '2022-12-27', '2023-01-14', '2023-04-02'],\n",
       "                dtype='datetime64[ns]', freq=None),\n",
       "  'cum_drift_real': <Quantity([58.11011131 64.85592184 67.33075928 79.11341453 59.30847635 98.16150642\n",
       "   61.68070383 97.89092709 80.9967902  70.16261716 96.13352699 86.36956576\n",
       "   93.6048916  75.05260214 85.33691732 68.6427283  84.677937   82.50754153\n",
       "   64.4778102  77.84517277 65.27511304 69.28767042 74.91135766 64.0004247\n",
       "   43.24190912 55.13245224 66.20542897], 'kilometer')>},\n",
       " '5': {'Fi=0': <Quantity([122.96383436 103.31805331 103.63608403  82.41504944 101.71509044\n",
       "   108.19277973  95.1195881   91.86071074 111.88720386 118.74217967\n",
       "    93.02072754 104.31002512  71.91736472  80.24129351 102.27531693\n",
       "   108.59523589  95.72534628  71.42925813  81.19798511], 'kilometer')>,\n",
       "  'Xlim': <Quantity([  28.01777853   24.78428773   31.06014089   35.32005462   32.30668248\n",
       "     29.0931708    38.63144528   40.75882716   38.97356022   84.22281724\n",
       "   -269.43160064   75.61579757   34.2942707   129.37224872   34.33870429\n",
       "     64.31537406   31.3781646    20.44096549   18.97459354], 'kilometer')>,\n",
       "  'Xp': <Quantity([28.38324964 24.45625398 29.73779975 32.29734627 34.27313351 30.01799999\n",
       "   38.57802557 34.83656202 43.06772147 62.32838888 98.57937875 55.34937102\n",
       "   31.13041329 57.0433434  37.8383477  52.36798164 33.97779272 20.32979822\n",
       "   22.65573765], 'kilometer')>,\n",
       "  'Xo': <Quantity([119.0804111  131.80490837  99.65147252  31.1513479  140.59322715\n",
       "   106.3567456   34.25070497  26.36417126 116.01518377  92.69297059\n",
       "   234.59723813 168.77976513  80.83340445  61.49009517 120.18677708\n",
       "   374.53715353  48.73501269  56.61918363  59.2790338 ], 'kilometer')>,\n",
       "  'seq': array([ 12.,  18.,  23.,  26.,  58.,  60.,  77.,  79.,  82.,  85.,  86.,\n",
       "          92.,  96., 104., 107., 117., 134., 140., 141.]),\n",
       "  'Ta': <Quantity([-20.79385376 -21.65822983 -21.22031021 -16.31621933 -16.73681831\n",
       "   -19.73959541 -14.04418182 -14.73345566 -15.2681551  -11.17178917\n",
       "    -5.22018766 -12.53833866 -15.60888195 -10.86707211 -16.01061821\n",
       "    -9.80022717 -20.58049202 -25.74588203 -22.46263885], 'degree_Celsius')>,\n",
       "  'Vi': <Quantity([21.93619371 13.02121007 21.08946343 16.59166648  9.70974596 18.67763716\n",
       "   10.45205891 19.97717622 14.07575305 23.42847483 18.94489853 18.36431915\n",
       "   14.64722132 18.70365949 11.89401572 19.56171558 16.5183756  15.79999202\n",
       "    9.96414687], 'kilometer / day')>,\n",
       "  'ws': <Quantity([13.0787911   7.77577074 12.43659826  9.78592452  6.62676526 11.10005022\n",
       "    6.08837284 12.04433215  8.68299772 13.94016097 11.07342835 10.85587775\n",
       "    9.25081526 10.83623056  6.90035645 11.55426244 10.62573211  9.9412399\n",
       "    7.4146994 ], 'meter / second')>,\n",
       "  'wu': array([-13.07647896,  -6.78215694, -12.40758324,  -9.76368332,\n",
       "          -6.33679342, -11.09428787,  -6.02226353, -12.04128456,\n",
       "          -8.64640713, -13.93502331, -10.99277687, -10.83866692,\n",
       "          -9.14654064, -10.32118034,  -6.52238798, -10.33612633,\n",
       "         -10.43437004,  -9.84182835,  -6.7762394 ]),\n",
       "  'date': DatetimeIndex(['2003-12-15', '2004-12-21', '2006-03-19', '2006-12-20',\n",
       "                 '2013-03-10', '2014-01-03', '2016-01-30', '2016-02-12',\n",
       "                 '2016-03-01', '2016-04-09', '2016-04-23', '2017-04-09',\n",
       "                 '2017-12-13', '2018-04-10', '2019-01-19', '2019-12-12',\n",
       "                 '2022-03-29', '2022-12-28', '2023-01-15'],\n",
       "                dtype='datetime64[ns]', freq=None),\n",
       "  'cum_drift_real': <Quantity([ 72.72932362  78.12832939  81.18599882  94.16981195 105.06617028\n",
       "    77.18400654  89.00909689  89.24954312 112.85486976 113.1575109\n",
       "   117.15107069 104.00379815 108.45782048  83.63770693  85.10160437\n",
       "    81.2571976   75.28948987  63.3251533   57.86701811], 'kilometer')>},\n",
       " '6': {'Fi=0': <Quantity([142.99127123 121.45601512  91.99157736 129.39429799 114.74065274\n",
       "   126.37034152 140.87782184 119.3008359   90.36563975  95.63789308\n",
       "   122.51428906  85.12499075], 'kilometer')>,\n",
       "  'Xlim': <Quantity([ 25.59238089  32.59821626 -30.63397704  31.89784402  33.52441657\n",
       "    34.67832671 106.36664775 116.65230398  38.45248193 246.50126917\n",
       "    61.98918893  22.31447212], 'kilometer')>,\n",
       "  'Xp': <Quantity([26.1992423  31.30145663 13.67100479 31.26747464 33.94104124 39.56395497\n",
       "   71.49305808 63.22731802 34.64330841 68.87698559 54.52832763 21.54791187], 'kilometer')>,\n",
       "  'Xo': <Quantity([101.49373068  78.17588533  79.06234245 119.97052029  43.8810969\n",
       "    75.11827779 129.95432382 196.91470055 116.01518377  78.17588533\n",
       "   335.39964802  26.36417126], 'kilometer')>,\n",
       "  'seq': array([ 12.,  23.,  58.,  60.,  79.,  82.,  85.,  92.,  96., 104., 117.,\n",
       "         140.]),\n",
       "  'Ta': <Quantity([-22.00640106 -19.07573891 -18.47973633 -18.72210503 -17.36554909\n",
       "   -16.88849831 -10.60956573 -10.88790226 -14.24681187  -9.18356705\n",
       "    -9.47609806 -23.40496063], 'degree_Celsius')>,\n",
       "  'Vi': <Quantity([20.02743687 17.81993109 -9.72351307 21.20151826 22.87994201 14.48313766\n",
       "   22.13564216 14.99081078 18.44827503 15.39659957 13.91905317 13.69573262], 'kilometer / day')>,\n",
       "  'ws': <Quantity([12.20324483 11.06971488  6.24864535 12.3364769  14.25992471  8.93405115\n",
       "   13.23071931  8.9301111  11.95259431  8.97554904  8.37315271  8.50941526], 'meter / second')>,\n",
       "  'wu': array([-12.18371582, -11.00253296,   4.73208618, -12.18384266,\n",
       "         -14.15979481,  -8.8964653 , -13.23019123,  -8.92788887,\n",
       "         -11.70334053,  -8.3263731 ,  -7.18883753,  -8.45730686]),\n",
       "  'date': DatetimeIndex(['2003-12-16', '2006-03-20', '2013-03-11', '2014-01-04',\n",
       "                 '2016-02-13', '2016-03-02', '2016-04-10', '2017-04-10',\n",
       "                 '2017-12-14', '2018-04-11', '2019-12-13', '2022-12-29'],\n",
       "                dtype='datetime64[ns]', freq=None),\n",
       "  'cum_drift_real': <Quantity([ 88.15092132  89.5831471  105.64146078 101.50984775 105.93974118\n",
       "   132.21921461 137.26585751 118.28186438 126.13483591  96.1709956\n",
       "    94.00688295  75.45532546], 'kilometer')>},\n",
       " '7': {'Fi=0': <Quantity([160.63291968 153.68973232 140.0256458  144.58349168 168.07045167\n",
       "   129.87988283  99.97399146  96.82108717], 'kilometer')>,\n",
       "  'Xlim': <Quantity([ 24.51763197  35.49230226  36.91466122  40.75337573 106.70203687\n",
       "   134.28673599  28.17633822  23.82160659], 'kilometer')>,\n",
       "  'Xp': <Quantity([24.98924052 34.15948264 35.97784608 40.09552073 80.46593953 68.82534609\n",
       "   32.438021   22.66426616], 'kilometer')>,\n",
       "  'Xo': <Quantity([107.23015109 143.28681747  66.35145129  92.69297059 161.17146443\n",
       "   147.24942225 160.86427176  30.30745856], 'kilometer')>,\n",
       "  'seq': array([ 12.,  60.,  79.,  82.,  85.,  92.,  96., 140.]),\n",
       "  'Ta': <Quantity([-22.49536324 -17.28764915 -16.81453896 -15.64693642 -10.20382214\n",
       "   -11.08044815 -14.66003132 -21.73927116], 'degree_Celsius')>,\n",
       "  'Vi': <Quantity([17.64164845 24.29543433 25.28499306 18.21315016 27.19262983 10.57904692\n",
       "    9.60835171 11.69609642], 'kilometer / day')>,\n",
       "  'ws': <Quantity([10.78538836 14.07577007 14.93665163 10.68879265 15.98025517  6.46686302\n",
       "    7.63234571  7.11702888], 'meter / second')>,\n",
       "  'wu': array([-10.76153374, -13.75395679, -14.91008091, -10.64083958,\n",
       "         -15.91994762,  -6.45270348,  -6.72409821,  -7.10725451]),\n",
       "  'date': DatetimeIndex(['2003-12-17', '2014-01-05', '2016-02-14', '2016-03-03',\n",
       "                 '2016-04-11', '2017-04-11', '2017-12-15', '2022-12-30'],\n",
       "                dtype='datetime64[ns]', freq=None),\n",
       "  'cum_drift_real': <Quantity([101.15743518 127.01885189 129.74536969 152.58396238 156.46370906\n",
       "   126.31389044 144.94516549  95.5371825 ], 'kilometer')>},\n",
       " '8': {'Fi=0': <Quantity([178.27911662 179.46654174 160.46896835 164.42186588 188.43510373\n",
       "   114.50835832], 'kilometer')>,\n",
       "  'Xlim': <Quantity([ 25.60014239  34.88363542  36.04572961  42.54412993 112.87484761\n",
       "    29.65891519], 'kilometer')>,\n",
       "  'Xp': <Quantity([25.41033563 34.69458593 36.0163462  41.23730987 86.31308927 31.07611874], 'kilometer')>,\n",
       "  'Xo': <Quantity([112.05361738 111.18656954  83.9002159  138.45239603 203.95853234\n",
       "   124.80781397], 'kilometer')>,\n",
       "  'seq': array([12., 60., 79., 82., 85., 96.]),\n",
       "  'Ta': <Quantity([-21.65073013 -17.46791077 -16.86621284 -15.28279305 -10.32669163\n",
       "   -16.47931099], 'degree_Celsius')>,\n",
       "  'Vi': <Quantity([17.64619695 25.77680942 20.44332255 19.83837419 20.36465206 14.53436686], 'kilometer / day')>,\n",
       "  'ws': <Quantity([10.75429194 15.1481178  12.10455221 11.75788655 12.08961948 10.15892399], 'meter / second')>,\n",
       "  'wu': array([-10.73673725, -15.09089947, -12.09022903, -11.74641895,\n",
       "         -12.08139992,  -9.59901619]),\n",
       "  'date': DatetimeIndex(['2003-12-18', '2014-01-06', '2016-02-15', '2016-03-04',\n",
       "                 '2016-04-12', '2017-12-16'],\n",
       "                dtype='datetime64[ns]', freq=None),\n",
       "  'cum_drift_real': <Quantity([117.43344943 141.40759676 142.71130363 165.7610027  174.06823286\n",
       "   162.47625855], 'kilometer')>},\n",
       " '9': {'Fi=0': <Quantity([198.81728188 171.01993079 180.36453684 206.2246563  127.79946168], 'kilometer')>,\n",
       "  'Xlim': <Quantity([27.97506964 28.1554387  32.34118709 76.38839434 23.98848153], 'kilometer')>,\n",
       "  'Xp': <Quantity([27.29325966 33.07055158 36.85194337 84.00179731 27.14912909], 'kilometer')>,\n",
       "  'Xo': <Quantity([120.84748281  61.49009517  53.60185527 200.00930606 108.08585283], 'kilometer')>,\n",
       "  'seq': array([12., 79., 82., 85., 96.]),\n",
       "  'Ta': <Quantity([-20.74509621 -18.7162056  -17.95820045 -12.21354866 -18.85751343], 'degree_Celsius')>,\n",
       "  'Vi': <Quantity([20.53816526 10.55096244 15.94267096 17.78955257 13.29110336], 'kilometer / day')>,\n",
       "  'ws': <Quantity([12.18844155  6.65351081 10.15201882 10.81842247  9.89089735], 'meter / second')>,\n",
       "  'wu': array([-12.17946434,  -6.58198357, -10.00804424, -10.80458927,\n",
       "          -9.03897572]),\n",
       "  'date': DatetimeIndex(['2003-12-19', '2016-02-16', '2016-03-05', '2016-04-13',\n",
       "                 '2017-12-17'],\n",
       "                dtype='datetime64[ns]', freq=None),\n",
       "  'cum_drift_real': <Quantity([129.81302122 151.00825015 181.69608814 194.68792661 175.10230399], 'kilometer')>},\n",
       " '10+': {'Fi=0': <Quantity([221.47751814 231.62924223 181.47830212 196.43823394 217.90637179\n",
       "   224.7382696  239.32752915 249.99441035], 'kilometer')>,\n",
       "  'Xlim': <Quantity([32.50956161 31.78451061 25.90523042 29.36419804 29.35661836 81.0726139\n",
       "   67.05642686 82.28038505], 'kilometer')>,\n",
       "  'Xp': <Quantity([30.9291941  31.2023755  30.17779255 32.75321913 30.26932631 83.33289364\n",
       "   79.79167307 80.11431127], 'kilometer')>,\n",
       "  'Xo': <Quantity([ 66.35145129  97.54824366  39.93280567  57.54844877  49.65068359\n",
       "   211.37768411 186.12097793 160.86427176], 'kilometer')>,\n",
       "  'seq': array([12., 12., 79., 82., 82., 85., 85., 85.]),\n",
       "  'Ta': <Quantity([-18.09217262 -16.3662529  -20.6380806  -19.89382744 -20.88197517\n",
       "   -12.20419884 -13.73870087 -12.77052879], 'degree_Celsius')>,\n",
       "  'Vi': <Quantity([22.66023625 10.15172409 10.45837132 16.0736971  21.46813785 18.5136133\n",
       "   14.58925954 10.66688121], 'kilometer / day')>,\n",
       "  'ws': <Quantity([13.58513731  6.02821424  6.3783311  10.08565797 12.98092854 11.18746016\n",
       "    9.25851424  7.39734805], 'meter / second')>,\n",
       "  'wu': array([-13.58509636,  -6.02436447,  -6.36711407,  -9.99384975,\n",
       "         -12.97417068, -11.18235874,  -9.13862705,  -7.01761913]),\n",
       "  'date': DatetimeIndex(['2003-12-20', '2003-12-21', '2016-02-17', '2016-03-06',\n",
       "                 '2016-03-07', '2016-04-14', '2016-04-15', '2016-04-16'],\n",
       "                dtype='datetime64[ns]', freq=None),\n",
       "  'cum_drift_real': <Quantity([142.9549287  151.21970067 157.51167249 200.67702378 220.2177308\n",
       "   214.76679893 234.08237469 246.29798815], 'kilometer')>}}"
      ]
     },
     "execution_count": 489,
     "metadata": {},
     "output_type": "execute_result"
    }
   ],
   "source": [
    "across"
   ]
  },
  {
   "cell_type": "code",
   "execution_count": 490,
   "id": "19120376",
   "metadata": {},
   "outputs": [
    {
     "data": {
      "text/plain": [
       "3.3906147511119116"
      ]
     },
     "execution_count": 490,
     "metadata": {},
     "output_type": "execute_result"
    }
   ],
   "source": [
    "np.sqrt(np.nanmean((DF.length_145max[DF.extent>0] - DF.length_max[DF.extent>0])**2))"
   ]
  },
  {
   "cell_type": "code",
   "execution_count": null,
   "id": "03df571b",
   "metadata": {},
   "outputs": [],
   "source": []
  },
  {
   "cell_type": "code",
   "execution_count": 491,
   "id": "40c1c6c5",
   "metadata": {},
   "outputs": [
    {
     "data": {
      "text/plain": [
       "<matplotlib.collections.PathCollection at 0x155e98980>"
      ]
     },
     "execution_count": 491,
     "metadata": {},
     "output_type": "execute_result"
    },
    {
     "data": {
      "image/png": "[encoded data removed]",
      "text/plain": [
       "<Figure size 300x300 with 1 Axes>"
      ]
     },
     "metadata": {},
     "output_type": "display_data"
    }
   ],
   "source": [
    "fig, ax = plt.subplots(figsize=(3,3))\n",
    "\n",
    "ax.scatter(DF.length_max, DF.length_145max, s=5)"
   ]
  },
  {
   "cell_type": "code",
   "execution_count": 492,
   "id": "085dbf97",
   "metadata": {},
   "outputs": [
    {
     "data": {
      "text/plain": [
       "array([ 16.76952551,  35.27334895,  55.66057587,  74.07582901,\n",
       "       101.71509044, 120.37842551, 142.30456874, 171.35049125,\n",
       "       180.36453684, 223.10789387])"
      ]
     },
     "execution_count": 492,
     "metadata": {},
     "output_type": "execute_result"
    }
   ],
   "source": [
    "byday['Fi=0'][50]"
   ]
  },
  {
   "cell_type": "code",
   "execution_count": 493,
   "id": "bc91ea2d",
   "metadata": {},
   "outputs": [
    {
     "data": {
      "text/plain": [
       "array([ 16.76952551,  35.27334895,  55.66057587,  74.07582901,\n",
       "       101.71509044, 120.37842551, 142.30456874, 171.35049125,\n",
       "       180.36453684, 223.10789387])"
      ]
     },
     "execution_count": 493,
     "metadata": {},
     "output_type": "execute_result"
    }
   ],
   "source": [
    "byday['Fi=0'][50]"
   ]
  },
  {
   "cell_type": "code",
   "execution_count": 494,
   "id": "3f885b96",
   "metadata": {},
   "outputs": [
    {
     "data": {
      "text/plain": [
       "'Xo'"
      ]
     },
     "execution_count": 494,
     "metadata": {},
     "output_type": "execute_result"
    }
   ],
   "source": [
    "cat"
   ]
  },
  {
   "cell_type": "code",
   "execution_count": 495,
   "id": "0f0222ff",
   "metadata": {},
   "outputs": [
    {
     "ename": "AttributeError",
     "evalue": "'numpy.ndarray' object has no attribute 'magnitude'",
     "output_type": "error",
     "traceback": [
      "\u001b[0;31m---------------------------------------------------------------------------\u001b[0m",
      "\u001b[0;31mAttributeError\u001b[0m                            Traceback (most recent call last)",
      "Cell \u001b[0;32mIn[495], line 2\u001b[0m\n\u001b[1;32m      1\u001b[0m fig, ax \u001b[38;5;241m=\u001b[39m plt\u001b[38;5;241m.\u001b[39msubplots(figsize\u001b[38;5;241m=\u001b[39m(\u001b[38;5;241m3\u001b[39m,\u001b[38;5;241m3\u001b[39m))\n\u001b[0;32m----> 2\u001b[0m plt\u001b[38;5;241m.\u001b[39mscatter(byday[\u001b[38;5;124m'\u001b[39m\u001b[38;5;124mTa\u001b[39m\u001b[38;5;124m'\u001b[39m][\u001b[38;5;241m50\u001b[39m]\u001b[38;5;241m.\u001b[39mmagnitude, byday[\u001b[38;5;124m'\u001b[39m\u001b[38;5;124mXp\u001b[39m\u001b[38;5;124m'\u001b[39m][\u001b[38;5;241m50\u001b[39m]\u001b[38;5;241m.\u001b[39mmagnitude)\n\u001b[1;32m      3\u001b[0m plt\u001b[38;5;241m.\u001b[39mscatter(byday[\u001b[38;5;124m'\u001b[39m\u001b[38;5;124mTa\u001b[39m\u001b[38;5;124m'\u001b[39m][\u001b[38;5;241m50\u001b[39m]\u001b[38;5;241m.\u001b[39mmagnitude, byday[\u001b[38;5;124m'\u001b[39m\u001b[38;5;124mXlim\u001b[39m\u001b[38;5;124m'\u001b[39m][\u001b[38;5;241m50\u001b[39m]\u001b[38;5;241m.\u001b[39mmagnitude)\n",
      "\u001b[0;31mAttributeError\u001b[0m: 'numpy.ndarray' object has no attribute 'magnitude'"
     ]
    },
    {
     "data": {
      "image/png": "[encoded data removed]",
      "text/plain": [
       "<Figure size 300x300 with 1 Axes>"
      ]
     },
     "metadata": {},
     "output_type": "display_data"
    }
   ],
   "source": [
    "fig, ax = plt.subplots(figsize=(3,3))\n",
    "plt.scatter(byday['Ta'][50].magnitude, byday['Xp'][50].magnitude)\n",
    "plt.scatter(byday['Ta'][50].magnitude, byday['Xlim'][50].magnitude)"
   ]
  },
  {
   "cell_type": "code",
   "execution_count": null,
   "id": "4a06b6f6",
   "metadata": {},
   "outputs": [],
   "source": []
  },
  {
   "cell_type": "markdown",
   "id": "b83c9231",
   "metadata": {},
   "source": [
    "## SIC maps"
   ]
  },
  {
   "cell_type": "code",
   "execution_count": 116,
   "id": "dc8d300c",
   "metadata": {},
   "outputs": [],
   "source": [
    "RES = '6250'\n",
    "crop=[700, 1150, 200, 400]\n",
    "sic_key = 'sic'\n",
    "open_thresh = 10\n",
    "\n",
    "# RES = '3125'\n",
    "# crop=[1500, 2050, 480, 700]\n",
    "# sic_key = 'sic'\n",
    "\n",
    "# sicsic = unisic.open_local_file(datetime(2019,1,16), res='1000ma2', hem='n', main_path='/Volumes/Seagate_Jewell/KenzieStuff/', \n",
    "#                             crop=[2100, 3400, 340, 800], coordinates=False, area=False, include_units=False, quiet=True)\n",
    "\n",
    "\n",
    "out = unisic.calc_meansic_openfreq([datetime(2024,1,1), datetime(2024,1,2)], crop=crop, \n",
    "                                            open_thresh=open_thresh, res=RES, hem='n', sic_key = sic_key, \n",
    "                                            main_path='/Volumes/Seagate_Jewell/KenzieStuff/', \n",
    "                                            coordinates=False, area=False, quiet=True)"
   ]
  },
  {
   "cell_type": "code",
   "execution_count": 117,
   "id": "58edacfa",
   "metadata": {},
   "outputs": [
    {
     "data": {
      "text/plain": [
       "dict_keys(['1', '2', '3', '4', '5', '6', '7', '8', '9', '10+'])"
      ]
     },
     "execution_count": 117,
     "metadata": {},
     "output_type": "execute_result"
    }
   ],
   "source": [
    "across.keys()"
   ]
  },
  {
   "cell_type": "code",
   "execution_count": 420,
   "id": "16e5c063",
   "metadata": {},
   "outputs": [
    {
     "data": {
      "text/plain": [
       "DatetimeIndex(['2002-12-10', '2002-12-22', '2003-01-10', '2003-01-19',\n",
       "               '2003-01-24', '2003-02-07', '2003-02-28', '2003-03-04',\n",
       "               '2003-12-07', '2003-12-11',\n",
       "               ...\n",
       "               '2024-01-03', '2024-03-20', '2024-03-28', '2024-12-03',\n",
       "               '2024-12-09', '2024-12-16', '2025-01-13', '2025-02-15',\n",
       "               '2025-03-06', '2025-03-20'],\n",
       "              dtype='datetime64[ns]', length=134, freq=None)"
      ]
     },
     "execution_count": 420,
     "metadata": {},
     "output_type": "execute_result"
    }
   ],
   "source": [
    "across['1']['date']"
   ]
  },
  {
   "cell_type": "code",
   "execution_count": 416,
   "id": "0b6a577a",
   "metadata": {},
   "outputs": [
    {
     "name": "stdout",
     "output_type": "stream",
     "text": [
      "-2\n",
      "-1\n",
      "1\n",
      "2\n",
      "3\n",
      "4\n",
      "5\n",
      "6\n",
      "7+\n"
     ]
    }
   ],
   "source": [
    "\n",
    "# RES = '1000ma2'\n",
    "# crop = [2100, 3400, 340, 800]\n",
    "# sic_key = 'sic_merged'\n",
    "\n",
    "RES = '6250'\n",
    "# crop=[500, 1300, 100, 500]\n",
    "crop=[700, 1150, 200, 400]\n",
    "sic_key = 'sic'\n",
    "\n",
    "# RES = '3125'\n",
    "# crop=[1500, 2050, 480, 700]\n",
    "# sic_key = 'sic'\n",
    "\n",
    "# sicsic = unisic.open_local_file(datetime(2019,1,16), res='1000ma2', hem='n', main_path='/Volumes/Seagate_Jewell/KenzieStuff/', \n",
    "#                             crop=[2100, 3400, 340, 800], coordinates=False, area=False, include_units=False, quiet=True)\n",
    "\n",
    "dsic = unisic.open_local_file(datetime(2020,1,1), res=RES, hem='n', \n",
    "                              main_path='/Volumes/Seagate_Jewell/KenzieStuff/',\n",
    "                                  crop=crop, coordinates=True, area=False, include_units=False, \n",
    "                                  quiet=True)\n",
    "\n",
    "open_thresh=10\n",
    "\n",
    "map_sic = {}\n",
    "\n",
    "for key in across.keys():\n",
    "\n",
    "    print(key)\n",
    "    map_sic[key] = unisic.calc_meansic_openfreq(pd.to_datetime(across[key]['date']), crop=crop, nan_frac = 0.05,\n",
    "                                            open_thresh=open_thresh, res=RES, hem='n', sic_key = sic_key, \n",
    "                                            main_path='/Volumes/Seagate_Jewell/KenzieStuff/', \n",
    "                                            coordinates=False, area=False, quiet=True)\n"
   ]
  },
  {
   "cell_type": "code",
   "execution_count": 418,
   "id": "f7957b10",
   "metadata": {},
   "outputs": [
    {
     "data": {
      "image/png": "[encoded data removed]",
      "text/plain": [
       "<Figure size 800x375 with 7 Axes>"
      ]
     },
     "metadata": {},
     "output_type": "display_data"
    }
   ],
   "source": [
    "fig, axs = fn.makemap(view='wider_zoom3', contours = [-100], \n",
    "                      panels=(2,3), figsize=(8,3.75))\n",
    "plt.subplots_adjust(hspace=0.025, wspace=0.05)\n",
    "\n",
    "\n",
    "from pyproj import Geod\n",
    "g = Geod(ellps='WGS84')\n",
    "# startlon, startlat = -139, 69.5\n",
    "startlon, startlat = -139.1, 69.6\n",
    "# dists = np.array([31,64,79, 101,117,134,144,150])+10\n",
    "# iced = np.array([50.82842169,  68.58080734,  90.47338417,\n",
    "#         98.24958483, 120.57204264, 128.47181612])\n",
    "wind = np.array([35.50381821,  75.51196037, 125.48660916, 171.30080786,\n",
    "       205.45987047, 226.16189264])\n",
    "latt = np.array([29.89207331, 32.11730528, 33.0155933 , 35.32942831, 28.70799943,\n",
    "       30.70865801])\n",
    "obss = np.array([29.38230774,  68.75966641, 106.3567456 , 143.28681747,\n",
    "       114.46666782, 118.17654774])\n",
    "\n",
    "\n",
    "bearing = -55\n",
    "\n",
    "FS = 10\n",
    "\n",
    "# wind = np.array([29.67029984, 81.62365485, 159.8473894, 174.82151541])\n",
    "# latt = np.array([29.93782605, 33.22366475,  35.32942831, 33.74427032])\n",
    "# obss = np.array([29.38230774, 76.14685572, 107.23015109, 83.90562419])\n",
    "\n",
    "# for key, n, N in zip(['Dec', 'Jan', 'Feb', 'Mar',],\n",
    "#                      [0,2,4,6], [1,3,5,7]):\n",
    "\n",
    "FS = 9\n",
    "# for key, n in zip([f'{m}' for m in [1,3,5,7,9]]+[f'10+'],\n",
    "#                      range(6)):\n",
    "\n",
    "for key, n in zip([f'{m}' for m in [-1,1,3,5,6]]+[f'7+'],\n",
    "                     range(6)):\n",
    "\n",
    "#     axs[n].text(0.95,0.95,f'{chr(97+n+1)}', weight='bold', \n",
    "#                 ha='right', va='top', size=FS, transform=axs[n].transAxes)\n",
    "    \n",
    "    ax = axs[n]\n",
    "    \n",
    "    ax.add_geometries ([reg_poly], lw=1.75, edgecolor='k', facecolor='None',zorder=100, crs=ccrs.PlateCarree())\n",
    "    \n",
    "    ax.text(0.035,0.175,f'Day {key}', weight='bold', ha='left', va='bottom', transform=ax.transAxes, size=FS)\n",
    "    ax.text(0.035,0.025,f'(N={len(across[key]['date'])})', ha='left', va='bottom', transform=ax.transAxes, size=FS)\n",
    "    \n",
    "    mesh = ax.pcolormesh(map_sic[key]['xx'], map_sic[key]['yy'], map_sic[key]['open_freq'], \n",
    "              vmin=0, vmax=0.5, cmap=cmocean.cm.dense, transform=dsic['proj'])\n",
    "    \n",
    "#     mesh = ax.contourf(map_sic[key]['xx'], map_sic[key]['yy'], map_sic[key]['open_freq'], \n",
    "#           vmin=0, vmax=0.5, levels = np.arange(0,0.5,0.05), extend='max', cmap=cmocean.cm.dense, transform=dsic['proj'])\n",
    "    \n",
    "#     mesh = ax.pcolormesh(map_sic[key]['xx'], map_sic[key]['yy'], map_sic[key]['open_freq'], \n",
    "#               vmin=0, vmax=0.6, cmap=cmocean.cm.dense, transform=dsic['proj'])\n",
    "    \n",
    "#     ax.contour(map_sic[key]['xx'], map_sic[key]['yy'], map_sic[key]['open_freq'], \n",
    "#                   levels=[0.25, 0.5, 0.75], colors=['gold'], linewidths=[0.5,], transform=dsic['proj'])\n",
    "    \n",
    "    # dashed line\n",
    "    endlon, endlat, backaz = g.fwd(startlon, startlat, -55, 400*1000)\n",
    "    ax.plot([startlon,endlon], [startlat,endlat], transform=ccrs.PlateCarree(), \n",
    "            c=[0.3,0.3,0.3], lw=1, zorder=98, ls='dashed')\n",
    "    \n",
    "    \n",
    "    \n",
    "    \n",
    "#     for cat, fc, ec, marker, ms, lw in zip(['Xp', 'Fi=0', 'Xo'], \n",
    "#                                        [color2, color1, 'None'], \n",
    "#                                        ['white', 'white', 'k'], \n",
    "#                                        ['d', 's', 'o'], [40, 30, 35], [0.75,0.75,1.25]):\n",
    "    \n",
    "#         distance = np.nanpercentile(across[key][cat], 50).to('m').magnitude\n",
    "    \n",
    "#         endlon, endlat, backaz = g.fwd(startlon, startlat, -55, distance)\n",
    "#         ax.scatter(endlon, endlat, transform=ccrs.PlateCarree(), \n",
    "#                    s=ms, marker=marker, facecolor=fc, edgecolor=ec,lw=lw, zorder=102)\n",
    "        \n",
    "#     distance = np.nanpercentile(across[key]['Xo'], 50).to('m').magnitude\n",
    "#     endlon, endlat, backaz = g.fwd(startlon, startlat, -55, distance)\n",
    "#     ax.scatter(endlon, endlat, transform=ccrs.PlateCarree(), \n",
    "#                s=ms, marker=marker, facecolor='None', edgecolor='white',lw=2.5, zorder=101)\n",
    "    \n",
    "axs[2].text(0.975,1.05, f'c', weight='bold', \n",
    "                ha='right', va='bottom', size=FS+2, transform=axs[2].transAxes)\n",
    "    \n",
    "plotter.add_colorbar(fig, axs[-1], [mesh], cb_placement='bottom', cb_orientation='auto', \n",
    "                     cb_width=0.025, cb_length_fraction=[0, 1], cb_pad=0.025, cb_ticks=[0,0.5], \n",
    "                     cb_ticklabels='auto', cb_extend='neither', cb_label='Open water frequency', labelpad=-5, \n",
    "                     cb_label_placement='auto', cb_tick_placement='auto', tick_kwargs=None, \n",
    "                     cb_labelsize=FS+0.5, draw_edges=False, edge_params=['k', 2])\n",
    "\n",
    "geomap.scalebar(axs[-2], loc=(0.2, -0.2), steps=[100,200,300],unit='km', \n",
    "                label=None, colors=['k', 'w'], edgecolor=None, textsize=FS, lw=1, \n",
    "                bar_width=0.05, labelpad=0.015, ticklabelpad=0.01, zorder=100, clip_on=False)\n",
    "\n",
    "# fig.savefig('../figures/results/dailyevent_maps_nomarkers.png', dpi=400, bbox_inches='tight', pad_inches=0)\n"
   ]
  },
  {
   "cell_type": "code",
   "execution_count": null,
   "id": "bc32b830",
   "metadata": {},
   "outputs": [],
   "source": []
  },
  {
   "cell_type": "code",
   "execution_count": null,
   "id": "36ed5420",
   "metadata": {},
   "outputs": [],
   "source": []
  },
  {
   "cell_type": "code",
   "execution_count": null,
   "id": "36588852",
   "metadata": {},
   "outputs": [],
   "source": []
  },
  {
   "cell_type": "code",
   "execution_count": 1277,
   "id": "47198d0a",
   "metadata": {},
   "outputs": [
    {
     "ename": "TypeError",
     "evalue": "'module' object is not callable",
     "output_type": "error",
     "traceback": [
      "\u001b[0;31m---------------------------------------------------------------------------\u001b[0m",
      "\u001b[0;31mTypeError\u001b[0m                                 Traceback (most recent call last)",
      "Cell \u001b[0;32mIn[1277], line 1\u001b[0m\n\u001b[0;32m----> 1\u001b[0m os\u001b[38;5;241m.\u001b[39mpath()\n",
      "\u001b[0;31mTypeError\u001b[0m: 'module' object is not callable"
     ]
    }
   ],
   "source": [
    "os.path()"
   ]
  },
  {
   "cell_type": "code",
   "execution_count": 1303,
   "id": "0f076bfd",
   "metadata": {},
   "outputs": [],
   "source": [
    "\n",
    "main_path = '/Volumes/Seagate_Jewell/KenzieStuff/SIDEx_animation/filenames/'\n",
    "new_folder = 'to_delete'\n",
    "\n",
    "folders = os.listdir(main_path)\n",
    "\n",
    "for folder in folders:\n",
    "    \n",
    "    if folder not in ['to_delete', '.DS_Store']:\n",
    "    \n",
    "        files = os.listdir(main_path+folder)\n",
    "\n",
    "        for file in files:\n",
    "            if '_v0.png' in file:\n",
    "\n",
    "                try:\n",
    "                    shutil.move(main_path+folder+'/'+file, main_path+new_folder+'/'+file)\n",
    "\n",
    "                except FileNotFoundError:\n",
    "                    print(f\"Error: File '{file}' not found in '{folder}'.\")\n",
    "                except Exception as e:\n",
    "                    print(f\"An error occurred: {e}\")\n",
    "\n"
   ]
  },
  {
   "cell_type": "code",
   "execution_count": 1301,
   "id": "dd7359d6",
   "metadata": {},
   "outputs": [
    {
     "data": {
      "text/plain": [
       "'/Volumes/Seagate_Jewell/KenzieStuff/SIDEx_animation/filenames/to_delete/VNP02MOD.A2021121.2024_v1.png'"
      ]
     },
     "execution_count": 1301,
     "metadata": {},
     "output_type": "execute_result"
    }
   ],
   "source": [
    "main_path+folder+'/'+file"
   ]
  },
  {
   "cell_type": "code",
   "execution_count": 1302,
   "id": "e7de6601",
   "metadata": {},
   "outputs": [
    {
     "data": {
      "text/plain": [
       "'/Volumes/Seagate_Jewell/KenzieStuff/SIDEx_animation/filenames/to_delete//VNP02MOD.A2021121.2024_v1.png'"
      ]
     },
     "execution_count": 1302,
     "metadata": {},
     "output_type": "execute_result"
    }
   ],
   "source": [
    "main_path+new_folder+'/'+file"
   ]
  },
  {
   "cell_type": "code",
   "execution_count": 1296,
   "id": "b064d279",
   "metadata": {},
   "outputs": [
    {
     "data": {
      "text/plain": [
       "'/Volumes/Seagate_Jewell/KenzieStuff/SIDEx_animation/filenames/to_deleteVNP02MOD.A2021121.2024_v1.png'"
      ]
     },
     "execution_count": 1296,
     "metadata": {},
     "output_type": "execute_result"
    }
   ],
   "source": [
    "main_path+folder+file"
   ]
  },
  {
   "cell_type": "code",
   "execution_count": 1292,
   "id": "f2bd8643",
   "metadata": {},
   "outputs": [],
   "source": [
    "import shutil"
   ]
  },
  {
   "cell_type": "code",
   "execution_count": 1280,
   "id": "53c9bd37",
   "metadata": {},
   "outputs": [
    {
     "data": {
      "text/plain": [
       "['/Volumes/Seagate_Jewell/KenzieStuff/SIDEx_animation/filenames/2021060/']"
      ]
     },
     "execution_count": 1280,
     "metadata": {},
     "output_type": "execute_result"
    }
   ],
   "source": [
    "glob.glob('/Volumes/Seagate_Jewell/KenzieStuff/SIDEx_animation/filenames/2021060/')"
   ]
  },
  {
   "cell_type": "code",
   "execution_count": null,
   "id": "5d472cbf",
   "metadata": {},
   "outputs": [],
   "source": [
    "import shutil\n",
    "import os\n",
    "\n",
    "source_folder = \"path/to/source_folder\"\n",
    "destination_folder = \"path/to/destination_folder\"\n",
    "file_name = \"your_file.png\"\n",
    "\n",
    "source_path = os.path.join(source_folder, file_name)\n",
    "destination_path = os.path.join(destination_folder, file_name)\n",
    "\n",
    "try:\n",
    "    shutil.move(source_path, destination_path)\n",
    "    print(f\"File '{file_name}' moved successfully from '{source_folder}' to '{destination_folder}'.\")\n",
    "except FileNotFoundError:\n",
    "    print(f\"Error: File '{file_name}' not found in '{source_folder}'.\")\n",
    "except Exception as e:\n",
    "    print(f\"An error occurred: {e}\")"
   ]
  }
 ],
 "metadata": {
  "kernelspec": {
   "display_name": "SBSpolynya",
   "language": "python",
   "name": "sbspolynya"
  },
  "language_info": {
   "codemirror_mode": {
    "name": "ipython",
    "version": 3
   },
   "file_extension": ".py",
   "mimetype": "text/x-python",
   "name": "python",
   "nbconvert_exporter": "python",
   "pygments_lexer": "ipython3",
   "version": "3.12.2"
  }
 },
 "nbformat": 4,
 "nbformat_minor": 5
}
