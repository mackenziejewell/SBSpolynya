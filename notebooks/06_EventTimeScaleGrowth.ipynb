{
 "cells": [
  {
   "cell_type": "markdown",
   "id": "b746cacd",
   "metadata": {},
   "source": [
    "# 05_WindForcing\n",
    "\n",
    "Relation to large-scale patterns of atm. forcing"
   ]
  },
  {
   "cell_type": "code",
   "execution_count": 6,
   "id": "a1bfe797",
   "metadata": {},
   "outputs": [
    {
     "name": "stdout",
     "output_type": "stream",
     "text": [
      "The autoreload extension is already loaded. To reload it, use:\n",
      "  %reload_ext autoreload\n"
     ]
    }
   ],
   "source": [
    "%load_ext autoreload\n",
    "%autoreload 2\n",
    "\n",
    "# general\n",
    "import numpy as np, numpy.ma as ma\n",
    "import xarray as xr\n",
    "import pandas as pd\n",
    "\n",
    "# time\n",
    "from datetime import datetime, timedelta\n",
    "import calendar\n",
    "from calendar import monthrange\n",
    "\n",
    "# local system \n",
    "import sys  \n",
    "import glob\n",
    "import os\n",
    "\n",
    "# plotting\n",
    "import matplotlib as mpl\n",
    "from matplotlib import pyplot as plt\n",
    "import matplotlib.colors\n",
    "import cmocean\n",
    "import matplotlib.patches as mpatches\n",
    "from mpl_toolkits.axes_grid1.inset_locator import inset_axes\n",
    "from matplotlib.colors import Normalize\n",
    "import matplotlib.ticker as ticker\n",
    "# from matplotlib.ticker import MultipleLocator\n",
    "\n",
    "import matplotlib.dates as mdates\n",
    "import matplotlib.patches as patches\n",
    "import matplotlib.ticker as mticker\n",
    "\n",
    "from scipy import stats\n",
    "\n",
    "\n",
    "# geo plotting\n",
    "import cartopy\n",
    "import cartopy.crs as ccrs\n",
    "import cartopy.feature as cfeat\n",
    "from cartopy import img_transform\n",
    "\n",
    "from metpy.units import units\n",
    "\n",
    "# path to own functions\n",
    "sys.path.append('../../')\n",
    "import timeseries.adjust as tseries\n",
    "import timeseries.analyze as tanalyze\n",
    "import geofunc.general as geogen\n",
    "import geofunc.vectors as vectors\n",
    "import geofunc.shapes as geoshape\n",
    "import plot_simply.general as plotter\n",
    "import plot_simply.geomap as geomap\n",
    "import data_NSIDC.icedrift as icedrift\n",
    "import data_UniBremen.SIC as unisic\n",
    "\n",
    "sys.path.append('../')\n",
    "import functions as fn"
   ]
  },
  {
   "cell_type": "code",
   "execution_count": 7,
   "id": "f467d059",
   "metadata": {},
   "outputs": [
    {
     "data": {
      "text/plain": [
       "{'Cp_o': <Quantity(3850.0, 'joule / kilogram / delta_degree_Celsius')>,\n",
       " 'Cp_a': <Quantity(1004.0, 'joule / kilogram / delta_degree_Celsius')>,\n",
       " 'sigma_sb': <Quantity(5.670367e-08, 'watt / meter ** 2 / kelvin ** 4')>,\n",
       " 'rho_a': <Quantity(1.225, 'kilogram / meter ** 3')>,\n",
       " 'rho_o': <Quantity(1028.0, 'kilogram / meter ** 3')>,\n",
       " 'rho_i': <Quantity(917.0, 'kilogram / meter ** 3')>,\n",
       " 'L_i': <Quantity(334000.0, 'joule / kilogram')>,\n",
       " 'k_i': <Quantity(2.2, 'watt / meter / delta_degree_Celsius')>,\n",
       " 'kappa': <Quantity(0.4, 'dimensionless')>,\n",
       " 'St': <Quantity(0.0057, 'dimensionless')>,\n",
       " 'omega': <Quantity(7.2921e-05, 'radian / second')>}"
      ]
     },
     "execution_count": 7,
     "metadata": {},
     "output_type": "execute_result"
    }
   ],
   "source": [
    "# Save to file\n",
    "df = pd.read_csv('../data/constants.csv')\n",
    "df = df.set_index('var')\n",
    "df\n",
    "\n",
    "cst = {}\n",
    "for variable in list(df.index):\n",
    "    cst[variable] = df.loc[variable]['value'] * units(df.loc[variable]['units'])\n",
    "    \n",
    "cst"
   ]
  },
  {
   "cell_type": "code",
   "execution_count": 8,
   "id": "80770338",
   "metadata": {},
   "outputs": [],
   "source": [
    "def Pease_Model_v2(event_df, wf=0.02, ta=35, poly_dir=145, Hi = 25 * units('cm'), show_plot = False):\n",
    "\n",
    "\n",
    "    def convert_to_k(T):\n",
    "\n",
    "        if T.units == 'degree_Celsius':\n",
    "            T = T.to('degree_Kelvin')\n",
    "        elif T.units == 'delta_degree_Celsius':\n",
    "            print('T!! should not be delta deg C')\n",
    "        return T\n",
    "\n",
    "\n",
    "    def find_Qlu(Tw, sigma, eo):\n",
    "        Tw = convert_to_k(Tw)\n",
    "        qlu = sigma * eo * Tw**4\n",
    "        return qlu.to('W/m2')\n",
    "\n",
    "\n",
    "    def find_Qld(Ta, sigma, ea):\n",
    "        Ta = convert_to_k(Ta)\n",
    "        qld = sigma * ea * Ta**4\n",
    "        return qld.to('W/m2')\n",
    "\n",
    "\n",
    "    def find_Qs(Ta, Tw, rho_a, Cpa, Va):\n",
    "\n",
    "        Ta = Ta.magnitude * units('delta_degree_Celsius')\n",
    "        Tw = Tw.magnitude * units('delta_degree_Celsius')\n",
    "\n",
    "        Ch = 2e-3 # sensible heat coefficient\n",
    "\n",
    "        qs = rho_a * Ch * Cpa * Va * (Ta-Tw)\n",
    "\n",
    "        return qs.to('W/m2')\n",
    "\n",
    "\n",
    "    def open_Qld(event_df):\n",
    "        # determine event year to open\n",
    "        event_year = pd.to_datetime(event_df.time.values[-1]).year\n",
    "        if pd.to_datetime(event_df.time.values[-1]).month == 12:\n",
    "            event_year+=1\n",
    "\n",
    "        # grab shortwave downward data\n",
    "        with xr.open_dataset(f'../data/forcing/regional_daily_era_strd_{event_year}_v7.nc') as ds_sw:\n",
    "            down_longwave = ds_sw.strd.sel(time=event_df.time.values).values * units('W/m2')\n",
    "\n",
    "        qld = (down_longwave) # longwave down\n",
    "\n",
    "        return qld\n",
    "    \n",
    "    \n",
    "    def open_Qr(event_df):\n",
    "        # determine event year to open\n",
    "        event_year = pd.to_datetime(event_df.time.values[-1]).year\n",
    "        if pd.to_datetime(event_df.time.values[-1]).month == 12:\n",
    "            event_year+=1\n",
    "\n",
    "        # grab shortwave downward data\n",
    "        with xr.open_dataset(f'../data/forcing/regional_daily_era_ssrd_{event_year}_v7.nc') as ds_sw:\n",
    "            down_shortwave = ds_sw.ssrd.sel(time=event_df.time.values).values * units('W/m2')\n",
    "\n",
    "        qr = (1-0.1)*(down_shortwave) # short wave radiation absorbed (10% albedo)\n",
    "\n",
    "        return qr\n",
    "    \n",
    "    \n",
    "    \n",
    "    # wind component that extends polynya\n",
    "#     wind_angle = (poly_dir+ta)*units('degree')\n",
    "#     wind_comp = vectors.comp_along_theta(event_df['u10'].values, event_df['v10'].values, wind_angle)\n",
    "#     wind_speed = np.sqrt(event_df['u10'].values**2 + event_df['v10'].values**2) * units('m/s')\n",
    "\n",
    "\n",
    "    \n",
    "    # observed wind speed and direction\n",
    "    wind_speed = np.sqrt(event_df['u10'].values**2 + event_df['v10'].values**2) * units('m/s')\n",
    "    wind_dir = vectors.vector_angle(event_df['u10'].values, event_df['v10'].values)\n",
    "    \n",
    "    # predicted ice speed and direction\n",
    "    ice_speed = wf * wind_speed.to('km/day')\n",
    "    ice_dir = wind_dir - (ta*units('degree'))\n",
    "    \n",
    "    # back to components\n",
    "    ice_u = ice_speed * np.cos(ice_dir.to('radian').magnitude)\n",
    "    ice_v = ice_speed * np.sin(ice_dir.to('radian').magnitude)\n",
    "    \n",
    "    # component of ice drift along polynya direction\n",
    "    ice_comp_along_polynya = vectors.comp_along_theta(ice_u, ice_v, poly_dir*units('degree'))\n",
    "    Vi = ice_comp_along_polynya\n",
    "    \n",
    "    # daily ice drift\n",
    "#     Vi = wf * wind_comp*units('m/s').to('km/day')\n",
    "\n",
    "    # air temperature\n",
    "    Ta = event_df['t2m'].values * units('degC')\n",
    "\n",
    "    # water temperature\n",
    "    Tw = -1.8 * units('degC')\n",
    "\n",
    "    # surface heat balance\n",
    "    #-----------------------\n",
    "    # define positive upward\n",
    "    Qlu = find_Qlu(Tw, cst['sigma_sb'], 0.98)\n",
    "    Qld = -find_Qld(Ta, cst['sigma_sb'], 0.95)\n",
    "#     Qld = -open_Qld(event_df)\n",
    "    Qs = -find_Qs(Ta, Tw, cst['rho_a'], cst['Cp_a'], wind_speed)\n",
    "    Qr = -open_Qr(event_df) # short wave radiation absorbed (5% albedo)\n",
    "\n",
    "    Qnet = Qlu+Qld+Qs+Qr\n",
    "\n",
    "    # heat flux to ice production rate\n",
    "    #-----------------------------------\n",
    "    Fi = (Qnet / (cst['L_i']*cst['rho_i'])).to('cm/day')\n",
    "    \n",
    "    \n",
    "    if show_plot:\n",
    "        fig, ax = plt.subplots(figsize=(3,3))\n",
    "        ax.plot(Qs, label='sensible')\n",
    "        ax.axhline(Qlu, label='lw u', c='b')\n",
    "        ax.plot(Qld, label='lw d')\n",
    "        ax.plot(Qr, label='shortwave')\n",
    "        ax.plot(Qnet, c='k', label='net')\n",
    "        ax.legend()\n",
    "        \n",
    "        \n",
    "        \n",
    "    # iteratively solve for the length\n",
    "    #---------------------------------\n",
    "    Xp = np.array([0]) * units('m')\n",
    "\n",
    "    for tt in range(len(event_df)):\n",
    "\n",
    "        # current length\n",
    "        X_curr = Xp[-1]\n",
    "\n",
    "        # change in length\n",
    "        dXdt = Vi[tt] - X_curr * Fi[tt] / Hi\n",
    "        dX = dXdt * units('day')\n",
    "\n",
    "\n",
    "        Xnew = X_curr + dX\n",
    "        Xp = np.append(Xp, Xnew)\n",
    "\n",
    "\n",
    "    X_num = Xp[1:].to('km')\n",
    "\n",
    "    # solve for limiting width\n",
    "    #---------------------------------\n",
    "    X_max = (Vi * Hi / Fi).to('km')\n",
    "    # time to reach 95% of limiting size\n",
    "    t95 = (3 * Hi / Fi).to('day')\n",
    "    \n",
    "    if show_plot:\n",
    "        fig, ax = plt.subplots(figsize=(8,3))\n",
    "        ax.plot(event_df.time, np.cumsum(Vi.magnitude), marker='.', c='k', label='Fi=0')\n",
    "        ax.plot(event_df.time, X_num.to('km'), label='iter')\n",
    "        ax.plot(event_df.time, X_max.to('km'), label='limiting width')\n",
    "        ax.bar(event_df.time, event_df.length_145max, color='lightgray', label='obs')\n",
    "        plt.legend()\n",
    "\n",
    "    X_zip = np.cumsum(Vi*units('day'))\n",
    "    \n",
    "    return X_num, X_max, t95, X_zip, Ta, Vi, wind_speed, event_df['u10'].values, Fi"
   ]
  },
  {
   "cell_type": "markdown",
   "id": "a3c79ff1",
   "metadata": {},
   "source": [
    "## Reference grids"
   ]
  },
  {
   "cell_type": "code",
   "execution_count": 9,
   "id": "3b3a0ebd",
   "metadata": {},
   "outputs": [],
   "source": [
    "# open regional bounding coordinates\n",
    "df = pd.read_csv('../data/coastal_region_bounds_v7.csv')\n",
    "reg_poly = geoshape.make_polygon(np.stack((df['lons'], df['lats']), axis=1))\n",
    "\n"
   ]
  },
  {
   "cell_type": "code",
   "execution_count": null,
   "id": "fa60cf8d",
   "metadata": {},
   "outputs": [],
   "source": []
  },
  {
   "cell_type": "code",
   "execution_count": 10,
   "id": "037e3ed4",
   "metadata": {},
   "outputs": [
    {
     "data": {
      "image/png": "[encoded data removed]",
      "text/plain": [
       "<Figure size 800x600 with 1 Axes>"
      ]
     },
     "metadata": {},
     "output_type": "display_data"
    }
   ],
   "source": [
    "\n",
    "# initialize map\n",
    "map_proj = ccrs.NorthPolarStereo(central_longitude=-150)\n",
    "fig, ax = plt.subplots(subplot_kw=dict(projection=map_proj), figsize=(8,6))\n",
    "ax.set_ylim(-2500000,-1500000)\n",
    "ax.set_xlim(-800000,1000000)\n",
    "ax.set_facecolor('lightgray')\n",
    "geomap.land(ax, scale = '10m', color='darkgray', alpha=1, fill_dateline_gap = False, zorder=2)\n",
    "\n",
    "\n",
    "ax.add_geometries([reg_poly], edgecolor='k', facecolor='None',zorder=100, crs=ccrs.PlateCarree())\n",
    "\n",
    "\n",
    "# for key in ['era', 'ppd']:\n",
    "#     ax.scatter(grids[key]['lon'][grids[key]['region']], grids[key]['lat'][grids[key]['region']], \n",
    "#                zorder=100, s = 10, transform=ccrs.PlateCarree())\n",
    "\n",
    "\n",
    "\n",
    "line_kwargs = {'lw':0.75, 'c':[0.6,0.6,0.6]}\n",
    "for lat in [69.25,72]:\n",
    "    ax.plot(np.linspace(-160,-120,100), np.full(100,lat), transform=ccrs.PlateCarree(), **line_kwargs)  \n",
    "for lon in [-150,-137.5]:\n",
    "    ax.plot(np.full(100,lon), np.linspace(68,73,100), transform=ccrs.PlateCarree(), **line_kwargs)\n",
    "    \n"
   ]
  },
  {
   "cell_type": "code",
   "execution_count": 125,
   "id": "780af693",
   "metadata": {},
   "outputs": [],
   "source": [
    "df = pd.read_csv('../data/compiled_stats.csv')\n",
    "\n",
    "\n",
    "\n",
    "df['esei'] = vectors.comp_along_theta(df['ui'], df['vi'], 145*units('degree')) * units('cm/s').to('km/day')\n",
    "df['ese10'] = 0.03*vectors.comp_along_theta(df['u10'], df['v10'], 180*units('degree'))* units('m/s').to('km/day')\n",
    "\n",
    "df['si_km'] = df['si'] * units('cm/s').to('km/day')\n",
    "\n",
    "for cat in ['a10', 'ai', 'centermass_direction', 'max_length_direction']:\n",
    "    \n",
    "    angles = 90-df[f'{cat}']\n",
    "    angles[angles<0]+=360\n",
    "    df[f'{cat}_r'] = angles\n",
    "    \n",
    "df['up'] = df['centermass_length'].values * np.cos(df['centermass_direction'].values*np.pi/180)\n",
    "df['vp'] = df['centermass_length'].values * np.sin(df['centermass_direction'].values*np.pi/180)\n",
    "                     \n",
    "    \n",
    "vi = (df['ui'].values, df['vi'].values)\n",
    "vw = (df['u10'].values, df['v10'].values)\n",
    "vp = (df['up'].values, df['vp'].values )\n",
    "                              \n",
    "df['ta_wi'] = vectors.turning_angle(vw,vi).magnitude\n",
    "df['ta_ip'] = vectors.turning_angle(vi,vp).magnitude\n",
    "df['ta_wp'] = vectors.turning_angle(vw,vp).magnitude\n",
    "\n",
    "df['cum_drift'] = 0\n",
    "df['X_Pease'] = 0\n",
    "seqs = np.array(list(set(df.sequence[df.sequence!=-999])))\n",
    "\n",
    "for ss in seqs:\n",
    "    df.loc[df.sequence == ss, 'cum_drift'] = np.cumsum(df.loc[df.sequence == ss, 'ese10']).values\n",
    "    "
   ]
  },
  {
   "cell_type": "code",
   "execution_count": 126,
   "id": "72d27b80",
   "metadata": {},
   "outputs": [
    {
     "name": "stderr",
     "output_type": "stream",
     "text": [
      "/var/folders/p8/hz449fpx6nscv0jb1klyfqb40000gp/T/ipykernel_9215/277851032.py:6: FutureWarning: Setting an item of incompatible dtype is deprecated and will raise in a future error of pandas. Value '[-16.16057034]' has dtype incompatible with int64, please explicitly cast to a compatible dtype first.\n",
      "  df.loc[df.sequence == ss, 'cum_drift'] = np.cumsum(df.loc[df.sequence == ss, 'ese10']).values\n",
      "/var/folders/p8/hz449fpx6nscv0jb1klyfqb40000gp/T/ipykernel_9215/277851032.py:21: FutureWarning: Setting an item of incompatible dtype is deprecated and will raise in a future error of pandas. Value '-67.53137133509658 kilometer' has dtype incompatible with int64, please explicitly cast to a compatible dtype first.\n",
      "  df.loc[IND, 'X_Pease'] = X_max\n"
     ]
    }
   ],
   "source": [
    "\n",
    "    \n",
    "for IND in np.where(df.year >= 2003)[0]:\n",
    "    # model params\n",
    "    #===============================\n",
    "    wf = 0.03 # wind factor\n",
    "    ta = 20   # CW turning angle wind to ice, degrees\n",
    "    poly_dir = 145  #  polynya direction, degrees CCW from E\n",
    "    Hi = 15 * units('cm')\n",
    "    #===============================\n",
    "\n",
    "#     for IND in np.where(df.sequence == ss)[0]:\n",
    "    out = Pease_Model_v2(df.iloc[IND:IND+1], wf=wf, ta=ta, poly_dir=poly_dir, Hi = Hi, show_plot = False)\n",
    "    X_num, X_max, t95, X_zip, Ta, Vi, wind_speed, east_wind, Fi = out\n",
    "    df.loc[IND, 'X_Pease'] = X_max\n",
    "        \n",
    "\n",
    "# identify base period\n",
    "dfb = df[df['2003_2023']]\n",
    "dfr = df[df.year >= 2003]"
   ]
  },
  {
   "cell_type": "code",
   "execution_count": null,
   "id": "6fa166af",
   "metadata": {},
   "outputs": [],
   "source": []
  },
  {
   "cell_type": "code",
   "execution_count": 106,
   "id": "e9dac3c3",
   "metadata": {},
   "outputs": [
    {
     "name": "stdout",
     "output_type": "stream",
     "text": [
      "4851    2019-12-12\n",
      "Name: time, dtype: object\n",
      "4851    119\n",
      "Name: sequence, dtype: int64\n",
      "5489    2024-01-14\n",
      "Name: time, dtype: object\n",
      "5489    150\n",
      "Name: sequence, dtype: int64\n",
      "5232    2022-02-28\n",
      "Name: time, dtype: object\n",
      "5232    135\n",
      "Name: sequence, dtype: int64\n",
      "5697    2025-03-11\n",
      "Name: time, dtype: object\n",
      "5697    160\n",
      "Name: sequence, dtype: int64\n",
      "4368    2016-04-12\n",
      "Name: time, dtype: object\n",
      "4368    86\n",
      "Name: sequence, dtype: int64\n"
     ]
    }
   ],
   "source": [
    "for month in [12,1,2,3,4]:\n",
    "    \n",
    "    cond = ((dfr['sequence']!=-999)&((dfr['season_start_flag']==False)&(dfr['season_end_flag']==False)))\n",
    "    cond = cond & (dfr['month']==month)\n",
    "    \n",
    "    print(dfr['time'][cond][dfr['extent'][cond] == np.max(dfr['extent'][cond])])\n",
    "    print(dfr['sequence'][cond][dfr['extent'][cond] == np.max(dfr['extent'][cond])])\n",
    "    "
   ]
  },
  {
   "cell_type": "code",
   "execution_count": 107,
   "id": "6859956c",
   "metadata": {},
   "outputs": [],
   "source": [
    "cond = ((dfr['sequence']!=-999)&((dfr['season_start_flag']==False)&(dfr['season_end_flag']==False)))\n",
    "all_ss = list(set(dfr['sequence'][cond]))\n",
    "\n",
    "\n",
    "# cond = ((dfr['sequence']!=-999))\n",
    "# all_ss = list(set(dfr['sequence'][cond]))\n"
   ]
  },
  {
   "cell_type": "code",
   "execution_count": null,
   "id": "6c8bf13e",
   "metadata": {},
   "outputs": [],
   "source": []
  },
  {
   "cell_type": "code",
   "execution_count": 108,
   "id": "3c00b3ce",
   "metadata": {},
   "outputs": [],
   "source": [
    "def dir_conds(dff, cat):\n",
    "    \n",
    "    if cat == 'wind':\n",
    "        dir_cond = (dff['a10_r'] > 260) & (dff['a10_r'] < 305)\n",
    "#         dir_cond = (dff['a10_r'] > 255) & (dff['a10_r'] < 305)\n",
    "        \n",
    "    elif cat == 'ice':\n",
    "        \n",
    "        dir_cond = (dff['ai_r'] > 270) & (dff['ai_r'] < 315)\n",
    "    return dir_cond\n",
    "\n",
    "def speed_conds(dff, cat):\n",
    "    \n",
    "    if cat == 'wind':\n",
    "        speed_cond = (dff['s10'] > 6)\n",
    "    elif cat == 'ice':\n",
    "        speed_cond = (dff['si_km'] > 10)\n",
    "    return speed_cond"
   ]
  },
  {
   "cell_type": "code",
   "execution_count": 109,
   "id": "a0ec1720",
   "metadata": {},
   "outputs": [
    {
     "data": {
      "text/plain": [
       "<matplotlib.collections.PathCollection at 0x14454a0f0>"
      ]
     },
     "execution_count": 109,
     "metadata": {},
     "output_type": "execute_result"
    },
    {
     "data": {
      "image/png": "[encoded data removed]",
      "text/plain": [
       "<Figure size 300x300 with 1 Axes>"
      ]
     },
     "metadata": {},
     "output_type": "display_data"
    }
   ],
   "source": [
    "late_df = df[df.year >= 2016]\n",
    "earl_df = df[(df.year >= 2003)&(df.year < 2016)]\n",
    "\n",
    "fig, ax= plt.subplots(figsize=(3,3))\n",
    "\n",
    "cond =  (earl_df.s10 > 3) &dir_conds(earl_df, 'wind') \n",
    "# plt.hist(earl_df[cond]['a10_r'], bins=np.arange(255,310,2), alpha=0.5, density=True)\n",
    "\n",
    "plt.scatter(earl_df[cond]['a10_r'], earl_df[cond]['si']/earl_df[cond]['s10'], s=5)\n",
    "\n",
    "\n",
    "cond = (late_df.s10 > 3) &dir_conds(late_df, 'wind') \n",
    "# plt.hist(late_df[cond]['a10_r'], bins=np.arange(255,310,2), alpha=0.5, density=True)\n",
    "plt.scatter(late_df[cond]['a10_r'], late_df[cond]['si']/late_df[cond]['s10'], s=5)"
   ]
  },
  {
   "cell_type": "code",
   "execution_count": null,
   "id": "ab7a567d",
   "metadata": {},
   "outputs": [],
   "source": []
  },
  {
   "cell_type": "code",
   "execution_count": 110,
   "id": "e4c40046",
   "metadata": {},
   "outputs": [
    {
     "data": {
      "text/html": [
       "8.8128 kilometer/day"
      ],
      "text/latex": [
       "$8.8128\\ \\frac{\\mathrm{kilometer}}{\\mathrm{day}}$"
      ],
      "text/plain": [
       "<Quantity(8.8128, 'kilometer / day')>"
      ]
     },
     "execution_count": 110,
     "metadata": {},
     "output_type": "execute_result"
    }
   ],
   "source": [
    "0.017 * 6 * units('m/s').to('km/day')"
   ]
  },
  {
   "cell_type": "code",
   "execution_count": null,
   "id": "7dca55f2",
   "metadata": {},
   "outputs": [],
   "source": []
  },
  {
   "cell_type": "markdown",
   "id": "47c192d1",
   "metadata": {},
   "source": [
    "### Define direction ranges"
   ]
  },
  {
   "cell_type": "code",
   "execution_count": 127,
   "id": "e43e1c78",
   "metadata": {},
   "outputs": [],
   "source": [
    "# wind_dir_cond = (DF['a10_r'] > 260) & (DF['a10_r'] < 300)\n",
    "# ice_dir_cond = (DF['ai_r'] > 270) & (DF['ai_r'] < 315)\n",
    "# wind_speed_cond = DF['s10'] > 7\n",
    "\n",
    "\n",
    "# dir_conds = {}\n",
    "# dir_conds['wind'] = (DF['a10_r'] > 260) & (DF['a10_r'] < 300)\n",
    "# dir_conds['ice'] = (DF['ai_r'] > 270) & (DF['ai_r'] < 315)\n",
    "\n",
    "# dir_conds = {}\n",
    "# dir_conds['wind'] = (DF['a10_r'] > 260) & (DF['a10_r'] < 300)\n",
    "# dir_conds['ice'] = (DF['ai_r'] > 270) & (DF['ai_r'] < 315)\n",
    "\n",
    "\n",
    "def dir_conds(dff, cat):\n",
    "    \n",
    "    if cat == 'wind':\n",
    "        \n",
    "#         dir_cond = (dff['a10_r'] > 260) & (dff['a10_r'] < 305)\n",
    "#         dir_cond = (dff['a10_r'] > 260) & (dff['a10_r'] < 300)\n",
    "        dir_cond = (dff['a10_r'] > 260) & (dff['a10_r'] < 305)\n",
    "        \n",
    "    elif cat == 'ice':\n",
    "        \n",
    "        dir_cond = (dff['ai_r'] > 270) & (dff['ai_r'] < 315)\n",
    "#         dir_cond = (dff['ai_r'] > 270) & (dff['ai_r'] < 315)\n",
    "\n",
    "    elif cat == 'poly':\n",
    "        \n",
    "        dir_cond = (dff['centermass_direction_r'] > 280) & (dff['centermass_direction_r'] < 330)\n",
    "        \n",
    "    return dir_cond\n",
    "\n",
    "def speed_conds(dff, cat):\n",
    "    \n",
    "    if cat == 'wind':\n",
    "        speed_cond = (dff['s10'] > 6)\n",
    "\n",
    "#         speed_cond = np.copy(dff['s10'] > 8.5)\n",
    "#         speed_cond[dff.year>=2016] = np.copy(dff['s10'][dff.year>=2016] > 6)\n",
    "\n",
    "#         speed_cond = np.copy(dff['s10'] > 7.5)\n",
    "#         speed_cond[dff.year>=2016] = np.copy(dff['s10'][dff.year>=2016] > 5.5)\n",
    "        \n",
    "#         years = np.arange(2003,2026)\n",
    "#         ws_thresh = np.linspace(9,5.5, len(years))\n",
    "#         speed_cond = np.copy(dff['s10'] > 10)\n",
    "#         for year in years:\n",
    "#             speed_cond[dff.year==year] = (dff['s10'][dff.year==year] > ws_thresh[years==year][0])\n",
    "\n",
    "\n",
    "    elif cat == 'ice':\n",
    "        speed_cond = (dff['si_km'] > 10)\n",
    "\n",
    "    return speed_cond\n",
    "\n",
    "speed_bins = {}\n",
    "speed_bins['wind'] = np.arange(0,17,1)\n",
    "speed_bins['ice'] = np.arange(0,35,2)\n",
    "\n"
   ]
  },
  {
   "cell_type": "code",
   "execution_count": 112,
   "id": "61378f51",
   "metadata": {},
   "outputs": [
    {
     "data": {
      "text/plain": [
       "0.8061002178649237"
      ]
     },
     "execution_count": 112,
     "metadata": {},
     "output_type": "execute_result"
    }
   ],
   "source": [
    "np.sum(dir_conds(DF[DF.extent>0], 'wind'))/np.sum(DF.extent>0)"
   ]
  },
  {
   "cell_type": "code",
   "execution_count": 113,
   "id": "c9f53109",
   "metadata": {},
   "outputs": [
    {
     "data": {
      "text/plain": [
       "0.7864923747276689"
      ]
     },
     "execution_count": 113,
     "metadata": {},
     "output_type": "execute_result"
    }
   ],
   "source": [
    "np.sum(dir_conds(DF[DF.extent>0], 'ice'))/np.sum(DF.extent>0)"
   ]
  },
  {
   "cell_type": "code",
   "execution_count": 114,
   "id": "2e0afcba",
   "metadata": {},
   "outputs": [],
   "source": [
    "def plot_percentiles(ax, x, data, c='r'):\n",
    "    ax.scatter(x, np.nanpercentile(data, 50), s=10, c=c)\n",
    "    ax.scatter(x, np.nanpercentile(data, 25), s=5, c=c)\n",
    "    ax.scatter(x, np.nanpercentile(data, 75), s=5, c=c)\n",
    "    \n",
    "def plot_means(ax, x, data, c='r'):\n",
    "    ax.scatter(x, np.nanmean(data), s=10, c=c)\n",
    "    ax.scatter(x, np.nanmean(data)+np.nanstd(data), s=5, c=c)\n",
    "    ax.scatter(x, np.nanmean(data)-np.nanstd(data), s=5, c=c)\n",
    "    \n",
    "    "
   ]
  },
  {
   "cell_type": "markdown",
   "id": "678f757b",
   "metadata": {},
   "source": [
    "### Specify conditions"
   ]
  },
  {
   "cell_type": "code",
   "execution_count": 142,
   "id": "ee113626",
   "metadata": {},
   "outputs": [
    {
     "name": "stdout",
     "output_type": "stream",
     "text": [
      "12\n",
      "136\n"
     ]
    }
   ],
   "source": [
    "#=============\n",
    "L = 7\n",
    "#=============\n",
    "\n",
    "\n",
    "#=============\n",
    "DF = dfb\n",
    "#=============\n",
    "print(len(list(set(DF['sequence'][DF['event_length']>L]))))\n",
    "print(len(list(set(DF['sequence'][DF['event_length']<=L]))))\n",
    "\n",
    "shoulder = ((DF['season_start_flag'] + DF['season_end_flag']) + DF['final_day'])\n",
    "\n",
    "shoulder_si = (DF['season_start_flag'] + DF['season_end_flag'])\n",
    "\n",
    "# shoulder = DF.year<0\n",
    "\n",
    "comp_ = (DF.extent==0)\n",
    "comp_[(DF.day_before_event>=-3)]=False\n",
    "comp_[(DF.day_after_event<=2)&(DF.day_after_event>-999)]=False\n",
    "\n",
    "days_before = np.array([-2,-1])\n",
    "labels_before = np.array(['$t_{i}$'f'\\n{dd}' for dd in days_before])\n",
    "conds_before = [(DF['day_before_event'] == dd)&(DF['before_event_length']>=1) for dd in days_before]\n",
    "\n",
    "days_during = np.arange(1,L+1)\n",
    "labels_during = np.array([f'{dd}' for dd in days_during])\n",
    "# conds_during = [((DF['event_day'] == dd)&(shoulder==False))&(DF['final_day'] == False) for dd in days_during]\n",
    "# conds_during = [(DF['event_day'] == dd) for dd in days_during]\n",
    "conds_during = [((DF['event_day'] == dd)&(shoulder==False)) for dd in days_during]\n",
    "# conds_during[0] = ((DF['event_day'] == 1)&(DF['season_start_flag']==False))&(DF['single_day']==False)\n",
    "\n",
    "\n",
    "days_more = np.array([L+1])\n",
    "labels_more = np.array([f'{L+1}+'])\n",
    "# conds_more = [((DF['event_day'] > L)&(DF['final_day'] == False))&(shoulder==False)]\n",
    "conds_more = [((DF['event_day'] > L))&(shoulder==False)]\n",
    "\n",
    "\n",
    "day_final = np.array([L+2])\n",
    "labels_final = np.array(['$t_{f}$'])\n",
    "conds_final = [((DF['final_day'] == True)&(shoulder_si==False))]   \n",
    "\n",
    "days_after = np.array([1,2])\n",
    "labels_after = np.array(['$t_{f}$'f'\\n+{dd}' for dd in days_after])\n",
    "conds_after = [(DF['day_after_event'] == dd)&(DF['after_event_length']>=1) for dd in days_after]   \n",
    "\n",
    "\n",
    "x_values = np.concatenate((1+days_before, days_during, days_more, day_final, 2+L+days_after))\n",
    "x_labels = np.concatenate((labels_before, labels_during, labels_more, labels_final, labels_after))\n",
    "all_cond = np.concatenate((conds_before, conds_during, conds_more, conds_final, conds_after))\n",
    "\n",
    "\n",
    "# x_values = np.concatenate((1+days_before, days_during, days_more, 1+L+days_after))\n",
    "# x_labels = np.concatenate((labels_before, labels_during, labels_more, labels_after))\n",
    "# all_cond = np.concatenate((conds_before, conds_during, conds_more, conds_after))\n",
    "\n",
    "\n",
    "across = {}\n",
    "for dd, cond in zip(x_labels, all_cond):\n",
    "\n",
    "    across[dd] = {}\n",
    "    across[dd]['date'] = DF.time[cond].values\n"
   ]
  },
  {
   "cell_type": "code",
   "execution_count": null,
   "id": "626ffff1",
   "metadata": {},
   "outputs": [],
   "source": []
  },
  {
   "cell_type": "code",
   "execution_count": 143,
   "id": "e1902590",
   "metadata": {},
   "outputs": [
    {
     "data": {
      "text/plain": [
       "array(['$t_{i}$\\n-2', '$t_{i}$\\n-1', '1', '2', '3', '4', '5', '6', '7',\n",
       "       '8+', '$t_{f}$', '$t_{f}$\\n+1', '$t_{f}$\\n+2'], dtype='<U10')"
      ]
     },
     "execution_count": 143,
     "metadata": {},
     "output_type": "execute_result"
    }
   ],
   "source": [
    "x_labels"
   ]
  },
  {
   "cell_type": "code",
   "execution_count": null,
   "id": "eccb1422",
   "metadata": {},
   "outputs": [],
   "source": []
  },
  {
   "cell_type": "code",
   "execution_count": 148,
   "id": "c68cae45",
   "metadata": {
    "scrolled": true
   },
   "outputs": [
    {
     "name": "stderr",
     "output_type": "stream",
     "text": [
      "<>:79: SyntaxWarning: invalid escape sequence '\\m'\n",
      "<>:100: SyntaxWarning: invalid escape sequence '\\m'\n",
      "<>:79: SyntaxWarning: invalid escape sequence '\\m'\n",
      "<>:100: SyntaxWarning: invalid escape sequence '\\m'\n",
      "/var/folders/p8/hz449fpx6nscv0jb1klyfqb40000gp/T/ipykernel_9215/2098432050.py:79: SyntaxWarning: invalid escape sequence '\\m'\n",
      "  ax.set_ylabel('Polynya\\nextent\\n($\\\\times\\mathrm{10^3\\;km^2}$)', rotation=0, labelpad=25, va='center')\n",
      "/var/folders/p8/hz449fpx6nscv0jb1klyfqb40000gp/T/ipykernel_9215/2098432050.py:100: SyntaxWarning: invalid escape sequence '\\m'\n",
      "  ax.set_ylabel('Polynya\\nlength\\n($\\\\times\\mathrm{km}$)', rotation=0, labelpad=25, va='center')\n"
     ]
    },
    {
     "data": {
      "image/png": "[encoded data removed]",
      "text/plain": [
       "<Figure size 275x400 with 3 Axes>"
      ]
     },
     "metadata": {},
     "output_type": "display_data"
    }
   ],
   "source": [
    "fig, axs = plt.subplots(3,1,figsize=(2.75,4), gridspec_kw={'height_ratios':[0.35,0.35,1]})\n",
    "\n",
    "\n",
    "    \n",
    "color1 = [50/255,115/255, 255/255]   \n",
    "color2 = [137/255,173/255, 255/255]   \n",
    "    \n",
    "    \n",
    "ax = axs[0]\n",
    "# ax.axhline(len(list(set(df.sequence))), c='lightgray', zorder=-10)\n",
    "ax.set_ylim(0,170)\n",
    "ax.set_yticks([])\n",
    "ax.set_ylabel('Days', rotation=0, labelpad=20, va='center')\n",
    "for dd, cond in zip(x_values, all_cond):\n",
    "    \n",
    "    if (dd >0)&(dd < 9):\n",
    "        ax.bar(dd, np.sum(cond), color=color1)\n",
    "        ax.text(dd, np.sum(cond)+5, np.sum(cond), \n",
    "                color=color1, va='bottom', ha='center', size=7.5)\n",
    "    else:\n",
    "        ax.bar(dd, np.sum(cond), color=color2)\n",
    "        ax.text(dd, np.sum(cond)+5, np.sum(cond), \n",
    "                color=color2, va='bottom', ha='center', size=7.5)\n",
    "ax.text(-2, 140, f'N={np.sum(comp_):.0f}', c='k', size = 7.5,zorder=0)\n",
    "\n",
    "\n",
    "for ax in axs:\n",
    "    ax.set_xlim(x_values.min()-1.75+1.25, x_values.max()+1.75-1.25)\n",
    "    ax.set_xticks(x_values)\n",
    "    ax.set_xticklabels([])\n",
    "axs[-1].set_xticklabels(x_labels);\n",
    "# plt.xticks(fontsize=9)\n",
    "\n",
    "\n",
    "\n",
    "for ax in axs[1:2]:\n",
    "    ax.set_ylim(0,1.05)\n",
    "    ax.yaxis.set_major_locator(ticker.MultipleLocator(0.5))\n",
    "    ax.yaxis.set_minor_locator(ticker.MultipleLocator(0.1))\n",
    "\n",
    "\n",
    "axs[1].set_ylabel('Easterly\\nwind event\\nprobability', rotation=0, labelpad=30)\n",
    "# axs[3].set_ylabel('Alongshore\\nice drift\\nprobability', rotation=0, labelpad=30)\n",
    "\n",
    "ax = axs[1]\n",
    "\n",
    "for ax, cat in zip(axs[1:2], ['wind', 'ice']):\n",
    "    \n",
    "    wind_prob = np.array([])\n",
    "    for dd, cond in zip(x_values, all_cond):\n",
    "        cond1 = cond & (dir_conds(DF, cat))& speed_conds(DF, cat)\n",
    "        wind_prob = np.append(wind_prob, np.sum(cond1)/np.sum(cond))\n",
    "        \n",
    "    width = 0.75    \n",
    "        \n",
    "    ax.bar(x_values[4:-3], wind_prob[4:-3], width=width,color = color1, ls='solid',  alpha=0.5, zorder=1)\n",
    "    ax.bar(x_values[:4], wind_prob[:4],width=width, color = color2, ls='solid',  alpha=0.5, zorder=1)\n",
    "    ax.bar(x_values[-3:], wind_prob[-3:],width=width, color = color2, ls='solid',  alpha=0.5, zorder=1)\n",
    "    \n",
    "    \n",
    "    ax.bar(x_values[4:-3], wind_prob[4:-3], width=width,facecolor='None', edgecolor = color1, ls='solid', lw=1.5, alpha=1, zorder=1)\n",
    "    ax.bar(x_values[:4], wind_prob[:4], width=width,facecolor='None', edgecolor = color2, ls='solid', lw=1.5, alpha=1, zorder=1)\n",
    "    ax.bar(x_values[-3:], wind_prob[-3:], width=width,facecolor='None', edgecolor = color2, ls='solid', lw=1.5, alpha=1, zorder=1)\n",
    "    \n",
    "#     ax.plot(x_values, wind_prob, color = 'k', ls='solid', marker='s', alpha=1, zorder=1)\n",
    "\n",
    "cond = comp_\n",
    "cond1 = cond & (dir_conds(DF, cat)&speed_conds(DF, cat))\n",
    "ax.axhline(np.sum(cond1)/np.sum(cond), ls='dashed', lw=1.5,  c = 'k', zorder=2)\n",
    "\n",
    "\n",
    "\n",
    "ax = axs[2]\n",
    "ax.set_ylim(0,220)\n",
    "ax.yaxis.set_major_locator(ticker.MultipleLocator(100))\n",
    "ax.yaxis.set_minor_locator(ticker.MultipleLocator(20))\n",
    "\n",
    "\n",
    "ax.set_ylabel('Polynya\\nextent\\n($\\\\times\\mathrm{10^3\\;km^2}$)', rotation=0, labelpad=25, va='center')\n",
    "VAR = 'cum_drift'\n",
    "\n",
    "\n",
    "pred_pers = {}\n",
    "percents = [10,25,50,75,90]\n",
    "for per in percents:\n",
    "    pred_pers[per] = np.array([])\n",
    "\n",
    "for dd, cond in zip(x_values, all_cond):\n",
    "    for per in percents:\n",
    "        pred_pers[per] = np.append(pred_pers[per], np.nanpercentile(DF[VAR][cond], per))\n",
    "    \n",
    "color = 'dodgerblue'\n",
    "ax.plot(x_values, pred_pers[50], lw=1, c=color, zorder=-3)\n",
    "ax.scatter(x_values, pred_pers[50], lw=1.5, edgecolor=color, marker='s', facecolor='None', zorder=1)\n",
    "ax.fill_between(x_values, pred_pers[10], pred_pers[90], alpha=0.1, color=color, lw=0, zorder=-3)\n",
    "ax.fill_between(x_values, pred_pers[25], pred_pers[75], alpha=0.2, color=color, lw=0 ,zorder=-3)\n",
    "\n",
    "    \n",
    "ax = axs[2]\n",
    "ax.set_ylabel('Polynya\\nlength\\n($\\\\times\\mathrm{km}$)', rotation=0, labelpad=25, va='center')\n",
    "VAR = 'length_145max'\n",
    "\n",
    "obs_pers = {}\n",
    "percents = [10,25,50,75,90]\n",
    "for per in percents:\n",
    "    obs_pers[per] = np.array([])\n",
    "    \n",
    "for dd, cond in zip(x_values, all_cond):\n",
    "    \n",
    "    for per in percents:\n",
    "        obs_pers[per] = np.append(obs_pers[per], np.nanpercentile(DF[VAR][cond], per))\n",
    "\n",
    "color = 'k'\n",
    "ax.plot(x_values, obs_pers[50], lw=1, c=color, zorder=-4)\n",
    "ax.scatter(x_values, obs_pers[50], lw=1.5, edgecolor=color, marker='o', facecolor='None', zorder=1)\n",
    "ax.fill_between(x_values, obs_pers[10], obs_pers[90], alpha=0.1, color=color, lw=0, zorder=-4)\n",
    "ax.fill_between(x_values, obs_pers[25], obs_pers[75], alpha=0.2, color=color, lw=0 ,zorder=-4)\n",
    "\n",
    "\n",
    "\n",
    "    \n",
    "ax = axs[1]\n",
    "# ax.set_ylabel('Polynya\\nlength\\n($\\\\times\\mathrm{km}$)', rotation=0, labelpad=25, va='center')\n",
    "VAR = 's10'\n",
    "\n",
    "obs_pers = {}\n",
    "percents = [10,25,50,75,90]\n",
    "for per in percents:\n",
    "    obs_pers[per] = np.array([])\n",
    "    \n",
    "for dd, cond in zip(x_values, all_cond):\n",
    "    \n",
    "    for per in percents:\n",
    "        obs_pers[per] = np.append(obs_pers[per], np.nanpercentile(DF[VAR][cond], per))\n",
    "\n",
    "color = 'k'\n",
    "ax.plot(x_values, obs_pers[50], lw=1, c=color, zorder=-4)\n",
    "ax.scatter(x_values, obs_pers[50], lw=1.5, edgecolor=color, marker='o', facecolor='None', zorder=1)\n",
    "ax.fill_between(x_values, obs_pers[10], obs_pers[90], alpha=0.1, color=color, lw=0, zorder=-4)\n",
    "ax.fill_between(x_values, obs_pers[25], obs_pers[75], alpha=0.2, color=color, lw=0 ,zorder=-4)\n",
    "\n",
    "\n",
    "\n",
    "\n",
    "# VAR = 'X_Pease'\n",
    "# lat_pers = {}\n",
    "# percents = [10,25,50,75,90]\n",
    "# for per in percents:\n",
    "#     lat_pers[per] = np.array([])\n",
    "    \n",
    "# for dd, cond in zip(x_values, all_cond):\n",
    "    \n",
    "#     for per in percents:\n",
    "#         lat_pers[per] = np.append(lat_pers[per], np.nanpercentile(DF[VAR][cond], per))\n",
    "\n",
    "# color = 'darkorange'\n",
    "# ax.plot(x_values[3:-2], lat_pers[50][3:-2], lw=1, c=color, zorder=-5)\n",
    "# ax.scatter(x_values[3:-2], lat_pers[50][3:-2], lw=1.5, edgecolor='None', marker='d', facecolor=color, zorder=-1)\n",
    "# ax.fill_between(x_values[3:-2], lat_pers[10][3:-2], lat_pers[90][3:-2], alpha=0.1, color=color, lw=0, zorder=-5)\n",
    "# ax.fill_between(x_values[3:-2], lat_pers[25][3:-2], lat_pers[75][3:-2], alpha=0.2, color=color, lw=0 ,zorder=-5)\n",
    "\n",
    "\n",
    "\n",
    "\n",
    "    \n",
    "    \n",
    "# Get the y-axis tick labels\n",
    "xtick_labels = axs[-1].get_xticklabels()\n",
    "\n",
    "# Change the color of specific y-axis tick labels\n",
    "# for i, label in enumerate(xtick_labels):\n",
    "#     if (i >=3)&(i<11):  # Change every other y-axis label to green\n",
    "#         label.set_color(color1)\n",
    "#     else:\n",
    "#         label.set_color(color2)\n",
    "\n",
    "        \n",
    "ax = axs[0]\n",
    "\n",
    "yy = 200\n",
    "ax.plot([0.8,8.2], [yy,yy], c=color1, lw=5, clip_on=False)\n",
    "ax.text(4.5,yy+7, 'During event', weight='bold', c=color1, va='bottom', ha='center', clip_on=False)\n",
    "ax.plot([-2.4,0.2], [yy,yy], c=color2, lw=5, clip_on=False)\n",
    "ax.text(-1,yy+7, 'Before', weight='bold', c=color2, va='bottom', ha='center', clip_on=False)\n",
    "ax.plot([8.8,10.4], [yy,yy], c=color2, lw=5, clip_on=False)\n",
    "ax.text(9.75,yy+7, 'After', weight='bold', c=color2, va='bottom', ha='center', clip_on=False)\n",
    "\n",
    "\n",
    "    \n",
    "axs[-1].set_xlabel('Event day')\n",
    "\n",
    "for aa, ax in enumerate(axs):\n",
    "#     ax.text(1.01, 0.95, '(a)', ha='left', va='top', weight='bold', clip_on=False, transform = ax.transAxes)\n",
    "    if aa == 0:\n",
    "        ax.text(0.975, 0.99, f'{chr(97+aa)}', \n",
    "                ha='right', va='top', weight='bold', clip_on=False, transform = ax.transAxes)\n",
    "    else:\n",
    "        ax.text(0.975, 0.95, f'{chr(97+aa)}', \n",
    "                ha='right', va='top', weight='bold', clip_on=False, transform = ax.transAxes)\n",
    "\n",
    "    \n",
    "    \n",
    "# ax.plot(x_values[2:-4], np.linspace(0,200,len(x_values[2:-4])))\n",
    "# fig.savefig('../figures/results/comp_time_v2.png', dpi=400, bbox_inches='tight')"
   ]
  },
  {
   "cell_type": "code",
   "execution_count": 118,
   "id": "ce8bd822",
   "metadata": {},
   "outputs": [
    {
     "name": "stdout",
     "output_type": "stream",
     "text": [
      "2007-04-19\n",
      "2017-12-09\n",
      "2003-12-11\n",
      "2022-12-24\n",
      "2016-02-08\n",
      "2016-02-26\n",
      "2016-04-05\n",
      "2019-12-08\n",
      "2013-12-30\n"
     ]
    }
   ],
   "source": [
    "long_events = list(set(dfr.sequence[(shoulder==False)&(dfr.event_length >= 10)]))\n",
    "\n",
    "for ss in long_events:\n",
    "    \n",
    "    print(dfr.time[dfr.sequence==ss].values[0])\n"
   ]
  },
  {
   "cell_type": "code",
   "execution_count": 119,
   "id": "18417350",
   "metadata": {},
   "outputs": [
    {
     "ename": "IndexingError",
     "evalue": "Unalignable boolean Series provided as indexer (index of the boolean Series and of the indexed object do not match).",
     "output_type": "error",
     "traceback": [
      "\u001b[0;31m---------------------------------------------------------------------------\u001b[0m",
      "\u001b[0;31mIndexingError\u001b[0m                             Traceback (most recent call last)",
      "Cell \u001b[0;32mIn[119], line 1\u001b[0m\n\u001b[0;32m----> 1\u001b[0m begin_season_events \u001b[38;5;241m=\u001b[39m \u001b[38;5;28mlist\u001b[39m(\u001b[38;5;28mset\u001b[39m(dfr\u001b[38;5;241m.\u001b[39msequence[(shoulder\u001b[38;5;241m==\u001b[39m\u001b[38;5;28;01mTrue\u001b[39;00m)]))\n\u001b[1;32m      3\u001b[0m \u001b[38;5;28;01mfor\u001b[39;00m ss \u001b[38;5;129;01min\u001b[39;00m begin_season_events:\n\u001b[1;32m      5\u001b[0m     \u001b[38;5;28mprint\u001b[39m(dfr\u001b[38;5;241m.\u001b[39mtime[dfr\u001b[38;5;241m.\u001b[39msequence\u001b[38;5;241m==\u001b[39mss]\u001b[38;5;241m.\u001b[39mvalues[\u001b[38;5;241m0\u001b[39m],dfr\u001b[38;5;241m.\u001b[39mtime[dfr\u001b[38;5;241m.\u001b[39msequence\u001b[38;5;241m==\u001b[39mss]\u001b[38;5;241m.\u001b[39mvalues[\u001b[38;5;241m-\u001b[39m\u001b[38;5;241m1\u001b[39m] )\n",
      "File \u001b[0;32m/opt/anaconda3/envs/SBSpolynya/lib/python3.12/site-packages/pandas/core/series.py:1068\u001b[0m, in \u001b[0;36mSeries.__getitem__\u001b[0;34m(self, key)\u001b[0m\n\u001b[1;32m   1065\u001b[0m     \u001b[38;5;28;01mreturn\u001b[39;00m \u001b[38;5;28mself\u001b[39m\u001b[38;5;241m.\u001b[39m_getitem_slice(key)\n\u001b[1;32m   1067\u001b[0m \u001b[38;5;28;01mif\u001b[39;00m com\u001b[38;5;241m.\u001b[39mis_bool_indexer(key):\n\u001b[0;32m-> 1068\u001b[0m     key \u001b[38;5;241m=\u001b[39m check_bool_indexer(\u001b[38;5;28mself\u001b[39m\u001b[38;5;241m.\u001b[39mindex, key)\n\u001b[1;32m   1069\u001b[0m     key \u001b[38;5;241m=\u001b[39m np\u001b[38;5;241m.\u001b[39masarray(key, dtype\u001b[38;5;241m=\u001b[39m\u001b[38;5;28mbool\u001b[39m)\n\u001b[1;32m   1070\u001b[0m     \u001b[38;5;28;01mreturn\u001b[39;00m \u001b[38;5;28mself\u001b[39m\u001b[38;5;241m.\u001b[39m_get_rows_with_mask(key)\n",
      "File \u001b[0;32m/opt/anaconda3/envs/SBSpolynya/lib/python3.12/site-packages/pandas/core/indexing.py:2575\u001b[0m, in \u001b[0;36mcheck_bool_indexer\u001b[0;34m(index, key)\u001b[0m\n\u001b[1;32m   2573\u001b[0m indexer \u001b[38;5;241m=\u001b[39m result\u001b[38;5;241m.\u001b[39mindex\u001b[38;5;241m.\u001b[39mget_indexer_for(index)\n\u001b[1;32m   2574\u001b[0m \u001b[38;5;28;01mif\u001b[39;00m \u001b[38;5;241m-\u001b[39m\u001b[38;5;241m1\u001b[39m \u001b[38;5;129;01min\u001b[39;00m indexer:\n\u001b[0;32m-> 2575\u001b[0m     \u001b[38;5;28;01mraise\u001b[39;00m IndexingError(\n\u001b[1;32m   2576\u001b[0m         \u001b[38;5;124m\"\u001b[39m\u001b[38;5;124mUnalignable boolean Series provided as \u001b[39m\u001b[38;5;124m\"\u001b[39m\n\u001b[1;32m   2577\u001b[0m         \u001b[38;5;124m\"\u001b[39m\u001b[38;5;124mindexer (index of the boolean Series and of \u001b[39m\u001b[38;5;124m\"\u001b[39m\n\u001b[1;32m   2578\u001b[0m         \u001b[38;5;124m\"\u001b[39m\u001b[38;5;124mthe indexed object do not match).\u001b[39m\u001b[38;5;124m\"\u001b[39m\n\u001b[1;32m   2579\u001b[0m     )\n\u001b[1;32m   2581\u001b[0m result \u001b[38;5;241m=\u001b[39m result\u001b[38;5;241m.\u001b[39mtake(indexer)\n\u001b[1;32m   2583\u001b[0m \u001b[38;5;66;03m# fall through for boolean\u001b[39;00m\n",
      "\u001b[0;31mIndexingError\u001b[0m: Unalignable boolean Series provided as indexer (index of the boolean Series and of the indexed object do not match)."
     ]
    }
   ],
   "source": [
    "begin_season_events = list(set(dfr.sequence[(shoulder==True)]))\n",
    "\n",
    "for ss in begin_season_events:\n",
    "    \n",
    "    print(dfr.time[dfr.sequence==ss].values[0],dfr.time[dfr.sequence==ss].values[-1] )"
   ]
  },
  {
   "cell_type": "code",
   "execution_count": null,
   "id": "1fe41e0a",
   "metadata": {},
   "outputs": [],
   "source": []
  },
  {
   "cell_type": "code",
   "execution_count": null,
   "id": "6e1d02d4",
   "metadata": {},
   "outputs": [],
   "source": [
    "DF.keys()"
   ]
  },
  {
   "cell_type": "code",
   "execution_count": null,
   "id": "3413b027",
   "metadata": {},
   "outputs": [],
   "source": []
  },
  {
   "cell_type": "code",
   "execution_count": null,
   "id": "78eb0d10",
   "metadata": {},
   "outputs": [],
   "source": []
  },
  {
   "cell_type": "code",
   "execution_count": null,
   "id": "7ae479c4",
   "metadata": {},
   "outputs": [],
   "source": [
    "\n",
    "# RES = '1000ma2'\n",
    "# crop = [2100, 3400, 340, 800]\n",
    "# sic_key = 'sic_merged'\n",
    "\n",
    "RES = '6250'\n",
    "# crop=[500, 1300, 100, 500]\n",
    "crop=[700, 1150, 200, 400]\n",
    "sic_key = 'sic'\n",
    "\n",
    "# RES = '3125'\n",
    "# crop=[1500, 2050, 480, 700]\n",
    "# sic_key = 'sic'\n",
    "# sicsic = unisic.open_local_file(datetime(2019,1,16), res='1000ma2', hem='n', main_path='/Volumes/Seagate_Jewell/KenzieStuff/', \n",
    "#                             crop=[2100, 3400, 340, 800], coordinates=False, area=False, include_units=False, quiet=True)\n",
    "\n",
    "\n",
    "dsic = unisic.open_local_file(datetime(2020,1,1), res=RES, hem='n', \n",
    "                              main_path='/Volumes/Seagate_Jewell/KenzieStuff/',\n",
    "                                  crop=crop, coordinates=True, area=False, include_units=False, \n",
    "                                  quiet=True)\n"
   ]
  },
  {
   "cell_type": "code",
   "execution_count": 89,
   "id": "c3bb9341",
   "metadata": {},
   "outputs": [
    {
     "name": "stdout",
     "output_type": "stream",
     "text": [
      "$t_{i}$\n",
      "-2\n",
      "$t_{i}$\n",
      "-1\n",
      "1\n",
      "2\n",
      "3\n",
      "4\n",
      "5\n",
      "6\n",
      "7\n",
      "8\n",
      "9\n",
      "10+\n",
      "$t_{f}$\n",
      "+1\n",
      "$t_{f}$\n",
      "+2\n"
     ]
    }
   ],
   "source": [
    "\n",
    "open_thresh=10\n",
    "\n",
    "map_sic = {}\n",
    "\n",
    "for key in across.keys():\n",
    "\n",
    "    print(key)\n",
    "    map_sic[key] = unisic.calc_meansic_openfreq(pd.to_datetime(across[key]['date']), crop=crop, nan_frac = 0.05,\n",
    "                                            open_thresh=open_thresh, res=RES, hem='n', sic_key = sic_key, \n",
    "                                            main_path='/Volumes/Seagate_Jewell/KenzieStuff/', \n",
    "                                            coordinates=False, area=False, quiet=True)\n"
   ]
  },
  {
   "cell_type": "code",
   "execution_count": null,
   "id": "3da8c00a",
   "metadata": {},
   "outputs": [],
   "source": []
  },
  {
   "cell_type": "code",
   "execution_count": 90,
   "id": "7b27b7ef",
   "metadata": {},
   "outputs": [
    {
     "name": "stdout",
     "output_type": "stream",
     "text": [
      "1\n",
      "4\n",
      "7\n",
      "10+\n"
     ]
    },
    {
     "data": {
      "image/png": "[encoded data removed]",
      "text/plain": [
       "<Figure size 600x375 with 5 Axes>"
      ]
     },
     "metadata": {},
     "output_type": "display_data"
    }
   ],
   "source": [
    "fig, axs = fn.makemap(view='wider_zoom3', contours = [-100], \n",
    "                      panels=(2,2), figsize=(6,3.75))\n",
    "plt.subplots_adjust(hspace=0.025, wspace=0.05)\n",
    "\n",
    "\n",
    "from pyproj import Geod\n",
    "g = Geod(ellps='WGS84')\n",
    "# startlon, startlat = -139, 69.5\n",
    "startlon, startlat = -139.1, 69.6\n",
    "# dists = np.array([31,64,79, 101,117,134,144,150])+10\n",
    "# iced = np.array([50.82842169,  68.58080734,  90.47338417,\n",
    "#         98.24958483, 120.57204264, 128.47181612])\n",
    "wind = pred_pers[50]\n",
    "latt = lat_pers[50]\n",
    "obss = obs_pers[50]\n",
    "\n",
    "\n",
    "bearing = -55\n",
    "\n",
    "FS = 10\n",
    "\n",
    "# wind = np.array([29.67029984, 81.62365485, 159.8473894, 174.82151541])\n",
    "# latt = np.array([29.93782605, 33.22366475,  35.32942831, 33.74427032])\n",
    "# obss = np.array([29.38230774, 76.14685572, 107.23015109, 83.90562419])\n",
    "\n",
    "# for key, n, N in zip(['Dec', 'Jan', 'Feb', 'Mar',],\n",
    "#                      [0,2,4,6], [1,3,5,7]):\n",
    "\n",
    "FS = 9\n",
    "# for key, n in zip([f'{m}' for m in [1,3,5,7,9]]+[f'10+'],\n",
    "#                      range(6)):\n",
    "\n",
    "for key, n in zip([f'{m}' for m in [1,4,7]]+['10+'],\n",
    "                     range(4)):\n",
    "    \n",
    "    print(key)\n",
    "\n",
    "#     axs[n].text(0.95,0.95,f'{chr(97+n+1)}', weight='bold', \n",
    "#                 ha='right', va='top', size=FS, transform=axs[n].transAxes)\n",
    "    \n",
    "    ax = axs[n]\n",
    "    \n",
    "    ax.add_geometries ([reg_poly], lw=1.75, edgecolor='k', facecolor='None',zorder=100, crs=ccrs.PlateCarree())\n",
    "    \n",
    "    ax.text(0.035,0.175,f'Day {key}', weight='bold', ha='left', va='bottom', transform=ax.transAxes, size=FS)\n",
    "    ax.text(0.035,0.025,f'(N={len(across[key]['date'])})', ha='left', va='bottom', transform=ax.transAxes, size=FS)\n",
    "    \n",
    "    mesh = ax.pcolormesh(map_sic[key]['xx'], map_sic[key]['yy'], map_sic[key]['open_freq'], \n",
    "              vmin=0, vmax=0.5, cmap=cmocean.cm.dense, transform=dsic['proj'])\n",
    "\n",
    "#     mesh = ax.pcolormesh(dsic['xx'], dsic['yy'], 100*poly_maps[key]/total_maps[key], \n",
    "#               vmin=0, vmax=0.5, cmap=cmocean.cm.dense, transform=dsic['proj'])\n",
    "    \n",
    "    \n",
    "#     mesh = ax.contourf(map_sic[key]['xx'], map_sic[key]['yy'], map_sic[key]['open_freq'], \n",
    "#           vmin=0, vmax=0.5, levels = np.arange(0,0.5,0.05), extend='max', cmap=cmocean.cm.dense, transform=dsic['proj'])\n",
    "    \n",
    "#     mesh = ax.pcolormesh(map_sic[key]['xx'], map_sic[key]['yy'], map_sic[key]['open_freq'], \n",
    "#               vmin=0, vmax=0.6, cmap=cmocean.cm.dense, transform=dsic['proj'])\n",
    "    \n",
    "#     ax.contour(map_sic[key]['xx'], map_sic[key]['yy'], map_sic[key]['open_freq'], \n",
    "#                   levels=[0.25, 0.5, 0.75], colors=['gold'], linewidths=[0.5,], transform=dsic['proj'])\n",
    "    \n",
    "    # dashed line\n",
    "    endlon, endlat, backaz = g.fwd(startlon, startlat, -55, 400*1000)\n",
    "    ax.plot([startlon,endlon], [startlat,endlat], transform=ccrs.PlateCarree(), \n",
    "            c=[0.3,0.3,0.3], lw=1, zorder=98, ls='dashed')\n",
    "    \n",
    "    \n",
    "    \n",
    "    \n",
    "    for group, fc, ec, marker, ms, lw in zip([latt, wind, obss], \n",
    "                                       [ color, color1, 'None'], \n",
    "                                       [ 'white', 'white', 'k'], \n",
    "                                       ['d','s', 'o'], [40, 30, 35], [0.75,0.75,1.25]):\n",
    "    \n",
    "        \n",
    "        distance = (group[np.where(np.array(list(across.keys()))==key)]*units('km')).to('m').magnitude\n",
    "    \n",
    "        endlon, endlat, backaz = g.fwd(startlon, startlat, -55, distance)\n",
    "        ax.scatter(endlon, endlat, transform=ccrs.PlateCarree(), \n",
    "                   s=ms, marker=marker, facecolor=fc, edgecolor=ec,lw=lw, zorder=102)\n",
    "        \n",
    "\n",
    "    endlon, endlat, backaz = g.fwd(startlon, startlat, -55, distance)\n",
    "    ax.scatter(endlon, endlat, transform=ccrs.PlateCarree(), \n",
    "               s=ms, marker=marker, facecolor='None', edgecolor='white',lw=2.5, zorder=101)\n",
    "    \n",
    "axs[2].text(0.975,1.05, f'c', weight='bold', \n",
    "                ha='right', va='bottom', size=FS+2, transform=axs[2].transAxes)\n",
    "    \n",
    "plotter.add_colorbar(fig, axs[-1], [mesh], cb_placement='bottom', cb_orientation='auto', \n",
    "                     cb_width=0.025, cb_length_fraction=[0, 1], cb_pad=0.025, cb_ticks=[0,0.5], \n",
    "                     cb_ticklabels='auto', cb_extend='neither', cb_label='Open water frequency', labelpad=-5, \n",
    "                     cb_label_placement='auto', cb_tick_placement='auto', tick_kwargs=None, \n",
    "                     cb_labelsize=FS+0.5, draw_edges=False, edge_params=['k', 2])\n",
    "\n",
    "geomap.scalebar(axs[-2], loc=(0.2, -0.2), steps=[100,200,300],unit='km', \n",
    "                unit_label=None, colors=['k', 'w'], edgecolor=None, textsize=FS, lw=1, \n",
    "                bar_width=0.05, labelpad=0.015, ticklabelpad=0.01, zorder=100, clip_on=False)\n",
    "\n",
    "# fig.savefig('../figures/results/dailyevent_maps_nomarkers.png', dpi=400, bbox_inches='tight', pad_inches=0)\n"
   ]
  },
  {
   "cell_type": "code",
   "execution_count": 54,
   "id": "dd5cd45c",
   "metadata": {},
   "outputs": [
    {
     "data": {
      "text/plain": [
       "'8+'"
      ]
     },
     "execution_count": 54,
     "metadata": {},
     "output_type": "execute_result"
    }
   ],
   "source": [
    "key"
   ]
  },
  {
   "cell_type": "code",
   "execution_count": null,
   "id": "3b41185e",
   "metadata": {},
   "outputs": [],
   "source": []
  },
  {
   "cell_type": "code",
   "execution_count": null,
   "id": "e927933e",
   "metadata": {},
   "outputs": [],
   "source": []
  },
  {
   "cell_type": "code",
   "execution_count": 45,
   "id": "c09b572b",
   "metadata": {},
   "outputs": [],
   "source": []
  },
  {
   "cell_type": "code",
   "execution_count": 46,
   "id": "d77b8209",
   "metadata": {},
   "outputs": [],
   "source": [
    "poly_maps = {}\n",
    "for key in across.keys():\n",
    "    poly_maps[key] = np.zeros_like(dsic['xx'])\n",
    "    \n",
    "total_maps = {}\n",
    "for key in across.keys():\n",
    "    total_maps[key] = np.zeros_like(dsic['xx'])\n",
    "    \n",
    "for key in across.keys():\n",
    "    \n",
    "    print(key)\n",
    "    \n",
    "    for cdate in across[key]['date']:\n",
    "    \n",
    "        YEAR = int(cdate.split('-')[0])\n",
    "        MONTH = int(cdate.split('-')[1])\n",
    "        if MONTH == 12:\n",
    "            YEAR+=1\n",
    "\n",
    "        with xr.open_dataset(f'../data/polynya_size/daily_polynya_{YEAR}_sic10_v7.4_radius25km.nc') as ds2:\n",
    "\n",
    "            xval = np.array([float(val) for val in ds2.poly_interior_xx.sel(time=cdate).item().split('_')[1:]])\n",
    "            yval = np.array([float(val) for val in ds2.poly_interior_yy.sel(time=cdate).item().split('_')[1:]])\n",
    "\n",
    "            for xv, yv in zip(xval, yval):\n",
    "\n",
    "                total_maps[key] += 1\n",
    "\n",
    "                dist = (dsic['xx']-xv)**2+(dsic['yy']-yv)**2\n",
    "                poly_maps[key][np.where(dist == 0)] += 1"
   ]
  },
  {
   "cell_type": "code",
   "execution_count": 59,
   "id": "fbb2b5ee",
   "metadata": {},
   "outputs": [
    {
     "data": {
      "text/plain": [
       "<matplotlib.collections.QuadMesh at 0x1384913a0>"
      ]
     },
     "execution_count": 59,
     "metadata": {},
     "output_type": "execute_result"
    },
    {
     "data": {
      "image/png": "[encoded data removed]",
      "text/plain": [
       "<Figure size 640x480 with 1 Axes>"
      ]
     },
     "metadata": {},
     "output_type": "display_data"
    }
   ],
   "source": [
    "key = '2'\n",
    "plt.pcolormesh(poly_maps[key]/total_maps[key])\n"
   ]
  },
  {
   "cell_type": "code",
   "execution_count": null,
   "id": "8ca797bf",
   "metadata": {},
   "outputs": [],
   "source": [
    "cdate.split('-')[0]"
   ]
  },
  {
   "cell_type": "code",
   "execution_count": 391,
   "id": "087ce8b9",
   "metadata": {},
   "outputs": [
    {
     "data": {
      "text/plain": [
       "'2002'"
      ]
     },
     "execution_count": 391,
     "metadata": {},
     "output_type": "execute_result"
    }
   ],
   "source": [
    "cdate.split('-')[0]"
   ]
  },
  {
   "cell_type": "code",
   "execution_count": 381,
   "id": "b5b2ff7d",
   "metadata": {},
   "outputs": [],
   "source": [
    "ds2 = xr.open_dataset('../data/polynya_size/daily_polynya_2003_sic10_v7.4_radius25km.nc')\n",
    "\n",
    "\n",
    "cdate = across[key]['date'][0]\n",
    "\n",
    "xval = np.array([float(val) for val in ds2.poly_interior_xx.sel(time=cdate).item().split('_')[1:]])\n",
    "yval = np.array([float(val) for val in ds2.poly_interior_yy.sel(time=cdate).item().split('_')[1:]])"
   ]
  },
  {
   "cell_type": "code",
   "execution_count": null,
   "id": "b7a2ebf2",
   "metadata": {},
   "outputs": [],
   "source": []
  },
  {
   "cell_type": "code",
   "execution_count": 382,
   "id": "cfd76c6a",
   "metadata": {},
   "outputs": [],
   "source": [
    "pol_counts = np.zeros_like(dsic['xx'])\n",
    "\n",
    "for xv, yv in zip(xval, yval):\n",
    "    \n",
    "    dist = (dsic['xx']-xv)**2+(dsic['yy']-yv)**2\n",
    "    \n",
    "    pol_counts[np.where(dist == 0)] = 1"
   ]
  },
  {
   "cell_type": "code",
   "execution_count": 383,
   "id": "715f363c",
   "metadata": {},
   "outputs": [
    {
     "data": {
      "text/plain": [
       "<matplotlib.collections.QuadMesh at 0x169aa0380>"
      ]
     },
     "execution_count": 383,
     "metadata": {},
     "output_type": "execute_result"
    },
    {
     "data": {
      "image/png": "[encoded data removed]",
      "text/plain": [
       "<Figure size 640x480 with 1 Axes>"
      ]
     },
     "metadata": {},
     "output_type": "display_data"
    }
   ],
   "source": [
    "plt.pcolormesh(pol_counts)"
   ]
  },
  {
   "cell_type": "code",
   "execution_count": 289,
   "id": "029de476",
   "metadata": {},
   "outputs": [
    {
     "data": {
      "text/plain": [
       "'1'"
      ]
     },
     "execution_count": 289,
     "metadata": {},
     "output_type": "execute_result"
    }
   ],
   "source": [
    "key"
   ]
  },
  {
   "cell_type": "code",
   "execution_count": 292,
   "id": "09d9459a",
   "metadata": {},
   "outputs": [
    {
     "data": {
      "text/plain": [
       "array(['$t_{i}$\\n-2', '$t_{i}$\\n-1', '1', '2', '3', '4', '5', '6', '7',\n",
       "       '8', '9', '10+', '$t_{f}$\\n+1', '$t_{f}$\\n+2'], dtype='<U10')"
      ]
     },
     "execution_count": 292,
     "metadata": {},
     "output_type": "execute_result"
    }
   ],
   "source": [
    "np.array(list(across.keys()))"
   ]
  },
  {
   "cell_type": "code",
   "execution_count": null,
   "id": "171aba8c",
   "metadata": {},
   "outputs": [],
   "source": []
  },
  {
   "cell_type": "code",
   "execution_count": null,
   "id": "a693e57e",
   "metadata": {},
   "outputs": [],
   "source": []
  },
  {
   "cell_type": "code",
   "execution_count": null,
   "id": "6512a8a3",
   "metadata": {},
   "outputs": [],
   "source": []
  },
  {
   "cell_type": "code",
   "execution_count": null,
   "id": "d6f95b5f",
   "metadata": {},
   "outputs": [],
   "source": []
  },
  {
   "cell_type": "code",
   "execution_count": null,
   "id": "6da7e49d",
   "metadata": {},
   "outputs": [],
   "source": [
    "\n",
    "\n",
    "def plot_angles(ax, X, cond, clip):\n",
    "    label_nums(ax, X, np.sum(cond), clip)\n",
    "    plot_dist(ax, X-0.15, *angle_distribution(dfb, cond, 'atm'), clip, bins = np.arange(0,361,7.5), yscale=1)\n",
    "    plot_dist(ax, X+0.15, *angle_distribution(dfb, cond, 'ice'), clip, bins = np.arange(0,361,7.5), yscale=1)\n",
    "    \n",
    "#     plot_point(ax, X-0.15, *speed_distribution(df_base, cond, 'atm'))\n",
    "#     plot_point(ax, X+0.15, *speed_distribution(df_base, cond, 'ice'))    \n",
    "    \n",
    "        \n",
    "def plot_temps(ax, X, cond, clip):\n",
    "    plot_dist(ax, X, *temp_distribution(df_base, cond), clip, bins = np.arange(-40,0,2), yscale=1)\n",
    "\n",
    "def plot_msls(ax, X, cond, clip):\n",
    "    plot_dist(ax, X, *msl_distribution(df_base, cond), clip, bins = np.arange(980,1060,4), yscale=1)\n",
    "    \n",
    "def plot_speeds(ax, X, cond, clip):\n",
    "    plot_dist(ax, X-0.15, *speed_distribution(dfb, cond, 'atm'), clip, bins = np.arange(0,20,1), yscale=1)\n",
    "    plot_dist(ax, X+0.15, *speed_distribution(dfb, cond, 'ice'), clip, bins = np.arange(0,40,2), yscale=0.5)    \n",
    "\n",
    "#     plot_point(ax, X-0.15, *speed_distribution(df_base, cond, 'atm'))\n",
    "#     plot_point(ax, X+0.15, *speed_distribution(df_base, cond, 'ice'))    \n",
    "    \n",
    "    \n",
    "def plot_dist(ax, X, y, Y, color, bg_color, clip, bins = np.arange(0,40,2), yscale = 1, scale = 5, show_mode = False):\n",
    "    \n",
    "    h = plotter.quick_hist(y, bin_edges=bins)\n",
    "    \n",
    "    if show_mode == True:\n",
    "        ax.scatter(X, h['centers'][np.argmax(h['prob'])], marker='s', edgecolor=color, facecolor='None',clip_on=clip)\n",
    "    else:\n",
    "        ax.scatter(X, yscale*Y, marker='o', edgecolor=color, facecolor='None', s=40, clip_on=clip, zorder=100)\n",
    "        \n",
    "#     ax.scatter(X, h['centers'][np.argmax(h['prob'])], marker='o', edgecolor='None', facecolor=color, s=20, clip_on=clip)\n",
    "    ax.fill_betweenx(yscale*h['edges'][:-1], X - scale*h['prob']/2, X + scale*h['prob']/2, \n",
    "                     lw=0, color=bg_color, alpha=0.5, zorder=-1, clip_on=clip)   \n",
    "    \n",
    "#     ax.barh(h['centers'], scale*h['prob'], height=h['w'], left= X - scale*h['prob']/2, align='center', \n",
    "#             color=bg_color, alpha=0.5, zorder=-1, clip_on=clip)\n",
    "    \n",
    "\n",
    "def plot_point(ax, X, y, Y, color, bg_color):\n",
    "    ax.scatter(X, Y, c=color, clip_on=False)\n",
    "    ax.scatter(np.linspace(X-0.05,X+0.05, len(y)), y, c=bg_color, s=1, zorder=-1, clip_on=False)\n",
    "\n",
    "    \n",
    "def size_distribution(df, cond):\n",
    "\n",
    "    all_sizes = df['extent'][cond]/1000\n",
    "    mean_size = np.nanmean(all_sizes)\n",
    "    print(mean_size)\n",
    "    color = 'k'\n",
    "    bg_color = 'gray'\n",
    "\n",
    "    return all_sizes, mean_size, color, bg_color\n",
    "\n",
    "\n",
    "def msl_distribution(df, cond):\n",
    "\n",
    "    all_ = df['msl'][cond]/100\n",
    "    mean_ = np.nanmean(all_)\n",
    "    color = 'k'\n",
    "    bg_color = 'gray'\n",
    "\n",
    "    return all_, mean_, color, bg_color\n",
    "\n",
    "def temp_distribution(df, cond):\n",
    "\n",
    "    all_ = df['t2m'][cond]\n",
    "    mean_ = np.nanmean(all_)\n",
    "    color = 'k'\n",
    "    bg_color = 'gray'\n",
    "\n",
    "    return all_, mean_, color, bg_color\n",
    "\n",
    "\n",
    "def speed_distribution(df, cond, group):\n",
    "    \n",
    "    if group == 'atm':\n",
    "        all_speeds = df['s10'][cond]\n",
    "        mean_speed = np.nanmean(all_speeds)\n",
    "        color = 'dodgerblue'\n",
    "        bg_color = 'dodgerblue'\n",
    "    else:\n",
    "        all_speeds = df['si'][cond] #* units('cm/s').to('km/day').magnitude\n",
    "        mean_speed = np.nanmean(all_speeds)\n",
    "        color = 'r'\n",
    "        bg_color = 'lightcoral'\n",
    "\n",
    "    return all_speeds, mean_speed, color, bg_color\n",
    "\n",
    "def angle_distribution(df, cond, group):\n",
    "\n",
    "    if group == 'atm':\n",
    "        U = df['u10'][cond]\n",
    "        V = df['v10'][cond]\n",
    "        color = 'dodgerblue'\n",
    "        bg_color = 'dodgerblue'\n",
    "    else:\n",
    "        U = df['ui'][cond]\n",
    "        V = df['vi'][cond]\n",
    "        color = 'r'\n",
    "        bg_color = 'lightcoral'\n",
    "\n",
    "    all_angles = np.array([vectors.vector_angle(u,v).magnitude for u,v in zip(U,V)])\n",
    "    mean_angle = vectors.vector_angle(np.nanmean(U), np.nanmean(V)).magnitude\n",
    "    \n",
    "    if mean_angle < 0:\n",
    "        mean_angle+=360\n",
    "    all_angles[all_angles<0] += 360\n",
    "\n",
    "    return all_angles, mean_angle, color, bg_color\n",
    "\n",
    "def label_nums(ax, x, N, clip):\n",
    "    ax.text(x, -10, N, ha='center',va='bottom', size=5, clip_on=clip)\n",
    "    \n",
    "    "
   ]
  }
 ],
 "metadata": {
  "kernelspec": {
   "display_name": "SBSpolynya",
   "language": "python",
   "name": "sbspolynya"
  },
  "language_info": {
   "codemirror_mode": {
    "name": "ipython",
    "version": 3
   },
   "file_extension": ".py",
   "mimetype": "text/x-python",
   "name": "python",
   "nbconvert_exporter": "python",
   "pygments_lexer": "ipython3",
   "version": "3.12.2"
  }
 },
 "nbformat": 4,
 "nbformat_minor": 5
}
