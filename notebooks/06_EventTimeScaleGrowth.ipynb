{
 "cells": [
  {
   "cell_type": "markdown",
   "id": "b746cacd",
   "metadata": {},
   "source": [
    "# 05_WindForcing\n",
    "\n",
    "Relation to large-scale patterns of atm. forcing"
   ]
  },
  {
   "cell_type": "code",
   "execution_count": 1476,
   "id": "a1bfe797",
   "metadata": {},
   "outputs": [
    {
     "name": "stdout",
     "output_type": "stream",
     "text": [
      "The autoreload extension is already loaded. To reload it, use:\n",
      "  %reload_ext autoreload\n"
     ]
    }
   ],
   "source": [
    "%load_ext autoreload\n",
    "%autoreload 2\n",
    "\n",
    "# general\n",
    "import numpy as np, numpy.ma as ma\n",
    "import xarray as xr\n",
    "import pandas as pd\n",
    "\n",
    "# time\n",
    "from datetime import datetime, timedelta\n",
    "import calendar\n",
    "from calendar import monthrange\n",
    "\n",
    "# local system \n",
    "import sys  \n",
    "import glob\n",
    "import os\n",
    "\n",
    "# plotting\n",
    "import matplotlib as mpl\n",
    "from matplotlib import pyplot as plt\n",
    "import matplotlib.colors\n",
    "import cmocean\n",
    "import matplotlib.patches as mpatches\n",
    "from mpl_toolkits.axes_grid1.inset_locator import inset_axes\n",
    "from matplotlib.colors import Normalize\n",
    "import matplotlib.ticker as ticker\n",
    "# from matplotlib.ticker import MultipleLocator\n",
    "\n",
    "import matplotlib.dates as mdates\n",
    "import matplotlib.patches as patches\n",
    "import matplotlib.ticker as mticker\n",
    "\n",
    "from scipy import stats\n",
    "\n",
    "\n",
    "# geo plotting\n",
    "import cartopy\n",
    "import cartopy.crs as ccrs\n",
    "import cartopy.feature as cfeat\n",
    "from cartopy import img_transform\n",
    "\n",
    "from metpy.units import units\n",
    "\n",
    "# path to own functions\n",
    "sys.path.append('../../')\n",
    "import timeseries.adjust as tseries\n",
    "import timeseries.analyze as tanalyze\n",
    "import geofunc.general as geogen\n",
    "import geofunc.vectors as vectors\n",
    "import geofunc.shapes as geoshape\n",
    "import plot_simply.general as plotter\n",
    "import plot_simply.geomap as geomap\n",
    "import data_nsidc.icedrift as icedrift\n",
    "import data_unibremen.SIC as unisic\n",
    "\n",
    "sys.path.append('../')\n",
    "import functions as fn\n",
    "\n",
    "plt.style.use('../jgr_oceans.mplstyle')\n",
    "\n",
    "def SAVE(fig, filename):\n",
    "    fig.savefig(filename, bbox_inches='tight', pad_inches=0.05)\n"
   ]
  },
  {
   "cell_type": "code",
   "execution_count": 8,
   "id": "f467d059",
   "metadata": {},
   "outputs": [
    {
     "data": {
      "text/plain": [
       "{'Cp_o': <Quantity(3850.0, 'joule / kilogram / delta_degree_Celsius')>,\n",
       " 'Cp_a': <Quantity(1004.0, 'joule / kilogram / delta_degree_Celsius')>,\n",
       " 'sigma_sb': <Quantity(5.670367e-08, 'watt / meter ** 2 / kelvin ** 4')>,\n",
       " 'rho_a': <Quantity(1.225, 'kilogram / meter ** 3')>,\n",
       " 'rho_o': <Quantity(1028.0, 'kilogram / meter ** 3')>,\n",
       " 'rho_i': <Quantity(917.0, 'kilogram / meter ** 3')>,\n",
       " 'L_i': <Quantity(334000.0, 'joule / kilogram')>,\n",
       " 'k_i': <Quantity(2.2, 'watt / meter / delta_degree_Celsius')>,\n",
       " 'kappa': <Quantity(0.4, 'dimensionless')>,\n",
       " 'St': <Quantity(0.0057, 'dimensionless')>,\n",
       " 'omega': <Quantity(7.2921e-05, 'radian / second')>}"
      ]
     },
     "execution_count": 8,
     "metadata": {},
     "output_type": "execute_result"
    }
   ],
   "source": [
    "# Save to file\n",
    "df = pd.read_csv('../data/constants.csv')\n",
    "df = df.set_index('var')\n",
    "df\n",
    "\n",
    "cst = {}\n",
    "for variable in list(df.index):\n",
    "    cst[variable] = df.loc[variable]['value'] * units(df.loc[variable]['units'])\n",
    "    \n",
    "cst"
   ]
  },
  {
   "cell_type": "code",
   "execution_count": 1740,
   "id": "80770338",
   "metadata": {},
   "outputs": [],
   "source": [
    "def Pease_Model_v2(event_df, wf=0.02, ta=35, poly_dir=145, Hi = 25 * units('cm'), show_plot = False):\n",
    "\n",
    "\n",
    "    def convert_to_k(T):\n",
    "\n",
    "        if T.units == 'degree_Celsius':\n",
    "            T = T.to('degree_Kelvin')\n",
    "        elif T.units == 'delta_degree_Celsius':\n",
    "            print('T!! should not be delta deg C')\n",
    "        return T\n",
    "\n",
    "\n",
    "    def find_Qlu(Tw, sigma, eo):\n",
    "        Tw = convert_to_k(Tw)\n",
    "        qlu = sigma * eo * Tw**4\n",
    "        return qlu.to('W/m2')\n",
    "\n",
    "\n",
    "    def find_Qld(Ta, sigma, ea):\n",
    "        Ta = convert_to_k(Ta)\n",
    "        qld = sigma * ea * Ta**4\n",
    "        return qld.to('W/m2')\n",
    "\n",
    "\n",
    "    def find_Qs(Ta, Tw, rho_a, Cpa, Va):\n",
    "\n",
    "        Ta = Ta.magnitude * units('delta_degree_Celsius')\n",
    "        Tw = Tw.magnitude * units('delta_degree_Celsius')\n",
    "\n",
    "        Ch = 2e-3 # sensible heat coefficient\n",
    "\n",
    "        qs = rho_a * Ch * Cpa * Va * (Ta-Tw)\n",
    "\n",
    "        return qs.to('W/m2')\n",
    "\n",
    "\n",
    "    def open_Qld(event_df):\n",
    "        # determine event year to open\n",
    "        event_year = pd.to_datetime(event_df.time.values[-1]).year\n",
    "        if pd.to_datetime(event_df.time.values[-1]).month == 12:\n",
    "            event_year+=1\n",
    "\n",
    "        # grab shortwave downward data\n",
    "        with xr.open_dataset(f'../data/forcing/regional_daily_era_strd_{event_year}_v7.nc') as ds_sw:\n",
    "            down_longwave = ds_sw.strd.sel(time=event_df.time.values).values * units('W/m2')\n",
    "\n",
    "        qld = (down_longwave) # longwave down\n",
    "\n",
    "        return qld\n",
    "    \n",
    "    \n",
    "    def open_Qr(event_df):\n",
    "        # determine event year to open\n",
    "        event_year = pd.to_datetime(event_df.time.values[-1]).year\n",
    "        if pd.to_datetime(event_df.time.values[-1]).month == 12:\n",
    "            event_year+=1\n",
    "\n",
    "        # grab shortwave downward data\n",
    "        with xr.open_dataset(f'../data/forcing/regional_daily_era_ssrd_{event_year}_v7.nc') as ds_sw:\n",
    "            down_shortwave = ds_sw.ssrd.sel(time=event_df.time.values).values * units('W/m2')\n",
    "\n",
    "        qr = (1-0.1)*(down_shortwave) # short wave radiation absorbed (10% albedo)\n",
    "\n",
    "        return qr\n",
    "    \n",
    "    \n",
    "    \n",
    "    # wind component that extends polynya\n",
    "#     wind_angle = (poly_dir+ta)*units('degree')\n",
    "#     wind_comp = vectors.comp_along_theta(event_df['u10'].values, event_df['v10'].values, wind_angle)\n",
    "#     wind_speed = np.sqrt(event_df['u10'].values**2 + event_df['v10'].values**2) * units('m/s')\n",
    "\n",
    "\n",
    "    \n",
    "    # observed wind speed and direction\n",
    "    wind_speed = np.sqrt(event_df['u10'].values**2 + event_df['v10'].values**2) * units('m/s')\n",
    "    wind_dir = vectors.vector_angle(event_df['u10'].values, event_df['v10'].values)\n",
    "    \n",
    "    # predicted ice speed and direction\n",
    "    ice_speed = wf * wind_speed.to('km/day')\n",
    "    ice_dir = wind_dir - (ta*units('degree'))\n",
    "    \n",
    "    # back to components\n",
    "    ice_u = ice_speed * np.cos(ice_dir.to('radian').magnitude)\n",
    "    ice_v = ice_speed * np.sin(ice_dir.to('radian').magnitude)\n",
    "    \n",
    "    # component of ice drift along polynya direction\n",
    "    ice_comp_along_polynya = vectors.comp_along_theta(ice_u, ice_v, poly_dir*units('degree'))\n",
    "    Vi = ice_comp_along_polynya\n",
    "    \n",
    "    # daily ice drift\n",
    "#     Vi = wf * wind_comp*units('m/s').to('km/day')\n",
    "\n",
    "    # air temperature\n",
    "    Ta = event_df['t2m'].values * units('degC')\n",
    "\n",
    "    # water temperature\n",
    "    Tw = -1.8 * units('degC')\n",
    "\n",
    "    # surface heat balance\n",
    "    #-----------------------\n",
    "    # define positive upward\n",
    "    Qlu = find_Qlu(Tw, cst['sigma_sb'], 0.98)\n",
    "    Qld = -find_Qld(Ta, cst['sigma_sb'], 0.95)\n",
    "#     Qld = -open_Qld(event_df)\n",
    "    Qs = -find_Qs(Ta, Tw, cst['rho_a'], cst['Cp_a'], wind_speed)\n",
    "    Qr = -open_Qr(event_df) # short wave radiation absorbed (5% albedo)\n",
    "\n",
    "    Qnet = Qlu+Qld+Qs+Qr\n",
    "\n",
    "    # heat flux to ice production rate\n",
    "    #-----------------------------------\n",
    "    Fi = (Qnet / (cst['L_i']*cst['rho_i'])).to('cm/day')\n",
    "    \n",
    "    \n",
    "    if show_plot:\n",
    "        fig, ax = plt.subplots(figsize=(3,3))\n",
    "        ax.plot(Qs, label='sensible')\n",
    "        ax.axhline(Qlu, label='lw u', c='b')\n",
    "        ax.plot(Qld, label='lw d')\n",
    "        ax.plot(Qr, label='shortwave')\n",
    "        ax.plot(Qnet, c='k', label='net')\n",
    "        ax.legend()\n",
    "        \n",
    "        \n",
    "        \n",
    "    # iteratively solve for the length\n",
    "    #---------------------------------\n",
    "    Xp = np.array([0]) * units('m')\n",
    "\n",
    "    for tt in range(len(event_df)):\n",
    "\n",
    "        # current length\n",
    "        X_curr = Xp[-1]\n",
    "\n",
    "        # change in length\n",
    "        dXdt = Vi[tt] - X_curr * Fi[tt] / Hi\n",
    "        dX = dXdt * units('day')\n",
    "\n",
    "\n",
    "        Xnew = X_curr + dX\n",
    "        Xp = np.append(Xp, Xnew)\n",
    "\n",
    "\n",
    "    X_num = Xp[1:].to('km')\n",
    "\n",
    "    # solve for limiting width\n",
    "    #---------------------------------\n",
    "    X_max = (Vi * Hi / Fi).to('km')\n",
    "    \n",
    "    # time to reach 95% of limiting size\n",
    "    t95 = (3 * Hi / Fi).to('day')\n",
    "    \n",
    "    \n",
    "    # if negative ice production (net heat uptake by ocean)\n",
    "    # limiting case cannot be solved for\n",
    "    if Fi < 0 * units('cm/day'):\n",
    "        Fi = 0 * units('cm/day')\n",
    "        X_max = [np.nan] * units('km')\n",
    "    \n",
    "    \n",
    "    \n",
    "    \n",
    "    \n",
    "    \n",
    "    if show_plot:\n",
    "        fig, ax = plt.subplots(figsize=(8,3))\n",
    "        ax.plot(event_df.time, np.cumsum(Vi.magnitude), marker='.', c='k', label='Fi=0')\n",
    "        ax.plot(event_df.time, X_num.to('km'), label='iter')\n",
    "        ax.plot(event_df.time, X_max.to('km'), label='limiting width')\n",
    "        ax.bar(event_df.time, event_df.length_145max, color='lightgray', label='obs')\n",
    "        plt.legend()\n",
    "\n",
    "    X_zip = np.cumsum(Vi*units('day'))\n",
    "    \n",
    "    return X_num, X_max, t95, X_zip, Ta, Vi, wind_speed, event_df['u10'].values, Fi"
   ]
  },
  {
   "cell_type": "markdown",
   "id": "a3c79ff1",
   "metadata": {},
   "source": [
    "## Reference grids"
   ]
  },
  {
   "cell_type": "code",
   "execution_count": 1733,
   "id": "3b3a0ebd",
   "metadata": {},
   "outputs": [],
   "source": [
    "# open regional bounding coordinates\n",
    "df = pd.read_csv('../data/coastal_region_bounds_v7.csv')\n",
    "reg_poly = geoshape.make_polygon(np.stack((df['lons'], df['lats']), axis=1))\n",
    "\n"
   ]
  },
  {
   "cell_type": "code",
   "execution_count": null,
   "id": "fa60cf8d",
   "metadata": {},
   "outputs": [],
   "source": []
  },
  {
   "cell_type": "code",
   "execution_count": 1734,
   "id": "037e3ed4",
   "metadata": {},
   "outputs": [
    {
     "data": {
      "image/png": "[encoded data removed]",
      "text/plain": [
       "<Figure size 800x600 with 1 Axes>"
      ]
     },
     "metadata": {},
     "output_type": "display_data"
    }
   ],
   "source": [
    "\n",
    "# initialize map\n",
    "map_proj = ccrs.NorthPolarStereo(central_longitude=-150)\n",
    "fig, ax = plt.subplots(subplot_kw=dict(projection=map_proj), figsize=(8,6))\n",
    "ax.set_ylim(-2500000,-1500000)\n",
    "ax.set_xlim(-800000,1000000)\n",
    "ax.set_facecolor('lightgray')\n",
    "geomap.land(ax, scale = '10m', color='darkgray', alpha=1, fill_dateline_gap = False, zorder=2)\n",
    "\n",
    "\n",
    "ax.add_geometries([reg_poly], edgecolor='k', facecolor='None',zorder=100, crs=ccrs.PlateCarree())\n",
    "\n",
    "\n",
    "# for key in ['era', 'ppd']:\n",
    "#     ax.scatter(grids[key]['lon'][grids[key]['region']], grids[key]['lat'][grids[key]['region']], \n",
    "#                zorder=100, s = 10, transform=ccrs.PlateCarree())\n",
    "\n",
    "\n",
    "\n",
    "line_kwargs = {'lw':0.75, 'c':[0.6,0.6,0.6]}\n",
    "for lat in [69.25,72]:\n",
    "    ax.plot(np.linspace(-160,-120,100), np.full(100,lat), transform=ccrs.PlateCarree(), **line_kwargs)  \n",
    "for lon in [-150,-137.5]:\n",
    "    ax.plot(np.full(100,lon), np.linspace(68,73,100), transform=ccrs.PlateCarree(), **line_kwargs)\n",
    "    \n"
   ]
  },
  {
   "cell_type": "code",
   "execution_count": 1741,
   "id": "780af693",
   "metadata": {},
   "outputs": [
    {
     "name": "stderr",
     "output_type": "stream",
     "text": [
      "/var/folders/p8/hz449fpx6nscv0jb1klyfqb40000gp/T/ipykernel_18663/690842490.py:37: FutureWarning: Setting an item of incompatible dtype is deprecated and will raise in a future error of pandas. Value '[-16.16057034]' has dtype incompatible with int64, please explicitly cast to a compatible dtype first.\n",
      "  df.loc[df.sequence == ss, 'cum_drift'] = np.cumsum(df.loc[df.sequence == ss, 'ese10']).values\n"
     ]
    }
   ],
   "source": [
    "df = pd.read_csv('../data/compiled_stats.csv')\n",
    "\n",
    "\n",
    "\n",
    "df['esei'] = vectors.comp_along_theta(df['ui'], df['vi'], 145*units('degree')) * units('cm/s').to('km/day')\n",
    "df['ese10'] = 0.03*vectors.comp_along_theta(df['u10'], df['v10'], 180*units('degree'))* units('m/s').to('km/day')\n",
    "\n",
    "df['si_km'] = df['si'] * units('cm/s').to('km/day')\n",
    "\n",
    "for cat in ['a10', 'ai', 'centermass_direction', 'max_length_direction']:\n",
    "    \n",
    "    angles = 90-df[f'{cat}']\n",
    "    angles[angles<0]+=360\n",
    "    df[f'{cat}_r'] = angles\n",
    "    \n",
    "df['up'] = df['centermass_length'].values * np.cos(df['centermass_direction'].values*np.pi/180)\n",
    "df['vp'] = df['centermass_length'].values * np.sin(df['centermass_direction'].values*np.pi/180)\n",
    "                     \n",
    "    \n",
    "vi = (df['ui'].values, df['vi'].values)\n",
    "vw = (df['u10'].values, df['v10'].values)\n",
    "vp = (df['up'].values, df['vp'].values )\n",
    "                              \n",
    "df['ta_wi'] = vectors.turning_angle(vw,vi).magnitude\n",
    "df['ta_ip'] = vectors.turning_angle(vi,vp).magnitude\n",
    "df['ta_wp'] = vectors.turning_angle(vw,vp).magnitude\n",
    "\n",
    "df['cum_drift'] = 0\n",
    "df['X_Pease'] = 0\n",
    "df['X_Pease_num'] = 0\n",
    "df['Vi'] = 0\n",
    "df['Fi'] = 0\n",
    "df['t95'] = 0\n",
    "seqs = np.array(list(set(df.sequence[df.sequence!=-999])))\n",
    "\n",
    "for ss in seqs:\n",
    "    df.loc[df.sequence == ss, 'cum_drift'] = np.cumsum(df.loc[df.sequence == ss, 'ese10']).values\n",
    "    "
   ]
  },
  {
   "cell_type": "markdown",
   "id": "3fe19fe9",
   "metadata": {},
   "source": [
    "# Run the Pease model"
   ]
  },
  {
   "cell_type": "code",
   "execution_count": 2720,
   "id": "72d27b80",
   "metadata": {},
   "outputs": [],
   "source": [
    "\n",
    "for IND in np.where(df.year >= 2003)[0]:\n",
    "    \n",
    "    # model params\n",
    "    #===============================\n",
    "    wf = 0.03 # wind factor\n",
    "    ta = 20   # CW turning angle wind to ice, degrees\n",
    "    poly_dir = 145  #  polynya direction, degrees CCW from E\n",
    "    Hi = 10 * units('cm')\n",
    "    #===============================\n",
    "\n",
    "#     for IND in np.where(df.sequence == ss)[0]:\n",
    "    out = Pease_Model_v2(df.iloc[IND:IND+1], wf=wf, ta=ta, poly_dir=poly_dir, Hi = Hi, show_plot = False)\n",
    "    X_num, X_max, t95, X_zip, Ta, Vi, wind_speed, east_wind, Fi = out\n",
    "    df.loc[IND, 'X_Pease'] = X_max\n",
    "    df.loc[IND\n",
    "           , 'X_Pease_num'] = X_num\n",
    "    df.loc[IND, 't95'] = t95\n",
    "    df.loc[IND, 'Vi'] = Vi\n",
    "    df.loc[IND, 'Fi'] = Fi\n",
    "        \n",
    "\n",
    "# identify base period\n",
    "dfb = df[df['2003_2023']]\n",
    "dfr = df[df.year >= 2003]"
   ]
  },
  {
   "cell_type": "code",
   "execution_count": 2744,
   "id": "9b786176",
   "metadata": {},
   "outputs": [
    {
     "name": "stdout",
     "output_type": "stream",
     "text": [
      "Fi = 7.89 +/- 4.11 cm/day\n"
     ]
    }
   ],
   "source": [
    "time_cond = (df.year==2018) + (df.year==2017)\n",
    "\n",
    "est_growth = np.array([fi.item().magnitude for fi in df['Fi'][time_cond & (df.extent>0)]])\n",
    "print(f'Fi = {np.nanmean(est_growth):.2f} +/- {np.nanstd(est_growth):.2f} cm/day')\n",
    "\n"
   ]
  },
  {
   "cell_type": "code",
   "execution_count": 2730,
   "id": "6a30089c",
   "metadata": {},
   "outputs": [
    {
     "data": {
      "text/plain": [
       "73"
      ]
     },
     "execution_count": 2730,
     "metadata": {},
     "output_type": "execute_result"
    }
   ],
   "source": [
    "len(np.array([fi.item().magnitude for fi in df['Fi'][time_cond & (df.extent>0)]]))"
   ]
  },
  {
   "cell_type": "code",
   "execution_count": null,
   "id": "a61e6bcd",
   "metadata": {},
   "outputs": [],
   "source": []
  },
  {
   "cell_type": "code",
   "execution_count": 2417,
   "id": "e9dac3c3",
   "metadata": {},
   "outputs": [
    {
     "name": "stdout",
     "output_type": "stream",
     "text": [
      "4851    2019-12-12\n",
      "Name: time, dtype: object\n",
      "4851    119\n",
      "Name: sequence, dtype: int64\n",
      "5489    2024-01-14\n",
      "Name: time, dtype: object\n",
      "5489    150\n",
      "Name: sequence, dtype: int64\n",
      "5232    2022-02-28\n",
      "Name: time, dtype: object\n",
      "5232    135\n",
      "Name: sequence, dtype: int64\n",
      "5697    2025-03-11\n",
      "Name: time, dtype: object\n",
      "5697    160\n",
      "Name: sequence, dtype: int64\n",
      "4368    2016-04-12\n",
      "Name: time, dtype: object\n",
      "4368    86\n",
      "Name: sequence, dtype: int64\n"
     ]
    }
   ],
   "source": [
    "for month in [12,1,2,3,4]:\n",
    "    \n",
    "    cond = ((dfr['sequence']!=-999)&((dfr['season_start_flag']==False)&(dfr['season_end_flag']==False)))\n",
    "    cond = cond & (dfr['month']==month)\n",
    "    \n",
    "    print(dfr['time'][cond][dfr['extent'][cond] == np.max(dfr['extent'][cond])])\n",
    "    print(dfr['sequence'][cond][dfr['extent'][cond] == np.max(dfr['extent'][cond])])\n",
    "    "
   ]
  },
  {
   "cell_type": "code",
   "execution_count": 80,
   "id": "6859956c",
   "metadata": {},
   "outputs": [],
   "source": [
    "cond = ((dfr['sequence']!=-999)&((dfr['season_start_flag']==False)&(dfr['season_end_flag']==False)))\n",
    "all_ss = list(set(dfr['sequence'][cond]))\n",
    "\n",
    "\n",
    "# cond = ((dfr['sequence']!=-999))\n",
    "# all_ss = list(set(dfr['sequence'][cond]))\n"
   ]
  },
  {
   "cell_type": "markdown",
   "id": "05e96a3a",
   "metadata": {},
   "source": [
    "### Define direction ranges"
   ]
  },
  {
   "cell_type": "code",
   "execution_count": 1411,
   "id": "3c00b3ce",
   "metadata": {},
   "outputs": [],
   "source": [
    "def dir_conds(dff, cat):\n",
    "    \n",
    "    if cat == 'wind':\n",
    "        dir_cond = (dff['a10_r'] > 260) & (dff['a10_r'] < 305)\n",
    "#         dir_cond = (dff['a10_r'] > 255) & (dff['a10_r'] < 305)\n",
    "        \n",
    "    elif cat == 'ice':\n",
    "        \n",
    "        dir_cond = (dff['ai_r'] > 270) & (dff['ai_r'] < 315)\n",
    "    return dir_cond\n",
    "\n",
    "def speed_conds(dff, cat):\n",
    "    \n",
    "    if cat == 'wind':\n",
    "        speed_cond = (dff['s10'] > 7)\n",
    "    elif cat == 'ice':\n",
    "        speed_cond = (dff['si_km'] > 10.5)\n",
    "    return speed_cond"
   ]
  },
  {
   "cell_type": "code",
   "execution_count": 82,
   "id": "a0ec1720",
   "metadata": {},
   "outputs": [
    {
     "data": {
      "text/plain": [
       "<matplotlib.collections.PathCollection at 0x146f7f740>"
      ]
     },
     "execution_count": 82,
     "metadata": {},
     "output_type": "execute_result"
    },
    {
     "data": {
      "image/png": "[encoded data removed]",
      "text/plain": [
       "<Figure size 300x300 with 1 Axes>"
      ]
     },
     "metadata": {},
     "output_type": "display_data"
    }
   ],
   "source": [
    "late_df = df[df.year >= 2016]\n",
    "earl_df = df[(df.year >= 2003)&(df.year < 2016)]\n",
    "\n",
    "fig, ax= plt.subplots(figsize=(3,3))\n",
    "\n",
    "cond =  (earl_df.s10 > 3) &dir_conds(earl_df, 'wind') \n",
    "# plt.hist(earl_df[cond]['a10_r'], bins=np.arange(255,310,2), alpha=0.5, density=True)\n",
    "\n",
    "plt.scatter(earl_df[cond]['a10_r'], earl_df[cond]['si']/earl_df[cond]['s10'], s=5)\n",
    "\n",
    "\n",
    "cond = (late_df.s10 > 3) &dir_conds(late_df, 'wind') \n",
    "# plt.hist(late_df[cond]['a10_r'], bins=np.arange(255,310,2), alpha=0.5, density=True)\n",
    "plt.scatter(late_df[cond]['a10_r'], late_df[cond]['si']/late_df[cond]['s10'], s=5)"
   ]
  },
  {
   "cell_type": "code",
   "execution_count": null,
   "id": "ab7a567d",
   "metadata": {},
   "outputs": [],
   "source": []
  },
  {
   "cell_type": "code",
   "execution_count": 83,
   "id": "e4c40046",
   "metadata": {},
   "outputs": [
    {
     "data": {
      "text/html": [
       "8.8128 kilometer/day"
      ],
      "text/latex": [
       "$8.8128\\ \\frac{\\mathrm{kilometer}}{\\mathrm{day}}$"
      ],
      "text/plain": [
       "<Quantity(8.8128, 'kilometer / day')>"
      ]
     },
     "execution_count": 83,
     "metadata": {},
     "output_type": "execute_result"
    }
   ],
   "source": [
    "0.017 * 6 * units('m/s').to('km/day')"
   ]
  },
  {
   "cell_type": "code",
   "execution_count": null,
   "id": "7dca55f2",
   "metadata": {},
   "outputs": [],
   "source": []
  },
  {
   "cell_type": "markdown",
   "id": "47c192d1",
   "metadata": {},
   "source": []
  },
  {
   "cell_type": "code",
   "execution_count": 84,
   "id": "61378f51",
   "metadata": {},
   "outputs": [
    {
     "data": {
      "text/plain": [
       "0.8076190476190476"
      ]
     },
     "execution_count": 84,
     "metadata": {},
     "output_type": "execute_result"
    }
   ],
   "source": [
    "np.sum(dir_conds(DF[DF.extent>0], 'wind'))/np.sum(DF.extent>0)"
   ]
  },
  {
   "cell_type": "code",
   "execution_count": 85,
   "id": "c9f53109",
   "metadata": {},
   "outputs": [
    {
     "data": {
      "text/plain": [
       "0.6876190476190476"
      ]
     },
     "execution_count": 85,
     "metadata": {},
     "output_type": "execute_result"
    }
   ],
   "source": [
    "np.sum(dir_conds(DF[DF.extent>0], 'ice'))/np.sum(DF.extent>0)"
   ]
  },
  {
   "cell_type": "code",
   "execution_count": 86,
   "id": "2e0afcba",
   "metadata": {},
   "outputs": [],
   "source": [
    "def plot_percentiles(ax, x, data, c='r'):\n",
    "    ax.scatter(x, np.nanpercentile(data, 50), s=10, c=c)\n",
    "    ax.scatter(x, np.nanpercentile(data, 25), s=5, c=c)\n",
    "    ax.scatter(x, np.nanpercentile(data, 75), s=5, c=c)\n",
    "    \n",
    "def plot_means(ax, x, data, c='r'):\n",
    "    ax.scatter(x, np.nanmean(data), s=10, c=c)\n",
    "    ax.scatter(x, np.nanmean(data)+np.nanstd(data), s=5, c=c)\n",
    "    ax.scatter(x, np.nanmean(data)-np.nanstd(data), s=5, c=c)\n",
    "    \n",
    "    "
   ]
  },
  {
   "cell_type": "code",
   "execution_count": null,
   "id": "532788d7",
   "metadata": {},
   "outputs": [],
   "source": [
    "\n",
    "shoulder = (DF.month==1) "
   ]
  },
  {
   "cell_type": "code",
   "execution_count": null,
   "id": "ee73110a",
   "metadata": {},
   "outputs": [],
   "source": [
    "omit_events ="
   ]
  },
  {
   "cell_type": "code",
   "execution_count": null,
   "id": "f450854d",
   "metadata": {},
   "outputs": [],
   "source": []
  },
  {
   "cell_type": "code",
   "execution_count": 1043,
   "id": "e5819b26",
   "metadata": {},
   "outputs": [
    {
     "data": {
      "text/plain": [
       "Index(['time', 'month', 'year', 'pre_2003', '2003_2023', 'compact', 'open',\n",
       "       'q1', 'q2', 'q3', 'q4', 'extent', 'length_145max', 'length_145min',\n",
       "       'length_145p95', 'length_145p5', 'length_max', 'centermass_length',\n",
       "       'centermass_direction', 'max_length_direction', 'width595', 'width',\n",
       "       'ai', 'si', 'ui', 'vi', 'a10', 's10', 'u10', 'v10', 't2m', 'msl',\n",
       "       'year_start', 'year_end', 'missing_sic', 'sequence', 'event_day',\n",
       "       'day_before_event', 'day_after_event', 'overlap_flag', 'single_day',\n",
       "       'season_start_flag', 'season_end_flag', 'first_day', 'final_day',\n",
       "       'peak_day', 'event_length', 'after_event_length', 'before_event_length',\n",
       "       'esei', 'ese10', 'si_km', 'a10_r', 'ai_r', 'centermass_direction_r',\n",
       "       'max_length_direction_r', 'up', 'vp', 'ta_wi', 'ta_ip', 'ta_wp',\n",
       "       'cum_drift', 'X_Pease', 'X_Pease_num', 'Vi', 'Fi', 't95'],\n",
       "      dtype='object')"
      ]
     },
     "execution_count": 1043,
     "metadata": {},
     "output_type": "execute_result"
    }
   ],
   "source": [
    "DF.keys()"
   ]
  },
  {
   "cell_type": "code",
   "execution_count": 1046,
   "id": "553864ba",
   "metadata": {},
   "outputs": [
    {
     "data": {
      "text/plain": [
       "Index([ 1,  2,  3,  4,  5,  6,  7,  8,  9, 10,\n",
       "       ...\n",
       "       21, 22, 23, 24, 25, 26, 27, 28, 29, 30],\n",
       "      dtype='int32', length=3479)"
      ]
     },
     "execution_count": 1046,
     "metadata": {},
     "output_type": "execute_result"
    }
   ],
   "source": [
    "pd.to_datetime(DF.time.values).day"
   ]
  },
  {
   "cell_type": "markdown",
   "id": "678f757b",
   "metadata": {},
   "source": [
    "### Specify conditions"
   ]
  },
  {
   "cell_type": "code",
   "execution_count": 2757,
   "id": "ee113626",
   "metadata": {},
   "outputs": [
    {
     "name": "stdout",
     "output_type": "stream",
     "text": [
      "3\n",
      "160\n",
      "646\n"
     ]
    }
   ],
   "source": [
    "#=============\n",
    "L = 13\n",
    "#=============\n",
    "\n",
    "\n",
    "#=============\n",
    "DF = dfr\n",
    "#=============\n",
    "print(len(list(set(DF['sequence'][DF['event_length']>L]))))\n",
    "print(len(list(set(DF['sequence'][DF['event_length']<=L]))))\n",
    "\n",
    "# shoulder = ((DF['season_start_flag'] + DF['season_end_flag']) + DF['final_day'])\n",
    "\n",
    "\n",
    "# identify periods where east winds maintained over whole event \n",
    "\n",
    "\n",
    "# east_maint = np.copy(speed_conds(DF, 'wind').values)\n",
    "east_maint = np.copy(dir_conds(DF, 'wind').values & speed_conds(DF, 'wind').values)\n",
    "# east_maint = np.copy(dir_conds(DF, 'wind').values)\n",
    "# east_maint = np.copy(DF.u10.values<0)\n",
    "print(np.sum(east_maint))\n",
    "\n",
    "for ss in list(set(DF.sequence[DF.sequence!=-999])):\n",
    "    \n",
    "    # sequence index start\n",
    "    II = np.where(DF.sequence.values==ss)[0][0]\n",
    "    FF = np.where(DF.sequence.values==ss)[0][-1]\n",
    "    \n",
    "    east__ = (dir_conds(DF[DF.sequence==ss], 'wind').values) & (speed_conds(DF[DF.sequence==ss], 'wind').values)\n",
    "    not_east = (east__==False)\n",
    "    \n",
    "#     not_east = (speed_conds(DF[DF.sequence==ss], 'wind').values == False)\n",
    "#     not_east = (dir_conds(DF[DF.sequence==ss], 'wind').values == False)\n",
    "\n",
    "    # if a not-east event is found\n",
    "    if len(np.where(not_east)[0]) > 0:\n",
    "        # everywhere after first not-east event (up to end of event) is false\n",
    "        east_maint[II+np.where(not_east)[0][0]:FF+1] = False\n",
    "    \n",
    "    \n",
    "    \n",
    "# shoulder = ((DF['season_start_flag'] + DF['season_end_flag']))# + DF['final_day'])\n",
    "\n",
    "# shoulder_sta = (DF.month==12) & (pd.to_datetime(DF.time.values).day <15)\n",
    "# shoulder_end = (DF.month==4) & (pd.to_datetime(DF.time.values).day >15)\n",
    "\n",
    "# shoulder = shoulder_sta + shoulder_end\n",
    "\n",
    "shoulder = (DF['season_start_flag']) #+ ((DF['month']==3)+(DF['month']==4))\n",
    "\n",
    "event_cond = (shoulder==False) & (east_maint==True)# + DF['final_day'])\n",
    "\n",
    "# shoulder_si = (DF['season_start_flag'] + DF['season_end_flag']) \n",
    "\n",
    "# shoulder = DF.year<0\n",
    "\n",
    "comp_ = (DF.extent==0)\n",
    "comp_[(DF.day_before_event>=-3)]=False\n",
    "comp_[(DF.day_after_event<=2)&(DF.day_after_event>-999)]=False\n",
    "\n",
    "days_before = np.array([-2,-1])\n",
    "labels_before = np.array(['$t_{i}$'f'\\n{dd}' for dd in days_before])\n",
    "conds_before = [((DF['day_before_event'] == dd)&(DF['before_event_length']>=1))&(shoulder==False) for dd in days_before]\n",
    "\n",
    "days_during = np.arange(1,L+1)\n",
    "labels_during = np.array([f'{dd}' for dd in days_during])\n",
    "# conds_during = [((DF['event_day'] == dd)&(shoulder==False))&(DF['final_day'] == False) for dd in days_during]\n",
    "# conds_during = [(DF['event_day'] == dd) for dd in days_during]\n",
    "conds_during = [((DF['event_day'] == dd)&(event_cond)) for dd in days_during]\n",
    "# conds_during[0] = ((DF['event_day'] == 1)&(DF['season_start_flag']==False))&(DF['single_day']==False)\n",
    "\n",
    "days_more = np.array([L+1])\n",
    "labels_more = np.array([f'{L+1}+'])\n",
    "# conds_more = [((DF['event_day'] > L)&(DF['final_day'] == False))&(shoulder==False)]\n",
    "conds_more = [((DF['event_day'] > L))&(event_cond)]\n",
    "\n",
    "day_final = np.array([L+2])\n",
    "labels_final = np.array(['$t_{f}$'])\n",
    "conds_final = [((DF['final_day'] == True)&(shoulder==False))]   \n",
    "\n",
    "days_after = np.array([1,2])\n",
    "labels_after = np.array(['$t_{f}$'f'\\n+{dd}' for dd in days_after])\n",
    "conds_after = [((DF['day_after_event'] == dd)&(DF['after_event_length']>=1))&(shoulder==False) for dd in days_after]   \n",
    "\n",
    "\n",
    "# x_values = np.concatenate((1+days_before, days_during, days_more, day_final, 2+L+days_after))\n",
    "# x_labels = np.concatenate((labels_before, labels_during, labels_more, labels_final, labels_after))\n",
    "# all_cond = np.concatenate((conds_before, conds_during, conds_more, conds_final, conds_after))\n",
    "\n",
    "\n",
    "# x_values = np.concatenate((1+days_before, days_during, days_more, 1+L+days_after))\n",
    "# x_labels = np.concatenate((labels_before, labels_during, labels_more, labels_after))\n",
    "# all_cond = np.concatenate((conds_before, conds_during, conds_more, conds_after))\n",
    "\n",
    "\n",
    "# x_values = np.concatenate((days_during, days_more))\n",
    "# x_labels = np.concatenate((labels_during, labels_more))\n",
    "# all_cond = np.concatenate((conds_during, conds_more))\n",
    "\n",
    "\n",
    "x_values = days_during \n",
    "x_labels = labels_during\n",
    "all_cond = conds_during\n",
    "\n",
    "\n",
    "across = {}\n",
    "for dd, cond in zip(x_labels, all_cond):\n",
    "\n",
    "    across[dd] = {}\n",
    "    across[dd]['date'] = DF.time[cond].values\n"
   ]
  },
  {
   "cell_type": "code",
   "execution_count": 2758,
   "id": "bf98a2ae",
   "metadata": {},
   "outputs": [
    {
     "data": {
      "text/plain": [
       "79"
      ]
     },
     "execution_count": 2758,
     "metadata": {},
     "output_type": "execute_result"
    }
   ],
   "source": [
    "np.sum(shoulder_sta & (df.extent>0))"
   ]
  },
  {
   "cell_type": "code",
   "execution_count": 2759,
   "id": "75d4a032",
   "metadata": {},
   "outputs": [
    {
     "data": {
      "text/plain": [
       "59"
      ]
     },
     "execution_count": 2759,
     "metadata": {},
     "output_type": "execute_result"
    }
   ],
   "source": [
    "np.sum(shoulder_end & (df.extent>0))"
   ]
  },
  {
   "cell_type": "code",
   "execution_count": 2760,
   "id": "c699e58c",
   "metadata": {},
   "outputs": [
    {
     "data": {
      "text/plain": [
       "[1, 33, 17, 24, 123]"
      ]
     },
     "execution_count": 2760,
     "metadata": {},
     "output_type": "execute_result"
    }
   ],
   "source": [
    "list(set(DF.sequence[DF['season_start_flag']]))"
   ]
  },
  {
   "cell_type": "code",
   "execution_count": 2761,
   "id": "40b09c1d",
   "metadata": {},
   "outputs": [
    {
     "data": {
      "text/plain": [
       "21"
      ]
     },
     "execution_count": 2761,
     "metadata": {},
     "output_type": "execute_result"
    }
   ],
   "source": [
    "len(DF.sequence[DF['season_start_flag']])"
   ]
  },
  {
   "cell_type": "code",
   "execution_count": 2762,
   "id": "c4465aea",
   "metadata": {},
   "outputs": [
    {
     "name": "stdout",
     "output_type": "stream",
     "text": [
      "[]\n",
      "Series([], Name: sequence, dtype: int64)\n"
     ]
    }
   ],
   "source": [
    "print(list(set(DF.sequence[(event_cond) & (DF.event_day>L)])))\n",
    "print((DF.sequence[(event_cond) & (DF.event_day>L)]))"
   ]
  },
  {
   "cell_type": "code",
   "execution_count": 2763,
   "id": "11ecf6b6",
   "metadata": {},
   "outputs": [
    {
     "data": {
      "text/plain": [
       "2430    2003-12-11\n",
       "2431    2003-12-12\n",
       "2432    2003-12-13\n",
       "2433    2003-12-14\n",
       "2434    2003-12-15\n",
       "2435    2003-12-16\n",
       "2436    2003-12-17\n",
       "2437    2003-12-18\n",
       "2438    2003-12-19\n",
       "2439    2003-12-20\n",
       "2440    2003-12-21\n",
       "2441    2003-12-22\n",
       "Name: time, dtype: object"
      ]
     },
     "execution_count": 2763,
     "metadata": {},
     "output_type": "execute_result"
    }
   ],
   "source": [
    "DF.time[DF.sequence==12]"
   ]
  },
  {
   "cell_type": "code",
   "execution_count": 2764,
   "id": "82231241",
   "metadata": {},
   "outputs": [],
   "source": [
    "\n",
    "percents = [5,10,25,50,75,90,95]\n",
    "also = ['avg', 'std', 'avg_ms', 'avg_ps']\n",
    "\n",
    "#----------------------\n",
    "VAR = 'X_Pease'\n",
    "lat_pers = {}\n",
    "for per in percents:\n",
    "    lat_pers[per] = np.array([])\n",
    "for per in also:\n",
    "    lat_pers[per] = np.array([])\n",
    "    \n",
    "for dd, cond in zip(x_values, all_cond):\n",
    "    for per in percents:\n",
    "        lat_pers[per] = np.append(lat_pers[per], np.nanpercentile(DF[VAR][cond], per))\n",
    "    lat_pers['avg'] = np.append(lat_pers['avg'], np.nanmean(DF[VAR][cond]))\n",
    "    lat_pers['std'] = np.append(lat_pers['std'], np.nanstd(DF[VAR][cond]))\n",
    "    \n",
    "    lat_pers['avg_ms'] = np.append(lat_pers['avg_ms'], np.nanmean(DF[VAR][cond]) - np.nanstd(DF[VAR][cond]))\n",
    "    lat_pers['avg_ps'] = np.append(lat_pers['avg_ps'], np.nanmean(DF[VAR][cond]) + np.nanstd(DF[VAR][cond]))\n",
    "        \n",
    "        \n",
    "#----------------------        \n",
    "VAR = 'length_145max'\n",
    "obs_pers = {}\n",
    "for per in percents:\n",
    "    obs_pers[per] = np.array([])\n",
    "for per in also:\n",
    "    obs_pers[per] = np.array([])\n",
    "    \n",
    "for dd, cond in zip(x_values, all_cond):\n",
    "    for per in percents:\n",
    "        obs_pers[per] = np.append(obs_pers[per], np.nanpercentile(DF[VAR][cond], per))\n",
    "    obs_pers['avg'] = np.append(obs_pers['avg'], np.nanmean(DF[VAR][cond]))\n",
    "    obs_pers['std'] = np.append(obs_pers['std'], np.nanstd(DF[VAR][cond]))\n",
    "    \n",
    "    obs_pers['avg_ms'] = np.append(obs_pers['avg_ms'], np.nanmean(DF[VAR][cond]) - np.nanstd(DF[VAR][cond]))\n",
    "    obs_pers['avg_ps'] = np.append(obs_pers['avg_ps'], np.nanmean(DF[VAR][cond]) + np.nanstd(DF[VAR][cond]))\n",
    "        \n",
    "    \n",
    "#----------------------        \n",
    "VAR = 'cum_drift'\n",
    "pred_pers = {}\n",
    "for per in percents:\n",
    "    pred_pers[per] = np.array([])\n",
    "for per in also:\n",
    "    pred_pers[per] = np.array([])\n",
    "\n",
    "for dd, cond in zip(x_values, all_cond):\n",
    "    for per in percents:\n",
    "        pred_pers[per] = np.append(pred_pers[per], np.nanpercentile(DF[VAR][cond], per))\n",
    "    pred_pers['avg'] = np.append(pred_pers['avg'], np.nanmean(DF[VAR][cond]))\n",
    "    pred_pers['std'] = np.append(pred_pers['std'], np.nanstd(DF[VAR][cond]))\n",
    "    \n",
    "    pred_pers['avg_ms'] = np.append(pred_pers['avg_ms'], np.nanmean(DF[VAR][cond]) - np.nanstd(DF[VAR][cond]))\n",
    "    pred_pers['avg_ps'] = np.append(pred_pers['avg_ps'], np.nanmean(DF[VAR][cond]) + np.nanstd(DF[VAR][cond]))"
   ]
  },
  {
   "cell_type": "code",
   "execution_count": null,
   "id": "c7970582",
   "metadata": {},
   "outputs": [],
   "source": []
  },
  {
   "cell_type": "code",
   "execution_count": null,
   "id": "3cf47375",
   "metadata": {},
   "outputs": [],
   "source": []
  },
  {
   "cell_type": "code",
   "execution_count": 2765,
   "id": "eccb1422",
   "metadata": {},
   "outputs": [
    {
     "name": "stderr",
     "output_type": "stream",
     "text": [
      "<>:204: SyntaxWarning: invalid escape sequence '\\m'\n",
      "<>:204: SyntaxWarning: invalid escape sequence '\\m'\n",
      "/var/folders/p8/hz449fpx6nscv0jb1klyfqb40000gp/T/ipykernel_18663/1848364061.py:204: SyntaxWarning: invalid escape sequence '\\m'\n",
      "  ax.set_ylabel('Polynya\\nlength\\n($\\mathrm{km}$)', rotation=0, labelpad=22, va='center')\n"
     ]
    },
    {
     "data": {
      "text/plain": [
       "Text(2.0, 250, '5th')"
      ]
     },
     "execution_count": 2765,
     "metadata": {},
     "output_type": "execute_result"
    },
    {
     "data": {
      "image/png": "[encoded data removed]",
      "text/plain": [
       "<Figure size 290x360 with 2 Axes>"
      ]
     },
     "metadata": {},
     "output_type": "display_data"
    }
   ],
   "source": [
    "fig, axs = plt.subplots(2,1,figsize=(2.9,3.6), gridspec_kw={'height_ratios':[0.25,1]})\n",
    "\n",
    "\n",
    "    \n",
    "color1 = 'k'#[50/255,115/255, 255/255]   \n",
    "color2 = 'darkgray'# [137/255,173/255, 255/255]   \n",
    "    \n",
    "    \n",
    "ax = axs[0]\n",
    "# ax.axhline(len(list(set(df.sequence))), c='lightgray', zorder=-10)\n",
    "ax.set_ylim(0,160)\n",
    "ax.set_yticks([])\n",
    "ax.set_ylabel('Number\\nof events', rotation=0, labelpad=30, va='center')\n",
    "for dd, cond in zip(x_values, all_cond):\n",
    "    \n",
    "    if (dd >0)&(dd < 15):\n",
    "        ax.bar(dd, np.sum(cond), color=color1)\n",
    "        ax.text(dd, np.sum(cond)+5, np.sum(cond), \n",
    "                color=color1, va='bottom', ha='center', size=8)\n",
    "    else:\n",
    "        ax.bar(dd, np.sum(cond), color=color2)\n",
    "        ax.text(dd, np.sum(cond)+5, np.sum(cond), \n",
    "                color=color2, va='bottom', ha='center', size=8)\n",
    "# ax.text(-2, 140, f'N={np.sum(comp_):.0f}', c='k', size = 7.5,zorder=0)\n",
    "\n",
    "\n",
    "for ax in axs:\n",
    "    ax.set_xlim(x_values.min()-1.75+1.25, x_values.max()+1.75-1.25)\n",
    "    ax.set_xticks(x_values)\n",
    "    ax.set_xticklabels([])\n",
    "axs[-1].set_xticklabels(x_labels);\n",
    "# plt.xticks(fontsize=9)\n",
    "\n",
    "\n",
    "\n",
    "wi = 0.2\n",
    "hi = 8\n",
    "\n",
    "bff = 0.35\n",
    "\n",
    "weight='normal'\n",
    "\n",
    "\n",
    "#-----------------\n",
    "category = pred_pers\n",
    "color = 'r'\n",
    "\n",
    "ax.text(0.575,0.875,'Strong sensible', ha='center', weight=weight, c=color, transform=ax.transAxes)\n",
    "\n",
    "ax.scatter(x_values+lo, category[50], lw=1, edgecolor='white', marker='s', s=40,facecolor=color, zorder=100)\n",
    "ax.plot(x_values+lo, category[50], lw=1.5, c=color, ls='solid',   zorder=99)\n",
    "\n",
    "\n",
    "# ax.plot(x_values+lo, category[10], lw=0.5, c=color, ls='dashed',   zorder=99)\n",
    "# ax.plot(x_values+lo, category[90], lw=0.5, c=color, ls='dashed',   zorder=99)\n",
    "\n",
    "X_exp = np.concatenate((np.array([x_values.min()-bff]), x_values, np.array([x_values.max()+bff])))\n",
    "Y1_exp = np.concatenate((np.array([category[25][0]]), category[25], np.array([category[25][-1]])))\n",
    "Y2_exp = np.concatenate((np.array([category[75][0]]), category[75], np.array([category[75][-1]])))\n",
    "\n",
    "# Y1_exp = np.concatenate((np.array([category[10][0]]), category[10], np.array([category[10][-1]])))\n",
    "# Y2_exp = np.concatenate((np.array([category[90][0]]), category[90], np.array([category[90][-1]])))\n",
    "\n",
    "# Y1_exp = np.concatenate((np.array([category['avg_ms'][0]]), category['avg_ms'], np.array([category['avg_ms'][-1]])))\n",
    "# Y2_exp = np.concatenate((np.array([category['avg_ps'][0]]), category['avg_ps'], np.array([category['avg_ps'][-1]])))\n",
    "\n",
    "\n",
    "ax.fill_between(X_exp,Y1_exp,  Y2_exp, alpha=0.35, color=color, lw=0 ,zorder=-4)\n",
    "\n",
    "\n",
    "Y1_exp = np.concatenate((np.array([category[5][0]]), category[5], np.array([category[5][-1]])))\n",
    "Y2_exp = np.concatenate((np.array([category[95][0]]), category[95], np.array([category[95][-1]])))\n",
    "ax.fill_between(X_exp,Y1_exp,  Y2_exp, alpha=0.2, color=color, lw=0 ,zorder=-6)\n",
    "\n",
    "    \n",
    "#-----------------\n",
    "\n",
    "category = lat_pers\n",
    "color = 'dodgerblue'\n",
    "ax.text(0.95,0.11,'Pure latent', ha='right', weight=weight, c=color, transform=ax.transAxes)\n",
    "\n",
    "\n",
    "\n",
    "#     ax.scatter(np.linspace(dd-wi/2, dd+wi/2, np.sum(cond)), DF[VAR][cond].values, c='lightskyblue', s=5, zorder=0)\n",
    "       \n",
    "        \n",
    "# Sample data\n",
    "\n",
    "lo = 0\n",
    "\n",
    "# ax.set_xticks([1, 2, 3])\n",
    "\n",
    "\n",
    "\n",
    "ax.scatter(x_values+lo, category[50], lw=1, edgecolor='white', marker='D', s=35,facecolor=color, zorder=100)\n",
    "ax.plot(x_values+lo, category[50], lw=1.5, c=color, ls='solid',   zorder=99)\n",
    "\n",
    "\n",
    "# ax.plot(x_values+lo, category[10], lw=0.5, c=color, ls='dashed',   zorder=99)\n",
    "# ax.plot(x_values+lo, category[90], lw=0.5, c=color, ls='dashed',   zorder=99)\n",
    "\n",
    "# # ax.scatter(x_values+lo, category['avg'], lw=1, edgecolor='white', marker='D', s=40,facecolor=color, zorder=100)\n",
    "# ax.plot(x_values+lo, category['avg'], lw=1, c=color, ls='solid',   zorder=99)\n",
    "\n",
    "\n",
    "X_exp = np.concatenate((np.array([x_values.min()-bff]), x_values, np.array([x_values.max()+bff])))\n",
    "Y1_exp = np.concatenate((np.array([category[25][0]]), category[25], np.array([category[25][-1]])))\n",
    "Y2_exp = np.concatenate((np.array([category[75][0]]), category[75], np.array([category[75][-1]])))\n",
    "\n",
    "# Y1_exp = np.concatenate((np.array([category[10][0]]), category[10], np.array([category[10][-1]])))\n",
    "# Y2_exp = np.concatenate((np.array([category[90][0]]), category[90], np.array([category[90][-1]])))\n",
    "\n",
    "# Y1_exp = np.concatenate((np.array([category['avg_ms'][0]]), category['avg_ms'], np.array([category['avg_ms'][-1]])))\n",
    "# Y2_exp = np.concatenate((np.array([category['avg_ps'][0]]), category['avg_ps'], np.array([category['avg_ps'][-1]])))\n",
    "\n",
    "\n",
    "ax.fill_between(X_exp,Y1_exp,  Y2_exp, alpha=0.3, color=color, lw=0 ,zorder=-4)\n",
    "\n",
    "Y1_exp = np.concatenate((np.array([category[5][0]]), category[5], np.array([category[5][-1]])))\n",
    "Y2_exp = np.concatenate((np.array([category[95][0]]), category[95], np.array([category[95][-1]])))\n",
    "ax.fill_between(X_exp,Y1_exp,  Y2_exp, alpha=0.2, color=color, lw=0 ,zorder=-6)\n",
    "\n",
    "    \n",
    "\n",
    "#-----------------\n",
    "category = obs_pers\n",
    "color = [0.3]*3\n",
    "\n",
    "ax.text(0.775,0.425, 'Observed', ha='right', weight=weight, c=color, transform=ax.transAxes)\n",
    "\n",
    "\n",
    "ax.scatter(x_values+lo, category[50], lw=1, edgecolor='white', marker='o', s=45,facecolor=color, zorder=100)\n",
    "ax.plot(x_values+lo, category[50], lw=1.5, c=color, ls='solid',   zorder=99)\n",
    "\n",
    "\n",
    "# ax.plot(x_values+lo, category[10], lw=0.5, c=color, ls='dashed',   zorder=99)\n",
    "# ax.plot(x_values+lo, category[90], lw=0.5, c=color, ls='dashed',   zorder=99)\n",
    "\n",
    "\n",
    "# ax.plot(x_values, category[25],alpha=1, color=color, lw=0.5, ls='dashed', zorder=-4)\n",
    "# ax.plot(x_values, category[75],alpha=1, color=color, lw=0.5, ls='dashed', zorder=-4)\n",
    "\n",
    "# ax.fill_between(x_values, category[25], category[75], alpha=0.25, color=color, lw=0 ,zorder=-4)\n",
    "\n",
    "X_exp = np.concatenate((np.array([x_values.min()-bff]), x_values, np.array([x_values.max()+bff])))\n",
    "Y1_exp = np.concatenate((np.array([category[25][0]]), category[25], np.array([category[25][-1]])))\n",
    "Y2_exp = np.concatenate((np.array([category[75][0]]), category[75], np.array([category[75][-1]])))\n",
    "\n",
    "# Y1_exp = np.concatenate((np.array([category[10][0]]), category[10], np.array([category[10][-1]])))\n",
    "# Y2_exp = np.concatenate((np.array([category[90][0]]), category[90], np.array([category[90][-1]])))\n",
    "\n",
    "\n",
    "# Y1_exp = np.concatenate((np.array([category['avg_ms'][0]]), category['avg_ms'], np.array([category['avg_ms'][-1]])))\n",
    "# Y2_exp = np.concatenate((np.array([category['avg_ps'][0]]), category['avg_ps'], np.array([category['avg_ps'][-1]])))\n",
    "\n",
    "\n",
    "ax.fill_between(X_exp,Y1_exp,  Y2_exp, alpha=0.2, color=color, lw=0 ,zorder=-4)\n",
    "\n",
    "Y1_exp = np.concatenate((np.array([category[5][0]]), category[5], np.array([category[5][-1]])))\n",
    "Y2_exp = np.concatenate((np.array([category[95][0]]), category[95], np.array([category[95][-1]])))\n",
    "ax.fill_between(X_exp,Y1_exp,  Y2_exp, alpha=0.1, color=color, lw=0 ,zorder=-6)\n",
    "\n",
    "\n",
    "    \n",
    "# Get the y-axis tick labels\n",
    "xtick_labels = axs[-1].get_xticklabels()\n",
    "\n",
    "axs[-1].set_xlabel('Event duration (days)')\n",
    "\n",
    "for aa, ax in enumerate(axs):\n",
    "#     ax.text(1.01, 0.95, '(a)', ha='left', va='top', weight='bold', clip_on=False, transform = ax.transAxes)\n",
    "    if aa == 0:\n",
    "        ax.text(0.975, 1.025, f'{chr(97+aa)}', \n",
    "                ha='right', va='bottom', weight='bold', clip_on=False, transform = ax.transAxes)\n",
    "    else:\n",
    "        ax.text(0.975, 1.01, f'{chr(97+aa)}', \n",
    "                ha='right', va='bottom', weight='bold', clip_on=False, transform = ax.transAxes)\n",
    "\n",
    "    \n",
    "plt.subplots_adjust(hspace=0.2)\n",
    "\n",
    "\n",
    "# for dd in x_values:\n",
    "#     ax.axvline(dd, c='lightgray', lw=0.5, zorder=-100)\n",
    "# for dd in [100,200,300]:\n",
    "#     ax.axhline(dd, c='lightgray', lw=0.5, zorder=-100)\n",
    "    \n",
    "for ax in axs:\n",
    "    ax.set_xlim(0.35,x_values.max()+.5)\n",
    "    ax.xaxis.set_major_locator(ticker.FixedLocator([1,3,5,7,9,11,13]))\n",
    "    ax.xaxis.set_minor_locator(ticker.MultipleLocator(1))\n",
    "    \n",
    "\n",
    "# for ax in axs[2:2]:\n",
    "#     ax.set_ylim(0,1.05)\n",
    "#     ax.yaxis.set_major_locator(ticker.MultipleLocator(0.5))\n",
    "#     ax.yaxis.set_minor_locator(ticker.MultipleLocator(0.1))\n",
    "\n",
    "\n",
    "ax = axs[1]\n",
    "ax.set_ylim(0,420)\n",
    "ax.yaxis.set_major_locator(ticker.MultipleLocator(100))\n",
    "ax.yaxis.set_minor_locator(ticker.MultipleLocator(20))\n",
    "ax.set_ylabel('Polynya\\nlength\\n($\\mathrm{km}$)', rotation=0, labelpad=22, va='center')\n",
    "\n",
    "\n",
    "xxx = 1.5\n",
    "ax.scatter(xxx, 320, lw=1, edgecolor='white', marker='o', s=45,facecolor='gray', zorder=100)\n",
    "\n",
    "X_exp = np.linspace(xxx-0.35,xxx+0.35, 3)\n",
    "Y1_exp = np.full(3, 285)\n",
    "Y2_exp = np.full(3, 355)\n",
    "ax.fill_between(X_exp, Y1_exp,  Y2_exp, alpha=0.25, color='k', lw=0 ,zorder=-6)\n",
    "Y1_exp = np.full(3, 250)\n",
    "Y2_exp = np.full(3, 390)\n",
    "ax.fill_between(X_exp, Y1_exp,  Y2_exp, alpha=0.1, color='k', lw=0 ,zorder=-6)\n",
    "\n",
    "\n",
    "color = [0.65]*3\n",
    "ax.text(xxx+0.5,320, '50th', ha='left', va='center', c=color, size=8)\n",
    "ax.text(xxx+0.5,355, '75th', ha='left', va='center', c=color, size=8)\n",
    "ax.text(xxx+0.5,390, '95th', ha='left', va='center', c=color, size=8)\n",
    "ax.text(xxx+0.5,285, '25th', ha='left', va='center', c=color, size=8)\n",
    "ax.text(xxx+0.5,250, '5th', ha='left', va='center', c=color, size=8)\n",
    "\n",
    "# ax.plot(x_values[2:-4], np.linspace(0,200,len(x_values[2:-4])))\n",
    "# fig.savefig('../figures/results/comp_time_v2.png', dpi=400, bbox_inches='tight')\n",
    "\n",
    "# fig.savefig('/Users/mackenziejewell/Desktop/timeseries.png', dpi=400, bbox_inches='tight')"
   ]
  },
  {
   "cell_type": "code",
   "execution_count": 2708,
   "id": "2d903aea",
   "metadata": {},
   "outputs": [
    {
     "name": "stdout",
     "output_type": "stream",
     "text": [
      "LinregressResult(slope=0.10180978744862008, intercept=64.96715296789742, rvalue=0.04173317142793885, pvalue=0.49712385802300685, stderr=0.1497292601468262, intercept_stderr=5.774189632024801)\n",
      "LinregressResult(slope=0.5508027638213583, intercept=20.571218069424866, rvalue=0.661087413070496, pvalue=1.5079575743729716e-35, stderr=0.03804481120190438, intercept_stderr=4.461326225401787)\n"
     ]
    },
    {
     "data": {
      "text/plain": [
       "[<matplotlib.lines.Line2D at 0x1ea89f8c0>]"
      ]
     },
     "execution_count": 2708,
     "metadata": {},
     "output_type": "execute_result"
    },
    {
     "data": {
      "image/png": "[encoded data removed]",
      "text/plain": [
       "<Figure size 200x200 with 1 Axes>"
      ]
     },
     "metadata": {},
     "output_type": "display_data"
    }
   ],
   "source": [
    "from scipy import stats\n",
    "\n",
    "fig, ax = plt.subplots(1,1,figsize=(2,2))\n",
    "\n",
    "XP = np.array([L.magnitude.item() for L in DF.X_Pease.values])\n",
    "XP_num = np.array([L.magnitude.item() for L in DF.X_Pease_num.values])\n",
    "\n",
    "# shoulder = ((DF['season_start_flag'])) #+ (east_maint==False)# + DF['season_end_flag']))# + DF['final_day'])\n",
    "\n",
    "COND = ((DF.length_145max>0) & (event_cond)) #& ((DF.event_day >=5)) #& (DF.sequence!=150)\n",
    "# COND = ((DF.length_145max>0) & (shoulder==False) ) #&(DF.event_day > 2) # & ((east_maint))\n",
    "# COND = ((DF.event_day > 2)& (shoulder==False) )\n",
    "\n",
    "# COND = ((DF.length_145max>0) & (event_cond)) & (east_maint)\n",
    "# COND = ((DF.length_145max>0) & (DF['season_start_flag']==False)) #& (DF.event_day == 3)\n",
    "\n",
    "\n",
    "#----------------\n",
    "x = XP[COND]\n",
    "y = DF.length_145max[COND].values\n",
    "\n",
    "x_nn = x[(np.isfinite(x))&(np.isfinite(y))]\n",
    "y_nn = y[(np.isfinite(x))&(np.isfinite(y))]\n",
    "\n",
    "resp = stats.linregress(x_nn,y_nn)\n",
    "print(resp)\n",
    "\n",
    "ax.scatter(x,y, s=20, c='dodgerblue',marker='D', lw=0.5, edgecolor='w')\n",
    "\n",
    "x_line = np.arange(0,200)\n",
    "y_line = resp.slope*x_line + resp.intercept\n",
    "# ax.plot(x_line, y_line, c='dodgerblue')\n",
    "\n",
    "#----------------\n",
    "x = DF.cum_drift[COND].values\n",
    "y = DF.length_145max[COND].values\n",
    "\n",
    "x_nn = x[(np.isfinite(x))&(np.isfinite(y))]\n",
    "y_nn = y[(np.isfinite(x))&(np.isfinite(y))]\n",
    "\n",
    "resp = stats.linregress(x_nn,y_nn)\n",
    "print(resp)\n",
    "ax.scatter(x,y,s=20, c='r',marker='s', lw=0.5, edgecolor='w')\n",
    "\n",
    "x_line = np.arange(0,500)\n",
    "y_line = resp.slope*x_line + resp.intercept\n",
    "ax.plot(x_line, y_line, c='r')\n",
    "\n",
    "\n",
    "\n",
    "\n",
    "# qh = plotter.quick_hist(DF.length_145max[COND].values, bin_edges=np.arange(0,400,10));\n",
    "# ax.barh(qh['centers'], qh['counts'], width=qh['w'], bottom = 450, clip_on=False, color='gray')\n",
    "\n",
    "# qh = plotter.quick_hist(XP[COND], bin_edges=np.arange(0,400,10));\n",
    "# ax.barh(qh['centers'], qh['counts'], height=qh['w'], left = 450, clip_on=False)\n",
    "\n",
    "# qh = plotter.quick_hist(DF.cum_drift[COND].values, bin_edges=np.arange(0,400,10));\n",
    "# ax.barh(qh['centers'], qh['counts'], height=qh['w'], left = 450, clip_on=False)\n",
    "\n",
    "# for ax in axs:\n",
    "#     ax.set_xlim(-10,450)\n",
    "#     ax.set_ylim(-10,450)\n",
    "\n",
    "# ax.set_xlim(-10,100)\n",
    "# ax.set_ylim(-10,100)\n",
    "\n",
    "# ax.scatter(DF.length_145max[COND].values, \n",
    "#            XP[COND]-DF.length_145max[COND].values, s=5)\n",
    "\n",
    "# ax.scatter(DF.length_145max[COND].values, \n",
    "#            XP[COND], s=5)\n",
    "\n",
    "\n",
    "# ax.scatter(XP[COND],XP_num[COND], s=5)\n",
    "\n",
    "# ax.set_ylim(-100,100)\n",
    "# ax.set_xlim(-100,500)\n",
    "\n",
    "# ax.plot([0,400],[0,400], c='k')"
   ]
  },
  {
   "cell_type": "code",
   "execution_count": 2636,
   "id": "ff506515",
   "metadata": {},
   "outputs": [
    {
     "data": {
      "text/plain": [
       "Index(['time', 'month', 'year', 'pre_2003', '2003_2023', 'compact', 'open',\n",
       "       'q1', 'q2', 'q3', 'q4', 'extent', 'length_145max', 'length_145min',\n",
       "       'length_145p95', 'length_145p5', 'length_max', 'centermass_length',\n",
       "       'centermass_direction', 'max_length_direction', 'width595', 'width',\n",
       "       'ai', 'si', 'ui', 'vi', 'a10', 's10', 'u10', 'v10', 't2m', 'msl',\n",
       "       'year_start', 'year_end', 'missing_sic', 'sequence', 'event_day',\n",
       "       'day_before_event', 'day_after_event', 'overlap_flag', 'single_day',\n",
       "       'season_start_flag', 'season_end_flag', 'first_day', 'final_day',\n",
       "       'peak_day', 'event_length', 'after_event_length', 'before_event_length',\n",
       "       'esei', 'ese10', 'si_km', 'a10_r', 'ai_r', 'centermass_direction_r',\n",
       "       'max_length_direction_r', 'up', 'vp', 'ta_wi', 'ta_ip', 'ta_wp',\n",
       "       'cum_drift', 'X_Pease', 'X_Pease_num', 'Vi', 'Fi', 't95'],\n",
       "      dtype='object')"
      ]
     },
     "execution_count": 2636,
     "metadata": {},
     "output_type": "execute_result"
    }
   ],
   "source": [
    "DF.keys()"
   ]
  },
  {
   "cell_type": "code",
   "execution_count": 2591,
   "id": "4cc43608",
   "metadata": {},
   "outputs": [
    {
     "data": {
      "text/plain": [
       "<matplotlib.collections.PathCollection at 0x1e7365f10>"
      ]
     },
     "execution_count": 2591,
     "metadata": {},
     "output_type": "execute_result"
    },
    {
     "data": {
      "image/png": "[encoded data removed]",
      "text/plain": [
       "<Figure size 200x200 with 1 Axes>"
      ]
     },
     "metadata": {},
     "output_type": "display_data"
    }
   ],
   "source": [
    "fig, ax = plt.subplots(1,1,figsize=(2,2))\n",
    "\n",
    "ax.scatter(DF.event_day[COND].values, [fi.item().magnitude for fi in DF.Fi[COND].values], s=1)"
   ]
  },
  {
   "cell_type": "code",
   "execution_count": null,
   "id": "4a74ac5b",
   "metadata": {},
   "outputs": [],
   "source": []
  },
  {
   "cell_type": "code",
   "execution_count": 2594,
   "id": "116562f8",
   "metadata": {},
   "outputs": [
    {
     "data": {
      "text/plain": [
       "array([13.06361049])"
      ]
     },
     "execution_count": 2594,
     "metadata": {},
     "output_type": "execute_result"
    }
   ],
   "source": [
    "np.nanmean(DF.Fi[COND].values)"
   ]
  },
  {
   "cell_type": "code",
   "execution_count": 2595,
   "id": "1cde04f0",
   "metadata": {},
   "outputs": [
    {
     "data": {
      "text/plain": [
       "array([5.40577898])"
      ]
     },
     "execution_count": 2595,
     "metadata": {},
     "output_type": "execute_result"
    }
   ],
   "source": [
    "np.nanstd(DF.Fi[COND].values)"
   ]
  },
  {
   "cell_type": "code",
   "execution_count": 2579,
   "id": "ebdf2538",
   "metadata": {},
   "outputs": [
    {
     "data": {
      "text/plain": [
       "array([<Quantity([4.5666446], 'centimeter / day')>,\n",
       "       <Quantity([12.38550097], 'centimeter / day')>,\n",
       "       <Quantity([16.47701998], 'centimeter / day')>,\n",
       "       <Quantity([20.52802131], 'centimeter / day')>,\n",
       "       <Quantity([15.63222021], 'centimeter / day')>,\n",
       "       <Quantity([8.64234063], 'centimeter / day')>,\n",
       "       <Quantity([18.81507508], 'centimeter / day')>,\n",
       "       <Quantity([20.44100001], 'centimeter / day')>,\n",
       "       <Quantity([17.73176817], 'centimeter / day')>,\n",
       "       <Quantity([14.16763969], 'centimeter / day')>,\n",
       "       <Quantity([9.96704089], 'centimeter / day')>,\n",
       "       <Quantity([8.5445987], 'centimeter / day')>,\n",
       "       <Quantity([14.95133412], 'centimeter / day')>,\n",
       "       <Quantity([18.98522454], 'centimeter / day')>,\n",
       "       <Quantity([22.2740352], 'centimeter / day')>,\n",
       "       <Quantity([22.49481184], 'centimeter / day')>,\n",
       "       <Quantity([21.09687517], 'centimeter / day')>,\n",
       "       <Quantity([19.57345913], 'centimeter / day')>,\n",
       "       <Quantity([19.56386644], 'centimeter / day')>,\n",
       "       <Quantity([17.98873609], 'centimeter / day')>,\n",
       "       <Quantity([17.23251836], 'centimeter / day')>,\n",
       "       <Quantity([18.3539894], 'centimeter / day')>,\n",
       "       <Quantity([17.42582423], 'centimeter / day')>,\n",
       "       <Quantity([23.24554421], 'centimeter / day')>,\n",
       "       <Quantity([20.43119879], 'centimeter / day')>,\n",
       "       <Quantity([10.69100504], 'centimeter / day')>,\n",
       "       <Quantity([17.20349226], 'centimeter / day')>,\n",
       "       <Quantity([13.09465382], 'centimeter / day')>,\n",
       "       <Quantity([13.28053724], 'centimeter / day')>,\n",
       "       <Quantity([26.38375919], 'centimeter / day')>,\n",
       "       <Quantity([27.58674836], 'centimeter / day')>,\n",
       "       <Quantity([25.82457933], 'centimeter / day')>,\n",
       "       <Quantity([25.13068857], 'centimeter / day')>,\n",
       "       <Quantity([20.7518387], 'centimeter / day')>,\n",
       "       <Quantity([13.13454134], 'centimeter / day')>,\n",
       "       <Quantity([18.25305285], 'centimeter / day')>,\n",
       "       <Quantity([17.34689029], 'centimeter / day')>,\n",
       "       <Quantity([17.75204325], 'centimeter / day')>,\n",
       "       <Quantity([16.62431777], 'centimeter / day')>,\n",
       "       <Quantity([18.01364314], 'centimeter / day')>,\n",
       "       <Quantity([16.9747004], 'centimeter / day')>,\n",
       "       <Quantity([13.66633909], 'centimeter / day')>,\n",
       "       <Quantity([14.10488603], 'centimeter / day')>,\n",
       "       <Quantity([14.34573003], 'centimeter / day')>,\n",
       "       <Quantity([14.06113713], 'centimeter / day')>,\n",
       "       <Quantity([14.04895462], 'centimeter / day')>,\n",
       "       <Quantity([11.49162054], 'centimeter / day')>,\n",
       "       <Quantity([11.74380013], 'centimeter / day')>,\n",
       "       <Quantity([25.51688323], 'centimeter / day')>,\n",
       "       <Quantity([11.16934784], 'centimeter / day')>,\n",
       "       <Quantity([11.65328028], 'centimeter / day')>,\n",
       "       <Quantity([11.34083582], 'centimeter / day')>,\n",
       "       <Quantity([13.41448951], 'centimeter / day')>,\n",
       "       <Quantity([14.67453061], 'centimeter / day')>,\n",
       "       <Quantity([12.59595468], 'centimeter / day')>,\n",
       "       <Quantity([16.20865225], 'centimeter / day')>,\n",
       "       <Quantity([6.93997677], 'centimeter / day')>,\n",
       "       <Quantity([0.8742344], 'centimeter / day')>,\n",
       "       <Quantity(0.0, 'centimeter / day')>,\n",
       "       <Quantity([16.55789183], 'centimeter / day')>,\n",
       "       <Quantity([12.83766508], 'centimeter / day')>,\n",
       "       <Quantity([23.40570402], 'centimeter / day')>,\n",
       "       <Quantity([17.41750732], 'centimeter / day')>,\n",
       "       <Quantity([14.61004266], 'centimeter / day')>,\n",
       "       <Quantity([3.40999588], 'centimeter / day')>,\n",
       "       <Quantity(0.0, 'centimeter / day')>,\n",
       "       <Quantity([1.23839621], 'centimeter / day')>,\n",
       "       <Quantity([20.83365664], 'centimeter / day')>,\n",
       "       <Quantity([23.23397566], 'centimeter / day')>,\n",
       "       <Quantity([8.01909531], 'centimeter / day')>,\n",
       "       <Quantity([8.02807142], 'centimeter / day')>,\n",
       "       <Quantity([17.15941243], 'centimeter / day')>,\n",
       "       <Quantity([12.90186718], 'centimeter / day')>,\n",
       "       <Quantity([11.18328503], 'centimeter / day')>,\n",
       "       <Quantity([17.49077089], 'centimeter / day')>,\n",
       "       <Quantity([14.27471117], 'centimeter / day')>,\n",
       "       <Quantity([8.38983226], 'centimeter / day')>,\n",
       "       <Quantity([12.50798809], 'centimeter / day')>,\n",
       "       <Quantity([11.01555286], 'centimeter / day')>,\n",
       "       <Quantity([11.01723597], 'centimeter / day')>,\n",
       "       <Quantity([11.31282635], 'centimeter / day')>,\n",
       "       <Quantity([14.66873597], 'centimeter / day')>,\n",
       "       <Quantity([16.67961231], 'centimeter / day')>,\n",
       "       <Quantity([18.26774536], 'centimeter / day')>,\n",
       "       <Quantity([18.18274742], 'centimeter / day')>,\n",
       "       <Quantity([20.1853253], 'centimeter / day')>,\n",
       "       <Quantity([22.1765133], 'centimeter / day')>,\n",
       "       <Quantity([20.39681056], 'centimeter / day')>,\n",
       "       <Quantity([21.84282042], 'centimeter / day')>,\n",
       "       <Quantity([13.84469503], 'centimeter / day')>,\n",
       "       <Quantity([11.97457279], 'centimeter / day')>,\n",
       "       <Quantity([18.42645416], 'centimeter / day')>,\n",
       "       <Quantity([17.26792223], 'centimeter / day')>,\n",
       "       <Quantity([17.22471178], 'centimeter / day')>,\n",
       "       <Quantity([16.88752346], 'centimeter / day')>,\n",
       "       <Quantity([16.04984662], 'centimeter / day')>,\n",
       "       <Quantity([16.61673298], 'centimeter / day')>,\n",
       "       <Quantity([17.11317158], 'centimeter / day')>,\n",
       "       <Quantity([18.47342537], 'centimeter / day')>,\n",
       "       <Quantity([9.75239792], 'centimeter / day')>,\n",
       "       <Quantity([6.93095641], 'centimeter / day')>,\n",
       "       <Quantity([13.39056374], 'centimeter / day')>,\n",
       "       <Quantity([13.11821835], 'centimeter / day')>,\n",
       "       <Quantity([13.01155915], 'centimeter / day')>,\n",
       "       <Quantity([2.74226744], 'centimeter / day')>,\n",
       "       <Quantity([2.90363019], 'centimeter / day')>,\n",
       "       <Quantity([15.66951741], 'centimeter / day')>,\n",
       "       <Quantity([11.12296919], 'centimeter / day')>,\n",
       "       <Quantity([11.88517885], 'centimeter / day')>,\n",
       "       <Quantity([13.72079508], 'centimeter / day')>,\n",
       "       <Quantity([12.22142779], 'centimeter / day')>,\n",
       "       <Quantity([6.77336554], 'centimeter / day')>,\n",
       "       <Quantity([13.93273474], 'centimeter / day')>,\n",
       "       <Quantity([11.50497666], 'centimeter / day')>,\n",
       "       <Quantity(0.0, 'centimeter / day')>,\n",
       "       <Quantity([15.47061698], 'centimeter / day')>,\n",
       "       <Quantity([14.27433111], 'centimeter / day')>,\n",
       "       <Quantity([10.74079696], 'centimeter / day')>,\n",
       "       <Quantity([10.00264062], 'centimeter / day')>,\n",
       "       <Quantity([8.13619743], 'centimeter / day')>,\n",
       "       <Quantity([17.17001782], 'centimeter / day')>,\n",
       "       <Quantity([16.1719362], 'centimeter / day')>,\n",
       "       <Quantity([13.02090152], 'centimeter / day')>,\n",
       "       <Quantity([8.98042676], 'centimeter / day')>,\n",
       "       <Quantity([10.73499062], 'centimeter / day')>,\n",
       "       <Quantity([14.36343733], 'centimeter / day')>,\n",
       "       <Quantity([17.27577371], 'centimeter / day')>,\n",
       "       <Quantity([19.11813533], 'centimeter / day')>,\n",
       "       <Quantity([18.12899339], 'centimeter / day')>,\n",
       "       <Quantity([16.32566213], 'centimeter / day')>,\n",
       "       <Quantity([16.78878391], 'centimeter / day')>,\n",
       "       <Quantity([12.25328206], 'centimeter / day')>,\n",
       "       <Quantity([17.06214779], 'centimeter / day')>,\n",
       "       <Quantity([17.12395036], 'centimeter / day')>,\n",
       "       <Quantity([14.17874098], 'centimeter / day')>,\n",
       "       <Quantity([15.46333199], 'centimeter / day')>,\n",
       "       <Quantity([13.09678359], 'centimeter / day')>,\n",
       "       <Quantity([9.02452524], 'centimeter / day')>,\n",
       "       <Quantity([12.80153404], 'centimeter / day')>,\n",
       "       <Quantity([12.30553869], 'centimeter / day')>,\n",
       "       <Quantity([12.24974741], 'centimeter / day')>,\n",
       "       <Quantity([9.0290398], 'centimeter / day')>,\n",
       "       <Quantity([10.44105861], 'centimeter / day')>,\n",
       "       <Quantity([11.1727862], 'centimeter / day')>,\n",
       "       <Quantity([11.65752727], 'centimeter / day')>,\n",
       "       <Quantity([12.32381399], 'centimeter / day')>,\n",
       "       <Quantity([13.68477446], 'centimeter / day')>,\n",
       "       <Quantity([18.28219585], 'centimeter / day')>,\n",
       "       <Quantity([10.32067445], 'centimeter / day')>,\n",
       "       <Quantity([6.5646245], 'centimeter / day')>,\n",
       "       <Quantity([11.61114088], 'centimeter / day')>,\n",
       "       <Quantity([10.01684306], 'centimeter / day')>,\n",
       "       <Quantity([8.12694908], 'centimeter / day')>,\n",
       "       <Quantity([9.53176125], 'centimeter / day')>,\n",
       "       <Quantity([6.95431345], 'centimeter / day')>,\n",
       "       <Quantity([5.20267458], 'centimeter / day')>,\n",
       "       <Quantity([6.37115997], 'centimeter / day')>,\n",
       "       <Quantity([4.51044951], 'centimeter / day')>,\n",
       "       <Quantity([5.82207308], 'centimeter / day')>,\n",
       "       <Quantity([5.70896028], 'centimeter / day')>,\n",
       "       <Quantity([5.43917273], 'centimeter / day')>,\n",
       "       <Quantity([13.60408371], 'centimeter / day')>,\n",
       "       <Quantity([12.15167478], 'centimeter / day')>,\n",
       "       <Quantity([9.71473502], 'centimeter / day')>,\n",
       "       <Quantity([11.71095117], 'centimeter / day')>,\n",
       "       <Quantity([9.72641437], 'centimeter / day')>,\n",
       "       <Quantity([8.90031404], 'centimeter / day')>,\n",
       "       <Quantity([8.86146627], 'centimeter / day')>,\n",
       "       <Quantity([8.98986091], 'centimeter / day')>,\n",
       "       <Quantity([6.07158813], 'centimeter / day')>,\n",
       "       <Quantity([3.21271211], 'centimeter / day')>,\n",
       "       <Quantity([12.50677578], 'centimeter / day')>,\n",
       "       <Quantity([16.373281], 'centimeter / day')>,\n",
       "       <Quantity([8.28812557], 'centimeter / day')>,\n",
       "       <Quantity([11.8022576], 'centimeter / day')>,\n",
       "       <Quantity([13.76936845], 'centimeter / day')>,\n",
       "       <Quantity([12.39341247], 'centimeter / day')>,\n",
       "       <Quantity([7.45070253], 'centimeter / day')>,\n",
       "       <Quantity([7.90449885], 'centimeter / day')>,\n",
       "       <Quantity([4.15981226], 'centimeter / day')>,\n",
       "       <Quantity([4.26849066], 'centimeter / day')>,\n",
       "       <Quantity([3.61431058], 'centimeter / day')>,\n",
       "       <Quantity([1.56151321], 'centimeter / day')>,\n",
       "       <Quantity(0.0, 'centimeter / day')>,\n",
       "       <Quantity([20.48935002], 'centimeter / day')>,\n",
       "       <Quantity([21.63658918], 'centimeter / day')>,\n",
       "       <Quantity([23.59746689], 'centimeter / day')>,\n",
       "       <Quantity([17.51376204], 'centimeter / day')>,\n",
       "       <Quantity([12.96602036], 'centimeter / day')>,\n",
       "       <Quantity([12.60081989], 'centimeter / day')>,\n",
       "       <Quantity([12.75769902], 'centimeter / day')>,\n",
       "       <Quantity([13.65864365], 'centimeter / day')>,\n",
       "       <Quantity([4.98734295], 'centimeter / day')>,\n",
       "       <Quantity([9.73071652], 'centimeter / day')>,\n",
       "       <Quantity([16.20399371], 'centimeter / day')>,\n",
       "       <Quantity([12.62096521], 'centimeter / day')>,\n",
       "       <Quantity([13.54607886], 'centimeter / day')>,\n",
       "       <Quantity([9.78403771], 'centimeter / day')>,\n",
       "       <Quantity([7.60382563], 'centimeter / day')>,\n",
       "       <Quantity([5.61350028], 'centimeter / day')>,\n",
       "       <Quantity([13.76400408], 'centimeter / day')>,\n",
       "       <Quantity([14.03192643], 'centimeter / day')>,\n",
       "       <Quantity([15.94621243], 'centimeter / day')>,\n",
       "       <Quantity([19.11169918], 'centimeter / day')>,\n",
       "       <Quantity([15.31945155], 'centimeter / day')>,\n",
       "       <Quantity([13.51192907], 'centimeter / day')>,\n",
       "       <Quantity([14.18717923], 'centimeter / day')>,\n",
       "       <Quantity([11.95029545], 'centimeter / day')>,\n",
       "       <Quantity([13.82697439], 'centimeter / day')>,\n",
       "       <Quantity([15.09288485], 'centimeter / day')>,\n",
       "       <Quantity([10.89782903], 'centimeter / day')>,\n",
       "       <Quantity([12.02423326], 'centimeter / day')>,\n",
       "       <Quantity(0.0, 'centimeter / day')>,\n",
       "       <Quantity([16.28550348], 'centimeter / day')>,\n",
       "       <Quantity([9.61819456], 'centimeter / day')>,\n",
       "       <Quantity([15.44551991], 'centimeter / day')>,\n",
       "       <Quantity([9.09879755], 'centimeter / day')>,\n",
       "       <Quantity([8.91144632], 'centimeter / day')>,\n",
       "       <Quantity([12.808573], 'centimeter / day')>,\n",
       "       <Quantity([12.20752662], 'centimeter / day')>,\n",
       "       <Quantity([11.05715626], 'centimeter / day')>,\n",
       "       <Quantity([12.19980822], 'centimeter / day')>,\n",
       "       <Quantity([6.28260538], 'centimeter / day')>,\n",
       "       <Quantity([1.354477], 'centimeter / day')>,\n",
       "       <Quantity([9.06108863], 'centimeter / day')>,\n",
       "       <Quantity([12.39412388], 'centimeter / day')>,\n",
       "       <Quantity([9.29409207], 'centimeter / day')>,\n",
       "       <Quantity([10.22424526], 'centimeter / day')>,\n",
       "       <Quantity([10.75891687], 'centimeter / day')>,\n",
       "       <Quantity([20.14987593], 'centimeter / day')>,\n",
       "       <Quantity([20.09015718], 'centimeter / day')>,\n",
       "       <Quantity([16.9033092], 'centimeter / day')>,\n",
       "       <Quantity([12.87612953], 'centimeter / day')>,\n",
       "       <Quantity([10.48639617], 'centimeter / day')>,\n",
       "       <Quantity([5.6374893], 'centimeter / day')>,\n",
       "       <Quantity([6.61552187], 'centimeter / day')>,\n",
       "       <Quantity([6.93700454], 'centimeter / day')>,\n",
       "       <Quantity([15.60094582], 'centimeter / day')>,\n",
       "       <Quantity([20.87564549], 'centimeter / day')>,\n",
       "       <Quantity([20.22102747], 'centimeter / day')>,\n",
       "       <Quantity([20.48456778], 'centimeter / day')>,\n",
       "       <Quantity([15.69069822], 'centimeter / day')>,\n",
       "       <Quantity([15.84748979], 'centimeter / day')>,\n",
       "       <Quantity([18.25270005], 'centimeter / day')>,\n",
       "       <Quantity([14.97518439], 'centimeter / day')>,\n",
       "       <Quantity([15.37371715], 'centimeter / day')>,\n",
       "       <Quantity([10.14595438], 'centimeter / day')>,\n",
       "       <Quantity([13.90000174], 'centimeter / day')>,\n",
       "       <Quantity([23.07615037], 'centimeter / day')>,\n",
       "       <Quantity([26.10035076], 'centimeter / day')>,\n",
       "       <Quantity([11.2890174], 'centimeter / day')>,\n",
       "       <Quantity([10.85082048], 'centimeter / day')>,\n",
       "       <Quantity([10.40378083], 'centimeter / day')>,\n",
       "       <Quantity([4.33767491], 'centimeter / day')>,\n",
       "       <Quantity([2.95608145], 'centimeter / day')>,\n",
       "       <Quantity([15.71164006], 'centimeter / day')>,\n",
       "       <Quantity([9.07447238], 'centimeter / day')>,\n",
       "       <Quantity([11.50020377], 'centimeter / day')>,\n",
       "       <Quantity([15.11901435], 'centimeter / day')>,\n",
       "       <Quantity([13.38665244], 'centimeter / day')>,\n",
       "       <Quantity([9.0947753], 'centimeter / day')>,\n",
       "       <Quantity([19.07768491], 'centimeter / day')>,\n",
       "       <Quantity([11.86677949], 'centimeter / day')>,\n",
       "       <Quantity([10.32005832], 'centimeter / day')>,\n",
       "       <Quantity([11.82217308], 'centimeter / day')>,\n",
       "       <Quantity([11.41438847], 'centimeter / day')>,\n",
       "       <Quantity([10.36508117], 'centimeter / day')>,\n",
       "       <Quantity([15.19377529], 'centimeter / day')>,\n",
       "       <Quantity([9.44224185], 'centimeter / day')>,\n",
       "       <Quantity([11.80089091], 'centimeter / day')>,\n",
       "       <Quantity([10.62634445], 'centimeter / day')>,\n",
       "       <Quantity([4.1402716], 'centimeter / day')>], dtype=object)"
      ]
     },
     "execution_count": 2579,
     "metadata": {},
     "output_type": "execute_result"
    }
   ],
   "source": [
    "DF.Fi[COND].values"
   ]
  },
  {
   "cell_type": "code",
   "execution_count": 2576,
   "id": "c8525b41",
   "metadata": {},
   "outputs": [
    {
     "data": {
      "text/plain": [
       "array([12.93394377])"
      ]
     },
     "execution_count": 2576,
     "metadata": {},
     "output_type": "execute_result"
    }
   ],
   "source": [
    "np.nanpercentile(DF.Fi[COND], 50)"
   ]
  },
  {
   "cell_type": "code",
   "execution_count": 2572,
   "id": "1a622c17",
   "metadata": {},
   "outputs": [
    {
     "data": {
      "text/plain": [
       "6.0"
      ]
     },
     "execution_count": 2572,
     "metadata": {},
     "output_type": "execute_result"
    }
   ],
   "source": [
    "np.nanpercentile(DF.event_day[COND], 90)"
   ]
  },
  {
   "cell_type": "code",
   "execution_count": 2561,
   "id": "291e5658",
   "metadata": {},
   "outputs": [
    {
     "data": {
      "text/plain": [
       "array([ 59.0347988 ,  91.3779223 , 117.86689243, 149.25974908,\n",
       "       188.25058768, 219.99446988, 247.57548898, 265.0766825 ,\n",
       "       293.27423401, 335.7924906 , 382.11920563, 401.71157748])"
      ]
     },
     "execution_count": 2561,
     "metadata": {},
     "output_type": "execute_result"
    }
   ],
   "source": [
    "DF.cum_drift[COND&(DF.sequence==150)].values\n"
   ]
  },
  {
   "cell_type": "code",
   "execution_count": null,
   "id": "fa6df389",
   "metadata": {},
   "outputs": [],
   "source": [
    "DF.cum_drift[COND&(DF.sequence==150)].values\n"
   ]
  },
  {
   "cell_type": "code",
   "execution_count": 2699,
   "id": "1b2cf66d",
   "metadata": {},
   "outputs": [
    {
     "data": {
      "text/plain": [
       "<matplotlib.lines.Line2D at 0x1ea703500>"
      ]
     },
     "execution_count": 2699,
     "metadata": {},
     "output_type": "execute_result"
    },
    {
     "data": {
      "image/png": "[encoded data removed]",
      "text/plain": [
       "<Figure size 300x200 with 1 Axes>"
      ]
     },
     "metadata": {},
     "output_type": "display_data"
    }
   ],
   "source": [
    "fig, ax = plt.subplots(figsize=(3,2))\n",
    "plt.hist(DF.length_145max[COND].values-DF.cum_drift[COND].values, bins=np.arange(-400,400,10), alpha=0.6)\n",
    "ax.axvline(np.nanmean(DF.length_145max[COND].values-DF.cum_drift[COND].values), c='b')\n",
    "\n",
    "plt.hist(DF.length_145max[COND].values-XP[COND], bins=np.arange(-400,400,10), alpha=0.6)\n",
    "ax.axvline(np.nanmean(DF.length_145max[COND].values-XP[COND]), c='r')\n",
    "\n",
    "\n",
    "# plt.hist(DF.length_145max[COND].values, bins=np.arange(0,500,5))"
   ]
  },
  {
   "cell_type": "code",
   "execution_count": null,
   "id": "4bfec40b",
   "metadata": {},
   "outputs": [],
   "source": []
  },
  {
   "cell_type": "code",
   "execution_count": 2556,
   "id": "87aca41e",
   "metadata": {},
   "outputs": [
    {
     "data": {
      "text/plain": [
       "array([27.90970201])"
      ]
     },
     "execution_count": 2556,
     "metadata": {},
     "output_type": "execute_result"
    }
   ],
   "source": [
    "np.nanmean(DF.Vi[COND].values)"
   ]
  },
  {
   "cell_type": "code",
   "execution_count": null,
   "id": "57cfd8dc",
   "metadata": {},
   "outputs": [],
   "source": []
  },
  {
   "cell_type": "code",
   "execution_count": 2549,
   "id": "091d9e3f",
   "metadata": {},
   "outputs": [
    {
     "data": {
      "text/plain": [
       "64.1833469863569"
      ]
     },
     "execution_count": 2549,
     "metadata": {},
     "output_type": "execute_result"
    }
   ],
   "source": []
  },
  {
   "cell_type": "code",
   "execution_count": 2600,
   "id": "a2d8d1e2",
   "metadata": {},
   "outputs": [
    {
     "data": {
      "text/plain": [
       "44.675539678973095"
      ]
     },
     "execution_count": 2600,
     "metadata": {},
     "output_type": "execute_result"
    }
   ],
   "source": [
    "np.nanmedian(DF.length_145max[COND].values)"
   ]
  },
  {
   "cell_type": "code",
   "execution_count": 2599,
   "id": "203ebdf8",
   "metadata": {},
   "outputs": [
    {
     "data": {
      "text/plain": [
       "57.038935363769525"
      ]
     },
     "execution_count": 2599,
     "metadata": {},
     "output_type": "execute_result"
    }
   ],
   "source": [
    "np.nanmedian(DF.cum_drift[COND].values)"
   ]
  },
  {
   "cell_type": "code",
   "execution_count": 2597,
   "id": "b408a181",
   "metadata": {},
   "outputs": [
    {
     "data": {
      "text/plain": [
       "array([19.89632191])"
      ]
     },
     "execution_count": 2597,
     "metadata": {},
     "output_type": "execute_result"
    }
   ],
   "source": [
    "np.nanmedian(DF.X_Pease[COND].values)"
   ]
  },
  {
   "cell_type": "code",
   "execution_count": 2553,
   "id": "5c5e317d",
   "metadata": {},
   "outputs": [
    {
     "data": {
      "text/plain": [
       "array([27.57409146])"
      ]
     },
     "execution_count": 2553,
     "metadata": {},
     "output_type": "execute_result"
    }
   ],
   "source": [
    "np.nanstd(DF.X_Pease[COND].values)"
   ]
  },
  {
   "cell_type": "code",
   "execution_count": null,
   "id": "e55b4a9d",
   "metadata": {},
   "outputs": [],
   "source": [
    "86.2\n",
    "64.1"
   ]
  },
  {
   "cell_type": "code",
   "execution_count": 2068,
   "id": "1363ffbb",
   "metadata": {},
   "outputs": [
    {
     "data": {
      "text/plain": [
       "25.238602015648038"
      ]
     },
     "execution_count": 2068,
     "metadata": {},
     "output_type": "execute_result"
    }
   ],
   "source": [
    "np.nanpercentile(DF.length_145max[COND], 50)"
   ]
  },
  {
   "cell_type": "code",
   "execution_count": 2069,
   "id": "f1707b19",
   "metadata": {},
   "outputs": [
    {
     "data": {
      "text/plain": [
       "26.235862426757812"
      ]
     },
     "execution_count": 2069,
     "metadata": {},
     "output_type": "execute_result"
    }
   ],
   "source": [
    "np.nanpercentile(DF.cum_drift[COND], 50)"
   ]
  },
  {
   "cell_type": "code",
   "execution_count": 2074,
   "id": "9d29ea9b",
   "metadata": {},
   "outputs": [
    {
     "data": {
      "text/plain": [
       "20.770552015325013"
      ]
     },
     "execution_count": 2074,
     "metadata": {},
     "output_type": "execute_result"
    }
   ],
   "source": [
    "np.nanpercentile(XP[COND], 50)"
   ]
  },
  {
   "cell_type": "code",
   "execution_count": 2598,
   "id": "444b0e49",
   "metadata": {},
   "outputs": [
    {
     "data": {
      "text/plain": [
       "0.9191176470588235"
      ]
     },
     "execution_count": 2598,
     "metadata": {},
     "output_type": "execute_result"
    }
   ],
   "source": [
    "np.sum((XP[COND] < 50) & (XP[COND] > 0))/np.sum(COND)"
   ]
  },
  {
   "cell_type": "code",
   "execution_count": 2601,
   "id": "c8da4eef",
   "metadata": {},
   "outputs": [
    {
     "data": {
      "text/plain": [
       "0.44485294117647056"
      ]
     },
     "execution_count": 2601,
     "metadata": {},
     "output_type": "execute_result"
    }
   ],
   "source": [
    "np.sum((DF.length_145max[COND] > 50) & (DF.length_145max[COND] > 0))/np.sum(COND)"
   ]
  },
  {
   "cell_type": "code",
   "execution_count": 2602,
   "id": "b92741dc",
   "metadata": {},
   "outputs": [
    {
     "data": {
      "text/plain": [
       "0.5735294117647058"
      ]
     },
     "execution_count": 2602,
     "metadata": {},
     "output_type": "execute_result"
    }
   ],
   "source": [
    "np.sum((DF.cum_drift[COND] > 50) & (DF.cum_drift[COND] > 0))/np.sum(COND)"
   ]
  },
  {
   "cell_type": "code",
   "execution_count": 2705,
   "id": "37cda07f",
   "metadata": {},
   "outputs": [
    {
     "name": "stdout",
     "output_type": "stream",
     "text": [
      "RMSE\n",
      "latent: 148.63240670751355\n",
      "sensible: 133.28133790557115\n",
      "\n",
      "BIAS\n",
      "latent: 95.32538801137136\n",
      "sensible: 86.88295430970327\n"
     ]
    }
   ],
   "source": [
    "\n",
    "# RMSE\n",
    "#-----\n",
    "print('RMSE')\n",
    "print('latent:', np.sqrt(np.nanmean((DF.length_145max[COND].values-XP[COND])**2)))\n",
    "print('sensible:', np.sqrt(np.nanmean((DF.length_145max[COND].values-DF.cum_drift[COND].values)**2)))\n",
    "print()\n",
    "# bias\n",
    "#-----\n",
    "print('BIAS')\n",
    "print('latent:', np.nanstd(XP[COND]-DF.length_145max[COND].values))\n",
    "print('sensible:', np.nanmean(DF.cum_drift[COND].values-DF.length_145max[COND].values))\n"
   ]
  },
  {
   "cell_type": "code",
   "execution_count": 2709,
   "id": "d3f21855",
   "metadata": {},
   "outputs": [
    {
     "data": {
      "text/plain": [
       "array([ 21.31254556,  69.11673653, 146.07142685, 153.98544433,\n",
       "       153.98544433, 294.19657385, 382.18709315, 150.03147587,\n",
       "       167.60947147, 226.13969408, 258.16312977, 338.19436769,\n",
       "       346.99149169])"
      ]
     },
     "execution_count": 2709,
     "metadata": {},
     "output_type": "execute_result"
    }
   ],
   "source": [
    "DF.length_145max[COND*(DF.sequence==150)].values"
   ]
  },
  {
   "cell_type": "code",
   "execution_count": 2710,
   "id": "f4d1630f",
   "metadata": {},
   "outputs": [
    {
     "data": {
      "text/plain": [
       "array([ 28.46841257,  59.0347988 ,  91.3779223 , 117.86689243,\n",
       "       149.25974908, 188.25058768, 219.99446988, 247.57548898,\n",
       "       265.0766825 , 293.27423401, 335.7924906 , 382.11920563,\n",
       "       401.71157748])"
      ]
     },
     "execution_count": 2710,
     "metadata": {},
     "output_type": "execute_result"
    }
   ],
   "source": [
    "DF.cum_drift[COND*(DF.sequence==150)].values"
   ]
  },
  {
   "cell_type": "code",
   "execution_count": 2712,
   "id": "2d6a8c18",
   "metadata": {},
   "outputs": [
    {
     "data": {
      "text/plain": [
       "<matplotlib.collections.PathCollection at 0x1ea9391f0>"
      ]
     },
     "execution_count": 2712,
     "metadata": {},
     "output_type": "execute_result"
    },
    {
     "data": {
      "image/png": "[encoded data removed]",
      "text/plain": [
       "<Figure size 300x300 with 1 Axes>"
      ]
     },
     "metadata": {},
     "output_type": "display_data"
    }
   ],
   "source": [
    "fig, ax = plt.subplots(figsize=(3,3))\n",
    "\n",
    "ax.scatter(DF.event_day[COND*(DF.sequence==150)].values, \n",
    "           DF.length_145max[COND*(DF.sequence==150)].values/DF.cum_drift[COND*(DF.sequence==150)].values)"
   ]
  },
  {
   "cell_type": "code",
   "execution_count": null,
   "id": "203f4d4b",
   "metadata": {},
   "outputs": [],
   "source": []
  },
  {
   "cell_type": "code",
   "execution_count": 2706,
   "id": "d78c10b4",
   "metadata": {},
   "outputs": [
    {
     "data": {
      "text/plain": [
       "145.11272818255287"
      ]
     },
     "execution_count": 2706,
     "metadata": {},
     "output_type": "execute_result"
    }
   ],
   "source": [
    "np.nanmean(DF.length_145max[COND].values)"
   ]
  },
  {
   "cell_type": "code",
   "execution_count": 2679,
   "id": "9a89d4fb",
   "metadata": {},
   "outputs": [
    {
     "name": "stdout",
     "output_type": "stream",
     "text": [
      "0.6107784431137725\n"
     ]
    }
   ],
   "source": [
    "OBS = DF.length_145max[COND].values\n",
    "LAT = XP[COND]\n",
    "SEN = DF.cum_drift[COND].values\n",
    "\n",
    "print(np.sum((OBS > LAT)&(OBS < SEN))/ len(OBS))"
   ]
  },
  {
   "cell_type": "code",
   "execution_count": 2677,
   "id": "48e05504",
   "metadata": {},
   "outputs": [
    {
     "data": {
      "text/plain": [
       "0.6107784431137725"
      ]
     },
     "execution_count": 2677,
     "metadata": {},
     "output_type": "execute_result"
    }
   ],
   "source": [
    "np.sum((OBS > LAT)&(OBS < SEN))/ len(OBS)"
   ]
  },
  {
   "cell_type": "code",
   "execution_count": null,
   "id": "72434f7b",
   "metadata": {},
   "outputs": [],
   "source": [
    "np.nanmean(abs(XP[COND]-DF.length_145max[COND].values))"
   ]
  },
  {
   "cell_type": "code",
   "execution_count": 2606,
   "id": "3225bdb5",
   "metadata": {},
   "outputs": [
    {
     "data": {
      "text/plain": [
       "39.636445598468676"
      ]
     },
     "execution_count": 2606,
     "metadata": {},
     "output_type": "execute_result"
    }
   ],
   "source": [
    "np.nanmean(abs(DF.cum_drift[COND].values-DF.length_145max[COND].values))"
   ]
  },
  {
   "cell_type": "code",
   "execution_count": 1095,
   "id": "b26c7524",
   "metadata": {},
   "outputs": [],
   "source": [
    "# XP_withQr = XP\n",
    "\n",
    "# XP_noQr = XP"
   ]
  },
  {
   "cell_type": "code",
   "execution_count": 2523,
   "id": "2f3ceff6",
   "metadata": {},
   "outputs": [
    {
     "data": {
      "text/plain": [
       "5.227290307040703"
      ]
     },
     "execution_count": 2523,
     "metadata": {},
     "output_type": "execute_result"
    }
   ],
   "source": [
    "np.nanmean(np.abs(XP[COND]-XP_noQr[COND]))"
   ]
  },
  {
   "cell_type": "code",
   "execution_count": 2524,
   "id": "568be9d0",
   "metadata": {},
   "outputs": [
    {
     "data": {
      "text/plain": [
       "17.516818665533467"
      ]
     },
     "execution_count": 2524,
     "metadata": {},
     "output_type": "execute_result"
    }
   ],
   "source": [
    "np.sqrt(np.nanmean((XP[COND]-XP_noQr[COND])**2))"
   ]
  },
  {
   "cell_type": "code",
   "execution_count": 1804,
   "id": "b98b9f2a",
   "metadata": {},
   "outputs": [
    {
     "data": {
      "text/plain": [
       "<matplotlib.collections.PathCollection at 0x1bede44a0>"
      ]
     },
     "execution_count": 1804,
     "metadata": {},
     "output_type": "execute_result"
    },
    {
     "data": {
      "image/png": "[encoded data removed]",
      "text/plain": [
       "<Figure size 300x300 with 1 Axes>"
      ]
     },
     "metadata": {},
     "output_type": "display_data"
    }
   ],
   "source": [
    "fig, ax = plt.subplots(figsize=(3,3))\n",
    "\n",
    "ax.scatter(XP[COND], XP_noQr[COND], s=1)\n",
    "\n",
    "# ax.set_xlim(-50,100)\n",
    "\n",
    "# ax.plot([-50,100], [-50,100], c='k', zorder=-1)"
   ]
  },
  {
   "cell_type": "code",
   "execution_count": 2714,
   "id": "ad9636c6",
   "metadata": {},
   "outputs": [
    {
     "data": {
      "text/plain": [
       "Index(['time', 'month', 'year', 'pre_2003', '2003_2023', 'compact', 'open',\n",
       "       'q1', 'q2', 'q3', 'q4', 'extent', 'length_145max', 'length_145min',\n",
       "       'length_145p95', 'length_145p5', 'length_max', 'centermass_length',\n",
       "       'centermass_direction', 'max_length_direction', 'width595', 'width',\n",
       "       'ai', 'si', 'ui', 'vi', 'a10', 's10', 'u10', 'v10', 't2m', 'msl',\n",
       "       'year_start', 'year_end', 'missing_sic', 'sequence', 'event_day',\n",
       "       'day_before_event', 'day_after_event', 'overlap_flag', 'single_day',\n",
       "       'season_start_flag', 'season_end_flag', 'first_day', 'final_day',\n",
       "       'peak_day', 'event_length', 'after_event_length', 'before_event_length',\n",
       "       'esei', 'ese10', 'si_km', 'a10_r', 'ai_r', 'centermass_direction_r',\n",
       "       'max_length_direction_r', 'up', 'vp', 'ta_wi', 'ta_ip', 'ta_wp',\n",
       "       'cum_drift', 'X_Pease', 'X_Pease_num', 'Vi', 'Fi', 't95'],\n",
       "      dtype='object')"
      ]
     },
     "execution_count": 2714,
     "metadata": {},
     "output_type": "execute_result"
    }
   ],
   "source": [
    "DF.keys()"
   ]
  },
  {
   "cell_type": "code",
   "execution_count": 2719,
   "id": "61237a18",
   "metadata": {},
   "outputs": [
    {
     "data": {
      "image/png": "[encoded data removed]",
      "text/plain": [
       "<Figure size 300x300 with 1 Axes>"
      ]
     },
     "metadata": {},
     "output_type": "display_data"
    }
   ],
   "source": [
    "fig, ax = plt.subplots(figsize=(3,3))\n",
    "\n",
    "\n",
    "\n",
    "# ax.set_ylim(-10,100)\n",
    "# ax.set_xlim(-10,200)\n",
    "\n",
    "# ax.scatter(DF.length_145max[COND][:-1], np.diff(DF.length_145max[COND])/DF.Vi[COND][:-1].values, s=5)\n",
    "# ax.scatter(DF.event_day[COND][:-1], np.diff(DF.length_145max[COND]), s=5)\n",
    "\n",
    "# ax.scatter(DF.event_day[COND], DF.length_145max[COND], s=5)\n",
    "\n",
    "\n",
    "# ax.scatter(DF.event_day[COND], DF.width595[COND], s=5)\n",
    "\n",
    "for dd in range(1,15):\n",
    "\n",
    "    X = dd\n",
    "    Y = DF.width595[COND&(DF.event_day==dd)]\n",
    "    \n",
    "    ax.scatter(X, np.nanmedian(Y), s=30, c='k')\n",
    "    ax.plot([X,X], [np.nanpercentile(Y,25),np.nanpercentile(Y,75)], c='k')\n",
    "    \n",
    "    \n",
    "    X = dd\n",
    "    Y = DF.length_145max[COND&(DF.event_day==dd)]\n",
    "    \n",
    "    ax.scatter(X, np.nanmedian(Y), s=30, c='r')\n",
    "    ax.plot([X,X], [np.nanpercentile(Y,25),np.nanpercentile(Y,75)], c='r')"
   ]
  },
  {
   "cell_type": "code",
   "execution_count": 1185,
   "id": "ec7b3184",
   "metadata": {},
   "outputs": [
    {
     "data": {
      "text/plain": [
       "[<matplotlib.lines.Line2D at 0x182d0f590>]"
      ]
     },
     "execution_count": 1185,
     "metadata": {},
     "output_type": "execute_result"
    },
    {
     "data": {
      "image/png": "[encoded data removed]",
      "text/plain": [
       "<Figure size 300x300 with 1 Axes>"
      ]
     },
     "metadata": {},
     "output_type": "display_data"
    }
   ],
   "source": [
    "fig, ax = plt.subplots(figsize=(3,3))\n",
    "\n",
    "ax.scatter(XP_withQr[COND], XP[COND], s=1)\n",
    "\n",
    "ax.set_xlim(-50,100)\n",
    "\n",
    "ax.plot([-50,100], [-50,100], c='k', zorder=-1)"
   ]
  },
  {
   "cell_type": "code",
   "execution_count": null,
   "id": "7cf11499",
   "metadata": {},
   "outputs": [],
   "source": []
  },
  {
   "cell_type": "code",
   "execution_count": null,
   "id": "a82445de",
   "metadata": {},
   "outputs": [],
   "source": [
    "np.sqrt(np.nanmean((XP_withQr-XP)**2))"
   ]
  },
  {
   "cell_type": "code",
   "execution_count": 1957,
   "id": "dce4a3b9",
   "metadata": {},
   "outputs": [
    {
     "data": {
      "text/plain": [
       "Series([], Name: Vi, dtype: object)"
      ]
     },
     "execution_count": 1957,
     "metadata": {},
     "output_type": "execute_result"
    }
   ],
   "source": [
    "DF.Vi[COND][XP[COND]<-50]"
   ]
  },
  {
   "cell_type": "code",
   "execution_count": 1950,
   "id": "0d388def",
   "metadata": {},
   "outputs": [
    {
     "data": {
      "text/plain": [
       "4526    1.146401\n",
       "5559   -0.073848\n",
       "Name: u10, dtype: float64"
      ]
     },
     "execution_count": 1950,
     "metadata": {},
     "output_type": "execute_result"
    }
   ],
   "source": [
    "DF.u10[COND][XP[COND]<-50]"
   ]
  },
  {
   "cell_type": "code",
   "execution_count": 1944,
   "id": "f95c91f3",
   "metadata": {},
   "outputs": [
    {
     "data": {
      "text/plain": [
       "4526      [0.6876023466172345 centimeter / day]\n",
       "5559    [0.026361243589330403 centimeter / day]\n",
       "Name: Fi, dtype: object"
      ]
     },
     "execution_count": 1944,
     "metadata": {},
     "output_type": "execute_result"
    }
   ],
   "source": [
    "DF.Fi[COND][XP[COND]<-50]"
   ]
  },
  {
   "cell_type": "code",
   "execution_count": 1759,
   "id": "1900e581",
   "metadata": {},
   "outputs": [
    {
     "data": {
      "text/plain": [
       "5559    [1138.034322938481 day]\n",
       "Name: t95, dtype: object"
      ]
     },
     "execution_count": 1759,
     "metadata": {},
     "output_type": "execute_result"
    }
   ],
   "source": [
    "DF.t95[COND][XP[COND]<-150]"
   ]
  },
  {
   "cell_type": "code",
   "execution_count": 1761,
   "id": "9d23b3ad",
   "metadata": {},
   "outputs": [
    {
     "data": {
      "text/plain": [
       "5559    2024-03-24\n",
       "Name: time, dtype: object"
      ]
     },
     "execution_count": 1761,
     "metadata": {},
     "output_type": "execute_result"
    }
   ],
   "source": [
    "DF.time[COND][XP[COND]<-150]"
   ]
  },
  {
   "cell_type": "code",
   "execution_count": null,
   "id": "03f24638",
   "metadata": {},
   "outputs": [],
   "source": [
    "XP_withQr"
   ]
  },
  {
   "cell_type": "code",
   "execution_count": 981,
   "id": "0c0821a6",
   "metadata": {},
   "outputs": [
    {
     "data": {
      "text/plain": [
       "2278     [6.569374807312997 day]\n",
       "2279     [9.516435532467884 day]\n",
       "2290     [2.422187046103416 day]\n",
       "2291    [1.8207175835173253 day]\n",
       "2292     [4.260369239491712 day]\n",
       "                  ...           \n",
       "5707    [3.1772115642164245 day]\n",
       "5708    [2.5421809455154243 day]\n",
       "5709    [2.8231721771753118 day]\n",
       "5710    [2.8352650315655237 day]\n",
       "5731     [7.245901455919325 day]\n",
       "Name: t95, Length: 492, dtype: object"
      ]
     },
     "execution_count": 981,
     "metadata": {},
     "output_type": "execute_result"
    }
   ],
   "source": [
    "DF.t95[COND]"
   ]
  },
  {
   "cell_type": "code",
   "execution_count": 662,
   "id": "285b804a",
   "metadata": {},
   "outputs": [
    {
     "data": {
      "text/plain": [
       "0.9891891891891892"
      ]
     },
     "execution_count": 662,
     "metadata": {},
     "output_type": "execute_result"
    }
   ],
   "source": [
    "np.sum(abs(XP[COND])<400) / len(XP[COND])"
   ]
  },
  {
   "cell_type": "code",
   "execution_count": 663,
   "id": "3d665e02",
   "metadata": {},
   "outputs": [
    {
     "data": {
      "text/plain": [
       "10"
      ]
     },
     "execution_count": 663,
     "metadata": {},
     "output_type": "execute_result"
    }
   ],
   "source": [
    "np.sum(XP[COND]<-100)"
   ]
  },
  {
   "cell_type": "code",
   "execution_count": 664,
   "id": "2f2f06ba",
   "metadata": {},
   "outputs": [
    {
     "data": {
      "text/plain": [
       "1.0"
      ]
     },
     "execution_count": 664,
     "metadata": {},
     "output_type": "execute_result"
    }
   ],
   "source": [
    "np.sum(abs(XP_num[COND])<150) / len(XP_num[COND])"
   ]
  },
  {
   "cell_type": "code",
   "execution_count": 665,
   "id": "1cb75658",
   "metadata": {},
   "outputs": [
    {
     "data": {
      "text/plain": [
       "array([ -45.02091422,  -23.03068619,  -18.73039995, ...,  154.74111679,\n",
       "       -109.40901186,  101.41193819])"
      ]
     },
     "execution_count": 665,
     "metadata": {},
     "output_type": "execute_result"
    }
   ],
   "source": [
    "XP"
   ]
  },
  {
   "cell_type": "code",
   "execution_count": 482,
   "id": "fd356ef9",
   "metadata": {},
   "outputs": [
    {
     "data": {
      "text/plain": [
       "array([-14.81389767, -15.23175532,  -9.10228428, ...,  12.71111915,\n",
       "        10.40709023,  17.28503266])"
      ]
     },
     "execution_count": 482,
     "metadata": {},
     "output_type": "execute_result"
    }
   ],
   "source": [
    "XP = np.array([L.magnitude.item() for L in DF.X_Pease_num.values])\n",
    "\n",
    "XP"
   ]
  },
  {
   "cell_type": "code",
   "execution_count": 457,
   "id": "5cd7d95d",
   "metadata": {},
   "outputs": [
    {
     "data": {
      "text/plain": [
       "array(['2007-04-19', '2007-04-20', '2007-04-25', '2008-04-24',\n",
       "       '2008-04-25', '2008-04-26', '2017-04-22', '2019-03-25',\n",
       "       '2019-03-26', '2019-04-15', '2021-04-27', '2022-04-17',\n",
       "       '2022-04-22', '2024-03-24'], dtype=object)"
      ]
     },
     "execution_count": 457,
     "metadata": {},
     "output_type": "execute_result"
    }
   ],
   "source": [
    "DF.time.values[COND][abs(XP[COND]) > 300]"
   ]
  },
  {
   "cell_type": "code",
   "execution_count": 447,
   "id": "76cb031c",
   "metadata": {},
   "outputs": [
    {
     "data": {
      "text/plain": [
       "array([ 2590.59049475,  1484.66749957,   684.51276863,   650.52957251,\n",
       "         929.45559834,  1981.78966711,   502.34291569,   861.23936547,\n",
       "         514.09157743, 32402.7399303 ,   514.47867188,  1568.69451692,\n",
       "        6318.21891594,   522.32109746,  1991.5808353 ,  7802.32150583,\n",
       "        1709.23456645,   694.77745278,  1442.52831934,  2321.3679126 ,\n",
       "         517.62776875,   658.9567646 ,   630.29864202,  4014.84844486,\n",
       "        2597.19863857,   645.34512661,  3284.50378152,  2146.67801561,\n",
       "        2974.26671362])"
      ]
     },
     "execution_count": 447,
     "metadata": {},
     "output_type": "execute_result"
    }
   ],
   "source": [
    "\n",
    "\n",
    "    \n",
    "# ax = axs[1]\n",
    "# # ax.set_ylabel('Polynya\\nlength\\n($\\\\times\\mathrm{km}$)', rotation=0, labelpad=25, va='center')\n",
    "# VAR = 'Vi'\n",
    "# # ax.set_ylim(0,15)\n",
    "# wd_per = {}\n",
    "# percents = [5,10,25,50,75,90,95]\n",
    "# for per in percents:\n",
    "#     wd_per[per] = np.array([])\n",
    "    \n",
    "# for dd, cond in zip(x_values, all_cond):\n",
    "    \n",
    "#     for per in percents:\n",
    "#         wd_per[per] = np.append(wd_per[per], np.nanpercentile(DF[VAR][cond], per))\n",
    "\n",
    "# color = 'k'\n",
    "# # ax.plot(x_values, wd_per[50], lw=1, c=color, zorder=-4)\n",
    "# ax.scatter(x_values, wd_per[50], lw=1.5, edgecolor=color, marker='o', facecolor='None', zorder=1)\n",
    "# ax.fill_between(x_values, wd_per[5], wd_per[95], alpha=0.1, color=color, lw=0, zorder=-4)\n",
    "# ax.fill_between(x_values, wd_per[25], wd_per[75], alpha=0.2, color=color, lw=0 ,zorder=-4)\n",
    "\n",
    "\n",
    "\n",
    "# Change the color of specific y-axis tick labels\n",
    "# for i, label in enumerate(xtick_labels):\n",
    "#     if (i >=3)&(i<11):  # Change every other y-axis label to green\n",
    "#         label.set_color(color1)\n",
    "#     else:\n",
    "#         label.set_color(color2)\n",
    "\n",
    "        \n",
    "# ax = axs[0]\n",
    "\n",
    "# yy = 200\n",
    "# ax.plot([0.8,8.2], [yy,yy], c=color1, lw=5, clip_on=False)\n",
    "# ax.text(4.5,yy+7, 'During event', weight='bold', c=color1, va='bottom', ha='center', clip_on=False)\n",
    "# ax.plot([-2.4,0.2], [yy,yy], c=color2, lw=5, clip_on=False)\n",
    "# ax.text(-1,yy+7, 'Before', weight='bold', c=color2, va='bottom', ha='center', clip_on=False)\n",
    "# ax.plot([8.8,10.4], [yy,yy], c=color2, lw=5, clip_on=False)\n",
    "# ax.text(9.75,yy+7, 'After', weight='bold', c=color2, va='bottom', ha='center', clip_on=False)\n",
    "\n",
    "\n",
    "# axs[1].set_ylabel('Easterly\\nwind event\\nprobability', rotation=0, labelpad=30)\n",
    "# # axs[3].set_ylabel('Alongshore\\nice drift\\nprobability', rotation=0, labelpad=30)\n",
    "\n",
    "# ax = axs[1]\n",
    "\n",
    "# for ax, cat in zip(axs[1:2], ['wind', 'ice']):\n",
    "    \n",
    "#     wind_prob = np.array([])\n",
    "#     for dd, cond in zip(x_values, all_cond):\n",
    "#         cond1 = cond & (dir_conds(DF, cat))#& speed_conds(DF, cat)\n",
    "#         wind_prob = np.append(wind_prob, np.sum(cond1)/np.sum(cond))\n",
    "        \n",
    "#     width = 0.75    \n",
    "        \n",
    "#     ax.bar(x_values[4:-3], wind_prob[4:-3], width=width,color = color1, ls='solid',  alpha=0.5, zorder=1)\n",
    "#     ax.bar(x_values[:4], wind_prob[:4],width=width, color = color2, ls='solid',  alpha=0.5, zorder=1)\n",
    "#     ax.bar(x_values[-3:], wind_prob[-3:],width=width, color = color2, ls='solid',  alpha=0.5, zorder=1)\n",
    "    \n",
    "    \n",
    "#     ax.bar(x_values[4:-3], wind_prob[4:-3], width=width,facecolor='None', edgecolor = color1, ls='solid', lw=1.5, alpha=1, zorder=1)\n",
    "#     ax.bar(x_values[:4], wind_prob[:4], width=width,facecolor='None', edgecolor = color2, ls='solid', lw=1.5, alpha=1, zorder=1)\n",
    "#     ax.bar(x_values[-3:], wind_prob[-3:], width=width,facecolor='None', edgecolor = color2, ls='solid', lw=1.5, alpha=1, zorder=1)\n",
    "    \n",
    "#     ax.plot(x_values, wind_prob, color = 'k', ls='solid', marker='s', alpha=1, zorder=1)\n",
    "\n",
    "# cond = comp_\n",
    "# cond1 = cond & (dir_conds(DF, cat)&speed_conds(DF, cat))\n",
    "# ax.axhline(np.sum(cond1)/np.sum(cond), ls='dashed', lw=1.5,  c = 'k', zorder=2)\n",
    "\n",
    "# ax.scatter(x_values+lo, category[50], lw=3, edgecolor='white', marker='o', s=30,facecolor='None', zorder=100)\n",
    "# ax.scatter(x_values+lo, category[50], lw=1.5, edgecolor=color, marker='o', s=30,facecolor='None', zorder=100)\n",
    "\n",
    "# ax.plot(x_values, category[25],alpha=1, color=color, lw=0.5, ls='dashed', zorder=-4)\n",
    "# ax.plot(x_values, category[75],alpha=1, color=color, lw=0.5, ls='dashed', zorder=-4)\n",
    "\n",
    "\n",
    "\n",
    "\n",
    "\n",
    "# for dd, low, high, exlow, exhigh, med in zip(x_values, obs_pers[25], obs_pers[75], obs_pers[5], obs_pers[95], obs_pers[50]):\n",
    "#     rect = Rectangle((dd+lo-wi/2, exlow), wi, exhigh-exlow, facecolor='white',\n",
    "#                      edgecolor=color, linewidth=0.5, alpha=1, zorder=0)\n",
    "#     ax.add_patch(rect)\n",
    "    \n",
    "#     rect = Rectangle((dd+lo-wi/2, exlow), wi, exhigh-exlow, color=color, edgecolor='None', linewidth=0, alpha=0.0)\n",
    "#     ax.add_patch(rect)\n",
    "    \n",
    "#     rect = Rectangle((dd+lo-wi/2, low), wi, high-low, color=color, edgecolor='None', linewidth=0, alpha=0.25)\n",
    "#     ax.add_patch(rect)\n",
    "    \n",
    "#     rect = Rectangle((dd+lo-wi/2, med-hi/2), wi, hi, color=color, edgecolor='None', linewidth=0, alpha=1, zorder=100)\n",
    "#     ax.add_patch(rect)\n",
    "\n",
    "\n",
    "# data = [DF[VAR][cond].values for cond in all_cond]\n",
    "# ax.violinplot(data, showmeans=True, positions=x_values, showmedians=True)\n",
    "\n",
    "    \n",
    "# lo = 0\n",
    "# ax.scatter(x_values+lo, obs_pers[50], lw=3, edgecolor='white', marker='o', s=30,facecolor='None', zorder=100)\n",
    "# ax.scatter(x_values+lo, obs_pers[50], lw=1.5, edgecolor=color, marker='o', s=30,facecolor='None', zorder=100)\n",
    "\n",
    "# ax.plot(x_values+lo, obs_pers[50], lw=1, c=color, ls='solid',   zorder=99)\n",
    "\n",
    "# ax.fill_between(x_values, obs_pers[5], obs_pers[95], alpha=0.15, color=color, lw=0, zorder=-4)\n",
    "\n",
    "# ax.plot(x_values, obs_pers[5],alpha=1, color=color, lw=0.5, ls='dashed', zorder=-4)\n",
    "# ax.plot(x_values, obs_pers[95],alpha=1, color=color, lw=0.5, ls='dashed', zorder=-4)\n",
    "# ax.fill_between(x_values, obs_pers[25], obs_pers[75], alpha=0.25, color=color, lw=0 ,zorder=-4)\n",
    "\n",
    "\n",
    "# for dd, low, high, exlow, exhigh, med in zip(x_values, obs_pers[25], obs_pers[75], obs_pers[5], obs_pers[95], obs_pers[50]):\n",
    "#     rect = Rectangle((dd+lo-wi/2, exlow), wi, exhigh-exlow, facecolor='white',\n",
    "#                      edgecolor=color, linewidth=0.5, alpha=1, zorder=0)\n",
    "#     ax.add_patch(rect)\n",
    "    \n",
    "#     rect = Rectangle((dd+lo-wi/2, exlow), wi, exhigh-exlow, color=color, edgecolor='None', linewidth=0, alpha=0.0)\n",
    "#     ax.add_patch(rect)\n",
    "    \n",
    "#     rect = Rectangle((dd+lo-wi/2, low), wi, high-low, color=color, edgecolor='None', linewidth=0, alpha=0.25)\n",
    "#     ax.add_patch(rect)\n",
    "    \n",
    "#     rect = Rectangle((dd+lo-wi/2, med-hi/2), wi, hi, color=color, edgecolor='None', linewidth=0, alpha=1, zorder=100)\n",
    "#     ax.add_patch(rect)\n"
   ]
  },
  {
   "cell_type": "code",
   "execution_count": 429,
   "id": "0df07e9d",
   "metadata": {},
   "outputs": [
    {
     "data": {
      "text/plain": [
       "array(['2002-12-01', '2002-12-02', '2002-12-03', ..., '2025-04-28',\n",
       "       '2025-04-29', '2025-04-30'], dtype=object)"
      ]
     },
     "execution_count": 429,
     "metadata": {},
     "output_type": "execute_result"
    }
   ],
   "source": [
    "DF.time.values"
   ]
  },
  {
   "cell_type": "code",
   "execution_count": 414,
   "id": "09fe7a78",
   "metadata": {},
   "outputs": [
    {
     "data": {
      "text/plain": [
       "array([<Quantity([-90.04182845], 'kilometer')>,\n",
       "       <Quantity([94.8131877], 'kilometer')>,\n",
       "       <Quantity([40.37365894], 'kilometer')>,\n",
       "       <Quantity([44.47048438], 'kilometer')>,\n",
       "       <Quantity([46.74406821], 'kilometer')>,\n",
       "       <Quantity([47.34267548], 'kilometer')>,\n",
       "       <Quantity([34.13558082], 'kilometer')>,\n",
       "       <Quantity([39.36303979], 'kilometer')>,\n",
       "       <Quantity([42.91316793], 'kilometer')>,\n",
       "       <Quantity([26.19212904], 'kilometer')>,\n",
       "       <Quantity([33.66552228], 'kilometer')>,\n",
       "       <Quantity([37.40496968], 'kilometer')>,\n",
       "       <Quantity([41.96391523], 'kilometer')>,\n",
       "       <Quantity([31.846942], 'kilometer')>,\n",
       "       <Quantity([29.01672549], 'kilometer')>,\n",
       "       <Quantity([30.42367434], 'kilometer')>,\n",
       "       <Quantity([37.66980512], 'kilometer')>,\n",
       "       <Quantity([-31.10379388], 'kilometer')>,\n",
       "       <Quantity([34.9551612], 'kilometer')>,\n",
       "       <Quantity([35.71106933], 'kilometer')>,\n",
       "       <Quantity([53.13058553], 'kilometer')>,\n",
       "       <Quantity([-36.94181129], 'kilometer')>,\n",
       "       <Quantity([-106.01173464], 'kilometer')>,\n",
       "       <Quantity([35.0548133], 'kilometer')>,\n",
       "       <Quantity([34.01448021], 'kilometer')>,\n",
       "       <Quantity([36.27289142], 'kilometer')>,\n",
       "       <Quantity([36.86545263], 'kilometer')>,\n",
       "       <Quantity([35.44750531], 'kilometer')>,\n",
       "       <Quantity([33.62133423], 'kilometer')>,\n",
       "       <Quantity([30.71085707], 'kilometer')>,\n",
       "       <Quantity([29.42115836], 'kilometer')>,\n",
       "       <Quantity([30.72017087], 'kilometer')>,\n",
       "       <Quantity([33.57008356], 'kilometer')>,\n",
       "       <Quantity([39.01147393], 'kilometer')>,\n",
       "       <Quantity([38.14141273], 'kilometer')>,\n",
       "       <Quantity([32.07502263], 'kilometer')>,\n",
       "       <Quantity([26.40047683], 'kilometer')>,\n",
       "       <Quantity([31.91126669], 'kilometer')>,\n",
       "       <Quantity([40.86624159], 'kilometer')>,\n",
       "       <Quantity([40.78859562], 'kilometer')>,\n",
       "       <Quantity([33.28444801], 'kilometer')>,\n",
       "       <Quantity([33.94421968], 'kilometer')>,\n",
       "       <Quantity([32.41270522], 'kilometer')>,\n",
       "       <Quantity([28.4417476], 'kilometer')>,\n",
       "       <Quantity([22.43396246], 'kilometer')>,\n",
       "       <Quantity([29.33295137], 'kilometer')>,\n",
       "       <Quantity([27.83770311], 'kilometer')>,\n",
       "       <Quantity([27.4122709], 'kilometer')>,\n",
       "       <Quantity([24.14525064], 'kilometer')>,\n",
       "       <Quantity([28.95101652], 'kilometer')>,\n",
       "       <Quantity([23.42187713], 'kilometer')>,\n",
       "       <Quantity([28.46449057], 'kilometer')>,\n",
       "       <Quantity([28.96697097], 'kilometer')>,\n",
       "       <Quantity([28.9000148], 'kilometer')>,\n",
       "       <Quantity([29.74114527], 'kilometer')>,\n",
       "       <Quantity([35.21868878], 'kilometer')>,\n",
       "       <Quantity([35.17297547], 'kilometer')>,\n",
       "       <Quantity([-65.24005204], 'kilometer')>,\n",
       "       <Quantity([26.99410323], 'kilometer')>,\n",
       "       <Quantity([6.45209122], 'kilometer')>,\n",
       "       <Quantity([32.26518845], 'kilometer')>,\n",
       "       <Quantity([34.05704663], 'kilometer')>,\n",
       "       <Quantity([33.42658088], 'kilometer')>,\n",
       "       <Quantity([37.27216907], 'kilometer')>,\n",
       "       <Quantity([39.11785952], 'kilometer')>,\n",
       "       <Quantity([12.43530496], 'kilometer')>,\n",
       "       <Quantity([39.1891476], 'kilometer')>,\n",
       "       <Quantity([36.19091993], 'kilometer')>,\n",
       "       <Quantity([35.71322834], 'kilometer')>,\n",
       "       <Quantity([36.76012446], 'kilometer')>,\n",
       "       <Quantity([38.01956385], 'kilometer')>,\n",
       "       <Quantity([42.38406555], 'kilometer')>,\n",
       "       <Quantity([26.49257272], 'kilometer')>,\n",
       "       <Quantity([45.12317461], 'kilometer')>,\n",
       "       <Quantity([46.77635383], 'kilometer')>,\n",
       "       <Quantity([55.69851217], 'kilometer')>,\n",
       "       <Quantity([42.98114558], 'kilometer')>,\n",
       "       <Quantity([44.2693355], 'kilometer')>,\n",
       "       <Quantity([44.45315928], 'kilometer')>,\n",
       "       <Quantity([15.98525584], 'kilometer')>,\n",
       "       <Quantity([34.68794894], 'kilometer')>,\n",
       "       <Quantity([71.88109453], 'kilometer')>,\n",
       "       <Quantity([650.52957251], 'kilometer')>,\n",
       "       <Quantity([-313.11843452], 'kilometer')>,\n",
       "       <Quantity([-55.68358239], 'kilometer')>,\n",
       "       <Quantity([-57.4229207], 'kilometer')>,\n",
       "       <Quantity([-162.37096735], 'kilometer')>,\n",
       "       <Quantity([-169.39820236], 'kilometer')>,\n",
       "       <Quantity([-334.43807121], 'kilometer')>,\n",
       "       <Quantity([163.79980861], 'kilometer')>,\n",
       "       <Quantity([176.39025359], 'kilometer')>,\n",
       "       <Quantity([218.48727234], 'kilometer')>,\n",
       "       <Quantity([95.61044345], 'kilometer')>,\n",
       "       <Quantity([80.93161579], 'kilometer')>,\n",
       "       <Quantity([63.47467163], 'kilometer')>,\n",
       "       <Quantity([45.79422335], 'kilometer')>,\n",
       "       <Quantity([35.84185969], 'kilometer')>,\n",
       "       <Quantity([38.8904672], 'kilometer')>,\n",
       "       <Quantity([68.08141795], 'kilometer')>,\n",
       "       <Quantity([58.1246943], 'kilometer')>,\n",
       "       <Quantity([59.21043373], 'kilometer')>,\n",
       "       <Quantity([54.30310413], 'kilometer')>,\n",
       "       <Quantity([56.13851479], 'kilometer')>,\n",
       "       <Quantity([49.39525232], 'kilometer')>,\n",
       "       <Quantity([-40.05841757], 'kilometer')>,\n",
       "       <Quantity([28.18045847], 'kilometer')>,\n",
       "       <Quantity([33.05337268], 'kilometer')>,\n",
       "       <Quantity([34.75889793], 'kilometer')>,\n",
       "       <Quantity([36.98381887], 'kilometer')>,\n",
       "       <Quantity([29.33283107], 'kilometer')>,\n",
       "       <Quantity([31.92442998], 'kilometer')>,\n",
       "       <Quantity([29.01075118], 'kilometer')>,\n",
       "       <Quantity([29.74705828], 'kilometer')>,\n",
       "       <Quantity([34.17298714], 'kilometer')>,\n",
       "       <Quantity([66.31538188], 'kilometer')>,\n",
       "       <Quantity([195.70602557], 'kilometer')>,\n",
       "       <Quantity([-818.42345983], 'kilometer')>,\n",
       "       <Quantity([418.3552834], 'kilometer')>,\n",
       "       <Quantity([-391.49113538], 'kilometer')>,\n",
       "       <Quantity([32.30861178], 'kilometer')>,\n",
       "       <Quantity([32.3025011], 'kilometer')>,\n",
       "       <Quantity([-13.41460837], 'kilometer')>,\n",
       "       <Quantity([47.98928742], 'kilometer')>,\n",
       "       <Quantity([51.74632174], 'kilometer')>,\n",
       "       <Quantity([32.27900051], 'kilometer')>,\n",
       "       <Quantity([21.49522838], 'kilometer')>,\n",
       "       <Quantity([-3.99815377], 'kilometer')>,\n",
       "       <Quantity([34.46655245], 'kilometer')>,\n",
       "       <Quantity([39.79264382], 'kilometer')>,\n",
       "       <Quantity([37.56113148], 'kilometer')>,\n",
       "       <Quantity([44.19021581], 'kilometer')>,\n",
       "       <Quantity([41.00462467], 'kilometer')>,\n",
       "       <Quantity([36.59687212], 'kilometer')>,\n",
       "       <Quantity([39.55627956], 'kilometer')>,\n",
       "       <Quantity([41.27997606], 'kilometer')>,\n",
       "       <Quantity([31.8347279], 'kilometer')>,\n",
       "       <Quantity([-22.98424015], 'kilometer')>,\n",
       "       <Quantity([26.71227241], 'kilometer')>,\n",
       "       <Quantity([29.01750865], 'kilometer')>,\n",
       "       <Quantity([30.0864215], 'kilometer')>,\n",
       "       <Quantity([49.24423863], 'kilometer')>,\n",
       "       <Quantity([56.33505389], 'kilometer')>,\n",
       "       <Quantity([43.82312295], 'kilometer')>,\n",
       "       <Quantity([-30.8544665], 'kilometer')>,\n",
       "       <Quantity([31.31552702], 'kilometer')>,\n",
       "       <Quantity([35.06751692], 'kilometer')>,\n",
       "       <Quantity([30.33176188], 'kilometer')>,\n",
       "       <Quantity([25.01984827], 'kilometer')>,\n",
       "       <Quantity([34.78716457], 'kilometer')>,\n",
       "       <Quantity([32.7085761], 'kilometer')>,\n",
       "       <Quantity([25.592797], 'kilometer')>,\n",
       "       <Quantity([30.26395849], 'kilometer')>,\n",
       "       <Quantity([31.39761371], 'kilometer')>,\n",
       "       <Quantity([36.2184161], 'kilometer')>,\n",
       "       <Quantity([47.49022762], 'kilometer')>,\n",
       "       <Quantity([38.76801898], 'kilometer')>,\n",
       "       <Quantity([43.62632843], 'kilometer')>,\n",
       "       <Quantity([36.08014944], 'kilometer')>,\n",
       "       <Quantity([39.20002419], 'kilometer')>,\n",
       "       <Quantity([41.46821601], 'kilometer')>,\n",
       "       <Quantity([37.27272506], 'kilometer')>,\n",
       "       <Quantity([34.91180497], 'kilometer')>,\n",
       "       <Quantity([38.27741282], 'kilometer')>,\n",
       "       <Quantity([42.59076271], 'kilometer')>,\n",
       "       <Quantity([41.8603625], 'kilometer')>,\n",
       "       <Quantity([29.82535285], 'kilometer')>,\n",
       "       <Quantity([-23.34533525], 'kilometer')>,\n",
       "       <Quantity([42.24359498], 'kilometer')>,\n",
       "       <Quantity([49.39572341], 'kilometer')>,\n",
       "       <Quantity([55.81187366], 'kilometer')>,\n",
       "       <Quantity([35.27852465], 'kilometer')>,\n",
       "       <Quantity([34.79399732], 'kilometer')>,\n",
       "       <Quantity([50.45045436], 'kilometer')>,\n",
       "       <Quantity([49.74441139], 'kilometer')>,\n",
       "       <Quantity([-49.64075199], 'kilometer')>,\n",
       "       <Quantity([-120.04241934], 'kilometer')>,\n",
       "       <Quantity([-63.77875279], 'kilometer')>,\n",
       "       <Quantity([-37.83466631], 'kilometer')>,\n",
       "       <Quantity([209.52207842], 'kilometer')>,\n",
       "       <Quantity([159.15751925], 'kilometer')>,\n",
       "       <Quantity([36.18828329], 'kilometer')>,\n",
       "       <Quantity([38.22057181], 'kilometer')>,\n",
       "       <Quantity([30.69872256], 'kilometer')>,\n",
       "       <Quantity([-24.16968175], 'kilometer')>,\n",
       "       <Quantity([36.09870886], 'kilometer')>,\n",
       "       <Quantity([34.13821818], 'kilometer')>,\n",
       "       <Quantity([47.54025073], 'kilometer')>,\n",
       "       <Quantity([-35.87848239], 'kilometer')>,\n",
       "       <Quantity([53.09374566], 'kilometer')>,\n",
       "       <Quantity([-68.17177574], 'kilometer')>,\n",
       "       <Quantity([52.10777777], 'kilometer')>,\n",
       "       <Quantity([53.71986397], 'kilometer')>,\n",
       "       <Quantity([-102.87894588], 'kilometer')>,\n",
       "       <Quantity([-44.32331836], 'kilometer')>,\n",
       "       <Quantity([-39.50020704], 'kilometer')>,\n",
       "       <Quantity([32.34386243], 'kilometer')>,\n",
       "       <Quantity([35.54891807], 'kilometer')>,\n",
       "       <Quantity([37.28463898], 'kilometer')>,\n",
       "       <Quantity([38.37328881], 'kilometer')>,\n",
       "       <Quantity([63.23880194], 'kilometer')>,\n",
       "       <Quantity([59.97999363], 'kilometer')>,\n",
       "       <Quantity([42.1222641], 'kilometer')>,\n",
       "       <Quantity([46.07175748], 'kilometer')>,\n",
       "       <Quantity([47.49544424], 'kilometer')>,\n",
       "       <Quantity([50.47453068], 'kilometer')>,\n",
       "       <Quantity([46.35773433], 'kilometer')>,\n",
       "       <Quantity([35.08799348], 'kilometer')>,\n",
       "       <Quantity([32.47345747], 'kilometer')>,\n",
       "       <Quantity([27.91793049], 'kilometer')>,\n",
       "       <Quantity([26.26694965], 'kilometer')>,\n",
       "       <Quantity([28.07504516], 'kilometer')>,\n",
       "       <Quantity([31.44838244], 'kilometer')>,\n",
       "       <Quantity([37.64078247], 'kilometer')>,\n",
       "       <Quantity([48.91059259], 'kilometer')>,\n",
       "       <Quantity([40.22929989], 'kilometer')>,\n",
       "       <Quantity([44.29759346], 'kilometer')>,\n",
       "       <Quantity([43.25487554], 'kilometer')>,\n",
       "       <Quantity([33.78652644], 'kilometer')>,\n",
       "       <Quantity([31.0862765], 'kilometer')>,\n",
       "       <Quantity([28.39480843], 'kilometer')>,\n",
       "       <Quantity([34.59442657], 'kilometer')>,\n",
       "       <Quantity([79.46190121], 'kilometer')>,\n",
       "       <Quantity([62.02130983], 'kilometer')>,\n",
       "       <Quantity([59.37899798], 'kilometer')>,\n",
       "       <Quantity([56.53823723], 'kilometer')>,\n",
       "       <Quantity([46.76827226], 'kilometer')>,\n",
       "       <Quantity([41.61399205], 'kilometer')>,\n",
       "       <Quantity([48.90405088], 'kilometer')>,\n",
       "       <Quantity([51.05295591], 'kilometer')>,\n",
       "       <Quantity([38.80942451], 'kilometer')>,\n",
       "       <Quantity([35.23703765], 'kilometer')>,\n",
       "       <Quantity([35.22794204], 'kilometer')>,\n",
       "       <Quantity([35.96486614], 'kilometer')>,\n",
       "       <Quantity([34.2288172], 'kilometer')>,\n",
       "       <Quantity([56.32974544], 'kilometer')>,\n",
       "       <Quantity([67.10248927], 'kilometer')>,\n",
       "       <Quantity([64.74264334], 'kilometer')>,\n",
       "       <Quantity([73.73731475], 'kilometer')>,\n",
       "       <Quantity([80.33267416], 'kilometer')>,\n",
       "       <Quantity([75.13832038], 'kilometer')>,\n",
       "       <Quantity([101.06738069], 'kilometer')>,\n",
       "       <Quantity([127.6399773], 'kilometer')>,\n",
       "       <Quantity([128.04244425], 'kilometer')>,\n",
       "       <Quantity([135.44981713], 'kilometer')>,\n",
       "       <Quantity([91.66607321], 'kilometer')>,\n",
       "       <Quantity([97.28713668], 'kilometer')>,\n",
       "       <Quantity([80.46771223], 'kilometer')>,\n",
       "       <Quantity([98.73646207], 'kilometer')>,\n",
       "       <Quantity([318.25795954], 'kilometer')>,\n",
       "       <Quantity([514.47867188], 'kilometer')>,\n",
       "       <Quantity([1568.69451692], 'kilometer')>,\n",
       "       <Quantity([-1062.16138867], 'kilometer')>,\n",
       "       <Quantity([-323.31792077], 'kilometer')>,\n",
       "       <Quantity([-90.86573389], 'kilometer')>,\n",
       "       <Quantity([-114.1296427], 'kilometer')>,\n",
       "       <Quantity([-187.56072643], 'kilometer')>,\n",
       "       <Quantity([-156.92259045], 'kilometer')>,\n",
       "       <Quantity([-89.60974694], 'kilometer')>,\n",
       "       <Quantity([-64.20328604], 'kilometer')>,\n",
       "       <Quantity([-45.63323694], 'kilometer')>,\n",
       "       <Quantity([29.08487503], 'kilometer')>,\n",
       "       <Quantity([30.40949356], 'kilometer')>,\n",
       "       <Quantity([37.50100323], 'kilometer')>,\n",
       "       <Quantity([41.95519043], 'kilometer')>,\n",
       "       <Quantity([40.142788], 'kilometer')>,\n",
       "       <Quantity([39.96231779], 'kilometer')>,\n",
       "       <Quantity([21.83126694], 'kilometer')>,\n",
       "       <Quantity([25.89936873], 'kilometer')>,\n",
       "       <Quantity([34.32660268], 'kilometer')>,\n",
       "       <Quantity([69.13785556], 'kilometer')>,\n",
       "       <Quantity([74.62195545], 'kilometer')>,\n",
       "       <Quantity([72.14409935], 'kilometer')>,\n",
       "       <Quantity([67.01398532], 'kilometer')>,\n",
       "       <Quantity([90.73895709], 'kilometer')>,\n",
       "       <Quantity([139.98276478], 'kilometer')>,\n",
       "       <Quantity([161.14408318], 'kilometer')>,\n",
       "       <Quantity([120.59120758], 'kilometer')>,\n",
       "       <Quantity([83.26367752], 'kilometer')>,\n",
       "       <Quantity([87.79176588], 'kilometer')>,\n",
       "       <Quantity([137.20676884], 'kilometer')>,\n",
       "       <Quantity([-166.10050528], 'kilometer')>,\n",
       "       <Quantity([-689.61600783], 'kilometer')>,\n",
       "       <Quantity([37.83990986], 'kilometer')>,\n",
       "       <Quantity([29.58473544], 'kilometer')>,\n",
       "       <Quantity([42.04736984], 'kilometer')>,\n",
       "       <Quantity([34.78595242], 'kilometer')>,\n",
       "       <Quantity([38.02761184], 'kilometer')>,\n",
       "       <Quantity([33.24538216], 'kilometer')>,\n",
       "       <Quantity([37.78649457], 'kilometer')>,\n",
       "       <Quantity([38.21271799], 'kilometer')>,\n",
       "       <Quantity([41.15312484], 'kilometer')>,\n",
       "       <Quantity([46.14297832], 'kilometer')>,\n",
       "       <Quantity([33.81160587], 'kilometer')>,\n",
       "       <Quantity([35.59069822], 'kilometer')>,\n",
       "       <Quantity([28.78617783], 'kilometer')>,\n",
       "       <Quantity([24.12618937], 'kilometer')>,\n",
       "       <Quantity([28.80431326], 'kilometer')>,\n",
       "       <Quantity([29.90919388], 'kilometer')>,\n",
       "       <Quantity([-60.38560799], 'kilometer')>,\n",
       "       <Quantity([-82.93599465], 'kilometer')>,\n",
       "       <Quantity([89.70295802], 'kilometer')>,\n",
       "       <Quantity([74.54686754], 'kilometer')>,\n",
       "       <Quantity([55.80743532], 'kilometer')>,\n",
       "       <Quantity([-16.62088584], 'kilometer')>,\n",
       "       <Quantity([-48.32798073], 'kilometer')>,\n",
       "       <Quantity([34.73199394], 'kilometer')>,\n",
       "       <Quantity([28.26688104], 'kilometer')>,\n",
       "       <Quantity([41.0213841], 'kilometer')>,\n",
       "       <Quantity([32.53833431], 'kilometer')>,\n",
       "       <Quantity([30.20378735], 'kilometer')>,\n",
       "       <Quantity([28.969562], 'kilometer')>,\n",
       "       <Quantity([31.54893916], 'kilometer')>,\n",
       "       <Quantity([29.90809438], 'kilometer')>,\n",
       "       <Quantity([36.16875878], 'kilometer')>,\n",
       "       <Quantity([49.93663209], 'kilometer')>,\n",
       "       <Quantity([2.36869086], 'kilometer')>,\n",
       "       <Quantity([1.58776779], 'kilometer')>,\n",
       "       <Quantity([33.4858286], 'kilometer')>,\n",
       "       <Quantity([44.58856316], 'kilometer')>,\n",
       "       <Quantity([41.00524826], 'kilometer')>,\n",
       "       <Quantity([36.56558031], 'kilometer')>,\n",
       "       <Quantity([38.6686814], 'kilometer')>,\n",
       "       <Quantity([48.76076141], 'kilometer')>,\n",
       "       <Quantity([44.97874077], 'kilometer')>,\n",
       "       <Quantity([52.65815731], 'kilometer')>,\n",
       "       <Quantity([68.63902105], 'kilometer')>,\n",
       "       <Quantity([69.3492699], 'kilometer')>,\n",
       "       <Quantity([88.21693131], 'kilometer')>,\n",
       "       <Quantity([98.29774245], 'kilometer')>,\n",
       "       <Quantity([155.24669846], 'kilometer')>,\n",
       "       <Quantity([295.80152301], 'kilometer')>,\n",
       "       <Quantity([-398.7350068], 'kilometer')>,\n",
       "       <Quantity([24.62805681], 'kilometer')>,\n",
       "       <Quantity([29.93828277], 'kilometer')>,\n",
       "       <Quantity([28.24990016], 'kilometer')>,\n",
       "       <Quantity([29.86076209], 'kilometer')>,\n",
       "       <Quantity([41.84117539], 'kilometer')>,\n",
       "       <Quantity([47.21109159], 'kilometer')>,\n",
       "       <Quantity([52.525497], 'kilometer')>,\n",
       "       <Quantity([41.20644515], 'kilometer')>,\n",
       "       <Quantity([27.85321311], 'kilometer')>,\n",
       "       <Quantity([30.69759483], 'kilometer')>,\n",
       "       <Quantity([34.61436208], 'kilometer')>,\n",
       "       <Quantity([42.1610977], 'kilometer')>,\n",
       "       <Quantity([27.23092164], 'kilometer')>,\n",
       "       <Quantity([2.70975305], 'kilometer')>,\n",
       "       <Quantity([60.61184641], 'kilometer')>,\n",
       "       <Quantity([52.57461381], 'kilometer')>,\n",
       "       <Quantity([85.27817165], 'kilometer')>,\n",
       "       <Quantity([139.30091407], 'kilometer')>,\n",
       "       <Quantity([79.12506125], 'kilometer')>,\n",
       "       <Quantity([306.7567451], 'kilometer')>,\n",
       "       <Quantity([-534.67915425], 'kilometer')>,\n",
       "       <Quantity([100.31288554], 'kilometer')>,\n",
       "       <Quantity([1709.23456645], 'kilometer')>,\n",
       "       <Quantity([49.23244599], 'kilometer')>,\n",
       "       <Quantity([38.55522887], 'kilometer')>,\n",
       "       <Quantity([44.49303231], 'kilometer')>,\n",
       "       <Quantity([59.07647987], 'kilometer')>,\n",
       "       <Quantity([69.95652265], 'kilometer')>,\n",
       "       <Quantity([77.17844887], 'kilometer')>,\n",
       "       <Quantity([74.38702671], 'kilometer')>,\n",
       "       <Quantity([51.19028273], 'kilometer')>,\n",
       "       <Quantity([56.06316751], 'kilometer')>,\n",
       "       <Quantity([54.10210156], 'kilometer')>,\n",
       "       <Quantity([46.8478676], 'kilometer')>,\n",
       "       <Quantity([35.12910259], 'kilometer')>,\n",
       "       <Quantity([-14.36496678], 'kilometer')>,\n",
       "       <Quantity([78.92903857], 'kilometer')>,\n",
       "       <Quantity([112.8568511], 'kilometer')>,\n",
       "       <Quantity([40.70853274], 'kilometer')>,\n",
       "       <Quantity([50.57249542], 'kilometer')>,\n",
       "       <Quantity([30.66255062], 'kilometer')>,\n",
       "       <Quantity([33.81787825], 'kilometer')>,\n",
       "       <Quantity([34.57887851], 'kilometer')>,\n",
       "       <Quantity([28.71651913], 'kilometer')>,\n",
       "       <Quantity([31.43957162], 'kilometer')>,\n",
       "       <Quantity([36.61671957], 'kilometer')>,\n",
       "       <Quantity([42.50748323], 'kilometer')>,\n",
       "       <Quantity([33.2276399], 'kilometer')>,\n",
       "       <Quantity([30.96409056], 'kilometer')>,\n",
       "       <Quantity([39.44070126], 'kilometer')>,\n",
       "       <Quantity([40.34910685], 'kilometer')>,\n",
       "       <Quantity([41.72088518], 'kilometer')>,\n",
       "       <Quantity([38.74854982], 'kilometer')>,\n",
       "       <Quantity([-1.73744027], 'kilometer')>,\n",
       "       <Quantity([-1462.48791633], 'kilometer')>,\n",
       "       <Quantity([-85.76959243], 'kilometer')>,\n",
       "       <Quantity([-50.57183339], 'kilometer')>,\n",
       "       <Quantity([26.39093177], 'kilometer')>,\n",
       "       <Quantity([38.65476354], 'kilometer')>,\n",
       "       <Quantity([34.36591709], 'kilometer')>,\n",
       "       <Quantity([36.9485758], 'kilometer')>,\n",
       "       <Quantity([13.97235788], 'kilometer')>,\n",
       "       <Quantity([45.43519233], 'kilometer')>,\n",
       "       <Quantity([44.30806246], 'kilometer')>,\n",
       "       <Quantity([50.27402818], 'kilometer')>,\n",
       "       <Quantity([35.78138079], 'kilometer')>,\n",
       "       <Quantity([49.95729328], 'kilometer')>,\n",
       "       <Quantity([52.34214408], 'kilometer')>,\n",
       "       <Quantity([49.53653513], 'kilometer')>,\n",
       "       <Quantity([45.05203244], 'kilometer')>,\n",
       "       <Quantity([37.65379752], 'kilometer')>,\n",
       "       <Quantity([75.4668982], 'kilometer')>,\n",
       "       <Quantity([-1528.2632249], 'kilometer')>,\n",
       "       <Quantity([-201.3929543], 'kilometer')>,\n",
       "       <Quantity([-30.63671861], 'kilometer')>,\n",
       "       <Quantity([314.92432709], 'kilometer')>,\n",
       "       <Quantity([0.96161427], 'kilometer')>,\n",
       "       <Quantity([-105.88344825], 'kilometer')>,\n",
       "       <Quantity([-155.3645708], 'kilometer')>,\n",
       "       <Quantity([-233.52986208], 'kilometer')>,\n",
       "       <Quantity([55.40681026], 'kilometer')>,\n",
       "       <Quantity([48.51576951], 'kilometer')>,\n",
       "       <Quantity([40.87815285], 'kilometer')>,\n",
       "       <Quantity([-13.25094365], 'kilometer')>,\n",
       "       <Quantity([39.74081339], 'kilometer')>,\n",
       "       <Quantity([42.05572023], 'kilometer')>,\n",
       "       <Quantity([26.82217586], 'kilometer')>,\n",
       "       <Quantity([25.05099198], 'kilometer')>,\n",
       "       <Quantity([25.82970255], 'kilometer')>,\n",
       "       <Quantity([23.7998156], 'kilometer')>,\n",
       "       <Quantity([24.52915859], 'kilometer')>,\n",
       "       <Quantity([26.77736655], 'kilometer')>,\n",
       "       <Quantity([28.58592791], 'kilometer')>,\n",
       "       <Quantity([31.41053073], 'kilometer')>,\n",
       "       <Quantity([33.99697789], 'kilometer')>,\n",
       "       <Quantity([43.54162011], 'kilometer')>,\n",
       "       <Quantity([46.93807076], 'kilometer')>,\n",
       "       <Quantity([46.58325635], 'kilometer')>,\n",
       "       <Quantity([44.42674704], 'kilometer')>,\n",
       "       <Quantity([35.01416766], 'kilometer')>,\n",
       "       <Quantity([31.22776136], 'kilometer')>,\n",
       "       <Quantity([28.97653698], 'kilometer')>,\n",
       "       <Quantity([26.23209223], 'kilometer')>,\n",
       "       <Quantity([31.60020869], 'kilometer')>,\n",
       "       <Quantity([38.13619146], 'kilometer')>,\n",
       "       <Quantity([28.29572306], 'kilometer')>,\n",
       "       <Quantity([22.76951225], 'kilometer')>,\n",
       "       <Quantity([34.12095911], 'kilometer')>,\n",
       "       <Quantity([-91.20584977], 'kilometer')>,\n",
       "       <Quantity([39.80506506], 'kilometer')>,\n",
       "       <Quantity([47.04057393], 'kilometer')>,\n",
       "       <Quantity([83.72338778], 'kilometer')>,\n",
       "       <Quantity([82.00470363], 'kilometer')>,\n",
       "       <Quantity([76.38591689], 'kilometer')>,\n",
       "       <Quantity([74.54394102], 'kilometer')>,\n",
       "       <Quantity([74.53231923], 'kilometer')>,\n",
       "       <Quantity([59.57839726], 'kilometer')>,\n",
       "       <Quantity([49.23962581], 'kilometer')>,\n",
       "       <Quantity([43.50208684], 'kilometer')>,\n",
       "       <Quantity([39.23416439], 'kilometer')>,\n",
       "       <Quantity([36.89701949], 'kilometer')>,\n",
       "       <Quantity([-3.66071263], 'kilometer')>,\n",
       "       <Quantity([32.00978266], 'kilometer')>,\n",
       "       <Quantity([27.08245839], 'kilometer')>,\n",
       "       <Quantity([30.3796995], 'kilometer')>,\n",
       "       <Quantity([31.67248663], 'kilometer')>,\n",
       "       <Quantity([35.28164932], 'kilometer')>,\n",
       "       <Quantity([40.10078068], 'kilometer')>,\n",
       "       <Quantity([44.6024967], 'kilometer')>,\n",
       "       <Quantity([43.77024477], 'kilometer')>,\n",
       "       <Quantity([37.52934947], 'kilometer')>,\n",
       "       <Quantity([37.34763828], 'kilometer')>,\n",
       "       <Quantity([40.28983255], 'kilometer')>,\n",
       "       <Quantity([37.94423571], 'kilometer')>,\n",
       "       <Quantity([37.54912062], 'kilometer')>,\n",
       "       <Quantity([36.14530006], 'kilometer')>,\n",
       "       <Quantity([39.65675724], 'kilometer')>,\n",
       "       <Quantity([-66.70028672], 'kilometer')>,\n",
       "       <Quantity([-70.16467616], 'kilometer')>,\n",
       "       <Quantity([39.88191428], 'kilometer')>,\n",
       "       <Quantity([58.67955122], 'kilometer')>,\n",
       "       <Quantity([104.82825013], 'kilometer')>,\n",
       "       <Quantity([175.13597039], 'kilometer')>,\n",
       "       <Quantity([-628.01853828], 'kilometer')>,\n",
       "       <Quantity([65.09956065], 'kilometer')>,\n",
       "       <Quantity([114.81997015], 'kilometer')>,\n",
       "       <Quantity([151.32084264], 'kilometer')>,\n",
       "       <Quantity([106.1529775], 'kilometer')>,\n",
       "       <Quantity([117.76448711], 'kilometer')>,\n",
       "       <Quantity([142.00088455], 'kilometer')>,\n",
       "       <Quantity([175.46533893], 'kilometer')>,\n",
       "       <Quantity([33.56964018], 'kilometer')>,\n",
       "       <Quantity([40.19526378], 'kilometer')>,\n",
       "       <Quantity([42.63412496], 'kilometer')>,\n",
       "       <Quantity([33.41046467], 'kilometer')>,\n",
       "       <Quantity([59.6200413], 'kilometer')>,\n",
       "       <Quantity([70.38594847], 'kilometer')>,\n",
       "       <Quantity([57.97634345], 'kilometer')>,\n",
       "       <Quantity([40.35756547], 'kilometer')>,\n",
       "       <Quantity([30.54812738], 'kilometer')>,\n",
       "       <Quantity([29.7485992], 'kilometer')>,\n",
       "       <Quantity([37.51838974], 'kilometer')>,\n",
       "       <Quantity([42.57348075], 'kilometer')>,\n",
       "       <Quantity([39.99892903], 'kilometer')>,\n",
       "       <Quantity([32.48752561], 'kilometer')>,\n",
       "       <Quantity([63.06685454], 'kilometer')>,\n",
       "       <Quantity([55.17472448], 'kilometer')>,\n",
       "       <Quantity([49.01507588], 'kilometer')>,\n",
       "       <Quantity([50.30215353], 'kilometer')>,\n",
       "       <Quantity([55.42339389], 'kilometer')>,\n",
       "       <Quantity([55.75699262], 'kilometer')>,\n",
       "       <Quantity([44.32847017], 'kilometer')>,\n",
       "       <Quantity([36.35457962], 'kilometer')>,\n",
       "       <Quantity([35.54507526], 'kilometer')>,\n",
       "       <Quantity([29.61460163], 'kilometer')>,\n",
       "       <Quantity([38.41053507], 'kilometer')>,\n",
       "       <Quantity([44.12126167], 'kilometer')>,\n",
       "       <Quantity([42.06516309], 'kilometer')>,\n",
       "       <Quantity([36.41666369], 'kilometer')>,\n",
       "       <Quantity([32.40979454], 'kilometer')>,\n",
       "       <Quantity([147.84344638], 'kilometer')>], dtype=object)"
      ]
     },
     "execution_count": 414,
     "metadata": {},
     "output_type": "execute_result"
    }
   ],
   "source": [
    "df.X_Pease[df.length_145max>0].values"
   ]
  },
  {
   "cell_type": "code",
   "execution_count": 403,
   "id": "b1aa823d",
   "metadata": {},
   "outputs": [
    {
     "data": {
      "text/plain": [
       "Index(['time', 'month', 'year', 'pre_2003', '2003_2023', 'compact', 'open',\n",
       "       'q1', 'q2', 'q3', 'q4', 'extent', 'length_145max', 'length_145min',\n",
       "       'length_145p95', 'length_145p5', 'length_max', 'centermass_length',\n",
       "       'centermass_direction', 'max_length_direction', 'width595', 'width',\n",
       "       'ai', 'si', 'ui', 'vi', 'a10', 's10', 'u10', 'v10', 't2m', 'msl',\n",
       "       'year_start', 'year_end', 'missing_sic', 'sequence', 'event_day',\n",
       "       'day_before_event', 'day_after_event', 'overlap_flag', 'single_day',\n",
       "       'season_start_flag', 'season_end_flag', 'first_day', 'final_day',\n",
       "       'peak_day', 'event_length', 'after_event_length', 'before_event_length',\n",
       "       'esei', 'ese10', 'si_km', 'a10_r', 'ai_r', 'centermass_direction_r',\n",
       "       'max_length_direction_r', 'up', 'vp', 'ta_wi', 'ta_ip', 'ta_wp',\n",
       "       'cum_drift', 'X_Pease'],\n",
       "      dtype='object')"
      ]
     },
     "execution_count": 403,
     "metadata": {},
     "output_type": "execute_result"
    }
   ],
   "source": [
    "df.keys()"
   ]
  },
  {
   "cell_type": "code",
   "execution_count": null,
   "id": "0ba1a351",
   "metadata": {},
   "outputs": [],
   "source": []
  },
  {
   "cell_type": "code",
   "execution_count": 392,
   "id": "43c72d75",
   "metadata": {},
   "outputs": [
    {
     "data": {
      "text/plain": [
       "{10: array([-24.48978031, -23.90370386,  20.79656611,  22.38200289,\n",
       "         23.60309464,  21.6199624 ,  20.73724152,  28.77109312,\n",
       "         24.75007577, -51.59376808, -38.90691796]),\n",
       " 25: array([-10.83095769,  16.99387044,  23.90932826,  24.63208321,\n",
       "         27.22890537,  26.94906337,  25.45796394,  29.96357984,\n",
       "         26.69302367, -30.37673577, -25.24323632]),\n",
       " 50: array([15.1961722 , 22.65980166, 27.14121247, 29.75584627, 31.03057203,\n",
       "        29.00151105, 30.47021457, 34.02955313, 29.25860545,  3.04613266,\n",
       "        -3.55671961]),\n",
       " 75: array([23.78938263, 29.68153397, 37.25738126, 37.47508736, 36.47637598,\n",
       "        38.62501038, 40.34639517, 65.77519827, 36.67803816, 23.62984162,\n",
       "        20.79782977]),\n",
       " 90: array([ 34.92372752,  46.58933595,  59.97784627,  53.65746925,\n",
       "         59.63536251,  54.0219313 ,  70.37811313, 104.06136452,\n",
       "         73.18275132,  29.94185958,  33.27230353])}"
      ]
     },
     "execution_count": 392,
     "metadata": {},
     "output_type": "execute_result"
    }
   ],
   "source": [
    "lat_pers"
   ]
  },
  {
   "cell_type": "code",
   "execution_count": 396,
   "id": "2809d98d",
   "metadata": {},
   "outputs": [
    {
     "data": {
      "text/plain": [
       "8.0"
      ]
     },
     "execution_count": 396,
     "metadata": {},
     "output_type": "execute_result"
    }
   ],
   "source": [
    "(40/25) * 5"
   ]
  },
  {
   "cell_type": "code",
   "execution_count": 393,
   "id": "ef64ad04",
   "metadata": {},
   "outputs": [
    {
     "data": {
      "text/plain": [
       "array([1.5, 1.5, 1.5, 1.5, 1.5, 1.5, 1.5, 1.5, 1.5, 1.5, 1.5])"
      ]
     },
     "execution_count": 393,
     "metadata": {},
     "output_type": "execute_result"
    }
   ],
   "source": [
    "np.array([15.1961722 , 22.65980166, 27.14121247, 29.75584627, 31.03057203,\n",
    "        29.00151105, 30.47021457, 34.02955313, 29.25860545,  3.04613266,\n",
    "        -3.55671961])/np.array([10.13078147, 15.10653444, 18.09414165, 19.83723084, 20.68704802,\n",
    "        19.3343407 , 20.31347638, 22.68636875, 19.50573697,  2.03075511,\n",
    "        -2.37114641])"
   ]
  },
  {
   "cell_type": "code",
   "execution_count": 341,
   "id": "2e3a95a6",
   "metadata": {},
   "outputs": [
    {
     "data": {
      "text/plain": [
       "10.326994283582868"
      ]
     },
     "execution_count": 341,
     "metadata": {},
     "output_type": "execute_result"
    }
   ],
   "source": [
    "np.nanmedian(DF.s10[(DF.extent>0)&(DF.final_day==False)])"
   ]
  },
  {
   "cell_type": "code",
   "execution_count": 265,
   "id": "41d26c43",
   "metadata": {},
   "outputs": [
    {
     "data": {
      "text/plain": [
       "array([], dtype=bool)"
      ]
     },
     "execution_count": 265,
     "metadata": {},
     "output_type": "execute_result"
    }
   ],
   "source": [
    "DF.final_day[DF.sequence==ss].values[:-1]"
   ]
  },
  {
   "cell_type": "code",
   "execution_count": 2464,
   "id": "2ec7d32f",
   "metadata": {},
   "outputs": [
    {
     "data": {
      "image/png": "[encoded data removed]",
      "text/plain": [
       "<Figure size 300x300 with 1 Axes>"
      ]
     },
     "metadata": {},
     "output_type": "display_data"
    }
   ],
   "source": [
    "fig, ax = plt.subplots(figsize=(3,3))\n",
    "\n",
    "days = {}\n",
    "for dd in range(20):\n",
    "    days[dd] = np.array([])\n",
    "    \n",
    "wind = {}\n",
    "for dd in range(20):\n",
    "    wind[dd] = np.array([])    \n",
    "    \n",
    "    \n",
    "drif = {}\n",
    "for dd in range(20):\n",
    "    drif[dd] = np.array([])    \n",
    "    \n",
    "last = {}\n",
    "for dd in range(20):\n",
    "    last[dd] = np.array([], dtype=bool)\n",
    "    \n",
    "    \n",
    "\n",
    "time_cond = (shoulder==False) & (DF.single_day==False)\n",
    "\n",
    "for ss in list(set(DF.sequence[(DF.sequence!=-999)&time_cond])):\n",
    "\n",
    "    X = DF.event_day[DF.sequence==ss].values\n",
    "    Y = DF.length_145max[DF.sequence==ss].values\n",
    "    \n",
    "#     DF.final_day[DF.sequence==ss].values[1:]\n",
    "#     for di, dy, la in zip(X[:-1], np.diff(Y), dir_conds(DF[DF.sequence==ss], 'wind').values[:-1]==False):\n",
    "\n",
    "    for di, dy, dr,wi,  la in zip(X[:-1], np.diff(Y), DF.si[DF.sequence==ss].values[:-1],\n",
    "                                  DF.s10[DF.sequence==ss].values[:-1],\n",
    "                          DF.final_day[DF.sequence==ss].values[1:]):\n",
    "        \n",
    "        days[di] = np.append(days[di], dy)\n",
    "        drif[di] = np.append(drif[di], dr)\n",
    "        wind[di] = np.append(wind[di], wi)\n",
    "        last[di] = np.append(last[di], la)\n",
    "    \n",
    "    ax.scatter(X[:-1], np.diff(Y))"
   ]
  },
  {
   "cell_type": "code",
   "execution_count": 2311,
   "id": "85c61b78",
   "metadata": {},
   "outputs": [
    {
     "data": {
      "text/plain": [
       "102"
      ]
     },
     "execution_count": 2311,
     "metadata": {},
     "output_type": "execute_result"
    }
   ],
   "source": [
    "len(list(set(DF.sequence[(DF.sequence!=-999)&time_cond])))"
   ]
  },
  {
   "cell_type": "code",
   "execution_count": 2465,
   "id": "8c24cb8c",
   "metadata": {},
   "outputs": [
    {
     "name": "stderr",
     "output_type": "stream",
     "text": [
      "/opt/anaconda3/envs/SBSpolynya/lib/python3.12/site-packages/numpy/lib/nanfunctions.py:1562: RuntimeWarning: Mean of empty slice\n",
      "  return np.nanmean(a, axis, out=out, keepdims=keepdims)\n"
     ]
    },
    {
     "data": {
      "text/plain": [
       "<matplotlib.lines.Line2D at 0x1bccc4c20>"
      ]
     },
     "execution_count": 2465,
     "metadata": {},
     "output_type": "execute_result"
    },
    {
     "data": {
      "image/png": "[encoded data removed]",
      "text/plain": [
       "<Figure size 300x300 with 1 Axes>"
      ]
     },
     "metadata": {},
     "output_type": "display_data"
    }
   ],
   "source": [
    "fig, ax = plt.subplots(figsize=(3,3))\n",
    "\n",
    "\n",
    "drif_notlast = np.array([])\n",
    "wind_notlast = np.array([])\n",
    "\n",
    "all_notlast = np.array([])\n",
    "all_tolast = np.array([])\n",
    "\n",
    "for dd in range(20):\n",
    "    \n",
    "#     ax.scatter(dd, np.nanpercentile(days[dd], 50))\n",
    "    \n",
    "    drif_notlast = np.append(drif_notlast, drif[dd][last[dd]==False])\n",
    "    wind_notlast = np.append(wind_notlast, wind[dd][last[dd]==False])\n",
    "    all_notlast = np.append(all_notlast, days[dd][last[dd]==False])\n",
    "    all_tolast = np.append(all_tolast, days[dd][last[dd]==True])\n",
    "    \n",
    "    \n",
    "#     wind_notlast = np.append(wind_notlast, wind[dd][last[dd]==True])\n",
    "    \n",
    "    \n",
    "    ax.scatter(dd+0.1, np.nanpercentile(drif[dd][last[dd]==True], 50), c='r')\n",
    "    ax.plot([dd+0.1,dd+0.1], [np.nanpercentile(drif[dd][last[dd]==False], 25),\n",
    "                      np.nanpercentile(drif[dd][last[dd]==False], 75)], c='r')\n",
    "    \n",
    "    \n",
    "    ax.scatter(dd, np.nanpercentile(days[dd][last[dd]==False], 50), c='k')\n",
    "    ax.plot([dd,dd], [np.nanpercentile(days[dd][last[dd]==False], 25),\n",
    "                      np.nanpercentile(days[dd][last[dd]==False], 75)], c='k')\n",
    "    \n",
    "#     ax.scatter(dd, np.nanpercentile(days[dd][last[dd]==True], 50), c='k')\n",
    "    \n",
    "    \n",
    "    \n",
    "\n",
    "ax.axhline(0, c='k')"
   ]
  },
  {
   "cell_type": "code",
   "execution_count": 360,
   "id": "bd2d11cc",
   "metadata": {},
   "outputs": [
    {
     "data": {
      "text/plain": [
       "102"
      ]
     },
     "execution_count": 360,
     "metadata": {},
     "output_type": "execute_result"
    }
   ],
   "source": [
    "len(all_tolast)"
   ]
  },
  {
   "cell_type": "code",
   "execution_count": 351,
   "id": "27e3fbe9",
   "metadata": {},
   "outputs": [
    {
     "data": {
      "text/plain": [
       "245"
      ]
     },
     "execution_count": 351,
     "metadata": {},
     "output_type": "execute_result"
    }
   ],
   "source": [
    "len(all_notlast)"
   ]
  },
  {
   "cell_type": "code",
   "execution_count": 359,
   "id": "7e59b136",
   "metadata": {},
   "outputs": [
    {
     "data": {
      "text/plain": [
       "347"
      ]
     },
     "execution_count": 359,
     "metadata": {},
     "output_type": "execute_result"
    }
   ],
   "source": [
    "245+102"
   ]
  },
  {
   "cell_type": "code",
   "execution_count": 304,
   "id": "b81da474",
   "metadata": {},
   "outputs": [
    {
     "data": {
      "text/plain": [
       "-9.16375291811929"
      ]
     },
     "execution_count": 304,
     "metadata": {},
     "output_type": "execute_result"
    }
   ],
   "source": [
    "np.nanmedian(all_tolast)"
   ]
  },
  {
   "cell_type": "code",
   "execution_count": 308,
   "id": "b49af3f3",
   "metadata": {},
   "outputs": [
    {
     "data": {
      "text/plain": [
       "-9.28383856906877"
      ]
     },
     "execution_count": 308,
     "metadata": {},
     "output_type": "execute_result"
    }
   ],
   "source": [
    "np.nanmean(all_tolast)"
   ]
  },
  {
   "cell_type": "code",
   "execution_count": 313,
   "id": "69b33450",
   "metadata": {},
   "outputs": [
    {
     "data": {
      "text/plain": [
       "9.779883267027834"
      ]
     },
     "execution_count": 313,
     "metadata": {},
     "output_type": "execute_result"
    }
   ],
   "source": [
    "np.nanmedian(all_notlast)"
   ]
  },
  {
   "cell_type": "code",
   "execution_count": 331,
   "id": "663a42cb",
   "metadata": {},
   "outputs": [
    {
     "data": {
      "text/plain": [
       "10.92247381392765"
      ]
     },
     "execution_count": 331,
     "metadata": {},
     "output_type": "execute_result"
    }
   ],
   "source": [
    "np.nanmedian(drif_notlast)"
   ]
  },
  {
   "cell_type": "code",
   "execution_count": 337,
   "id": "4e5bc20a",
   "metadata": {},
   "outputs": [
    {
     "data": {
      "text/plain": [
       "10.92247381392765"
      ]
     },
     "execution_count": 337,
     "metadata": {},
     "output_type": "execute_result"
    }
   ],
   "source": [
    "np.nanmedian(wind_notlast)"
   ]
  },
  {
   "cell_type": "code",
   "execution_count": 354,
   "id": "6a289c8e",
   "metadata": {},
   "outputs": [
    {
     "data": {
      "text/plain": [
       "245"
      ]
     },
     "execution_count": 354,
     "metadata": {},
     "output_type": "execute_result"
    }
   ],
   "source": [
    "len(drif_notlast)"
   ]
  },
  {
   "cell_type": "code",
   "execution_count": 355,
   "id": "fc8a176b",
   "metadata": {},
   "outputs": [
    {
     "data": {
      "text/plain": [
       "245"
      ]
     },
     "execution_count": 355,
     "metadata": {},
     "output_type": "execute_result"
    }
   ],
   "source": [
    "len(all_notlast)"
   ]
  },
  {
   "cell_type": "code",
   "execution_count": null,
   "id": "5423fe06",
   "metadata": {},
   "outputs": [],
   "source": [
    "np.nanmedian(drif_notlast/wind_notlast)"
   ]
  },
  {
   "cell_type": "code",
   "execution_count": 323,
   "id": "35a0a045",
   "metadata": {},
   "outputs": [
    {
     "data": {
      "text/plain": [
       "array([23.57265357, 17.5357963 , 15.90781637,  9.83297623, 19.39307294,\n",
       "       12.73953279, 13.10539038, 15.93204475, 16.32808458, 20.46841694,\n",
       "       18.84559154, 18.81035056, 16.34207308, 13.25835137, 21.61295224,\n",
       "       28.22294885, 21.77578414, 19.78397222, 15.62013731, 19.70562111,\n",
       "       20.77725271, 24.07638716, 17.02055463, 17.7390115 ,  8.48912655,\n",
       "       25.73202244, 27.27917033, 15.75036288, 16.85395474, 29.37745177,\n",
       "       13.16344362, 27.24611503, 16.20949849, 22.12191112, 20.60411702,\n",
       "       22.01698112, 22.87477332, 18.94715067, 19.93332978, 18.02726351,\n",
       "       21.82710809, 15.15490949, 20.43009011, 12.81205212,  2.15952402,\n",
       "       27.69034353, 26.71705685, 26.76940296, 18.03297352, 20.03318714,\n",
       "       27.46256995, 23.17596316, 10.82110603, 11.71660864, 16.11882658,\n",
       "        9.38288765, 23.44366229, 17.7433535 , 20.50374018,         nan,\n",
       "               nan,         nan,         nan,         nan,         nan,\n",
       "               nan,         nan,         nan,         nan,         nan,\n",
       "       15.72719847, 10.1147747 , 15.35353992, 21.93871737, 19.50677316,\n",
       "       13.23763524, 19.41554514, 18.94682961, 10.18255492, 14.70132208,\n",
       "       17.58317608, 20.31399425, 24.22335423, 18.39654564, 16.45845215,\n",
       "       25.30696231, 24.05555066, 20.11658639, 24.15000004, 27.23156997,\n",
       "       23.74096558, 22.85542851, 23.31308565, 20.34114689, 18.9809342 ,\n",
       "       15.45913083, 22.19405833, 21.98713005, 19.53347704,  9.07588288,\n",
       "       22.48753127, 21.19914594, 24.61398247, 14.35654891,  7.62578126,\n",
       "        1.431567  , 27.51378932,  6.19085628, 16.66566398, 22.66881952,\n",
       "               nan,         nan,         nan,         nan,         nan,\n",
       "               nan,         nan, 13.49050914, 11.03849304, 20.91479398,\n",
       "       18.91591838, 20.9561398 ,  6.21340543, 30.54905459, 16.56375994,\n",
       "       18.17252183, 16.63446157, 23.28094706, 24.18009479, 26.61570828,\n",
       "       20.975084  , 31.03265748, 11.66385302, 24.34505539,  8.99599175,\n",
       "       20.02846558,  9.54458288,  9.82588288, 16.24651515, 13.77836519,\n",
       "       16.69877559,         nan,         nan,         nan,         nan,\n",
       "               nan, 15.43144503, 20.27021513,  9.82854352, 12.38097205,\n",
       "       19.77887356, 24.53301911, 27.292263  , 22.79811047, 22.57361309,\n",
       "       25.82800815, 16.900323  , 23.28767782, 16.4732432 , 20.1214537 ,\n",
       "       16.64912839,         nan,         nan,         nan, 17.34535832,\n",
       "       11.58557398, 16.7519202 , 21.45737153, 19.13239122, 27.84133549,\n",
       "       24.38411707, 21.12106763, 26.11002621, 15.1175669 , 16.00442905,\n",
       "       23.06896328,         nan,         nan, 18.52294267, 16.61014318,\n",
       "       24.93813825, 19.72824713, 21.13440099, 25.01991805, 16.75085109,\n",
       "       21.36085407,  9.94655609, 12.77233416, 13.8195527 ,         nan,\n",
       "               nan, 14.98772445, 16.60206489, 26.64345889, 25.88579456,\n",
       "       22.33756825, 20.41082453, 20.64961968, 25.30038575, 14.04952342,\n",
       "       21.23285883,         nan,         nan, 17.72588619, 11.80011909,\n",
       "       16.96724648, 16.3739798 , 16.75436477, 20.94990591, 19.17814998,\n",
       "       24.30362725,  7.98569639,  3.31853283,         nan,         nan,\n",
       "       12.86513506, 19.47596898, 22.8618733 , 22.18822624, 18.52920492,\n",
       "       13.4225751 , 26.03282245,         nan, 14.1586593 , 23.53065644,\n",
       "       12.47969836, 10.97049512, 15.71490509, 12.01818029,         nan,\n",
       "       16.37922986,  8.63805979,         nan, 12.66752185, 19.70160147,\n",
       "               nan,  4.80719416, 11.05666744,         nan, 10.48715262,\n",
       "       10.41025301,         nan, 18.56196232, 23.79092951, 13.32516547])"
      ]
     },
     "execution_count": 323,
     "metadata": {},
     "output_type": "execute_result"
    }
   ],
   "source": [
    "drif_notlast"
   ]
  },
  {
   "cell_type": "code",
   "execution_count": 338,
   "id": "ead4d18f",
   "metadata": {},
   "outputs": [
    {
     "data": {
      "text/plain": [
       "<matplotlib.lines.Line2D at 0x1564a04d0>"
      ]
     },
     "execution_count": 338,
     "metadata": {},
     "output_type": "execute_result"
    },
    {
     "data": {
      "image/png": "[encoded data removed]",
      "text/plain": [
       "<Figure size 300x300 with 1 Axes>"
      ]
     },
     "metadata": {},
     "output_type": "display_data"
    }
   ],
   "source": [
    "fig, ax = plt.subplots(figsize=(3,3))\n",
    "plt.hist(all_notlast, bins=np.arange(-150,150,5), alpha=0.5);\n",
    "plt.axvline(np.nanmedian(all_notlast), c='b')\n",
    "\n",
    "\n",
    "plt.hist(all_tolast, bins=np.arange(-150,150,5), alpha=0.5);\n",
    "plt.axvline(np.nanmedian(all_tolast), c='r')"
   ]
  },
  {
   "cell_type": "code",
   "execution_count": null,
   "id": "d37d0949",
   "metadata": {},
   "outputs": [],
   "source": []
  },
  {
   "cell_type": "code",
   "execution_count": 241,
   "id": "dee537fb",
   "metadata": {},
   "outputs": [],
   "source": [
    "SS = DF.sequence[((DF['event_length'] >=7)&(DF['first_day']))&(shoulder==False)].values"
   ]
  },
  {
   "cell_type": "code",
   "execution_count": 248,
   "id": "2f50cec0",
   "metadata": {},
   "outputs": [
    {
     "data": {
      "image/png": "[encoded data removed]",
      "text/plain": [
       "<Figure size 640x480 with 1 Axes>"
      ]
     },
     "metadata": {},
     "output_type": "display_data"
    }
   ],
   "source": [
    "plt.ylim(0,100)\n",
    "\n",
    "for ss in SS:\n",
    "    \n",
    "    plt.plot(np.arange(len(DF.time[DF.sequence==ss])), DF.length_145max[DF.sequence==ss])\n",
    "    plt.scatter(np.arange(len(DF.time[DF.sequence==ss]))[-1], DF.length_145max[DF.sequence==ss].values[-1])\n",
    "    \n",
    "    if ss < 145:\n",
    "    \n",
    "        plt.text(np.arange(len(DF.time[DF.sequence==ss]))[-1], DF.length_145max[DF.sequence==ss].values[-1] ,DF.time[DF.sequence==ss].values[-1])"
   ]
  },
  {
   "cell_type": "code",
   "execution_count": null,
   "id": "ffddafba",
   "metadata": {},
   "outputs": [],
   "source": []
  },
  {
   "cell_type": "code",
   "execution_count": 239,
   "id": "e1542d4b",
   "metadata": {},
   "outputs": [
    {
     "data": {
      "text/plain": [
       "[<matplotlib.lines.Line2D at 0x15111ff50>]"
      ]
     },
     "execution_count": 239,
     "metadata": {},
     "output_type": "execute_result"
    },
    {
     "data": {
      "image/png": "[encoded data removed]",
      "text/plain": [
       "<Figure size 640x480 with 1 Axes>"
      ]
     },
     "metadata": {},
     "output_type": "display_data"
    }
   ],
   "source": [
    "plt.plot(DF.time[DF.sequence==150], DF.length_145max[DF.sequence==150])"
   ]
  },
  {
   "cell_type": "code",
   "execution_count": 89,
   "id": "c0b43d83",
   "metadata": {},
   "outputs": [
    {
     "name": "stdout",
     "output_type": "stream",
     "text": [
      "2007-04-19\n",
      "2025-03-06\n",
      "2017-12-09\n",
      "2003-12-11\n",
      "2022-12-24\n",
      "2016-02-08\n",
      "2016-02-26\n",
      "2016-04-05\n",
      "2019-12-08\n",
      "2024-01-03\n",
      "2013-12-30\n"
     ]
    }
   ],
   "source": [
    "long_events = list(set(dfr.sequence[(shoulder==False)&(dfr.event_length >= 10)]))\n",
    "\n",
    "for ss in long_events:\n",
    "    \n",
    "    print(dfr.time[dfr.sequence==ss].values[0])\n"
   ]
  },
  {
   "cell_type": "code",
   "execution_count": 90,
   "id": "18417350",
   "metadata": {},
   "outputs": [
    {
     "name": "stdout",
     "output_type": "stream",
     "text": [
      "2002-12-01 2002-12-01\n",
      "2002-12-10 2002-12-11\n",
      "2002-12-22 2002-12-24\n",
      "2003-01-10 2003-01-13\n",
      "2003-01-19 2003-01-21\n",
      "2003-01-24 2003-01-28\n",
      "2003-02-07 2003-02-07\n",
      "2003-02-28 2003-02-28\n",
      "2003-03-04 2003-03-04\n",
      "2003-04-15 2003-04-16\n",
      "2003-12-07 2003-12-07\n",
      "2003-12-11 2003-12-22\n",
      "2003-12-25 2003-12-25\n",
      "2003-12-29 2004-01-01\n",
      "2004-01-11 2004-01-13\n",
      "2004-01-17 2004-01-17\n",
      "2004-12-01 2004-12-05\n",
      "2004-12-17 2004-12-21\n",
      "2005-01-23 2005-01-23\n",
      "2005-02-10 2005-02-10\n",
      "2005-04-29 2005-04-30\n",
      "2006-02-13 2006-02-13\n",
      "2006-03-15 2006-03-20\n",
      "2006-12-01 2006-12-01\n",
      "2006-12-09 2006-12-09\n",
      "2006-12-16 2006-12-20\n",
      "2007-01-13 2007-01-13\n",
      "2007-02-01 2007-02-03\n",
      "2007-02-07 2007-02-10\n",
      "2007-02-12 2007-02-12\n",
      "2007-04-01 2007-04-01\n",
      "2007-04-19 2007-04-28\n",
      "2007-12-01 2007-12-12\n",
      "2007-12-14 2007-12-15\n",
      "2007-12-24 2007-12-25\n",
      "2007-12-27 2007-12-27\n",
      "2008-01-02 2008-01-03\n",
      "2008-01-29 2008-01-29\n",
      "2008-02-12 2008-02-14\n",
      "2008-02-21 2008-02-21\n",
      "2008-04-23 2008-04-26\n",
      "2008-12-09 2008-12-11\n",
      "2008-12-18 2008-12-18\n",
      "2008-12-22 2008-12-23\n",
      "2009-01-17 2009-01-17\n",
      "2009-01-23 2009-01-24\n",
      "2009-02-24 2009-02-24\n",
      "2009-02-28 2009-02-28\n",
      "2009-03-09 2009-03-11\n",
      "2009-12-22 2009-12-23\n",
      "2009-12-28 2009-12-30\n",
      "2010-01-24 2010-01-25\n",
      "2010-01-31 2010-01-31\n",
      "2010-12-04 2010-12-04\n",
      "2010-12-06 2010-12-07\n",
      "2011-01-04 2011-01-07\n",
      "2012-12-22 2012-12-25\n",
      "2013-01-14 2013-01-16\n",
      "2013-03-06 2013-03-10\n",
      "2013-03-16 2013-03-16\n",
      "2013-12-30 2014-01-08\n",
      "2014-01-26 2014-01-26\n",
      "2014-01-28 2014-01-29\n",
      "2014-02-24 2014-02-24\n",
      "2014-02-27 2014-03-02\n",
      "2014-04-23 2014-04-23\n",
      "2014-04-25 2014-04-26\n",
      "2014-04-28 2014-04-29\n",
      "2014-12-21 2014-12-22\n",
      "2014-12-28 2014-12-29\n",
      "2015-01-01 2015-01-02\n",
      "2015-01-09 2015-01-10\n",
      "2015-02-24 2015-02-25\n",
      "2015-03-31 2015-04-01\n",
      "2015-04-25 2015-04-27\n",
      "2015-12-15 2015-12-18\n",
      "2016-01-05 2016-01-06\n",
      "2016-01-26 2016-01-30\n",
      "2016-02-02 2016-02-04\n",
      "2016-02-08 2016-02-17\n",
      "2016-02-20 2016-02-20\n",
      "2016-02-22 2016-02-22\n",
      "2016-02-26 2016-03-07\n",
      "2016-03-09 2016-03-10\n",
      "2016-03-22 2016-03-23\n",
      "2016-04-05 2016-04-16\n",
      "2016-04-19 2016-04-30\n",
      "2016-12-06 2016-12-07\n",
      "2016-12-16 2016-12-19\n",
      "2017-01-15 2017-01-15\n",
      "2017-01-25 2017-01-25\n",
      "2017-01-27 2017-01-27\n",
      "2017-04-05 2017-04-11\n",
      "2017-04-14 2017-04-17\n",
      "2017-04-19 2017-04-19\n",
      "2017-04-22 2017-04-22\n",
      "2017-12-03 2017-12-03\n",
      "2017-12-05 2017-12-07\n",
      "2017-12-09 2017-12-27\n",
      "2017-12-29 2017-12-29\n",
      "2018-01-01 2018-01-03\n",
      "2018-01-09 2018-01-16\n",
      "2018-02-11 2018-02-11\n",
      "2018-03-09 2018-03-14\n",
      "2018-03-28 2018-03-29\n",
      "2018-04-06 2018-04-11\n",
      "2018-04-30 2018-04-30\n",
      "2018-12-25 2018-12-27\n",
      "2019-01-15 2019-01-19\n",
      "2019-01-23 2019-01-23\n",
      "2019-01-26 2019-01-28\n",
      "2019-02-02 2019-02-02\n",
      "2019-02-08 2019-02-08\n",
      "2019-03-01 2019-03-02\n",
      "2019-03-17 2019-03-18\n",
      "2019-03-24 2019-03-26\n",
      "2019-04-14 2019-04-15\n",
      "2019-12-02 2019-12-02\n",
      "2019-12-08 2019-12-19\n",
      "2020-03-18 2020-03-18\n",
      "2020-03-31 2020-03-31\n",
      "2020-04-02 2020-04-02\n",
      "2020-12-01 2020-12-02\n",
      "2020-12-10 2020-12-13\n",
      "2020-12-23 2020-12-23\n",
      "2021-01-22 2021-01-24\n",
      "2021-03-05 2021-03-05\n",
      "2021-03-14 2021-03-16\n",
      "2021-03-22 2021-03-23\n",
      "2021-04-26 2021-04-29\n",
      "2021-12-17 2021-12-17\n",
      "2021-12-20 2021-12-20\n",
      "2022-01-23 2022-01-24\n",
      "2022-02-22 2022-02-22\n",
      "2022-02-26 2022-03-02\n",
      "2022-03-25 2022-03-29\n",
      "2022-04-16 2022-04-19\n",
      "2022-04-22 2022-04-25\n",
      "2022-04-29 2022-04-29\n",
      "2022-12-06 2022-12-09\n",
      "2022-12-11 2022-12-12\n",
      "2022-12-24 2023-01-08\n",
      "2023-01-11 2023-01-15\n",
      "2023-02-23 2023-02-24\n",
      "2023-03-06 2023-03-08\n",
      "2023-03-24 2023-03-24\n",
      "2023-03-30 2023-04-02\n",
      "2023-12-02 2023-12-05\n",
      "2023-12-24 2023-12-26\n",
      "2024-01-03 2024-01-18\n",
      "2024-03-20 2024-03-24\n",
      "2024-03-28 2024-03-30\n",
      "2024-04-01 2024-04-01\n",
      "2024-04-26 2024-04-28\n",
      "2024-12-03 2024-12-05\n",
      "2024-12-09 2024-12-14\n",
      "2024-12-16 2024-12-19\n",
      "2025-01-13 2025-01-13\n",
      "2025-02-15 2025-02-15\n",
      "2025-03-06 2025-03-15\n",
      "2025-03-20 2025-03-24\n",
      "2025-04-14 2025-04-14\n"
     ]
    }
   ],
   "source": [
    "begin_season_events = list(set(dfr.sequence[(shoulder==True)]))\n",
    "\n",
    "for ss in begin_season_events:\n",
    "    \n",
    "    print(dfr.time[dfr.sequence==ss].values[0],dfr.time[dfr.sequence==ss].values[-1] )"
   ]
  },
  {
   "cell_type": "code",
   "execution_count": null,
   "id": "1fe41e0a",
   "metadata": {},
   "outputs": [],
   "source": []
  },
  {
   "cell_type": "code",
   "execution_count": null,
   "id": "6e1d02d4",
   "metadata": {},
   "outputs": [],
   "source": [
    "DF.keys()"
   ]
  },
  {
   "cell_type": "code",
   "execution_count": null,
   "id": "3413b027",
   "metadata": {},
   "outputs": [],
   "source": []
  },
  {
   "cell_type": "code",
   "execution_count": null,
   "id": "78eb0d10",
   "metadata": {},
   "outputs": [],
   "source": []
  },
  {
   "cell_type": "code",
   "execution_count": 2052,
   "id": "7ae479c4",
   "metadata": {},
   "outputs": [],
   "source": [
    "\n",
    "# RES = '1000ma2'\n",
    "# crop = [2100, 3400, 340, 800]\n",
    "# sic_key = 'sic_merged'\n",
    "\n",
    "RES = '6250'\n",
    "# crop=[500, 1300, 100, 500]\n",
    "crop=[700, 1150, 200, 400]\n",
    "sic_key = 'sic'\n",
    "\n",
    "# RES = '3125'\n",
    "# crop=[1500, 2050, 480, 700]\n",
    "# sic_key = 'sic'\n",
    "# sicsic = unisic.open_local_file(datetime(2019,1,16), res='1000ma2', hem='n', main_path='/Volumes/Seagate_Jewell/KenzieStuff/', \n",
    "#                             crop=[2100, 3400, 340, 800], coordinates=False, area=False, include_units=False, quiet=True)\n",
    "\n",
    "\n",
    "dsic = unisic.open_local_file(datetime(2020,1,1), res=RES, hem='n', \n",
    "                              main_path='/Volumes/Seagate_Jewell/KenzieStuff/',\n",
    "                                  crop=crop, coordinates=True, area=False, include_units=False, \n",
    "                                  quiet=True)\n"
   ]
  },
  {
   "cell_type": "code",
   "execution_count": 2313,
   "id": "c3bb9341",
   "metadata": {},
   "outputs": [
    {
     "name": "stdout",
     "output_type": "stream",
     "text": [
      "1\n",
      "2\n",
      "3\n",
      "4\n",
      "5\n",
      "6\n",
      "7\n",
      "8\n",
      "9\n",
      "10\n",
      "11\n",
      "12\n",
      "13\n"
     ]
    }
   ],
   "source": [
    "\n",
    "open_thresh=10\n",
    "\n",
    "map_sic = {}\n",
    "\n",
    "for key in list(across.keys()):\n",
    "\n",
    "    print(key)\n",
    "    map_sic[key] = unisic.calc_meansic_openfreq(pd.to_datetime(across[key]['date']), crop=crop, nan_frac = 0.05,\n",
    "                                            open_thresh=open_thresh, res=RES, hem='n', sic_key = sic_key, \n",
    "                                            main_path='/Volumes/Seagate_Jewell/KenzieStuff/', \n",
    "                                            coordinates=False, area=False, quiet=True)\n"
   ]
  },
  {
   "cell_type": "code",
   "execution_count": 2389,
   "id": "f226be49",
   "metadata": {},
   "outputs": [],
   "source": [
    "dsb = xr.open_dataset('/Volumes/Seagate_Jewell/KenzieStuff/GEBCO/re-gridded/master_625kmASI_V1.nc')\n",
    "dsb = dsb.sel(xx=slice(-2346875, -446875), yy=slice(-1546875, 2846875))\n",
    "\n",
    "# open and crop elevation data\n",
    "dsg = xr.open_dataset('/Volumes/Seagate_Jewell/KenzieStuff/GEBCO/gebco_2023_n86.8985_s58.3031_w155.8993_e278.1175.nc')\n",
    "dsg = dsg.sel(lon = slice(207, 230), lat = slice(69.35,71.6))\n",
    "g1, g2 = np.gradient(dsg.elevation.values)\n",
    "depth_gradient = np.sqrt(g1**2+g2**2)"
   ]
  },
  {
   "cell_type": "code",
   "execution_count": 2273,
   "id": "3da8c00a",
   "metadata": {},
   "outputs": [
    {
     "data": {
      "text/plain": [
       "['3', '4', '5', '6', '7', '8']"
      ]
     },
     "execution_count": 2273,
     "metadata": {},
     "output_type": "execute_result"
    }
   ],
   "source": [
    "list(across.keys())[2:-2]"
   ]
  },
  {
   "cell_type": "code",
   "execution_count": 2391,
   "id": "7b27b7ef",
   "metadata": {},
   "outputs": [
    {
     "name": "stdout",
     "output_type": "stream",
     "text": [
      "4\n",
      "7\n",
      "10\n",
      "13\n"
     ]
    },
    {
     "data": {
      "image/png": "[encoded data removed]",
      "text/plain": [
       "<Figure size 575x375 with 5 Axes>"
      ]
     },
     "metadata": {},
     "output_type": "display_data"
    }
   ],
   "source": [
    "fig, axs = fn.makemap(view='wider_zoom4', contours = [], \n",
    "                      panels=(2,2), figsize=(5.75,3.75))\n",
    "plt.subplots_adjust(hspace=0.025, wspace=0.05)\n",
    "\n",
    "\n",
    "from pyproj import Geod\n",
    "g = Geod(ellps='WGS84')\n",
    "# startlon, startlat = -139, 69.5\n",
    "startlon, startlat = -139.1, 69.6\n",
    "# dists = np.array([31,64,79, 101,117,134,144,150])+10\n",
    "# iced = np.array([50.82842169,  68.58080734,  90.47338417,\n",
    "#         98.24958483, 120.57204264, 128.47181612])\n",
    "wind = pred_pers[50]\n",
    "latt = lat_pers[50]\n",
    "obss = obs_pers[50]\n",
    "\n",
    "\n",
    "bearing = -55\n",
    "\n",
    "FS = 10\n",
    "\n",
    "# wind = np.array([29.67029984, 81.62365485, 159.8473894, 174.82151541])\n",
    "# latt = np.array([29.93782605, 33.22366475,  35.32942831, 33.74427032])\n",
    "# obss = np.array([29.38230774, 76.14685572, 107.23015109, 83.90562419])\n",
    "\n",
    "# for key, n, N in zip(['Dec', 'Jan', 'Feb', 'Mar',],\n",
    "#                      [0,2,4,6], [1,3,5,7]):\n",
    "\n",
    "FS = 9\n",
    "# for key, n in zip([f'{m}' for m in [1,3,5,7,9]]+[f'10+'],\n",
    "#                      range(6)):\n",
    "\n",
    "# +['10+']\n",
    "for key, n in zip([f'{m}' for m in [4,7,10,13]],\n",
    "                     range(4)):\n",
    "    \n",
    "    print(key)\n",
    "\n",
    "#     axs[n].text(0.95,0.95,f'{chr(97+n+1)}', weight='bold', \n",
    "#                 ha='right', va='top', size=FS, transform=axs[n].transAxes)\n",
    "    \n",
    "    ax = axs[n]\n",
    "    \n",
    "    # bathymetry\n",
    "    #-----------\n",
    "    ax.contour(dsg.lon.values, dsg.lat.values, dsg.elevation, \n",
    "                  levels=[-500,-400,-300,-200,], colors=['darkgray'], linewidths=0.5, linestyles='solid',\n",
    "                  zorder=1, transform=ccrs.PlateCarree())\n",
    "    ax.contour(dsb['xx'], dsb['yy'], dsb['avg'], levels=[-100], \n",
    "           colors=['darkgray'], linewidths=[1.5],linestyles=['solid'], transform=dsic['proj'])\n",
    "    \n",
    "    \n",
    "    \n",
    "    ax.add_geometries ([reg_poly], lw=1.75, edgecolor='k', facecolor='None',zorder=100, crs=ccrs.PlateCarree())\n",
    "    \n",
    "    ax.text(0.035,0.175,f'Day {key}', weight='bold', ha='left', va='bottom', transform=ax.transAxes)#, size=FS)\n",
    "    ax.text(0.035,0.075,f'(N={len(across[key]['date'])})', ha='left', va='bottom', transform=ax.transAxes)#, size=FS)\n",
    "    \n",
    "    \n",
    "    # Open water frequency\n",
    "    #-----------\n",
    "#     mesh = ax.pcolormesh(map_sic[key]['xx'], map_sic[key]['yy'], 100*map_sic[key]['open_freq'], \n",
    "#               vmin=0, vmax=50, cmap=cmocean.cm.dense, transform=dsic['proj'], zorder=0)\n",
    "\n",
    "    mesh = ax.pcolormesh(map_sic[key]['xx'], map_sic[key]['yy'], map_sic[key]['sic_mean'], \n",
    "              vmin=0, vmax=100, cmap=cmocean.cm.ice, transform=dsic['proj'], zorder=0)\n",
    "\n",
    "    # dashed line\n",
    "    endlon, endlat, backaz = g.fwd(startlon, startlat, -55, 400*1000)\n",
    "    ax.plot([startlon,endlon], [startlat,endlat], transform=ccrs.PlateCarree(), \n",
    "            c=[0.3,0.3,0.3], lw=1, zorder=98, ls='dashed')\n",
    "    \n",
    "    \n",
    "    \n",
    "    \n",
    "    for group, fc, ec, marker, ms, lw in zip([latt, wind, obss], \n",
    "                                       [ 'dodgerblue', 'r', [0.35]*3], \n",
    "                                       [ 'white', 'white', 'white'], \n",
    "                                       ['D','s', 'o'], [25, 35, 40], [0.75,0.75,0.75]):\n",
    "    \n",
    "        \n",
    "        distance = (group[np.where(np.array(list(across.keys()))==key)]*units('km')).to('m').magnitude\n",
    "    \n",
    "        endlon, endlat, backaz = g.fwd(startlon, startlat, -55, distance)\n",
    "        ax.scatter(endlon, endlat, transform=ccrs.PlateCarree(), \n",
    "                   s=ms, marker=marker, facecolor=fc, edgecolor=ec,lw=lw, zorder=102)\n",
    "#         ax.scatter(endlon, endlat, transform=ccrs.PlateCarree(), \n",
    "#                s=ms, marker=marker, facecolor='None', edgecolor=fc,lw=1.5, zorder=102)\n",
    "        \n",
    "        ax.scatter(endlon, endlat, transform=ccrs.PlateCarree(), \n",
    "               s=ms, marker=marker, facecolor='None', edgecolor='white',lw=2, zorder=101)\n",
    "\n",
    "\n",
    "ax = axs[1]\n",
    "ax.text(0.975,1.025, f'c', weight='bold', \n",
    "            ha='right', va='bottom', size=FS+2, transform=ax.transAxes)\n",
    "    \n",
    "plotter.add_colorbar(fig, axs[-1], [mesh], cb_placement='bottom', cb_orientation='auto', \n",
    "                     cb_width=0.025, cb_length_fraction=[0.2, 0.8], cb_pad=0.025, cb_ticks=[0,100], \n",
    "                     cb_ticklabels='auto', cb_extend='neither', cb_label='SIC (%)', labelpad=-10, \n",
    "                     cb_label_placement='auto', cb_tick_placement='auto', tick_kwargs=None, \n",
    "                     cb_labelsize=FS+0.5, draw_edges=False, edge_params=['k', 2])\n",
    "\n",
    "geomap.scalebar(axs[-2], loc=(0.2, -0.2), steps=[100,200,300],unit='km', \n",
    "                unit_label=None, colors=['k', 'w'], edgecolor=None, textsize=FS, lw=1, \n",
    "                bar_width=0.05, labelpad=0.015, ticklabelpad=0.01, zorder=100, clip_on=False)\n",
    "\n",
    "# fig.savefig('../figures/results/dailyevent_maps_nomarkers.png', dpi=400, bbox_inches='tight', pad_inches=0)\n",
    "\n",
    "fig.savefig('/Users/mackenziejewell/Desktop/dailyevent_maps_nomarkers_v2.png', dpi=400, bbox_inches='tight', pad_inches=0)\n"
   ]
  },
  {
   "cell_type": "code",
   "execution_count": 2315,
   "id": "ad97928e",
   "metadata": {},
   "outputs": [
    {
     "data": {
      "text/plain": [
       "dict_keys(['xx', 'yy', 'sic_mean', 'open_freq', 'missing_dates'])"
      ]
     },
     "execution_count": 2315,
     "metadata": {},
     "output_type": "execute_result"
    }
   ],
   "source": [
    "map_sic[key].keys()"
   ]
  },
  {
   "cell_type": "code",
   "execution_count": null,
   "id": "664def84",
   "metadata": {},
   "outputs": [],
   "source": [
    "        \n",
    "\n",
    "#     endlon, endlat, backaz = g.fwd(startlon, startlat, -55, distance)\n",
    "#     ax.scatter(endlon, endlat, transform=ccrs.PlateCarree(), \n",
    "#                s=ms, marker=marker, facecolor='None', edgecolor='white',lw=2.5, zorder=101)\n",
    "    \n",
    "# axs[2].text(0.975,1.05, f'c', weight='bold', \n",
    "#                 ha='right', va='bottom', size=FS+2, transform=axs[2].transAxes)\n",
    "\n",
    "# for aa, ax in enumerate(axs):\n",
    "#     ax.text(0.975,0.95, f'{chr(aa+97)}', weight='bold', \n",
    "#                 ha='right', va='top', transform=ax.transAxes)\n",
    "#     mesh = ax.pcolormesh(map_sic[key]['xx'], map_sic[key]['yy'], poly_maps[key]/total_maps[key], \n",
    "#               vmin=0, vmax=0.5, cmap=cmocean.cm.dense, transform=dsic['proj'])\n",
    "    \n",
    "    \n",
    "\n",
    "#     mesh = ax.pcolormesh(dsic['xx'], dsic['yy'], 100*poly_maps[key]/total_maps[key], \n",
    "#               vmin=0, vmax=0.5, cmap=cmocean.cm.dense, transform=dsic['proj'])\n",
    "    \n",
    "    \n",
    "#     mesh = ax.contourf(map_sic[key]['xx'], map_sic[key]['yy'], 100*map_sic[key]['open_freq'], \n",
    "#           vmin=0, vmax=50, levels = np.arange(0,50,5), extend='max', cmap=cmocean.cm.dense, transform=dsic['proj'])\n",
    "    \n",
    "#     mesh = ax.pcolormesh(map_sic[key]['xx'], map_sic[key]['yy'], map_sic[key]['open_freq'], \n",
    "#               vmin=0, vmax=0.6, cmap=cmocean.cm.dense, transform=dsic['proj'])\n",
    "    \n",
    "#     ax.contour(map_sic[key]['xx'], map_sic[key]['yy'], map_sic[key]['open_freq'], \n",
    "#                   levels=[0.25, 0.5, 0.75], colors=['gold'], linewidths=[0.5,], transform=dsic['proj'])\n",
    "    "
   ]
  },
  {
   "cell_type": "code",
   "execution_count": null,
   "id": "043f2195",
   "metadata": {},
   "outputs": [],
   "source": []
  },
  {
   "cell_type": "code",
   "execution_count": 1649,
   "id": "d117b6ea",
   "metadata": {},
   "outputs": [
    {
     "ename": "SyntaxError",
     "evalue": "invalid syntax (1248904131.py, line 1)",
     "output_type": "error",
     "traceback": [
      "\u001b[0;36m  Cell \u001b[0;32mIn[1649], line 1\u001b[0;36m\u001b[0m\n\u001b[0;31m    np.where(np.array(list(across.keys()))===key)\u001b[0m\n\u001b[0m                                            ^\u001b[0m\n\u001b[0;31mSyntaxError\u001b[0m\u001b[0;31m:\u001b[0m invalid syntax\n"
     ]
    }
   ],
   "source": [
    "np.where(np.array(list(across.keys()))==key)"
   ]
  },
  {
   "cell_type": "code",
   "execution_count": 1648,
   "id": "b269b2cd",
   "metadata": {},
   "outputs": [
    {
     "ename": "SyntaxError",
     "evalue": "invalid syntax (3325996145.py, line 1)",
     "output_type": "error",
     "traceback": [
      "\u001b[0;36m  Cell \u001b[0;32mIn[1648], line 1\u001b[0;36m\u001b[0m\n\u001b[0;31m    np.array(list(across.keys()))===key\u001b[0m\n\u001b[0m                                   ^\u001b[0m\n\u001b[0;31mSyntaxError\u001b[0m\u001b[0;31m:\u001b[0m invalid syntax\n"
     ]
    }
   ],
   "source": [
    "np.array(list(across.keys()))===key"
   ]
  },
  {
   "cell_type": "code",
   "execution_count": 1364,
   "id": "2ec68796",
   "metadata": {},
   "outputs": [
    {
     "data": {
      "text/plain": [
       "<matplotlib.collections.QuadMesh at 0x18ed8b9e0>"
      ]
     },
     "execution_count": 1364,
     "metadata": {},
     "output_type": "execute_result"
    },
    {
     "data": {
      "image/png": "[encoded data removed]",
      "text/plain": [
       "<Figure size 640x480 with 1 Axes>"
      ]
     },
     "metadata": {},
     "output_type": "display_data"
    }
   ],
   "source": [
    "plt.pcolormesh(100*poly_maps[key]/total_maps[key], vmin=0, vmax=2)"
   ]
  },
  {
   "cell_type": "code",
   "execution_count": 68,
   "id": "aa6bb3c4",
   "metadata": {},
   "outputs": [
    {
     "data": {
      "text/plain": [
       "array([ 4.60134166,  7.37179592, 10.19990879, 10.99057053,  9.99981421,\n",
       "       10.89446118, 11.10005022, 10.59874007, 10.06950905,  6.54918716,\n",
       "        4.46995354,  4.28742125])"
      ]
     },
     "execution_count": 68,
     "metadata": {},
     "output_type": "execute_result"
    }
   ],
   "source": [
    "obs_pers[50]"
   ]
  },
  {
   "cell_type": "code",
   "execution_count": null,
   "id": "63b246e2",
   "metadata": {},
   "outputs": [],
   "source": []
  },
  {
   "cell_type": "code",
   "execution_count": 1351,
   "id": "16b0747e",
   "metadata": {},
   "outputs": [
    {
     "data": {
      "text/plain": [
       "array(['1', '2', '3', '4', '5', '6', '7+'], dtype='<U10')"
      ]
     },
     "execution_count": 1351,
     "metadata": {},
     "output_type": "execute_result"
    }
   ],
   "source": [
    "np.array(list(across.keys()))[2:-2]"
   ]
  },
  {
   "cell_type": "code",
   "execution_count": 64,
   "id": "dd5cd45c",
   "metadata": {},
   "outputs": [
    {
     "data": {
      "text/plain": [
       "array([18.19694801, 19.89632191, 20.58659222, 19.22034985, 20.57656242,\n",
       "       22.30124835, 19.02141211, 17.13885497])"
      ]
     },
     "execution_count": 64,
     "metadata": {},
     "output_type": "execute_result"
    }
   ],
   "source": [
    "latt[2:-2]"
   ]
  },
  {
   "cell_type": "code",
   "execution_count": 65,
   "id": "3b41185e",
   "metadata": {},
   "outputs": [
    {
     "data": {
      "text/plain": [
       "array([ 26.10633609,  54.79942676,  77.75348895, 116.57773656,\n",
       "       144.62922272, 179.98019055, 251.01291598,  37.65266912])"
      ]
     },
     "execution_count": 65,
     "metadata": {},
     "output_type": "execute_result"
    }
   ],
   "source": [
    "wind[2:-2]"
   ]
  },
  {
   "cell_type": "code",
   "execution_count": 67,
   "id": "e927933e",
   "metadata": {},
   "outputs": [
    {
     "data": {
      "text/plain": [
       "array([10.19990879, 10.99057053,  9.99981421, 10.89446118, 11.10005022,\n",
       "       10.59874007, 10.06950905,  6.54918716])"
      ]
     },
     "execution_count": 67,
     "metadata": {},
     "output_type": "execute_result"
    }
   ],
   "source": [
    "obss[2:-2]"
   ]
  },
  {
   "cell_type": "code",
   "execution_count": 1366,
   "id": "1f18abe4",
   "metadata": {},
   "outputs": [],
   "source": [
    "key = '2'"
   ]
  },
  {
   "cell_type": "code",
   "execution_count": 1367,
   "id": "c09b572b",
   "metadata": {},
   "outputs": [
    {
     "data": {
      "text/plain": [
       "43"
      ]
     },
     "execution_count": 1367,
     "metadata": {},
     "output_type": "execute_result"
    }
   ],
   "source": [
    "len(across[key]['date'])"
   ]
  },
  {
   "cell_type": "code",
   "execution_count": 1376,
   "id": "eade9eec",
   "metadata": {},
   "outputs": [
    {
     "data": {
      "text/plain": [
       "<matplotlib.collections.QuadMesh at 0x18e99bef0>"
      ]
     },
     "execution_count": 1376,
     "metadata": {},
     "output_type": "execute_result"
    },
    {
     "data": {
      "image/png": "[encoded data removed]",
      "text/plain": [
       "<Figure size 640x480 with 1 Axes>"
      ]
     },
     "metadata": {},
     "output_type": "display_data"
    }
   ],
   "source": [
    "plt.pcolormesh(poly_maps[key], vmin=0, vmax=19)\n",
    "plt.pcolormesh(total_maps[key], vmin=0, vmax=200)\n",
    "# /total_maps[key]"
   ]
  },
  {
   "cell_type": "code",
   "execution_count": 1372,
   "id": "59584ea2",
   "metadata": {},
   "outputs": [
    {
     "data": {
      "text/plain": [
       "<matplotlib.collections.QuadMesh at 0x18f06e090>"
      ]
     },
     "execution_count": 1372,
     "metadata": {},
     "output_type": "execute_result"
    },
    {
     "data": {
      "image/png": "[encoded data removed]",
      "text/plain": [
       "<Figure size 640x480 with 1 Axes>"
      ]
     },
     "metadata": {},
     "output_type": "display_data"
    }
   ],
   "source": [
    "plt.pcolormesh(poly_maps[key]/total_maps[key], vmin=0, vmax=1)"
   ]
  },
  {
   "cell_type": "code",
   "execution_count": 1377,
   "id": "d77b8209",
   "metadata": {},
   "outputs": [
    {
     "name": "stdout",
     "output_type": "stream",
     "text": [
      "$t_{i}$\n",
      "-2\n",
      "$t_{i}$\n",
      "-1\n",
      "1\n",
      "2\n",
      "3\n",
      "4\n",
      "5\n",
      "6\n",
      "7+\n",
      "$t_{f}$\n",
      "+1\n",
      "$t_{f}$\n",
      "+2\n"
     ]
    }
   ],
   "source": [
    "poly_maps = {}\n",
    "for key in across.keys():\n",
    "    poly_maps[key] = np.zeros_like(dsic['xx'])\n",
    "    \n",
    "total_maps = {}\n",
    "for key in across.keys():\n",
    "    total_maps[key] = np.zeros_like(dsic['xx'])\n",
    "    \n",
    "for key in across.keys():\n",
    "    \n",
    "    print(key)\n",
    "    \n",
    "    for cdate in across[key]['date']:\n",
    "    \n",
    "        YEAR = int(cdate.split('-')[0])\n",
    "        MONTH = int(cdate.split('-')[1])\n",
    "        if MONTH == 12:\n",
    "            YEAR+=1\n",
    "\n",
    "        with xr.open_dataset(f'../data/polynya_size/daily_polynya_{YEAR}_sic10_v7.6_radius25km.nc') as ds2:\n",
    "\n",
    "            xval = np.array([float(val) for val in ds2.poly_interior_xx.sel(time=cdate).item().split('_')[1:]])\n",
    "            yval = np.array([float(val) for val in ds2.poly_interior_yy.sel(time=cdate).item().split('_')[1:]])\n",
    "\n",
    "            total_maps[key] += 1\n",
    "            \n",
    "            for xv, yv in zip(xval, yval):\n",
    "\n",
    "                dist = (dsic['xx']-xv)**2+(dsic['yy']-yv)**2\n",
    "                poly_maps[key][np.where(dist == 0)] += 1"
   ]
  },
  {
   "cell_type": "code",
   "execution_count": 1379,
   "id": "fbb2b5ee",
   "metadata": {},
   "outputs": [
    {
     "data": {
      "text/plain": [
       "<matplotlib.collections.QuadMesh at 0x18f4a1c10>"
      ]
     },
     "execution_count": 1379,
     "metadata": {},
     "output_type": "execute_result"
    },
    {
     "data": {
      "image/png": "[encoded data removed]",
      "text/plain": [
       "<Figure size 640x480 with 1 Axes>"
      ]
     },
     "metadata": {},
     "output_type": "display_data"
    }
   ],
   "source": [
    "key = '4'\n",
    "plt.pcolormesh(poly_maps[key]/total_maps[key])\n"
   ]
  },
  {
   "cell_type": "code",
   "execution_count": null,
   "id": "8ca797bf",
   "metadata": {},
   "outputs": [],
   "source": [
    "cdate.split('-')[0]"
   ]
  },
  {
   "cell_type": "code",
   "execution_count": 391,
   "id": "087ce8b9",
   "metadata": {},
   "outputs": [
    {
     "data": {
      "text/plain": [
       "'2002'"
      ]
     },
     "execution_count": 391,
     "metadata": {},
     "output_type": "execute_result"
    }
   ],
   "source": [
    "cdate.split('-')[0]"
   ]
  },
  {
   "cell_type": "code",
   "execution_count": 381,
   "id": "b5b2ff7d",
   "metadata": {},
   "outputs": [],
   "source": [
    "ds2 = xr.open_dataset('../data/polynya_size/daily_polynya_2003_sic10_v7.4_radius25km.nc')\n",
    "\n",
    "\n",
    "cdate = across[key]['date'][0]\n",
    "\n",
    "xval = np.array([float(val) for val in ds2.poly_interior_xx.sel(time=cdate).item().split('_')[1:]])\n",
    "yval = np.array([float(val) for val in ds2.poly_interior_yy.sel(time=cdate).item().split('_')[1:]])"
   ]
  },
  {
   "cell_type": "code",
   "execution_count": null,
   "id": "b7a2ebf2",
   "metadata": {},
   "outputs": [],
   "source": []
  },
  {
   "cell_type": "code",
   "execution_count": 382,
   "id": "cfd76c6a",
   "metadata": {},
   "outputs": [],
   "source": [
    "pol_counts = np.zeros_like(dsic['xx'])\n",
    "\n",
    "for xv, yv in zip(xval, yval):\n",
    "    \n",
    "    dist = (dsic['xx']-xv)**2+(dsic['yy']-yv)**2\n",
    "    \n",
    "    pol_counts[np.where(dist == 0)] = 1"
   ]
  },
  {
   "cell_type": "code",
   "execution_count": 383,
   "id": "715f363c",
   "metadata": {},
   "outputs": [
    {
     "data": {
      "text/plain": [
       "<matplotlib.collections.QuadMesh at 0x169aa0380>"
      ]
     },
     "execution_count": 383,
     "metadata": {},
     "output_type": "execute_result"
    },
    {
     "data": {
      "image/png": "[encoded data removed]",
      "text/plain": [
       "<Figure size 640x480 with 1 Axes>"
      ]
     },
     "metadata": {},
     "output_type": "display_data"
    }
   ],
   "source": [
    "plt.pcolormesh(pol_counts)"
   ]
  },
  {
   "cell_type": "code",
   "execution_count": 289,
   "id": "029de476",
   "metadata": {},
   "outputs": [
    {
     "data": {
      "text/plain": [
       "'1'"
      ]
     },
     "execution_count": 289,
     "metadata": {},
     "output_type": "execute_result"
    }
   ],
   "source": [
    "key"
   ]
  },
  {
   "cell_type": "code",
   "execution_count": 292,
   "id": "09d9459a",
   "metadata": {},
   "outputs": [
    {
     "data": {
      "text/plain": [
       "array(['$t_{i}$\\n-2', '$t_{i}$\\n-1', '1', '2', '3', '4', '5', '6', '7',\n",
       "       '8', '9', '10+', '$t_{f}$\\n+1', '$t_{f}$\\n+2'], dtype='<U10')"
      ]
     },
     "execution_count": 292,
     "metadata": {},
     "output_type": "execute_result"
    }
   ],
   "source": [
    "np.array(list(across.keys()))"
   ]
  },
  {
   "cell_type": "code",
   "execution_count": null,
   "id": "171aba8c",
   "metadata": {},
   "outputs": [],
   "source": []
  },
  {
   "cell_type": "code",
   "execution_count": null,
   "id": "a693e57e",
   "metadata": {},
   "outputs": [],
   "source": []
  },
  {
   "cell_type": "code",
   "execution_count": null,
   "id": "6512a8a3",
   "metadata": {},
   "outputs": [],
   "source": []
  },
  {
   "cell_type": "code",
   "execution_count": null,
   "id": "d6f95b5f",
   "metadata": {},
   "outputs": [],
   "source": []
  },
  {
   "cell_type": "code",
   "execution_count": null,
   "id": "6da7e49d",
   "metadata": {},
   "outputs": [],
   "source": [
    "\n",
    "\n",
    "def plot_angles(ax, X, cond, clip):\n",
    "    label_nums(ax, X, np.sum(cond), clip)\n",
    "    plot_dist(ax, X-0.15, *angle_distribution(dfb, cond, 'atm'), clip, bins = np.arange(0,361,7.5), yscale=1)\n",
    "    plot_dist(ax, X+0.15, *angle_distribution(dfb, cond, 'ice'), clip, bins = np.arange(0,361,7.5), yscale=1)\n",
    "    \n",
    "#     plot_point(ax, X-0.15, *speed_distribution(df_base, cond, 'atm'))\n",
    "#     plot_point(ax, X+0.15, *speed_distribution(df_base, cond, 'ice'))    \n",
    "    \n",
    "        \n",
    "def plot_temps(ax, X, cond, clip):\n",
    "    plot_dist(ax, X, *temp_distribution(df_base, cond), clip, bins = np.arange(-40,0,2), yscale=1)\n",
    "\n",
    "def plot_msls(ax, X, cond, clip):\n",
    "    plot_dist(ax, X, *msl_distribution(df_base, cond), clip, bins = np.arange(980,1060,4), yscale=1)\n",
    "    \n",
    "def plot_speeds(ax, X, cond, clip):\n",
    "    plot_dist(ax, X-0.15, *speed_distribution(dfb, cond, 'atm'), clip, bins = np.arange(0,20,1), yscale=1)\n",
    "    plot_dist(ax, X+0.15, *speed_distribution(dfb, cond, 'ice'), clip, bins = np.arange(0,40,2), yscale=0.5)    \n",
    "\n",
    "#     plot_point(ax, X-0.15, *speed_distribution(df_base, cond, 'atm'))\n",
    "#     plot_point(ax, X+0.15, *speed_distribution(df_base, cond, 'ice'))    \n",
    "    \n",
    "    \n",
    "def plot_dist(ax, X, y, Y, color, bg_color, clip, bins = np.arange(0,40,2), yscale = 1, scale = 5, show_mode = False):\n",
    "    \n",
    "    h = plotter.quick_hist(y, bin_edges=bins)\n",
    "    \n",
    "    if show_mode == True:\n",
    "        ax.scatter(X, h['centers'][np.argmax(h['prob'])], marker='s', edgecolor=color, facecolor='None',clip_on=clip)\n",
    "    else:\n",
    "        ax.scatter(X, yscale*Y, marker='o', edgecolor=color, facecolor='None', s=40, clip_on=clip, zorder=100)\n",
    "        \n",
    "#     ax.scatter(X, h['centers'][np.argmax(h['prob'])], marker='o', edgecolor='None', facecolor=color, s=20, clip_on=clip)\n",
    "    ax.fill_betweenx(yscale*h['edges'][:-1], X - scale*h['prob']/2, X + scale*h['prob']/2, \n",
    "                     lw=0, color=bg_color, alpha=0.5, zorder=-1, clip_on=clip)   \n",
    "    \n",
    "#     ax.barh(h['centers'], scale*h['prob'], height=h['w'], left= X - scale*h['prob']/2, align='center', \n",
    "#             color=bg_color, alpha=0.5, zorder=-1, clip_on=clip)\n",
    "    \n",
    "\n",
    "def plot_point(ax, X, y, Y, color, bg_color):\n",
    "    ax.scatter(X, Y, c=color, clip_on=False)\n",
    "    ax.scatter(np.linspace(X-0.05,X+0.05, len(y)), y, c=bg_color, s=1, zorder=-1, clip_on=False)\n",
    "\n",
    "    \n",
    "def size_distribution(df, cond):\n",
    "\n",
    "    all_sizes = df['extent'][cond]/1000\n",
    "    mean_size = np.nanmean(all_sizes)\n",
    "    print(mean_size)\n",
    "    color = 'k'\n",
    "    bg_color = 'gray'\n",
    "\n",
    "    return all_sizes, mean_size, color, bg_color\n",
    "\n",
    "\n",
    "def msl_distribution(df, cond):\n",
    "\n",
    "    all_ = df['msl'][cond]/100\n",
    "    mean_ = np.nanmean(all_)\n",
    "    color = 'k'\n",
    "    bg_color = 'gray'\n",
    "\n",
    "    return all_, mean_, color, bg_color\n",
    "\n",
    "def temp_distribution(df, cond):\n",
    "\n",
    "    all_ = df['t2m'][cond]\n",
    "    mean_ = np.nanmean(all_)\n",
    "    color = 'k'\n",
    "    bg_color = 'gray'\n",
    "\n",
    "    return all_, mean_, color, bg_color\n",
    "\n",
    "\n",
    "def speed_distribution(df, cond, group):\n",
    "    \n",
    "    if group == 'atm':\n",
    "        all_speeds = df['s10'][cond]\n",
    "        mean_speed = np.nanmean(all_speeds)\n",
    "        color = 'dodgerblue'\n",
    "        bg_color = 'dodgerblue'\n",
    "    else:\n",
    "        all_speeds = df['si'][cond] #* units('cm/s').to('km/day').magnitude\n",
    "        mean_speed = np.nanmean(all_speeds)\n",
    "        color = 'r'\n",
    "        bg_color = 'lightcoral'\n",
    "\n",
    "    return all_speeds, mean_speed, color, bg_color\n",
    "\n",
    "def angle_distribution(df, cond, group):\n",
    "\n",
    "    if group == 'atm':\n",
    "        U = df['u10'][cond]\n",
    "        V = df['v10'][cond]\n",
    "        color = 'dodgerblue'\n",
    "        bg_color = 'dodgerblue'\n",
    "    else:\n",
    "        U = df['ui'][cond]\n",
    "        V = df['vi'][cond]\n",
    "        color = 'r'\n",
    "        bg_color = 'lightcoral'\n",
    "\n",
    "    all_angles = np.array([vectors.vector_angle(u,v).magnitude for u,v in zip(U,V)])\n",
    "    mean_angle = vectors.vector_angle(np.nanmean(U), np.nanmean(V)).magnitude\n",
    "    \n",
    "    if mean_angle < 0:\n",
    "        mean_angle+=360\n",
    "    all_angles[all_angles<0] += 360\n",
    "\n",
    "    return all_angles, mean_angle, color, bg_color\n",
    "\n",
    "def label_nums(ax, x, N, clip):\n",
    "    ax.text(x, -10, N, ha='center',va='bottom', size=5, clip_on=clip)\n",
    "    \n",
    "    "
   ]
  }
 ],
 "metadata": {
  "kernelspec": {
   "display_name": "SBSpolynya",
   "language": "python",
   "name": "sbspolynya"
  },
  "language_info": {
   "codemirror_mode": {
    "name": "ipython",
    "version": 3
   },
   "file_extension": ".py",
   "mimetype": "text/x-python",
   "name": "python",
   "nbconvert_exporter": "python",
   "pygments_lexer": "ipython3",
   "version": "3.12.2"
  }
 },
 "nbformat": 4,
 "nbformat_minor": 5
}
