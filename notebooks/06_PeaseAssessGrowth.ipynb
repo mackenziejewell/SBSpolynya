{
 "cells": [
  {
   "cell_type": "markdown",
   "id": "fb4c86f6",
   "metadata": {},
   "source": [
    "### Import packages"
   ]
  },
  {
   "cell_type": "code",
   "execution_count": 1,
   "id": "97ddeabc",
   "metadata": {},
   "outputs": [],
   "source": [
    "%load_ext autoreload\n",
    "%autoreload 2\n",
    "\n",
    "# general\n",
    "import numpy as np, numpy.ma as ma\n",
    "import xarray as xr\n",
    "import pandas as pd\n",
    "\n",
    "# time\n",
    "from datetime import datetime, timedelta\n",
    "import calendar\n",
    "from calendar import monthrange\n",
    "\n",
    "# local system \n",
    "import sys  \n",
    "import glob\n",
    "import os\n",
    "\n",
    "# plotting\n",
    "import matplotlib as mpl\n",
    "from matplotlib import pyplot as plt\n",
    "import matplotlib.colors\n",
    "import cmocean\n",
    "import matplotlib.patches as mpatches\n",
    "from mpl_toolkits.axes_grid1.inset_locator import inset_axes\n",
    "from matplotlib.colors import Normalize\n",
    "import matplotlib.ticker as ticker\n",
    "# from matplotlib.ticker import MultipleLocator\n",
    "\n",
    "import matplotlib.dates as mdates\n",
    "import matplotlib.patches as patches\n",
    "import matplotlib.ticker as mticker\n",
    "\n",
    "from scipy import stats\n",
    "\n",
    "\n",
    "# geo plotting\n",
    "import cartopy\n",
    "import cartopy.crs as ccrs\n",
    "import cartopy.feature as cfeat\n",
    "from cartopy import img_transform\n",
    "\n",
    "from metpy.units import units\n",
    "\n",
    "# path to own functions\n",
    "sys.path.append('../../')\n",
    "import timeseries.adjust as tseries\n",
    "import timeseries.analyze as tanalyze\n",
    "import geofunc.general as geogen\n",
    "import geofunc.vectors as vectors\n",
    "import geofunc.shapes as geoshape\n",
    "import plot_simply.general as plotter\n",
    "import plot_simply.geomap as geomap\n",
    "import data_NSIDC.icedrift as icedrift\n",
    "import data_UniBremen.SIC as unisic\n",
    "\n",
    "sys.path.append('../')\n",
    "import functions as fn"
   ]
  },
  {
   "cell_type": "markdown",
   "id": "8de101bd",
   "metadata": {},
   "source": [
    "## Function to run pease model"
   ]
  },
  {
   "cell_type": "code",
   "execution_count": 145,
   "id": "bfdf0349",
   "metadata": {},
   "outputs": [],
   "source": [
    "def Pease_Model_v2(event_df, wf=0.02, ta=35, poly_dir=145, Hi = 25 * units('cm'), show_plot = False):\n",
    "\n",
    "\n",
    "    def convert_to_k(T):\n",
    "\n",
    "        if T.units == 'degree_Celsius':\n",
    "            T = T.to('degree_Kelvin')\n",
    "        elif T.units == 'delta_degree_Celsius':\n",
    "            print('T!! should not be delta deg C')\n",
    "        return T\n",
    "\n",
    "\n",
    "    def find_Qlu(Tw, sigma, eo):\n",
    "        Tw = convert_to_k(Tw)\n",
    "        qlu = sigma * eo * Tw**4\n",
    "        return qlu.to('W/m2')\n",
    "\n",
    "\n",
    "    def find_Qld(Ta, sigma, ea):\n",
    "        Ta = convert_to_k(Ta)\n",
    "        qld = sigma * ea * Ta**4\n",
    "        return qld.to('W/m2')\n",
    "\n",
    "\n",
    "    def find_Qs(Ta, Tw, rho_a, Cpa, Va):\n",
    "\n",
    "        Ta = Ta.magnitude * units('delta_degree_Celsius')\n",
    "        Tw = Tw.magnitude * units('delta_degree_Celsius')\n",
    "\n",
    "        Ch = 2e-3 # sensible heat coefficient\n",
    "\n",
    "        qs = rho_a * Ch * Cpa * Va * (Ta-Tw)\n",
    "\n",
    "        return qs.to('W/m2')\n",
    "\n",
    "\n",
    "    def open_Qld(event_df):\n",
    "        # determine event year to open\n",
    "        event_year = pd.to_datetime(event_df.time.values[-1]).year\n",
    "        if pd.to_datetime(event_df.time.values[-1]).month == 12:\n",
    "            event_year+=1\n",
    "\n",
    "        # grab shortwave downward data\n",
    "        with xr.open_dataset(f'../data/forcing/regional_daily_era_strd_{event_year}_v7.nc') as ds_sw:\n",
    "            down_longwave = ds_sw.strd.sel(time=event_df.time.values).values * units('W/m2')\n",
    "\n",
    "        qld = (down_longwave) # longwave down\n",
    "\n",
    "        return qld\n",
    "    \n",
    "    \n",
    "    def open_Qr(event_df):\n",
    "        # determine event year to open\n",
    "        event_year = pd.to_datetime(event_df.time.values[-1]).year\n",
    "        if pd.to_datetime(event_df.time.values[-1]).month == 12:\n",
    "            event_year+=1\n",
    "\n",
    "        # grab shortwave downward data\n",
    "        with xr.open_dataset(f'../data/forcing/regional_daily_era_ssrd_{event_year}_v7.nc') as ds_sw:\n",
    "            down_shortwave = ds_sw.ssrd.sel(time=event_df.time.values).values * units('W/m2')\n",
    "\n",
    "        qr = (1-0.1)*(down_shortwave) # short wave radiation absorbed (10% albedo)\n",
    "\n",
    "        return qr\n",
    "    \n",
    "    \n",
    "    \n",
    "    # wind component that extends polynya\n",
    "#     wind_angle = (poly_dir+ta)*units('degree')\n",
    "#     wind_comp = vectors.comp_along_theta(event_df['u10'].values, event_df['v10'].values, wind_angle)\n",
    "#     wind_speed = np.sqrt(event_df['u10'].values**2 + event_df['v10'].values**2) * units('m/s')\n",
    "\n",
    "\n",
    "    \n",
    "    # observed wind speed and direction\n",
    "    wind_speed = np.sqrt(event_df['u10'].values**2 + event_df['v10'].values**2) * units('m/s')\n",
    "    wind_dir = vectors.vector_angle(event_df['u10'].values, event_df['v10'].values)\n",
    "    \n",
    "    # predicted ice speed and direction\n",
    "    ice_speed = wf * wind_speed.to('km/day')\n",
    "    ice_dir = wind_dir - (ta*units('degree'))\n",
    "    \n",
    "    # back to components\n",
    "    ice_u = ice_speed * np.cos(ice_dir.to('radian').magnitude)\n",
    "    ice_v = ice_speed * np.sin(ice_dir.to('radian').magnitude)\n",
    "    \n",
    "    # component of ice drift along polynya direction\n",
    "    ice_comp_along_polynya = vectors.comp_along_theta(ice_u, ice_v, poly_dir*units('degree'))\n",
    "    Vi = ice_comp_along_polynya\n",
    "    \n",
    "    # daily ice drift\n",
    "#     Vi = wf * wind_comp*units('m/s').to('km/day')\n",
    "\n",
    "    # air temperature\n",
    "    Ta = event_df['t2m'].values * units('degC')\n",
    "\n",
    "    # water temperature\n",
    "    Tw = -1.8 * units('degC')\n",
    "\n",
    "    # surface heat balance\n",
    "    #-----------------------\n",
    "    # define positive upward\n",
    "    Qlu = find_Qlu(Tw, cst['sigma_sb'], 0.98)\n",
    "    Qld = -find_Qld(Ta, cst['sigma_sb'], 0.95)\n",
    "#     Qld = -open_Qld(event_df)\n",
    "    Qs = -find_Qs(Ta, Tw, cst['rho_a'], cst['Cp_a'], wind_speed)\n",
    "    Qr = -open_Qr(event_df) # short wave radiation absorbed (5% albedo)\n",
    "\n",
    "    Qnet = Qlu+Qld+Qs+Qr\n",
    "\n",
    "    # heat flux to ice production rate\n",
    "    #-----------------------------------\n",
    "    Fi = (Qnet / (cst['L_i']*cst['rho_i'])).to('cm/day')\n",
    "    \n",
    "    \n",
    "    if show_plot:\n",
    "        fig, ax = plt.subplots(figsize=(3,3))\n",
    "        ax.plot(Qs, label='sensible')\n",
    "        ax.axhline(Qlu, label='lw u', c='b')\n",
    "        ax.plot(Qld, label='lw d')\n",
    "        ax.plot(Qr, label='shortwave')\n",
    "        ax.plot(Qnet, c='k', label='net')\n",
    "        ax.legend()\n",
    "        \n",
    "        \n",
    "        \n",
    "    # iteratively solve for the length\n",
    "    #---------------------------------\n",
    "    Xp = np.array([0]) * units('m')\n",
    "\n",
    "    for tt in range(len(event_df)):\n",
    "\n",
    "        # current length\n",
    "        X_curr = Xp[-1]\n",
    "\n",
    "        # change in length\n",
    "        dXdt = Vi[tt] - X_curr * Fi[tt] / Hi\n",
    "        dX = dXdt * units('day')\n",
    "\n",
    "\n",
    "        Xnew = X_curr + dX\n",
    "        Xp = np.append(Xp, Xnew)\n",
    "\n",
    "\n",
    "    X_num = Xp[1:].to('km')\n",
    "\n",
    "    # solve for limiting width\n",
    "    #---------------------------------\n",
    "    X_max = (Vi * Hi / Fi).to('km')\n",
    "    # time to reach 95% of limiting size\n",
    "    t95 = (3 * Hi / Fi).to('day')\n",
    "    \n",
    "    if show_plot:\n",
    "        fig, ax = plt.subplots(figsize=(8,3))\n",
    "        ax.plot(event_df.time, np.cumsum(Vi.magnitude), marker='.', c='k', label='Fi=0')\n",
    "        ax.plot(event_df.time, X_num.to('km'), label='iter')\n",
    "        ax.plot(event_df.time, X_max.to('km'), label='limiting width')\n",
    "        ax.bar(event_df.time, event_df.length_145max, color='lightgray', label='obs')\n",
    "        plt.legend()\n",
    "\n",
    "    X_zip = np.cumsum(Vi*units('day'))\n",
    "    \n",
    "    return X_num, X_max, t95, X_zip, Ta, Vi, wind_speed"
   ]
  },
  {
   "cell_type": "code",
   "execution_count": null,
   "id": "b1f87778",
   "metadata": {},
   "outputs": [],
   "source": []
  },
  {
   "cell_type": "code",
   "execution_count": 3,
   "id": "ac5bc9fc",
   "metadata": {},
   "outputs": [
    {
     "data": {
      "text/plain": [
       "{'Cp_o': <Quantity(3850.0, 'joule / kilogram / delta_degree_Celsius')>,\n",
       " 'Cp_a': <Quantity(1004.0, 'joule / kilogram / delta_degree_Celsius')>,\n",
       " 'sigma_sb': <Quantity(5.670367e-08, 'watt / meter ** 2 / kelvin ** 4')>,\n",
       " 'rho_a': <Quantity(1.225, 'kilogram / meter ** 3')>,\n",
       " 'rho_o': <Quantity(1028.0, 'kilogram / meter ** 3')>,\n",
       " 'rho_i': <Quantity(917.0, 'kilogram / meter ** 3')>,\n",
       " 'L_i': <Quantity(334000.0, 'joule / kilogram')>,\n",
       " 'k_i': <Quantity(2.2, 'watt / meter / delta_degree_Celsius')>,\n",
       " 'kappa': <Quantity(0.4, 'dimensionless')>,\n",
       " 'St': <Quantity(0.0057, 'dimensionless')>,\n",
       " 'omega': <Quantity(7.2921e-05, 'radian / second')>}"
      ]
     },
     "execution_count": 3,
     "metadata": {},
     "output_type": "execute_result"
    }
   ],
   "source": [
    "# constants\n",
    "df = pd.read_csv('../data/constants.csv')\n",
    "df = df.set_index('var')\n",
    "df\n",
    "\n",
    "cst = {}\n",
    "for variable in list(df.index):\n",
    "    cst[variable] = df.loc[variable]['value'] * units(df.loc[variable]['units'])\n",
    "    \n",
    "cst"
   ]
  },
  {
   "cell_type": "code",
   "execution_count": 4,
   "id": "0af264aa",
   "metadata": {},
   "outputs": [],
   "source": [
    "\n",
    "# open regional bounding coordinates\n",
    "df = pd.read_csv('../data/coastal_region_bounds_v7.csv')\n",
    "reg_poly = geoshape.make_polygon(np.stack((df['lons'], df['lats']), axis=1))\n"
   ]
  },
  {
   "cell_type": "markdown",
   "id": "102115b5",
   "metadata": {},
   "source": [
    "# polynya and regional stats"
   ]
  },
  {
   "cell_type": "code",
   "execution_count": 118,
   "id": "8bf080be",
   "metadata": {},
   "outputs": [
    {
     "name": "stderr",
     "output_type": "stream",
     "text": [
      "/var/folders/p8/hz449fpx6nscv0jb1klyfqb40000gp/T/ipykernel_11159/2666883459.py:21: SettingWithCopyWarning: \n",
      "A value is trying to be set on a copy of a slice from a DataFrame\n",
      "\n",
      "See the caveats in the documentation: https://pandas.pydata.org/pandas-docs/stable/user_guide/indexing.html#returning-a-view-versus-a-copy\n",
      "  df[f'{cat}_r'][df[f'{cat}_r']<0]+=360\n",
      "/var/folders/p8/hz449fpx6nscv0jb1klyfqb40000gp/T/ipykernel_11159/2666883459.py:21: SettingWithCopyWarning: \n",
      "A value is trying to be set on a copy of a slice from a DataFrame\n",
      "\n",
      "See the caveats in the documentation: https://pandas.pydata.org/pandas-docs/stable/user_guide/indexing.html#returning-a-view-versus-a-copy\n",
      "  df[f'{cat}_r'][df[f'{cat}_r']<0]+=360\n",
      "/var/folders/p8/hz449fpx6nscv0jb1klyfqb40000gp/T/ipykernel_11159/2666883459.py:21: SettingWithCopyWarning: \n",
      "A value is trying to be set on a copy of a slice from a DataFrame\n",
      "\n",
      "See the caveats in the documentation: https://pandas.pydata.org/pandas-docs/stable/user_guide/indexing.html#returning-a-view-versus-a-copy\n",
      "  df[f'{cat}_r'][df[f'{cat}_r']<0]+=360\n",
      "/var/folders/p8/hz449fpx6nscv0jb1klyfqb40000gp/T/ipykernel_11159/2666883459.py:21: SettingWithCopyWarning: \n",
      "A value is trying to be set on a copy of a slice from a DataFrame\n",
      "\n",
      "See the caveats in the documentation: https://pandas.pydata.org/pandas-docs/stable/user_guide/indexing.html#returning-a-view-versus-a-copy\n",
      "  df[f'{cat}_r'][df[f'{cat}_r']<0]+=360\n"
     ]
    }
   ],
   "source": [
    "df = pd.read_csv('../data/compiled_stats.csv')\n",
    "\n",
    "# df['esei'] = vectors.comp_along_theta(df['ui'], df['vi'], 145*units('degree')) * units('cm/s').to('km/day')\n",
    "\n",
    "df['i145'] = vectors.comp_along_theta(df['ui'], df['vi'], 145*units('degree')) * units('cm/s').to('km/day')\n",
    "df['i165'] = vectors.comp_along_theta(df['ui'], df['vi'], 165*units('degree')) * units('cm/s').to('km/day')\n",
    "\n",
    "df['ese10'] = 0.02*vectors.comp_along_theta(df['u10'], df['v10'], 180*units('degree'))* units('m/s').to('km/day')\n",
    "# df['ese10'][df.year>=2016] = 1.3*df['ese10'][df.year>=2016]\n",
    "\n",
    "\n",
    "\n",
    "\n",
    "df['si_km'] = df['si'] * units('cm/s').to('km/day')\n",
    "\n",
    "df['e10'] = - df['u10']\n",
    "# manually modify this for now since I set too strict of threshold\n",
    "\n",
    "for cat in ['a10', 'ai', 'centermass_direction', 'max_length_direction']:\n",
    "    df[f'{cat}_r'] = 90-df[f'{cat}']\n",
    "    df[f'{cat}_r'][df[f'{cat}_r']<0]+=360\n",
    "\n",
    "df['up'] = df['centermass_length'].values * np.cos(df['centermass_direction'].values*np.pi/180)\n",
    "df['vp'] = df['centermass_length'].values * np.sin(df['centermass_direction'].values*np.pi/180)\n",
    "                     \n",
    "    \n",
    "vi = (df['ui'].values, df['vi'].values)\n",
    "vw = (df['u10'].values, df['v10'].values)\n",
    "vp = (df['up'].values, df['vp'].values )\n",
    "                              \n",
    "df['ta_wi'] = vectors.turning_angle(vw,vi).magnitude\n",
    "df['ta_ip'] = vectors.turning_angle(vi,vp).magnitude\n",
    "df['ta_wp'] = vectors.turning_angle(vw,vp).magnitude\n",
    "\n",
    "\n",
    "\n",
    "\n",
    "# identify base period\n",
    "dfb = df[df['2003_2023']]\n",
    "\n",
    "dfr = df[df.year >= 2003]\n"
   ]
  },
  {
   "cell_type": "code",
   "execution_count": null,
   "id": "adbf6cb2",
   "metadata": {},
   "outputs": [],
   "source": []
  },
  {
   "cell_type": "code",
   "execution_count": 562,
   "id": "3c0f020f",
   "metadata": {},
   "outputs": [],
   "source": [
    "def dir_conds(dff, cat):\n",
    "    \n",
    "    if cat == 'wind':\n",
    "        dir_cond = (dff['a10_r'] > 260) & (dff['a10_r'] < 305)\n",
    "        \n",
    "    elif cat == 'ice':   \n",
    "        dir_cond = (dff['ai_r'] > 270) & (dff['ai_r'] < 315)\n",
    "\n",
    "    elif cat == 'poly':\n",
    "        dir_cond = (dff['centermass_direction_r'] > 280) & (dff['centermass_direction_r'] < 330)\n",
    "        \n",
    "    return dir_cond\n",
    "\n",
    "def speed_conds(dff, cat):\n",
    "    \n",
    "    if cat == 'wind':\n",
    "        speed_cond = (dff['s10'] > 6)\n",
    "    elif cat == 'ice':\n",
    "        speed_cond = (dff['si_km'] > 10)\n",
    "\n",
    "    return speed_cond\n"
   ]
  },
  {
   "cell_type": "code",
   "execution_count": 565,
   "id": "a1e1a3ef",
   "metadata": {},
   "outputs": [],
   "source": [
    "#===============\n",
    "DF = dfr\n",
    "#===============\n",
    "\n",
    "shoulder = (DF['season_start_flag'] + DF['season_end_flag'])\n",
    "shoulder = DF['season_start_flag']\n",
    "\n",
    "# wind_comp = vectors.comp_along_theta(DF['u10'].values, DF['v10'].values, wind_angle)\n",
    "\n",
    "# wind_event = dir_conds(DF, 'wind') & (DF.s10>6)\n",
    "\n",
    "# wind_event = (DF.s10>0)\n",
    "wind_event = (DF.s10>6) #& dir_conds(DF, 'wind')\n",
    "# wind_event = dir_conds(DF, 'wind')\n",
    "# wind_event = (DF.u10<0) & (DF.s10>6.5)\n",
    "\n",
    "# wind_event = speed_conds(DF, 'wind') & (DF.u10<0)\n",
    "# wind_event = speed_conds(DF, 'wind') & dir_conds(DF, 'wind')\n",
    "# wind_event =(wind_comp>0)\n",
    "#  speed_conds(DF, 'wind') & "
   ]
  },
  {
   "cell_type": "code",
   "execution_count": null,
   "id": "99dec315",
   "metadata": {},
   "outputs": [],
   "source": []
  },
  {
   "cell_type": "code",
   "execution_count": 566,
   "id": "0d16859a",
   "metadata": {},
   "outputs": [
    {
     "data": {
      "text/plain": [
       "0.782608695652174"
      ]
     },
     "execution_count": 566,
     "metadata": {},
     "output_type": "execute_result"
    }
   ],
   "source": [
    "126/161"
   ]
  },
  {
   "cell_type": "code",
   "execution_count": 567,
   "id": "d2eaf563",
   "metadata": {},
   "outputs": [
    {
     "data": {
      "text/plain": [
       "161"
      ]
     },
     "execution_count": 567,
     "metadata": {},
     "output_type": "execute_result"
    }
   ],
   "source": [
    "len(list(set(DF.sequence)))"
   ]
  },
  {
   "cell_type": "code",
   "execution_count": 568,
   "id": "c74e57e1",
   "metadata": {},
   "outputs": [
    {
     "data": {
      "text/plain": [
       "5"
      ]
     },
     "execution_count": 568,
     "metadata": {},
     "output_type": "execute_result"
    }
   ],
   "source": [
    "len(list(set(DF[shoulder].sequence)))"
   ]
  },
  {
   "cell_type": "code",
   "execution_count": 569,
   "id": "0a617a63",
   "metadata": {},
   "outputs": [
    {
     "data": {
      "text/plain": [
       "32"
      ]
     },
     "execution_count": 569,
     "metadata": {},
     "output_type": "execute_result"
    }
   ],
   "source": [
    "161-129"
   ]
  },
  {
   "cell_type": "code",
   "execution_count": 570,
   "id": "8ca7c6af",
   "metadata": {},
   "outputs": [],
   "source": [
    "\n",
    "# determine sequences to evaluate\n",
    "# omit any that intersect with beginning/end of ice season\n",
    "# and make sure strong wind occur for at least part of event\n",
    "\n",
    "initial_cond = ((DF.sequence!=-999)&(shoulder==False))&wind_event\n",
    "all_seqs = np.array(list(set(DF.sequence[initial_cond])))\n",
    "\n",
    "\n",
    "# print(len(all_seqs))\n",
    "\n",
    "evaluate = {}\n",
    "\n",
    "all_days = np.array([])\n",
    "\n",
    "for ss in all_seqs:\n",
    "    \n",
    "    # current event\n",
    "    event = (DF.sequence==ss)\n",
    "    \n",
    "    M = pd.to_datetime(DF.time[event].values[0]).month \n",
    "    D = pd.to_datetime(DF.time[event].values[0]).day \n",
    "    \n",
    "    # if first day of event has weak winds, omit\n",
    "    if wind_event[event].values[0]==False:\n",
    "        print(f'{ss}: weak winds to start, omit')\n",
    "        \n",
    "#     elif (M == 12)&(D<4):\n",
    "#         print(f'{DF.time[event].values[0]}: too early, omit')\n",
    "\n",
    "    # otherwise, proceed\n",
    "    else:\n",
    "        evaluate[ss] = {}\n",
    "        evaluate[ss]['max_ll'] = 0\n",
    "        evaluate[ss]['start'] = DF.time[event].values[0] # start time\n",
    "        evaluate[ss]['si'] = np.where(DF.time == DF.time[event].values[0])[0][0] # start index\n",
    "        \n",
    "        day_before = pd.to_datetime(DF.time[event].values[0]) - timedelta(days=1)\n",
    "        day2_before = pd.to_datetime(DF.time[event].values[0]) - timedelta(days=2)\n",
    "        day3_before = pd.to_datetime(DF.time[event].values[0]) - timedelta(days=3)\n",
    "        evaluate[ss]['dbi'] = np.where(pd.to_datetime(DF.time) == day_before)[0][0] # day before\n",
    "        # cannot go 2 days before becuase data missing for some events (e.g. '2019-12-02')\n",
    "#         evaluate[ss]['dbi2'] = np.where(pd.to_datetime(DF.time) == day2_before)[0][0] # day before\n",
    "#         evaluate[ss]['dbi3'] = np.where(pd.to_datetime(DF.time) == day3_before)[0][0] # day before\n",
    "        \n",
    "        # only include days where wind event persists\n",
    "        for ii in range(len(wind_event[event].values)):\n",
    "            if wind_event[event].values[ii] == True:\n",
    "                evaluate[ss]['max_ll'] = DF.event_day[event].values[ii] # maximum event day w/ cont. winds\n",
    "                evaluate[ss]['end'] = DF.time[event].values[ii]         # end time\n",
    "                evaluate[ss]['fi'] = np.where(DF.time == DF.time[event].values[ii])[0][0] # end index\n",
    "            else:\n",
    "                break\n",
    "\n",
    "        all_days = np.append(all_days, evaluate[ss]['max_ll'])"
   ]
  },
  {
   "cell_type": "code",
   "execution_count": 571,
   "id": "a7b0bdbb",
   "metadata": {},
   "outputs": [
    {
     "data": {
      "text/plain": [
       "(array([79., 19.,  9.,  8.,  6.,  3.,  1.,  1.,  2.,  2.]),\n",
       " array([ 1. ,  2.2,  3.4,  4.6,  5.8,  7. ,  8.2,  9.4, 10.6, 11.8, 13. ]),\n",
       " <BarContainer object of 10 artists>)"
      ]
     },
     "execution_count": 571,
     "metadata": {},
     "output_type": "execute_result"
    },
    {
     "data": {
      "image/png": "[encoded data removed]",
      "text/plain": [
       "<Figure size 640x480 with 1 Axes>"
      ]
     },
     "metadata": {},
     "output_type": "display_data"
    }
   ],
   "source": [
    "plt.hist(all_days)"
   ]
  },
  {
   "cell_type": "markdown",
   "id": "17c1d52e",
   "metadata": {},
   "source": [
    "### Set up dictionary to save data by day"
   ]
  },
  {
   "cell_type": "code",
   "execution_count": null,
   "id": "72d32744",
   "metadata": {},
   "outputs": [],
   "source": []
  },
  {
   "cell_type": "code",
   "execution_count": 572,
   "id": "603a89bf",
   "metadata": {},
   "outputs": [],
   "source": [
    "across = {}\n",
    "\n",
    "#========\n",
    "lmax = 9\n",
    "#========\n",
    "\n",
    "\n",
    "cats = ['Fi=0', 'Xlim', 'Xp', 'Xo', 'seq', 'Ta', 'Vi', 'ws', 'date', 'cum_drift_real']\n",
    "\n",
    "# across[f'-3'] = {}\n",
    "# for cat in cats:\n",
    "#     across[f'-3'][cat] = np.array([])\n",
    "    \n",
    "# across[f'-2'] = {}\n",
    "# for cat in cats:\n",
    "#     across[f'-2'][cat] = np.array([])\n",
    "    \n",
    "# across[f'-1'] = {}\n",
    "# for cat in cats:\n",
    "#     across[f'-1'][cat] = np.array([])\n",
    "\n",
    "for ll in range(1, lmax+1):\n",
    "    across[f'{ll}'] = {}\n",
    "    for cat in cats:\n",
    "        across[f'{ll}'][cat] = np.array([])\n",
    "\n",
    "across[f'{lmax+1}+'] = {}\n",
    "for cat in cats:\n",
    "    across[f'{lmax+1}+'][cat] = np.array([])\n",
    "    \n",
    "    \n",
    "    \n",
    "    \n",
    "# model params\n",
    "#===============================\n",
    "wf = 0.02 # wind factor\n",
    "ta = 20   # CW turning angle wind to ice, degrees\n",
    "poly_dir = 145  #  polynya direction, degrees CCW from E\n",
    "Hi = 25 * units('cm')\n",
    "#===============================\n",
    "    \n",
    "for ev in list(evaluate.keys()):\n",
    "    \n",
    "    # open data from event\n",
    "    dbi = evaluate[ev]['dbi']\n",
    "    si = evaluate[ev]['si']\n",
    "    fi = evaluate[ev]['fi']\n",
    "\n",
    "    # grab conditions over event\n",
    "    #===============================\n",
    "    event_df = DF[si:fi+1]\n",
    "    #===============================\n",
    "    \n",
    "    \n",
    "\n",
    "    # run model\n",
    "    X_num, X_max, t95, X_zip, Tair, Vice, wsp = Pease_Model_v2(event_df, wf=wf, ta=ta, poly_dir=poly_dir, Hi = Hi, show_plot = False)\n",
    "    \n",
    "    # actual ice drift\n",
    "    Vi_real = np.cumsum(event_df.i145.values) * units('km')\n",
    "    \n",
    "    # save output\n",
    "    for ll, Xp, Xm, Xz, Xo, Ta, Vi, ws, date, count, Vir in zip(event_df.event_day.values, \n",
    "                                                           X_num, X_max, X_zip, event_df.length_145max.values,\n",
    "                                   Tair, Vice, wsp, event_df.time.values, range(len(event_df.event_day.values)), Vi_real):\n",
    "\n",
    "        # determine key to save to\n",
    "#         if (ll == -999)&(count==0):\n",
    "#             key = '-3'\n",
    "#         elif (ll == -999)&(count==1):\n",
    "#             key = '-2'\n",
    "        if (ll == -999):\n",
    "            key = '-1'\n",
    "        elif ll > lmax:\n",
    "            key = f'{lmax+1}+'\n",
    "        else:\n",
    "            key = f'{ll}'\n",
    "\n",
    "        across[key]['Fi=0'] = np.append(across[key]['Fi=0'], Xz)\n",
    "        across[key]['Xlim'] = np.append(across[key]['Xlim'], Xm)\n",
    "        across[key]['Xp'] = np.append(across[key]['Xp'], Xp)\n",
    "        across[key]['Xo'] = np.append(across[key]['Xo'], Xo*units('km'))\n",
    "        \n",
    "        across[key]['Ta'] = np.append(across[key]['Ta'], Ta)\n",
    "        across[key]['Vi'] = np.append(across[key]['Vi'], Vi)\n",
    "        across[key]['cum_drift_real'] = np.append(across[key]['cum_drift_real'], Vir)\n",
    "        across[key]['ws'] = np.append(across[key]['ws'], ws)\n",
    "        \n",
    "        # record sequence number and date\n",
    "        across[key]['seq'] = np.append(across[key]['seq'], int(event_df.sequence.values[-1]))\n",
    "        across[key]['date'] = np.append(across[key]['date'], date)\n",
    "\n",
    "        \n",
    "for key in across.keys():\n",
    "    across[key]['date'] = pd.to_datetime(across[key]['date'])"
   ]
  },
  {
   "cell_type": "code",
   "execution_count": 573,
   "id": "8afe7c69",
   "metadata": {},
   "outputs": [],
   "source": [
    "R = 0.9624271"
   ]
  },
  {
   "cell_type": "code",
   "execution_count": 574,
   "id": "765bab9c",
   "metadata": {},
   "outputs": [],
   "source": [
    "# all_wp3 = all_wp"
   ]
  },
  {
   "cell_type": "code",
   "execution_count": 575,
   "id": "1756269c",
   "metadata": {},
   "outputs": [],
   "source": [
    "# all_wp2 = all_wp"
   ]
  },
  {
   "cell_type": "code",
   "execution_count": 576,
   "id": "248580af",
   "metadata": {},
   "outputs": [
    {
     "name": "stdout",
     "output_type": "stream",
     "text": [
      "LinregressResult(slope=nan, intercept=nan, rvalue=nan, pvalue=nan, stderr=nan, intercept_stderr=nan)\n"
     ]
    },
    {
     "data": {
      "text/plain": [
       "[<matplotlib.lines.Line2D at 0x154a5d280>]"
      ]
     },
     "execution_count": 576,
     "metadata": {},
     "output_type": "execute_result"
    },
    {
     "data": {
      "image/png": "[encoded data removed]",
      "text/plain": [
       "<Figure size 300x300 with 1 Axes>"
      ]
     },
     "metadata": {},
     "output_type": "display_data"
    }
   ],
   "source": [
    "fig, ax = plt.subplots(figsize=(3,3))\n",
    "\n",
    "all_wp = np.array([])\n",
    "all_io = np.array([])\n",
    "\n",
    "for key in across.keys():\n",
    "    \n",
    "    ax.scatter(across[key]['Fi=0'], across[key]['cum_drift_real'])\n",
    "    \n",
    "    all_wp = np.append(all_wp,across[key]['Fi=0'] )\n",
    "    all_io = np.append(all_io,across[key]['cum_drift_real'] )\n",
    "    \n",
    "    \n",
    "x = all_wp\n",
    "y = all_io\n",
    "result = stats.linregress(x, y)\n",
    "print(result)\n",
    "    \n",
    "    \n",
    "plt.plot([0,250], [0,250], c='k')\n"
   ]
  },
  {
   "cell_type": "code",
   "execution_count": 577,
   "id": "78192bc0",
   "metadata": {},
   "outputs": [
    {
     "data": {
      "image/png": "[encoded data removed]",
      "text/plain": [
       "<Figure size 300x300 with 1 Axes>"
      ]
     },
     "metadata": {},
     "output_type": "display_data"
    }
   ],
   "source": [
    "nums = np.array([len(across[ll]['Xlim']) for ll in across.keys()])\n",
    "dnums = np.array([len(set(across[ll]['seq'])) for ll in across.keys()])\n",
    "\n",
    "fig, ax = plt.subplots(figsize=(3,3))\n",
    "\n",
    "\n",
    "ax.bar(across.keys(), nums)\n",
    "ax.scatter(across.keys(), dnums)\n",
    "\n",
    "for key, num, dnum in zip(across.keys(), nums, dnums):\n",
    "    \n",
    "    ax.text(key, num, num, ha='center')\n",
    "    ax.text(key, num+10, dnum, ha='center', c='orange')"
   ]
  },
  {
   "cell_type": "code",
   "execution_count": 578,
   "id": "3d75af46",
   "metadata": {},
   "outputs": [
    {
     "data": {
      "text/plain": [
       "231"
      ]
     },
     "execution_count": 578,
     "metadata": {},
     "output_type": "execute_result"
    }
   ],
   "source": [
    "np.sum(nums[1:])"
   ]
  },
  {
   "cell_type": "code",
   "execution_count": 579,
   "id": "4ff5db08",
   "metadata": {},
   "outputs": [
    {
     "data": {
      "image/png": "[encoded data removed]",
      "text/plain": [
       "<Figure size 300x300 with 1 Axes>"
      ]
     },
     "metadata": {},
     "output_type": "display_data"
    }
   ],
   "source": [
    "fig, ax = plt.subplots(figsize=(3,3))\n",
    "\n",
    "for ll in across.keys():\n",
    "    ax.scatter(ll, np.nanpercentile(across[ll]['Fi=0'], 50), c='b')\n",
    "    ax.scatter(ll, np.nanpercentile(across[ll]['cum_drift_real'], 50), c='dodgerblue')\n",
    "#     ax.scatter(ll, np.nanpercentile(across[ll]['Xlim'], 50), c='royalblue')\n",
    "    ax.scatter(ll, np.nanpercentile(across[ll]['Xp'], 50), c='royalblue')\n",
    "    \n",
    "    ax.scatter(ll, np.nanpercentile(across[ll]['Xo'], 50), c='k')"
   ]
  },
  {
   "cell_type": "markdown",
   "id": "62f19ae0",
   "metadata": {},
   "source": [
    "### Grab percentiles over time"
   ]
  },
  {
   "cell_type": "code",
   "execution_count": 580,
   "id": "a18da547",
   "metadata": {},
   "outputs": [],
   "source": [
    "CATS = ['Fi=0', 'Xp', 'Xo', 'Xlim', 'Ta', 'ws', 'Vi',]#cum_drift_real\n",
    "percentiles = [5,25,50,75,95]\n",
    "byday = {}\n",
    "\n",
    "for cat in CATS:\n",
    "    byday[cat] = {}\n",
    "    for per in percentiles:\n",
    "        byday[cat][per] = np.array([])\n",
    "    byday[cat]['mean'] = np.array([])\n",
    "    byday[cat]['std'] = np.array([])\n",
    "\n",
    "for cat in CATS:\n",
    "    \n",
    "    # grab all data\n",
    "    all_data = np.array([])\n",
    "    for ll in across.keys():\n",
    "        all_data = np.append(all_data, across[ll][cat].magnitude)\n",
    "        # save each percentile\n",
    "        for per in percentiles:\n",
    "            byday[cat][per] = np.append(byday[cat][per], np.nanpercentile(across[ll][cat].magnitude, per))\n",
    "            \n",
    "        byday[cat]['mean'] = np.append(byday[cat]['mean'], np.nanmean(across[ll][cat].magnitude))\n",
    "        byday[cat]['std'] = np.append(byday[cat]['std'], np.nanstd(across[ll][cat].magnitude))"
   ]
  },
  {
   "cell_type": "code",
   "execution_count": 581,
   "id": "ffa1f816",
   "metadata": {},
   "outputs": [
    {
     "data": {
      "text/plain": [
       "[<matplotlib.lines.Line2D at 0x154c4c410>]"
      ]
     },
     "execution_count": 581,
     "metadata": {},
     "output_type": "execute_result"
    },
    {
     "data": {
      "image/png": "[encoded data removed]",
      "text/plain": [
       "<Figure size 640x480 with 1 Axes>"
      ]
     },
     "metadata": {},
     "output_type": "display_data"
    }
   ],
   "source": [
    "cat = 'ws'\n",
    "plt.plot(byday[cat][50])\n",
    "plt.plot(byday[cat][75])\n",
    "plt.plot(byday[cat][25])"
   ]
  },
  {
   "cell_type": "code",
   "execution_count": 582,
   "id": "70cf3a58",
   "metadata": {},
   "outputs": [
    {
     "data": {
      "image/png": "[encoded data removed]",
      "text/plain": [
       "<Figure size 275x375 with 2 Axes>"
      ]
     },
     "metadata": {},
     "output_type": "display_data"
    }
   ],
   "source": [
    "fig, axs = plt.subplots(2,1,figsize=(2.75,3.75), gridspec_kw={'height_ratios':[0.25,1]})\n",
    "    \n",
    "\n",
    "# for xx, cat, color, color2, fillc,lab, mr, zo, al, LW, S in zip([np.append(np.array([-1,0]),days), days, \n",
    "#                                         np.append(np.array([-1,0]),days),], ['wind', 'obs', 'lat'], \n",
    "#                               ['white', [0.3,0.3,0.3], 'white'][::-1], \n",
    "#                               [[75/255,150/255,255/255], 'None', 'orange'][::-1], \n",
    "#                                 [[75/255,150/255,255/255], 'k', 'orange'][::-1],                           \n",
    "#                              ['Wind-driven ice drift', 'observed', 'Latent-heat estimate'],\n",
    "#                                                ['d', 's', 'o'][::-1], [0,1,0], [0.4,0.15,0.4], [0.5,1.5,0.5],\n",
    "#                                                           [60,40,60]):\n",
    "\n",
    "x = np.arange(len(across.keys()))\n",
    "\n",
    "\n",
    "ax = axs[0]\n",
    "ax.set_ylim(0,160)\n",
    "ax.bar(x, nums, color='k')\n",
    "# ax.scatter(x, dnums)\n",
    "ax.set_yticks([])\n",
    "ax.set_ylabel('Days', rotation=0, labelpad=20, va='center')\n",
    "for xx, num, dnum in zip(x, nums, dnums):\n",
    "    ax.text(xx, num, num, ha='center', va='bottom', size=7.5)\n",
    "#     ax.text(key, num+10, dnum, ha='center', c='orange')\n",
    "    \n",
    "    \n",
    "# ax.set_xticks(x)\n",
    "# ax.set_xticklabels([])\n",
    "# ax.yaxis.set_major_locator(ticker.MultipleLocator(5))\n",
    "# ax.yaxis.set_minor_locator(ticker.MultipleLocator(1))\n",
    "# ax.set_ylim(3,16)\n",
    "# ax.set_ylabel('Wind\\nspeed\\n($\\mathrm{m\\;s^{-1}}$)', rotation=0, labelpad=25, va='center')\n",
    "# cat = 'ws'\n",
    "\n",
    "# for X, Ymin, Ymax in zip(x, byday[cat][25].magnitude, byday[cat][75].magnitude):\n",
    "#     ax.plot([X,X], [Ymin, Ymax], lw=1, color='k', alpha=1, zorder=-10)\n",
    "# ax.scatter(x, byday[cat][50], lw=0, color='k', alpha=1, zorder=-10)\n",
    "\n",
    "# ax.fill_between(x, byday[cat][25], byday[cat][75], lw=0, color=fillc, alpha=alpha, zorder=-10)\n",
    "\n",
    "\n",
    "\n",
    "# ax = axs[0]\n",
    "ax.set_xticks(x)\n",
    "ax.set_xticklabels([])\n",
    "# ax.set_ylim(-25,-12)\n",
    "# ax.yaxis.set_major_locator(ticker.MultipleLocator(5))\n",
    "# ax.yaxis.set_minor_locator(ticker.MultipleLocator(1))\n",
    "# ax.set_ylabel('$\\mathrm{T_{a}\\;(^{\\circ}C)}$', rotation=0, labelpad=20, va='center')\n",
    "# cat = 'Ta'\n",
    "\n",
    "\n",
    "# for X, Ymin, Ymax, Ymid, low, high in zip(x, byday[cat][25].magnitude, byday[cat][75].magnitude, \n",
    "#                                byday[cat][50].magnitude, byday[cat][5].magnitude, byday[cat][95].magnitude):\n",
    "# #     ax.plot([X,X], [Ymin, Ymax], lw=1, color='k', alpha=1, zorder=-10)\n",
    "    \n",
    "#     bottom = Ymin\n",
    "#     middle = Ymid\n",
    "#     top = Ymax\n",
    "#     height=(top-bottom)\n",
    "#     bf = 0.2\n",
    "#     rectangle = patches.Rectangle((X-bf, bottom), 2*bf, height, lw=1, edgecolor='k', facecolor='None', alpha=1)\n",
    "#     ax.add_patch(rectangle)\n",
    "#     ax.plot([X-bf,X+bf], [Ymid, Ymid], c='k', lw=2.25)\n",
    "# #     ax.plot([X,X], [low,high], c='k', lw=1, zorder=-1)\n",
    "    \n",
    "# #     ax.plot([X-bf/2,X+bf/2], [low,low], c='k', lw=1, zorder=-1)\n",
    "# #     ax.plot([X-bf/2,X+bf/2], [high,high], c='k', lw=1, zorder=-1)\n",
    "    \n",
    "# #     ax.scatter([X], [Ymid], c='k', lw=1, zorder=0)\n",
    "    \n",
    "#     bf = 0.1\n",
    "#     ll = list(across.keys())[X]\n",
    "#     ax.scatter(np.linspace(X-bf,X+bf, len(across[ll][cat])), across[ll][cat].magnitude, \n",
    "#                s = 1, zorder=-1, c='lightgray')\n",
    "    \n",
    "    \n",
    "#     rectangle = patches.Rectangle((dd-bf, bottom), 2*bf, height, lw=LW, edgecolor=color, facecolor='None')\n",
    "#     ax.add_patch(rectangle)\n",
    "    \n",
    "    \n",
    "# for X, Ymin, Ymax in zip(x, byday[cat][5].magnitude, byday[cat][95].magnitude):\n",
    "#     ax.plot([X,X], [Ymin, Ymax], lw=1, color='k', alpha=1, zorder=-10)\n",
    "# ax.plot(x, byday[cat][50], lw=1.5, color='k', alpha=1, marker='o', zorder=-10)\n",
    "# ax.fill_between(x, byday[cat][25], byday[cat][75], lw=0, color='k', alpha=0.15, zorder=-10)\n",
    "\n",
    "\n",
    "\n",
    "ax = axs[1]\n",
    "\n",
    "x_adj = np.concatenate((np.array([x.min()-0.25]), x, np.array([x.max()+0.35])))\n",
    "\n",
    "\n",
    "color2 = [75/255,150/255,255/255]\n",
    "color2 = 'orange'\n",
    "\n",
    "color1 = 'r'\n",
    "\n",
    "for cat, fillc, alpha, edgec, facec, xx, LW, mr, ms in zip(['Fi=0', 'Xp', 'Xo', 'cum_drift_real'], \n",
    "                                      [color1, color2, 'k'], \n",
    "                                                  [0.35,0.5,0.15],\n",
    "                                     ['white', 'white', 'k'], \n",
    "                                                       \n",
    "                                            [color1, color2, 'None'], \n",
    "                                      [x_adj,x_adj,x_adj], \n",
    "                                                       [0.75,0.75,1.5],\n",
    "                                     [ 's','d', 'o'], [40,55,45]):\n",
    "\n",
    "#     ax.fill_between(xx, np.concatenate((np.array([byday[cat][25][0].magnitude]), \n",
    "#                                         byday[cat][25].magnitude, np.array([byday[cat][25].magnitude[-1]]))), \n",
    "#                    np.concatenate((np.array([byday[cat][75][0].magnitude]), byday[cat][75].magnitude, np.array([byday[cat][75].magnitude[-1]]))), lw=0, color=fillc, alpha=alpha, zorder=-10)\n",
    "\n",
    "\n",
    "    low = byday[cat][25]\n",
    "    high = byday[cat][75]\n",
    "\n",
    "#     low = (byday[cat]['mean'] - byday[cat]['std'])\n",
    "#     high = (byday[cat]['mean'] + byday[cat]['std'])\n",
    "    \n",
    "    \n",
    "    \n",
    "\n",
    "    ax.fill_between(xx, np.concatenate((np.array([low[0]]), low, np.array([low[-1]]))), \n",
    "                   np.concatenate((np.array([high[0]]), high, np.array([high[-1]]))), lw=0, color=fillc, alpha=alpha, zorder=-10)\n",
    "\n",
    "\n",
    "#     ax.fill_between(xx, byday[cat][5], byday[cat][95], lw=0, color=fillc, alpha=alpha, zorder=-10)\n",
    "    \n",
    "#     ax.fill_between(np.append(xx, xx[-1]+0.35), \n",
    "#                     np.append(byday[cat][25], byday[cat][25][-1]), \n",
    "#                     np.append(byday[cat][75], byday[cat][75][-1]), lw=0, color=fillc, alpha=al, zorder=-1)\n",
    "    \n",
    "#     ax.scatter(xx[1:-1], byday[cat][50], \n",
    "#                edgecolor=edgec, lw=LW,\n",
    "#                facecolor = facec,marker=mr, s=ms)\n",
    "    ax.scatter(xx[1:-1], byday[cat][50], \n",
    "               edgecolor=edgec, lw=LW,\n",
    "               facecolor = facec,marker=mr, s=ms)\n",
    "    \n",
    "# for kk, key in enumerate(across.keys()):\n",
    "    \n",
    "#     group = 'Xo'\n",
    "#     ax.scatter(np.full(len(across[key][group]), kk), across[key][group], s=1, zorder=-1, c='darkgray')\n",
    "    \n",
    "#     group = 'Fi=0'\n",
    "#     ax.scatter(np.full(len(across[key][group]), kk), across[key][group], s=1, zorder=-1, c='lightcoral')\n",
    "    \n",
    "#     group = 'Xp'\n",
    "#     ax.scatter(np.full(len(across[key][group]), kk), across[key][group], s=1, zorder=-1, c='gold')\n",
    "    \n",
    "    \n",
    "# plt.legend()\n",
    "#     for dd in days:\n",
    "#         yy = grouplen[cat]['all'][dd]\n",
    "#         ax.scatter(np.full(len(yy), dd), yy, c=color2, s=1, zorder=-1)\n",
    "\n",
    "\n",
    "ax.set_xticks(x)\n",
    "ax.set_xticklabels(across.keys())\n",
    "\n",
    "# ax.bar(days, nums/2, bottom=250, color='k', clip_on=False)\n",
    "# for dd, n in zip(days, nums):\n",
    "#     ax.text(dd, 250+n/2, f'{n:.0f}', c='k', ha='center', va='bottom', clip_on=False)\n",
    "\n",
    "ax.set_ylim(-10,300)\n",
    "ax.set_ylabel('Polynya\\nlength\\n(km)\\n', rotation=0, labelpad=25, va='center')\n",
    "ax.set_xlabel('Event day')\n",
    "\n",
    "\n",
    "ax.yaxis.set_major_locator(ticker.MultipleLocator(50))\n",
    "ax.yaxis.set_minor_locator(ticker.MultipleLocator(10))\n",
    "\n",
    "for ax, ch, yy in zip(axs, ['a', 'b', 'c'], [1.03,1.0]):\n",
    "    ax.text(0.975,yy, ch, weight='bold',  ha='right', va='bottom', transform=ax.transAxes)\n",
    "\n",
    "# plt.axhline(6.25, zorder=-1, ls='dashed', c='darkgray')\n",
    "\n",
    "plt.text(5, 220, '2% wind-driven\\npack ice drift', ha='center', c=color1)\n",
    "plt.text(3.5, 95, 'Observed', ha='right', c='k')\n",
    "plt.text(10, 8, 'Latent-heat (Pease)', ha='right', c=color2)\n",
    "\n",
    "# plt.axhline(0,c='k', lw=0.5, zorder=-100)\n",
    "for ax in axs:\n",
    "    ax.set_xlim(-0.75,10.75)\n",
    "# plt.axhline(6.25, c='darkgray', ls='dashed')\n",
    "# plt.text(10, -5, 'SIC resolution', ha='right', c='gray')\n",
    "\n",
    "\n",
    "plt.subplots_adjust(hspace=0.175)\n",
    "\n",
    "# fig.savefig('../figures/results/dailyevent_time.png', dpi=400, bbox_inches='tight', pad_inches=0)\n"
   ]
  },
  {
   "cell_type": "code",
   "execution_count": 585,
   "id": "65491444",
   "metadata": {},
   "outputs": [
    {
     "data": {
      "text/html": [
       "0.019290123456790122 "
      ],
      "text/latex": [
       "$0.019290123456790122\\ $"
      ],
      "text/plain": [
       "<Quantity(0.0192901235, 'dimensionless')>"
      ]
     },
     "execution_count": 585,
     "metadata": {},
     "output_type": "execute_result"
    }
   ],
   "source": [
    "(10*units('km/day').to('m/s'))/(6*units('m/s'))"
   ]
  },
  {
   "cell_type": "code",
   "execution_count": 460,
   "id": "61ff6c37",
   "metadata": {},
   "outputs": [
    {
     "data": {
      "text/plain": [
       "485"
      ]
     },
     "execution_count": 460,
     "metadata": {},
     "output_type": "execute_result"
    }
   ],
   "source": [
    "len(df[df.event_length>1])"
   ]
  },
  {
   "cell_type": "code",
   "execution_count": 411,
   "id": "c2368e68",
   "metadata": {},
   "outputs": [
    {
     "data": {
      "text/plain": [
       "52"
      ]
     },
     "execution_count": 411,
     "metadata": {},
     "output_type": "execute_result"
    }
   ],
   "source": [
    "len(df[df.event_length==1])"
   ]
  },
  {
   "cell_type": "code",
   "execution_count": 401,
   "id": "a3410873",
   "metadata": {},
   "outputs": [
    {
     "data": {
      "text/plain": [
       "52"
      ]
     },
     "execution_count": 401,
     "metadata": {},
     "output_type": "execute_result"
    }
   ],
   "source": [
    "len(df[df.event_length==1])"
   ]
  },
  {
   "cell_type": "code",
   "execution_count": 406,
   "id": "fa77c3b0",
   "metadata": {},
   "outputs": [
    {
     "data": {
      "text/plain": [
       "35.0"
      ]
     },
     "execution_count": 406,
     "metadata": {},
     "output_type": "execute_result"
    }
   ],
   "source": [
    "len(df[df.event_length==2])/2"
   ]
  },
  {
   "cell_type": "code",
   "execution_count": 407,
   "id": "b407b155",
   "metadata": {},
   "outputs": [
    {
     "data": {
      "text/plain": [
       "22.0"
      ]
     },
     "execution_count": 407,
     "metadata": {},
     "output_type": "execute_result"
    }
   ],
   "source": [
    "len(df[df.event_length==3])/3"
   ]
  },
  {
   "cell_type": "code",
   "execution_count": 408,
   "id": "a6da8d0c",
   "metadata": {},
   "outputs": [
    {
     "data": {
      "text/plain": [
       "17.0"
      ]
     },
     "execution_count": 408,
     "metadata": {},
     "output_type": "execute_result"
    }
   ],
   "source": [
    "len(df[df.event_length==4])/4"
   ]
  },
  {
   "cell_type": "code",
   "execution_count": 410,
   "id": "0e06c083",
   "metadata": {},
   "outputs": [
    {
     "data": {
      "text/plain": [
       "13.0"
      ]
     },
     "execution_count": 410,
     "metadata": {},
     "output_type": "execute_result"
    }
   ],
   "source": [
    "len(df[df.event_length==5])/5"
   ]
  },
  {
   "cell_type": "code",
   "execution_count": 412,
   "id": "714dcd50",
   "metadata": {},
   "outputs": [
    {
     "data": {
      "text/plain": [
       "19"
      ]
     },
     "execution_count": 412,
     "metadata": {},
     "output_type": "execute_result"
    }
   ],
   "source": [
    "df.event_length.max()\n"
   ]
  },
  {
   "cell_type": "code",
   "execution_count": 417,
   "id": "a6b6937a",
   "metadata": {},
   "outputs": [
    {
     "data": {
      "text/plain": [
       "14"
      ]
     },
     "execution_count": 417,
     "metadata": {},
     "output_type": "execute_result"
    }
   ],
   "source": [
    "len(list(set(df.sequence[df.event_length > 7])))"
   ]
  },
  {
   "cell_type": "code",
   "execution_count": 419,
   "id": "b4f36544",
   "metadata": {},
   "outputs": [
    {
     "data": {
      "text/plain": [
       "147"
      ]
     },
     "execution_count": 419,
     "metadata": {},
     "output_type": "execute_result"
    }
   ],
   "source": [
    "len(list(set(df.sequence[df.event_length <=7])))"
   ]
  },
  {
   "cell_type": "code",
   "execution_count": 441,
   "id": "ba2e42e1",
   "metadata": {},
   "outputs": [
    {
     "data": {
      "text/plain": [
       "0.6589595375722543"
      ]
     },
     "execution_count": 441,
     "metadata": {},
     "output_type": "execute_result"
    }
   ],
   "source": [
    "114/len(df.sequence[df.event_length > 7])"
   ]
  },
  {
   "cell_type": "code",
   "execution_count": 440,
   "id": "aee90928",
   "metadata": {},
   "outputs": [
    {
     "data": {
      "text/plain": [
       "114"
      ]
     },
     "execution_count": 440,
     "metadata": {},
     "output_type": "execute_result"
    }
   ],
   "source": [
    "np.sum(df.event_length>=12)"
   ]
  },
  {
   "cell_type": "code",
   "execution_count": 445,
   "id": "1cc44ea5",
   "metadata": {},
   "outputs": [
    {
     "data": {
      "text/plain": [
       "4"
      ]
     },
     "execution_count": 445,
     "metadata": {},
     "output_type": "execute_result"
    }
   ],
   "source": [
    "len(list(set(df.sequence[df.event_length >=13])))"
   ]
  },
  {
   "cell_type": "code",
   "execution_count": 437,
   "id": "e5695ae0",
   "metadata": {},
   "outputs": [
    {
     "data": {
      "text/plain": [
       "66"
      ]
     },
     "execution_count": 437,
     "metadata": {},
     "output_type": "execute_result"
    }
   ],
   "source": [
    "15+16+16+19"
   ]
  },
  {
   "cell_type": "code",
   "execution_count": null,
   "id": "fd5712f4",
   "metadata": {},
   "outputs": [],
   "source": [
    "32"
   ]
  },
  {
   "cell_type": "code",
   "execution_count": 420,
   "id": "30385e51",
   "metadata": {},
   "outputs": [
    {
     "data": {
      "text/plain": [
       "0.08695652173913043"
      ]
     },
     "execution_count": 420,
     "metadata": {},
     "output_type": "execute_result"
    }
   ],
   "source": [
    "14/(147+14)"
   ]
  },
  {
   "cell_type": "code",
   "execution_count": 414,
   "id": "6f590a21",
   "metadata": {},
   "outputs": [
    {
     "data": {
      "text/plain": [
       "537"
      ]
     },
     "execution_count": 414,
     "metadata": {},
     "output_type": "execute_result"
    }
   ],
   "source": [
    "485+52"
   ]
  },
  {
   "cell_type": "code",
   "execution_count": 399,
   "id": "d618bcd2",
   "metadata": {},
   "outputs": [
    {
     "data": {
      "text/plain": [
       "(array([52., 70., 66., 68., 65., 36.,  7.,  8.,  0., 40., 11., 48.,  0.,\n",
       "         0., 15., 32.,  0.,  0., 19.]),\n",
       " array([ 0.5,  1.5,  2.5,  3.5,  4.5,  5.5,  6.5,  7.5,  8.5,  9.5, 10.5,\n",
       "        11.5, 12.5, 13.5, 14.5, 15.5, 16.5, 17.5, 18.5, 19.5]),\n",
       " <BarContainer object of 19 artists>)"
      ]
     },
     "execution_count": 399,
     "metadata": {},
     "output_type": "execute_result"
    },
    {
     "data": {
      "image/png": "[encoded data removed]",
      "text/plain": [
       "<Figure size 640x480 with 1 Axes>"
      ]
     },
     "metadata": {},
     "output_type": "display_data"
    }
   ],
   "source": [
    "plt.hist(df.event_length[df.event_length!=-999], bins=np.arange(0.5,20,1))"
   ]
  },
  {
   "cell_type": "code",
   "execution_count": null,
   "id": "1704e063",
   "metadata": {},
   "outputs": [],
   "source": [
    "DF[DF.sequence==143]"
   ]
  },
  {
   "cell_type": "code",
   "execution_count": null,
   "id": "31d164fa",
   "metadata": {},
   "outputs": [],
   "source": [
    "np.nanmean((byday['Fi=0'][50] - byday['Xo'][50])[1:6])"
   ]
  },
  {
   "cell_type": "code",
   "execution_count": null,
   "id": "7004cf11",
   "metadata": {},
   "outputs": [],
   "source": [
    "byday['Fi=0'][50]"
   ]
  },
  {
   "cell_type": "code",
   "execution_count": 31,
   "id": "26e85a3a",
   "metadata": {},
   "outputs": [
    {
     "data": {
      "text/html": [
       "<table><tbody><tr><th>Magnitude</th><td style='text-align:left;'><pre>[12.666136871337889 22.964408135258324 28.71123099819811 31.385671934641202 34.402958331508785 36.098796259077574 35.13606795679138 36.00880476540002 35.90649192964055 34.47313965726 32.00304483247725]</pre></td></tr><tr><th>Units</th><td style='text-align:left;'>kilometer</td></tr></tbody></table>"
      ],
      "text/latex": [
       "$\\begin{pmatrix} &  &  &  &  &  &  &  &  &  & \\end{pmatrix}\\ \\mathrm{kilometer}$"
      ],
      "text/plain": [
       "<Quantity([12.66613687 22.96440814 28.711231   31.38567193 34.40295833 36.09879626\n",
       " 35.13606796 36.00880477 35.90649193 34.47313966 32.00304483], 'kilometer')>"
      ]
     },
     "execution_count": 31,
     "metadata": {},
     "output_type": "execute_result"
    }
   ],
   "source": [
    "byday['Xp'][50]"
   ]
  },
  {
   "cell_type": "code",
   "execution_count": 32,
   "id": "42e9df40",
   "metadata": {},
   "outputs": [
    {
     "data": {
      "text/html": [
       "<table><tbody><tr><th>Magnitude</th><td style='text-align:left;'><pre>[0.0 29.38230774473309 56.16063984482522 60.5611070357171 79.95132803397414 106.35674559620142 89.83480800558536 125.25848428058617 125.25300670626493 120.84748280798031 186.1209779332669]</pre></td></tr><tr><th>Units</th><td style='text-align:left;'>kilometer</td></tr></tbody></table>"
      ],
      "text/latex": [
       "$\\begin{pmatrix} &  &  &  &  &  &  &  &  &  & \\end{pmatrix}\\ \\mathrm{kilometer}$"
      ],
      "text/plain": [
       "<Quantity([  0.          29.38230774  56.16063984  60.56110704  79.95132803\n",
       " 106.3567456   89.83480801 125.25848428 125.25300671 120.84748281\n",
       " 186.12097793], 'kilometer')>"
      ]
     },
     "execution_count": 32,
     "metadata": {},
     "output_type": "execute_result"
    }
   ],
   "source": [
    "byday['Xo'][50]"
   ]
  },
  {
   "cell_type": "code",
   "execution_count": 28,
   "id": "c54f1f43",
   "metadata": {},
   "outputs": [
    {
     "data": {
      "text/html": [
       "22.97441906433105 kilometer"
      ],
      "text/latex": [
       "$22.97441906433105\\ \\mathrm{kilometer}$"
      ],
      "text/plain": [
       "<Quantity(22.9744191, 'kilometer')>"
      ]
     },
     "execution_count": 28,
     "metadata": {},
     "output_type": "execute_result"
    }
   ],
   "source": [
    "np.nanmean(np.diff(byday['Fi=0'][50]))"
   ]
  },
  {
   "cell_type": "code",
   "execution_count": null,
   "id": "e2f2abed",
   "metadata": {},
   "outputs": [],
   "source": []
  },
  {
   "cell_type": "code",
   "execution_count": 1610,
   "id": "836d69d1",
   "metadata": {},
   "outputs": [
    {
     "data": {
      "text/plain": [
       "{'-1': {'Fi=0': <Quantity([  6.24620627  16.0658454   16.89594873  14.31829742  10.11426691\n",
       "    18.98737756  20.4451485   19.44458624  13.24888467  13.0502005\n",
       "    15.98564301  24.18101971  13.38313568  12.03375284  16.80362238\n",
       "    23.4310611   13.17827005  14.28887988   9.71023013  13.21223181\n",
       "    14.54962006   6.72388783  10.03650595   2.45901235  16.3451283\n",
       "    13.26127643  13.39675104   2.83765711   5.58626193  18.32751068\n",
       "    11.95066489   3.95956343   0.82454207  12.38496872   1.42055149\n",
       "    16.4880813   22.74067914   8.76882925  17.44116943   5.38832098\n",
       "    22.38002216  18.73464972  12.12834512  20.93801056   9.42127872\n",
       "    11.43118103 -10.04467731  15.59487305  14.97976611  16.10221893\n",
       "    -5.14666901  24.50657703  10.37336819  21.45516504  22.07857104\n",
       "    10.03807974  16.60582397   3.2279743   20.60851465   5.69108881\n",
       "    14.09597589   9.08860391   8.45263477  18.34509924  18.55767151\n",
       "    20.77381384   6.45012556  14.93218817  15.29384381  11.61060562\n",
       "    16.66617352   7.97515054  -5.27413705  13.12170996  11.55775671\n",
       "    10.59176349  10.14467816  16.65901813   4.14035005  20.95299207\n",
       "     6.79291754   4.10894879  12.52519437  22.14322339  15.9106333\n",
       "     6.66433383  10.45596259  15.20000958  10.30460916   5.8737784\n",
       "     6.95983749  11.59293549  13.71375055  10.98064737  23.3439472\n",
       "    10.37282932  20.73686023  12.66613687  10.39508899  22.34468024\n",
       "    -5.09630644   4.9981241    1.58742767  12.33975806  -4.76264822\n",
       "     7.58326822   5.82224661   9.77060852   8.20410919  18.36585846\n",
       "    16.71400854   1.83984631   7.10860364   6.30960617  13.0617691\n",
       "    17.21925494  17.96795618  13.75447879  19.485284  ], 'kilometer')>,\n",
       "  'Xlim': <Quantity([   54.21331064    37.38330999    21.41358116    29.81826048\n",
       "      27.72525824    25.56118748    27.61843384    36.35154717\n",
       "      26.07647667    25.60737646    24.22020887    24.76335458\n",
       "      19.14442453    16.61767649    27.27512565    29.04613835\n",
       "      24.83432219    34.10966927    29.16588736    19.16891774\n",
       "      29.67348121    39.30597752    28.39333962  -166.30848412\n",
       "     217.38385077    26.15269179    22.89752012    12.54995164\n",
       "      33.72102815   287.13023095    20.24213184    24.63493137\n",
       "      10.82626689    24.86596275     8.65273093    29.04507389\n",
       "      29.65810254    21.31225129    29.0450159     15.37197169\n",
       "      26.02146209    24.6219978     31.48511237    25.52181955\n",
       "      36.91509281    23.41149026   -34.02269709 -1690.52966645\n",
       "    -171.90247467    29.72057091   -17.58463052    36.98846889\n",
       "      26.2697143     33.99848074    45.03031346   -55.89855068\n",
       "      24.92186453    22.7985832     30.31801632    30.27342878\n",
       "      21.99426597    23.44115193    26.41436835    54.74830054\n",
       "      42.25837944    43.95553152    17.64154072    25.47136427\n",
       "      22.01880141    23.99849949    49.22682653    30.07679854\n",
       "     -20.39113188    20.9429689     50.30005123    41.4785277\n",
       "      35.31833946    45.27505591    12.27681625    22.13823507\n",
       "      18.96954505    15.62134519    39.77733901    58.12787214\n",
       "      42.32572446    23.80665057    23.38330609    20.37879303\n",
       "      25.44573352    18.1643677     23.07423263    29.31155914\n",
       "      19.82902754    23.08168301    24.64600171    23.2795357\n",
       "      32.57047323    54.49396257   130.88921646    44.23229948\n",
       "     -23.99266715    18.41210887     5.21350955    23.22065585\n",
       "     -72.11594303    39.20270044    20.65396804    19.24288003\n",
       "      28.65646422    48.23117673   153.25700854    13.66170222\n",
       "      20.14307351    21.6186026     33.19634124    25.73037763\n",
       "      40.14812305    25.50444264   188.39560355], 'kilometer')>,\n",
       "  'Xp': <Quantity([  6.24620627  16.0658454   16.89594873  14.31829742  10.11426691\n",
       "    18.98737756  20.4451485   19.44458624  13.24888467  13.0502005\n",
       "    15.98564301  24.18101971  13.38313568  12.03375284  16.80362238\n",
       "    23.4310611   13.17827005  14.28887988   9.71023013  13.21223181\n",
       "    14.54962006   6.72388783  10.03650595   2.45901235  16.3451283\n",
       "    13.26127643  13.39675104   2.83765711   5.58626193  18.32751068\n",
       "    11.95066489   3.95956343   0.82454207  12.38496872   1.42055149\n",
       "    16.4880813   22.74067914   8.76882925  17.44116943   5.38832098\n",
       "    22.38002216  18.73464972  12.12834512  20.93801056   9.42127872\n",
       "    11.43118103 -10.04467731  15.59487305  14.97976611  16.10221893\n",
       "    -5.14666901  24.50657703  10.37336819  21.45516504  22.07857104\n",
       "    10.03807974  16.60582397   3.2279743   20.60851465   5.69108881\n",
       "    14.09597589   9.08860391   8.45263477  18.34509924  18.55767151\n",
       "    20.77381384   6.45012556  14.93218817  15.29384381  11.61060562\n",
       "    16.66617352   7.97515054  -5.27413705  13.12170996  11.55775671\n",
       "    10.59176349  10.14467816  16.65901813   4.14035005  20.95299207\n",
       "     6.79291754   4.10894879  12.52519437  22.14322339  15.9106333\n",
       "     6.66433383  10.45596259  15.20000958  10.30460916   5.8737784\n",
       "     6.95983749  11.59293549  13.71375055  10.98064737  23.3439472\n",
       "    10.37282932  20.73686023  12.66613687  10.39508899  22.34468024\n",
       "    -5.09630644   4.9981241    1.58742767  12.33975806  -4.76264822\n",
       "     7.58326822   5.82224661   9.77060852   8.20410919  18.36585846\n",
       "    16.71400854   1.83984631   7.10860364   6.30960617  13.0617691\n",
       "    17.21925494  17.96795618  13.75447879  19.485284  ], 'kilometer')>,\n",
       "  'Xo': <Quantity([0. 0. 0. 0. 0. 0. 0. 0. 0. 0. 0. 0. 0. 0. 0. 0. 0. 0. 0. 0. 0. 0. 0. 0.\n",
       "   0. 0. 0. 0. 0. 0. 0. 0. 0. 0. 0. 0. 0. 0. 0. 0. 0. 0. 0. 0. 0. 0. 0. 0.\n",
       "   0. 0. 0. 0. 0. 0. 0. 0. 0. 0. 0. 0. 0. 0. 0. 0. 0. 0. 0. 0. 0. 0. 0. 0.\n",
       "   0. 0. 0. 0. 0. 0. 0. 0. 0. 0. 0. 0. 0. 0. 0. 0. 0. 0. 0. 0. 0. 0. 0. 0.\n",
       "   0. 0. 0. 0. 0. 0. 0. 0. 0. 0. 0. 0. 0. 0. 0. 0. 0. 0. 0. 0. 0. 0. 0.], 'kilometer')>,\n",
       "  'seq': array([  2.,   3.,   4.,   5.,   6.,   7.,   8.,   9.,  11.,  12.,  14.,\n",
       "          15.,  16.,  18.,  19.,  20.,  23.,  25.,  26.,  27.,  28.,  29.,\n",
       "          30.,  31.,  32.,  34.,  37.,  38.,  39.,  40.,  41.,  42.,  43.,\n",
       "          46.,  48.,  49.,  50.,  54.,  55.,  56.,  57.,  58.,  59.,  60.,\n",
       "          62.,  63.,  64.,  65.,  67.,  68.,  69.,  70.,  71.,  72.,  73.,\n",
       "          74.,  75.,  76.,  77.,  78.,  79.,  80.,  81.,  82.,  84.,  85.,\n",
       "          87.,  88.,  90.,  91.,  92.,  95.,  98.,  99., 100., 102., 103.,\n",
       "         104., 106., 107., 108., 110., 113., 115., 116., 117., 122., 123.,\n",
       "         124., 125., 126., 127., 129., 130., 131., 133., 134., 135., 136.,\n",
       "         138., 139., 140., 141., 143., 145., 146., 147., 148., 149., 150.,\n",
       "         152., 153., 154., 155., 156., 157., 158., 159., 160.]),\n",
       "  'Ta': <Quantity([ -8.56089973 -15.43207932 -26.55022049 -18.93362045 -17.55294609\n",
       "   -22.78407288 -22.26189995 -17.02422905 -21.20032501 -21.50237274\n",
       "   -23.42521858 -24.18691063 -28.58077049 -31.5653019  -21.10457611\n",
       "   -21.00893021 -25.12753296 -15.6020546  -17.69651413 -28.35321808\n",
       "   -18.79530334 -12.32989693 -19.33781624 -11.65564919 -10.00053596\n",
       "   -21.13377571 -24.00381279 -25.25139236 -14.68847752  -8.66470909\n",
       "   -25.71931458 -15.61569309 -12.53544235 -22.67027855 -24.58443069\n",
       "   -19.74718285 -20.27338791 -21.24090195 -19.99117279 -25.02030373\n",
       "   -22.89958382 -25.12654495 -20.68417168 -22.93148994 -14.07151985\n",
       "   -24.27369881 -17.27936935  -8.36150551  -4.55029249 -19.22662735\n",
       "   -19.29424095 -16.65342903 -20.05797577 -18.4756813  -16.5796032\n",
       "    -3.7819469  -22.78465843 -13.47865486 -19.62614632 -15.12548637\n",
       "   -25.58916664 -22.89495659 -20.58206749 -12.32306767 -17.16583443\n",
       "   -17.75335503 -25.36392403 -22.00256538 -25.55449295 -22.4526062\n",
       "   -16.78191185 -15.82526493 -20.95034409 -25.90874863 -11.1238308\n",
       "   -15.36569023 -21.05498505 -18.30699158 -26.73550415 -26.49886513\n",
       "   -24.45203781 -25.35472107 -16.70208359 -14.4850769  -13.89674473\n",
       "   -19.46583939 -20.76391792 -27.49273491 -20.65540886 -27.85821152\n",
       "   -23.657547   -22.87736702 -27.73721886 -22.78676796 -24.17054939\n",
       "   -23.64798164 -21.18103981 -18.8845253  -15.01101112 -13.35268307\n",
       "   -14.93012714 -22.03296089 -22.64094162 -25.00507736 -14.75812435\n",
       "   -11.72605515 -21.5054493  -26.02396202 -21.53969765 -15.6339407\n",
       "   -11.234869   -18.35603943 -21.30550232 -19.74542847 -16.8382019\n",
       "   -23.00766602 -16.04971924 -24.79682007  -9.01462402], 'degree_Celsius')>,\n",
       "  'Vi': <Quantity([  6.24620627  16.0658454   16.89594873  14.31829742  10.11426691\n",
       "    18.98737756  20.4451485   19.44458624  13.24888467  13.0502005\n",
       "    15.98564301  24.18101971  13.38313568  12.03375284  16.80362238\n",
       "    23.4310611   13.17827005  14.28887988   9.71023013  13.21223181\n",
       "    14.54962006   6.72388783  10.03650595   2.45901235  16.3451283\n",
       "    13.26127643  13.39675104   2.83765711   5.58626193  18.32751068\n",
       "    11.95066489   3.95956343   0.82454207  12.38496872   1.42055149\n",
       "    16.4880813   22.74067914   8.76882925  17.44116943   5.38832098\n",
       "    22.38002216  18.73464972  12.12834512  20.93801056   9.42127872\n",
       "    11.43118103 -10.04467731  15.59487305  14.97976611  16.10221893\n",
       "    -5.14666901  24.50657703  10.37336819  21.45516504  22.07857104\n",
       "    10.03807974  16.60582397   3.2279743   20.60851465   5.69108881\n",
       "    14.09597589   9.08860391   8.45263477  18.34509924  18.55767151\n",
       "    20.77381384   6.45012556  14.93218817  15.29384381  11.61060562\n",
       "    16.66617352   7.97515054  -5.27413705  13.12170996  11.55775671\n",
       "    10.59176349  10.14467816  16.65901813   4.14035005  20.95299207\n",
       "     6.79291754   4.10894879  12.52519437  22.14322339  15.9106333\n",
       "     6.66433383  10.45596259  15.20000958  10.30460916   5.8737784\n",
       "     6.95983749  11.59293549  13.71375055  10.98064737  23.3439472\n",
       "    10.37282932  20.73686023  12.66613687  10.39508899  22.34468024\n",
       "    -5.09630644   4.9981241    1.58742767  12.33975806  -4.76264822\n",
       "     7.58326822   5.82224661   9.77060852   8.20410919  18.36585846\n",
       "    16.71400854   1.83984631   7.10860364   6.30960617  13.0617691\n",
       "    17.21925494  17.96795618  13.75447879  19.485284  ], 'kilometer / day')>,\n",
       "  'ws': <Quantity([ 3.89930003  9.46041206  9.8092276   8.28711292  6.50586767 11.14172056\n",
       "   11.84106087 11.59893147  7.67093513  7.56021412  9.27074441 14.00221737\n",
       "    7.75676601  7.1565634   9.73391353 13.56977002  7.65812507  9.04223739\n",
       "    5.70744969  7.70114578  8.65516712  4.17435891  5.81340321  1.52329058\n",
       "    9.45902987  7.68340155  7.81364513  2.01802974  3.24063168 10.6430262\n",
       "    7.20379381  2.29908024  0.55769233  7.35087941  1.85801192  9.60278055\n",
       "   13.17155496  5.8611918  10.10480967  3.73919719 12.95166269 10.89325707\n",
       "    7.06498833 12.25378824  5.59547296  6.66655707  5.82052589  9.45412052\n",
       "    8.75196521  9.39718067  4.22513408 14.20651595  6.00540656 12.4182657\n",
       "   12.80039898  6.50344542  9.70375141  2.40644526 11.95398866  3.29371049\n",
       "    8.18868485  5.38662393  4.91297827 10.6344695  10.74347205 12.05147977\n",
       "    3.89595373  8.70475339  8.85068341  6.71966217  9.64478004  4.92499768\n",
       "    3.0967849   7.67713953  6.81462381  6.13081751  5.89395628  9.6439112\n",
       "    3.1990252  12.1288148   3.98859198  2.41505212  7.25092213 12.87138814\n",
       "    9.24930761  3.91027943  6.72235461  8.79631175  5.9640799   3.53969552\n",
       "    4.51595739  6.71262716  7.94727867  6.4308384  13.54282416  6.29278221\n",
       "   12.10879403  7.37179592  6.03085733 13.78802065  3.91566     3.08448193\n",
       "    3.52508995  7.38891141  3.49064535  4.98691532  3.39511428  5.86753111\n",
       "    5.11821969 10.74891137  9.68309963  1.10775332  4.75586752  4.06651004\n",
       "    7.56735205 10.02571416 10.43336024  8.1237368  11.31883517], 'meter / second')>,\n",
       "  'date': DatetimeIndex(['2002-12-09', '2002-12-21', '2003-01-09', '2003-01-18',\n",
       "                 '2003-01-23', '2003-02-06', '2003-02-27', '2003-03-03',\n",
       "                 '2003-12-06', '2003-12-10',\n",
       "                 ...\n",
       "                 '2024-03-27', '2024-04-25', '2024-12-02', '2024-12-08',\n",
       "                 '2024-12-15', '2025-01-12', '2025-02-14', '2025-03-05',\n",
       "                 '2025-03-19', '2025-04-13'],\n",
       "                dtype='datetime64[ns]', length=119, freq=None)},\n",
       " '1': {'Fi=0': <Quantity([19.83512549 35.18875854 39.87120355 35.88776587 29.07365735 35.40488049\n",
       "   32.52168787 34.61337213 30.04053305 35.49492609 40.84109747 44.61223645\n",
       "   33.99149542 34.1037084  38.76579382 44.71612811 31.54396371 33.89057831\n",
       "   27.09391745 36.44980719 30.916409   25.63676161 28.78717044 18.34451278\n",
       "   35.56902777 32.15277466 29.23170227 25.49144483 25.75289218 39.919383\n",
       "   33.71412662 15.53859517 14.09439772 29.874957   23.34822806 32.06132336\n",
       "   44.46124969 21.00761581 34.93174438 19.76517004 44.83395648 41.59329895\n",
       "   29.67029984 42.40001294 25.65840207 27.16281903  5.96103937 25.38848364\n",
       "   35.03453687 35.48744769  6.73439886 41.56143256 28.87993845 32.25561328\n",
       "   47.09197156 25.29075449 34.03058478 19.82021423 45.15689685 18.86964725\n",
       "   31.79588818 24.74342276 24.43831073 42.02071106 38.48131165 45.96983185\n",
       "   19.3375919  26.42813773 27.30396753 25.67851694 39.196487   24.72389621\n",
       "    6.33358795 28.9646076  26.35544257 23.89610742 25.18461584 34.49090808\n",
       "   20.96693166 44.56577747 18.9793504  16.3400864  24.32314133 39.42708783\n",
       "   32.7044751  27.98271085 25.44056708 36.21538641 29.04174893 18.100881\n",
       "   24.15543283 26.57685937 28.67625934 22.74065689 33.47015103 33.05649765\n",
       "   42.1071427  28.37715079 24.03346811 38.68764807  7.49186678 15.717911\n",
       "   20.52240374 28.69600836  9.58800833 21.63850186 25.51886197 28.74955023\n",
       "   22.31933148 40.41254498 34.5033913  12.7829567  25.15060217 18.39636694\n",
       "   26.35179565 38.39008777 42.33092926 33.37325491 40.47712152], 'kilometer')>,\n",
       "  'Xlim': <Quantity([ 74.39225299  38.59939376  27.98035728  28.65982244  26.73082326\n",
       "    28.97007421  30.29118547  44.38121212  28.07717399  29.55551768\n",
       "    26.73141812  29.69050764  19.52750515  20.00050466  30.08013458\n",
       "    30.67562351  25.86419688  34.74274515  30.29418385  22.76686299\n",
       "    36.63326897  35.24709934  28.92076436  57.22461672 549.73527538\n",
       "    28.52340507  24.05310093  24.19686639  54.50758916 158.29837524\n",
       "    26.1157488   36.09831062  41.32329845  30.83859481  28.21383634\n",
       "    34.81365723  31.04575935  24.46194079  39.69518184  24.50253568\n",
       "    30.87258186  25.76898465  36.62334143  29.11846494  41.62341273\n",
       "    29.37075374  30.50284012 -90.75364931 182.83018723  30.92824791\n",
       "    24.99135272  31.07483099  37.8568089   39.86366962  44.88243152\n",
       "   -84.41562279  28.15783111  50.98278423  35.74309366  30.6906613\n",
       "    23.145448    25.30958214  30.51450735  65.58686241  48.26147806\n",
       "    54.24966047  23.68308409  29.58379598  22.22429118  30.03153012\n",
       "    57.91012139  33.47934344  25.57541632  24.1901694   85.84038499\n",
       "    40.13073831  37.30979202  59.83291467  20.5308875   25.01622898\n",
       "    23.88054626  22.38717459  71.51395789  86.63864017  43.1464676\n",
       "    32.89062158  27.2170155   27.49019937  30.57736712  25.57908013\n",
       "    31.09066895  31.15359533  22.9690608   30.56709201  27.62234845\n",
       "    28.5196041   41.71089644  62.5179084  251.72777254  45.09107158\n",
       "    30.78020162  21.52624596  23.4926708   31.75692327  63.63939602\n",
       "    50.65310812  31.56317506  22.7285687   32.52109442  52.97758307\n",
       "   102.52833086  28.95583775  28.70801277  26.27510133  59.75255964\n",
       "    27.74292705  51.32600024  32.28094359 126.7539884 ], 'kilometer')>,\n",
       "  'Xp': <Quantity([18.69415732 27.2294168  25.99758773 25.11177223 21.89990391 24.64462753\n",
       "   24.37058262 27.96752468 22.11699299 25.58448661 25.97729863 27.97231703\n",
       "   19.86759826 20.82482395 26.49709753 28.45788627 22.18631492 25.82885742\n",
       "   21.52190385 22.96440814 24.4160183  22.0288607  22.28004105 17.66189324\n",
       "   34.99744884 23.36962343 20.41217834 22.83475033 23.68609597 37.41951356\n",
       "   23.75508466 14.26851051 13.82961842 22.85087049 22.24418134 24.68568685\n",
       "   28.55116935 16.62039934 27.24677943 16.60357573 28.55674488 24.9745306\n",
       "   23.86102977 26.96748127 21.98319971 21.0400207  11.23177017 27.07139243\n",
       "   33.39139587 25.3948877   9.18116213 28.1114437  23.80884363 26.44266626\n",
       "   34.78737661 27.10448944 23.75449109 18.76967678 31.0029543  16.42589585\n",
       "   21.01633719 19.12181877 20.0102176  35.39847861 30.8202042  36.32152469\n",
       "   15.82766998 20.62564767 19.03909398 20.23966752 32.71240261 20.73415942\n",
       "    8.72732152 20.37078983 24.36304641 20.38467279 21.09519805 29.52605254\n",
       "   17.5736084  24.78827601 15.51287051 14.0951797  22.25680934 35.00965387\n",
       "   26.51160061 23.66315791 19.68393061 24.59546598 22.7273105  15.29314551\n",
       "   20.30609304 21.00101296 19.74284604 18.51609678 24.91238601 24.80624919\n",
       "   31.48275918 25.1940972  23.47027175 30.58896295  9.57610225 13.22891104\n",
       "   19.24294492 22.34047544 10.66198347 19.53429522 21.88555981 20.59083984\n",
       "   18.75847884 32.76957034 31.60339387 12.08763434 20.68308931 15.49389668\n",
       "   23.44662709 25.24994696 33.8020583  25.01395652 37.2501468 ], 'kilometer')>,\n",
       "  'Xo': <Quantity([40.83000671 16.62653428 26.36417126 31.1513479  29.38230774 34.25070497\n",
       "   12.7071111  34.25070497 40.83000671 30.30745856 75.99628816 38.18775777\n",
       "   40.83000671 30.30745856 20.55537295 24.4828478  15.68280923 31.1513479\n",
       "   26.36417126 40.83000671 24.4828478  30.30745856 34.25070497 25.46003298\n",
       "   15.68280923 35.10249415  6.98148797 25.46003298 35.10249415 43.8810969\n",
       "   40.83000671 28.40682579 40.83000671 23.53798319  6.39472716 52.67984657\n",
       "   26.36417126 17.6383976  58.70476094 16.62653428 25.46003298 29.38230774\n",
       "   63.24822059 79.06234245 40.83000671  7.80512686 12.7071111  21.54556201\n",
       "   14.00373418  7.80512686 17.6383976  40.83000671 31.1513479  34.25070497\n",
       "   30.30745856 53.60185527 20.55537295 25.46003298 31.1513479  12.7071111\n",
       "   21.54556201 12.7071111  17.6383976  56.61918363 20.55537295 61.49009517\n",
       "   45.69542807 47.82348083 16.62653428 26.36417126 39.04726215 50.50748549\n",
       "   17.6383976  35.97879601 31.1513479  11.74634861 -2.986502   43.8810969\n",
       "    7.80512686 26.36417126 29.38230774 17.6383976  17.6383976  42.99165549\n",
       "   61.49009517 26.36417126 16.62653428 26.36417126 16.62653428 17.6383976\n",
       "   26.36417126 40.83000671 31.1513479  42.11852996 38.18775777 -2.78959555\n",
       "   65.42651291 35.10249415 39.93280567 25.46003298 35.97879601 12.7071111\n",
       "   17.6383976  12.7071111  15.68280923 26.36417126 44.7849453  26.36417126\n",
       "   25.46003298 42.99165549 35.10249415 16.62653428 38.18775777 49.65068359\n",
       "    6.98148797 42.99165549 45.69542807 67.21118397 54.47808252], 'kilometer')>,\n",
       "  'seq': array([  2.,   3.,   4.,   5.,   6.,   7.,   8.,   9.,  11.,  12.,  14.,\n",
       "          15.,  16.,  18.,  19.,  20.,  23.,  25.,  26.,  27.,  28.,  29.,\n",
       "          30.,  31.,  32.,  34.,  37.,  38.,  39.,  40.,  41.,  42.,  43.,\n",
       "          46.,  48.,  49.,  50.,  54.,  55.,  56.,  57.,  58.,  59.,  60.,\n",
       "          62.,  63.,  64.,  65.,  67.,  68.,  69.,  70.,  71.,  72.,  73.,\n",
       "          74.,  75.,  76.,  77.,  78.,  79.,  80.,  81.,  82.,  84.,  85.,\n",
       "          87.,  88.,  90.,  91.,  92.,  95.,  98.,  99., 100., 102., 103.,\n",
       "         104., 106., 107., 108., 110., 113., 115., 116., 117., 122., 123.,\n",
       "         124., 125., 126., 127., 129., 130., 131., 133., 134., 135., 136.,\n",
       "         138., 139., 140., 141., 143., 145., 146., 147., 148., 149., 150.,\n",
       "         152., 153., 154., 155., 156., 157., 158., 159., 160.]),\n",
       "  'Ta': <Quantity([ -7.9564991  -15.56921387 -21.11674881 -20.80127716 -21.80036354\n",
       "   -19.97929764 -19.56687737 -14.76182842 -19.90380669 -20.31793594\n",
       "   -22.45976639 -19.99363518 -29.8326931  -29.37304688 -19.93805504\n",
       "   -19.84745789 -24.13547897 -17.13858986 -19.12710953 -26.1012249\n",
       "   -15.79629707 -16.99515915 -20.68845558 -14.22800732  -7.52887869\n",
       "   -20.57562447 -23.26673508 -24.79129982 -12.14227962 -10.03426456\n",
       "   -22.17927361 -13.85042477 -13.39063835 -18.86564827 -22.40141487\n",
       "   -15.8780632  -19.30794334 -22.15240479 -14.61598587 -21.61963463\n",
       "   -19.42907143 -24.51995087 -18.60819626 -19.97122955 -14.2255497\n",
       "   -20.6166153  -20.13946724  -6.64403725 -10.88420391 -19.12899399\n",
       "   -21.24555969 -18.72237968 -15.22368431 -13.51061535 -16.69508171\n",
       "    -2.6095829  -20.58961105 -11.59912968 -17.2023716  -18.3636322\n",
       "   -25.17777252 -23.29904938 -19.59985161 -10.77829742 -15.53984165\n",
       "   -15.18489838 -22.70740891 -17.55045319 -24.31254005 -18.78866768\n",
       "   -14.54692745 -17.36395454 -20.83778954 -22.72118759  -7.48809385\n",
       "   -16.11935043 -19.28271103 -15.10051632 -27.51571083 -23.78485298\n",
       "   -22.72112083 -24.15813065 -11.69733143 -12.23916245 -13.8010788\n",
       "   -18.27675629 -20.70368767 -21.56565094 -19.14429283 -23.12200546\n",
       "   -20.23349571 -21.48628998 -24.42694664 -17.13444901 -18.54195595\n",
       "   -21.87381172 -17.41173553 -16.71099091 -11.73279667 -12.98685646\n",
       "   -16.87532997 -23.7840004  -24.54520035 -19.30236244 -13.4101429\n",
       "   -11.61491585 -18.81054688 -25.42098808 -20.17328453 -14.05179691\n",
       "   -13.23739147 -18.50165405 -20.32362976 -20.64171448  -9.88443604\n",
       "   -22.00032654 -13.28241577 -20.57182922  -9.5585083 ], 'degree_Celsius')>,\n",
       "  'Vi': <Quantity([13.58891922 19.12291315 22.97525482 21.56946844 18.95939044 16.41750293\n",
       "   12.07653937 15.16878589 16.79164838 22.44472559 24.85545447 20.43121674\n",
       "   20.60835974 22.06995557 21.96217145 21.28506702 18.36569366 19.60169843\n",
       "   17.38368732 23.23757538 16.36678894 18.91287378 18.75066449 15.88550043\n",
       "   19.22389948 18.89149823 15.83495123 22.65378772 20.16663025 21.59187231\n",
       "   21.76346173 11.57903174 13.26985565 17.48998828 21.92767657 15.57324207\n",
       "   21.72057056 12.23878656 17.49057495 14.37684906 22.45393433 22.85864923\n",
       "   17.54195471 21.46200238 16.23712335 15.731638   16.00571667  9.7936106\n",
       "   20.05477075 19.38522876 11.88106787 17.05485553 18.50657025 10.80044824\n",
       "   25.01340051 15.25267474 17.4247608  16.59223993 24.5483822  13.17855844\n",
       "   17.69991229 15.65481885 15.98567596 23.67561182 19.92364014 25.19601801\n",
       "   12.88746634 11.49594955 12.01012372 14.06791132 22.53031348 16.74874567\n",
       "   11.60772501 15.84289764 14.79768585 13.30434393 15.03993768 17.83188995\n",
       "   16.8265816  23.6127854  12.18643286 12.2311376  11.79794696 17.28386444\n",
       "   16.7938418  21.31837701 14.98460449 21.01537683 18.73713977 12.2271026\n",
       "   17.19559534 14.98392389 14.96250879 11.76000952 10.12620383 22.68366833\n",
       "   21.37028247 15.71101392 13.63837912 16.34296783 12.58817322 10.7197869\n",
       "   18.93497607 16.35625031 14.35065656 14.05523364 19.69661536 18.97894171\n",
       "   14.11522229 22.04668652 17.78938275 10.94311038 18.04199854 12.08676077\n",
       "   13.29002655 21.17083282 24.36297308 19.61877612 20.99183752], 'kilometer / day')>,\n",
       "  'ws': <Quantity([ 8.38918293 11.06931733 13.548833   12.49796261 11.03098137  9.61126907\n",
       "    7.00294713  8.84379648 10.11199447 12.99342037 14.4732483  11.83899295\n",
       "   11.93265478 12.78142062 12.71863243 12.32772095 11.05017523 11.40041408\n",
       "   10.12564711 13.44910453  9.72714489 11.14940982 10.94205579  9.63101235\n",
       "   11.15877202 10.93258493  9.36863314 13.21722492 11.67065964 12.87551971\n",
       "   12.98590546  7.64199807  8.01705136 10.73635248 12.77074928  9.56302056\n",
       "   12.5950176   7.10958111 10.46412461  8.90917158 13.06431187 13.24447352\n",
       "   10.20568861 12.82525214  9.43356161  9.1869547   9.27886178  6.40595593\n",
       "   11.6161178  11.22528801  7.04451622  9.87004315 11.21671271  7.15224997\n",
       "   14.47561069  8.98787556 10.08947749  9.9253879  14.23381786  7.63638251\n",
       "   10.27417046  9.12429381  9.28187111 13.89509806 11.53377312 14.66972554\n",
       "    7.63973067  7.04708011  6.95171116  8.15207286 13.11983135  9.73432951\n",
       "    6.81774612  9.54131618  8.56380768  7.79078728  9.12869634 10.32699428\n",
       "    9.81984441 13.74907043  7.05425224  7.19745788  6.86678268 10.00232134\n",
       "    9.73506999 12.34801742  8.71904066 12.17670736 10.92581352  7.17216283\n",
       "   10.55107939  8.98777136  8.66346698  7.18731003  6.07568671 13.24722342\n",
       "   12.46217122  9.20002359  8.23113513  9.69273439  7.91550586  6.44189151\n",
       "   11.05987381  9.89226316  8.99749537  8.14612488 11.40426839 11.04296605\n",
       "    8.35770936 13.07585131 10.3006706   6.33282022 10.44216263  7.02086608\n",
       "    7.77473086 12.26064282 14.44901364 11.40904671 12.15138175], 'meter / second')>,\n",
       "  'date': DatetimeIndex(['2002-12-10', '2002-12-22', '2003-01-10', '2003-01-19',\n",
       "                 '2003-01-24', '2003-02-07', '2003-02-28', '2003-03-04',\n",
       "                 '2003-12-07', '2003-12-11',\n",
       "                 ...\n",
       "                 '2024-03-28', '2024-04-26', '2024-12-03', '2024-12-09',\n",
       "                 '2024-12-16', '2025-01-13', '2025-02-15', '2025-03-06',\n",
       "                 '2025-03-20', '2025-04-14'],\n",
       "                dtype='datetime64[ns]', length=119, freq=None)},\n",
       " '2': {'Fi=0': <Quantity([60.78525623 59.78963452 60.38682495 62.73111346 67.69228107 59.32708154\n",
       "   58.95907224 49.71122122 43.24258383 49.4627525  46.25597804 51.67067651\n",
       "   47.30373303 41.998995   58.10919928 57.7494429  46.00452396 63.69634039\n",
       "   32.06316577 54.9122981  38.76686334 68.3364364  63.52327606 64.57012756\n",
       "   37.78724075 27.22161127 51.21438739 48.91299747 51.02491525 68.71943958\n",
       "   51.27575867 70.56527124 35.04444022 49.6525155  68.49659564 52.96047693\n",
       "   71.12372827 30.87998891 36.91622379 61.25576385 30.1198233  41.0075321\n",
       "   53.69650543 41.33879585 66.98526141 46.5843447  42.08866589 48.42444644\n",
       "   44.52876535 55.31621951 63.76561359 58.60376697 21.54171657 28.40156557\n",
       "   42.96905248 43.74060645 24.81098703 49.12714105 49.14139417 35.09323929\n",
       "   42.5263233  36.90550635 60.49342419 47.55600687], 'kilometer')>,\n",
       "  'Xlim': <Quantity([  38.83666117   31.85476968   29.96313667   30.56943559   32.85561444\n",
       "     28.09323045   24.06173157   27.32030535   28.71152283   39.78781739\n",
       "     35.12755703 -258.22918879   29.50489492   23.69390446 -649.15400506\n",
       "     25.86225086   33.00855433   33.68735533   23.30160593   45.33930689\n",
       "     28.4804181    29.10837399   26.87917437   32.09725282   43.74879154\n",
       "     40.84939333  139.30708665   30.17528312   25.94712019   46.99589722\n",
       "     30.20312083   39.27849775   28.15271963   24.62440541   51.70451547\n",
       "     55.14087399   62.779002     23.7465148    34.79556739   61.96207448\n",
       "     34.70013621   36.24608373   60.74261546   23.53867334   32.00266724\n",
       "     36.84669426   29.66110695   35.86219518   33.74658443   36.02941498\n",
       "     44.35474842   40.17250248   32.64698938   20.38479051   27.93239563\n",
       "     35.86694095   57.52750496   25.19356502  123.79566578   33.58550327\n",
       "     47.86978351   30.60573093   43.99804335   37.55133626], 'kilometer')>,\n",
       "  'Xp': <Quantity([34.87952869 29.66001805 29.07844185 30.02588377 31.59858813 28.03564981\n",
       "   24.16849506 25.60027845 25.56567258 31.58129363 29.71754951 53.28133201\n",
       "   26.52012586 23.43332326 56.65785465 25.71339859 29.63259397 31.4838722\n",
       "   19.79032735 35.21996521 24.52762078 29.0021374  26.52847693 30.51070112\n",
       "   28.01745444 26.6466284  45.69299579 27.52177534 27.32206754 40.40572639\n",
       "   27.43648613 36.35621673 23.16339579 23.63276299 43.74817004 37.20644679\n",
       "   46.92234061 19.67675905 24.89674737 43.12565322 26.53115604 27.8726911\n",
       "   39.39610396 22.73615478 29.84232126 30.31871605 25.28389078 29.82641571\n",
       "   28.4203246  31.74015442 37.76816523 35.340146   19.50481252 17.68138277\n",
       "   26.22584214 28.01423048 23.06357877 24.31371314 42.50450848 26.36830559\n",
       "   30.55128553 24.63293823 38.01098472 29.74919539], 'kilometer')>,\n",
       "  'Xo': <Quantity([ 64.49269599  35.10249415  86.02844391  75.99628816 245.72636616\n",
       "    50.86113531  35.97879601  49.95625916  40.83000671  34.25070497\n",
       "    47.82348083  72.03515351  42.11852996  58.70476094  96.63408958\n",
       "   114.23852477  72.3423834   62.40007907  25.46003298  73.29489864\n",
       "    56.61918363  65.42651291  77.22051957 182.42056519  67.21118397\n",
       "    43.8810969   10.89397601  44.7849453   42.99165549  25.46003298\n",
       "    29.38230774  35.10249415  35.10249415  26.36417126  79.06234245\n",
       "    31.1513479  101.49373068  58.4422851   51.76585838  89.63964083\n",
       "    70.29638936  11.74634861  52.67984657  53.60185527  98.71703113\n",
       "    55.70209606  40.83000671  48.73501269  52.67984657 101.49373068\n",
       "    70.29638936  43.8810969   63.55586816  21.54556201  79.95132803\n",
       "    46.92961937  79.06234245  74.2409131   43.8810969   75.11827779\n",
       "    48.73501269  71.16788153  79.95132803  57.54844877], 'kilometer')>,\n",
       "  'seq': array([  3.,   4.,   5.,  12.,  14.,  15.,  18.,  23.,  26.,  28.,  29.,\n",
       "          32.,  34.,  38.,  40.,  41.,  48.,  50.,  54.,  55.,  56.,  57.,\n",
       "          58.,  60.,  62.,  64.,  67.,  68.,  70.,  73.,  75.,  77.,  78.,\n",
       "          79.,  82.,  84.,  85.,  87.,  88.,  92.,  98., 102., 104., 106.,\n",
       "         107., 117., 122., 124., 126., 133., 134., 138., 139., 140., 141.,\n",
       "         143., 145., 148., 152., 153., 154., 155., 158., 159.]),\n",
       "  'Ta': <Quantity([-15.89347839 -18.24672508 -19.60227394 -20.02762413 -18.21944809\n",
       "   -20.11733055 -24.87556458 -23.08474731 -19.44178009 -15.233778\n",
       "   -16.8064537   -5.14885283 -19.27483368 -23.72227669  -6.83533764\n",
       "   -22.43990135 -19.53334618 -17.64386559 -21.41930199 -13.18567276\n",
       "   -20.18641853 -20.61001015 -23.6297226  -18.49677849 -12.41949749\n",
       "   -15.69837666 -12.81318092 -17.73567772 -18.31420326 -16.38831139\n",
       "   -19.23303986 -15.86097908 -20.60397911 -23.81198311 -13.18123245\n",
       "   -13.75795364 -13.67955112 -21.40356255 -15.30883408 -13.94786644\n",
       "   -17.5867672  -17.83605576 -14.40815449 -23.66057205 -17.35687256\n",
       "   -16.03712273 -19.45907784 -16.64764595 -19.45806503 -17.25270653\n",
       "   -16.7416153  -14.95510197 -16.32068825 -26.15201569 -21.35786247\n",
       "   -16.19793701 -13.01459789 -23.14031792 -13.54713535 -17.92896118\n",
       "   -12.30844727 -18.86554565 -14.92667236 -18.72931519], 'degree_Celsius')>,\n",
       "  'Vi': <Quantity([25.59649768 19.91843097 24.49905908 27.23618738 26.85118359 14.71484509\n",
       "   24.85536383 18.16725751 16.14866638 18.54634351 20.61921643 16.10164874\n",
       "   15.15095837 16.50755017 18.18981628 24.03531628 22.6562959  19.2350907\n",
       "   11.05554996 19.98055371 19.0016933  23.50247992 21.92997711 22.17011462\n",
       "   12.12883868 21.2605719  16.17985052 13.42554977  9.4634827  21.62746802\n",
       "   17.24517389 25.40837439 16.17479297 17.85662732 26.47588458 14.47916528\n",
       "   25.15389642 11.542397   10.48808606 22.05927686 23.78623535 17.11142468\n",
       "   19.20559735 20.3718642  22.41948395 18.60163385 16.64809882 19.38269751\n",
       "   20.37333252 22.25972186 21.65847089 19.9161189  14.04984979 12.68365457\n",
       "   22.44664874 15.04459808 15.2229787  20.37759082 14.63800287 22.31028259\n",
       "   17.37572113 18.5091394  18.16249493 14.18275195], 'kilometer / day')>,\n",
       "  'ws': <Quantity([14.96403193 11.8722027  14.75153187 15.82318053 16.10637647  8.51680147\n",
       "   14.42629784 10.92247381  9.68699671 10.74803564 12.54909692  9.45505951\n",
       "    8.78424029 10.00221453 11.07588612 14.48042919 13.25688097 11.14457752\n",
       "    6.95224933 11.97254404 11.28935839 13.68917442 12.69627543 13.08450865\n",
       "    7.49753522 12.66586775  9.37673116  8.22170885  6.13311363 12.53256626\n",
       "    9.99637713 14.71851228  9.36195366 10.35297441 15.45091715  8.52309794\n",
       "   14.57463595  7.17237346  6.13758213 12.90029855 13.80306151  9.94206135\n",
       "   11.13181965 12.54228354 14.37770194 10.89479696  9.65226846 11.25664728\n",
       "   11.87143489 13.55800727 12.56237074 11.66564215  8.80499421  7.5231334\n",
       "   13.04189431  9.69827075 10.02534972 11.9253798   8.47744228 13.00577741\n",
       "   10.43681012 10.95589678 10.99057053  8.21828863], 'meter / second')>,\n",
       "  'date': DatetimeIndex(['2002-12-23', '2003-01-11', '2003-01-20', '2003-12-12',\n",
       "                 '2003-12-30', '2004-01-12', '2004-12-18', '2006-03-16',\n",
       "                 '2006-12-17', '2007-02-02', '2007-02-08', '2007-04-20',\n",
       "                 '2007-12-25', '2008-02-13', '2008-04-24', '2008-12-10',\n",
       "                 '2009-03-10', '2009-12-29', '2010-12-07', '2011-01-05',\n",
       "                 '2012-12-23', '2013-01-15', '2013-03-07', '2013-12-31',\n",
       "                 '2014-01-29', '2014-02-28', '2014-04-29', '2014-12-22',\n",
       "                 '2015-01-02', '2015-04-01', '2015-12-16', '2016-01-27',\n",
       "                 '2016-02-03', '2016-02-09', '2016-02-27', '2016-03-23',\n",
       "                 '2016-04-06', '2016-12-07', '2016-12-17', '2017-04-06',\n",
       "                 '2018-01-02', '2018-03-10', '2018-04-07', '2018-12-26',\n",
       "                 '2019-01-16', '2019-12-09', '2020-12-11', '2021-01-23',\n",
       "                 '2021-03-15', '2022-02-27', '2022-03-26', '2022-12-07',\n",
       "                 '2022-12-12', '2022-12-25', '2023-01-12', '2023-03-07',\n",
       "                 '2023-03-31', '2024-01-04', '2024-04-27', '2024-12-04',\n",
       "                 '2024-12-10', '2024-12-17', '2025-03-07', '2025-03-21'],\n",
       "                dtype='datetime64[ns]', freq=None)},\n",
       " '3': {'Fi=0': <Quantity([71.69539691 71.13218802 90.24861566 81.13028027 72.54286057 84.04317142\n",
       "   69.62982523 60.15049338 70.12014862 63.30372102 58.9470387  75.09891467\n",
       "   63.14891257 73.79056165 71.77894629 58.073625   90.22427875 88.44272534\n",
       "   64.23589792 92.01942773 52.41257584 67.30876868 93.06554095 93.63608405\n",
       "   50.25549518 82.32543402 58.55599786 65.93317932 85.81630463 72.72714084\n",
       "   61.00472021 65.17310641 60.37273581 67.25800278 82.75516809 70.80950061\n",
       "   44.42243678 65.76234405 35.28665002 70.68922339 61.04146124 47.58220267\n",
       "   53.0949603  55.00962433 78.78277826 64.74049338], 'kilometer')>,\n",
       "  'Xlim': <Quantity([ 38.73435648  32.81099989  30.5820542   31.42361067  24.87809564\n",
       "    24.9536529   27.64377513  30.08748695  45.53764035  33.83575007\n",
       "    29.00067456 342.97818644  33.22075086  30.07873381  37.27328536\n",
       "    26.42192739  30.560388    34.64876231  30.16568348  41.19176477\n",
       "    25.13365813  27.03757592  49.91440425  69.25217428  33.26607809\n",
       "    59.44182805  31.86142093  73.54102254  36.30844832  48.24790336\n",
       "    29.65603024  29.51372451  36.346621    32.81143248  42.9349872\n",
       "    32.83196881  21.70963935  33.7112859   56.26637244  26.31503208\n",
       "   156.84780088  36.37551603  56.76510601  33.81001723  38.6759565\n",
       "    36.40506181], 'kilometer')>,\n",
       "  'Xp': <Quantity([35.96530157 30.74929238 30.52632174 31.52376074 26.35828918 24.95775734\n",
       "   27.07271125 28.10674317 37.9123591  31.79245622 26.68689286 70.84097515\n",
       "   31.48435091 31.01231719 36.14911938 25.91180921 30.05120931 33.36177757\n",
       "   28.60903632 38.87474452 24.52490805 25.85619601 46.78332339 54.18127746\n",
       "   28.25274183 48.90906254 30.06958272 45.077562   33.19591867 40.03352346\n",
       "   28.07265336 29.64896747 31.87550152 32.13004811 40.05337955 34.40769681\n",
       "   20.65407978 31.28699295 29.24526886 25.95355928 51.17975188 29.80412447\n",
       "   35.43182522 29.54695291 38.32544118 32.89100153], 'kilometer')>,\n",
       "  'Xo': <Quantity([ 46.92961937  46.04296103 188.12370009 131.80490837  29.38230774\n",
       "    87.84290314  50.86113531  46.92961937  21.54556201  65.42651291\n",
       "    35.10249415 108.43857937  38.18775777  83.00608309  65.42651291\n",
       "    61.49009517  77.22051957 182.42056519  25.46003298  51.76585838\n",
       "    39.04726215  26.36417126  95.72158328 101.49373068  40.83000671\n",
       "   143.28681747  25.46003298  42.99165549 103.57502162 165.6946652\n",
       "    43.8810969   66.35145129  26.36417126 126.9608608   79.06234245\n",
       "    38.18775777  34.25070497  91.78538272  86.94344239 151.20570139\n",
       "    26.36417126  33.30344077  59.6321189  146.36202793 137.55951703\n",
       "    53.60185527], 'kilometer')>,\n",
       "  'seq': array([  3.,   4.,  12.,  14.,  15.,  18.,  23.,  26.,  28.,  29.,  38.,\n",
       "          40.,  48.,  50.,  55.,  56.,  58.,  60.,  75.,  77.,  78.,  79.,\n",
       "          82.,  85.,  88.,  92., 102., 104., 107., 117., 122., 124., 126.,\n",
       "         133., 134., 138., 140., 141., 145., 148., 152., 153., 154., 155.,\n",
       "         158., 159.]),\n",
       "  'Ta': <Quantity([-13.89609814 -15.37057209 -19.92037964 -16.63805962 -22.14929771\n",
       "   -24.11399651 -23.4926281  -18.97078133 -13.45270061 -16.27066612\n",
       "   -20.40629768  -7.4642663  -19.42773819 -15.25003242 -15.77920723\n",
       "   -22.1652298  -21.0443325  -17.55242348 -17.99531174 -14.93205357\n",
       "   -22.95182991 -21.82220078 -13.53983498 -13.05383587 -16.73746109\n",
       "   -14.32800198 -20.10009575 -14.19984531 -15.26914024 -12.99375629\n",
       "   -19.83718872 -19.52489281 -18.43361855 -16.36101723 -17.45617104\n",
       "   -16.35719109 -25.96702003 -17.9585495  -13.83196068 -22.37403297\n",
       "   -13.64986706 -15.34247437  -9.72110596 -16.79215088 -16.54801025\n",
       "   -19.22516479], 'degree_Celsius')>,\n",
       "  'Vi': <Quantity([10.91014069 11.3425535  27.5175022  13.43799921 13.21577902 25.08409918\n",
       "   19.918604   16.90790955 20.65739612 17.04774298 16.9480437  16.98971539\n",
       "   17.14438861 10.09422125 16.86664819 19.30676166 26.70100269 23.87259778\n",
       "   12.96013925 21.45415649 17.36813562 17.65625317 24.56894531 22.51235577\n",
       "   13.33927139 21.06967017 17.54846576 12.23667389 18.83104321 26.14279614\n",
       "   18.91605432 16.74865997 15.84397046 11.94178326 18.9895545  12.20573364\n",
       "   16.02087122 22.79329156 10.47566299 21.56208234 11.90006708 12.48896338\n",
       "   10.56863699 18.10411798 18.28935406 17.18448651], 'kilometer / day')>,\n",
       "  'ws': <Quantity([ 6.44284301  7.27823572 16.10082783  8.51902353  7.65799358 14.51648367\n",
       "   11.67585416  9.9818381  12.20583953 11.02141845  9.82669774 10.01779031\n",
       "    9.96308376  7.08636615  9.77474659 11.18007163 15.50614908 13.91659692\n",
       "    7.7264665  12.41797738 10.17197914 10.21859717 14.28655762 13.0280373\n",
       "    7.80964772 12.37995114 10.16228097  7.14121366 11.97046185 15.45995708\n",
       "   10.94948184  9.74797708  9.17497699  8.11617093 10.99095833  7.32905347\n",
       "    9.31643084 13.24349496  6.87139159 12.60536191  6.94466708  7.23368392\n",
       "    6.31989201 11.00748429 11.20818583  9.9454072 ], 'meter / second')>,\n",
       "  'date': DatetimeIndex(['2002-12-24', '2003-01-12', '2003-12-13', '2003-12-31',\n",
       "                 '2004-01-13', '2004-12-19', '2006-03-17', '2006-12-18',\n",
       "                 '2007-02-03', '2007-02-09', '2008-02-14', '2008-04-25',\n",
       "                 '2009-03-11', '2009-12-30', '2011-01-06', '2012-12-24',\n",
       "                 '2013-03-08', '2014-01-01', '2015-12-17', '2016-01-28',\n",
       "                 '2016-02-04', '2016-02-10', '2016-02-28', '2016-04-07',\n",
       "                 '2016-12-18', '2017-04-07', '2018-03-11', '2018-04-08',\n",
       "                 '2019-01-17', '2019-12-10', '2020-12-12', '2021-01-24',\n",
       "                 '2021-03-16', '2022-02-28', '2022-03-27', '2022-12-08',\n",
       "                 '2022-12-26', '2023-01-13', '2023-04-01', '2024-01-05',\n",
       "                 '2024-04-28', '2024-12-05', '2024-12-11', '2024-12-18',\n",
       "                 '2025-03-08', '2025-03-22'],\n",
       "                dtype='datetime64[ns]', freq=None)},\n",
       " '4': {'Fi=0': <Quantity([115.24345367 104.41694229  94.30279239  74.90468655  80.67124484\n",
       "   112.26364508 110.39673779  76.72423343 107.38461951  88.80730444\n",
       "   116.42842145 118.7135766   61.09918231 102.83732611  75.54627356\n",
       "    80.09942377 106.20801178  93.89378128  80.98392096 101.92706818\n",
       "    61.25943837  49.50749268  88.3485368   76.40813864  65.73265768\n",
       "    96.81008533  78.71401346], 'kilometer')>,\n",
       "  'Xlim': <Quantity([29.61912347 24.54453695 27.10039646 32.09772095 41.20752281 39.79749335\n",
       "   32.50034338 31.2125967  42.7741136  32.01324152 47.68033109 65.77350159\n",
       "   32.29522355 57.0417393  34.27279559 82.96986897 40.45710384 54.08462505\n",
       "   38.50642671 39.28729809 21.3719533  60.19688957 28.13659591 50.50170045\n",
       "   29.47580617 39.48373389 32.87471092], 'kilometer')>,\n",
       "  'Xp': <Quantity([29.76075979 24.61475402 27.09791665 29.94125526 38.75607857 35.44858252\n",
       "   32.77987796 29.65073547 40.27546446 29.99096827 47.2228481  58.60104997\n",
       "   29.6100759  51.83352785 32.15326876 51.54728034 36.85579413 45.53258377\n",
       "   34.40295833 39.67953767 21.21962648 36.55724347 27.32369404 42.38855511\n",
       "   29.52107037 38.85428929 32.88407714], 'kilometer')>,\n",
       "  'Xo': <Quantity([144.52847068 123.02382785  72.3423834   21.54556201  38.18775777\n",
       "   166.97928966  92.69297059   7.80512686  63.55586816  26.36417126\n",
       "   111.18656954 115.13666323  53.86239735 160.86427176  34.25070497\n",
       "    43.8810969  107.49220449 365.73013941 134.81570669  66.35145129\n",
       "    16.62653428  52.67984657 159.09921313  79.95132803 144.52847068\n",
       "   138.45239603  50.50748549], 'kilometer')>,\n",
       "  'seq': array([ 12.,  18.,  23.,  26.,  28.,  58.,  60.,  75.,  77.,  79.,  82.,\n",
       "          85.,  88.,  92., 102., 104., 107., 117., 133., 134., 140., 145.,\n",
       "         148., 154., 155., 158., 159.]),\n",
       "  'Ta': <Quantity([-20.39460564 -23.90642548 -24.11597061 -17.7171154  -13.42403698\n",
       "   -16.33841896 -18.54559326 -17.37404823 -13.77968502 -19.05009651\n",
       "   -13.86394787 -13.21920681 -16.29600334 -14.66455746 -18.6522522\n",
       "   -13.90382957 -14.00855732 -10.94405365 -15.30742931 -18.50354576\n",
       "   -26.42552567 -13.80874634 -19.92666817 -12.53119507 -15.98459473\n",
       "   -16.29196777 -20.79044189], 'degree_Celsius')>,\n",
       "  'Vi': <Quantity([24.99483801 20.37377087 24.67296716 14.75419318 10.55109622 22.03936633\n",
       "   21.95401245 12.48833551 15.36519177 21.49853577 23.36288049 25.07749255\n",
       "   10.84368713 20.51189209 16.9902757  14.16624445 20.39170715 21.16664044\n",
       "   13.72591818 19.17190009 16.83700159 14.22084265 17.65931342 23.31317834\n",
       "   10.72303336 18.02730707 13.97352008], 'kilometer / day')>,\n",
       "  'ws': <Quantity([14.57059118 11.81091723 14.35865386  8.56677417  6.15861135 12.83129233\n",
       "   12.71477908  7.40989726  8.9120306  12.4592048  13.56992638 14.53348015\n",
       "    6.47160905 11.8854889   9.88071882  8.22592321 12.93163145 13.34618437\n",
       "    8.78245255 11.10365764  9.8476867   8.49191325 10.68526471 13.50004119\n",
       "    7.35811778 11.12332696  8.19639214], 'meter / second')>,\n",
       "  'date': DatetimeIndex(['2003-12-14', '2004-12-20', '2006-03-18', '2006-12-19',\n",
       "                 '2007-02-04', '2013-03-09', '2014-01-02', '2015-12-18',\n",
       "                 '2016-01-29', '2016-02-11', '2016-02-29', '2016-04-08',\n",
       "                 '2016-12-19', '2017-04-08', '2018-03-12', '2018-04-09',\n",
       "                 '2019-01-18', '2019-12-11', '2022-03-01', '2022-03-28',\n",
       "                 '2022-12-27', '2023-04-02', '2024-01-06', '2024-12-12',\n",
       "                 '2024-12-19', '2025-03-09', '2025-03-23'],\n",
       "                dtype='datetime64[ns]', freq=None)},\n",
       " '5': {'Fi=0': <Quantity([137.83960931 116.13650949 115.74309622  91.77633133 129.56766724\n",
       "   117.79109088 109.61464417 131.36941296 142.79329687 121.56654254\n",
       "    97.9344234  117.47869821 111.75460757  78.26611775 109.27710791\n",
       "    98.05500467 114.38743799], 'kilometer')>,\n",
       "  'Xlim': <Quantity([ 28.86070813  22.30676903  31.57685163  35.9160676   29.86154619\n",
       "    38.46295098  42.45258459  41.3692703   86.56397375  77.11827631\n",
       "   123.36377323  32.53911696  58.72315849  22.00209633  33.0155933\n",
       "    35.39719611  42.3955982 ], 'kilometer')>,\n",
       "  'Xp': <Quantity([29.05607482 23.40218105 30.13905982 32.74793534 30.90632687 39.78507386\n",
       "   36.09879626 45.10876062 66.37956745 57.97427099 61.92996475 35.36061174\n",
       "   49.54453697 21.82444221 30.93178665 38.11304664 40.32252746], 'kilometer')>,\n",
       "  'Xo': <Quantity([119.0804111  131.80490837  99.65147252  31.1513479  106.3567456\n",
       "    34.25070497  26.36417126 116.01518377  92.69297059 168.77976513\n",
       "    61.49009517 120.18677708 374.53715353  56.61918363 159.09921313\n",
       "    91.78538272 195.17483789], 'kilometer')>,\n",
       "  'seq': array([ 12.,  18.,  23.,  26.,  60.,  77.,  79.,  82.,  85.,  92., 104.,\n",
       "         107., 117., 140., 148., 154., 158.]),\n",
       "  'Ta': <Quantity([-20.79385376 -21.65822983 -21.22031021 -16.31621933 -19.73959541\n",
       "   -14.04418182 -14.73345566 -15.2681551  -11.17178917 -12.53833866\n",
       "   -10.86707211 -16.01061821  -9.80022717 -25.74588203 -17.95692444\n",
       "   -17.097052   -14.98779907], 'degree_Celsius')>,\n",
       "  'Vi': <Quantity([22.59615564 11.7195672  21.44030383 16.87164478 19.17092944 10.40647137\n",
       "   20.80733972 14.94099152 24.07972028 18.72921643 17.83499963 11.27068643\n",
       "   17.86082629 17.00667938 20.92857111 21.64686603 17.57735266], 'kilometer / day')>,\n",
       "  'ws': <Quantity([13.0787911   7.77577074 12.43659826  9.78592452 11.10005022  6.08837284\n",
       "   12.04433215  8.68299772 13.94016097 10.85587775 10.83623056  6.90035645\n",
       "   11.55426244  9.9412399  12.30322865 12.55048258 11.2704983 ], 'meter / second')>,\n",
       "  'date': DatetimeIndex(['2003-12-15', '2004-12-21', '2006-03-19', '2006-12-20',\n",
       "                 '2014-01-03', '2016-01-30', '2016-02-12', '2016-03-01',\n",
       "                 '2016-04-09', '2017-04-09', '2018-04-10', '2019-01-19',\n",
       "                 '2019-12-12', '2022-12-28', '2024-01-07', '2024-12-13',\n",
       "                 '2025-03-10'],\n",
       "                dtype='datetime64[ns]', freq=None)},\n",
       " '6': {'Fi=0': <Quantity([158.89307025 134.75547318 150.62134735 134.08276959 146.742505\n",
       "   165.65506732 136.99393451 112.32239612 124.17691882  92.88034401\n",
       "   135.27100031 110.73733099], 'kilometer')>,\n",
       "  'Xlim': <Quantity([ 26.90350218  34.77957195  31.67542041  35.85147328  36.80922745\n",
       "   109.85585447 120.04959866 230.35304122  55.32337505  23.8109748\n",
       "    35.60280442  27.66087124], 'kilometer')>,\n",
       "  'Xp': <Quantity([27.37156907 32.67581232 31.41751975 35.93000181 41.64252413 75.42728638\n",
       "   65.95147727 72.44975913 50.84211734 23.04369665 34.3421341  33.32079342], 'kilometer')>,\n",
       "  'Xo': <Quantity([101.49373068  78.17588533 119.97052029  43.8810969   75.11827779\n",
       "   129.95432382 196.91470055  78.17588533 335.39964802  26.36417126\n",
       "   299.36387355  62.40007907], 'kilometer')>,\n",
       "  'seq': array([ 12.,  23.,  60.,  79.,  82.,  85.,  92., 104., 117., 140., 148.,\n",
       "         154.]),\n",
       "  'Ta': <Quantity([-22.00640106 -19.07573891 -18.72210503 -17.36554909 -16.88849831\n",
       "   -10.60956573 -10.88790226  -9.18356705  -9.47609806 -23.40496063\n",
       "   -16.76859093 -19.66364136], 'degree_Celsius')>,\n",
       "  'Vi': <Quantity([21.05346094 19.01237695 21.05368011 24.46812543 15.37309204 22.86177045\n",
       "   15.42739197 14.38797272 12.42231125 14.61422626 25.9938924  12.68232632], 'kilometer / day')>,\n",
       "  'ws': <Quantity([12.20324483 11.06971488 12.3364769  14.25992471  8.93405115 13.23071931\n",
       "    8.9301111   8.97554904  8.37315271  8.50941526 15.71200448  7.45239179], 'meter / second')>,\n",
       "  'date': DatetimeIndex(['2003-12-16', '2006-03-20', '2014-01-04', '2016-02-13',\n",
       "                 '2016-03-02', '2016-04-10', '2017-04-10', '2018-04-11',\n",
       "                 '2019-12-13', '2022-12-29', '2024-01-08', '2024-12-14'],\n",
       "                dtype='datetime64[ns]', freq=None)},\n",
       " '7': {'Fi=0': <Quantity([177.48900055 174.38818469 159.8473894  165.12987579 193.16473682\n",
       "   148.14420612 105.16167979 156.43358844], 'kilometer')>,\n",
       "  'Xlim': <Quantity([ 25.84385334  34.72009445  37.61488918  41.14320828 107.94607902\n",
       "   141.53766309  25.01357198  35.32942831], 'kilometer')>,\n",
       "  'Xp': <Quantity([26.27230207 33.67822085 37.08407892 41.41937416 83.71458357 71.90612201\n",
       "   24.0108796  34.93353061], 'kilometer')>,\n",
       "  'Xo': <Quantity([107.23015109 143.28681747  66.35145129  92.69297059 161.17146443\n",
       "   147.24942225  30.30745856 387.3347917 ], 'kilometer')>,\n",
       "  'seq': array([ 12.,  60.,  79.,  82.,  85.,  92., 140., 148.]),\n",
       "  'Ta': <Quantity([-22.49536324 -17.28764915 -16.81453896 -15.64693642 -10.20382214\n",
       "   -11.08044815 -21.73927116 -16.67510414], 'degree_Celsius')>,\n",
       "  'Vi': <Quantity([18.5959303  23.76683734 25.76461981 18.38737079 27.50966949 11.15027161\n",
       "   12.28133578 21.16258813], 'kilometer / day')>,\n",
       "  'ws': <Quantity([10.78538836 14.07577007 14.93665163 10.68879265 15.98025517  6.46686302\n",
       "    7.11702888 12.64471735], 'meter / second')>,\n",
       "  'date': DatetimeIndex(['2003-12-17', '2014-01-05', '2016-02-14', '2016-03-03',\n",
       "                 '2016-04-11', '2017-04-11', '2022-12-30', '2024-01-09'],\n",
       "                dtype='datetime64[ns]', freq=None)},\n",
       " '8': {'Fi=0': <Quantity([196.04208252 200.46525897 180.73930518 185.42768774 214.04139587\n",
       "   174.82093451], 'kilometer')>,\n",
       "  'Xlim': <Quantity([ 26.91580184  35.28998244  36.83669057  43.52941125 115.71274101\n",
       "    29.90061852], 'kilometer')>,\n",
       "  'Xp': <Quantity([26.71586693 34.86921115 36.94377271 42.40328676 89.48762652 31.83854794], 'kilometer')>,\n",
       "  'Xo': <Quantity([112.05361738 111.18656954  83.9002159  138.45239603 203.95853234\n",
       "   155.15563729], 'kilometer')>,\n",
       "  'seq': array([ 12.,  60.,  79.,  82.,  85., 148.]),\n",
       "  'Ta': <Quantity([-21.65073013 -17.46791077 -16.86621284 -15.28279305 -10.32669163\n",
       "   -18.91056824], 'degree_Celsius')>,\n",
       "  'Vi': <Quantity([18.55308197 26.07707428 20.89191577 20.29781195 20.87665906 18.38734607], 'kilometer / day')>,\n",
       "  'ws': <Quantity([10.75429194 15.1481178  12.10455221 11.75788655 12.08961948 11.13780185], 'meter / second')>,\n",
       "  'date': DatetimeIndex(['2003-12-18', '2014-01-06', '2016-02-15', '2016-03-04',\n",
       "                 '2016-04-12', '2024-01-10'],\n",
       "                dtype='datetime64[ns]', freq=None)},\n",
       " '9': {'Fi=0': <Quantity([217.0881969  192.11297278 202.7215882  232.71172614 186.48839685], 'kilometer')>,\n",
       "  'Xlim': <Quantity([28.66694799 30.35084265 35.08228147 80.17045652 28.74905086], 'kilometer')>,\n",
       "  'Xp': <Quantity([28.14827177 34.47313966 38.79437846 87.31781673 30.58471208], 'kilometer')>,\n",
       "  'Xo': <Quantity([120.84748281  61.49009517  53.60185527 200.00930606 172.7281185 ], 'kilometer')>,\n",
       "  'seq': array([ 12.,  79.,  82.,  85., 148.]),\n",
       "  'Ta': <Quantity([-20.74509621 -18.7162056  -17.95820045 -12.21354866 -17.61357307], 'degree_Celsius')>,\n",
       "  'Vi': <Quantity([21.04611438 11.3736676  17.29390045 18.67033026 11.66746234], 'kilometer / day')>,\n",
       "  'ws': <Quantity([12.18844155  6.65351081 10.15201882 10.81842247  7.40609526], 'meter / second')>,\n",
       "  'date': DatetimeIndex(['2003-12-19', '2016-02-16', '2016-03-05', '2016-04-13',\n",
       "                 '2024-01-11'],\n",
       "                dtype='datetime64[ns]', freq=None)},\n",
       " '10+': {'Fi=0': <Quantity([240.56324341 250.97334521 203.11534589 219.99096057 242.41032751\n",
       "   252.03484204 267.82638959 205.28676453 233.63226892 264.51674561\n",
       "   277.57832684], 'kilometer')>,\n",
       "  'Xlim': <Quantity([33.67853107 32.59347756 27.25271476 31.54851478 30.65737717 84.61749145\n",
       "   72.58248782 33.81000957 30.70865801 29.58243452 28.92541656], 'kilometer')>,\n",
       "  'Xp': <Quantity([32.00304483 32.19162443 31.55813433 34.82805805 31.77808986 86.70117474\n",
       "   83.62941566 32.37797771 30.83711882 29.5272108  29.25546418], 'kilometer')>,\n",
       "  'Xo': <Quantity([ 66.35145129  97.54824366  39.93280567  57.54844877  49.65068359\n",
       "   211.37768411 186.12097793 231.37269339 263.32241178 343.3517402\n",
       "   352.1500607 ], 'kilometer')>,\n",
       "  'seq': array([ 12.,  12.,  79.,  82.,  82.,  85.,  85., 148., 148., 148., 148.]),\n",
       "  'Ta': <Quantity([-18.09217262 -16.3662529  -20.6380806  -19.89382744 -20.88197517\n",
       "   -12.20419884 -13.73870087 -17.47203445 -19.59310722 -19.9237442\n",
       "   -18.58801651], 'degree_Celsius')>,\n",
       "  'Vi': <Quantity([23.47504651 10.41010181 11.00237311 17.26937238 22.41936694 19.32311591\n",
       "   15.79154755 18.79836768 28.34550439 30.88447668 13.06158124], 'kilometer / day')>,\n",
       "  'ws': <Quantity([13.58513731  6.02821424  6.3783311  10.08565797 12.98092854 11.18746016\n",
       "    9.25851424 10.93824014 16.89403481 18.96455384  7.8730931 ], 'meter / second')>,\n",
       "  'date': DatetimeIndex(['2003-12-20', '2003-12-21', '2016-02-17', '2016-03-06',\n",
       "                 '2016-03-07', '2016-04-14', '2016-04-15', '2024-01-12',\n",
       "                 '2024-01-13', '2024-01-14', '2024-01-15'],\n",
       "                dtype='datetime64[ns]', freq=None)}}"
      ]
     },
     "execution_count": 1610,
     "metadata": {},
     "output_type": "execute_result"
    }
   ],
   "source": [
    "across"
   ]
  },
  {
   "cell_type": "code",
   "execution_count": 1573,
   "id": "19120376",
   "metadata": {},
   "outputs": [
    {
     "data": {
      "text/plain": [
       "3.262069738881133"
      ]
     },
     "execution_count": 1573,
     "metadata": {},
     "output_type": "execute_result"
    }
   ],
   "source": [
    "np.sqrt(np.nanmean((DF.length_145max[DF.extent>0] - DF.length_max[DF.extent>0])**2))"
   ]
  },
  {
   "cell_type": "code",
   "execution_count": null,
   "id": "03df571b",
   "metadata": {},
   "outputs": [],
   "source": []
  },
  {
   "cell_type": "code",
   "execution_count": 1520,
   "id": "40c1c6c5",
   "metadata": {},
   "outputs": [
    {
     "data": {
      "text/plain": [
       "<matplotlib.collections.PathCollection at 0x195558c20>"
      ]
     },
     "execution_count": 1520,
     "metadata": {},
     "output_type": "execute_result"
    },
    {
     "data": {
      "image/png": "[encoded data removed]",
      "text/plain": [
       "<Figure size 300x300 with 1 Axes>"
      ]
     },
     "metadata": {},
     "output_type": "display_data"
    }
   ],
   "source": [
    "fig, ax = plt.subplots(figsize=(3,3))\n",
    "\n",
    "ax.scatter(DF.length_max, DF.length_145max, s=5)"
   ]
  },
  {
   "cell_type": "code",
   "execution_count": 1349,
   "id": "085dbf97",
   "metadata": {},
   "outputs": [
    {
     "data": {
      "text/html": [
       "<table><tbody><tr><th>Magnitude</th><td style='text-align:left;'><pre>[2.7978342132568352 8.563938903808594 20.022065654754634 36.41611764907836 58.09336125183105 80.4036813354492 95.38582039260864 125.33721514892578 144.53754184341432 163.69881790924072 193.43954862213133 211.6703889541626 237.5309829597473]</pre></td></tr><tr><th>Units</th><td style='text-align:left;'>kilometer</td></tr></tbody></table>"
      ],
      "text/latex": [
       "$\\begin{pmatrix} &  &  &  &  &  &  &  &  &  &  &  & \\end{pmatrix}\\ \\mathrm{kilometer}$"
      ],
      "text/plain": [
       "<Quantity([  2.79783421   8.5639389   20.02206565  36.41611765  58.09336125\n",
       "  80.40368134  95.38582039 125.33721515 144.53754184 163.69881791\n",
       " 193.43954862 211.67038895 237.53098296], 'kilometer')>"
      ]
     },
     "execution_count": 1349,
     "metadata": {},
     "output_type": "execute_result"
    }
   ],
   "source": [
    "byday['Fi=0'][50]"
   ]
  },
  {
   "cell_type": "code",
   "execution_count": null,
   "id": "bc91ea2d",
   "metadata": {},
   "outputs": [],
   "source": [
    "byday['Fi=0'][50]"
   ]
  },
  {
   "cell_type": "code",
   "execution_count": 1271,
   "id": "3f885b96",
   "metadata": {},
   "outputs": [
    {
     "data": {
      "text/plain": [
       "'Xo'"
      ]
     },
     "execution_count": 1271,
     "metadata": {},
     "output_type": "execute_result"
    }
   ],
   "source": [
    "cat"
   ]
  },
  {
   "cell_type": "code",
   "execution_count": 1272,
   "id": "0f0222ff",
   "metadata": {},
   "outputs": [
    {
     "data": {
      "text/plain": [
       "<matplotlib.collections.PathCollection at 0x192e1ae70>"
      ]
     },
     "execution_count": 1272,
     "metadata": {},
     "output_type": "execute_result"
    },
    {
     "data": {
      "image/png": "[encoded data removed]",
      "text/plain": [
       "<Figure size 300x300 with 1 Axes>"
      ]
     },
     "metadata": {},
     "output_type": "display_data"
    }
   ],
   "source": [
    "fig, ax = plt.subplots(figsize=(3,3))\n",
    "plt.scatter(byday['Ta'][50].magnitude, byday['Xp'][50].magnitude)\n",
    "plt.scatter(byday['Ta'][50].magnitude, byday['Xlim'][50].magnitude)"
   ]
  },
  {
   "cell_type": "code",
   "execution_count": null,
   "id": "4a06b6f6",
   "metadata": {},
   "outputs": [],
   "source": []
  },
  {
   "cell_type": "markdown",
   "id": "b83c9231",
   "metadata": {},
   "source": [
    "## SIC maps"
   ]
  },
  {
   "cell_type": "code",
   "execution_count": 485,
   "id": "dc8d300c",
   "metadata": {},
   "outputs": [],
   "source": [
    "RES = '6250'\n",
    "crop=[700, 1150, 200, 400]\n",
    "sic_key = 'sic'\n",
    "open_thresh = 10\n",
    "\n",
    "# RES = '3125'\n",
    "# crop=[1500, 2050, 480, 700]\n",
    "# sic_key = 'sic'\n",
    "\n",
    "# sicsic = unisic.open_local_file(datetime(2019,1,16), res='1000ma2', hem='n', main_path='/Volumes/Seagate_Jewell/KenzieStuff/', \n",
    "#                             crop=[2100, 3400, 340, 800], coordinates=False, area=False, include_units=False, quiet=True)\n",
    "\n",
    "\n",
    "out = unisic.calc_meansic_openfreq([datetime(2024,1,1), datetime(2024,1,2)], crop=crop, \n",
    "                                            open_thresh=open_thresh, res=RES, hem='n', sic_key = sic_key, \n",
    "                                            main_path='/Volumes/Seagate_Jewell/KenzieStuff/', \n",
    "                                            coordinates=False, area=False, quiet=True)"
   ]
  },
  {
   "cell_type": "code",
   "execution_count": 486,
   "id": "58edacfa",
   "metadata": {},
   "outputs": [
    {
     "data": {
      "text/plain": [
       "dict_keys(['1', '2', '3', '4', '5', '6', '7', '8', '9', '10+'])"
      ]
     },
     "execution_count": 486,
     "metadata": {},
     "output_type": "execute_result"
    }
   ],
   "source": [
    "across.keys()"
   ]
  },
  {
   "cell_type": "code",
   "execution_count": 487,
   "id": "0b6a577a",
   "metadata": {},
   "outputs": [
    {
     "name": "stdout",
     "output_type": "stream",
     "text": [
      "1\n",
      "2\n",
      "3\n",
      "4\n",
      "5\n",
      "6\n",
      "7\n",
      "8\n",
      "9\n",
      "10+\n"
     ]
    }
   ],
   "source": [
    "\n",
    "# RES = '1000ma2'\n",
    "# crop = [2100, 3400, 340, 800]\n",
    "# sic_key = 'sic_merged'\n",
    "\n",
    "RES = '6250'\n",
    "# crop=[500, 1300, 100, 500]\n",
    "crop=[700, 1150, 200, 400]\n",
    "sic_key = 'sic'\n",
    "\n",
    "# RES = '3125'\n",
    "# crop=[1500, 2050, 480, 700]\n",
    "# sic_key = 'sic'\n",
    "\n",
    "# sicsic = unisic.open_local_file(datetime(2019,1,16), res='1000ma2', hem='n', main_path='/Volumes/Seagate_Jewell/KenzieStuff/', \n",
    "#                             crop=[2100, 3400, 340, 800], coordinates=False, area=False, include_units=False, quiet=True)\n",
    "\n",
    "dsic = unisic.open_local_file(datetime(2020,1,1), res=RES, hem='n', \n",
    "                              main_path='/Volumes/Seagate_Jewell/KenzieStuff/',\n",
    "                                  crop=crop, coordinates=True, area=False, include_units=False, \n",
    "                                  quiet=True)\n",
    "\n",
    "open_thresh=10\n",
    "\n",
    "map_sic = {}\n",
    "\n",
    "for key in across.keys():\n",
    "\n",
    "    print(key)\n",
    "    map_sic[key] = unisic.calc_meansic_openfreq(pd.to_datetime(across[key]['date']), crop=crop, nan_frac = 0.05,\n",
    "                                            open_thresh=open_thresh, res=RES, hem='n', sic_key = sic_key, \n",
    "                                            main_path='/Volumes/Seagate_Jewell/KenzieStuff/', \n",
    "                                            coordinates=False, area=False, quiet=True)\n"
   ]
  },
  {
   "cell_type": "code",
   "execution_count": 489,
   "id": "f7957b10",
   "metadata": {},
   "outputs": [
    {
     "data": {
      "image/png": "[encoded data removed]",
      "text/plain": [
       "<Figure size 800x375 with 7 Axes>"
      ]
     },
     "metadata": {},
     "output_type": "display_data"
    }
   ],
   "source": [
    "fig, axs = fn.makemap(view='wider_zoom3', contours = [-100], \n",
    "                      panels=(2,3), figsize=(8,3.75))\n",
    "plt.subplots_adjust(hspace=0.025, wspace=0.05)\n",
    "\n",
    "\n",
    "from pyproj import Geod\n",
    "g = Geod(ellps='WGS84')\n",
    "# startlon, startlat = -139, 69.5\n",
    "startlon, startlat = -139.1, 69.6\n",
    "# dists = np.array([31,64,79, 101,117,134,144,150])+10\n",
    "# iced = np.array([50.82842169,  68.58080734,  90.47338417,\n",
    "#         98.24958483, 120.57204264, 128.47181612])\n",
    "wind = np.array([35.50381821,  75.51196037, 125.48660916, 171.30080786,\n",
    "       205.45987047, 226.16189264])\n",
    "latt = np.array([29.89207331, 32.11730528, 33.0155933 , 35.32942831, 28.70799943,\n",
    "       30.70865801])\n",
    "obss = np.array([29.38230774,  68.75966641, 106.3567456 , 143.28681747,\n",
    "       114.46666782, 118.17654774])\n",
    "\n",
    "\n",
    "bearing = -55\n",
    "\n",
    "FS = 10\n",
    "\n",
    "# wind = np.array([29.67029984, 81.62365485, 159.8473894, 174.82151541])\n",
    "# latt = np.array([29.93782605, 33.22366475,  35.32942831, 33.74427032])\n",
    "# obss = np.array([29.38230774, 76.14685572, 107.23015109, 83.90562419])\n",
    "\n",
    "# for key, n, N in zip(['Dec', 'Jan', 'Feb', 'Mar',],\n",
    "#                      [0,2,4,6], [1,3,5,7]):\n",
    "\n",
    "FS = 9\n",
    "for key, n in zip([f'{m}' for m in [1,3,5,7,9]]+[f'10+'],\n",
    "                     range(6)):\n",
    "\n",
    "#     axs[n].text(0.95,0.95,f'{chr(97+n+1)}', weight='bold', \n",
    "#                 ha='right', va='top', size=FS, transform=axs[n].transAxes)\n",
    "    \n",
    "    ax = axs[n]\n",
    "    \n",
    "    ax.add_geometries ([reg_poly], lw=1.75, edgecolor='k', facecolor='None',zorder=100, crs=ccrs.PlateCarree())\n",
    "    \n",
    "    ax.text(0.035,0.175,f'Day {key}', weight='bold', ha='left', va='bottom', transform=ax.transAxes, size=FS)\n",
    "    ax.text(0.035,0.025,f'(N={len(across[key]['date'])})', ha='left', va='bottom', transform=ax.transAxes, size=FS)\n",
    "    \n",
    "    mesh = ax.pcolormesh(map_sic[key]['xx'], map_sic[key]['yy'], map_sic[key]['open_freq'], \n",
    "              vmin=0, vmax=0.5, cmap=cmocean.cm.dense, transform=dsic['proj'])\n",
    "    \n",
    "#     mesh = ax.contourf(map_sic[key]['xx'], map_sic[key]['yy'], map_sic[key]['open_freq'], \n",
    "#           vmin=0, vmax=0.5, levels = np.arange(0,0.5,0.05), extend='max', cmap=cmocean.cm.dense, transform=dsic['proj'])\n",
    "    \n",
    "#     mesh = ax.pcolormesh(map_sic[key]['xx'], map_sic[key]['yy'], map_sic[key]['open_freq'], \n",
    "#               vmin=0, vmax=0.6, cmap=cmocean.cm.dense, transform=dsic['proj'])\n",
    "    \n",
    "#     ax.contour(map_sic[key]['xx'], map_sic[key]['yy'], map_sic[key]['open_freq'], \n",
    "#                   levels=[0.25, 0.5, 0.75], colors=['gold'], linewidths=[0.5,], transform=dsic['proj'])\n",
    "    \n",
    "    # dashed line\n",
    "    endlon, endlat, backaz = g.fwd(startlon, startlat, -55, 400*1000)\n",
    "    ax.plot([startlon,endlon], [startlat,endlat], transform=ccrs.PlateCarree(), \n",
    "            c=[0.3,0.3,0.3], lw=1, zorder=98, ls='dashed')\n",
    "    \n",
    "    \n",
    "    \n",
    "    \n",
    "    for cat, fc, ec, marker, ms, lw in zip(['Xp', 'Fi=0', 'Xo'], \n",
    "                                       [color2, color1, 'None'], \n",
    "                                       ['white', 'white', 'k'], \n",
    "                                       ['d', 's', 'o'], [40, 30, 35], [0.75,0.75,1.25]):\n",
    "    \n",
    "        distance = np.nanpercentile(across[key][cat], 50).to('m').magnitude\n",
    "    \n",
    "        endlon, endlat, backaz = g.fwd(startlon, startlat, -55, distance)\n",
    "        ax.scatter(endlon, endlat, transform=ccrs.PlateCarree(), \n",
    "                   s=ms, marker=marker, facecolor=fc, edgecolor=ec,lw=lw, zorder=102)\n",
    "        \n",
    "    distance = np.nanpercentile(across[key]['Xo'], 50).to('m').magnitude\n",
    "    endlon, endlat, backaz = g.fwd(startlon, startlat, -55, distance)\n",
    "    ax.scatter(endlon, endlat, transform=ccrs.PlateCarree(), \n",
    "               s=ms, marker=marker, facecolor=None, edgecolor='white',lw=2.5, zorder=101)\n",
    "    \n",
    "axs[2].text(0.975,1.05, f'c', weight='bold', \n",
    "                ha='right', va='bottom', size=FS+2, transform=axs[2].transAxes)\n",
    "    \n",
    "plotter.add_colorbar(fig, axs[-1], [mesh], cb_placement='bottom', cb_orientation='auto', \n",
    "                     cb_width=0.025, cb_length_fraction=[0, 1], cb_pad=0.025, cb_ticks=[0,0.5], \n",
    "                     cb_ticklabels='auto', cb_extend='neither', cb_label='Open water frequency', labelpad=-5, \n",
    "                     cb_label_placement='auto', cb_tick_placement='auto', tick_kwargs=None, \n",
    "                     cb_labelsize=FS+0.5, draw_edges=False, edge_params=['k', 2])\n",
    "\n",
    "geomap.scalebar(axs[-2], loc=(0.2, -0.2), steps=[100,200,300],unit='km', \n",
    "                label=None, colors=['k', 'w'], edgecolor=None, textsize=FS, lw=1, \n",
    "                bar_width=0.05, labelpad=0.015, ticklabelpad=0.01, zorder=100, clip_on=False)\n",
    "\n",
    "fig.savefig('../figures/results/dailyevent_maps.png', dpi=400, bbox_inches='tight', pad_inches=0)\n"
   ]
  },
  {
   "cell_type": "code",
   "execution_count": null,
   "id": "bc32b830",
   "metadata": {},
   "outputs": [],
   "source": []
  },
  {
   "cell_type": "code",
   "execution_count": null,
   "id": "36ed5420",
   "metadata": {},
   "outputs": [],
   "source": []
  },
  {
   "cell_type": "code",
   "execution_count": null,
   "id": "36588852",
   "metadata": {},
   "outputs": [],
   "source": []
  },
  {
   "cell_type": "code",
   "execution_count": 1277,
   "id": "47198d0a",
   "metadata": {},
   "outputs": [
    {
     "ename": "TypeError",
     "evalue": "'module' object is not callable",
     "output_type": "error",
     "traceback": [
      "\u001b[0;31m---------------------------------------------------------------------------\u001b[0m",
      "\u001b[0;31mTypeError\u001b[0m                                 Traceback (most recent call last)",
      "Cell \u001b[0;32mIn[1277], line 1\u001b[0m\n\u001b[0;32m----> 1\u001b[0m os\u001b[38;5;241m.\u001b[39mpath()\n",
      "\u001b[0;31mTypeError\u001b[0m: 'module' object is not callable"
     ]
    }
   ],
   "source": [
    "os.path()"
   ]
  },
  {
   "cell_type": "code",
   "execution_count": 1303,
   "id": "0f076bfd",
   "metadata": {},
   "outputs": [],
   "source": [
    "\n",
    "main_path = '/Volumes/Seagate_Jewell/KenzieStuff/SIDEx_animation/filenames/'\n",
    "new_folder = 'to_delete'\n",
    "\n",
    "folders = os.listdir(main_path)\n",
    "\n",
    "for folder in folders:\n",
    "    \n",
    "    if folder not in ['to_delete', '.DS_Store']:\n",
    "    \n",
    "        files = os.listdir(main_path+folder)\n",
    "\n",
    "        for file in files:\n",
    "            if '_v0.png' in file:\n",
    "\n",
    "                try:\n",
    "                    shutil.move(main_path+folder+'/'+file, main_path+new_folder+'/'+file)\n",
    "\n",
    "                except FileNotFoundError:\n",
    "                    print(f\"Error: File '{file}' not found in '{folder}'.\")\n",
    "                except Exception as e:\n",
    "                    print(f\"An error occurred: {e}\")\n",
    "\n"
   ]
  },
  {
   "cell_type": "code",
   "execution_count": 1301,
   "id": "dd7359d6",
   "metadata": {},
   "outputs": [
    {
     "data": {
      "text/plain": [
       "'/Volumes/Seagate_Jewell/KenzieStuff/SIDEx_animation/filenames/to_delete/VNP02MOD.A2021121.2024_v1.png'"
      ]
     },
     "execution_count": 1301,
     "metadata": {},
     "output_type": "execute_result"
    }
   ],
   "source": [
    "main_path+folder+'/'+file"
   ]
  },
  {
   "cell_type": "code",
   "execution_count": 1302,
   "id": "e7de6601",
   "metadata": {},
   "outputs": [
    {
     "data": {
      "text/plain": [
       "'/Volumes/Seagate_Jewell/KenzieStuff/SIDEx_animation/filenames/to_delete//VNP02MOD.A2021121.2024_v1.png'"
      ]
     },
     "execution_count": 1302,
     "metadata": {},
     "output_type": "execute_result"
    }
   ],
   "source": [
    "main_path+new_folder+'/'+file"
   ]
  },
  {
   "cell_type": "code",
   "execution_count": 1296,
   "id": "b064d279",
   "metadata": {},
   "outputs": [
    {
     "data": {
      "text/plain": [
       "'/Volumes/Seagate_Jewell/KenzieStuff/SIDEx_animation/filenames/to_deleteVNP02MOD.A2021121.2024_v1.png'"
      ]
     },
     "execution_count": 1296,
     "metadata": {},
     "output_type": "execute_result"
    }
   ],
   "source": [
    "main_path+folder+file"
   ]
  },
  {
   "cell_type": "code",
   "execution_count": 1292,
   "id": "f2bd8643",
   "metadata": {},
   "outputs": [],
   "source": [
    "import shutil"
   ]
  },
  {
   "cell_type": "code",
   "execution_count": 1280,
   "id": "53c9bd37",
   "metadata": {},
   "outputs": [
    {
     "data": {
      "text/plain": [
       "['/Volumes/Seagate_Jewell/KenzieStuff/SIDEx_animation/filenames/2021060/']"
      ]
     },
     "execution_count": 1280,
     "metadata": {},
     "output_type": "execute_result"
    }
   ],
   "source": [
    "glob.glob('/Volumes/Seagate_Jewell/KenzieStuff/SIDEx_animation/filenames/2021060/')"
   ]
  },
  {
   "cell_type": "code",
   "execution_count": null,
   "id": "5d472cbf",
   "metadata": {},
   "outputs": [],
   "source": [
    "import shutil\n",
    "import os\n",
    "\n",
    "source_folder = \"path/to/source_folder\"\n",
    "destination_folder = \"path/to/destination_folder\"\n",
    "file_name = \"your_file.png\"\n",
    "\n",
    "source_path = os.path.join(source_folder, file_name)\n",
    "destination_path = os.path.join(destination_folder, file_name)\n",
    "\n",
    "try:\n",
    "    shutil.move(source_path, destination_path)\n",
    "    print(f\"File '{file_name}' moved successfully from '{source_folder}' to '{destination_folder}'.\")\n",
    "except FileNotFoundError:\n",
    "    print(f\"Error: File '{file_name}' not found in '{source_folder}'.\")\n",
    "except Exception as e:\n",
    "    print(f\"An error occurred: {e}\")"
   ]
  }
 ],
 "metadata": {
  "kernelspec": {
   "display_name": "SBSpolynya",
   "language": "python",
   "name": "sbspolynya"
  },
  "language_info": {
   "codemirror_mode": {
    "name": "ipython",
    "version": 3
   },
   "file_extension": ".py",
   "mimetype": "text/x-python",
   "name": "python",
   "nbconvert_exporter": "python",
   "pygments_lexer": "ipython3",
   "version": "3.12.2"
  }
 },
 "nbformat": 4,
 "nbformat_minor": 5
}
