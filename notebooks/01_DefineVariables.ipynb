{
 "cells": [
  {
   "cell_type": "markdown",
   "id": "4993ba60",
   "metadata": {},
   "source": [
    "# 01_DefineVariables\n",
    "Define all relevant variables."
   ]
  },
  {
   "cell_type": "markdown",
   "id": "28d38529",
   "metadata": {},
   "source": [
    "### Import packages"
   ]
  },
  {
   "cell_type": "code",
   "execution_count": 1,
   "id": "6d44ad89",
   "metadata": {},
   "outputs": [],
   "source": [
    "%load_ext autoreload\n",
    "%autoreload 2\n",
    "\n",
    "# general\n",
    "import numpy as np, numpy.ma as ma\n",
    "import xarray as xr\n",
    "import pandas as pd\n",
    "\n",
    "from metpy.units import units"
   ]
  },
  {
   "cell_type": "code",
   "execution_count": 6,
   "id": "e7b2eaf1",
   "metadata": {},
   "outputs": [
    {
     "name": "stdout",
     "output_type": "stream",
     "text": [
      "                             long_name         value  \\\n",
      "var                                                    \n",
      "Cp_o            seawater heat capacity  3.850000e+03   \n",
      "Cp_a                 air heat capacity  1.004000e+03   \n",
      "sigma_sb     Stefan-Boltzmann constant  5.670367e-08   \n",
      "rho_a                      air density  1.225000e+00   \n",
      "rho_o                 seawater density  1.028000e+03   \n",
      "rho_i              new sea ice density  9.170000e+02   \n",
      "L_i              latent heat of fusion  3.340000e+05   \n",
      "k_i       sea ice thermal conductivity  2.200000e+00   \n",
      "kappa              Von Karman Constant  4.000000e-01   \n",
      "St                      Stanton number  5.700000e-03   \n",
      "omega              Earth rotation rate  7.292100e-05   \n",
      "\n",
      "                                units  \n",
      "var                                    \n",
      "Cp_o              J / (kg delta_degC)  \n",
      "Cp_a              J / (kg delta_degC)  \n",
      "sigma_sb  W / (m**2 degree_Kelvin**4)  \n",
      "rho_a                          kg/m^3  \n",
      "rho_o                          kg/m^3  \n",
      "rho_i                          kg/m^3  \n",
      "L_i                              J/kg  \n",
      "k_i                W / (m delta_degC)  \n",
      "kappa                   dimensionless  \n",
      "St                      dimensionless  \n",
      "omega                           rad/s  \n"
     ]
    }
   ],
   "source": [
    "data = []\n",
    "\n",
    "# https://talleylab.ucsd.edu/sio210/lect_2/lecture_2.html\n",
    "data.append(['Cp_o', 'seawater heat capacity', 3850, 'J / (kg delta_degC)'])\n",
    "\n",
    "# https://agupubs.onlinelibrary.wiley.com/doi/epdf/10.1029/JC092iC07p07049\n",
    "data.append(['Cp_a', 'air heat capacity', 1004, 'J / (kg delta_degC)'])\n",
    "\n",
    "data.append(['sigma_sb', 'Stefan-Boltzmann constant', 5.670367e-8, 'W / (m**2 degree_Kelvin**4)'])\n",
    "\n",
    "data.append(['rho_a', 'air density', 1.225, 'kg/m^3'])\n",
    "\n",
    "data.append(['rho_o', 'seawater density', 1028, 'kg/m^3'])\n",
    "\n",
    "# generally reported value, and also somewhat similar to those shown in:\n",
    "# https://tc.copernicus.org/articles/4/373/2010/tc-4-373-2010.pdf\n",
    "data.append(['rho_i', 'new sea ice density', 917, 'kg/m^3'])\n",
    "\n",
    "data.append(['L_i', 'latent heat of fusion', 334*1000, 'J/kg'])\n",
    "\n",
    "\n",
    "data.append(['k_i', 'sea ice thermal conductivity', 2.2, 'W / (m delta_degC)'])\n",
    "\n",
    "\n",
    "data.append(['kappa', 'Von Karman Constant', 0.4, 'dimensionless'])\n",
    "\n",
    "data.append(['St', 'Stanton number', 0.0057, 'dimensionless'])\n",
    "\n",
    "data.append(['omega', 'Earth rotation rate', 7.2921e-5, 'rad/s'])\n",
    "\n",
    "\n",
    "\n",
    "df = pd.DataFrame(data, columns=['var', 'long_name', 'value', 'units'])\n",
    "df = df.set_index('var')\n",
    "print(df)\n",
    "\n",
    "# Save to file\n",
    "df.to_csv('./data/constants.csv')"
   ]
  },
  {
   "cell_type": "code",
   "execution_count": 5,
   "id": "530cfe8a",
   "metadata": {},
   "outputs": [],
   "source": []
  },
  {
   "cell_type": "code",
   "execution_count": null,
   "id": "f77b6a0b",
   "metadata": {},
   "outputs": [],
   "source": []
  }
 ],
 "metadata": {
  "kernelspec": {
   "display_name": "SBSpolynya",
   "language": "python",
   "name": "sbspolynya"
  },
  "language_info": {
   "codemirror_mode": {
    "name": "ipython",
    "version": 3
   },
   "file_extension": ".py",
   "mimetype": "text/x-python",
   "name": "python",
   "nbconvert_exporter": "python",
   "pygments_lexer": "ipython3",
   "version": "3.12.2"
  }
 },
 "nbformat": 4,
 "nbformat_minor": 5
}
