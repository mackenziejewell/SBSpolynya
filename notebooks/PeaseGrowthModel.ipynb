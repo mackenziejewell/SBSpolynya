{
 "cells": [
  {
   "cell_type": "markdown",
   "id": "b746cacd",
   "metadata": {},
   "source": [
    "# 1d polynya growth model\n",
    "\n",
    "https://agupubs.onlinelibrary.wiley.com/doi/epdf/10.1029/JC092iC07p07049"
   ]
  },
  {
   "cell_type": "code",
   "execution_count": 24,
   "id": "a1bfe797",
   "metadata": {},
   "outputs": [
    {
     "name": "stdout",
     "output_type": "stream",
     "text": [
      "The autoreload extension is already loaded. To reload it, use:\n",
      "  %reload_ext autoreload\n"
     ]
    }
   ],
   "source": [
    "%load_ext autoreload\n",
    "%autoreload 2\n",
    "\n",
    "# general\n",
    "import numpy as np, numpy.ma as ma\n",
    "import xarray as xr\n",
    "import pandas as pd\n",
    "\n",
    "# time\n",
    "from datetime import datetime, timedelta\n",
    "import calendar\n",
    "from calendar import monthrange\n",
    "\n",
    "# local system \n",
    "import sys  \n",
    "import glob\n",
    "import os\n",
    "\n",
    "# plotting\n",
    "import matplotlib as mpl\n",
    "from matplotlib import pyplot as plt\n",
    "import matplotlib.colors\n",
    "import cmocean\n",
    "import matplotlib.patches as mpatches\n",
    "from mpl_toolkits.axes_grid1.inset_locator import inset_axes\n",
    "from matplotlib.colors import Normalize\n",
    "from matplotlib.ticker import MultipleLocator\n",
    "\n",
    "import matplotlib.dates as mdates\n",
    "\n",
    "# geo plotting\n",
    "import cartopy\n",
    "import cartopy.crs as ccrs\n",
    "import cartopy.feature as cfeat\n",
    "from cartopy import img_transform\n",
    "\n",
    "from metpy.units import units\n",
    "\n",
    "\n",
    "# path to own functions\n",
    "sys.path.append('../../')\n",
    "import timeseries.adjust as tseries\n",
    "import geofunc.general as geogen\n",
    "import geofunc.vectors as vectors\n",
    "import geofunc.shapes as geoshape"
   ]
  },
  {
   "cell_type": "code",
   "execution_count": 3,
   "id": "91ef6e1c",
   "metadata": {},
   "outputs": [
    {
     "data": {
      "text/plain": [
       "{'Cp_o': <Quantity(3850.0, 'joule / kilogram / delta_degree_Celsius')>,\n",
       " 'Cp_a': <Quantity(1004.0, 'joule / kilogram / delta_degree_Celsius')>,\n",
       " 'sigma_sb': <Quantity(5.670367e-08, 'watt / meter ** 2 / kelvin ** 4')>,\n",
       " 'rho_a': <Quantity(1.225, 'kilogram / meter ** 3')>,\n",
       " 'rho_o': <Quantity(1028.0, 'kilogram / meter ** 3')>,\n",
       " 'rho_i': <Quantity(917.0, 'kilogram / meter ** 3')>,\n",
       " 'L_i': <Quantity(334000.0, 'joule / kilogram')>,\n",
       " 'k_i': <Quantity(2.2, 'watt / meter / delta_degree_Celsius')>,\n",
       " 'kappa': <Quantity(0.4, 'dimensionless')>,\n",
       " 'St': <Quantity(0.0057, 'dimensionless')>,\n",
       " 'omega': <Quantity(7.2921e-05, 'radian / second')>}"
      ]
     },
     "execution_count": 3,
     "metadata": {},
     "output_type": "execute_result"
    }
   ],
   "source": [
    "# Save to file\n",
    "df = pd.read_csv('../data/constants.csv')\n",
    "df = df.set_index('var')\n",
    "df\n",
    "\n",
    "cst = {}\n",
    "for variable in list(df.index):\n",
    "    cst[variable] = df.loc[variable]['value'] * units(df.loc[variable]['units'])\n",
    "    \n",
    "cst"
   ]
  },
  {
   "cell_type": "code",
   "execution_count": 72,
   "id": "7cc802da",
   "metadata": {},
   "outputs": [
    {
     "data": {
      "text/plain": [
       "pint.Quantity"
      ]
     },
     "execution_count": 72,
     "metadata": {},
     "output_type": "execute_result"
    }
   ],
   "source": [
    "Fi = 1 * units('cm/hour')\n",
    "\n",
    "type(Fi)"
   ]
  },
  {
   "cell_type": "code",
   "execution_count": 187,
   "id": "9a06bf4d",
   "metadata": {},
   "outputs": [],
   "source": [
    "def xp_over_time_iter(Vi, t, Fi, Hi = 1 * units('m')):\n",
    "\n",
    "    Xp = np.array([0]) * units('km')\n",
    "    \n",
    "#     Xip = np.append(0*units('km'), np.cumsum((Vi[:-1].to(f'km/{time_unit}'))*np.diff(t)))\n",
    "    \n",
    "#     Xip = (np.cumsum(Vi.to('km/hour'))).to('km')\n",
    "    \n",
    "    for tt in range(len(t)-1):\n",
    "        \n",
    "        Xp_tm1 = Xp[-1].to('km')\n",
    "        \n",
    "        dt = (t[tt+1] - t[tt]).to('hour')\n",
    "        dXp = ((Vi[tt] - Xp_tm1 * Fi[tt] / Hi) * dt).to('km')\n",
    "        \n",
    "        Xp_t = dXp + Xp_tm1\n",
    "        \n",
    "        Xp = np.append(Xp, Xp_t)\n",
    "        \n",
    "    return Xp\n",
    "        \n",
    "        \n",
    "    \n",
    "    \n",
    "    \n",
    "def xp_over_time(Vi, t, Fi, Hi = 1 * units('m')):\n",
    "    \n",
    "    # Hi : frazil ice collection depth\n",
    "    \n",
    "    C = - Vi * Hi / Fi\n",
    "    Xp = - C * (1 - np.exp(-t * Fi / Hi))\n",
    "    Xp = Xp.to('km')\n",
    "    Xip = (Vi*t).to('km')\n",
    "\n",
    "\n",
    "    return Xp, Xip \n",
    "\n",
    "\n",
    "\n",
    "\n",
    "def convert_to_k(T):\n",
    "    \n",
    "    if T.units == 'degree_Celsius':\n",
    "        T = T.to('degree_Kelvin')\n",
    "    elif T.units == 'delta_degree_Celsius':\n",
    "        print('T!! should not be delta deg C')\n",
    "    return T\n",
    "        \n",
    "def find_Qlu(Tw, sigma, eo):\n",
    "    \n",
    "    Tw = convert_to_k(Tw)\n",
    "    qlu = sigma * eo * Tw**4\n",
    "    return qlu.to('W/m2')\n",
    "\n",
    "\n",
    "def find_Qld(Ta, sigma, ea):\n",
    "    Ta = convert_to_k(Ta)\n",
    "    qld = sigma * ea * Ta**4\n",
    "    return qld.to('W/m2')\n",
    "\n",
    "\n",
    "def find_Qs(Ta, Tw, rho_a, Cpa, Va):\n",
    "    \n",
    "    Ta = Ta.magnitude * units('delta_degree_Celsius')\n",
    "    Tw = Tw.magnitude * units('delta_degree_Celsius')\n",
    "    \n",
    "    Ch = 2e-3 # sensible heat coefficient\n",
    "\n",
    "    qs = rho_a * Ch * Cpa * Va * (Ta-Tw)\n",
    "    \n",
    "    return qs.to('W/m2')\n"
   ]
  },
  {
   "cell_type": "code",
   "execution_count": 397,
   "id": "f5eee844",
   "metadata": {},
   "outputs": [],
   "source": [
    "\n",
    "time_range = slice(datetime(2024,1,2), datetime(2024,1,17))\n",
    "\n",
    "# time_range = slice(datetime(2019,1,13), datetime(2019,1,21))\n",
    "\n",
    "# time_range = slice(datetime(2018,1,1), datetime(2018,1,21))\n",
    "\n",
    "# time_range = slice(datetime(2017,12,21), datetime(2018,1,2))\n",
    "\n",
    "\n",
    "# time_range = slice(datetime(2016,12,5), datetime(2016,12,10))\n",
    "\n",
    "\n",
    "# time_range = slice(datetime(2019,12,7), datetime(2019,12,20))\n",
    "\n",
    "DS = xr.open_dataset(f'../data/polynya_size/daily_polynya_{time_range.stop.year}_sic15_v5.nc')\n",
    "DS = DS.sel(time = time_range)\n",
    "\n",
    "DS['length'] = DS['l_max'] - DS['l_min']\n",
    "\n",
    "DS['t'] = ((DS.time.values - DS.time.values[0]) / np.timedelta64(1, 's')) * units('s').to('hour')"
   ]
  },
  {
   "cell_type": "code",
   "execution_count": 398,
   "id": "cad10e3c",
   "metadata": {},
   "outputs": [],
   "source": [
    "dsp = xr.open_dataset(f'../data/forcing/regional_hourly_era_{time_range.stop.year}_v0.nc')\n",
    "dsp = dsp.sel(time = time_range)\n",
    "\n",
    "Va = vectors.comp_along_theta(dsp.u10.values, dsp.v10.values, 165*units('degree')) * units('m/s')\n",
    "Vap = vectors.comp_along_theta(dsp.u10.values, dsp.v10.values, (165-90)*units('degree')) * units('m/s')"
   ]
  },
  {
   "cell_type": "code",
   "execution_count": 399,
   "id": "eafccc06",
   "metadata": {},
   "outputs": [
    {
     "data": {
      "text/plain": [
       "[<matplotlib.lines.Line2D at 0x14f30e810>]"
      ]
     },
     "execution_count": 399,
     "metadata": {},
     "output_type": "execute_result"
    },
    {
     "data": {
      "image/png": "[encoded data removed]",
      "text/plain": [
       "<Figure size 640x480 with 1 Axes>"
      ]
     },
     "metadata": {},
     "output_type": "display_data"
    }
   ],
   "source": [
    "plt.plot(Va)\n",
    "plt.plot(Vap)"
   ]
  },
  {
   "cell_type": "code",
   "execution_count": 400,
   "id": "cc4a3bdb",
   "metadata": {},
   "outputs": [
    {
     "data": {
      "text/plain": [
       "[<matplotlib.lines.Line2D at 0x14f38c050>]"
      ]
     },
     "execution_count": 400,
     "metadata": {},
     "output_type": "execute_result"
    },
    {
     "data": {
      "image/png": "[encoded data removed]",
      "text/plain": [
       "<Figure size 640x480 with 1 Axes>"
      ]
     },
     "metadata": {},
     "output_type": "display_data"
    }
   ],
   "source": [
    "plt.plot((np.cumsum(Fi) * units('hour')).to('m'))"
   ]
  },
  {
   "cell_type": "code",
   "execution_count": 411,
   "id": "da40a28c",
   "metadata": {},
   "outputs": [],
   "source": [
    "# polynya length\n",
    "\n",
    "\n",
    "\n",
    "# Va = 20 * units('m/s')\n",
    "\n",
    "# Vi = 30 * units('cm/s') # rate of pack ice advection from shore\n",
    "Vi = 0.035 * Va\n",
    "\n",
    "Fi = 1 * units('cm/hour') # ice production rate\n",
    "\n",
    "Hi = 1 * units('m') # frazil ice collection depth\n",
    "\n",
    "# t = np.arange(0, 360) * units('hour')\n",
    "\n",
    "t = np.arange(0, len(Vi)) * units('hour')\n",
    "\n",
    "\n"
   ]
  },
  {
   "cell_type": "code",
   "execution_count": 412,
   "id": "7394da6c",
   "metadata": {},
   "outputs": [
    {
     "data": {
      "text/plain": [
       "[<matplotlib.lines.Line2D at 0x14fcc0ef0>]"
      ]
     },
     "execution_count": 412,
     "metadata": {},
     "output_type": "execute_result"
    },
    {
     "data": {
      "image/png": "[encoded data removed]",
      "text/plain": [
       "<Figure size 640x480 with 1 Axes>"
      ]
     },
     "metadata": {},
     "output_type": "display_data"
    }
   ],
   "source": [
    "\n",
    "# for now, ignore evaporative latent heat flux, and shortwave radiation for winter\n",
    "\n",
    "Ta = -17 * units('degC')\n",
    "rho_a = cst['rho_a']\n",
    "\n",
    "\n",
    "Tf = -1.8 *units('delta_degC')\n",
    "Tw = -1.8 * units('degC')\n",
    "\n",
    "# define positive upward\n",
    "Qlu = find_Qlu(Tw, cst['sigma_sb'], 0.98)\n",
    "Qld = -find_Qld(Ta, cst['sigma_sb'], 0.95)\n",
    "Qs = -find_Qs(Ta, Tw, rho_a, cst['Cp_a'], Va)\n",
    "# print(Qs)\n",
    "\n",
    "Qnet = Qlu + Qld + Qs\n",
    "\n",
    "dHdt = (Qnet / (cst['L_i'] * cst['rho_i'])).to('cm/hour')\n",
    "\n",
    "plt.plot(dHdt)"
   ]
  },
  {
   "cell_type": "code",
   "execution_count": 413,
   "id": "7980f33b",
   "metadata": {},
   "outputs": [
    {
     "data": {
      "text/plain": [
       "<BarContainer object of 361 artists>"
      ]
     },
     "execution_count": 413,
     "metadata": {},
     "output_type": "execute_result"
    },
    {
     "data": {
      "image/png": "[encoded data removed]",
      "text/plain": [
       "<Figure size 300x300 with 1 Axes>"
      ]
     },
     "metadata": {},
     "output_type": "display_data"
    }
   ],
   "source": [
    "fig, ax = plt.subplots(figsize=(3,3))\n",
    "plt.bar(0, Qlu)\n",
    "plt.bar(1, Qld)\n",
    "plt.bar(2, Qs)\n",
    "plt.bar(3, Qnet)"
   ]
  },
  {
   "cell_type": "code",
   "execution_count": 414,
   "id": "7cf7b1f5",
   "metadata": {},
   "outputs": [
    {
     "data": {
      "text/html": [
       "<table><tbody><tr><th>Magnitude</th><td style='text-align:left;'><pre>[0.0 0.0 0.0 0.0 0.0 0.0 0.0 0.0 0.0 0.0 0.0 0.0 0.0 0.0 0.0 0.0 0.0 0.0 0.0 0.0 0.0 0.0 0.0 0.0 0.0 0.0 0.0 0.0 0.0 0.0 0.0 0.0 0.0 0.0 0.0 0.0 0.0 0.0 0.0 0.0 0.0 0.0 0.0 0.0 0.0 0.0 0.0 0.0 0.0 0.0 0.0 0.0 0.0 0.0 0.0 0.0 0.0 0.0 0.0 0.0 0.0 0.0 0.0 0.0 0.0 0.0 0.0 0.0 0.0 0.0 0.0 0.0 0.0 0.0 0.0 0.0 0.0 0.0 0.0 0.0 0.0 0.0 0.0 0.0 0.0 0.0 0.0 0.0 0.0 0.0 0.0 0.0 0.0 0.0 0.0 0.0 0.0 0.0 0.0 0.0 0.0 0.0 0.0 0.0 0.0 0.0 0.0 0.0 0.0 0.0 0.0 0.0 0.0 0.0 0.0 0.0 0.0 0.0 0.0 0.0 0.0 0.0 0.0 0.0 0.0 0.0 0.0 0.0 0.0 0.0 0.0 0.0 0.0 0.0 0.0 0.0 0.0 0.0 0.0 0.0 0.0 0.0 0.0 0.0 0.0 0.0 0.0 0.0 0.0 0.0 0.0 0.0 0.0 0.0 0.0 0.0 0.0 0.0 0.0 0.0 0.0 0.0 0.0 0.0 0.0 0.0 0.0 0.0 0.0 0.0 0.0 0.0 0.0 0.0 0.0 0.0 0.0 0.0 0.0 0.0 0.0 0.0 0.0 0.0 0.0 0.0 0.0 0.0 0.0 0.0 0.0 0.0 0.0 0.0 0.0 0.0 0.0 0.0 0.0 0.0 0.0 0.0 0.0 0.0 0.0 0.0 0.0 0.0 0.0 0.0 0.0 0.0 0.0 0.0 0.0 0.0 0.0 0.0 0.0 0.0 0.0 0.0 0.0 0.0 0.0 0.0 0.0 0.0 0.0 0.0 0.0 0.0 0.0 0.0 0.0 0.0 0.0 0.0 0.0 0.0 0.0 0.0 0.0 0.0 0.0 0.0 0.0 0.0 0.0 0.0 0.0 0.0 0.0 0.0 0.0 0.0 0.0 0.0 0.0 0.0 0.0 0.0 0.0 0.0 0.0 0.0 0.0 0.0 0.0 0.0 0.0 0.0 0.0 0.0 0.0 0.0 0.0 0.0 0.0 0.0 0.0 0.0 0.0 0.0 0.0 0.0 0.0 0.0 0.0 0.0 0.0 0.0 0.0 0.0 0.0 0.0 0.0 0.0 0.0 0.0 0.0 0.0 0.0 0.0 0.0 0.0 0.0 0.0 0.0 0.0 0.0 0.0 0.0 0.0 0.0 0.0 0.0 0.0 0.0 0.0 0.0 0.0 0.0 0.0 0.0 0.0 0.0 0.0 0.0 0.0 0.0 0.0 0.0 0.0 0.0 0.0 0.0 0.0 0.0 0.0 0.0 0.0 0.0 0.0 0.0 0.0 0.0 0.0 0.0 0.0 0.0 0.0 0.0 0.0 0.0 0.0 0.0 -0.0 -0.0 -0.0 -0.0]</pre></td></tr><tr><th>Units</th><td style='text-align:left;'>hour</td></tr></tbody></table>"
      ],
      "text/latex": [
       "$\\begin{pmatrix} &  &  &  &  &  &  &  &  &  &  &  &  &  &  &  &  &  &  &  &  &  &  &  &  &  &  &  &  &  &  &  &  &  &  &  &  &  &  &  &  &  &  &  &  &  &  &  &  &  &  &  &  &  &  &  &  &  &  &  &  &  &  &  &  &  &  &  &  &  &  &  &  &  &  &  &  &  &  &  &  &  &  &  &  &  &  &  &  &  &  &  &  &  &  &  &  &  &  &  &  &  &  &  &  &  &  &  &  &  &  &  &  &  &  &  &  &  &  &  &  &  &  &  &  &  &  &  &  &  &  &  &  &  &  &  &  &  &  &  &  &  &  &  &  &  &  &  &  &  &  &  &  &  &  &  &  &  &  &  &  &  &  &  &  &  &  &  &  &  &  &  &  &  &  &  &  &  &  &  &  &  &  &  &  &  &  &  &  &  &  &  &  &  &  &  &  &  &  &  &  &  &  &  &  &  &  &  &  &  &  &  &  &  &  &  &  &  &  &  &  &  &  &  &  &  &  &  &  &  &  &  &  &  &  &  &  &  &  &  &  &  &  &  &  &  &  &  &  &  &  &  &  &  &  &  &  &  &  &  &  &  &  &  &  &  &  &  &  &  &  &  &  &  &  &  &  &  &  &  &  &  &  &  &  &  &  &  &  &  &  &  &  &  &  &  &  &  &  &  &  &  &  &  &  &  &  &  &  &  &  &  &  &  &  &  &  &  &  &  &  &  &  &  &  &  &  &  &  &  &  &  &  &  &  &  &  &  &  &  &  &  &  &  &  &  &  &  &  &  &  &  &  &  &  &  &  &  &  &  & \\end{pmatrix}\\ \\mathrm{hour}$"
      ],
      "text/plain": [
       "<Quantity([ 0.  0.  0.  0.  0.  0.  0.  0.  0.  0.  0.  0.  0.  0.  0.  0.  0.  0.\n",
       "  0.  0.  0.  0.  0.  0.  0.  0.  0.  0.  0.  0.  0.  0.  0.  0.  0.  0.\n",
       "  0.  0.  0.  0.  0.  0.  0.  0.  0.  0.  0.  0.  0.  0.  0.  0.  0.  0.\n",
       "  0.  0.  0.  0.  0.  0.  0.  0.  0.  0.  0.  0.  0.  0.  0.  0.  0.  0.\n",
       "  0.  0.  0.  0.  0.  0.  0.  0.  0.  0.  0.  0.  0.  0.  0.  0.  0.  0.\n",
       "  0.  0.  0.  0.  0.  0.  0.  0.  0.  0.  0.  0.  0.  0.  0.  0.  0.  0.\n",
       "  0.  0.  0.  0.  0.  0.  0.  0.  0.  0.  0.  0.  0.  0.  0.  0.  0.  0.\n",
       "  0.  0.  0.  0.  0.  0.  0.  0.  0.  0.  0.  0.  0.  0.  0.  0.  0.  0.\n",
       "  0.  0.  0.  0.  0.  0.  0.  0.  0.  0.  0.  0.  0.  0.  0.  0.  0.  0.\n",
       "  0.  0.  0.  0.  0.  0.  0.  0.  0.  0.  0.  0.  0.  0.  0.  0.  0.  0.\n",
       "  0.  0.  0.  0.  0.  0.  0.  0.  0.  0.  0.  0.  0.  0.  0.  0.  0.  0.\n",
       "  0.  0.  0.  0.  0.  0.  0.  0.  0.  0.  0.  0.  0.  0.  0.  0.  0.  0.\n",
       "  0.  0.  0.  0.  0.  0.  0.  0.  0.  0.  0.  0.  0.  0.  0.  0.  0.  0.\n",
       "  0.  0.  0.  0.  0.  0.  0.  0.  0.  0.  0.  0.  0.  0.  0.  0.  0.  0.\n",
       "  0.  0.  0.  0.  0.  0.  0.  0.  0.  0.  0.  0.  0.  0.  0.  0.  0.  0.\n",
       "  0.  0.  0.  0.  0.  0.  0.  0.  0.  0.  0.  0.  0.  0.  0.  0.  0.  0.\n",
       "  0.  0.  0.  0.  0.  0.  0.  0.  0.  0.  0.  0.  0.  0.  0.  0.  0.  0.\n",
       "  0.  0.  0.  0.  0.  0.  0.  0.  0.  0.  0.  0.  0.  0.  0.  0.  0.  0.\n",
       "  0.  0.  0.  0.  0.  0.  0.  0.  0.  0.  0.  0.  0.  0.  0.  0.  0.  0.\n",
       "  0.  0.  0.  0.  0.  0.  0.  0.  0.  0.  0.  0.  0.  0.  0. -0. -0. -0.\n",
       " -0.], 'hour')>"
      ]
     },
     "execution_count": 414,
     "metadata": {},
     "output_type": "execute_result"
    }
   ],
   "source": [
    "# Q = m * C * dT\n",
    "\n",
    "\n",
    "# dt = 12 *  units('hour')\n",
    "# rho_o = cst['rho_o']\n",
    "# H = 16 * units('m')\n",
    "# dT = (Qnet * dt / (rho_o * H * cst['Cp_o'])).to_base_units()\n",
    "\n",
    "rho_o = cst['rho_o']\n",
    "H = 16 * units('m')\n",
    "dT = (Tw.magnitude * units('delta_degC') - Tf)\n",
    "\n",
    "(dT * rho_o * H * cst['Cp_o'] / Qnet).to('hour')\n",
    "\n",
    "# change "
   ]
  },
  {
   "cell_type": "code",
   "execution_count": 415,
   "id": "df8128fc",
   "metadata": {},
   "outputs": [
    {
     "data": {
      "text/plain": [
       "[<matplotlib.lines.Line2D at 0x15034cad0>]"
      ]
     },
     "execution_count": 415,
     "metadata": {},
     "output_type": "execute_result"
    },
    {
     "data": {
      "image/png": "[encoded data removed]",
      "text/plain": [
       "<Figure size 300x300 with 1 Axes>"
      ]
     },
     "metadata": {},
     "output_type": "display_data"
    }
   ],
   "source": [
    "fig, ax= plt.subplots(figsize=(3,3))\n",
    "\n",
    "plt.bar(DS.t.values, DS.length.values, width=22, align='edge', color='gray')\n",
    "\n",
    "\n",
    "# X_ip  = xp_over_time_iter(Vi, t, dHdt, Hi = 1 * units('m'))\n",
    "# X_zip = xp_over_time_iter(Vi, t, np.full(len(dHdt), 0)*units('m/hour'), Hi = 1 * units('m'))\n",
    "\n",
    "# T = 360 # hours\n",
    "\n",
    "# Vi = np.full(T, 20*0.03) * units('m/s')\n",
    "# t = np.arange(T) * units('hour')\n",
    "# Fi = np.full(T, dHdt) * dHdt.units\n",
    "\n",
    "Fi = dHdt\n",
    "\n",
    "X_ip  = xp_over_time_iter(Vi, t, Fi, Hi = 0.1 * units('m'))\n",
    "X_hip = xp_over_time_iter(Vi, t, 0.1*Fi, Hi = 0.1 * units('m'))\n",
    "X_zip = xp_over_time_iter(Vi, t, np.full(len(Fi), 0)*units('m/hour'), Hi = 0.1 * units('m'))\n",
    "\n",
    "\n",
    "\n",
    "# Fi = 0.0001 * units('cm/hour') # ice production rate\n",
    "plt.plot(t, X_ip, c='k')\n",
    "plt.plot(t, X_hip, c='k')\n",
    "plt.plot(t, X_zip, c='k')\n"
   ]
  },
  {
   "cell_type": "code",
   "execution_count": 416,
   "id": "ac35d02e",
   "metadata": {},
   "outputs": [
    {
     "data": {
      "text/html": [
       "26.14988556855861 kilometer"
      ],
      "text/latex": [
       "$26.14988556855861\\ \\mathrm{kilometer}$"
      ],
      "text/plain": [
       "<Quantity(26.1498856, 'kilometer')>"
      ]
     },
     "execution_count": 416,
     "metadata": {},
     "output_type": "execute_result"
    }
   ],
   "source": [
    "np.max(X_ip)"
   ]
  },
  {
   "cell_type": "code",
   "execution_count": 407,
   "id": "1531fe53",
   "metadata": {},
   "outputs": [
    {
     "data": {
      "text/plain": [
       "<matplotlib.collections.PathCollection at 0x14fa53a40>"
      ]
     },
     "execution_count": 407,
     "metadata": {},
     "output_type": "execute_result"
    },
    {
     "data": {
      "image/png": "[encoded data removed]",
      "text/plain": [
       "<Figure size 300x300 with 1 Axes>"
      ]
     },
     "metadata": {},
     "output_type": "display_data"
    }
   ],
   "source": [
    "fig,ax=plt.subplots(figsize=(3,3))\n",
    "# plt.scatter(X_ip[::24], DS.length.values, c='k')\n",
    "plt.scatter(X_zip[::24], DS.length.values, c='b')\n"
   ]
  },
  {
   "cell_type": "code",
   "execution_count": 380,
   "id": "b2f63fb5",
   "metadata": {},
   "outputs": [
    {
     "data": {
      "text/html": [
       "<div><svg style=\"position: absolute; width: 0; height: 0; overflow: hidden\">\n",
       "<defs>\n",
       "<symbol id=\"icon-database\" viewBox=\"0 0 32 32\">\n",
       "<path d=\"M16 0c-8.837 0-16 2.239-16 5v4c0 2.761 7.163 5 16 5s16-2.239 16-5v-4c0-2.761-7.163-5-16-5z\"></path>\n",
       "<path d=\"M16 17c-8.837 0-16-2.239-16-5v6c0 2.761 7.163 5 16 5s16-2.239 16-5v-6c0 2.761-7.163 5-16 5z\"></path>\n",
       "<path d=\"M16 26c-8.837 0-16-2.239-16-5v6c0 2.761 7.163 5 16 5s16-2.239 16-5v-6c0 2.761-7.163 5-16 5z\"></path>\n",
       "</symbol>\n",
       "<symbol id=\"icon-file-text2\" viewBox=\"0 0 32 32\">\n",
       "<path d=\"M28.681 7.159c-0.694-0.947-1.662-2.053-2.724-3.116s-2.169-2.030-3.116-2.724c-1.612-1.182-2.393-1.319-2.841-1.319h-15.5c-1.378 0-2.5 1.121-2.5 2.5v27c0 1.378 1.122 2.5 2.5 2.5h23c1.378 0 2.5-1.122 2.5-2.5v-19.5c0-0.448-0.137-1.23-1.319-2.841zM24.543 5.457c0.959 0.959 1.712 1.825 2.268 2.543h-4.811v-4.811c0.718 0.556 1.584 1.309 2.543 2.268zM28 29.5c0 0.271-0.229 0.5-0.5 0.5h-23c-0.271 0-0.5-0.229-0.5-0.5v-27c0-0.271 0.229-0.5 0.5-0.5 0 0 15.499-0 15.5 0v7c0 0.552 0.448 1 1 1h7v19.5z\"></path>\n",
       "<path d=\"M23 26h-14c-0.552 0-1-0.448-1-1s0.448-1 1-1h14c0.552 0 1 0.448 1 1s-0.448 1-1 1z\"></path>\n",
       "<path d=\"M23 22h-14c-0.552 0-1-0.448-1-1s0.448-1 1-1h14c0.552 0 1 0.448 1 1s-0.448 1-1 1z\"></path>\n",
       "<path d=\"M23 18h-14c-0.552 0-1-0.448-1-1s0.448-1 1-1h14c0.552 0 1 0.448 1 1s-0.448 1-1 1z\"></path>\n",
       "</symbol>\n",
       "</defs>\n",
       "</svg>\n",
       "<style>/* CSS stylesheet for displaying xarray objects in jupyterlab.\n",
       " *\n",
       " */\n",
       "\n",
       ":root {\n",
       "  --xr-font-color0: var(--jp-content-font-color0, rgba(0, 0, 0, 1));\n",
       "  --xr-font-color2: var(--jp-content-font-color2, rgba(0, 0, 0, 0.54));\n",
       "  --xr-font-color3: var(--jp-content-font-color3, rgba(0, 0, 0, 0.38));\n",
       "  --xr-border-color: var(--jp-border-color2, #e0e0e0);\n",
       "  --xr-disabled-color: var(--jp-layout-color3, #bdbdbd);\n",
       "  --xr-background-color: var(--jp-layout-color0, white);\n",
       "  --xr-background-color-row-even: var(--jp-layout-color1, white);\n",
       "  --xr-background-color-row-odd: var(--jp-layout-color2, #eeeeee);\n",
       "}\n",
       "\n",
       "html[theme=dark],\n",
       "body[data-theme=dark],\n",
       "body.vscode-dark {\n",
       "  --xr-font-color0: rgba(255, 255, 255, 1);\n",
       "  --xr-font-color2: rgba(255, 255, 255, 0.54);\n",
       "  --xr-font-color3: rgba(255, 255, 255, 0.38);\n",
       "  --xr-border-color: #1F1F1F;\n",
       "  --xr-disabled-color: #515151;\n",
       "  --xr-background-color: #111111;\n",
       "  --xr-background-color-row-even: #111111;\n",
       "  --xr-background-color-row-odd: #313131;\n",
       "}\n",
       "\n",
       ".xr-wrap {\n",
       "  display: block !important;\n",
       "  min-width: 300px;\n",
       "  max-width: 700px;\n",
       "}\n",
       "\n",
       ".xr-text-repr-fallback {\n",
       "  /* fallback to plain text repr when CSS is not injected (untrusted notebook) */\n",
       "  display: none;\n",
       "}\n",
       "\n",
       ".xr-header {\n",
       "  padding-top: 6px;\n",
       "  padding-bottom: 6px;\n",
       "  margin-bottom: 4px;\n",
       "  border-bottom: solid 1px var(--xr-border-color);\n",
       "}\n",
       "\n",
       ".xr-header > div,\n",
       ".xr-header > ul {\n",
       "  display: inline;\n",
       "  margin-top: 0;\n",
       "  margin-bottom: 0;\n",
       "}\n",
       "\n",
       ".xr-obj-type,\n",
       ".xr-array-name {\n",
       "  margin-left: 2px;\n",
       "  margin-right: 10px;\n",
       "}\n",
       "\n",
       ".xr-obj-type {\n",
       "  color: var(--xr-font-color2);\n",
       "}\n",
       "\n",
       ".xr-sections {\n",
       "  padding-left: 0 !important;\n",
       "  display: grid;\n",
       "  grid-template-columns: 150px auto auto 1fr 20px 20px;\n",
       "}\n",
       "\n",
       ".xr-section-item {\n",
       "  display: contents;\n",
       "}\n",
       "\n",
       ".xr-section-item input {\n",
       "  display: none;\n",
       "}\n",
       "\n",
       ".xr-section-item input + label {\n",
       "  color: var(--xr-disabled-color);\n",
       "}\n",
       "\n",
       ".xr-section-item input:enabled + label {\n",
       "  cursor: pointer;\n",
       "  color: var(--xr-font-color2);\n",
       "}\n",
       "\n",
       ".xr-section-item input:enabled + label:hover {\n",
       "  color: var(--xr-font-color0);\n",
       "}\n",
       "\n",
       ".xr-section-summary {\n",
       "  grid-column: 1;\n",
       "  color: var(--xr-font-color2);\n",
       "  font-weight: 500;\n",
       "}\n",
       "\n",
       ".xr-section-summary > span {\n",
       "  display: inline-block;\n",
       "  padding-left: 0.5em;\n",
       "}\n",
       "\n",
       ".xr-section-summary-in:disabled + label {\n",
       "  color: var(--xr-font-color2);\n",
       "}\n",
       "\n",
       ".xr-section-summary-in + label:before {\n",
       "  display: inline-block;\n",
       "  content: '►';\n",
       "  font-size: 11px;\n",
       "  width: 15px;\n",
       "  text-align: center;\n",
       "}\n",
       "\n",
       ".xr-section-summary-in:disabled + label:before {\n",
       "  color: var(--xr-disabled-color);\n",
       "}\n",
       "\n",
       ".xr-section-summary-in:checked + label:before {\n",
       "  content: '▼';\n",
       "}\n",
       "\n",
       ".xr-section-summary-in:checked + label > span {\n",
       "  display: none;\n",
       "}\n",
       "\n",
       ".xr-section-summary,\n",
       ".xr-section-inline-details {\n",
       "  padding-top: 4px;\n",
       "  padding-bottom: 4px;\n",
       "}\n",
       "\n",
       ".xr-section-inline-details {\n",
       "  grid-column: 2 / -1;\n",
       "}\n",
       "\n",
       ".xr-section-details {\n",
       "  display: none;\n",
       "  grid-column: 1 / -1;\n",
       "  margin-bottom: 5px;\n",
       "}\n",
       "\n",
       ".xr-section-summary-in:checked ~ .xr-section-details {\n",
       "  display: contents;\n",
       "}\n",
       "\n",
       ".xr-array-wrap {\n",
       "  grid-column: 1 / -1;\n",
       "  display: grid;\n",
       "  grid-template-columns: 20px auto;\n",
       "}\n",
       "\n",
       ".xr-array-wrap > label {\n",
       "  grid-column: 1;\n",
       "  vertical-align: top;\n",
       "}\n",
       "\n",
       ".xr-preview {\n",
       "  color: var(--xr-font-color3);\n",
       "}\n",
       "\n",
       ".xr-array-preview,\n",
       ".xr-array-data {\n",
       "  padding: 0 5px !important;\n",
       "  grid-column: 2;\n",
       "}\n",
       "\n",
       ".xr-array-data,\n",
       ".xr-array-in:checked ~ .xr-array-preview {\n",
       "  display: none;\n",
       "}\n",
       "\n",
       ".xr-array-in:checked ~ .xr-array-data,\n",
       ".xr-array-preview {\n",
       "  display: inline-block;\n",
       "}\n",
       "\n",
       ".xr-dim-list {\n",
       "  display: inline-block !important;\n",
       "  list-style: none;\n",
       "  padding: 0 !important;\n",
       "  margin: 0;\n",
       "}\n",
       "\n",
       ".xr-dim-list li {\n",
       "  display: inline-block;\n",
       "  padding: 0;\n",
       "  margin: 0;\n",
       "}\n",
       "\n",
       ".xr-dim-list:before {\n",
       "  content: '(';\n",
       "}\n",
       "\n",
       ".xr-dim-list:after {\n",
       "  content: ')';\n",
       "}\n",
       "\n",
       ".xr-dim-list li:not(:last-child):after {\n",
       "  content: ',';\n",
       "  padding-right: 5px;\n",
       "}\n",
       "\n",
       ".xr-has-index {\n",
       "  font-weight: bold;\n",
       "}\n",
       "\n",
       ".xr-var-list,\n",
       ".xr-var-item {\n",
       "  display: contents;\n",
       "}\n",
       "\n",
       ".xr-var-item > div,\n",
       ".xr-var-item label,\n",
       ".xr-var-item > .xr-var-name span {\n",
       "  background-color: var(--xr-background-color-row-even);\n",
       "  margin-bottom: 0;\n",
       "}\n",
       "\n",
       ".xr-var-item > .xr-var-name:hover span {\n",
       "  padding-right: 5px;\n",
       "}\n",
       "\n",
       ".xr-var-list > li:nth-child(odd) > div,\n",
       ".xr-var-list > li:nth-child(odd) > label,\n",
       ".xr-var-list > li:nth-child(odd) > .xr-var-name span {\n",
       "  background-color: var(--xr-background-color-row-odd);\n",
       "}\n",
       "\n",
       ".xr-var-name {\n",
       "  grid-column: 1;\n",
       "}\n",
       "\n",
       ".xr-var-dims {\n",
       "  grid-column: 2;\n",
       "}\n",
       "\n",
       ".xr-var-dtype {\n",
       "  grid-column: 3;\n",
       "  text-align: right;\n",
       "  color: var(--xr-font-color2);\n",
       "}\n",
       "\n",
       ".xr-var-preview {\n",
       "  grid-column: 4;\n",
       "}\n",
       "\n",
       ".xr-index-preview {\n",
       "  grid-column: 2 / 5;\n",
       "  color: var(--xr-font-color2);\n",
       "}\n",
       "\n",
       ".xr-var-name,\n",
       ".xr-var-dims,\n",
       ".xr-var-dtype,\n",
       ".xr-preview,\n",
       ".xr-attrs dt {\n",
       "  white-space: nowrap;\n",
       "  overflow: hidden;\n",
       "  text-overflow: ellipsis;\n",
       "  padding-right: 10px;\n",
       "}\n",
       "\n",
       ".xr-var-name:hover,\n",
       ".xr-var-dims:hover,\n",
       ".xr-var-dtype:hover,\n",
       ".xr-attrs dt:hover {\n",
       "  overflow: visible;\n",
       "  width: auto;\n",
       "  z-index: 1;\n",
       "}\n",
       "\n",
       ".xr-var-attrs,\n",
       ".xr-var-data,\n",
       ".xr-index-data {\n",
       "  display: none;\n",
       "  background-color: var(--xr-background-color) !important;\n",
       "  padding-bottom: 5px !important;\n",
       "}\n",
       "\n",
       ".xr-var-attrs-in:checked ~ .xr-var-attrs,\n",
       ".xr-var-data-in:checked ~ .xr-var-data,\n",
       ".xr-index-data-in:checked ~ .xr-index-data {\n",
       "  display: block;\n",
       "}\n",
       "\n",
       ".xr-var-data > table {\n",
       "  float: right;\n",
       "}\n",
       "\n",
       ".xr-var-name span,\n",
       ".xr-var-data,\n",
       ".xr-index-name div,\n",
       ".xr-index-data,\n",
       ".xr-attrs {\n",
       "  padding-left: 25px !important;\n",
       "}\n",
       "\n",
       ".xr-attrs,\n",
       ".xr-var-attrs,\n",
       ".xr-var-data,\n",
       ".xr-index-data {\n",
       "  grid-column: 1 / -1;\n",
       "}\n",
       "\n",
       "dl.xr-attrs {\n",
       "  padding: 0;\n",
       "  margin: 0;\n",
       "  display: grid;\n",
       "  grid-template-columns: 125px auto;\n",
       "}\n",
       "\n",
       ".xr-attrs dt,\n",
       ".xr-attrs dd {\n",
       "  padding: 0;\n",
       "  margin: 0;\n",
       "  float: left;\n",
       "  padding-right: 10px;\n",
       "  width: auto;\n",
       "}\n",
       "\n",
       ".xr-attrs dt {\n",
       "  font-weight: normal;\n",
       "  grid-column: 1;\n",
       "}\n",
       "\n",
       ".xr-attrs dt:hover span {\n",
       "  display: inline-block;\n",
       "  background: var(--xr-background-color);\n",
       "  padding-right: 10px;\n",
       "}\n",
       "\n",
       ".xr-attrs dd {\n",
       "  grid-column: 2;\n",
       "  white-space: pre-wrap;\n",
       "  word-break: break-all;\n",
       "}\n",
       "\n",
       ".xr-icon-database,\n",
       ".xr-icon-file-text2,\n",
       ".xr-no-icon {\n",
       "  display: inline-block;\n",
       "  vertical-align: middle;\n",
       "  width: 1em;\n",
       "  height: 1.5em !important;\n",
       "  stroke-width: 0;\n",
       "  stroke: currentColor;\n",
       "  fill: currentColor;\n",
       "}\n",
       "</style><pre class='xr-text-repr-fallback'>&lt;xarray.Dataset&gt;\n",
       "Dimensions:               (time: 14, t: 14)\n",
       "Coordinates:\n",
       "  * time                  (time) datetime64[ns] 2019-12-07 ... 2019-12-20\n",
       "  * t                     (t) float64 0.0 24.0 48.0 72.0 ... 264.0 288.0 312.0\n",
       "Data variables: (12/25)\n",
       "    N                     (time) float64 ...\n",
       "    extent                (time) float64 ...\n",
       "    l_min                 (time) float64 ...\n",
       "    l_max                 (time) float64 ...\n",
       "    l_mean                (time) float64 ...\n",
       "    l_per5                (time) float64 ...\n",
       "    ...                    ...\n",
       "    ice_extent            (time) float64 ...\n",
       "    ocean_extent          (time) float64 ...\n",
       "    other_polynya_extent  (time) float64 ...\n",
       "    polynya_extent        (time) float64 ...\n",
       "    miss_flag             (time) bool ...\n",
       "    length                (time) float64 nan 20.73 60.69 ... 390.0 62.35 nan</pre><div class='xr-wrap' style='display:none'><div class='xr-header'><div class='xr-obj-type'>xarray.Dataset</div></div><ul class='xr-sections'><li class='xr-section-item'><input id='section-9680f61b-c58c-4bd5-b7a8-00981a024cf4' class='xr-section-summary-in' type='checkbox' disabled ><label for='section-9680f61b-c58c-4bd5-b7a8-00981a024cf4' class='xr-section-summary'  title='Expand/collapse section'>Dimensions:</label><div class='xr-section-inline-details'><ul class='xr-dim-list'><li><span class='xr-has-index'>time</span>: 14</li><li><span class='xr-has-index'>t</span>: 14</li></ul></div><div class='xr-section-details'></div></li><li class='xr-section-item'><input id='section-75249ffb-5734-4ae7-8547-4ce3700afb94' class='xr-section-summary-in' type='checkbox'  checked><label for='section-75249ffb-5734-4ae7-8547-4ce3700afb94' class='xr-section-summary' >Coordinates: <span>(2)</span></label><div class='xr-section-inline-details'></div><div class='xr-section-details'><ul class='xr-var-list'><li class='xr-var-item'><div class='xr-var-name'><span class='xr-has-index'>time</span></div><div class='xr-var-dims'>(time)</div><div class='xr-var-dtype'>datetime64[ns]</div><div class='xr-var-preview xr-preview'>2019-12-07 ... 2019-12-20</div><input id='attrs-0ce88413-741d-4480-8cf0-da5647941dcd' class='xr-var-attrs-in' type='checkbox' disabled><label for='attrs-0ce88413-741d-4480-8cf0-da5647941dcd' title='Show/Hide attributes'><svg class='icon xr-icon-file-text2'><use xlink:href='#icon-file-text2'></use></svg></label><input id='data-9e2499e4-2c50-4067-af5e-6c10ef725bac' class='xr-var-data-in' type='checkbox'><label for='data-9e2499e4-2c50-4067-af5e-6c10ef725bac' title='Show/Hide data repr'><svg class='icon xr-icon-database'><use xlink:href='#icon-database'></use></svg></label><div class='xr-var-attrs'><dl class='xr-attrs'></dl></div><div class='xr-var-data'><pre>array([&#x27;2019-12-07T00:00:00.000000000&#x27;, &#x27;2019-12-08T00:00:00.000000000&#x27;,\n",
       "       &#x27;2019-12-09T00:00:00.000000000&#x27;, &#x27;2019-12-10T00:00:00.000000000&#x27;,\n",
       "       &#x27;2019-12-11T00:00:00.000000000&#x27;, &#x27;2019-12-12T00:00:00.000000000&#x27;,\n",
       "       &#x27;2019-12-13T00:00:00.000000000&#x27;, &#x27;2019-12-14T00:00:00.000000000&#x27;,\n",
       "       &#x27;2019-12-15T00:00:00.000000000&#x27;, &#x27;2019-12-16T00:00:00.000000000&#x27;,\n",
       "       &#x27;2019-12-17T00:00:00.000000000&#x27;, &#x27;2019-12-18T00:00:00.000000000&#x27;,\n",
       "       &#x27;2019-12-19T00:00:00.000000000&#x27;, &#x27;2019-12-20T00:00:00.000000000&#x27;],\n",
       "      dtype=&#x27;datetime64[ns]&#x27;)</pre></div></li><li class='xr-var-item'><div class='xr-var-name'><span class='xr-has-index'>t</span></div><div class='xr-var-dims'>(t)</div><div class='xr-var-dtype'>float64</div><div class='xr-var-preview xr-preview'>0.0 24.0 48.0 ... 264.0 288.0 312.0</div><input id='attrs-8f091638-8213-4cab-b818-20436395c16e' class='xr-var-attrs-in' type='checkbox' disabled><label for='attrs-8f091638-8213-4cab-b818-20436395c16e' title='Show/Hide attributes'><svg class='icon xr-icon-file-text2'><use xlink:href='#icon-file-text2'></use></svg></label><input id='data-239357f0-0cac-4878-8b31-5eddc5e9d312' class='xr-var-data-in' type='checkbox'><label for='data-239357f0-0cac-4878-8b31-5eddc5e9d312' title='Show/Hide data repr'><svg class='icon xr-icon-database'><use xlink:href='#icon-database'></use></svg></label><div class='xr-var-attrs'><dl class='xr-attrs'></dl></div><div class='xr-var-data'><pre>array([  0.,  24.,  48.,  72.,  96., 120., 144., 168., 192., 216., 240., 264.,\n",
       "       288., 312.])</pre></div></li></ul></div></li><li class='xr-section-item'><input id='section-620c98de-cfed-4b6b-8d7a-56bd812ecf58' class='xr-section-summary-in' type='checkbox'  ><label for='section-620c98de-cfed-4b6b-8d7a-56bd812ecf58' class='xr-section-summary' >Data variables: <span>(25)</span></label><div class='xr-section-inline-details'></div><div class='xr-section-details'><ul class='xr-var-list'><li class='xr-var-item'><div class='xr-var-name'><span>N</span></div><div class='xr-var-dims'>(time)</div><div class='xr-var-dtype'>float64</div><div class='xr-var-preview xr-preview'>...</div><input id='attrs-dae54f9b-2861-4868-9fd5-54fc6f46b70a' class='xr-var-attrs-in' type='checkbox' ><label for='attrs-dae54f9b-2861-4868-9fd5-54fc6f46b70a' title='Show/Hide attributes'><svg class='icon xr-icon-file-text2'><use xlink:href='#icon-file-text2'></use></svg></label><input id='data-a726df78-cd68-48d6-8b86-51fdb4700d3a' class='xr-var-data-in' type='checkbox'><label for='data-a726df78-cd68-48d6-8b86-51fdb4700d3a' title='Show/Hide data repr'><svg class='icon xr-icon-database'><use xlink:href='#icon-database'></use></svg></label><div class='xr-var-attrs'><dl class='xr-attrs'><dt><span>long_name :</span></dt><dd>N total</dd><dt><span>units :</span></dt><dd>6.25 km cells</dd></dl></div><div class='xr-var-data'><pre>[14 values with dtype=float64]</pre></div></li><li class='xr-var-item'><div class='xr-var-name'><span>extent</span></div><div class='xr-var-dims'>(time)</div><div class='xr-var-dtype'>float64</div><div class='xr-var-preview xr-preview'>...</div><input id='attrs-cfe5b035-8c34-4dd6-88cd-b31593ba6c0f' class='xr-var-attrs-in' type='checkbox' ><label for='attrs-cfe5b035-8c34-4dd6-88cd-b31593ba6c0f' title='Show/Hide attributes'><svg class='icon xr-icon-file-text2'><use xlink:href='#icon-file-text2'></use></svg></label><input id='data-a0d30ae8-7e8b-4d1c-af72-f1200292163c' class='xr-var-data-in' type='checkbox'><label for='data-a0d30ae8-7e8b-4d1c-af72-f1200292163c' title='Show/Hide data repr'><svg class='icon xr-icon-database'><use xlink:href='#icon-database'></use></svg></label><div class='xr-var-attrs'><dl class='xr-attrs'><dt><span>long_name :</span></dt><dd>extent total</dd><dt><span>units :</span></dt><dd>km</dd></dl></div><div class='xr-var-data'><pre>[14 values with dtype=float64]</pre></div></li><li class='xr-var-item'><div class='xr-var-name'><span>l_min</span></div><div class='xr-var-dims'>(time)</div><div class='xr-var-dtype'>float64</div><div class='xr-var-preview xr-preview'>...</div><input id='attrs-95339e7a-85f5-4a75-a5aa-e3d0068fe976' class='xr-var-attrs-in' type='checkbox' ><label for='attrs-95339e7a-85f5-4a75-a5aa-e3d0068fe976' title='Show/Hide attributes'><svg class='icon xr-icon-file-text2'><use xlink:href='#icon-file-text2'></use></svg></label><input id='data-1ef0f7d4-1fa4-4e41-81e0-951adbb39e9a' class='xr-var-data-in' type='checkbox'><label for='data-1ef0f7d4-1fa4-4e41-81e0-951adbb39e9a' title='Show/Hide data repr'><svg class='icon xr-icon-database'><use xlink:href='#icon-database'></use></svg></label><div class='xr-var-attrs'><dl class='xr-attrs'><dt><span>long_name :</span></dt><dd>min length</dd><dt><span>units :</span></dt><dd>km</dd></dl></div><div class='xr-var-data'><pre>[14 values with dtype=float64]</pre></div></li><li class='xr-var-item'><div class='xr-var-name'><span>l_max</span></div><div class='xr-var-dims'>(time)</div><div class='xr-var-dtype'>float64</div><div class='xr-var-preview xr-preview'>...</div><input id='attrs-a3b22bfa-2674-4a3a-ab70-8a8dd7ff60f7' class='xr-var-attrs-in' type='checkbox' ><label for='attrs-a3b22bfa-2674-4a3a-ab70-8a8dd7ff60f7' title='Show/Hide attributes'><svg class='icon xr-icon-file-text2'><use xlink:href='#icon-file-text2'></use></svg></label><input id='data-ce9287c2-e78e-4ee9-96b8-a818d99da2b6' class='xr-var-data-in' type='checkbox'><label for='data-ce9287c2-e78e-4ee9-96b8-a818d99da2b6' title='Show/Hide data repr'><svg class='icon xr-icon-database'><use xlink:href='#icon-database'></use></svg></label><div class='xr-var-attrs'><dl class='xr-attrs'><dt><span>long_name :</span></dt><dd>max length</dd><dt><span>units :</span></dt><dd>km</dd></dl></div><div class='xr-var-data'><pre>[14 values with dtype=float64]</pre></div></li><li class='xr-var-item'><div class='xr-var-name'><span>l_mean</span></div><div class='xr-var-dims'>(time)</div><div class='xr-var-dtype'>float64</div><div class='xr-var-preview xr-preview'>...</div><input id='attrs-36cb5642-2c82-41ab-8fb4-e13e25e52c35' class='xr-var-attrs-in' type='checkbox' ><label for='attrs-36cb5642-2c82-41ab-8fb4-e13e25e52c35' title='Show/Hide attributes'><svg class='icon xr-icon-file-text2'><use xlink:href='#icon-file-text2'></use></svg></label><input id='data-0ab4c984-30bc-4739-b313-11b819cba865' class='xr-var-data-in' type='checkbox'><label for='data-0ab4c984-30bc-4739-b313-11b819cba865' title='Show/Hide data repr'><svg class='icon xr-icon-database'><use xlink:href='#icon-database'></use></svg></label><div class='xr-var-attrs'><dl class='xr-attrs'><dt><span>long_name :</span></dt><dd>mean length</dd><dt><span>units :</span></dt><dd>km</dd></dl></div><div class='xr-var-data'><pre>[14 values with dtype=float64]</pre></div></li><li class='xr-var-item'><div class='xr-var-name'><span>l_per5</span></div><div class='xr-var-dims'>(time)</div><div class='xr-var-dtype'>float64</div><div class='xr-var-preview xr-preview'>...</div><input id='attrs-1d71f745-ca5b-4f12-9d5d-ed3a03336119' class='xr-var-attrs-in' type='checkbox' ><label for='attrs-1d71f745-ca5b-4f12-9d5d-ed3a03336119' title='Show/Hide attributes'><svg class='icon xr-icon-file-text2'><use xlink:href='#icon-file-text2'></use></svg></label><input id='data-0c25bd95-2481-4f81-a8e3-ae49bf0185c5' class='xr-var-data-in' type='checkbox'><label for='data-0c25bd95-2481-4f81-a8e3-ae49bf0185c5' title='Show/Hide data repr'><svg class='icon xr-icon-database'><use xlink:href='#icon-database'></use></svg></label><div class='xr-var-attrs'><dl class='xr-attrs'><dt><span>long_name :</span></dt><dd>5th percentile length</dd><dt><span>units :</span></dt><dd>km</dd></dl></div><div class='xr-var-data'><pre>[14 values with dtype=float64]</pre></div></li><li class='xr-var-item'><div class='xr-var-name'><span>l_per25</span></div><div class='xr-var-dims'>(time)</div><div class='xr-var-dtype'>float64</div><div class='xr-var-preview xr-preview'>...</div><input id='attrs-50fc952a-58a9-4208-a0d6-d65c8440662f' class='xr-var-attrs-in' type='checkbox' ><label for='attrs-50fc952a-58a9-4208-a0d6-d65c8440662f' title='Show/Hide attributes'><svg class='icon xr-icon-file-text2'><use xlink:href='#icon-file-text2'></use></svg></label><input id='data-c88459ef-c6d9-4f22-97a0-e0e18659ae53' class='xr-var-data-in' type='checkbox'><label for='data-c88459ef-c6d9-4f22-97a0-e0e18659ae53' title='Show/Hide data repr'><svg class='icon xr-icon-database'><use xlink:href='#icon-database'></use></svg></label><div class='xr-var-attrs'><dl class='xr-attrs'><dt><span>long_name :</span></dt><dd>25th percentile length</dd><dt><span>units :</span></dt><dd>km</dd></dl></div><div class='xr-var-data'><pre>[14 values with dtype=float64]</pre></div></li><li class='xr-var-item'><div class='xr-var-name'><span>l_per50</span></div><div class='xr-var-dims'>(time)</div><div class='xr-var-dtype'>float64</div><div class='xr-var-preview xr-preview'>...</div><input id='attrs-5379fc84-7846-4e38-9667-d2209dc2e5ad' class='xr-var-attrs-in' type='checkbox' ><label for='attrs-5379fc84-7846-4e38-9667-d2209dc2e5ad' title='Show/Hide attributes'><svg class='icon xr-icon-file-text2'><use xlink:href='#icon-file-text2'></use></svg></label><input id='data-defcfa02-de4e-4186-a68b-99d518f32ed5' class='xr-var-data-in' type='checkbox'><label for='data-defcfa02-de4e-4186-a68b-99d518f32ed5' title='Show/Hide data repr'><svg class='icon xr-icon-database'><use xlink:href='#icon-database'></use></svg></label><div class='xr-var-attrs'><dl class='xr-attrs'><dt><span>long_name :</span></dt><dd>50th percentile length</dd><dt><span>units :</span></dt><dd>km</dd></dl></div><div class='xr-var-data'><pre>[14 values with dtype=float64]</pre></div></li><li class='xr-var-item'><div class='xr-var-name'><span>l_per75</span></div><div class='xr-var-dims'>(time)</div><div class='xr-var-dtype'>float64</div><div class='xr-var-preview xr-preview'>...</div><input id='attrs-2a22dc9a-ed14-4efd-89dc-d494c4a0a756' class='xr-var-attrs-in' type='checkbox' ><label for='attrs-2a22dc9a-ed14-4efd-89dc-d494c4a0a756' title='Show/Hide attributes'><svg class='icon xr-icon-file-text2'><use xlink:href='#icon-file-text2'></use></svg></label><input id='data-1190bc7f-0945-4387-9e95-905f7480eaf0' class='xr-var-data-in' type='checkbox'><label for='data-1190bc7f-0945-4387-9e95-905f7480eaf0' title='Show/Hide data repr'><svg class='icon xr-icon-database'><use xlink:href='#icon-database'></use></svg></label><div class='xr-var-attrs'><dl class='xr-attrs'><dt><span>long_name :</span></dt><dd>75th percentile length</dd><dt><span>units :</span></dt><dd>km</dd></dl></div><div class='xr-var-data'><pre>[14 values with dtype=float64]</pre></div></li><li class='xr-var-item'><div class='xr-var-name'><span>l_per95</span></div><div class='xr-var-dims'>(time)</div><div class='xr-var-dtype'>float64</div><div class='xr-var-preview xr-preview'>...</div><input id='attrs-1948f911-653b-4368-8ab4-c8d5870aeb13' class='xr-var-attrs-in' type='checkbox' ><label for='attrs-1948f911-653b-4368-8ab4-c8d5870aeb13' title='Show/Hide attributes'><svg class='icon xr-icon-file-text2'><use xlink:href='#icon-file-text2'></use></svg></label><input id='data-a7d88480-8235-40a1-a9ee-548a2f58b7bb' class='xr-var-data-in' type='checkbox'><label for='data-a7d88480-8235-40a1-a9ee-548a2f58b7bb' title='Show/Hide data repr'><svg class='icon xr-icon-database'><use xlink:href='#icon-database'></use></svg></label><div class='xr-var-attrs'><dl class='xr-attrs'><dt><span>long_name :</span></dt><dd>95th percentile length</dd><dt><span>units :</span></dt><dd>km</dd></dl></div><div class='xr-var-data'><pre>[14 values with dtype=float64]</pre></div></li><li class='xr-var-item'><div class='xr-var-name'><span>w_min</span></div><div class='xr-var-dims'>(time)</div><div class='xr-var-dtype'>float64</div><div class='xr-var-preview xr-preview'>...</div><input id='attrs-7ddc0d2b-e4bd-4587-aa4c-aa02ffcadbb6' class='xr-var-attrs-in' type='checkbox' ><label for='attrs-7ddc0d2b-e4bd-4587-aa4c-aa02ffcadbb6' title='Show/Hide attributes'><svg class='icon xr-icon-file-text2'><use xlink:href='#icon-file-text2'></use></svg></label><input id='data-c3e2c529-8544-4135-9faa-6687e2785371' class='xr-var-data-in' type='checkbox'><label for='data-c3e2c529-8544-4135-9faa-6687e2785371' title='Show/Hide data repr'><svg class='icon xr-icon-database'><use xlink:href='#icon-database'></use></svg></label><div class='xr-var-attrs'><dl class='xr-attrs'><dt><span>long_name :</span></dt><dd>min width</dd><dt><span>units :</span></dt><dd>km</dd></dl></div><div class='xr-var-data'><pre>[14 values with dtype=float64]</pre></div></li><li class='xr-var-item'><div class='xr-var-name'><span>w_max</span></div><div class='xr-var-dims'>(time)</div><div class='xr-var-dtype'>float64</div><div class='xr-var-preview xr-preview'>...</div><input id='attrs-dfec0715-39a1-4c85-964b-5e222f9e9e59' class='xr-var-attrs-in' type='checkbox' ><label for='attrs-dfec0715-39a1-4c85-964b-5e222f9e9e59' title='Show/Hide attributes'><svg class='icon xr-icon-file-text2'><use xlink:href='#icon-file-text2'></use></svg></label><input id='data-33dd846f-03ff-4734-aad6-2e553886ae19' class='xr-var-data-in' type='checkbox'><label for='data-33dd846f-03ff-4734-aad6-2e553886ae19' title='Show/Hide data repr'><svg class='icon xr-icon-database'><use xlink:href='#icon-database'></use></svg></label><div class='xr-var-attrs'><dl class='xr-attrs'><dt><span>long_name :</span></dt><dd>max width</dd><dt><span>units :</span></dt><dd>km</dd></dl></div><div class='xr-var-data'><pre>[14 values with dtype=float64]</pre></div></li><li class='xr-var-item'><div class='xr-var-name'><span>w_mean</span></div><div class='xr-var-dims'>(time)</div><div class='xr-var-dtype'>float64</div><div class='xr-var-preview xr-preview'>...</div><input id='attrs-faa777b3-9e3f-4ee5-ab76-44f7ef8fa176' class='xr-var-attrs-in' type='checkbox' ><label for='attrs-faa777b3-9e3f-4ee5-ab76-44f7ef8fa176' title='Show/Hide attributes'><svg class='icon xr-icon-file-text2'><use xlink:href='#icon-file-text2'></use></svg></label><input id='data-5f01e3b8-4f29-475d-89ca-0d577a057b00' class='xr-var-data-in' type='checkbox'><label for='data-5f01e3b8-4f29-475d-89ca-0d577a057b00' title='Show/Hide data repr'><svg class='icon xr-icon-database'><use xlink:href='#icon-database'></use></svg></label><div class='xr-var-attrs'><dl class='xr-attrs'><dt><span>long_name :</span></dt><dd>mean width</dd><dt><span>units :</span></dt><dd>km</dd></dl></div><div class='xr-var-data'><pre>[14 values with dtype=float64]</pre></div></li><li class='xr-var-item'><div class='xr-var-name'><span>w_per5</span></div><div class='xr-var-dims'>(time)</div><div class='xr-var-dtype'>float64</div><div class='xr-var-preview xr-preview'>...</div><input id='attrs-d020e477-73d5-42c4-aa1d-764123cd2425' class='xr-var-attrs-in' type='checkbox' ><label for='attrs-d020e477-73d5-42c4-aa1d-764123cd2425' title='Show/Hide attributes'><svg class='icon xr-icon-file-text2'><use xlink:href='#icon-file-text2'></use></svg></label><input id='data-7fff6de6-fc04-4b02-bfd7-66db7931b27d' class='xr-var-data-in' type='checkbox'><label for='data-7fff6de6-fc04-4b02-bfd7-66db7931b27d' title='Show/Hide data repr'><svg class='icon xr-icon-database'><use xlink:href='#icon-database'></use></svg></label><div class='xr-var-attrs'><dl class='xr-attrs'><dt><span>long_name :</span></dt><dd>5th percentile width</dd><dt><span>units :</span></dt><dd>km</dd></dl></div><div class='xr-var-data'><pre>[14 values with dtype=float64]</pre></div></li><li class='xr-var-item'><div class='xr-var-name'><span>w_per25</span></div><div class='xr-var-dims'>(time)</div><div class='xr-var-dtype'>float64</div><div class='xr-var-preview xr-preview'>...</div><input id='attrs-ae046d76-6d51-42b6-a384-d7b8cd413a03' class='xr-var-attrs-in' type='checkbox' ><label for='attrs-ae046d76-6d51-42b6-a384-d7b8cd413a03' title='Show/Hide attributes'><svg class='icon xr-icon-file-text2'><use xlink:href='#icon-file-text2'></use></svg></label><input id='data-7de11bfa-ccdb-4494-a8b2-333003e09c52' class='xr-var-data-in' type='checkbox'><label for='data-7de11bfa-ccdb-4494-a8b2-333003e09c52' title='Show/Hide data repr'><svg class='icon xr-icon-database'><use xlink:href='#icon-database'></use></svg></label><div class='xr-var-attrs'><dl class='xr-attrs'><dt><span>long_name :</span></dt><dd>25th percentile width</dd><dt><span>units :</span></dt><dd>km</dd></dl></div><div class='xr-var-data'><pre>[14 values with dtype=float64]</pre></div></li><li class='xr-var-item'><div class='xr-var-name'><span>w_per50</span></div><div class='xr-var-dims'>(time)</div><div class='xr-var-dtype'>float64</div><div class='xr-var-preview xr-preview'>...</div><input id='attrs-7b053911-5fd3-4ba7-9aab-1e233f5125d7' class='xr-var-attrs-in' type='checkbox' ><label for='attrs-7b053911-5fd3-4ba7-9aab-1e233f5125d7' title='Show/Hide attributes'><svg class='icon xr-icon-file-text2'><use xlink:href='#icon-file-text2'></use></svg></label><input id='data-56be1b83-ae40-4ae8-a6f6-e4f1ecd4f2bc' class='xr-var-data-in' type='checkbox'><label for='data-56be1b83-ae40-4ae8-a6f6-e4f1ecd4f2bc' title='Show/Hide data repr'><svg class='icon xr-icon-database'><use xlink:href='#icon-database'></use></svg></label><div class='xr-var-attrs'><dl class='xr-attrs'><dt><span>long_name :</span></dt><dd>50th percentile width</dd><dt><span>units :</span></dt><dd>km</dd></dl></div><div class='xr-var-data'><pre>[14 values with dtype=float64]</pre></div></li><li class='xr-var-item'><div class='xr-var-name'><span>w_per75</span></div><div class='xr-var-dims'>(time)</div><div class='xr-var-dtype'>float64</div><div class='xr-var-preview xr-preview'>...</div><input id='attrs-5ab8b86e-a1b6-4e2b-8734-adb8d0cf2bd9' class='xr-var-attrs-in' type='checkbox' ><label for='attrs-5ab8b86e-a1b6-4e2b-8734-adb8d0cf2bd9' title='Show/Hide attributes'><svg class='icon xr-icon-file-text2'><use xlink:href='#icon-file-text2'></use></svg></label><input id='data-0fbc7cd1-7df3-4732-9317-3c7807602528' class='xr-var-data-in' type='checkbox'><label for='data-0fbc7cd1-7df3-4732-9317-3c7807602528' title='Show/Hide data repr'><svg class='icon xr-icon-database'><use xlink:href='#icon-database'></use></svg></label><div class='xr-var-attrs'><dl class='xr-attrs'><dt><span>long_name :</span></dt><dd>75th percentile width</dd><dt><span>units :</span></dt><dd>km</dd></dl></div><div class='xr-var-data'><pre>[14 values with dtype=float64]</pre></div></li><li class='xr-var-item'><div class='xr-var-name'><span>w_per95</span></div><div class='xr-var-dims'>(time)</div><div class='xr-var-dtype'>float64</div><div class='xr-var-preview xr-preview'>...</div><input id='attrs-c28cffd4-8f35-4131-8842-4a8d50600dfd' class='xr-var-attrs-in' type='checkbox' ><label for='attrs-c28cffd4-8f35-4131-8842-4a8d50600dfd' title='Show/Hide attributes'><svg class='icon xr-icon-file-text2'><use xlink:href='#icon-file-text2'></use></svg></label><input id='data-044e817f-9423-4b9f-bb3f-cfa0230116ad' class='xr-var-data-in' type='checkbox'><label for='data-044e817f-9423-4b9f-bb3f-cfa0230116ad' title='Show/Hide data repr'><svg class='icon xr-icon-database'><use xlink:href='#icon-database'></use></svg></label><div class='xr-var-attrs'><dl class='xr-attrs'><dt><span>long_name :</span></dt><dd>95th percentile width</dd><dt><span>units :</span></dt><dd>km</dd></dl></div><div class='xr-var-data'><pre>[14 values with dtype=float64]</pre></div></li><li class='xr-var-item'><div class='xr-var-name'><span>land_extent</span></div><div class='xr-var-dims'>(time)</div><div class='xr-var-dtype'>float64</div><div class='xr-var-preview xr-preview'>...</div><input id='attrs-1a5ad39c-5cb6-47e1-b19d-8fa39d0b5a36' class='xr-var-attrs-in' type='checkbox' ><label for='attrs-1a5ad39c-5cb6-47e1-b19d-8fa39d0b5a36' title='Show/Hide attributes'><svg class='icon xr-icon-file-text2'><use xlink:href='#icon-file-text2'></use></svg></label><input id='data-5fcc3945-ec62-484a-ac04-4382aa042c4f' class='xr-var-data-in' type='checkbox'><label for='data-5fcc3945-ec62-484a-ac04-4382aa042c4f' title='Show/Hide data repr'><svg class='icon xr-icon-database'><use xlink:href='#icon-database'></use></svg></label><div class='xr-var-attrs'><dl class='xr-attrs'><dt><span>long_name :</span></dt><dd>land extent within region</dd><dt><span>units :</span></dt><dd>km^2</dd></dl></div><div class='xr-var-data'><pre>[14 values with dtype=float64]</pre></div></li><li class='xr-var-item'><div class='xr-var-name'><span>ice_extent</span></div><div class='xr-var-dims'>(time)</div><div class='xr-var-dtype'>float64</div><div class='xr-var-preview xr-preview'>...</div><input id='attrs-12adc329-c968-4309-b8b1-6a9a69b8fcf7' class='xr-var-attrs-in' type='checkbox' ><label for='attrs-12adc329-c968-4309-b8b1-6a9a69b8fcf7' title='Show/Hide attributes'><svg class='icon xr-icon-file-text2'><use xlink:href='#icon-file-text2'></use></svg></label><input id='data-831aa618-7c2b-4a2e-b02f-d238cbea156f' class='xr-var-data-in' type='checkbox'><label for='data-831aa618-7c2b-4a2e-b02f-d238cbea156f' title='Show/Hide data repr'><svg class='icon xr-icon-database'><use xlink:href='#icon-database'></use></svg></label><div class='xr-var-attrs'><dl class='xr-attrs'><dt><span>long_name :</span></dt><dd>ice extent within region</dd><dt><span>units :</span></dt><dd>km^2</dd></dl></div><div class='xr-var-data'><pre>[14 values with dtype=float64]</pre></div></li><li class='xr-var-item'><div class='xr-var-name'><span>ocean_extent</span></div><div class='xr-var-dims'>(time)</div><div class='xr-var-dtype'>float64</div><div class='xr-var-preview xr-preview'>...</div><input id='attrs-1e9058bf-8a5e-40f1-9622-72366832e502' class='xr-var-attrs-in' type='checkbox' ><label for='attrs-1e9058bf-8a5e-40f1-9622-72366832e502' title='Show/Hide attributes'><svg class='icon xr-icon-file-text2'><use xlink:href='#icon-file-text2'></use></svg></label><input id='data-795b372b-9cc2-4d27-b8fe-009a1a0c4ef2' class='xr-var-data-in' type='checkbox'><label for='data-795b372b-9cc2-4d27-b8fe-009a1a0c4ef2' title='Show/Hide data repr'><svg class='icon xr-icon-database'><use xlink:href='#icon-database'></use></svg></label><div class='xr-var-attrs'><dl class='xr-attrs'><dt><span>long_name :</span></dt><dd>extent of water connected to Pacific Ocean water within region</dd><dt><span>units :</span></dt><dd>km^2</dd></dl></div><div class='xr-var-data'><pre>[14 values with dtype=float64]</pre></div></li><li class='xr-var-item'><div class='xr-var-name'><span>other_polynya_extent</span></div><div class='xr-var-dims'>(time)</div><div class='xr-var-dtype'>float64</div><div class='xr-var-preview xr-preview'>...</div><input id='attrs-d2102e92-114b-4af2-b26d-db184a5bbb25' class='xr-var-attrs-in' type='checkbox' ><label for='attrs-d2102e92-114b-4af2-b26d-db184a5bbb25' title='Show/Hide attributes'><svg class='icon xr-icon-file-text2'><use xlink:href='#icon-file-text2'></use></svg></label><input id='data-d9f14202-4145-4c96-aa90-d00dea999a9d' class='xr-var-data-in' type='checkbox'><label for='data-d9f14202-4145-4c96-aa90-d00dea999a9d' title='Show/Hide data repr'><svg class='icon xr-icon-database'><use xlink:href='#icon-database'></use></svg></label><div class='xr-var-attrs'><dl class='xr-attrs'><dt><span>long_name :</span></dt><dd>extent of open water not connected to HI polynya or Pacific Ocean water within region</dd><dt><span>units :</span></dt><dd>km^2</dd></dl></div><div class='xr-var-data'><pre>[14 values with dtype=float64]</pre></div></li><li class='xr-var-item'><div class='xr-var-name'><span>polynya_extent</span></div><div class='xr-var-dims'>(time)</div><div class='xr-var-dtype'>float64</div><div class='xr-var-preview xr-preview'>...</div><input id='attrs-dcfa7634-1d59-4868-ab27-04510429df4a' class='xr-var-attrs-in' type='checkbox' ><label for='attrs-dcfa7634-1d59-4868-ab27-04510429df4a' title='Show/Hide attributes'><svg class='icon xr-icon-file-text2'><use xlink:href='#icon-file-text2'></use></svg></label><input id='data-bdace56a-6a60-426e-9c37-a751711d1e60' class='xr-var-data-in' type='checkbox'><label for='data-bdace56a-6a60-426e-9c37-a751711d1e60' title='Show/Hide data repr'><svg class='icon xr-icon-database'><use xlink:href='#icon-database'></use></svg></label><div class='xr-var-attrs'><dl class='xr-attrs'><dt><span>long_name :</span></dt><dd>extent of polynya forming near HI within region</dd><dt><span>units :</span></dt><dd>km^2</dd></dl></div><div class='xr-var-data'><pre>[14 values with dtype=float64]</pre></div></li><li class='xr-var-item'><div class='xr-var-name'><span>miss_flag</span></div><div class='xr-var-dims'>(time)</div><div class='xr-var-dtype'>bool</div><div class='xr-var-preview xr-preview'>...</div><input id='attrs-37338a7c-3309-48ce-ac32-e7b8027dea03' class='xr-var-attrs-in' type='checkbox' ><label for='attrs-37338a7c-3309-48ce-ac32-e7b8027dea03' title='Show/Hide attributes'><svg class='icon xr-icon-file-text2'><use xlink:href='#icon-file-text2'></use></svg></label><input id='data-fa3114fa-3b1f-4d45-804e-e97c841d3c11' class='xr-var-data-in' type='checkbox'><label for='data-fa3114fa-3b1f-4d45-804e-e97c841d3c11' title='Show/Hide data repr'><svg class='icon xr-icon-database'><use xlink:href='#icon-database'></use></svg></label><div class='xr-var-attrs'><dl class='xr-attrs'><dt><span>long_name :</span></dt><dd>Flag for missing SIC data</dd><dt><span>units :</span></dt><dd>None</dd></dl></div><div class='xr-var-data'><pre>[14 values with dtype=bool]</pre></div></li><li class='xr-var-item'><div class='xr-var-name'><span>length</span></div><div class='xr-var-dims'>(time)</div><div class='xr-var-dtype'>float64</div><div class='xr-var-preview xr-preview'>nan 20.73 60.69 ... 390.0 62.35 nan</div><input id='attrs-0a1062e3-ccf5-4b18-9cda-36927273f2f5' class='xr-var-attrs-in' type='checkbox' disabled><label for='attrs-0a1062e3-ccf5-4b18-9cda-36927273f2f5' title='Show/Hide attributes'><svg class='icon xr-icon-file-text2'><use xlink:href='#icon-file-text2'></use></svg></label><input id='data-22090d47-76e4-4c40-b214-4cc054dbb233' class='xr-var-data-in' type='checkbox'><label for='data-22090d47-76e4-4c40-b214-4cc054dbb233' title='Show/Hide data repr'><svg class='icon xr-icon-database'><use xlink:href='#icon-database'></use></svg></label><div class='xr-var-attrs'><dl class='xr-attrs'></dl></div><div class='xr-var-data'><pre>array([         nan,  20.7318917 ,  60.68884722, 157.42468303,\n",
       "       288.92541567, 316.81592089, 339.35012656, 327.59320868,\n",
       "       332.79026328, 346.67261849, 386.52329779, 390.01789142,\n",
       "        62.34710612,          nan])</pre></div></li></ul></div></li><li class='xr-section-item'><input id='section-1ec924f6-7296-4a5b-b373-42ad8cc6ab9b' class='xr-section-summary-in' type='checkbox'  ><label for='section-1ec924f6-7296-4a5b-b373-42ad8cc6ab9b' class='xr-section-summary' >Indexes: <span>(2)</span></label><div class='xr-section-inline-details'></div><div class='xr-section-details'><ul class='xr-var-list'><li class='xr-var-item'><div class='xr-index-name'><div>time</div></div><div class='xr-index-preview'>PandasIndex</div><div></div><input id='index-cc3aab45-a824-40ac-8d17-23b8375bc749' class='xr-index-data-in' type='checkbox'/><label for='index-cc3aab45-a824-40ac-8d17-23b8375bc749' title='Show/Hide index repr'><svg class='icon xr-icon-database'><use xlink:href='#icon-database'></use></svg></label><div class='xr-index-data'><pre>PandasIndex(DatetimeIndex([&#x27;2019-12-07&#x27;, &#x27;2019-12-08&#x27;, &#x27;2019-12-09&#x27;, &#x27;2019-12-10&#x27;,\n",
       "               &#x27;2019-12-11&#x27;, &#x27;2019-12-12&#x27;, &#x27;2019-12-13&#x27;, &#x27;2019-12-14&#x27;,\n",
       "               &#x27;2019-12-15&#x27;, &#x27;2019-12-16&#x27;, &#x27;2019-12-17&#x27;, &#x27;2019-12-18&#x27;,\n",
       "               &#x27;2019-12-19&#x27;, &#x27;2019-12-20&#x27;],\n",
       "              dtype=&#x27;datetime64[ns]&#x27;, name=&#x27;time&#x27;, freq=None))</pre></div></li><li class='xr-var-item'><div class='xr-index-name'><div>t</div></div><div class='xr-index-preview'>PandasIndex</div><div></div><input id='index-b5eed410-b438-4366-97a8-5bfc21807478' class='xr-index-data-in' type='checkbox'/><label for='index-b5eed410-b438-4366-97a8-5bfc21807478' title='Show/Hide index repr'><svg class='icon xr-icon-database'><use xlink:href='#icon-database'></use></svg></label><div class='xr-index-data'><pre>PandasIndex(Index([  0.0,  24.0,  48.0,  72.0,  96.0, 120.0, 144.0, 168.0, 192.0, 216.0,\n",
       "       240.0, 264.0, 288.0, 312.0],\n",
       "      dtype=&#x27;float64&#x27;, name=&#x27;t&#x27;))</pre></div></li></ul></div></li><li class='xr-section-item'><input id='section-fd115254-67bd-4d87-b11f-2ea525bdcf24' class='xr-section-summary-in' type='checkbox' disabled ><label for='section-fd115254-67bd-4d87-b11f-2ea525bdcf24' class='xr-section-summary'  title='Expand/collapse section'>Attributes: <span>(0)</span></label><div class='xr-section-inline-details'></div><div class='xr-section-details'><dl class='xr-attrs'></dl></div></li></ul></div></div>"
      ],
      "text/plain": [
       "<xarray.Dataset>\n",
       "Dimensions:               (time: 14, t: 14)\n",
       "Coordinates:\n",
       "  * time                  (time) datetime64[ns] 2019-12-07 ... 2019-12-20\n",
       "  * t                     (t) float64 0.0 24.0 48.0 72.0 ... 264.0 288.0 312.0\n",
       "Data variables: (12/25)\n",
       "    N                     (time) float64 ...\n",
       "    extent                (time) float64 ...\n",
       "    l_min                 (time) float64 ...\n",
       "    l_max                 (time) float64 ...\n",
       "    l_mean                (time) float64 ...\n",
       "    l_per5                (time) float64 ...\n",
       "    ...                    ...\n",
       "    ice_extent            (time) float64 ...\n",
       "    ocean_extent          (time) float64 ...\n",
       "    other_polynya_extent  (time) float64 ...\n",
       "    polynya_extent        (time) float64 ...\n",
       "    miss_flag             (time) bool ...\n",
       "    length                (time) float64 nan 20.73 60.69 ... 390.0 62.35 nan"
      ]
     },
     "execution_count": 380,
     "metadata": {},
     "output_type": "execute_result"
    }
   ],
   "source": [
    "DS"
   ]
  },
  {
   "cell_type": "code",
   "execution_count": 267,
   "id": "16a771bf",
   "metadata": {},
   "outputs": [
    {
     "data": {
      "text/html": [
       "11.996761475784785 kilometer"
      ],
      "text/latex": [
       "$11.996761475784785\\ \\mathrm{kilometer}$"
      ],
      "text/plain": [
       "<Quantity(11.9967615, 'kilometer')>"
      ]
     },
     "execution_count": 267,
     "metadata": {},
     "output_type": "execute_result"
    }
   ],
   "source": [
    "np.nanmax(X_ip)"
   ]
  },
  {
   "cell_type": "code",
   "execution_count": null,
   "id": "aa629be2",
   "metadata": {},
   "outputs": [],
   "source": []
  }
 ],
 "metadata": {
  "kernelspec": {
   "display_name": "SBSpolynya",
   "language": "python",
   "name": "sbspolynya"
  },
  "language_info": {
   "codemirror_mode": {
    "name": "ipython",
    "version": 3
   },
   "file_extension": ".py",
   "mimetype": "text/x-python",
   "name": "python",
   "nbconvert_exporter": "python",
   "pygments_lexer": "ipython3",
   "version": "3.12.2"
  }
 },
 "nbformat": 4,
 "nbformat_minor": 5
}
