{
 "cells": [
  {
   "cell_type": "markdown",
   "id": "b746cacd",
   "metadata": {},
   "source": [
    "# 05_WindForcing\n",
    "\n",
    "Relation to large-scale patterns of atm. forcing"
   ]
  },
  {
   "cell_type": "code",
   "execution_count": 29,
   "id": "a1bfe797",
   "metadata": {},
   "outputs": [
    {
     "name": "stdout",
     "output_type": "stream",
     "text": [
      "The autoreload extension is already loaded. To reload it, use:\n",
      "  %reload_ext autoreload\n"
     ]
    }
   ],
   "source": [
    "%load_ext autoreload\n",
    "%autoreload 2\n",
    "\n",
    "# general\n",
    "import numpy as np, numpy.ma as ma\n",
    "import xarray as xr\n",
    "import pandas as pd\n",
    "\n",
    "# time\n",
    "from datetime import datetime, timedelta\n",
    "import calendar\n",
    "from calendar import monthrange\n",
    "\n",
    "# local system \n",
    "import sys  \n",
    "import glob\n",
    "import os\n",
    "\n",
    "# plotting\n",
    "import matplotlib as mpl\n",
    "from matplotlib import pyplot as plt\n",
    "import matplotlib.colors\n",
    "import cmocean\n",
    "import matplotlib.patches as mpatches\n",
    "from mpl_toolkits.axes_grid1.inset_locator import inset_axes\n",
    "from matplotlib.colors import Normalize\n",
    "import matplotlib.ticker as ticker\n",
    "# from matplotlib.ticker import MultipleLocator\n",
    "\n",
    "import matplotlib.dates as mdates\n",
    "import matplotlib.patches as patches\n",
    "import matplotlib.ticker as mticker\n",
    "\n",
    "from scipy import stats\n",
    "\n",
    "\n",
    "# geo plotting\n",
    "import cartopy\n",
    "import cartopy.crs as ccrs\n",
    "import cartopy.feature as cfeat\n",
    "from cartopy import img_transform\n",
    "\n",
    "from metpy.units import units\n",
    "\n",
    "# path to own functions\n",
    "sys.path.append('../../')\n",
    "import timeseries.adjust as tseries\n",
    "import timeseries.analyze as tanalyze\n",
    "import geofunc.general as geogen\n",
    "import geofunc.vectors as vectors\n",
    "import geofunc.shapes as geoshape\n",
    "import plot_simply.general as plotter\n",
    "import plot_simply.geomap as geomap\n",
    "import data_NSIDC.icedrift as icedrift\n",
    "import data_UniBremen.SIC as unisic"
   ]
  },
  {
   "cell_type": "code",
   "execution_count": 30,
   "id": "ae33f9ae",
   "metadata": {},
   "outputs": [],
   "source": [
    "plt.style.use('../jgr_oceans.mplstyle')\n",
    "\n",
    "def SAVE(fig, filename):\n",
    "    fig.savefig(filename, bbox_inches='tight', pad_inches=0.05)\n"
   ]
  },
  {
   "cell_type": "code",
   "execution_count": 31,
   "id": "f467d059",
   "metadata": {},
   "outputs": [
    {
     "data": {
      "text/plain": [
       "{'Cp_o': <Quantity(3850.0, 'joule / kilogram / delta_degree_Celsius')>,\n",
       " 'Cp_a': <Quantity(1004.0, 'joule / kilogram / delta_degree_Celsius')>,\n",
       " 'sigma_sb': <Quantity(5.670367e-08, 'watt / meter ** 2 / kelvin ** 4')>,\n",
       " 'rho_a': <Quantity(1.225, 'kilogram / meter ** 3')>,\n",
       " 'rho_o': <Quantity(1028.0, 'kilogram / meter ** 3')>,\n",
       " 'rho_i': <Quantity(917.0, 'kilogram / meter ** 3')>,\n",
       " 'L_i': <Quantity(334000.0, 'joule / kilogram')>,\n",
       " 'k_i': <Quantity(2.2, 'watt / meter / delta_degree_Celsius')>,\n",
       " 'kappa': <Quantity(0.4, 'dimensionless')>,\n",
       " 'St': <Quantity(0.0057, 'dimensionless')>,\n",
       " 'omega': <Quantity(7.2921e-05, 'radian / second')>}"
      ]
     },
     "execution_count": 31,
     "metadata": {},
     "output_type": "execute_result"
    }
   ],
   "source": [
    "# Save to file\n",
    "df = pd.read_csv('../data/constants.csv')\n",
    "df = df.set_index('var')\n",
    "df\n",
    "\n",
    "cst = {}\n",
    "for variable in list(df.index):\n",
    "    cst[variable] = df.loc[variable]['value'] * units(df.loc[variable]['units'])\n",
    "    \n",
    "cst"
   ]
  },
  {
   "cell_type": "markdown",
   "id": "a3c79ff1",
   "metadata": {},
   "source": [
    "## Reference grids"
   ]
  },
  {
   "cell_type": "code",
   "execution_count": 32,
   "id": "3b3a0ebd",
   "metadata": {},
   "outputs": [],
   "source": [
    "# open regional bounding coordinates\n",
    "df = pd.read_csv('../data/coastal_region_bounds_v7.csv')\n",
    "reg_poly = geoshape.make_polygon(np.stack((df['lons'], df['lats']), axis=1))"
   ]
  },
  {
   "cell_type": "code",
   "execution_count": 34,
   "id": "fa60cf8d",
   "metadata": {},
   "outputs": [
    {
     "data": {
      "image/png": "[encoded data removed]",
      "text/plain": [
       "<Figure size 800x600 with 1 Axes>"
      ]
     },
     "metadata": {},
     "output_type": "display_data"
    }
   ],
   "source": [
    "\n",
    "# initialize map\n",
    "map_proj = ccrs.NorthPolarStereo(central_longitude=-150)\n",
    "fig, ax = plt.subplots(subplot_kw=dict(projection=map_proj), figsize=(8,6))\n",
    "ax.set_ylim(-2500000,-1500000)\n",
    "ax.set_xlim(-800000,1000000)\n",
    "ax.set_facecolor('lightgray')\n",
    "geomap.land(ax, scale = '10m', color='darkgray', alpha=1, fill_dateline_gap = False, zorder=2)\n",
    "\n",
    "\n",
    "ax.add_geometries([reg_poly], edgecolor='k', facecolor='None',zorder=100, crs=ccrs.PlateCarree())\n",
    "\n",
    "\n",
    "# for key in ['era', 'ppd']:\n",
    "#     ax.scatter(grids[key]['lon'][grids[key]['region']], grids[key]['lat'][grids[key]['region']], \n",
    "#                zorder=100, s = 10, transform=ccrs.PlateCarree())\n",
    "\n",
    "\n",
    "\n",
    "line_kwargs = {'lw':0.75, 'c':[0.6,0.6,0.6]}\n",
    "for lat in [69.25,72]:\n",
    "    ax.plot(np.linspace(-160,-120,100), np.full(100,lat), transform=ccrs.PlateCarree(), **line_kwargs)  \n",
    "for lon in [-150,-137.5]:\n",
    "    ax.plot(np.full(100,lon), np.linspace(68,73,100), transform=ccrs.PlateCarree(), **line_kwargs)\n",
    "    \n"
   ]
  },
  {
   "cell_type": "code",
   "execution_count": null,
   "id": "037e3ed4",
   "metadata": {},
   "outputs": [],
   "source": []
  },
  {
   "cell_type": "code",
   "execution_count": 246,
   "id": "799e1f7d",
   "metadata": {},
   "outputs": [],
   "source": []
  },
  {
   "cell_type": "markdown",
   "id": "90be3ee0",
   "metadata": {},
   "source": [
    "### Open polynya and forcing stats"
   ]
  },
  {
   "cell_type": "code",
   "execution_count": 37,
   "id": "6f815f26",
   "metadata": {},
   "outputs": [
    {
     "name": "stderr",
     "output_type": "stream",
     "text": [
      "/var/folders/p8/hz449fpx6nscv0jb1klyfqb40000gp/T/ipykernel_25941/810645748.py:17: SettingWithCopyWarning: \n",
      "A value is trying to be set on a copy of a slice from a DataFrame\n",
      "\n",
      "See the caveats in the documentation: https://pandas.pydata.org/pandas-docs/stable/user_guide/indexing.html#returning-a-view-versus-a-copy\n",
      "  df[f'{cat}_r'][df[f'{cat}_r']<0]+=360\n",
      "/var/folders/p8/hz449fpx6nscv0jb1klyfqb40000gp/T/ipykernel_25941/810645748.py:17: SettingWithCopyWarning: \n",
      "A value is trying to be set on a copy of a slice from a DataFrame\n",
      "\n",
      "See the caveats in the documentation: https://pandas.pydata.org/pandas-docs/stable/user_guide/indexing.html#returning-a-view-versus-a-copy\n",
      "  df[f'{cat}_r'][df[f'{cat}_r']<0]+=360\n",
      "/var/folders/p8/hz449fpx6nscv0jb1klyfqb40000gp/T/ipykernel_25941/810645748.py:17: SettingWithCopyWarning: \n",
      "A value is trying to be set on a copy of a slice from a DataFrame\n",
      "\n",
      "See the caveats in the documentation: https://pandas.pydata.org/pandas-docs/stable/user_guide/indexing.html#returning-a-view-versus-a-copy\n",
      "  df[f'{cat}_r'][df[f'{cat}_r']<0]+=360\n",
      "/var/folders/p8/hz449fpx6nscv0jb1klyfqb40000gp/T/ipykernel_25941/810645748.py:17: SettingWithCopyWarning: \n",
      "A value is trying to be set on a copy of a slice from a DataFrame\n",
      "\n",
      "See the caveats in the documentation: https://pandas.pydata.org/pandas-docs/stable/user_guide/indexing.html#returning-a-view-versus-a-copy\n",
      "  df[f'{cat}_r'][df[f'{cat}_r']<0]+=360\n"
     ]
    }
   ],
   "source": [
    "df = pd.read_csv('../data/compiled_stats.csv')\n",
    "\n",
    "df['esei'] = vectors.comp_along_theta(df['ui'], df['vi'], 145*units('degree')) * units('cm/s').to('km/day')\n",
    "df['ese10'] = 0.02*vectors.comp_along_theta(df['u10'], df['v10'], 180*units('degree'))* units('m/s').to('km/day')\n",
    "# df['ese10'][df.year>=2016] = 1.3*df['ese10'][df.year>=2016]\n",
    "\n",
    "\n",
    "\n",
    "\n",
    "df['si_km'] = df['si'] * units('cm/s').to('km/day')\n",
    "\n",
    "df['e10'] = - df['u10']\n",
    "# manually modify this for now since I set too strict of threshold\n",
    "\n",
    "for cat in ['a10', 'ai', 'centermass_direction', 'max_length_direction']:\n",
    "    df[f'{cat}_r'] = 90-df[f'{cat}']\n",
    "    df[f'{cat}_r'][df[f'{cat}_r']<0]+=360\n",
    "\n",
    "df['up'] = df['centermass_length'].values * np.cos(df['centermass_direction'].values*np.pi/180)\n",
    "df['vp'] = df['centermass_length'].values * np.sin(df['centermass_direction'].values*np.pi/180)\n",
    "                     \n",
    "    \n",
    "vi = (df['ui'].values, df['vi'].values)\n",
    "vw = (df['u10'].values, df['v10'].values)\n",
    "vp = (df['up'].values, df['vp'].values )\n",
    "                              \n",
    "df['ta_wi'] = vectors.turning_angle(vw,vi).magnitude\n",
    "df['ta_ip'] = vectors.turning_angle(vi,vp).magnitude\n",
    "df['ta_wp'] = vectors.turning_angle(vw,vp).magnitude\n",
    "\n",
    "\n",
    "\n",
    "\n",
    "# identify base period\n",
    "dfb = df[df['2003_2023']]\n",
    "\n",
    "dfr = df[df.year >= 2003]\n",
    "\n"
   ]
  },
  {
   "cell_type": "code",
   "execution_count": 16,
   "id": "6859956c",
   "metadata": {},
   "outputs": [],
   "source": [
    "cond = ((dfr['sequence']!=-999)&((dfr['season_start_flag']==False)&(dfr['season_end_flag']==False)))\n",
    "all_ss = list(set(dfr['sequence'][cond]))\n",
    "\n",
    "\n",
    "# cond = ((dfr['sequence']!=-999))\n",
    "# all_ss = list(set(dfr['sequence'][cond]))\n"
   ]
  },
  {
   "cell_type": "code",
   "execution_count": 17,
   "id": "bd3e0830",
   "metadata": {},
   "outputs": [
    {
     "data": {
      "text/plain": [
       "4444    2017-01-27\n",
       "Name: time, dtype: object"
      ]
     },
     "execution_count": 17,
     "metadata": {},
     "output_type": "execute_result"
    }
   ],
   "source": [
    "dfr['time'][(dfr['sequence'] == 92)]"
   ]
  },
  {
   "cell_type": "code",
   "execution_count": null,
   "id": "7d7794de",
   "metadata": {},
   "outputs": [],
   "source": []
  },
  {
   "cell_type": "code",
   "execution_count": 38,
   "id": "5d0c71cd",
   "metadata": {},
   "outputs": [
    {
     "data": {
      "image/png": "[encoded data removed]",
      "text/plain": [
       "<Figure size 300x300 with 1 Axes>"
      ]
     },
     "metadata": {},
     "output_type": "display_data"
    }
   ],
   "source": [
    "fig, ax = plt.subplots(figsize=(3,3))\n",
    "\n",
    "all_cum_size = np.array([])\n",
    "\n",
    "for ss in all_ss:\n",
    "    \n",
    "    ii = np.where((dfr['sequence'] == ss)&(dfr['first_day'] == True))[0][0]\n",
    "    ff = np.where((dfr['sequence'] == ss)&(dfr['final_day'] == True))[0][0]\n",
    "    \n",
    "    \n",
    "    ax.plot(np.cumsum(-dfr.u10[ii:ff+1]), np.cumsum(dfr.length_145max[ii:ff+1]))\n",
    "    \n",
    "    all_cum_size = np.append(all_cum_size, np.sum(dfr.extent[ii:ff+1]))\n",
    "    \n",
    "    \n",
    "#     ax.plot(np.cumsum(dfr.u10[ii:ff+1]**2), np.cumsum(dfr.length_145max[ii:ff+1]))"
   ]
  },
  {
   "cell_type": "code",
   "execution_count": 39,
   "id": "646f4192",
   "metadata": {},
   "outputs": [
    {
     "data": {
      "text/plain": [
       "2.1528421678614547"
      ]
     },
     "execution_count": 39,
     "metadata": {},
     "output_type": "execute_result"
    }
   ],
   "source": [
    "np.sum(all_cum_size[np.argsort(all_cum_size)][-2:]) / np.sum(all_cum_size[np.argsort(all_cum_size)][:120])"
   ]
  },
  {
   "cell_type": "code",
   "execution_count": 40,
   "id": "1e9d0ebc",
   "metadata": {},
   "outputs": [
    {
     "data": {
      "text/plain": [
       "1.006925348087484"
      ]
     },
     "execution_count": 40,
     "metadata": {},
     "output_type": "execute_result"
    }
   ],
   "source": [
    "np.sum(all_cum_size[np.argsort(all_cum_size)][-2:]) / np.sum(all_cum_size[all_cum_size<=8775.679752440246])"
   ]
  },
  {
   "cell_type": "code",
   "execution_count": 41,
   "id": "5323226d",
   "metadata": {},
   "outputs": [
    {
     "data": {
      "text/plain": [
       "1.0822593150908981"
      ]
     },
     "execution_count": 41,
     "metadata": {},
     "output_type": "execute_result"
    }
   ],
   "source": [
    "np.sum(all_cum_size[np.argsort(all_cum_size)][-1:]) / np.sum(all_cum_size[all_cum_size<=3977.7001019800664])"
   ]
  },
  {
   "cell_type": "code",
   "execution_count": 42,
   "id": "b7a7fb62",
   "metadata": {},
   "outputs": [
    {
     "data": {
      "text/plain": [
       "3650.1302324257676"
      ]
     },
     "execution_count": 42,
     "metadata": {},
     "output_type": "execute_result"
    }
   ],
   "source": [
    "np.nanpercentile(all_cum_size, 80)"
   ]
  },
  {
   "cell_type": "code",
   "execution_count": 43,
   "id": "23e25db0",
   "metadata": {},
   "outputs": [
    {
     "data": {
      "text/plain": [
       "array([ 71934.31946791, 102928.22815122])"
      ]
     },
     "execution_count": 43,
     "metadata": {},
     "output_type": "execute_result"
    }
   ],
   "source": [
    "all_cum_size[np.argsort(all_cum_size)][-2:]"
   ]
  },
  {
   "cell_type": "code",
   "execution_count": 44,
   "id": "62d452d6",
   "metadata": {},
   "outputs": [
    {
     "data": {
      "text/plain": [
       "608861.385350461"
      ]
     },
     "execution_count": 44,
     "metadata": {},
     "output_type": "execute_result"
    }
   ],
   "source": [
    "np.sum(all_cum_size[np.argsort(all_cum_size)][:])"
   ]
  },
  {
   "cell_type": "code",
   "execution_count": 45,
   "id": "e07e85a1",
   "metadata": {},
   "outputs": [
    {
     "data": {
      "text/plain": [
       "309531.65088898025"
      ]
     },
     "execution_count": 45,
     "metadata": {},
     "output_type": "execute_result"
    }
   ],
   "source": [
    "np.sum(all_cum_size[np.argsort(all_cum_size)][:-6])"
   ]
  },
  {
   "cell_type": "code",
   "execution_count": 46,
   "id": "cc09fd95",
   "metadata": {},
   "outputs": [
    {
     "data": {
      "text/plain": [
       "<matplotlib.collections.PathCollection at 0x13c3b0230>"
      ]
     },
     "execution_count": 46,
     "metadata": {},
     "output_type": "execute_result"
    },
    {
     "data": {
      "image/png": "[encoded data removed]",
      "text/plain": [
       "<Figure size 1200x300 with 1 Axes>"
      ]
     },
     "metadata": {},
     "output_type": "display_data"
    }
   ],
   "source": [
    "year = 2018\n",
    "\n",
    "fig, ax = plt.subplots(figsize=(12,3))\n",
    "\n",
    "ax.bar(pd.to_datetime(df.time[df.year==year]), df.length_145max[df.year==year]/10)\n",
    "ax.scatter(pd.to_datetime(df.time[(df.year==year)&(df.extent>0)]), df.length_145max[(df.year==year)&(df.extent>0)]/10, c='k')\n",
    "\n",
    "cond = (df.year==year) &(dir_conds(df, 'wind'))&(speed_conds(df, 'wind'))\n",
    "ax.scatter(pd.to_datetime(df.time[cond]), df.s10[cond], c='orange')\n",
    "cond = (df.year==year) &(dir_conds(df, 'ice'))&(speed_conds(df, 'ice'))\n",
    "ax.scatter(pd.to_datetime(df.time[cond]), df.s10[cond], facecolor='None', edgecolor='r')\n",
    "# ax.plot([pd.to_datetime(df.time[cond]),pd.to_datetime(df.time[cond])], [0,df.s10[cond]], c='r')"
   ]
  },
  {
   "cell_type": "code",
   "execution_count": 58,
   "id": "befc3030",
   "metadata": {},
   "outputs": [],
   "source": [
    "\n",
    "#=============\n",
    "DF = dfb\n",
    "#=============\n",
    "\n",
    "not_last_day = (DF.final_day==False)\n",
    "not_last_day[DF.single_day==True] = True\n",
    "\n",
    "cond = (not_last_day&(DF.extent>0)) #& (DF.year<2016)\n",
    "cond = (DF.extent>0)\n",
    "# cond[DF.before_event_length==-1] = True\n",
    "\n",
    "cond2 = (DF.extent==0) & (DF.before_event_length<-1)\n",
    "\n",
    "\n",
    "# cond = (DF.extent>0)"
   ]
  },
  {
   "cell_type": "code",
   "execution_count": 59,
   "id": "e45e9bdb",
   "metadata": {},
   "outputs": [
    {
     "name": "stdout",
     "output_type": "stream",
     "text": [
      "0.8061002178649237\n",
      "0.7864923747276689\n",
      "\n",
      "0.644880174291939\n",
      "0.6252723311546841\n",
      "\n",
      "0.2338227297444263\n",
      "0.2669929309407287\n",
      "\n",
      "0.08210984230560087\n",
      "0.06144643828167482\n"
     ]
    }
   ],
   "source": [
    "print(np.sum(dir_conds(DF, 'wind')&(cond)) / np.sum(cond))\n",
    "print(np.sum(dir_conds(DF, 'ice')&(cond)) / np.sum(cond))\n",
    "\n",
    "print()\n",
    "\n",
    "print(np.sum(speed_conds(DF, 'wind')&(dir_conds(DF, 'wind')&(cond)) )/ np.sum(cond))\n",
    "print(np.sum(speed_conds(DF, 'ice')&(dir_conds(DF, 'ice')&(cond)) )/ np.sum(cond))\n",
    "\n",
    "print()\n",
    "\n",
    "print(np.sum((dir_conds(DF, 'wind')&(cond2)) )/ np.sum(cond2))\n",
    "print(np.sum((dir_conds(DF, 'ice')&(cond2)) )/ np.sum(cond2))\n",
    "\n",
    "print()\n",
    "\n",
    "print(np.sum(speed_conds(DF, 'wind')&(dir_conds(DF, 'wind')&(cond2)) )/ np.sum(cond2))\n",
    "print(np.sum(speed_conds(DF, 'ice')&(dir_conds(DF, 'ice')&(cond2)) )/ np.sum(cond2))"
   ]
  },
  {
   "cell_type": "code",
   "execution_count": null,
   "id": "a16615b8",
   "metadata": {},
   "outputs": [],
   "source": []
  },
  {
   "cell_type": "code",
   "execution_count": null,
   "id": "6c8bf13e",
   "metadata": {},
   "outputs": [],
   "source": []
  },
  {
   "cell_type": "code",
   "execution_count": 1024,
   "id": "e4c40046",
   "metadata": {},
   "outputs": [
    {
     "data": {
      "text/html": [
       "8.8128 kilometer/day"
      ],
      "text/latex": [
       "$8.8128\\ \\frac{\\mathrm{kilometer}}{\\mathrm{day}}$"
      ],
      "text/plain": [
       "<Quantity(8.8128, 'kilometer / day')>"
      ]
     },
     "execution_count": 1024,
     "metadata": {},
     "output_type": "execute_result"
    }
   ],
   "source": [
    "0.017 * 6 * units('m/s').to('km/day')"
   ]
  },
  {
   "cell_type": "code",
   "execution_count": 321,
   "id": "bf37a459",
   "metadata": {},
   "outputs": [
    {
     "data": {
      "text/plain": [
       "12.409090909090908"
      ]
     },
     "execution_count": 321,
     "metadata": {},
     "output_type": "execute_result"
    }
   ],
   "source": [
    "len(dfr[dfr.extent > 545])/len(list(set(dfr.year[dfr.year!=2012])))"
   ]
  },
  {
   "cell_type": "code",
   "execution_count": 325,
   "id": "3305913b",
   "metadata": {},
   "outputs": [
    {
     "data": {
      "text/plain": [
       "5.181818181818182"
      ]
     },
     "execution_count": 325,
     "metadata": {},
     "output_type": "execute_result"
    }
   ],
   "source": [
    "len(dfr[dfr.length_145max > 100])/len(list(set(dfr.year[dfr.year!=2012])))"
   ]
  },
  {
   "cell_type": "code",
   "execution_count": 327,
   "id": "fb9e2cab",
   "metadata": {},
   "outputs": [
    {
     "data": {
      "text/plain": [
       "1.1818181818181819"
      ]
     },
     "execution_count": 327,
     "metadata": {},
     "output_type": "execute_result"
    }
   ],
   "source": [
    "len(dfr[dfr.length_145max > 200])/len(list(set(dfr.year[dfr.year!=2012])))"
   ]
  },
  {
   "cell_type": "code",
   "execution_count": 326,
   "id": "f6c0a758",
   "metadata": {},
   "outputs": [
    {
     "data": {
      "text/plain": [
       "0.7272727272727273"
      ]
     },
     "execution_count": 326,
     "metadata": {},
     "output_type": "execute_result"
    }
   ],
   "source": [
    "len(list(set(dfr[dfr.length_145max > 100].year)))/len(list(set(dfr.year[dfr.year!=2012])))"
   ]
  },
  {
   "cell_type": "code",
   "execution_count": 328,
   "id": "44ce37a5",
   "metadata": {},
   "outputs": [
    {
     "data": {
      "text/plain": [
       "0.22727272727272727"
      ]
     },
     "execution_count": 328,
     "metadata": {},
     "output_type": "execute_result"
    }
   ],
   "source": [
    "len(list(set(dfr[dfr.length_145max > 200].year)))/len(list(set(dfr.year[dfr.year!=2012])))"
   ]
  },
  {
   "cell_type": "code",
   "execution_count": 329,
   "id": "be4bb95f",
   "metadata": {},
   "outputs": [
    {
     "data": {
      "text/plain": [
       "[2016, 2020, 2024, 2004, 2008]"
      ]
     },
     "execution_count": 329,
     "metadata": {},
     "output_type": "execute_result"
    }
   ],
   "source": [
    "list(set(dfr[dfr.length_145max > 200].year))"
   ]
  },
  {
   "cell_type": "code",
   "execution_count": 307,
   "id": "8e3aa256",
   "metadata": {},
   "outputs": [
    {
     "data": {
      "text/plain": [
       "11.869565217391305"
      ]
     },
     "execution_count": 307,
     "metadata": {},
     "output_type": "execute_result"
    }
   ],
   "source": [
    "len(dfr[dfr.extent > 545])/len(list(set(dfr.year)))"
   ]
  },
  {
   "cell_type": "code",
   "execution_count": 306,
   "id": "dda8bb91",
   "metadata": {},
   "outputs": [
    {
     "data": {
      "text/plain": [
       "23.347826086956523"
      ]
     },
     "execution_count": 306,
     "metadata": {},
     "output_type": "execute_result"
    }
   ],
   "source": [
    "len(dfr[dfr.extent > 0])/len(list(set(dfr.year)))"
   ]
  },
  {
   "cell_type": "code",
   "execution_count": null,
   "id": "2bd5b02f",
   "metadata": {},
   "outputs": [],
   "source": [
    "len(dfr[dfr.extent > 0])/len(list(set(dfr.year)))"
   ]
  },
  {
   "cell_type": "code",
   "execution_count": 301,
   "id": "84dfcb7d",
   "metadata": {},
   "outputs": [
    {
     "data": {
      "text/plain": [
       "23"
      ]
     },
     "execution_count": 301,
     "metadata": {},
     "output_type": "execute_result"
    }
   ],
   "source": [
    "len(list(set(dfr.year)))"
   ]
  },
  {
   "cell_type": "code",
   "execution_count": 67,
   "id": "52c6c468",
   "metadata": {},
   "outputs": [],
   "source": [
    "cond = (df.year==year) &(dir_conds(df, 'wind'))&(speed_conds(df, 'wind'))"
   ]
  },
  {
   "cell_type": "code",
   "execution_count": 56,
   "id": "b6779f98",
   "metadata": {},
   "outputs": [
    {
     "data": {
      "text/plain": [
       "28"
      ]
     },
     "execution_count": 56,
     "metadata": {},
     "output_type": "execute_result"
    }
   ],
   "source": [
    "len(df.time[(df.extent>500)&(df.extent<600)])"
   ]
  },
  {
   "cell_type": "code",
   "execution_count": 57,
   "id": "3c071251",
   "metadata": {},
   "outputs": [
    {
     "data": {
      "text/plain": [
       "2441    2003-12-22\n",
       "2828    2006-03-16\n",
       "3034    2007-12-10\n",
       "3350    2009-12-23\n",
       "3877    2013-03-06\n",
       "3887    2013-03-16\n",
       "3992    2014-01-29\n",
       "4115    2015-01-01\n",
       "4250    2015-12-16\n",
       "4271    2016-01-06\n",
       "4292    2016-01-27\n",
       "4330    2016-03-05\n",
       "4331    2016-03-06\n",
       "4332    2016-03-07\n",
       "4334    2016-03-09\n",
       "4405    2016-12-19\n",
       "4639    2018-03-12\n",
       "4747    2019-01-28\n",
       "4858    2019-12-19\n",
       "5002    2020-12-11\n",
       "5003    2020-12-12\n",
       "5096    2021-03-15\n",
       "5159    2021-12-17\n",
       "5280    2022-04-17\n",
       "5332    2023-01-08\n",
       "5390    2023-03-07\n",
       "5447    2023-12-03\n",
       "5468    2023-12-24\n",
       "Name: time, dtype: object"
      ]
     },
     "execution_count": 57,
     "metadata": {},
     "output_type": "execute_result"
    }
   ],
   "source": [
    "df.time[(df.extent>500)&(df.extent<600)]"
   ]
  },
  {
   "cell_type": "code",
   "execution_count": 54,
   "id": "50071653",
   "metadata": {},
   "outputs": [
    {
     "data": {
      "text/plain": [
       "2269    2002-12-01\n",
       "2291    2002-12-23\n",
       "2292    2002-12-24\n",
       "2311    2003-01-12\n",
       "2319    2003-01-20\n",
       "           ...    \n",
       "5700    2025-03-14\n",
       "5701    2025-03-15\n",
       "5706    2025-03-20\n",
       "5707    2025-03-21\n",
       "5708    2025-03-22\n",
       "Name: time, Length: 283, dtype: object"
      ]
     },
     "execution_count": 54,
     "metadata": {},
     "output_type": "execute_result"
    }
   ],
   "source": [
    "df.time[df.extent>500]"
   ]
  },
  {
   "cell_type": "code",
   "execution_count": null,
   "id": "20d09940",
   "metadata": {},
   "outputs": [],
   "source": []
  },
  {
   "cell_type": "code",
   "execution_count": 127,
   "id": "8ee58a56",
   "metadata": {},
   "outputs": [
    {
     "name": "stderr",
     "output_type": "stream",
     "text": [
      "<>:132: SyntaxWarning: invalid escape sequence '\\m'\n",
      "<>:133: SyntaxWarning: invalid escape sequence '\\m'\n",
      "<>:132: SyntaxWarning: invalid escape sequence '\\m'\n",
      "<>:133: SyntaxWarning: invalid escape sequence '\\m'\n",
      "/var/folders/p8/hz449fpx6nscv0jb1klyfqb40000gp/T/ipykernel_47217/779042473.py:132: SyntaxWarning: invalid escape sequence '\\m'\n",
      "  ax.set_xlabel('Cumulative east wind ($\\mathrm{m\\;s^{-1}}$)')\n",
      "/var/folders/p8/hz449fpx6nscv0jb1klyfqb40000gp/T/ipykernel_47217/779042473.py:133: SyntaxWarning: invalid escape sequence '\\m'\n",
      "  ax.set_ylabel('Cumulative\\npolynya\\nextent\\n($\\mathrm{10^{3}\\;km^2}$)', rotation=0, labelpad=30)\n"
     ]
    },
    {
     "name": "stdout",
     "output_type": "stream",
     "text": [
      "2 2002-12-10 00:00:00\n",
      "3 2002-12-22 00:00:00\n",
      "4 2003-01-10 00:00:00\n",
      "5 2003-01-19 00:00:00\n",
      "6 2003-01-24 00:00:00\n",
      "7 2003-02-07 00:00:00\n",
      "9 2003-03-04 00:00:00\n",
      "10 2003-04-15 00:00:00\n",
      "11 2003-12-07 00:00:00\n",
      "12 2003-12-11 00:00:00\n",
      "14 2003-12-29 00:00:00\n",
      "15 2004-01-11 00:00:00\n",
      "16 2004-01-17 00:00:00\n",
      "18 2004-12-17 00:00:00\n",
      "23 2006-03-15 00:00:00\n",
      "26 2006-12-16 00:00:00\n",
      "27 2007-01-13 00:00:00\n",
      "28 2007-02-01 00:00:00\n",
      "29 2007-02-07 00:00:00\n",
      "30 2007-02-12 00:00:00\n",
      "32 2007-04-19 00:00:00\n",
      "34 2007-12-14 00:00:00\n",
      "35 2007-12-24 00:00:00\n",
      "37 2008-01-02 00:00:00\n",
      "39 2008-02-12 00:00:00\n",
      "40 2008-02-21 00:00:00\n",
      "41 2008-04-23 00:00:00\n",
      "42 2008-12-09 00:00:00\n",
      "44 2008-12-22 00:00:00\n",
      "49 2009-03-09 00:00:00\n",
      "50 2009-12-22 00:00:00\n",
      "51 2009-12-28 00:00:00\n",
      "55 2010-12-06 00:00:00\n",
      "56 2011-01-04 00:00:00\n",
      "57 2012-12-22 00:00:00\n",
      "58 2013-01-14 00:00:00\n",
      "59 2013-03-06 00:00:00\n",
      "60 2013-03-16 00:00:00\n",
      "61 2013-12-30 00:00:00\n",
      "63 2014-01-28 00:00:00\n",
      "65 2014-02-27 00:00:00\n",
      "67 2014-04-25 00:00:00\n",
      "69 2014-12-21 00:00:00\n",
      "70 2014-12-28 00:00:00\n",
      "71 2015-01-01 00:00:00\n",
      "72 2015-01-09 00:00:00\n",
      "73 2015-02-24 00:00:00\n",
      "74 2015-03-31 00:00:00\n",
      "75 2015-04-25 00:00:00\n",
      "76 2015-12-15 00:00:00\n",
      "77 2016-01-05 00:00:00\n",
      "78 2016-01-26 00:00:00\n",
      "79 2016-02-02 00:00:00\n",
      "80 2016-02-08 00:00:00\n",
      "83 2016-02-26 00:00:00\n",
      "84 2016-03-09 00:00:00\n",
      "85 2016-03-22 00:00:00\n",
      "86 2016-04-05 00:00:00\n",
      "88 2016-12-06 00:00:00\n",
      "89 2016-12-16 00:00:00\n",
      "93 2017-04-05 00:00:00\n",
      "94 2017-04-14 00:00:00\n",
      "97 2017-12-03 00:00:00\n",
      "98 2017-12-05 00:00:00\n",
      "99 2017-12-09 00:00:00\n",
      "101 2018-01-01 00:00:00\n",
      "102 2018-01-09 00:00:00\n",
      "104 2018-03-09 00:00:00\n",
      "106 2018-04-06 00:00:00\n",
      "108 2018-12-25 00:00:00\n",
      "109 2019-01-15 00:00:00\n",
      "111 2019-01-26 00:00:00\n",
      "114 2019-03-01 00:00:00\n",
      "116 2019-03-24 00:00:00\n",
      "117 2019-04-14 00:00:00\n",
      "118 2019-12-02 00:00:00\n",
      "119 2019-12-08 00:00:00\n",
      "122 2020-04-02 00:00:00\n",
      "124 2020-12-10 00:00:00\n",
      "126 2021-01-22 00:00:00\n",
      "128 2021-03-14 00:00:00\n",
      "129 2021-03-22 00:00:00\n",
      "130 2021-04-26 00:00:00\n",
      "132 2021-12-20 00:00:00\n",
      "133 2022-01-23 00:00:00\n",
      "135 2022-02-26 00:00:00\n",
      "136 2022-03-25 00:00:00\n",
      "137 2022-04-16 00:00:00\n",
      "138 2022-04-22 00:00:00\n",
      "140 2022-12-06 00:00:00\n",
      "141 2022-12-11 00:00:00\n",
      "142 2022-12-24 00:00:00\n",
      "143 2023-01-11 00:00:00\n",
      "144 2023-02-23 00:00:00\n",
      "145 2023-03-06 00:00:00\n",
      "147 2023-03-30 00:00:00\n",
      "148 2023-12-02 00:00:00\n",
      "149 2023-12-24 00:00:00\n",
      "150 2024-01-03 00:00:00\n",
      "151 2024-03-20 00:00:00\n",
      "152 2024-03-28 00:00:00\n",
      "154 2024-04-26 00:00:00\n",
      "155 2024-12-03 00:00:00\n",
      "156 2024-12-09 00:00:00\n",
      "157 2024-12-16 00:00:00\n",
      "159 2025-02-15 00:00:00\n",
      "160 2025-03-06 00:00:00\n",
      "161 2025-03-20 00:00:00\n",
      "162 2025-04-14 00:00:00\n"
     ]
    },
    {
     "data": {
      "text/plain": [
       "Text(0.95, 1.05, 'a')"
      ]
     },
     "execution_count": 127,
     "metadata": {},
     "output_type": "execute_result"
    },
    {
     "data": {
      "image/png": "[encoded data removed]",
      "text/plain": [
       "<Figure size 300x280 with 1 Axes>"
      ]
     },
     "metadata": {},
     "output_type": "display_data"
    }
   ],
   "source": [
    "fig, ax = plt.subplots(figsize=(3,2.8))\n",
    "\n",
    "import matplotlib.colors as colors\n",
    "cnorm = colors.Normalize(vmin=-50, vmax=50)\n",
    "\n",
    "\n",
    "all_cum_ss = np.array([])\n",
    "\n",
    "for ss in all_ss:\n",
    "    \n",
    "   \n",
    "\n",
    "\n",
    "    ii = np.where((dfr['sequence'] == ss)&(dfr['first_day'] == True))[0][0]\n",
    "    ff = np.where((dfr['sequence'] == ss)&(dfr['final_day'] == True))[0][0]\n",
    "    \n",
    "    \n",
    "    st = datetime(2016,11,1)\n",
    "    ed = datetime(2018,5,1)\n",
    "\n",
    "    event_time = pd.to_datetime(dfr['time'][ii:ii+1].values)\n",
    "    \n",
    "    if (event_time > datetime(2015,11,1)):\n",
    "        fc = 'None'\n",
    "        ec = 'darkgray'\n",
    "    else:\n",
    "        fc = 'None'\n",
    "        ec = 'darkgray'\n",
    "        \n",
    "    if (event_time > st) & (event_time < ed):\n",
    "#         print(event_time)\n",
    "        zorder = 1\n",
    "#         ec = 'k'\n",
    "        lw = 1.5\n",
    "        marker='o'\n",
    "\n",
    "    else:\n",
    "        zorder = 1\n",
    "#         ec = 'k'\n",
    "        lw = 1.5\n",
    "        marker='o'\n",
    "        \n",
    "\n",
    "#     cond = (dfr['sequence'] == ss)&(dfr['final_day']==False)\n",
    "#     cum_wind = -np.cumsum(0.02*dfr['u10'][ii:ff+1]*units('m/s').to('km/day').magnitude)\n",
    "    \n",
    "#     cum_u_wind = -np.cumsum(0.02*dfr['u10'][ii:ff+1]*units('m/s').to('km/day').magnitude)\n",
    "#     cum_v_wind = np.cumsum(0.02*dfr['v10'][ii:ff+1]*units('m/s').to('km/day').magnitude)\n",
    "#     cum_wind = np.sqrt(cum_u_wind**2+cum_v_wind**2)\n",
    "    \n",
    "    size = 100\n",
    "    \n",
    "    mean_u = np.mean(dfr['u10'][ii:ff+1])\n",
    "    mean_v = np.mean(dfr['v10'][ii:ff+1])\n",
    "    \n",
    "    \n",
    "    U = -dfr['u10'][ii:ff+1]\n",
    "    V = dfr['v10'][ii:ff+1]\n",
    "    S = np.sqrt(U**2+V**2)#**2\n",
    "    \n",
    "    \n",
    "    sum_u = np.sum(-dfr['u10'][ii:ff+1])\n",
    "    sum_v = np.sum(dfr['v10'][ii:ff+1])\n",
    "    sum_s = np.sqrt(sum_u**2+sum_v**2)\n",
    "    \n",
    "    \n",
    "    mean_s = np.sqrt(mean_u**2+mean_v**2)\n",
    "    \n",
    "    lengths = dfr['length_145max'][ii:ff+1]\n",
    "#     tot_ext = np.sum(dfr['extent'][ii:ff+1]) / 1000\n",
    "    tot_ext = np.sum(dfr['length_145max'][ii:ff+1])\n",
    "    event_duration = dfr['event_day'][ii:ff+1]\n",
    "    \n",
    "    cmap = cmocean.cm.balance\n",
    "    edgecolor = [0.3,0.3,0.3]\n",
    "#     lw = 0.5\n",
    "    size = 30\n",
    "    \n",
    "    angle = vectors.vector_angle(mean_u, mean_v).magnitude\n",
    "    \n",
    "#     plt.scatter(sum_u, sum_v, c=tot_ext,  cmap=cmap,  norm = cnorm, s=size, edgecolor=edgecolor, lw=lw)\n",
    "\n",
    "    X = np.sum(U)\n",
    "\n",
    "    plt.plot(np.cumsum(U), np.cumsum(dfr['length_145max'][ii:ff+1]), c='lightgray', lw=1, ls='solid', zorder=-1)\n",
    "\n",
    "    cmesh = plt.scatter(X, tot_ext, c=fc, marker=marker,  s=size, edgecolor=ec, lw=lw, zorder = zorder)\n",
    "\n",
    "\n",
    "#     cmesh = plt.scatter(X, tot_ext, c=sum_v,  cmap=cmap,  norm = cnorm, s=size, edgecolor=ec, lw=lw, zorder = zorder)\n",
    "\n",
    "    \n",
    "#     if tot_ext > 25000:\n",
    "#         print(dfr['time'][ii:ff])\n",
    "    \n",
    "    \n",
    "    if tot_ext > 28:\n",
    "        print(ss, event_time[0])\n",
    "\n",
    "#     if X > 100:\n",
    "#         print(ss)\n",
    "    \n",
    "    \n",
    "    if ss ==150:\n",
    "        largest = tot_ext\n",
    "    all_cum_ss = np.append(all_cum_ss, tot_ext)\n",
    "    if ss ==99:\n",
    "        aw = tot_ext\n",
    "#     else:\n",
    "#         all_cum_ss = np.append(all_cum_ss, tot_ext)\n",
    "#     lift = -1\n",
    "#     move = 13\n",
    "#     if ss == 92:  \n",
    "#         plt.text(X, tot_ext+lift, \"Jan\\n'18'\", va='bottom', ha='center')\n",
    "#         plt.scatter(X, tot_ext,  facecolor='None', s=size, edgecolor='k', lw=lw)\n",
    "#     if ss == 99:  \n",
    "#         plt.text(X+move, tot_ext+lift, \"Dec\\n'17\", va='bottom', ha='center')\n",
    "#         plt.scatter(X, tot_ext,  facecolor='k', marker=marker,s=size, edgecolor='None', lw=lw)\n",
    "#     if ss == 150:  \n",
    "#         plt.text(X+move, tot_ext+lift, \"Jan\\n'24\", va='bottom', ha='center')\n",
    "#         plt.scatter(X, tot_ext,  facecolor='k',marker=marker, s=size, edgecolor='None', lw=lw)\n",
    "\n",
    "        \n",
    "# ax.set_yscale('log')\n",
    "# ax.set_xscale('log')\n",
    "# plotter.add_colorbar(fig, ax, [cmesh], cb_placement='top', cb_orientation='auto', cb_width='auto', \n",
    "#              cb_length_fraction=[0.1, 0.9], cb_pad=0.025, cb_ticks='auto', cb_ticklabels='auto', cb_extend='neither',\n",
    "#              cb_label='Cumulative southerly wind (m/s)', labelpad='auto', cb_label_placement='auto', cb_tick_placement='auto', \n",
    "#              tick_kwargs=None, cb_labelsize=plt.rcParams[\"font.size\"], draw_edges=False, edge_params=['k', 2])\n",
    "\n",
    "# colors.LogNorm(vmin=data.min(), vmax=data.max())\n",
    "ax.set_xlabel('Cumulative east wind ($\\mathrm{m\\;s^{-1}}$)')\n",
    "ax.set_ylabel('Cumulative\\npolynya\\nextent\\n($\\mathrm{10^{3}\\;km^2}$)', rotation=0, labelpad=30)\n",
    "\n",
    "# ax.set_ylim(-5,120)\n",
    "ax.set_xlim(-10,175)\n",
    "# ax.set_xlim(-10,180)\n",
    "\n",
    "# plt.axvline(100, c='k', ls='dashed')\n",
    "# plt.plot([100,200], [50,50], c='k', ls='dashed')\n",
    "\n",
    "ax.xaxis.set_major_locator(ticker.MultipleLocator(50))\n",
    "ax.xaxis.set_minor_locator(ticker.MultipleLocator(25))\n",
    "\n",
    "ax.yaxis.set_major_locator(ticker.MultipleLocator(40))\n",
    "ax.yaxis.set_minor_locator(ticker.MultipleLocator(20))\n",
    "    \n",
    "    \n",
    "ax.text(0.95,1.05, 'a', weight='bold', size=11, transform=ax.transAxes)\n",
    "\n",
    "# fig.savefig('../figures/results/cum_force_size.png', dpi=400, bbox_inches='tight', pad_inches=0)"
   ]
  },
  {
   "cell_type": "code",
   "execution_count": 119,
   "id": "264b909a",
   "metadata": {},
   "outputs": [
    {
     "data": {
      "text/plain": [
       "4546    2017-12-09\n",
       "4547    2017-12-10\n",
       "4548    2017-12-11\n",
       "4549    2017-12-12\n",
       "4550    2017-12-13\n",
       "4551    2017-12-14\n",
       "4552    2017-12-15\n",
       "4553    2017-12-16\n",
       "4554    2017-12-17\n",
       "4555    2017-12-18\n",
       "4556    2017-12-19\n",
       "4557    2017-12-20\n",
       "4558    2017-12-21\n",
       "4559    2017-12-22\n",
       "4560    2017-12-23\n",
       "4561    2017-12-24\n",
       "4562    2017-12-25\n",
       "4563    2017-12-26\n",
       "4564    2017-12-27\n",
       "Name: time, dtype: object"
      ]
     },
     "execution_count": 119,
     "metadata": {},
     "output_type": "execute_result"
    }
   ],
   "source": [
    "df.time[df.sequence==99]"
   ]
  },
  {
   "cell_type": "code",
   "execution_count": 1261,
   "id": "4e458fbe",
   "metadata": {},
   "outputs": [
    {
     "data": {
      "text/plain": [
       "102.92822815121633"
      ]
     },
     "execution_count": 1261,
     "metadata": {},
     "output_type": "execute_result"
    }
   ],
   "source": [
    "largest"
   ]
  },
  {
   "cell_type": "code",
   "execution_count": 1276,
   "id": "7e48da12",
   "metadata": {},
   "outputs": [
    {
     "data": {
      "text/plain": [
       "3.527850249032664"
      ]
     },
     "execution_count": 1276,
     "metadata": {},
     "output_type": "execute_result"
    }
   ],
   "source": [
    "largest/aw"
   ]
  },
  {
   "cell_type": "code",
   "execution_count": 1273,
   "id": "b3d23a52",
   "metadata": {},
   "outputs": [
    {
     "data": {
      "text/plain": [
       "3.977700101980066"
      ]
     },
     "execution_count": 1273,
     "metadata": {},
     "output_type": "execute_result"
    }
   ],
   "source": [
    "np.nanpercentile(all_cum_ss, 80)"
   ]
  },
  {
   "cell_type": "code",
   "execution_count": 1274,
   "id": "80e1a65b",
   "metadata": {},
   "outputs": [
    {
     "data": {
      "text/plain": [
       "1.156225690459849"
      ]
     },
     "execution_count": 1274,
     "metadata": {},
     "output_type": "execute_result"
    }
   ],
   "source": [
    "largest/np.sum(all_cum_ss[all_cum_ss<3.977700101980066])"
   ]
  },
  {
   "cell_type": "code",
   "execution_count": 1241,
   "id": "d9be4440",
   "metadata": {},
   "outputs": [
    {
     "data": {
      "text/plain": [
       "4361    2016-04-05\n",
       "4362    2016-04-06\n",
       "4363    2016-04-07\n",
       "4364    2016-04-08\n",
       "4365    2016-04-09\n",
       "4366    2016-04-10\n",
       "4367    2016-04-11\n",
       "4368    2016-04-12\n",
       "4369    2016-04-13\n",
       "4370    2016-04-14\n",
       "4371    2016-04-15\n",
       "4372    2016-04-16\n",
       "Name: time, dtype: object"
      ]
     },
     "execution_count": 1241,
     "metadata": {},
     "output_type": "execute_result"
    }
   ],
   "source": [
    "df.time[df['sequence'] == 85]"
   ]
  },
  {
   "cell_type": "code",
   "execution_count": 1239,
   "id": "bd03d344",
   "metadata": {},
   "outputs": [
    {
     "data": {
      "text/plain": [
       "2430    2003-12-11\n",
       "2431    2003-12-12\n",
       "2432    2003-12-13\n",
       "2433    2003-12-14\n",
       "2434    2003-12-15\n",
       "2435    2003-12-16\n",
       "2436    2003-12-17\n",
       "2437    2003-12-18\n",
       "2438    2003-12-19\n",
       "2439    2003-12-20\n",
       "2440    2003-12-21\n",
       "2441    2003-12-22\n",
       "Name: time, dtype: object"
      ]
     },
     "execution_count": 1239,
     "metadata": {},
     "output_type": "execute_result"
    }
   ],
   "source": [
    "df.time[df['sequence'] == 12]"
   ]
  },
  {
   "cell_type": "code",
   "execution_count": 2026,
   "id": "976325f6",
   "metadata": {},
   "outputs": [
    {
     "data": {
      "text/plain": [
       "2278   2002-12-10\n",
       "Name: time, dtype: datetime64[ns]"
      ]
     },
     "execution_count": 2026,
     "metadata": {},
     "output_type": "execute_result"
    }
   ],
   "source": [
    "event_time"
   ]
  },
  {
   "cell_type": "code",
   "execution_count": 2019,
   "id": "91868d09",
   "metadata": {},
   "outputs": [
    {
     "data": {
      "text/plain": [
       "Timestamp('2010-04-14 00:00:00')"
      ]
     },
     "execution_count": 2019,
     "metadata": {},
     "output_type": "execute_result"
    }
   ],
   "source": [
    "pd.to_datetime(dfr['time'][ff])"
   ]
  },
  {
   "cell_type": "code",
   "execution_count": 2021,
   "id": "2467c1c8",
   "metadata": {},
   "outputs": [],
   "source": [
    "st = datetime(2016,11,1)\n",
    "ed = datetime(2018,5,1)\n",
    "\n",
    "event_time = pd.to_datetime(dfr['time'][ff])"
   ]
  },
  {
   "cell_type": "code",
   "execution_count": 2022,
   "id": "31e23dc8",
   "metadata": {},
   "outputs": [],
   "source": [
    "if (event_time > st) & (event_time < ed):\n",
    "    print(event_time)"
   ]
  },
  {
   "cell_type": "code",
   "execution_count": null,
   "id": "69afd9a3",
   "metadata": {},
   "outputs": [],
   "source": []
  },
  {
   "cell_type": "code",
   "execution_count": 11,
   "id": "a186fb37",
   "metadata": {},
   "outputs": [],
   "source": [
    "# cnorm = colors.LogNorm(vmin=0.01, vmax=10e6)\n",
    "# cnorm = colors.Normalize(vmin=500, vmax=5*10e3)"
   ]
  },
  {
   "cell_type": "code",
   "execution_count": 34,
   "id": "9d276da6",
   "metadata": {},
   "outputs": [],
   "source": [
    "colors = {}\n",
    "colors['blue1'] = [45/255,150/255,250/255]\n",
    "colors['blue2'] = [111/255,170/255,220/255]\n",
    "colors['blue3'] = [0/255,129/255,243/255]"
   ]
  },
  {
   "cell_type": "code",
   "execution_count": 35,
   "id": "0ea142d5",
   "metadata": {},
   "outputs": [
    {
     "ename": "NameError",
     "evalue": "name 'daily_data' is not defined",
     "output_type": "error",
     "traceback": [
      "\u001b[0;31m---------------------------------------------------------------------------\u001b[0m",
      "\u001b[0;31mNameError\u001b[0m                                 Traceback (most recent call last)",
      "Cell \u001b[0;32mIn[35], line 1\u001b[0m\n\u001b[0;32m----> 1\u001b[0m all_polynya_sizes \u001b[38;5;241m=\u001b[39m daily_data[\u001b[38;5;124m'\u001b[39m\u001b[38;5;124mpol\u001b[39m\u001b[38;5;124m'\u001b[39m][\u001b[38;5;124m'\u001b[39m\u001b[38;5;124mextent\u001b[39m\u001b[38;5;124m'\u001b[39m][daily_data[\u001b[38;5;124m'\u001b[39m\u001b[38;5;124mpol\u001b[39m\u001b[38;5;124m'\u001b[39m][\u001b[38;5;124m'\u001b[39m\u001b[38;5;124mextent\u001b[39m\u001b[38;5;124m'\u001b[39m]\u001b[38;5;241m>\u001b[39m\u001b[38;5;241m0\u001b[39m]\n\u001b[1;32m      3\u001b[0m plt\u001b[38;5;241m.\u001b[39mhist(all_polynya_sizes)\n",
      "\u001b[0;31mNameError\u001b[0m: name 'daily_data' is not defined"
     ]
    }
   ],
   "source": [
    "all_polynya_sizes = daily_data['pol']['extent'][daily_data['pol']['extent']>0]\n",
    "\n",
    "plt.hist(all_polynya_sizes)"
   ]
  },
  {
   "cell_type": "markdown",
   "id": "5b2c0382",
   "metadata": {},
   "source": [
    "## Grab stats over time by month and year"
   ]
  },
  {
   "cell_type": "code",
   "execution_count": 60,
   "id": "1517ef6e",
   "metadata": {},
   "outputs": [],
   "source": [
    "\n",
    "\n",
    "def plot_angles(ax, X, cond, clip):\n",
    "    label_nums(ax, X, np.sum(cond), clip)\n",
    "    plot_dist(ax, X-0.15, *angle_distribution(dfb, cond, 'atm'), clip, bins = np.arange(0,361,7.5), yscale=1)\n",
    "    plot_dist(ax, X+0.15, *angle_distribution(dfb, cond, 'ice'), clip, bins = np.arange(0,361,7.5), yscale=1)\n",
    "    \n",
    "#     plot_point(ax, X-0.15, *speed_distribution(df_base, cond, 'atm'))\n",
    "#     plot_point(ax, X+0.15, *speed_distribution(df_base, cond, 'ice'))    \n",
    "    \n",
    "        \n",
    "def plot_temps(ax, X, cond, clip):\n",
    "    plot_dist(ax, X, *temp_distribution(df_base, cond), clip, bins = np.arange(-40,0,2), yscale=1)\n",
    "\n",
    "def plot_msls(ax, X, cond, clip):\n",
    "    plot_dist(ax, X, *msl_distribution(df_base, cond), clip, bins = np.arange(980,1060,4), yscale=1)\n",
    "    \n",
    "def plot_speeds(ax, X, cond, clip):\n",
    "    plot_dist(ax, X-0.15, *speed_distribution(dfb, cond, 'atm'), clip, bins = np.arange(0,20,1), yscale=1)\n",
    "    plot_dist(ax, X+0.15, *speed_distribution(dfb, cond, 'ice'), clip, bins = np.arange(0,40,2), yscale=0.5)    \n",
    "\n",
    "#     plot_point(ax, X-0.15, *speed_distribution(df_base, cond, 'atm'))\n",
    "#     plot_point(ax, X+0.15, *speed_distribution(df_base, cond, 'ice'))    \n",
    "    \n",
    "    \n",
    "def plot_dist(ax, X, y, Y, color, bg_color, clip, bins = np.arange(0,40,2), yscale = 1, scale = 5, show_mode = False):\n",
    "    \n",
    "    h = plotter.quick_hist(y, bin_edges=bins)\n",
    "    \n",
    "    if show_mode == True:\n",
    "        ax.scatter(X, h['centers'][np.argmax(h['prob'])], marker='s', edgecolor=color, facecolor='None',clip_on=clip)\n",
    "    else:\n",
    "        ax.scatter(X, yscale*Y, marker='o', edgecolor=color, facecolor='None', s=40, clip_on=clip, zorder=100)\n",
    "        \n",
    "#     ax.scatter(X, h['centers'][np.argmax(h['prob'])], marker='o', edgecolor='None', facecolor=color, s=20, clip_on=clip)\n",
    "    ax.fill_betweenx(yscale*h['edges'][:-1], X - scale*h['prob']/2, X + scale*h['prob']/2, \n",
    "                     lw=0, color=bg_color, alpha=0.5, zorder=-1, clip_on=clip)   \n",
    "    \n",
    "#     ax.barh(h['centers'], scale*h['prob'], height=h['w'], left= X - scale*h['prob']/2, align='center', \n",
    "#             color=bg_color, alpha=0.5, zorder=-1, clip_on=clip)\n",
    "    \n",
    "\n",
    "def plot_point(ax, X, y, Y, color, bg_color):\n",
    "    ax.scatter(X, Y, c=color, clip_on=False)\n",
    "    ax.scatter(np.linspace(X-0.05,X+0.05, len(y)), y, c=bg_color, s=1, zorder=-1, clip_on=False)\n",
    "\n",
    "    \n",
    "def size_distribution(df, cond):\n",
    "\n",
    "    all_sizes = df['extent'][cond]/1000\n",
    "    mean_size = np.nanmean(all_sizes)\n",
    "    print(mean_size)\n",
    "    color = 'k'\n",
    "    bg_color = 'gray'\n",
    "\n",
    "    return all_sizes, mean_size, color, bg_color\n",
    "\n",
    "\n",
    "def msl_distribution(df, cond):\n",
    "\n",
    "    all_ = df['msl'][cond]/100\n",
    "    mean_ = np.nanmean(all_)\n",
    "    color = 'k'\n",
    "    bg_color = 'gray'\n",
    "\n",
    "    return all_, mean_, color, bg_color\n",
    "\n",
    "def temp_distribution(df, cond):\n",
    "\n",
    "    all_ = df['t2m'][cond]\n",
    "    mean_ = np.nanmean(all_)\n",
    "    color = 'k'\n",
    "    bg_color = 'gray'\n",
    "\n",
    "    return all_, mean_, color, bg_color\n",
    "\n",
    "\n",
    "def speed_distribution(df, cond, group):\n",
    "    \n",
    "    if group == 'atm':\n",
    "        all_speeds = df['s10'][cond]\n",
    "        mean_speed = np.nanmean(all_speeds)\n",
    "        color = 'dodgerblue'\n",
    "        bg_color = 'dodgerblue'\n",
    "    else:\n",
    "        all_speeds = df['si'][cond] #* units('cm/s').to('km/day').magnitude\n",
    "        mean_speed = np.nanmean(all_speeds)\n",
    "        color = 'r'\n",
    "        bg_color = 'lightcoral'\n",
    "\n",
    "    return all_speeds, mean_speed, color, bg_color\n",
    "\n",
    "def angle_distribution(df, cond, group):\n",
    "\n",
    "    if group == 'atm':\n",
    "        U = df['u10'][cond]\n",
    "        V = df['v10'][cond]\n",
    "        color = 'dodgerblue'\n",
    "        bg_color = 'dodgerblue'\n",
    "    else:\n",
    "        U = df['ui'][cond]\n",
    "        V = df['vi'][cond]\n",
    "        color = 'r'\n",
    "        bg_color = 'lightcoral'\n",
    "\n",
    "    all_angles = np.array([vectors.vector_angle(u,v).magnitude for u,v in zip(U,V)])\n",
    "    mean_angle = vectors.vector_angle(np.nanmean(U), np.nanmean(V)).magnitude\n",
    "    \n",
    "    if mean_angle < 0:\n",
    "        mean_angle+=360\n",
    "    all_angles[all_angles<0] += 360\n",
    "\n",
    "    return all_angles, mean_angle, color, bg_color\n",
    "\n",
    "def label_nums(ax, x, N, clip):\n",
    "    ax.text(x, -10, N, ha='center',va='bottom', size=5, clip_on=clip)\n",
    "    \n",
    "    \n"
   ]
  },
  {
   "cell_type": "markdown",
   "id": "b0a5f0e0",
   "metadata": {},
   "source": [
    "### Identify which days to include for each event"
   ]
  },
  {
   "cell_type": "code",
   "execution_count": null,
   "id": "7dca55f2",
   "metadata": {},
   "outputs": [],
   "source": []
  },
  {
   "cell_type": "code",
   "execution_count": 62,
   "id": "c68cae45",
   "metadata": {},
   "outputs": [
    {
     "name": "stderr",
     "output_type": "stream",
     "text": [
      "<>:151: SyntaxWarning: invalid escape sequence '\\m'\n",
      "<>:151: SyntaxWarning: invalid escape sequence '\\m'\n",
      "/var/folders/p8/hz449fpx6nscv0jb1klyfqb40000gp/T/ipykernel_25941/112229227.py:151: SyntaxWarning: invalid escape sequence '\\m'\n",
      "  ax.set_ylabel('Polynya\\nextent\\n($\\\\times\\mathrm{10^3\\;km^2}$)', rotation=0, labelpad=25, va='center')\n"
     ]
    },
    {
     "name": "stdout",
     "output_type": "stream",
     "text": [
      "13\n",
      "135\n"
     ]
    },
    {
     "data": {
      "text/plain": [
       "Text(9.75, 207, 'After')"
      ]
     },
     "execution_count": 62,
     "metadata": {},
     "output_type": "execute_result"
    },
    {
     "data": {
      "image/png": "[encoded data removed]",
      "text/plain": [
       "<Figure size 275x600 with 4 Axes>"
      ]
     },
     "metadata": {},
     "output_type": "display_data"
    }
   ],
   "source": [
    "fig, axs = plt.subplots(4,1,figsize=(2.75,6), gridspec_kw={'height_ratios':[0.75,1,1,1]})\n",
    "\n",
    "\n",
    "#=============\n",
    "L = 6\n",
    "#=============\n",
    "\n",
    "\n",
    "#=============\n",
    "DF = dfb\n",
    "#=============\n",
    "print(len(list(set(DF['sequence'][DF['event_length']>L]))))\n",
    "print(len(list(set(DF['sequence'][DF['event_length']<=L]))))\n",
    "\n",
    "shoulder = (DF['season_start_flag'] + DF['season_end_flag'])\n",
    "\n",
    "\n",
    "comp_ = (DF.extent==0)\n",
    "comp_[(DF.day_before_event>=-3)]=False\n",
    "comp_[(DF.day_after_event<=2)&(DF.day_after_event>-999)]=False\n",
    "\n",
    "def plot_percentiles(ax, x, data, c='r'):\n",
    "    ax.scatter(x, np.nanpercentile(data, 50), s=10, c=c)\n",
    "    ax.scatter(x, np.nanpercentile(data, 25), s=5, c=c)\n",
    "    ax.scatter(x, np.nanpercentile(data, 75), s=5, c=c)\n",
    "    \n",
    "def plot_means(ax, x, data, c='r'):\n",
    "    ax.scatter(x, np.nanmean(data), s=10, c=c)\n",
    "    ax.scatter(x, np.nanmean(data)+np.nanstd(data), s=5, c=c)\n",
    "    ax.scatter(x, np.nanmean(data)-np.nanstd(data), s=5, c=c)\n",
    "    \n",
    "    \n",
    "days_before = np.array([-4,-3,-2,-1])\n",
    "labels_before = np.array(['$t_{i}$'f'\\n{dd}' for dd in days_before])\n",
    "conds_before = [(DF['day_before_event'] == dd)&(DF['before_event_length']>1) for dd in days_before]\n",
    "\n",
    "days_during = np.arange(1,L+1)\n",
    "labels_during = np.array([f'{dd}' for dd in days_during])\n",
    "conds_during = [((DF['event_day'] == dd)&(shoulder==False))&(DF['final_day'] == False) for dd in days_during]\n",
    "conds_during[0] = ((DF['event_day'] == 1)&(DF['season_start_flag']==False))&(DF['single_day']==False)\n",
    "\n",
    "\n",
    "days_more = np.array([L+1])\n",
    "labels_more = np.array([f'{L+1}+'])\n",
    "conds_more = [((DF['event_day'] > L)&(DF['final_day'] == False))&(shoulder==False)]\n",
    "\n",
    "# conds_more = [((df['final_day'] == True)&(df['first_day']==False))]\n",
    "\n",
    "day_final = np.array([L+2])\n",
    "labels_final = np.array(['$t_{f}$'])\n",
    "conds_final = [((DF['final_day'] == True)&(shoulder==False))&(DF['single_day']==False)]   \n",
    "\n",
    "days_after = np.array([1,2,3])\n",
    "labels_after = np.array(['$t_{f}$'f'\\n+{dd}' for dd in days_after])\n",
    "conds_after = [(DF['day_after_event'] == dd)&(DF['after_event_length']>1) for dd in days_after]   \n",
    "\n",
    "\n",
    "x_values = np.concatenate((1+days_before, days_during, days_more, day_final, 2+L+days_after))\n",
    "x_labels = np.concatenate((labels_before, labels_during, labels_more, labels_final, labels_after))\n",
    "all_cond = np.concatenate((conds_before, conds_during, conds_more, conds_final, conds_after))\n",
    "\n",
    "    \n",
    "    \n",
    "color1 = [50/255,115/255, 255/255]   \n",
    "color2 = [137/255,173/255, 255/255]   \n",
    "    \n",
    "    \n",
    "ax = axs[0]\n",
    "# ax.axhline(len(list(set(df.sequence))), c='lightgray', zorder=-10)\n",
    "ax.set_ylim(0,170)\n",
    "ax.set_yticks([])\n",
    "ax.set_ylabel('Days', rotation=0, labelpad=20, va='center')\n",
    "for dd, cond in zip(x_values[1:-1], all_cond[1:-1]):\n",
    "    \n",
    "    if (dd >0)&(dd < 9):\n",
    "        ax.bar(dd, np.sum(cond), color=color1)\n",
    "        ax.text(dd, np.sum(cond)+5, np.sum(cond), \n",
    "                color=color1, va='bottom', ha='center', size=7.5)\n",
    "    else:\n",
    "        ax.bar(dd, np.sum(cond), color=color2)\n",
    "        ax.text(dd, np.sum(cond)+5, np.sum(cond), \n",
    "                color=color2, va='bottom', ha='center', size=7.5)\n",
    "ax.text(-2, 140, f'N={np.sum(comp_):.0f}', c='k', size = 7.5,zorder=0)\n",
    "\n",
    "\n",
    "for ax in axs:\n",
    "    ax.set_xlim(x_values.min()-0.75+1.25, x_values.max()+0.75-1.25)\n",
    "    ax.set_xticks(x_values[1:-1])\n",
    "    ax.set_xticklabels([])\n",
    "axs[-1].set_xticklabels(x_labels[1:-1]);\n",
    "# plt.xticks(fontsize=9)\n",
    "\n",
    "\n",
    "\n",
    "for ax in axs[2:]:\n",
    "    ax.set_ylim(0,1.05)\n",
    "    ax.yaxis.set_major_locator(ticker.MultipleLocator(0.5))\n",
    "    ax.yaxis.set_minor_locator(ticker.MultipleLocator(0.1))\n",
    "\n",
    "\n",
    "axs[2].set_ylabel('Alongshore\\nwind event\\nprobability', rotation=0, labelpad=30)\n",
    "axs[3].set_ylabel('Alongshore\\nice drift\\nprobability', rotation=0, labelpad=30)\n",
    "\n",
    "ax = axs[2]\n",
    "\n",
    "for ax, cat in zip(axs[2:], ['wind', 'ice']):\n",
    "    \n",
    "    wind_prob = np.array([])\n",
    "    for dd, cond in zip(x_values, all_cond):\n",
    "        cond1 = cond & (dir_conds(DF, cat))& speed_conds(DF, cat)\n",
    "        wind_prob = np.append(wind_prob, np.sum(cond1)/np.sum(cond))\n",
    "        \n",
    "    width = 0.75    \n",
    "        \n",
    "    ax.bar(x_values[4:-3], wind_prob[4:-3], width=width,color = color1, ls='solid',  alpha=0.5, zorder=1)\n",
    "    ax.bar(x_values[:4], wind_prob[:4],width=width, color = color2, ls='solid',  alpha=0.5, zorder=1)\n",
    "    ax.bar(x_values[-3:], wind_prob[-3:],width=width, color = color2, ls='solid',  alpha=0.5, zorder=1)\n",
    "    \n",
    "    \n",
    "    ax.bar(x_values[4:-3], wind_prob[4:-3], width=width,facecolor='None', edgecolor = color1, ls='solid', lw=1.5, alpha=1, zorder=1)\n",
    "    ax.bar(x_values[:4], wind_prob[:4], width=width,facecolor='None', edgecolor = color2, ls='solid', lw=1.5, alpha=1, zorder=1)\n",
    "    ax.bar(x_values[-3:], wind_prob[-3:], width=width,facecolor='None', edgecolor = color2, ls='solid', lw=1.5, alpha=1, zorder=1)\n",
    "    \n",
    "#     ax.plot(x_values, wind_prob, color = 'k', ls='solid', marker='s', alpha=1, zorder=1)\n",
    "\n",
    "    cond = comp_\n",
    "    cond1 = cond & (dir_conds(DF, cat)&speed_conds(DF, cat))\n",
    "    ax.axhline(np.sum(cond1)/np.sum(cond), ls='dashed', lw=1.5,  c = 'k', zorder=2)\n",
    "\n",
    "\n",
    "\n",
    "\n",
    "    \n",
    "axs[-1].set_xlabel('Event day')\n",
    "\n",
    "for aa, ax in enumerate(axs):\n",
    "#     ax.text(1.01, 0.95, '(a)', ha='left', va='top', weight='bold', clip_on=False, transform = ax.transAxes)\n",
    "    if aa == 0:\n",
    "        ax.text(0.975, 0.99, f'{chr(97+aa)}', \n",
    "                ha='right', va='top', weight='bold', clip_on=False, transform = ax.transAxes)\n",
    "\n",
    "    else:\n",
    "        ax.text(0.975, 0.95, f'{chr(97+aa)}', \n",
    "                ha='right', va='top', weight='bold', clip_on=False, transform = ax.transAxes)\n",
    "\n",
    "    \n",
    "C = 'k'\n",
    "\n",
    "ax = axs[1]\n",
    "ax.set_ylim(-0.15,5)\n",
    "ax.set_ylabel('Polynya\\nextent\\n($\\\\times\\mathrm{10^3\\;km^2}$)', rotation=0, labelpad=25, va='center')\n",
    "VAR = 'extent'\n",
    "for dd, cond in zip(x_values, all_cond):\n",
    "    \n",
    "    bf=0.25\n",
    "    \n",
    "    if (dd >= 1)&(dd<9):\n",
    "        color = color1\n",
    "    else:\n",
    "        color = color2\n",
    "        \n",
    "#     ax.scatter(np.linspace(dd-bf,dd+bf, np.sum(cond)), DF[VAR][cond]/10e2,\n",
    "#                c=color, s=5, zorder=1)\n",
    "    \n",
    "    LW = 1.25\n",
    "    \n",
    "    bottom = np.nanpercentile(DF[VAR][cond], 25)/10e2\n",
    "    middle = np.nanpercentile(DF[VAR][cond], 50)/10e2\n",
    "    top = np.nanpercentile(DF[VAR][cond], 75)/10e2\n",
    "    high = np.nanpercentile(DF[VAR][cond], 90)/10e2\n",
    "    low = np.nanpercentile(DF[VAR][cond], 10)/10e2\n",
    "    height=(top-bottom)\n",
    "    rectangle = patches.Rectangle((dd-bf, bottom), 2*bf, height, lw=LW, edgecolor='None', facecolor=color, alpha=0.5)\n",
    "    ax.add_patch(rectangle)\n",
    "    rectangle = patches.Rectangle((dd-bf, bottom), 2*bf, height, lw=LW, edgecolor=color, facecolor='None')\n",
    "    ax.add_patch(rectangle)\n",
    "#     ax.plot(rectangle)\n",
    "    \n",
    "    ax.plot([dd-bf,dd+bf],[middle, middle], c = color, lw=2*LW, zorder=1)\n",
    "    ax.plot([dd,dd],[top, high], c = color, lw=LW, zorder=1)\n",
    "    ax.plot([dd,dd],[low, bottom], c = color, lw=LW, zorder=1)\n",
    "    \n",
    "    bb = bf/2\n",
    "    ax.plot([dd-bb,dd+bb],[high, high], c = color, lw=LW, zorder=1)\n",
    "    ax.plot([dd-bb,dd+bb],[low, low], c = color, lw=LW, zorder=1)\n",
    "    \n",
    "#     ax.plot([dd,dd],[np.nanpercentile(DF[VAR][cond], 25)/10e2,\n",
    "#             np.nanpercentile(DF[VAR][cond], 75)/10e2], c=color, zorder=1)\n",
    "    \n",
    "#     ax.plot([dd,dd],[np.nanpercentile(DF[VAR][cond], 10)/10e2,\n",
    "#             np.nanpercentile(DF[VAR][cond], 90)/10e2], c=color, zorder=1)\n",
    "\n",
    "ax.yaxis.set_major_locator(ticker.MultipleLocator(5))\n",
    "ax.yaxis.set_minor_locator(ticker.MultipleLocator(1))\n",
    "    \n",
    "    \n",
    "# Get the y-axis tick labels\n",
    "xtick_labels = axs[-1].get_xticklabels()\n",
    "\n",
    "# Change the color of specific y-axis tick labels\n",
    "# for i, label in enumerate(xtick_labels):\n",
    "#     if (i >=3)&(i<11):  # Change every other y-axis label to green\n",
    "#         label.set_color(color1)\n",
    "#     else:\n",
    "#         label.set_color(color2)\n",
    "\n",
    "        \n",
    "ax = axs[0]\n",
    "\n",
    "yy = 200\n",
    "ax.plot([0.8,8.2], [yy,yy], c=color1, lw=5, clip_on=False)\n",
    "ax.text(4.5,yy+7, 'During event', weight='bold', c=color1, va='bottom', ha='center', clip_on=False)\n",
    "ax.plot([-2.4,0.2], [yy,yy], c=color2, lw=5, clip_on=False)\n",
    "ax.text(-1,yy+7, 'Before', weight='bold', c=color2, va='bottom', ha='center', clip_on=False)\n",
    "ax.plot([8.8,10.4], [yy,yy], c=color2, lw=5, clip_on=False)\n",
    "ax.text(9.75,yy+7, 'After', weight='bold', c=color2, va='bottom', ha='center', clip_on=False)\n",
    "# fig.savefig('../figures/results/comp_time.png', dpi=400, bbox_inches='tight')"
   ]
  },
  {
   "cell_type": "code",
   "execution_count": 538,
   "id": "c9391c03",
   "metadata": {},
   "outputs": [
    {
     "name": "stderr",
     "output_type": "stream",
     "text": [
      "<>:112: SyntaxWarning: invalid escape sequence '\\m'\n",
      "<>:127: SyntaxWarning: invalid escape sequence '\\m'\n",
      "<>:147: SyntaxWarning: invalid escape sequence '\\m'\n",
      "<>:202: SyntaxWarning: invalid escape sequence '\\m'\n",
      "<>:112: SyntaxWarning: invalid escape sequence '\\m'\n",
      "<>:127: SyntaxWarning: invalid escape sequence '\\m'\n",
      "<>:147: SyntaxWarning: invalid escape sequence '\\m'\n",
      "<>:202: SyntaxWarning: invalid escape sequence '\\m'\n",
      "/var/folders/p8/hz449fpx6nscv0jb1klyfqb40000gp/T/ipykernel_48178/505133768.py:112: SyntaxWarning: invalid escape sequence '\\m'\n",
      "  ax.set_ylabel('Polynya\\nextent\\n($\\\\times\\mathrm{10^3\\;km^2}$)')\n",
      "/var/folders/p8/hz449fpx6nscv0jb1klyfqb40000gp/T/ipykernel_48178/505133768.py:127: SyntaxWarning: invalid escape sequence '\\m'\n",
      "  ax.set_ylabel('Wind speed\\n($\\mathrm{m\\;s^{-1}}$)')\n",
      "/var/folders/p8/hz449fpx6nscv0jb1klyfqb40000gp/T/ipykernel_48178/505133768.py:147: SyntaxWarning: invalid escape sequence '\\m'\n",
      "  ax.set_ylabel('Ice speed\\n($\\mathrm{km\\;d^{-1}}$)')\n",
      "/var/folders/p8/hz449fpx6nscv0jb1klyfqb40000gp/T/ipykernel_48178/505133768.py:202: SyntaxWarning: invalid escape sequence '\\m'\n",
      "  ax.set_ylabel('$\\mathrm{T_{a}\\;(^{\\circ}C}$)')\n"
     ]
    },
    {
     "name": "stdout",
     "output_type": "stream",
     "text": [
      "13\n",
      "133\n"
     ]
    },
    {
     "data": {
      "image/png": "[encoded data removed]",
      "text/plain": [
       "<Figure size 275x700 with 6 Axes>"
      ]
     },
     "metadata": {},
     "output_type": "display_data"
    }
   ],
   "source": [
    "fig, axs = plt.subplots(6,1,figsize=(2.75,7), gridspec_kw={'height_ratios':[0.75,1,1,1,1,1]})\n",
    "\n",
    "\n",
    "#=============\n",
    "L = 6\n",
    "#=============\n",
    "\n",
    "var = 't2m'\n",
    "\n",
    "#=============\n",
    "DF = dfb\n",
    "#=============\n",
    "print(len(list(set(DF['sequence'][DF['event_length']>L]))))\n",
    "print(len(list(set(DF['sequence'][DF['event_length']<=L]))))\n",
    "\n",
    "shoulder = (DF['season_start_flag'] + DF['season_end_flag'])\n",
    "\n",
    "\n",
    "comp_ = (DF.extent==0)\n",
    "\n",
    "def plot_percentiles(ax, x, data, c='r'):\n",
    "    ax.scatter(x, np.nanpercentile(data, 50), s=10, c=c)\n",
    "    ax.scatter(x, np.nanpercentile(data, 25), s=5, c=c)\n",
    "    ax.scatter(x, np.nanpercentile(data, 75), s=5, c=c)\n",
    "    \n",
    "def plot_means(ax, x, data, c='r'):\n",
    "    ax.scatter(x, np.nanmean(data), s=10, c=c)\n",
    "    ax.scatter(x, np.nanmean(data)+np.nanstd(data), s=5, c=c)\n",
    "    ax.scatter(x, np.nanmean(data)-np.nanstd(data), s=5, c=c)\n",
    "    \n",
    "    \n",
    "    \n",
    "days_before = np.array([-4,-3,-2,-1])\n",
    "labels_before = np.array(['$t_{i}$'f'\\n{dd}' for dd in days_before])\n",
    "conds_before = [(DF['day_before_event'] == dd)&(DF['before_event_length']>1) for dd in days_before]\n",
    "\n",
    "days_during = np.arange(1,L+1)\n",
    "labels_during = np.array([f'{dd}' for dd in days_during])\n",
    "conds_during = [((DF['event_day'] == dd)&(shoulder==False))&(DF['final_day'] == False) for dd in days_during]\n",
    "conds_during[0] = ((DF['event_day'] == 1)&(DF['season_start_flag']==False))&(DF['single_day']==False)\n",
    "\n",
    "\n",
    "days_more = np.array([L+1])\n",
    "labels_more = np.array([f'{L+1}+'])\n",
    "conds_more = [((DF['event_day'] > L)&(DF['final_day'] == False))&(shoulder==False)]\n",
    "\n",
    "# conds_more = [((df['final_day'] == True)&(df['first_day']==False))]\n",
    "\n",
    "day_final = np.array([L+2])\n",
    "labels_final = np.array(['$t_{f}$'])\n",
    "conds_final = [((DF['final_day'] == True)&(shoulder==False))&(DF['single_day']==False)]   \n",
    "\n",
    "days_after = np.array([1,2,3])\n",
    "labels_after = np.array(['$t_{f}$'f'\\n+{dd}' for dd in days_after])\n",
    "conds_after = [(DF['day_after_event'] == dd)&(DF['after_event_length']>1) for dd in days_after]   \n",
    "\n",
    "\n",
    "x_values = np.concatenate((1+days_before, days_during, days_more, day_final, 2+L+days_after))\n",
    "x_labels = np.concatenate((labels_before, labels_during, labels_more, labels_final, labels_after))\n",
    "all_cond = np.concatenate((conds_before, conds_during, conds_more, conds_final, conds_after))\n",
    "\n",
    "\n",
    "\n",
    "\n",
    "\n",
    "\n",
    "    \n",
    "ax = axs[0]\n",
    "# ax.axhline(len(list(set(df.sequence))), c='lightgray', zorder=-10)\n",
    "ax.set_ylim(0,170)\n",
    "ax.set_yticks([])\n",
    "ax.set_ylabel('Days')\n",
    "for dd, cond in zip(x_values[1:-1], all_cond[1:-1]):\n",
    "    ax.bar(dd, np.sum(cond), color='k')\n",
    "    ax.text(dd, np.sum(cond)+5, np.sum(cond), \n",
    "            color='k', va='bottom', ha='center', size=7)\n",
    "ax.text(-2, 140, f'N={np.sum(comp_):.0f}', c='royalblue', size = 7,zorder=0)\n",
    "\n",
    "\n",
    "for ax in axs:\n",
    "    ax.set_xlim(x_values.min()-0.75+1.25, x_values.max()+0.75-1.25)\n",
    "    ax.set_xticks(x_values[1:-1])\n",
    "    ax.set_xticklabels([])\n",
    "axs[-1].set_xticklabels(x_labels[1:-1]);\n",
    "# plt.xticks(fontsize=9)\n",
    "\n",
    "# for dd, cond in zip(x_values, all_cond):\n",
    "#     angles = np.copy(df['a10'][cond])\n",
    "#     angles[angles<0]+=360\n",
    "#     angle_of_mean = vectors.vector_angle(np.nanmean(df['u10'][cond]), np.nanmean(df['v10'][cond])).magnitude\n",
    "#     if angle_of_mean < 0:\n",
    "#         angle_of_mean+=360\n",
    "#     plot_dist(ax, dd, angles, angle_of_mean, \n",
    "#           'r', 'lightcoral', False, bins = np.arange(0, 361,10), yscale = 1, scale=3, show_mode=False)\n",
    "    \n",
    "# for dd, cond in zip(x_values, all_cond):\n",
    "#     angles = np.copy(df['ai'][cond])\n",
    "#     angles[angles<0]+=360\n",
    "#     angle_of_mean = vectors.vector_angle(np.nanmean(df['ui'][cond]), np.nanmean(df['vi'][cond])).magnitude\n",
    "#     if angle_of_mean < 0:\n",
    "#         angle_of_mean+=360\n",
    "#     plot_dist(ax, dd, angles, angle_of_mean, \n",
    "#           'b', 'dodgerblue', False, bins = np.arange(0, 361,10), yscale = 1, scale=3)\n",
    "\n",
    "\n",
    "# plt.axhline(165, c='k', ls='dashed', zorder=-1)\n",
    "\n",
    "C = 'k'\n",
    "\n",
    "ax = axs[5]\n",
    "ax.set_ylim(-0.1,4)\n",
    "ax.set_ylabel('Polynya\\nextent\\n($\\\\times\\mathrm{10^3\\;km^2}$)')\n",
    "VAR = 'extent'\n",
    "for dd, cond in zip(x_values, all_cond):\n",
    "    ax.scatter(dd,np.nanpercentile(DF[VAR][cond], 50)/10e2, facecolor = 'k', edgecolor=C, s=30, zorder=1)\n",
    "#     ax.plot([dd,dd],[np.nanpercentile(DF[VAR][cond], 5)/10e2,\n",
    "#             np.nanpercentile(DF[VAR][cond], 95)/10e2], c='darkgray', zorder=1)\n",
    "    ax.plot([dd,dd],[np.nanpercentile(DF[VAR][cond], 25)/10e2,\n",
    "            np.nanpercentile(DF[VAR][cond], 75)/10e2], c=C, zorder=1)\n",
    "ax.axhline(0, c='royalblue', zorder=-1)\n",
    "    \n",
    "    \n",
    "C = 'k'\n",
    "\n",
    "ax = axs[2]\n",
    "ax.set_ylim(0,15)\n",
    "ax.set_ylabel('Wind speed\\n($\\mathrm{m\\;s^{-1}}$)')\n",
    "VAR = 's10'\n",
    "for dd, cond in zip(x_values, all_cond):\n",
    "    ax.scatter(dd,np.nanpercentile(DF[VAR][cond], 50), facecolor = C, edgecolor=C, s=30, zorder=1)\n",
    "#     ax.plot([dd,dd],[np.nanpercentile(DF[VAR][cond], 5),\n",
    "#             np.nanpercentile(DF[VAR][cond], 95)], c='darkgray', zorder=1)\n",
    "    ax.plot([dd,dd],[np.nanpercentile(DF[VAR][cond], 25),\n",
    "            np.nanpercentile(DF[VAR][cond], 75)], c=C, zorder=1)\n",
    "    \n",
    "ax.axhline(np.nanpercentile(DF[VAR][DF.extent==0], 50), c='royalblue', zorder=-1)\n",
    "ax.fill_between(x=ax.get_xlim(), \n",
    "                y1=np.nanpercentile(DF[VAR][DF.extent==0], 25), \n",
    "                y2=np.nanpercentile(DF[VAR][DF.extent==0], 75), \n",
    "                color='royalblue',  lw=0,\n",
    "                interpolate=True, alpha=0.25, zorder=-2)\n",
    "# ax.axhline(7, c='gray', ls='dotted', zorder=1)\n",
    "# ax.text(7.35, 7.5, '$\\mathrm{7\\;m\\;s^{-1}}$', c='gray',size = 9.5, zorder=0)\n",
    "\n",
    "ax = axs[3]\n",
    "ax.set_ylim(0,25)\n",
    "ax.set_ylabel('Ice speed\\n($\\mathrm{km\\;d^{-1}}$)')\n",
    "VAR = 'si_km'\n",
    "for dd, cond in zip(x_values, all_cond):\n",
    "    ax.scatter(dd,np.nanpercentile(DF[VAR][cond], 50), facecolor = C, edgecolor=C, s=30, zorder=1)\n",
    "#     ax.plot([dd,dd],[np.nanpercentile(DF[VAR][cond], 5),\n",
    "#             np.nanpercentile(DF[VAR][cond], 95)], c='darkgray', zorder=1)\n",
    "    ax.plot([dd,dd],[np.nanpercentile(DF[VAR][cond], 25),\n",
    "            np.nanpercentile(DF[VAR][cond], 75)], c=C, zorder=1)\n",
    "    \n",
    "ax.axhline(np.nanpercentile(DF[VAR][DF.extent==0], 50), c='royalblue', zorder=-1)\n",
    "ax.fill_between(x=ax.get_xlim(), \n",
    "                y1=np.nanpercentile(DF[VAR][DF.extent==0], 25), \n",
    "                y2=np.nanpercentile(DF[VAR][DF.extent==0], 75), \n",
    "                color='royalblue',  lw=0,\n",
    "                interpolate=True, alpha=0.25, zorder=-2)\n",
    "\n",
    "# ax.axhline(10, c='gray', ls='dotted', zorder=0)\n",
    "# ax.text(3, 5.25, '$\\mathrm{10\\;km\\;d^{-1}}$', c='gray', size = 9.5,zorder=0)\n",
    "ax.yaxis.set_major_locator(ticker.MultipleLocator(10))\n",
    "ax.yaxis.set_minor_locator(ticker.MultipleLocator(5))\n",
    "\n",
    "ax = axs[1]\n",
    "ax.set_ylabel('Alongshore\\nprobability')\n",
    "ax.set_ylim(-0.05,1.05)\n",
    "ax.plot([-1.5,-0.5],[.075,.075], c='k', ls='dashed', dashes=(2, 1), zorder=1)\n",
    "ax.plot([2.5,3.5],[.075,.075], c='k', ls='solid', zorder=1)\n",
    "ax.text(-0.25, 0.15, 'Wind', size = 8.5, va = 'top', ha='left', c='k', zorder=0)\n",
    "ax.text(3.75, 0.15, 'Pack ice drift', size = 8.5,va = 'top', ha='left',  c='k', zorder=0)\n",
    "\n",
    "\n",
    "ice_prob = np.array([])\n",
    "wind_prob = np.array([])\n",
    "for dd, cond in zip(x_values, all_cond):\n",
    "    \n",
    "    cond1 = cond & (dir_conds(DF, 'ice')&speed_conds(DF, 'ice'))\n",
    "    cond2 = cond & (dir_conds(DF, 'wind')&speed_conds(DF, 'wind'))\n",
    "    \n",
    "    ice_prob = np.append(ice_prob, np.sum(cond1)/np.sum(cond))\n",
    "    wind_prob = np.append(wind_prob, np.sum(cond2)/np.sum(cond))\n",
    "    \n",
    "ax.plot(x_values, ice_prob, color = 'k', alpha=1, zorder=1)\n",
    "ax.plot(x_values, wind_prob, color = 'k', ls='dashed', dashes=(2, 1), alpha=1, zorder=1)\n",
    "\n",
    "    \n",
    "cond = comp_\n",
    "cond1 = cond & (dir_conds(DF, 'ice')&speed_conds(DF, 'ice'))\n",
    "cond2 = cond & (dir_conds(DF, 'wind')&speed_conds(DF, 'wind'))\n",
    "ax.axhline(np.sum(cond2)/np.sum(cond), c = 'royalblue', zorder=-2)\n",
    "ax.axhline(np.sum(cond1)/np.sum(cond), c = 'royalblue', ls='dashed',dashes=(2, 1), zorder=-2)\n",
    "\n",
    "\n",
    "\n",
    "    \n",
    "ax = axs[4]\n",
    "ax.set_ylim(-26,-10)\n",
    "ax.set_ylabel('$\\mathrm{T_{a}\\;(^{\\circ}C}$)')\n",
    "VAR = 't2m'\n",
    "for dd, cond in zip(x_values, all_cond):\n",
    "    ax.scatter(dd,np.nanpercentile(DF[VAR][cond], 50), facecolor = C, edgecolor=C, s=30, zorder=1)\n",
    "#     ax.plot([dd,dd],[np.nanpercentile(DF[VAR][cond], 5),\n",
    "#             np.nanpercentile(DF[VAR][cond], 95)], c='darkgray', zorder=1)\n",
    "    ax.plot([dd,dd],[np.nanpercentile(DF[VAR][cond], 25),\n",
    "            np.nanpercentile(DF[VAR][cond], 75)], c=C, zorder=1)\n",
    "    \n",
    "ax.axhline(np.nanpercentile(DF[VAR][DF.extent==0], 50), c='royalblue', zorder=-1)\n",
    "ax.fill_between(x=ax.get_xlim(), \n",
    "                y1=np.nanpercentile(DF[VAR][DF.extent==0], 25), \n",
    "                y2=np.nanpercentile(DF[VAR][DF.extent==0], 75), \n",
    "                color='royalblue',  lw=0,\n",
    "                interpolate=True, alpha=0.25, zorder=-2)\n",
    "ax.yaxis.set_major_locator(ticker.MultipleLocator(10))\n",
    "ax.yaxis.set_minor_locator(ticker.MultipleLocator(2))\n",
    "    \n",
    "    \n",
    "    \n",
    "    \n",
    "axs[-1].set_xlabel('Event day')\n",
    "#     plot_dist(ax, dd, df['t2m'][cond], np.nanmean(df['t2m'][cond]), \n",
    "#           'r', 'lightcoral', True, bins = np.arange(-36,4,2), yscale = 1)\n",
    "    \n",
    "    \n",
    "# ax = axs[4]\n",
    "# ax.set_ylim(-500,10000)\n",
    "# for dd, cond in zip(x_values, all_cond):\n",
    "#     ax.axhline(np.nanmean(df['extent'][df.extent==0]), c='r', zorder=-1)\n",
    "#     plot_dist(ax, dd, df['extent'][cond], np.nanmean(df['extent'][cond]), \n",
    "#           'r', 'lightcoral', True, bins = np.arange(0,25000,500), yscale = 1)\n",
    "\n",
    "\n",
    "for aa, ax in enumerate(axs):\n",
    "#     ax.text(1.01, 0.95, '(a)', ha='left', va='top', weight='bold', clip_on=False, transform = ax.transAxes)\n",
    "    if aa == 0:\n",
    "        ax.text(0.975, 0.99, f'{chr(97+aa)}', ha='right', va='top', weight='bold', clip_on=False, transform = ax.transAxes)\n",
    "\n",
    "    else:\n",
    "        ax.text(0.975, 0.95, f'{chr(97+aa)}', ha='right', va='top', weight='bold', clip_on=False, transform = ax.transAxes)\n",
    "\n",
    "    \n",
    "# plt.ylim(-10,300)\n",
    "#     plt.scatter(dd, np.nanmean(df['esei'][(df['event_day'] == dd)&(shoulder==False)]), color = 'k')\n",
    "\n",
    "\n",
    "# fig.savefig('../figures/results/comp_time_v4.png', dpi=400, bbox_inches='tight')"
   ]
  },
  {
   "cell_type": "code",
   "execution_count": 539,
   "id": "7aec2733",
   "metadata": {},
   "outputs": [
    {
     "name": "stdout",
     "output_type": "stream",
     "text": [
      "10.97569646345195\n",
      "6.508233014464062\n"
     ]
    }
   ],
   "source": [
    "\n",
    "#=============\n",
    "DF = dfb\n",
    "#=============\n",
    "\n",
    "# not_last_day = (DF.final_day == False)\n",
    "# not_last_day[DF.single_day == True] == True\n",
    "\n",
    "not_last_day = (DF.final_day == False)\n",
    "not_last_day[DF.single_day == True] = True\n",
    "\n",
    "print(np.nanpercentile(DF.si_km[((DF.extent > 0)&(not_last_day))+(DF.day_before_event==-1)], 25))\n",
    "print(np.nanpercentile(DF.s10[((DF.extent > 0)&(not_last_day))+(DF.day_before_event==-1)], 25))\n",
    "\n",
    "# print(np.nanpercentile(DF.si_km[((DF.extent > 0)&(not_last_day))], 25))\n",
    "# print(np.nanpercentile(DF.s10[((DF.extent > 0)&(not_last_day))], 25))\n",
    "\n"
   ]
  },
  {
   "cell_type": "code",
   "execution_count": 540,
   "id": "28bc2409",
   "metadata": {},
   "outputs": [
    {
     "data": {
      "text/plain": [
       "8.368934065296683"
      ]
     },
     "execution_count": 540,
     "metadata": {},
     "output_type": "execute_result"
    }
   ],
   "source": [
    "np.nanpercentile(DF.s10[DF.extent == 0], 85)"
   ]
  },
  {
   "cell_type": "code",
   "execution_count": 541,
   "id": "0a41e20c",
   "metadata": {},
   "outputs": [],
   "source": [
    "cond = (DF.extent==0)\n",
    "cond1 = cond & (dir_conds(DF, 'wind') & speed_conds(DF, 'wind'))\n",
    "cond2 = cond & (dir_conds(DF, 'wind'))\n",
    "# ax.axhline(dd,np.sum(cond2)/np.sum(cond), color = 'royalblue', alpha=0.2,  zorder=1)\n",
    "# ax.axhline(dd,np.sum(cond1)/np.sum(cond), color = 'royalblue', zorder=1)"
   ]
  },
  {
   "cell_type": "code",
   "execution_count": 1903,
   "id": "b3414b34",
   "metadata": {},
   "outputs": [
    {
     "data": {
      "text/plain": [
       "2269    False\n",
       "2270    False\n",
       "2271    False\n",
       "2272     True\n",
       "2273    False\n",
       "        ...  \n",
       "5440    False\n",
       "5441    False\n",
       "5442    False\n",
       "5443    False\n",
       "5444     True\n",
       "Length: 3176, dtype: bool"
      ]
     },
     "execution_count": 1903,
     "metadata": {},
     "output_type": "execute_result"
    }
   ],
   "source": [
    "dir_conds(DF, 'wind') & speed_conds(DF, 'wind')"
   ]
  },
  {
   "cell_type": "code",
   "execution_count": null,
   "id": "dc31c286",
   "metadata": {},
   "outputs": [],
   "source": []
  },
  {
   "cell_type": "code",
   "execution_count": null,
   "id": "90f2cd12",
   "metadata": {},
   "outputs": [],
   "source": []
  },
  {
   "cell_type": "code",
   "execution_count": null,
   "id": "15f27465",
   "metadata": {},
   "outputs": [],
   "source": []
  },
  {
   "cell_type": "code",
   "execution_count": 108,
   "id": "c30d5614",
   "metadata": {},
   "outputs": [],
   "source": [
    "def plot_dist(ax, X, y, Y, color, bg_color, clip, bins = np.arange(0,40,2), yscale = 1):\n",
    "    h = plotter.quick_hist(y, bin_edges=bins)\n",
    "    \n",
    "    ax.scatter(X, yscale*Y, marker='o', edgecolor=color, facecolor='None', s=40, clip_on=clip, zorder=100)\n",
    "#     ax.scatter(X, h['centers'][np.argmax(h['prob'])], marker='s', edgecolor=color, facecolor='None',clip_on=clip)\n",
    "#     ax.scatter(X, h['centers'][np.argmax(h['prob'])], marker='o', edgecolor='None', facecolor=color, s=20, clip_on=clip)\n",
    "    scale = 5\n",
    "    ax.fill_betweenx(yscale*h['edges'][:-1], X - scale*h['prob']/2, X + scale*h['prob']/2, \n",
    "                     lw=0, color=bg_color, alpha=0.5, zorder=-1, clip_on=clip)   "
   ]
  },
  {
   "cell_type": "code",
   "execution_count": 124,
   "id": "de567571",
   "metadata": {},
   "outputs": [
    {
     "data": {
      "image/png": "[encoded data removed]",
      "text/plain": [
       "<Figure size 300x300 with 1 Axes>"
      ]
     },
     "metadata": {},
     "output_type": "display_data"
    }
   ],
   "source": [
    "fig, ax = plt.subplots(figsize=(3,3))\n",
    "\n",
    "# plt.ylim(-1,170)\n",
    "\n",
    "\n",
    "all_ese = []\n",
    "all_ese_std = []\n",
    "all_ese75 = []\n",
    "all_ese25 = []\n",
    "all_ff = []\n",
    "\n",
    "for L in range(1,27):\n",
    "    num_events = np.sum((df['event_day'] == L)&(shoulder==False))\n",
    "    ax.bar(L, num_events, color='k')"
   ]
  },
  {
   "cell_type": "code",
   "execution_count": null,
   "id": "6d7d24c0",
   "metadata": {},
   "outputs": [],
   "source": []
  },
  {
   "cell_type": "code",
   "execution_count": 124,
   "id": "ca48983b",
   "metadata": {},
   "outputs": [
    {
     "data": {
      "text/html": [
       "12.096000000000002 kilometer/day"
      ],
      "text/latex": [
       "$12.096000000000002\\ \\frac{\\mathrm{kilometer}}{\\mathrm{day}}$"
      ],
      "text/plain": [
       "<Quantity(12.096, 'kilometer / day')>"
      ]
     },
     "execution_count": 124,
     "metadata": {},
     "output_type": "execute_result"
    }
   ],
   "source": [
    "14*units('cm/s').to('km/day')\n",
    "\n",
    "# 15*units('km/day').to('cm/s')"
   ]
  },
  {
   "cell_type": "code",
   "execution_count": 71,
   "id": "5e8fe5d8",
   "metadata": {},
   "outputs": [],
   "source": [
    "wind_durations = []\n",
    "ice_durations = []\n",
    "pol_durations = []\n",
    "\n",
    "for year in years:\n",
    "\n",
    "    df_year = df[df.year==year]\n",
    "    wind_dates = pd.to_datetime(df_year.time[wind_cond(df_year)].values)\n",
    "    wind_seqs = tseries.dates_to_sequences(wind_dates, dt_max=1*units('day'))\n",
    "\n",
    "    for ss in wind_seqs:\n",
    "        \n",
    "        wind_durations.append(len(wind_seqs[ss]))\n",
    "         \n",
    "    ice_dates = pd.to_datetime(df_year.time[ice_cond(df_year)].values)\n",
    "    ice_seqs = tseries.dates_to_sequences(ice_dates, dt_max=1*units('day'))\n",
    "\n",
    "    for ss in ice_seqs:\n",
    "        \n",
    "        ice_durations.append(len(ice_seqs[ss]))\n",
    "        \n",
    "    pol_dates = pd.to_datetime(df_year.time[df_year.extent>0].values)\n",
    "    pol_seqs = tseries.dates_to_sequences(pol_dates, dt_max=1*units('day'))\n",
    "\n",
    "    for ss in pol_seqs:\n",
    "        \n",
    "        pol_durations.append(len(pol_seqs[ss]))\n",
    "        "
   ]
  },
  {
   "cell_type": "code",
   "execution_count": 677,
   "id": "5b8af188",
   "metadata": {},
   "outputs": [
    {
     "data": {
      "text/plain": [
       "{}"
      ]
     },
     "execution_count": 677,
     "metadata": {},
     "output_type": "execute_result"
    }
   ],
   "source": [
    "wind_seqs"
   ]
  },
  {
   "cell_type": "code",
   "execution_count": 119,
   "id": "4ebe83fb",
   "metadata": {},
   "outputs": [
    {
     "data": {
      "text/plain": [
       "0.08179599999999998"
      ]
     },
     "execution_count": 119,
     "metadata": {},
     "output_type": "execute_result"
    }
   ],
   "source": [
    "0.286*0.286"
   ]
  },
  {
   "cell_type": "code",
   "execution_count": null,
   "id": "001f55b0",
   "metadata": {},
   "outputs": [],
   "source": [
    "0.286*0.286"
   ]
  },
  {
   "cell_type": "code",
   "execution_count": 106,
   "id": "21e0da43",
   "metadata": {},
   "outputs": [
    {
     "data": {
      "text/plain": [
       "5.787037037"
      ]
     },
     "execution_count": 106,
     "metadata": {},
     "output_type": "execute_result"
    }
   ],
   "source": [
    "11.574074074/2"
   ]
  },
  {
   "cell_type": "code",
   "execution_count": 92,
   "id": "18f9df1c",
   "metadata": {},
   "outputs": [
    {
     "data": {
      "text/html": [
       "11.574074074074074 centimeter/second"
      ],
      "text/latex": [
       "$11.574074074074074\\ \\frac{\\mathrm{centimeter}}{\\mathrm{second}}$"
      ],
      "text/plain": [
       "<Quantity(11.5740741, 'centimeter / second')>"
      ]
     },
     "execution_count": 92,
     "metadata": {},
     "output_type": "execute_result"
    }
   ],
   "source": [
    "10 * units('km/day').to('cm/s')"
   ]
  },
  {
   "cell_type": "code",
   "execution_count": 89,
   "id": "bd8d366b",
   "metadata": {},
   "outputs": [
    {
     "data": {
      "text/html": [
       "12.96 kilometer/day"
      ],
      "text/latex": [
       "$12.96\\ \\frac{\\mathrm{kilometer}}{\\mathrm{day}}$"
      ],
      "text/plain": [
       "<Quantity(12.96, 'kilometer / day')>"
      ]
     },
     "execution_count": 89,
     "metadata": {},
     "output_type": "execute_result"
    }
   ],
   "source": [
    "15 * units('cm/s').to('km/day')"
   ]
  },
  {
   "cell_type": "code",
   "execution_count": 69,
   "id": "0587684f",
   "metadata": {},
   "outputs": [
    {
     "data": {
      "text/plain": [
       "<BarContainer object of 22 artists>"
      ]
     },
     "execution_count": 69,
     "metadata": {},
     "output_type": "execute_result"
    },
    {
     "data": {
      "image/png": "[encoded data removed]",
      "text/plain": [
       "<Figure size 640x480 with 1 Axes>"
      ]
     },
     "metadata": {},
     "output_type": "display_data"
    }
   ],
   "source": [
    "plt.bar(yearss[time_cond], per50_wf_numconsidered[time_cond])"
   ]
  },
  {
   "cell_type": "code",
   "execution_count": 431,
   "id": "6c258939",
   "metadata": {},
   "outputs": [
    {
     "name": "stdout",
     "output_type": "stream",
     "text": [
      "a10_r 272.5\n",
      "a10_r\n",
      "[245 250 255 260 265 270 275 280 285 290 295 300 305]\n",
      "0.9287671232876712\n",
      "ai_r 287.5\n",
      "ai_r\n",
      "[260 265 270 275 280 285 290 295 300 305 310 315 320]\n",
      "0.926027397260274\n",
      "centermass_direction_r 307.5\n",
      "centermass_direction_r\n",
      "[ 15 280 285 290 295 300 305 310 315 320 325 355]\n",
      "0.9531680440771348\n"
     ]
    },
    {
     "data": {
      "text/plain": [
       "<matplotlib.lines.Line2D at 0x1b20dc920>"
      ]
     },
     "execution_count": 431,
     "metadata": {},
     "output_type": "execute_result"
    },
    {
     "data": {
      "image/png": "[encoded data removed]",
      "text/plain": [
       "<Figure size 600x300 with 6 Axes>"
      ]
     },
     "metadata": {},
     "output_type": "display_data"
    }
   ],
   "source": [
    "\n",
    "# create plot\n",
    "fig, AXS = plt.subplots(3,2, figsize=(6,3), subplot_kw={'projection': None})\n",
    "\n",
    "\n",
    "#============\n",
    "# DF = df[(df.year>=1987)&(df.year<2026)]\n",
    "DF = dfb\n",
    "# DF = df[(df.year>=2016)&(df.year<2024)]\n",
    "# DF = df[(df.year>=2003)&(df.year<2016)]\n",
    "#============\n",
    "\n",
    "ccolor = 'blue'\n",
    "bcolor = 'red'\n",
    "\n",
    "not_final_day = (DF.final_day == False)\n",
    "not_final_day[DF.first_day==True] = True\n",
    "\n",
    "bins = np.arange(0,361,5)\n",
    "comp_ = (DF.extent==0)\n",
    "# comp_ = (DF.extent>0)\n",
    "open_ = (DF.extent>0)&(not_final_day)\n",
    "# open_strict = (DF.extent>0)&(DF.final_day == False)\n",
    "# base_cond = (daily_data['ppd']['year'] >= 2003)&(daily_data['ppd']['year'] < 2024)\n",
    "\n",
    "\n",
    "axs = AXS.ravel()\n",
    "\n",
    "for ax, group, color in zip([axs[0], axs[2], axs[4]], \n",
    "                            ['a10_r', 'ai_r', 'centermass_direction_r'],\n",
    "                            [bcolor, ccolor, 'k']):\n",
    "    \n",
    "#     x = DF[f'a{group}'][comp_]\n",
    "#     x[x<0]+=360\n",
    "#     h = plotter.quick_hist(x, bin_edges = bins)\n",
    "\n",
    "\n",
    "    x = DF[f'{group}'][open_]\n",
    "    h2 = plotter.quick_hist(x, bin_edges = bins)\n",
    "\n",
    "\n",
    "    theta = h2['centers']\n",
    "    width = h2['w']\n",
    "    ax.bar(theta, 100*h2['prob'], width=width, bottom=0.0, alpha=0.3, color=color, zorder=-1)\n",
    "    ax.step(theta, 100*h2['prob'], where='mid', alpha=1, color=color,lw=1, zorder=-1)\n",
    "\n",
    "    \n",
    "    print(group, h2['centers'][np.argmax(h2['prob'])] )\n",
    "    \n",
    "    if group != 'centermass_direction_r':\n",
    "        x = DF[f'{group}'][comp_]\n",
    "        h = plotter.quick_hist(x, bin_edges = bins)\n",
    "\n",
    "        theta = h['centers']\n",
    "        width = h['w']\n",
    "        ax.bar(theta, 100*h['prob'], width=width, bottom=0.0, alpha=0.1, color=color, zorder=-1)\n",
    "        ax.step(theta, 100*h['prob'], where='mid', alpha=0.3, color=color,lw=1, zorder=-1)\n",
    "\n",
    "    # Plot bars\n",
    "#     theta = h['centers']\n",
    "#     width = h['w']\n",
    "#     ax.bar(theta, 100*h['prob'], width=width, bottom=0.0, alpha=0.6, color=ccolor, zorder=0)\n",
    "#     ax.step(theta, 100*h['prob'], where='mid', alpha=1, color=ccolor,lw=1, zorder=0)\n",
    "    \n",
    "    print(group)\n",
    "#     ax.axvline((90-165)+360, c='k', ls='dashed')\n",
    "#     ax.axvline((90-165-180)+360, c='k', ls='dashed')\n",
    "    \n",
    "    \n",
    "    \n",
    "#     COND = (h2['prob']>1.25*h['prob'])&(h2['prob']>0.01)\n",
    "#     print(h2['edges'][:-1][COND])\n",
    "#     print(np.sum(h2['prob'][COND]))\n",
    "#     print(h2['centers'][np.argmax(h2['prob'])])\n",
    "    \n",
    "    COND = (h2['prob']>0.01)\n",
    "    print(h2['edges'][:-1][COND])\n",
    "    print(np.sum(h2['prob'][COND]))\n",
    "    \n",
    "    ax.scatter(h2['centers'][COND], 100*h2['prob'][COND], s=1, c='orange')\n",
    "    \n",
    "#     ax.set_ylim(0,20)\n",
    "    \n",
    "#     ax.set_xlim(0,360)\n",
    "\n",
    "    \n",
    "ax = axs[0]\n",
    "# ax.axvline((90-165)+360, c='k', ls='dashed')\n",
    "\n",
    "ax.set_xlim(0,360)\n",
    "\n",
    "\n",
    "for ax, group, color, bins in zip([axs[1], axs[3]], \n",
    "                            ['s10', 'si_km',],\n",
    "                            [bcolor, ccolor], [np.arange(0,30,1), np.arange(0,40,2)]):\n",
    "    \n",
    "    \n",
    "    x = DF[f'{group}'][open_]\n",
    "    h2 = plotter.quick_hist(x, bin_edges = bins)\n",
    "\n",
    "\n",
    "    theta = h2['centers']\n",
    "    width = h2['w']\n",
    "    ax.bar(theta, 100*h2['prob'], width=width, bottom=0.0, alpha=0.3, color=color, zorder=-1)\n",
    "    ax.step(theta, 100*h2['prob'], where='mid', alpha=1, color=color,lw=1, zorder=-1)\n",
    "    \n",
    "    x = DF[f'{group}'][comp_]\n",
    "    h = plotter.quick_hist(x, bin_edges = bins)\n",
    "\n",
    "    theta = h['centers']\n",
    "    width = h['w']\n",
    "    ax.bar(theta, 100*h['prob'], width=width, bottom=0.0, alpha=0.1, color=color, zorder=-1)\n",
    "    ax.step(theta, 100*h['prob'], where='mid', alpha=0.3, color=color,lw=1, zorder=-1)\n",
    "    \n",
    "ax = axs[1]\n",
    "ax.axvline(7)\n",
    "\n",
    "ax = axs[3]\n",
    "ax.axvline(10)"
   ]
  },
  {
   "cell_type": "code",
   "execution_count": 461,
   "id": "81340005",
   "metadata": {},
   "outputs": [],
   "source": [
    "# define speed and direction conditions\n",
    "def dir_conds(dff, cat):\n",
    "    \n",
    "    if cat == 'wind':\n",
    "        dir_cond = (dff['a10_r'] > 260) & (dff['a10_r'] < 305)\n",
    "#         dir_cond = (dff['a10_r'] > 245) & (dff['a10_r'] < 310)\n",
    "        \n",
    "    elif cat == 'ice':\n",
    "        dir_cond = (dff['ai_r'] > 270) & (dff['ai_r'] < 315)\n",
    "#         dir_cond = (dff['ai_r'] > 260) & (dff['ai_r'] < 320)\n",
    "        \n",
    "    return dir_cond\n",
    "\n",
    "def speed_conds(dff, cat):\n",
    "    \n",
    "    if cat == 'wind':\n",
    "        speed_cond = (dff['s10'] > 7)\n",
    "    elif cat == 'ice':\n",
    "        speed_cond = (dff['si_km'] > 10.5)\n",
    "    return speed_cond\n",
    "\n"
   ]
  },
  {
   "cell_type": "code",
   "execution_count": 463,
   "id": "69de37f1",
   "metadata": {},
   "outputs": [
    {
     "data": {
      "text/plain": [
       "0.8061002178649237"
      ]
     },
     "execution_count": 463,
     "metadata": {},
     "output_type": "execute_result"
    }
   ],
   "source": [
    "open_ = DF.extent>0\n",
    "comp_ = DF.extent==0\n",
    "\n",
    "np.sum(dir_conds(DF, 'wind')&open_) / np.sum(open_)\n",
    "\n",
    "# np.sum(dir_conds(DF, 'ice')&open_) / np.sum(open_)"
   ]
  },
  {
   "cell_type": "code",
   "execution_count": null,
   "id": "78abb996",
   "metadata": {},
   "outputs": [],
   "source": []
  },
  {
   "cell_type": "code",
   "execution_count": 464,
   "id": "2670899b",
   "metadata": {},
   "outputs": [
    {
     "name": "stdout",
     "output_type": "stream",
     "text": [
      "10\n",
      "260\n",
      "270\n",
      "280\n",
      "290\n",
      "300\n",
      "310\n",
      "320\n"
     ]
    },
    {
     "data": {
      "image/png": "[encoded data removed]",
      "text/plain": [
       "<Figure size 300x300 with 1 Axes>"
      ]
     },
     "metadata": {},
     "output_type": "display_data"
    }
   ],
   "source": [
    "fig, ax = plt.subplots(figsize=(3,3))\n",
    "\n",
    "bins = np.arange(0,361,10)\n",
    "\n",
    "not_final_day = (DF.final_day == False)\n",
    "not_final_day[DF.first_day==True] = True\n",
    "\n",
    "#===========\n",
    "DF = dfb\n",
    "#===========\n",
    "\n",
    "var = 'a10_r'\n",
    "# var = 'ai_r'\n",
    "\n",
    "tot = 0\n",
    "for bb in range(len(bins)-1):\n",
    "    \n",
    "    bbmin = bins[bb]\n",
    "    bbmax = bins[bb+1]\n",
    "    dbb = np.diff(bins)[0]\n",
    "    bbmid = bbmin + dbb/2\n",
    "    \n",
    "#     within_range = ((DF[var] >= bbmin) & (DF[var] < bbmax)) & (DF['s10']>6.5)\n",
    "    within_range = ((DF[var] >= bbmin) & (DF[var] < bbmax))# & (DF['si_km']>11.5)\n",
    "    \n",
    "#     frac = np.sum((DF.extent[within_range]>0)&(not_final_day[within_range]))/np.sum(within_range)\n",
    "    frac = np.sum((DF.extent[within_range]>0))/np.sum(within_range)\n",
    "    \n",
    "    plt.bar(bbmin, frac, width = dbb, align='edge')\n",
    "    \n",
    "    if frac > 0.15:\n",
    "        ax.scatter(bbmin, frac)\n",
    "        print(bbmin)\n",
    "        tot+=frac"
   ]
  },
  {
   "cell_type": "code",
   "execution_count": 465,
   "id": "55598598",
   "metadata": {},
   "outputs": [
    {
     "data": {
      "text/plain": [
       "0.8061002178649237"
      ]
     },
     "execution_count": 465,
     "metadata": {},
     "output_type": "execute_result"
    }
   ],
   "source": [
    "WITHIN = ((DF['a10_r'] > 260) & (DF['a10_r'] < 305))# & (DF['s10']>6.5)\n",
    "np.sum(DF.extent[WITHIN]>0)/np.sum(DF.extent>0)"
   ]
  },
  {
   "cell_type": "code",
   "execution_count": 466,
   "id": "6ea363bb",
   "metadata": {},
   "outputs": [
    {
     "data": {
      "text/plain": [
       "0.7864923747276689"
      ]
     },
     "execution_count": 466,
     "metadata": {},
     "output_type": "execute_result"
    }
   ],
   "source": [
    "WITHIN = (DF['ai_r'] > 270) & (DF['ai_r'] < 315) #& (DF['si_km']>11.5)\n",
    "np.sum(DF.extent[WITHIN]>0)/np.sum(DF.extent>0)"
   ]
  },
  {
   "cell_type": "code",
   "execution_count": 467,
   "id": "f7532e23",
   "metadata": {},
   "outputs": [
    {
     "data": {
      "text/plain": [
       "0.4835164835164835"
      ]
     },
     "execution_count": 467,
     "metadata": {},
     "output_type": "execute_result"
    }
   ],
   "source": [
    "WITHIN = ((DF['a10_r'] > 260) & (DF['a10_r'] < 305)) & (DF['s10']>6.5)\n",
    "np.sum(WITHIN&(DF.extent>0))/np.sum(WITHIN)"
   ]
  },
  {
   "cell_type": "code",
   "execution_count": 468,
   "id": "b7250863",
   "metadata": {},
   "outputs": [
    {
     "data": {
      "text/plain": [
       "0.5063752276867031"
      ]
     },
     "execution_count": 468,
     "metadata": {},
     "output_type": "execute_result"
    }
   ],
   "source": [
    "WITHIN = ((DF['ai_r'] > 270) & (DF['ai_r'] < 315)) & (DF['si_km']>11.5)\n",
    "np.sum(WITHIN&(DF.extent>0))/np.sum(WITHIN)"
   ]
  },
  {
   "cell_type": "code",
   "execution_count": null,
   "id": "fc7d0bbe",
   "metadata": {},
   "outputs": [],
   "source": []
  },
  {
   "cell_type": "code",
   "execution_count": 469,
   "id": "1634aefe",
   "metadata": {},
   "outputs": [
    {
     "data": {
      "text/plain": [
       "35"
      ]
     },
     "execution_count": 469,
     "metadata": {},
     "output_type": "execute_result"
    }
   ],
   "source": [
    "325-290"
   ]
  },
  {
   "cell_type": "code",
   "execution_count": 470,
   "id": "87c8301b",
   "metadata": {},
   "outputs": [
    {
     "data": {
      "text/plain": [
       "['0%', '0%', '0%', '0%', '0%', '0%', '0%', '0%', '0%', '0%']"
      ]
     },
     "execution_count": 470,
     "metadata": {},
     "output_type": "execute_result"
    }
   ],
   "source": [
    "[f'{tick:.0f}%' for tick in ax.get_yticks()]"
   ]
  },
  {
   "cell_type": "code",
   "execution_count": 471,
   "id": "8e788d8e",
   "metadata": {},
   "outputs": [
    {
     "data": {
      "text/plain": [
       "['0%', '0%', '0%', '0%', '0%', '0%', '0%', '0%', '0%', '0%']"
      ]
     },
     "execution_count": 471,
     "metadata": {},
     "output_type": "execute_result"
    }
   ],
   "source": [
    "[f'{tick:.0f}%' for tick in ax.get_yticks()]"
   ]
  },
  {
   "cell_type": "code",
   "execution_count": 743,
   "id": "8cfcb1fd",
   "metadata": {},
   "outputs": [
    {
     "name": "stderr",
     "output_type": "stream",
     "text": [
      "<>:142: SyntaxWarning: invalid escape sequence '\\m'\n",
      "<>:158: SyntaxWarning: invalid escape sequence '\\m'\n",
      "<>:230: SyntaxWarning: invalid escape sequence '\\m'\n",
      "<>:231: SyntaxWarning: invalid escape sequence '\\m'\n",
      "<>:142: SyntaxWarning: invalid escape sequence '\\m'\n",
      "<>:158: SyntaxWarning: invalid escape sequence '\\m'\n",
      "<>:230: SyntaxWarning: invalid escape sequence '\\m'\n",
      "<>:231: SyntaxWarning: invalid escape sequence '\\m'\n",
      "/var/folders/p8/hz449fpx6nscv0jb1klyfqb40000gp/T/ipykernel_25941/2770697754.py:142: SyntaxWarning: invalid escape sequence '\\m'\n",
      "  ax.set_ylabel('Speed of\\neasterly\\nwinds\\n($\\mathrm{m\\;s^{-1}}$)', c=wind_color, rotation=0, labelpad=30, va='center')\n",
      "/var/folders/p8/hz449fpx6nscv0jb1klyfqb40000gp/T/ipykernel_25941/2770697754.py:158: SyntaxWarning: invalid escape sequence '\\m'\n",
      "  ax.set_ylabel('Speed of\\nalongshore\\nice drift\\n($\\mathrm{km\\;d^{-1}}$)', c=ice_color, rotation=0, labelpad=35, va='center')\n",
      "/var/folders/p8/hz449fpx6nscv0jb1klyfqb40000gp/T/ipykernel_25941/2770697754.py:230: SyntaxWarning: invalid escape sequence '\\m'\n",
      "  ax.text(17, 7.6, '$\\mathrm{7.5\\;m\\;{s}^{-1}}$', c=wind_color, rotation = 0, va='bottom', ha='center')\n",
      "/var/folders/p8/hz449fpx6nscv0jb1klyfqb40000gp/T/ipykernel_25941/2770697754.py:231: SyntaxWarning: invalid escape sequence '\\m'\n",
      "  ax.text(17, 6.8, '$\\mathrm{12\\;km\\;{d}^{-1}}$', c=ice_color, rotation = 0, va='top', ha='center')\n",
      "/var/folders/p8/hz449fpx6nscv0jb1klyfqb40000gp/T/ipykernel_25941/2770697754.py:19: UserWarning: set_ticklabels() should only be used with a fixed number of ticks, i.e. after set_ticks() or using a FixedLocator.\n",
      "  ax.set_xticklabels(['N','','E','','S','','W ']);\n",
      "/var/folders/p8/hz449fpx6nscv0jb1klyfqb40000gp/T/ipykernel_25941/2770697754.py:19: UserWarning: set_ticklabels() should only be used with a fixed number of ticks, i.e. after set_ticks() or using a FixedLocator.\n",
      "  ax.set_xticklabels(['N','','E','','S','','W ']);\n",
      "/var/folders/p8/hz449fpx6nscv0jb1klyfqb40000gp/T/ipykernel_25941/2770697754.py:82: UserWarning: set_ticklabels() should only be used with a fixed number of ticks, i.e. after set_ticks() or using a FixedLocator.\n",
      "  ax.set_yticklabels([f'{tick:.0f}%' for tick in ax.get_yticks()])\n",
      "/var/folders/p8/hz449fpx6nscv0jb1klyfqb40000gp/T/ipykernel_25941/2770697754.py:170: UserWarning: set_ticklabels() should only be used with a fixed number of ticks, i.e. after set_ticks() or using a FixedLocator.\n",
      "  ax.set_xticklabels([f'{tick:.0f}%' for tick in ax.get_xticks()])\n",
      "/var/folders/p8/hz449fpx6nscv0jb1klyfqb40000gp/T/ipykernel_25941/2770697754.py:170: UserWarning: set_ticklabels() should only be used with a fixed number of ticks, i.e. after set_ticks() or using a FixedLocator.\n",
      "  ax.set_xticklabels([f'{tick:.0f}%' for tick in ax.get_xticks()])\n",
      "/var/folders/p8/hz449fpx6nscv0jb1klyfqb40000gp/T/ipykernel_25941/2770697754.py:286: UserWarning: This figure includes Axes that are not compatible with tight_layout, so results might be incorrect.\n",
      "  plt.tight_layout()\n"
     ]
    },
    {
     "data": {
      "image/png": "[encoded data removed]",
      "text/plain": [
       "<Figure size 700x500 with 7 Axes>"
      ]
     },
     "metadata": {},
     "output_type": "display_data"
    }
   ],
   "source": [
    "\n",
    "# create plot\n",
    "fig, AXS = plt.subplots(2,2, figsize=(7,5), \n",
    "                        subplot_kw={'projection': None}, gridspec_kw={'height_ratios':[1.25,1]})\n",
    "\n",
    "axs = AXS.ravel()\n",
    "# Override specific subplots to be polar using add_subplot\n",
    "fig.delaxes(axs[0])\n",
    "fig.delaxes(axs[1])\n",
    "axs[0] = fig.add_subplot(2,2, 1, projection='polar')\n",
    "axs[1] = fig.add_subplot(2,2, 2, projection='polar')\n",
    "\n",
    "\n",
    "grid_color = [0.7,0.7,0.7]\n",
    "\n",
    "for ax in axs[:2]:\n",
    "    ax.set_theta_zero_location(\"N\")\n",
    "    ax.set_theta_direction(-1)\n",
    "    ax.grid(zorder=-1)\n",
    "    ax.set_xticklabels(['N','','E','','S','','W ']);\n",
    "    ax.grid(color=grid_color)\n",
    "    ax.tick_params(axis='x', pad=-5)\n",
    "    \n",
    "#============\n",
    "DF = dfb\n",
    "\n",
    "# DF = df[(df.year>=2003)&(df.year<2016)]\n",
    "# DF = df[(df.year>=2016)&(df.year<2026)]\n",
    "#============\n",
    "\n",
    "bins = np.arange(0,361,5)\n",
    "comp_ = (DF.extent==0)  #& (DF.day_before_event!=-1)\n",
    "open_ = (DF.extent>0)\n",
    "\n",
    "#============\n",
    "# ice_color = [25/255,135/255,255/255]#'royalblue'\n",
    "ice_color = cmocean.cm.ice(0.6)#[0.19607843137254902, 0.45098039215686275, 1.0]\n",
    "# wind_color = 'r'\n",
    "# wind_color = [255/255,135/255,0/255] # orange\n",
    "# wind_color = [255/255,80/255,80/255]\n",
    "wind_color = [0.55]*3\n",
    "\n",
    "poly_color = [255/255,80/255,80/255]\n",
    "# poly_color = 'orange'\n",
    "#============\n",
    "\n",
    "\n",
    "# open direction\n",
    "#----------------------\n",
    "for ax, group, cond, color, scale in zip([axs[0], axs[0], axs[0]], \n",
    "                            ['a10_r', 'ai_r', 'centermass_direction_r'], [open_ , open_, open_], \n",
    "                            [wind_color, ice_color, poly_color], [1,1,1]):\n",
    "\n",
    "    x = DF[f'{group}'][cond]\n",
    "    h2 = plotter.quick_hist(x, bin_edges = bins)\n",
    "\n",
    "    theta = h2['centers'] * np.pi/180\n",
    "    width = h2['w']* np.pi/180\n",
    "    ax.bar(theta, scale*100*h2['prob'], width=width, bottom=0.0, alpha=0.2, color=color, zorder=3)\n",
    "    ax.step(theta, scale*100*h2['prob'], where='mid', alpha=1, color=color,lw=1.5, zorder=3)\n",
    "ax.yaxis.set_major_locator(ticker.MultipleLocator(5))\n",
    "# ax.yaxis.set_minor_locator(ticker.MultipleLocator(2))\n",
    "    \n",
    "# closed direction\n",
    "#----------------------\n",
    "for ax, group, cond, color, scale in zip([axs[1], axs[1]], \n",
    "                            ['a10_r', 'ai_r', ], [comp_ , comp_,], \n",
    "                            [wind_color, ice_color,], [1,1]):\n",
    "\n",
    "    x = DF[f'{group}'][cond]\n",
    "    h2 = plotter.quick_hist(x, bin_edges = bins)\n",
    "\n",
    "    theta = h2['centers'] * np.pi/180\n",
    "    width = h2['w']* np.pi/180\n",
    "    ax.bar(theta, scale*100*h2['prob'], width=width, bottom=0.0, alpha=0.2, color=color, zorder=3)\n",
    "    ax.step(theta, scale*100*h2['prob'], where='mid', alpha=1, color=color,lw=1.5, zorder=3)\n",
    "ax.yaxis.set_major_locator(ticker.MultipleLocator(2))      \n",
    "    \n",
    "axs[0].set_ylim(0,20)\n",
    "axs[1].set_ylim(0,8)\n",
    "axs[1].set_yticks([2,4,6,8])\n",
    "for ax in axs[:2]:\n",
    "    ax.set_yticklabels([f'{tick:.0f}%' for tick in ax.get_yticks()])\n",
    "#     ax.set_yticklabels([f'{tick:.0f}%' if tt%2==1 else '' for tt, tick in enumerate(ax.get_yticks())])\n",
    "    ax.tick_params(axis='y', labelrotation=-15, colors=grid_color, pad=5)\n",
    "    ax.set_rlabel_position(10)\n",
    "\n",
    "for ax, R in zip([axs[0], axs[1]], [15,7,]):\n",
    "    th = (90+15)*np.pi/180\n",
    "    ax.plot([th, th], [0,ax.get_ylim()[1]], c='k', ls='dashed',dashes=(1,1), lw=1.5, zorder=100)\n",
    "    ax.plot([th+np.pi, th+np.pi], [ax.get_ylim()[1],0], c='k', ls='dashed',dashes=(1,1), lw=1.5, zorder=100)\n",
    "    ax.text((90+15-4)*np.pi/180, R, 'Coast', rotation = -14, va='top', ha='right')\n",
    "\n",
    "    \n",
    "# SPEED BINS\n",
    "#_________________\n",
    "\n",
    "bins = np.arange(0,20,1)\n",
    "for ax, group, cond, color in zip([axs[2], axs[3], ], \n",
    "                            ['s10', 's10',], \n",
    "                                  [open_&dir_conds(DF, 'wind'), comp_&dir_conds(DF, 'wind')], \n",
    "#                                   [open_, comp_],\n",
    "                            [wind_color,wind_color, ]):\n",
    "\n",
    "    x = DF[f'{group}'][cond]\n",
    "    h2 = plotter.quick_hist(x, bin_edges = bins)\n",
    "    theta = h2['centers']\n",
    "    width = h2['w']\n",
    "    ax.barh(theta, 100*h2['prob'], height=width, left=0.0, alpha=0.2, color=color, zorder=-100)\n",
    "    ax.stairs(100*h2['prob'], edges=h2['edges'],orientation='horizontal', alpha=1, color=color,lw=1.5, zorder=-100)\n",
    "\n",
    "\n",
    "\n",
    "bins = np.arange(0,35,1.6)\n",
    "ax2 = axs[2].twinx()\n",
    "ax3 = axs[3].twinx()\n",
    "for ax, group, cond, color in zip([ax2, ax3, ], \n",
    "                            ['si_km', 'si_km',], \n",
    "                                  [open_&dir_conds(DF, 'ice'), comp_&dir_conds(DF, 'ice')], \n",
    "#                                   [open_, comp_], \n",
    "                            [ice_color, ice_color, ]):\n",
    "\n",
    "    x = DF[f'{group}'][cond]\n",
    "    h2 = plotter.quick_hist(x, bin_edges = bins)\n",
    "    theta = h2['centers']\n",
    "    width = h2['w']\n",
    "    ax.barh(theta, 100*h2['prob'], height=width, left=0.0, alpha=0.2, color=color, zorder=-100)\n",
    "    ax.stairs(100*h2['prob'], edges=h2['edges'], orientation='horizontal', alpha=1, color=color,lw=1.5, zorder=-100)\n",
    "\n",
    "\n",
    "\n",
    "for ax in axs[2:]:\n",
    "#     ax.set_ylim(0,18.14)\n",
    "    ax.set_ylim(0,20)\n",
    "    ax.yaxis.set_major_locator(ticker.MultipleLocator(4))\n",
    "    ax.yaxis.set_minor_locator(ticker.MultipleLocator(2))\n",
    "    ax.spines['left'].set_color(wind_color)\n",
    "    ax.spines['left'].set_linewidth(1.5)\n",
    "    ax.tick_params(axis='y', which='both', color=wind_color, labelcolor=wind_color)\n",
    "    \n",
    "    \n",
    "ax = axs[2]\n",
    "ax.set_ylabel('Speed of\\neasterly\\nwinds\\n($\\mathrm{m\\;s^{-1}}$)', c=wind_color, rotation=0, labelpad=30, va='center')\n",
    "ax = axs[3]\n",
    "ax.set_yticklabels([])\n",
    "\n",
    "\n",
    "for ax in [ax2,ax3]:\n",
    "    ax.set_ylim(0,32)\n",
    "    ax.yaxis.tick_right()\n",
    "    ax.yaxis.set_major_locator(ticker.MultipleLocator(10))\n",
    "    ax.yaxis.set_minor_locator(ticker.MultipleLocator(5))\n",
    "    ax.spines['right'].set_color(ice_color)\n",
    "    ax.spines['right'].set_linewidth(1)\n",
    "    ax.spines['left'].set_color('None')\n",
    "    ax.tick_params(axis='y', which='both', color=ice_color, labelcolor=ice_color)\n",
    "    \n",
    "ax = ax3\n",
    "ax.set_ylabel('Speed of\\nalongshore\\nice drift\\n($\\mathrm{km\\;d^{-1}}$)', c=ice_color, rotation=0, labelpad=35, va='center')\n",
    "ax = ax2\n",
    "ax.set_yticklabels([])\n",
    "    \n",
    "    \n",
    "    \n",
    "axs[2].set_xlim(-0.05,20)   \n",
    "axs[3].set_xlim(-0.05,20)   \n",
    "for ax in axs[2:]:\n",
    "    ax.xaxis.set_major_locator(ticker.MultipleLocator(10))\n",
    "    ax.xaxis.set_minor_locator(ticker.MultipleLocator(5))\n",
    "    ax.set_xlabel('Frequency')\n",
    "    ax.set_xticklabels([f'{tick:.0f}%' for tick in ax.get_xticks()])\n",
    "\n",
    "axs[0].text(0.5, 1.15, 'Polynya extent > 0', weight='bold', ha='center', va='bottom', transform=axs[0].transAxes)\n",
    "axs[1].text(0.5, 1.15, 'Polynya extent = 0', weight='bold', ha='center', va='bottom', transform=axs[1].transAxes)\n",
    "\n",
    "axs[0].text(np.pi/4, 23, 'a', weight='bold', clip_on=False)\n",
    "axs[1].text(np.pi/4, 9.25, 'b', weight='bold', clip_on=False)\n",
    "\n",
    "axs[2].text(0.95, 1.05, 'c', weight='bold', ha='right', clip_on=False, transform=axs[2].transAxes)\n",
    "axs[3].text(0.95, 1.05, 'd', weight='bold', ha='right', clip_on=False, transform=axs[3].transAxes)\n",
    "\n",
    "buffer = 4 # shorten because line too wide\n",
    "\n",
    "ax = axs[0]\n",
    "th1 = (270+buffer)*np.pi/180\n",
    "th2 = (315-buffer)*np.pi/180\n",
    "ax.plot(np.linspace(th1,th2,15), np.full(15,31), alpha=0.25, c=ice_color, ls='solid', lw=13, clip_on=False, zorder=-1000)\n",
    "# ax.text((285)*np.pi/180, 29, '78%', c=ice_color, rotation = 70, va='bottom')\n",
    "\n",
    "# Position each character along the arc\n",
    "text = 'Alongshore drift'\n",
    "theta = np.linspace(th1,th2,len(text))\n",
    "for i, (char, angle) in enumerate(zip(text, theta)):\n",
    "    ax.text(angle, 31, char, rotation=np.degrees(-angle), \n",
    "            c=ice_color, size=mpl.rcParams['font.size'],\n",
    "            ha='center', va='center')\n",
    "    \n",
    "\n",
    "th1 = (260+buffer)*np.pi/180\n",
    "th2 = (305-buffer)*np.pi/180\n",
    "ax.plot(np.linspace(th1,th2,15), np.full(15,26), alpha=0.25, c=wind_color, ls='solid', lw=13, clip_on=False, zorder=-1000)\n",
    "# ax.text((280)*np.pi/180, 24.5, 'Easterly wind', c=wind_color, rotation = 70, va='bottom')\n",
    "# Position each character along the arc\n",
    "text = 'Easterly wind'\n",
    "theta = np.linspace(th1,th2,len(text))\n",
    "for i, (char, angle) in enumerate(zip(text, theta)):\n",
    "    ax.text(angle, 26, char, rotation=np.degrees(-angle), \n",
    "            c=wind_color, size=mpl.rcParams['font.size'],\n",
    "            ha='center', va='center')\n",
    "    \n",
    "    \n",
    "ax.set_xlabel('Direction') \n",
    "ax = axs[1]\n",
    "ax.set_xlabel('Direction') \n",
    "\n",
    "#     ax.axhline(6.5,c=ice_color, ls='dashed', dashes=(5,5))\n",
    "    \n",
    "# ax = axs[3]\n",
    "# ax.text(25, 7.25, '$\\mathrm{6.5\\;m\\;s^{-1}}$', c=wind_color, ha='center');\n",
    "# ax.text(25, 4.25, '$\\mathrm{10\\;km\\;d^{-1}}$', c=ice_color, ha='center');\n",
    "    \n",
    "    \n",
    "axs[1].text(243*np.pi/180, 7, 'Wind', c=wind_color)\n",
    "axs[1].text(300*np.pi/180, 5, 'Ice', c=ice_color)\n",
    "axs[0].text(315*np.pi/180, 17., 'Polynya', c=poly_color)\n",
    "\n",
    "\n",
    "for ax in [ax2, ax3]:\n",
    "    ax.axhline(12, c='k', ls='dashed', zorder=100)\n",
    "ax = axs[3]\n",
    "ax.text(16.5, 7.6, '$\\mathrm{7.5\\;m\\;{s}^{-1}}$', c=wind_color, rotation = 0, va='bottom', ha='center')\n",
    "ax.text(16.5, 6.8, '$\\mathrm{12\\;km\\;{d}^{-1}}$', c=ice_color, rotation = 0, va='top', ha='center')\n",
    "\n",
    "ax = axs[2]\n",
    "ax.plot([15,15],[8,30], alpha=0.25, c=wind_color, ls='solid', lw=12,)\n",
    "ax.text(15, 8.5, 'Strong wind', c=wind_color, rotation = 90, va='bottom', ha='center')\n",
    "\n",
    "ax.plot([17,17],[8,30], alpha=0.25, c=ice_color, ls='solid', lw=12,)\n",
    "ax.text(17, 8.5, 'Rapid drift', c=ice_color, rotation = 90, va='bottom', ha='center')\n",
    "\n",
    "# ax.plot([17.25,17.25],[7.1,30], alpha=0.25, c=wind_color, ls='solid', lw=12,)\n",
    "# ax.text(17.25, 11, '76%', c=wind_color,rotation = 90, va='bottom', ha='center')\n",
    "\n",
    "\n",
    "ax = axs[3]\n",
    "# ax.plot([30,30],[7.1,30], alpha=0.25, c=ice_color, ls='solid', lw=12,)\n",
    "# ax.text(30, 11, '19%', c=ice_color, rotation = 90, va='bottom', ha='center')\n",
    "# ax.plot([37,37],[7.1,30], alpha=0.25, c=wind_color, ls='solid', lw=12,)\n",
    "# ax.text(37, 11, '35%', c=wind_color,rotation = 90, va='bottom', ha='center')\n",
    "\n",
    "\n",
    "# Add inset manually: [left, bottom, width, height] in 0-1 relative figure coordinates\n",
    "inset_ax = fig.add_axes([0.875, 0.8, 0.1, 0.1\n",
    "                        ], projection='polar')\n",
    "inset_ax.set_theta_zero_location(\"N\")\n",
    "inset_ax.set_theta_direction(-1)\n",
    "\n",
    "# Custom theta tick positions (in degrees)\n",
    "angles = [0, 45,90,135,180,225, 270,315]\n",
    "# labels = ['$\\\\mathrm{0^{\\\\circ}}$', '$\\\\mathrm{45^{\\\\circ}}$','$\\\\mathrm{90^{\\\\circ}}$','$\\\\mathrm{135^{\\\\circ}}$',\n",
    "#           '$\\\\mathrm{180^{\\\\circ}}$', '$\\\\mathrm{270^{\\\\circ}}$']\n",
    "\n",
    "labels = [f'{a}'+'$\\\\mathrm{^{\\\\circ}}$' for a in angles]\n",
    "\n",
    "# Slightly outside the border\n",
    "\n",
    "\n",
    "# Add labels manually\n",
    "for angle, label, ha, va, mult in zip(angles, labels, \n",
    "                            ['center','left', 'left','left', 'center', 'right', 'right', 'right'], \n",
    "                           ['bottom','bottom', 'center', 'top', 'top','top',  'center', 'bottom'],\n",
    "                                     [1.05,1.03,1.05,1.05,1.1,1.05,1.05,1.03]):\n",
    "    theta_rad = np.deg2rad(angle)\n",
    "    r_label = inset_ax.get_rmax()*mult\n",
    "    inset_ax.text(theta_rad, r_label, label,\n",
    "                  ha=ha, va=va,\n",
    "                  fontsize=8,\n",
    "                  color=grid_color,\n",
    "                  rotation=0,\n",
    "                  rotation_mode='anchor')\n",
    "inset_ax.set_yticks([])\n",
    "inset_ax.set_xticklabels([])\n",
    "inset_ax.spines['polar'].set_edgecolor(grid_color)\n",
    "\n",
    "plt.subplots_adjust(hspace=0.3, wspace=0.5)\n",
    "\n",
    "plt.tight_layout()\n",
    "\n",
    "SAVE(fig, '../figures/results/forcing_distr/Fig04.png')"
   ]
  },
  {
   "cell_type": "code",
   "execution_count": 736,
   "id": "f76cf61f",
   "metadata": {},
   "outputs": [
    {
     "data": {
      "text/plain": [
       "32.0"
      ]
     },
     "execution_count": 736,
     "metadata": {},
     "output_type": "execute_result"
    }
   ],
   "source": [
    "1.6*20"
   ]
  },
  {
   "cell_type": "code",
   "execution_count": 734,
   "id": "ea1ac9ea",
   "metadata": {},
   "outputs": [
    {
     "data": {
      "text/plain": [
       "1.6"
      ]
     },
     "execution_count": 734,
     "metadata": {},
     "output_type": "execute_result"
    }
   ],
   "source": [
    "12/7.5"
   ]
  },
  {
   "cell_type": "code",
   "execution_count": 500,
   "id": "ff49b308",
   "metadata": {},
   "outputs": [
    {
     "data": {
      "image/png": "[encoded data removed]",
      "text/plain": [
       "<Figure size 300x300 with 1 Axes>"
      ]
     },
     "metadata": {},
     "output_type": "display_data"
    }
   ],
   "source": [
    "import matplotlib.pyplot as plt\n",
    "import numpy as np\n",
    "\n",
    "# Sample data\n",
    "data = [DF.s10[open_&dir_conds(DF, 'wind')], \n",
    "        DF.si_km[open_&dir_conds(DF, 'ice')]/1.7, \n",
    "        DF.s10[comp_&dir_conds(DF, 'wind')],\n",
    "        DF.si_km[comp_&dir_conds(DF, 'ice')]/1.7]\n",
    "\n",
    "# Create plot\n",
    "fig, ax = plt.subplots(figsize=(3,3))\n",
    "ax.violinplot(data, showmeans=True, showmedians=True)\n",
    "ax.set_xticks([1, 2, 3])\n",
    "ax.set_xticklabels(['A', 'B', 'C'])\n",
    "plt.title('Matplotlib Violin Plot')\n",
    "plt.show()\n"
   ]
  },
  {
   "cell_type": "code",
   "execution_count": 484,
   "id": "2ee75ec8",
   "metadata": {},
   "outputs": [
    {
     "data": {
      "text/plain": [
       "2270     6.650074\n",
       "2271    11.608836\n",
       "2272    12.350517\n",
       "2273     5.324902\n",
       "2274     3.383809\n",
       "          ...    \n",
       "5440     5.174790\n",
       "5441     4.410327\n",
       "5442     1.433033\n",
       "5443    12.503789\n",
       "5444    10.230725\n",
       "Name: si_km, Length: 2565, dtype: float64"
      ]
     },
     "execution_count": 484,
     "metadata": {},
     "output_type": "execute_result"
    }
   ],
   "source": [
    "DF.si_km[comp_]"
   ]
  },
  {
   "cell_type": "code",
   "execution_count": 486,
   "id": "c6d20fd7",
   "metadata": {},
   "outputs": [
    {
     "name": "stderr",
     "output_type": "stream",
     "text": [
      "/opt/anaconda3/envs/SBSpolynya/lib/python3.12/site-packages/numpy/linalg/linalg.py:2180: RuntimeWarning: invalid value encountered in det\n",
      "  r = _umath_linalg.det(a, signature=signature)\n"
     ]
    },
    {
     "data": {
      "image/png": "[encoded data removed]",
      "text/plain": [
       "<Figure size 640x480 with 1 Axes>"
      ]
     },
     "metadata": {},
     "output_type": "display_data"
    }
   ],
   "source": [
    "DF= dfb\n",
    "\n",
    "# Sample data\n",
    "data = [DF.si_km[open_], DF.si_km[comp_], \n",
    "        DF.si_km[open_&dir_conds(DF, 'ice')], DF.si_km[comp_&dir_conds(DF, 'ice')]]\n",
    "\n",
    "# Create plot\n",
    "fig, ax = plt.subplots()\n",
    "ax.violinplot(data, showmeans=True, showmedians=True)\n",
    "ax.set_xticks([1, 2, 3])\n",
    "ax.set_xticklabels(['A', 'B', 'C'])\n",
    "plt.title('Matplotlib Violin Plot')\n",
    "plt.show()"
   ]
  },
  {
   "cell_type": "code",
   "execution_count": 489,
   "id": "cb007b10",
   "metadata": {},
   "outputs": [
    {
     "data": {
      "text/plain": [
       "2"
      ]
     },
     "execution_count": 489,
     "metadata": {},
     "output_type": "execute_result"
    }
   ],
   "source": [
    "np.sum(np.isnan(DF.si_km[comp_]))"
   ]
  },
  {
   "cell_type": "code",
   "execution_count": null,
   "id": "e4e9cd51",
   "metadata": {},
   "outputs": [],
   "source": []
  },
  {
   "cell_type": "code",
   "execution_count": 357,
   "id": "0a420778",
   "metadata": {},
   "outputs": [
    {
     "data": {
      "text/plain": [
       "6.223059455247467"
      ]
     },
     "execution_count": 357,
     "metadata": {},
     "output_type": "execute_result"
    }
   ],
   "source": [
    "np.nanpercentile(DF[(DF.extent>0)].s10, 25)"
   ]
  },
  {
   "cell_type": "code",
   "execution_count": null,
   "id": "c133e7c8",
   "metadata": {},
   "outputs": [],
   "source": [
    "np.nanpercentile(DF[(DF.extent>0)].s10, 25)"
   ]
  },
  {
   "cell_type": "code",
   "execution_count": 362,
   "id": "eef2f845",
   "metadata": {},
   "outputs": [
    {
     "data": {
      "text/plain": [
       "<matplotlib.collections.PathCollection at 0x1affe7b60>"
      ]
     },
     "execution_count": 362,
     "metadata": {},
     "output_type": "execute_result"
    },
    {
     "data": {
      "image/png": "[encoded data removed]",
      "text/plain": [
       "<Figure size 300x300 with 1 Axes>"
      ]
     },
     "metadata": {},
     "output_type": "display_data"
    }
   ],
   "source": [
    "fig, ax = plt.subplots(figsize=(3,3))\n",
    "\n",
    "ax.scatter(DF.s10[dir_conds(DF, 'wind')], DF.si_km[dir_conds(DF, 'wind')], s=5)\n",
    "ax.scatter(DF.s10[dir_conds(DF, 'wind')&(DF.extent>0)], DF.si_km[dir_conds(DF, 'wind')&(DF.extent>0)], s=5)"
   ]
  },
  {
   "cell_type": "code",
   "execution_count": 369,
   "id": "8427a065",
   "metadata": {},
   "outputs": [
    {
     "data": {
      "text/plain": [
       "0.8657534246575342"
      ]
     },
     "execution_count": 369,
     "metadata": {},
     "output_type": "execute_result"
    }
   ],
   "source": [
    "np.sum(dir_conds(DF, 'wind')&((DF.extent>0)&(not_final_day==True))) / np.sum((DF.extent>0)&(not_final_day==True))"
   ]
  },
  {
   "cell_type": "code",
   "execution_count": 373,
   "id": "133ce4d0",
   "metadata": {},
   "outputs": [
    {
     "data": {
      "text/plain": [
       "0.26003898635477585"
      ]
     },
     "execution_count": 373,
     "metadata": {},
     "output_type": "execute_result"
    }
   ],
   "source": [
    "np.sum(dir_conds(DF, 'wind')&(DF.extent==0)) / np.sum((DF.extent==0))"
   ]
  },
  {
   "cell_type": "code",
   "execution_count": 394,
   "id": "84dd4c46",
   "metadata": {},
   "outputs": [],
   "source": [
    "east_open_events = dir_conds(DF, 'wind')&(DF.extent>0)\n",
    "alon_open_events = dir_conds(DF, 'ice')&(DF.extent>0)\n",
    "\n",
    "east_comp_events = dir_conds(DF, 'wind')&(DF.extent==0)\n",
    "alon_comp_events = dir_conds(DF, 'ice')&(DF.extent==0)"
   ]
  },
  {
   "cell_type": "code",
   "execution_count": 392,
   "id": "1be51929",
   "metadata": {},
   "outputs": [
    {
     "data": {
      "text/plain": [
       "7.431806753415982"
      ]
     },
     "execution_count": 392,
     "metadata": {},
     "output_type": "execute_result"
    }
   ],
   "source": [
    "np.nanpercentile(DF.s10[east_open_events],25)"
   ]
  },
  {
   "cell_type": "code",
   "execution_count": 393,
   "id": "2403c8b4",
   "metadata": {},
   "outputs": [
    {
     "data": {
      "text/plain": [
       "12.018180291875913"
      ]
     },
     "execution_count": 393,
     "metadata": {},
     "output_type": "execute_result"
    }
   ],
   "source": [
    "np.nanpercentile(DF.si_km[alon_open_events],25)"
   ]
  },
  {
   "cell_type": "code",
   "execution_count": 401,
   "id": "8652ec59",
   "metadata": {},
   "outputs": [
    {
     "data": {
      "text/plain": [
       "0.28657799274486095"
      ]
     },
     "execution_count": 401,
     "metadata": {},
     "output_type": "execute_result"
    }
   ],
   "source": [
    "np.sum(DF.si_km[alon_comp_events] > 12) / np.sum(alon_comp_events)"
   ]
  },
  {
   "cell_type": "code",
   "execution_count": 402,
   "id": "6ac68412",
   "metadata": {},
   "outputs": [
    {
     "data": {
      "text/plain": [
       "0.7506925207756233"
      ]
     },
     "execution_count": 402,
     "metadata": {},
     "output_type": "execute_result"
    }
   ],
   "source": [
    "np.sum(DF.si_km[alon_open_events] > 12) / np.sum(alon_open_events)"
   ]
  },
  {
   "cell_type": "code",
   "execution_count": null,
   "id": "ebcd8909",
   "metadata": {},
   "outputs": [],
   "source": []
  },
  {
   "cell_type": "code",
   "execution_count": 403,
   "id": "4d619e9c",
   "metadata": {},
   "outputs": [
    {
     "data": {
      "text/plain": [
       "0.745945945945946"
      ]
     },
     "execution_count": 403,
     "metadata": {},
     "output_type": "execute_result"
    }
   ],
   "source": [
    "np.sum(DF.s10[east_open_events] > 7.5) / np.sum(east_open_events)"
   ]
  },
  {
   "cell_type": "code",
   "execution_count": 404,
   "id": "cdc16184",
   "metadata": {},
   "outputs": [
    {
     "data": {
      "text/plain": [
       "0.3448275862068966"
      ]
     },
     "execution_count": 404,
     "metadata": {},
     "output_type": "execute_result"
    }
   ],
   "source": [
    "np.sum(DF.s10[east_comp_events] > 7.5) / np.sum(east_comp_events)"
   ]
  },
  {
   "cell_type": "code",
   "execution_count": 356,
   "id": "1872f1ff",
   "metadata": {},
   "outputs": [
    {
     "data": {
      "text/plain": [
       "10.334981669275635"
      ]
     },
     "execution_count": 356,
     "metadata": {},
     "output_type": "execute_result"
    }
   ],
   "source": [
    "np.nanpercentile(DF[(DF.extent>0)].si_km, 30)"
   ]
  },
  {
   "cell_type": "code",
   "execution_count": 230,
   "id": "e8d57faa",
   "metadata": {},
   "outputs": [
    {
     "data": {
      "text/plain": [
       "1.6"
      ]
     },
     "execution_count": 230,
     "metadata": {},
     "output_type": "execute_result"
    }
   ],
   "source": [
    "12/7.5"
   ]
  },
  {
   "cell_type": "code",
   "execution_count": 226,
   "id": "069b46e7",
   "metadata": {},
   "outputs": [
    {
     "data": {
      "text/plain": [
       "7.431806753415982"
      ]
     },
     "execution_count": 226,
     "metadata": {},
     "output_type": "execute_result"
    }
   ],
   "source": [
    "np.nanpercentile(DF[dir_conds(DF,'wind')&(DF.extent>0)].s10, 25)"
   ]
  },
  {
   "cell_type": "code",
   "execution_count": 227,
   "id": "04ef634e",
   "metadata": {},
   "outputs": [
    {
     "data": {
      "text/plain": [
       "12.018180291875913"
      ]
     },
     "execution_count": 227,
     "metadata": {},
     "output_type": "execute_result"
    }
   ],
   "source": [
    "np.nanpercentile(DF[dir_conds(DF,'ice')&(DF.extent>0)].si_km, 25)"
   ]
  },
  {
   "cell_type": "code",
   "execution_count": 182,
   "id": "9394534e",
   "metadata": {},
   "outputs": [
    {
     "data": {
      "text/plain": [
       "10.88108242677978"
      ]
     },
     "execution_count": 182,
     "metadata": {},
     "output_type": "execute_result"
    }
   ],
   "source": [
    "np.nanmedian(DF[(dir_conds(DF,'wind')&((DF.s10>6.5)&(DF.s10<7.5)))].si_km)"
   ]
  },
  {
   "cell_type": "code",
   "execution_count": 106,
   "id": "985c48d9",
   "metadata": {},
   "outputs": [
    {
     "name": "stdout",
     "output_type": "stream",
     "text": [
      "Help on function SAVE in module __main__:\n",
      "\n",
      "SAVE(fig, filename)\n",
      "\n"
     ]
    }
   ],
   "source": [
    "help(SAVE)"
   ]
  },
  {
   "cell_type": "code",
   "execution_count": null,
   "id": "6d02add8",
   "metadata": {},
   "outputs": [],
   "source": []
  },
  {
   "cell_type": "code",
   "execution_count": 97,
   "id": "a078d8ee",
   "metadata": {},
   "outputs": [
    {
     "data": {
      "text/plain": [
       "1.5"
      ]
     },
     "execution_count": 97,
     "metadata": {},
     "output_type": "execute_result"
    }
   ],
   "source": [
    "10.5/7"
   ]
  },
  {
   "cell_type": "code",
   "execution_count": 98,
   "id": "ff943104",
   "metadata": {},
   "outputs": [
    {
     "data": {
      "text/plain": [
       "30.0"
      ]
     },
     "execution_count": 98,
     "metadata": {},
     "output_type": "execute_result"
    }
   ],
   "source": [
    "20*1.5"
   ]
  },
  {
   "cell_type": "code",
   "execution_count": 88,
   "id": "e77d8a37",
   "metadata": {},
   "outputs": [
    {
     "data": {
      "text/plain": [
       "Index(['time', 'month', 'year', 'pre_2003', '2003_2023', 'compact', 'open',\n",
       "       'q1', 'q2', 'q3', 'q4', 'extent', 'length_145max', 'length_145min',\n",
       "       'length_145p95', 'length_145p5', 'length_max', 'centermass_length',\n",
       "       'centermass_direction', 'max_length_direction', 'width595', 'width',\n",
       "       'ai', 'si', 'ui', 'vi', 'a10', 's10', 'u10', 'v10', 't2m', 'msl',\n",
       "       'year_start', 'year_end', 'missing_sic', 'sequence', 'event_day',\n",
       "       'day_before_event', 'day_after_event', 'overlap_flag', 'single_day',\n",
       "       'season_start_flag', 'season_end_flag', 'first_day', 'final_day',\n",
       "       'peak_day', 'event_length', 'after_event_length', 'before_event_length',\n",
       "       'esei', 'ese10', 'si_km', 'e10', 'a10_r', 'ai_r',\n",
       "       'centermass_direction_r', 'max_length_direction_r', 'up', 'vp', 'ta_wi',\n",
       "       'ta_ip', 'ta_wp'],\n",
       "      dtype='object')"
      ]
     },
     "execution_count": 88,
     "metadata": {},
     "output_type": "execute_result"
    }
   ],
   "source": [
    "DF.keys()"
   ]
  },
  {
   "cell_type": "code",
   "execution_count": 89,
   "id": "7d186788",
   "metadata": {},
   "outputs": [
    {
     "data": {
      "text/plain": [
       "2269    True\n",
       "2270    True\n",
       "2271    True\n",
       "2272    True\n",
       "2273    True\n",
       "        ... \n",
       "5440    True\n",
       "5441    True\n",
       "5442    True\n",
       "5443    True\n",
       "5444    True\n",
       "Name: day_before_event, Length: 3176, dtype: bool"
      ]
     },
     "execution_count": 89,
     "metadata": {},
     "output_type": "execute_result"
    }
   ],
   "source": [
    "DF.day_before_event!=-1"
   ]
  },
  {
   "cell_type": "code",
   "execution_count": 75,
   "id": "6b42b993",
   "metadata": {},
   "outputs": [
    {
     "data": {
      "text/plain": [
       "7.000063475218989"
      ]
     },
     "execution_count": 75,
     "metadata": {},
     "output_type": "execute_result"
    }
   ],
   "source": [
    "np.nanpercentile(DF.s10[dir_conds(DF, 'wind') & (DF.extent>0)], 20)"
   ]
  },
  {
   "cell_type": "code",
   "execution_count": 76,
   "id": "ccf451b1",
   "metadata": {},
   "outputs": [
    {
     "data": {
      "text/plain": [
       "10.410253013183217"
      ]
     },
     "execution_count": 76,
     "metadata": {},
     "output_type": "execute_result"
    }
   ],
   "source": [
    "np.nanpercentile(DF.si_km[dir_conds(DF, 'ice') & (DF.extent>0)], 20)"
   ]
  },
  {
   "cell_type": "code",
   "execution_count": 81,
   "id": "826df0a7",
   "metadata": {},
   "outputs": [
    {
     "data": {
      "text/plain": [
       "6.999765512526426"
      ]
     },
     "execution_count": 81,
     "metadata": {},
     "output_type": "execute_result"
    }
   ],
   "source": [
    "np.nanpercentile(DF.s10[dir_conds(DF, 'wind') & (DF.extent==0)], 60)"
   ]
  },
  {
   "cell_type": "code",
   "execution_count": null,
   "id": "a731c072",
   "metadata": {},
   "outputs": [],
   "source": [
    "np.nanpercentile(DF.s10[dir_conds(DF, 'wind') & (DF.extent==0)], 60)"
   ]
  },
  {
   "cell_type": "code",
   "execution_count": 182,
   "id": "e2757825",
   "metadata": {},
   "outputs": [
    {
     "data": {
      "text/plain": [
       "Index(['time', 'month', 'year', 'pre_2003', '2003_2023', 'compact', 'open',\n",
       "       'q1', 'q2', 'q3', 'q4', 'extent', 'length_145max', 'length_145min',\n",
       "       'length_145p95', 'length_145p5', 'length_max', 'centermass_length',\n",
       "       'centermass_direction', 'max_length_direction', 'width595', 'width',\n",
       "       'ai', 'si', 'ui', 'vi', 'a10', 's10', 'u10', 'v10', 't2m', 'msl',\n",
       "       'year_start', 'year_end', 'missing_sic', 'sequence', 'event_day',\n",
       "       'day_before_event', 'day_after_event', 'overlap_flag', 'single_day',\n",
       "       'season_start_flag', 'season_end_flag', 'first_day', 'final_day',\n",
       "       'peak_day', 'event_length', 'after_event_length', 'before_event_length',\n",
       "       'esei', 'ese10', 'si_km', 'e10', 'a10_r', 'ai_r',\n",
       "       'centermass_direction_r', 'max_length_direction_r', 'up', 'vp', 'ta_wi',\n",
       "       'ta_ip', 'ta_wp'],\n",
       "      dtype='object')"
      ]
     },
     "execution_count": 182,
     "metadata": {},
     "output_type": "execute_result"
    }
   ],
   "source": [
    "DF.keys()"
   ]
  },
  {
   "cell_type": "code",
   "execution_count": 187,
   "id": "404fb9f1",
   "metadata": {},
   "outputs": [
    {
     "data": {
      "text/plain": [
       "(array([232., 167.,  43.,   3.,   6.,   2.,   2.,   0.,   1.,   3.]),\n",
       " array([  0.        ,  21.62105315,  43.24210629,  64.86315944,\n",
       "         86.48421259, 108.10526574, 129.72631888, 151.34737203,\n",
       "        172.96842518, 194.58947833, 216.21053147]),\n",
       " <BarContainer object of 10 artists>)"
      ]
     },
     "execution_count": 187,
     "metadata": {},
     "output_type": "execute_result"
    },
    {
     "data": {
      "image/png": "[encoded data removed]",
      "text/plain": [
       "<Figure size 640x480 with 1 Axes>"
      ]
     },
     "metadata": {},
     "output_type": "display_data"
    }
   ],
   "source": [
    "plt.hist(DF['length_145max'][open_])\n",
    "plt.hist(DF['width'][open_])"
   ]
  },
  {
   "cell_type": "code",
   "execution_count": null,
   "id": "9643a809",
   "metadata": {},
   "outputs": [],
   "source": []
  },
  {
   "cell_type": "code",
   "execution_count": 330,
   "id": "e48cafae",
   "metadata": {},
   "outputs": [
    {
     "data": {
      "image/png": "[encoded data removed]",
      "text/plain": [
       "<Figure size 300x300 with 1 Axes>"
      ]
     },
     "metadata": {},
     "output_type": "display_data"
    }
   ],
   "source": [
    "fig, ax = plt.subplots(figsize=(3,3))\n",
    "\n",
    "\n",
    "bin_edges = np.arange(0,18,1)\n",
    "bin_width = np.diff(bin_edges)[0]\n",
    "bin_centers = bin_edges[:-1] + bin_width/2\n",
    "\n",
    "# ax2 = ax.twinx()\n",
    "\n",
    "DF = dfr\n",
    "\n",
    "for cnt in bin_centers:\n",
    "    \n",
    "    in_bin = (DF.s10 >= cnt-bin_width/2) & (DF.s10 < cnt+bin_width/2)\n",
    "    gt_bin = (DF.s10 >= cnt-bin_width/2)\n",
    "    lt_bin = (DF.s10 < cnt-bin_width/2)\n",
    "\n",
    "    wind_cond = (in_bin & (dir_conds(DF, 'wind'))) & (DF.year>=2016)\n",
    "    \n",
    "#     ax.bar(cnt, np.sum(wind_cond)/len(DF[(DF.year<2016)&(dir_conds(DF, 'wind'))]), color='lightgray')\n",
    "#     wind_cond = (in_bin & (dir_conds(DF, 'wind'))) & (DF.year>=2016)\n",
    "#     ax.bar(cnt, np.sum(wind_cond)/len(DF[(DF.year>=2016)&(dir_conds(DF, 'wind'))]), color='r', alpha=0.5)\n",
    "    \n",
    "    ax.bar(cnt, np.sum(wind_cond&(DF.extent>0))/np.sum(wind_cond), color='r', alpha=0.5)\n",
    "    \n",
    "#     wind_cond = (in_bin & (dir_conds(DF, 'ice'))) & (DF.year>=2016)\n",
    "#     ax.bar(cnt, np.sum(wind_cond&(DF.extent>0))/np.sum(wind_cond), color='b', alpha=0.5, zorder=-1)\n",
    "    \n",
    "#     ax.bar(cnt, np.sum(wind_cond&(DF.extent==0))/np.sum(wind_cond), color='r', alpha=0.5)\n",
    "    \n",
    "# ax.set_ylim(0.2,1)  "
   ]
  },
  {
   "cell_type": "code",
   "execution_count": 238,
   "id": "b68e3e93",
   "metadata": {},
   "outputs": [
    {
     "data": {
      "text/plain": [
       "468"
      ]
     },
     "execution_count": 238,
     "metadata": {},
     "output_type": "execute_result"
    }
   ],
   "source": [
    "np.sum(dfr.event_length > 1)"
   ]
  },
  {
   "cell_type": "code",
   "execution_count": 213,
   "id": "eeb74a6b",
   "metadata": {},
   "outputs": [
    {
     "data": {
      "text/plain": [
       "0.6427015250544662"
      ]
     },
     "execution_count": 213,
     "metadata": {},
     "output_type": "execute_result"
    }
   ],
   "source": [
    "np.sum((speed_conds(DF, 'wind') &speed_conds(DF, 'ice') )& (open_)) / np.sum(open_)"
   ]
  },
  {
   "cell_type": "code",
   "execution_count": 236,
   "id": "c349ac4f",
   "metadata": {},
   "outputs": [
    {
     "data": {
      "text/plain": [
       "0.1337231968810916"
      ]
     },
     "execution_count": 236,
     "metadata": {},
     "output_type": "execute_result"
    }
   ],
   "source": [
    "np.sum((speed_conds(DF, 'wind') &speed_conds(DF, 'ice') )& (comp_)) / np.sum(comp_)"
   ]
  },
  {
   "cell_type": "code",
   "execution_count": 207,
   "id": "57bbcfb3",
   "metadata": {},
   "outputs": [
    {
     "data": {
      "text/plain": [
       "0.26003898635477585"
      ]
     },
     "execution_count": 207,
     "metadata": {},
     "output_type": "execute_result"
    }
   ],
   "source": [
    "np.sum(dir_conds(DF, 'wind') & (comp_)) / np.sum(comp_)"
   ]
  },
  {
   "cell_type": "code",
   "execution_count": 208,
   "id": "edb70fc9",
   "metadata": {},
   "outputs": [
    {
     "data": {
      "text/plain": [
       "0.3224171539961014"
      ]
     },
     "execution_count": 208,
     "metadata": {},
     "output_type": "execute_result"
    }
   ],
   "source": [
    "np.sum(dir_conds(DF, 'ice') & (comp_)) / np.sum(comp_)"
   ]
  },
  {
   "cell_type": "code",
   "execution_count": 225,
   "id": "52bef2c1",
   "metadata": {},
   "outputs": [
    {
     "data": {
      "text/plain": [
       "1.5156143481228357"
      ]
     },
     "execution_count": 225,
     "metadata": {},
     "output_type": "execute_result"
    }
   ],
   "source": [
    "np.nanmean(DF[dir_conds(DF, 'wind') & (open_)].s10)/np.nanmean(DF[dir_conds(DF, 'wind') & (comp_)].s10)"
   ]
  },
  {
   "cell_type": "code",
   "execution_count": 235,
   "id": "f5ce65ea",
   "metadata": {},
   "outputs": [
    {
     "data": {
      "text/plain": [
       "8.244899101817778"
      ]
     },
     "execution_count": 235,
     "metadata": {},
     "output_type": "execute_result"
    }
   ],
   "source": [
    "np.nanmean(DF[dir_conds(DF, 'ice') & (comp_)].si_km)"
   ]
  },
  {
   "cell_type": "code",
   "execution_count": 996,
   "id": "b56dbc62",
   "metadata": {},
   "outputs": [
    {
     "name": "stdout",
     "output_type": "stream",
     "text": [
      "0.31496062992125984\n",
      "0.4896694214876033\n",
      "\n",
      "0.8588957055214724\n",
      "0.7269938650306749\n"
     ]
    }
   ],
   "source": [
    "dir_event = dir_conds(DF, 'wind') & dir_conds(DF, 'ice')\n",
    "speed_event = speed_conds(DF, 'wind') & speed_conds(DF, 'ice')\n",
    "\n",
    "print(np.sum(cond&dir_event)/np.sum(dir_event))\n",
    "print(np.sum(cond&(dir_event&speed_event))/np.sum(dir_event&speed_event))\n",
    "\n",
    "print()\n",
    "print(np.sum(cond&dir_event)/np.sum(cond))\n",
    "print(np.sum(cond&(dir_event&speed_event))/np.sum(cond))"
   ]
  },
  {
   "cell_type": "code",
   "execution_count": 1876,
   "id": "4d3f5708",
   "metadata": {},
   "outputs": [
    {
     "data": {
      "text/html": [
       "0.017806267806267807 "
      ],
      "text/latex": [
       "$0.017806267806267807\\ $"
      ],
      "text/plain": [
       "<Quantity(0.0178062678, 'dimensionless')>"
      ]
     },
     "execution_count": 1876,
     "metadata": {},
     "output_type": "execute_result"
    }
   ],
   "source": [
    "1/(6.5*units('m/s') / (10*units('km/day').to('m/s')))"
   ]
  },
  {
   "cell_type": "code",
   "execution_count": 1854,
   "id": "fe3487bc",
   "metadata": {},
   "outputs": [
    {
     "data": {
      "text/plain": [
       "0.3219741480611046"
      ]
     },
     "execution_count": 1854,
     "metadata": {},
     "output_type": "execute_result"
    }
   ],
   "source": [
    "np.sum(dir_conds(DF[cond], 'ice'))/np.sum(cond)"
   ]
  },
  {
   "cell_type": "code",
   "execution_count": 1855,
   "id": "a583f04f",
   "metadata": {},
   "outputs": [
    {
     "data": {
      "text/plain": [
       "0.40775558166862513"
      ]
     },
     "execution_count": 1855,
     "metadata": {},
     "output_type": "execute_result"
    }
   ],
   "source": [
    "np.sum(dir_conds(DF[cond], 'ice')+dir_conds(DF[cond], 'wind'))/np.sum(cond)"
   ]
  },
  {
   "cell_type": "code",
   "execution_count": 361,
   "id": "7fa43ccc",
   "metadata": {},
   "outputs": [],
   "source": [
    "DF = dfb"
   ]
  },
  {
   "cell_type": "code",
   "execution_count": 366,
   "id": "d9e1d8fc",
   "metadata": {},
   "outputs": [
    {
     "data": {
      "text/plain": [
       "6.223059455247467"
      ]
     },
     "execution_count": 366,
     "metadata": {},
     "output_type": "execute_result"
    }
   ],
   "source": [
    "np.nanpercentile(DF.s10[DF.extent>0], 25)"
   ]
  },
  {
   "cell_type": "code",
   "execution_count": 367,
   "id": "b4ac36d2",
   "metadata": {},
   "outputs": [
    {
     "data": {
      "text/plain": [
       "9.065701407080223"
      ]
     },
     "execution_count": 367,
     "metadata": {},
     "output_type": "execute_result"
    }
   ],
   "source": [
    "np.nanpercentile(DF.si_km[DF.extent>0], 25)"
   ]
  },
  {
   "cell_type": "code",
   "execution_count": 1851,
   "id": "6e0bf1cd",
   "metadata": {},
   "outputs": [
    {
     "data": {
      "text/plain": [
       "9.695502569375368"
      ]
     },
     "execution_count": 1851,
     "metadata": {},
     "output_type": "execute_result"
    }
   ],
   "source": [
    "np.nanpercentile(DF[cond][dir_conds(DF[cond], 'ice')+dir_conds(DF[cond], 'wind')].s10, 50)"
   ]
  },
  {
   "cell_type": "code",
   "execution_count": 1852,
   "id": "c7ed4889",
   "metadata": {},
   "outputs": [
    {
     "data": {
      "text/plain": [
       "16.734817261671825"
      ]
     },
     "execution_count": 1852,
     "metadata": {},
     "output_type": "execute_result"
    }
   ],
   "source": [
    "np.nanpercentile(DF[cond][dir_conds(DF[cond], 'ice')&dir_conds(DF[cond], 'wind')].si_km, 50)"
   ]
  },
  {
   "cell_type": "code",
   "execution_count": 1781,
   "id": "7660d372",
   "metadata": {},
   "outputs": [
    {
     "data": {
      "text/html": [
       "10.0 kilometer/day"
      ],
      "text/latex": [
       "$10.0\\ \\frac{\\mathrm{kilometer}}{\\mathrm{day}}$"
      ],
      "text/plain": [
       "<Quantity(10.0, 'kilometer / day')>"
      ]
     },
     "execution_count": 1781,
     "metadata": {},
     "output_type": "execute_result"
    }
   ],
   "source": [
    "6 * (0.019290123456790122*100) * units('cm/s').to('km/day')"
   ]
  },
  {
   "cell_type": "code",
   "execution_count": 1768,
   "id": "0ae38d01",
   "metadata": {},
   "outputs": [
    {
     "data": {
      "text/plain": [
       "1.92901234"
      ]
     },
     "execution_count": 1768,
     "metadata": {},
     "output_type": "execute_result"
    }
   ],
   "source": [
    "1*(0.0192901234*100)"
   ]
  },
  {
   "cell_type": "code",
   "execution_count": 1777,
   "id": "c873998a",
   "metadata": {},
   "outputs": [
    {
     "data": {
      "text/plain": [
       "19.444444444444446"
      ]
     },
     "execution_count": 1777,
     "metadata": {},
     "output_type": "execute_result"
    }
   ],
   "source": [
    "35 / (0.0192901234*100)"
   ]
  },
  {
   "cell_type": "code",
   "execution_count": 1764,
   "id": "d55ab204",
   "metadata": {},
   "outputs": [
    {
     "data": {
      "text/html": [
       "0.019290123456790122 meter/second"
      ],
      "text/latex": [
       "$0.019290123456790122\\ \\frac{\\mathrm{meter}}{\\mathrm{second}}$"
      ],
      "text/plain": [
       "<Quantity(0.0192901235, 'meter / second')>"
      ]
     },
     "execution_count": 1764,
     "metadata": {},
     "output_type": "execute_result"
    }
   ],
   "source": [
    "10*units('km/day').to('m/s') / 6"
   ]
  },
  {
   "cell_type": "code",
   "execution_count": 1782,
   "id": "2c768da9",
   "metadata": {},
   "outputs": [
    {
     "data": {
      "text/plain": [
       "0.7006369426751592"
      ]
     },
     "execution_count": 1782,
     "metadata": {},
     "output_type": "execute_result"
    }
   ],
   "source": [
    "np.sum(speed_conds(DF[DF.extent>0], 'ice'))/np.sum(DF.extent>0)"
   ]
  },
  {
   "cell_type": "code",
   "execution_count": 1783,
   "id": "67feb2c3",
   "metadata": {},
   "outputs": [
    {
     "data": {
      "text/plain": [
       "0.7622080679405521"
      ]
     },
     "execution_count": 1783,
     "metadata": {},
     "output_type": "execute_result"
    }
   ],
   "source": [
    "np.sum(speed_conds(DF[DF.extent>0], 'wind'))/np.sum(DF.extent>0)"
   ]
  },
  {
   "cell_type": "code",
   "execution_count": 813,
   "id": "fb2ffeaa",
   "metadata": {},
   "outputs": [
    {
     "data": {
      "text/plain": [
       "0.7770700636942676"
      ]
     },
     "execution_count": 813,
     "metadata": {},
     "output_type": "execute_result"
    }
   ],
   "source": [
    "np.sum(dir_conds(DF[DF.extent>0], 'ice'))/np.sum(DF.extent>0)"
   ]
  },
  {
   "cell_type": "code",
   "execution_count": 812,
   "id": "09d368a5",
   "metadata": {},
   "outputs": [
    {
     "data": {
      "text/plain": [
       "0.7961783439490446"
      ]
     },
     "execution_count": 812,
     "metadata": {},
     "output_type": "execute_result"
    }
   ],
   "source": [
    "np.sum(dir_conds(DF[DF.extent>0], 'wind'))/np.sum(DF.extent>0)"
   ]
  },
  {
   "cell_type": "code",
   "execution_count": 702,
   "id": "36e38014",
   "metadata": {},
   "outputs": [
    {
     "data": {
      "text/html": [
       "1.5379199999999997 kilometer/day"
      ],
      "text/latex": [
       "$1.5379199999999997\\ \\frac{\\mathrm{kilometer}}{\\mathrm{day}}$"
      ],
      "text/plain": [
       "<Quantity(1.53792, 'kilometer / day')>"
      ]
     },
     "execution_count": 702,
     "metadata": {},
     "output_type": "execute_result"
    }
   ],
   "source": [
    "0.0178 * 1 * units('m/s').to('km/day')"
   ]
  },
  {
   "cell_type": "code",
   "execution_count": 742,
   "id": "2f916d0c",
   "metadata": {},
   "outputs": [
    {
     "data": {
      "text/html": [
       "16.90595089471494 meter/second"
      ],
      "text/latex": [
       "$16.90595089471494\\ \\frac{\\mathrm{meter}}{\\mathrm{second}}$"
      ],
      "text/plain": [
       "<Quantity(16.9059509, 'meter / second')>"
      ]
     },
     "execution_count": 742,
     "metadata": {},
     "output_type": "execute_result"
    }
   ],
   "source": [
    "26*units('km/day').to('cm/s').to('m/s') * (1/0.0178)"
   ]
  },
  {
   "cell_type": "code",
   "execution_count": null,
   "id": "ecb59e26",
   "metadata": {},
   "outputs": [],
   "source": [
    "30*units('km/day').to('cm/s').to('m/s') * (1/0.0178)"
   ]
  },
  {
   "cell_type": "code",
   "execution_count": 699,
   "id": "4df895d2",
   "metadata": {},
   "outputs": [
    {
     "data": {
      "text/html": [
       "19.99453807740325 meter/second"
      ],
      "text/latex": [
       "$19.99453807740325\\ \\frac{\\mathrm{meter}}{\\mathrm{second}}$"
      ],
      "text/plain": [
       "<Quantity(19.9945381, 'meter / second')>"
      ]
     },
     "execution_count": 699,
     "metadata": {},
     "output_type": "execute_result"
    }
   ],
   "source": [
    "30.75*units('km/day').to('cm/s').to('m/s') * (1/0.0178)"
   ]
  },
  {
   "cell_type": "code",
   "execution_count": 691,
   "id": "3e621f7a",
   "metadata": {},
   "outputs": [
    {
     "data": {
      "text/html": [
       "6.502288805659593 meter/second"
      ],
      "text/latex": [
       "$6.502288805659593\\ \\frac{\\mathrm{meter}}{\\mathrm{second}}$"
      ],
      "text/plain": [
       "<Quantity(6.50228881, 'meter / second')>"
      ]
     },
     "execution_count": 691,
     "metadata": {},
     "output_type": "execute_result"
    }
   ],
   "source": [
    "10*units('km/day').to('cm/s').to('m/s') * (1/0.0178)"
   ]
  },
  {
   "cell_type": "code",
   "execution_count": 721,
   "id": "54e41d30",
   "metadata": {},
   "outputs": [
    {
     "data": {
      "text/plain": [
       "0.18527222875048963"
      ]
     },
     "execution_count": 721,
     "metadata": {},
     "output_type": "execute_result"
    }
   ],
   "source": [
    "np.sum(speed_conds(DF[DF.extent==0], 'ice'))/np.sum(DF.extent==0)"
   ]
  },
  {
   "cell_type": "code",
   "execution_count": 723,
   "id": "56d8180e",
   "metadata": {},
   "outputs": [
    {
     "data": {
      "text/plain": [
       "0.7006369426751592"
      ]
     },
     "execution_count": 723,
     "metadata": {},
     "output_type": "execute_result"
    }
   ],
   "source": [
    "np.sum(speed_conds(DF[DF.extent>0], 'ice'))/np.sum(DF.extent>0)"
   ]
  },
  {
   "cell_type": "code",
   "execution_count": 665,
   "id": "b4ffdad7",
   "metadata": {},
   "outputs": [
    {
     "data": {
      "text/plain": [
       "0.7006369426751592"
      ]
     },
     "execution_count": 665,
     "metadata": {},
     "output_type": "execute_result"
    }
   ],
   "source": [
    "np.sum(speed_conds(DF[DF.extent>0], 'ice'))/np.sum(DF.extent>0)"
   ]
  },
  {
   "cell_type": "code",
   "execution_count": 666,
   "id": "f323f538",
   "metadata": {},
   "outputs": [
    {
     "data": {
      "text/plain": [
       "[0.19607843137254902, 0.45098039215686275, 1.0]"
      ]
     },
     "execution_count": 666,
     "metadata": {},
     "output_type": "execute_result"
    }
   ],
   "source": [
    "color1"
   ]
  },
  {
   "cell_type": "code",
   "execution_count": 168,
   "id": "1242dfc3",
   "metadata": {},
   "outputs": [
    {
     "data": {
      "text/html": [
       "34.56 kilometer/day"
      ],
      "text/latex": [
       "$34.56\\ \\frac{\\mathrm{kilometer}}{\\mathrm{day}}$"
      ],
      "text/plain": [
       "<Quantity(34.56, 'kilometer / day')>"
      ]
     },
     "execution_count": 168,
     "metadata": {},
     "output_type": "execute_result"
    }
   ],
   "source": [
    "0.02*20*units('m/s').to('cm/s').to('km/day')"
   ]
  },
  {
   "cell_type": "code",
   "execution_count": 135,
   "id": "c051269f",
   "metadata": {},
   "outputs": [
    {
     "data": {
      "text/html": [
       "1.7280000000000002 kilometer/day"
      ],
      "text/latex": [
       "$1.7280000000000002\\ \\frac{\\mathrm{kilometer}}{\\mathrm{day}}$"
      ],
      "text/plain": [
       "<Quantity(1.728, 'kilometer / day')>"
      ]
     },
     "execution_count": 135,
     "metadata": {},
     "output_type": "execute_result"
    }
   ],
   "source": [
    "0.02*1*units('m/s').to('cm/s').to('km/day')"
   ]
  },
  {
   "cell_type": "code",
   "execution_count": null,
   "id": "092dd7da",
   "metadata": {},
   "outputs": [],
   "source": []
  },
  {
   "cell_type": "code",
   "execution_count": 439,
   "id": "1cc9ef93",
   "metadata": {},
   "outputs": [
    {
     "ename": "NameError",
     "evalue": "name 'c2' is not defined",
     "output_type": "error",
     "traceback": [
      "\u001b[0;31m---------------------------------------------------------------------------\u001b[0m",
      "\u001b[0;31mNameError\u001b[0m                                 Traceback (most recent call last)",
      "Cell \u001b[0;32mIn[439], line 34\u001b[0m\n\u001b[1;32m     31\u001b[0m \u001b[38;5;28;01mfor\u001b[39;00m ax \u001b[38;5;129;01min\u001b[39;00m [axs[\u001b[38;5;241m0\u001b[39m], axs[\u001b[38;5;241m1\u001b[39m]]:\n\u001b[1;32m     32\u001b[0m     ax\u001b[38;5;241m.\u001b[39mset_xlim(\u001b[38;5;241m0\u001b[39m,\u001b[38;5;241m360\u001b[39m)\n\u001b[0;32m---> 34\u001b[0m ccolor \u001b[38;5;241m=\u001b[39m c2\n\u001b[1;32m     35\u001b[0m bcolor \u001b[38;5;241m=\u001b[39m \u001b[38;5;124m'\u001b[39m\u001b[38;5;124mred\u001b[39m\u001b[38;5;124m'\u001b[39m\n\u001b[1;32m     37\u001b[0m bins \u001b[38;5;241m=\u001b[39m np\u001b[38;5;241m.\u001b[39marange(\u001b[38;5;241m0\u001b[39m,\u001b[38;5;241m361\u001b[39m,\u001b[38;5;241m10\u001b[39m)\n",
      "\u001b[0;31mNameError\u001b[0m: name 'c2' is not defined"
     ]
    },
    {
     "data": {
      "image/png": "[encoded data removed]",
      "text/plain": [
       "<Figure size 600x200 with 3 Axes>"
      ]
     },
     "metadata": {},
     "output_type": "display_data"
    }
   ],
   "source": [
    "\n",
    "# create plot\n",
    "fig, AXS = plt.subplots(1,3, figsize=(6,2), subplot_kw={'projection': None})\n",
    "\n",
    "axs = AXS.ravel()\n",
    "# Override specific subplots to be polar using add_subplot\n",
    "# fig.delaxes(axs[0])\n",
    "# fig.delaxes(axs[1])\n",
    "# fig.delaxes(axs[2])\n",
    "# axs[0] = fig.add_subplot(1,5, 1, projection='polar')\n",
    "# axs[1] = fig.add_subplot(1,5, 2, projection='polar')\n",
    "# axs[2] = fig.add_subplot(1,5, 3, projection='polar')\n",
    "\n",
    "# for ax in [axs[0]]:\n",
    "#     ax.set_theta_zero_location(\"N\")\n",
    "#     ax.set_theta_direction(-1)\n",
    "#     ax.grid(zorder=-1)\n",
    "\n",
    "\n",
    "\n",
    "\n",
    "\n",
    "\n",
    "#============\n",
    "DF = dfb\n",
    "\n",
    "# DF = df[(df.year>=2003)&(df.year<2016)]\n",
    "# DF = df[(df.year>=2016)&(df.year<2026)]\n",
    "#============\n",
    "\n",
    "\n",
    "for ax in [axs[0], axs[1]]:\n",
    "    ax.set_xlim(0,360)\n",
    "\n",
    "ccolor = c2\n",
    "bcolor = 'red'\n",
    "\n",
    "bins = np.arange(0,361,10)\n",
    "comp_ = (DF.extent==0)\n",
    "# open_ = (DF.extent>0)&(not_last_day)\n",
    "open_ = (DF.extent>0)#&(not_last_day)\n",
    "\n",
    "# open_ = DF.day_before_event == -1\n",
    "# open_ = ((DF.extent>0)&(not_last_day)) + (DF.day_before_event == -1)\n",
    "# open_strict = (open_)&(DF.final_day == False)\n",
    "# base_cond = (daily_data['ppd']['year'] >= 2003)&(daily_data['ppd']['year'] < 2024)\n",
    "#  'centermass_direction_r'\n",
    "for ax, group, cond, color, alpha in zip([axs[0], axs[0], ], \n",
    "                            ['a10_r', 'a10_r',], [open_ , comp_], \n",
    "                            ['r', 'lightcoral', ], [1,1]):\n",
    "\n",
    "    x = DF[f'{group}'][cond]\n",
    "    h2 = plotter.quick_hist(x, bin_edges = bins)\n",
    "\n",
    "    theta = h2['centers']\n",
    "    width = h2['w']\n",
    "    ax.bar(theta, 100*h2['prob'], width=width, bottom=0.0, alpha=0.25, color=color, zorder=3)\n",
    "    ax.step(theta, 100*h2['prob'], where='mid', alpha=1, color=color,lw=1, zorder=3)\n",
    "    \n",
    "    \n",
    "    \n",
    "    \n",
    "for ax, group, cond, color, scale in zip([axs[1], axs[1], ], \n",
    "                            ['ai_r', 'ai_r',], [open_ , comp_], \n",
    "                            ['royalblue', 'skyblue', ], [1,1]):\n",
    "\n",
    "    x = DF[f'{group}'][cond]\n",
    "    h2 = plotter.quick_hist(x, bin_edges = bins)\n",
    "\n",
    "    theta = h2['centers']\n",
    "    width = h2['w']\n",
    "    ax.bar(theta, scale*100*h2['prob'], width=width, bottom=0.0, alpha=0.2, color=color, zorder=3)\n",
    "    ax.step(theta, scale*100*h2['prob'], where='mid', alpha=1, color=color,lw=1, zorder=3)\n",
    "    \n",
    "for ax, group, cond, color, scale in zip([axs[2], ], \n",
    "                            ['centermass_direction_r', ], [open_ ], \n",
    "                            ['r', ], [1,]):\n",
    "\n",
    "    x = DF[f'{group}'][cond]\n",
    "    h2 = plotter.quick_hist(x, bin_edges = bins)\n",
    "\n",
    "    theta = h2['centers']\n",
    "    width = h2['w']\n",
    "    ax.bar(theta, scale*100*h2['prob'], width=width, bottom=0.0, alpha=0.2, color=color, zorder=3)\n",
    "    ax.step(theta, scale*100*h2['prob'], where='mid', alpha=1, color=color,lw=1, zorder=3)\n",
    "    \n",
    "for ax in axs:\n",
    "    ax.set_xlim(0,360)\n",
    "    ax.set_xticks([0,90,180,270,360])\n",
    "    ax.set_ylim(0,35)\n",
    "    ax.yaxis.tick_right()\n",
    "    \n",
    "for ax in axs[:-1]:\n",
    "    ax.set_yticklabels([])\n",
    "\n",
    "    \n",
    "    \n",
    "ax = axs[0]\n",
    "ax.axvline((90-173)+360, c='r', ls='dotted')\n",
    "\n",
    "ax = axs[1]\n",
    "ax.axvline((90-165)+360)\n",
    "\n",
    "ax = axs[2]\n",
    "ax.axvline((90-145)+360)\n",
    "\n",
    "# axs[0].set_ylim(0,20)\n",
    "# axs[1].set_ylim(0,15)\n",
    "# axs[2].set_ylim(0,20)\n",
    "# for ax, R in zip([axs[0], axs[1], axs[2]], [5,3,5]):\n",
    "#     th = (90+15)*np.pi/180\n",
    "#     ax.plot([th, th], [0,ax.get_ylim()[1]], c='k', ls='dashed', lw=1, zorder=100)\n",
    "#     ax.plot([th+np.pi, th+np.pi], [ax.get_ylim()[1],0], c='k', ls='dashed', lw=1, zorder=100)\n",
    "#     ax.text((90+15)*np.pi/180, R, 'coast', rotation = -15, va='top')\n",
    "    \n",
    "    \n",
    "AX = fig.add_axes([-0.45, 0.15, 0.75, 0.75], projection='polar') # inset polar axes\n",
    "ax = AX\n",
    "ax.set_ylim(0,10)\n",
    "ax.set_theta_zero_location(\"N\")\n",
    "ax.set_theta_direction(-1)\n",
    "ax.set_yticklabels([])\n",
    "ax.set_xticks(np.array([0,90,180,270])*(np.pi/180))\n",
    "\n",
    "\n",
    "th = (90+15)*np.pi/180\n",
    "ax.plot([th, th], [0,ax.get_ylim()[1]], c='k', ls='dashed', lw=1, zorder=100)\n",
    "ax.plot([th+np.pi, th+np.pi], [ax.get_ylim()[1],0], c='k', ls='dashed', lw=1, zorder=100)\n",
    "ax.text((90+15)*np.pi/180, 5, 'coast', rotation = -15, va='top', ha='center')\n",
    "\n",
    "th = (90-173+360)*np.pi/180\n",
    "ax.plot([th, th], [0,0.8*ax.get_ylim()[1]], c='r', ls='solid', lw=2, zorder=3)\n",
    "# ax.plot([th+np.pi, th+np.pi], [ax.get_ylim()[1],0], c='r', ls='dashed', lw=1, zorder=100)\n",
    "# ax.text((90+173)*np.pi/180, 0, 'coast', rotation = -15, va='top', ha='center')\n",
    "\n",
    "th = (90-161+360)*np.pi/180\n",
    "ax.plot([th, th], [0,0.8*ax.get_ylim()[1]], c='royalblue', ls='solid', lw=2, zorder=3)\n",
    "# ax.plot([th+np.pi, th+np.pi], [ax.get_ylim()[1],0], c='royalblue', ls='dashed', lw=1, zorder=100)\n",
    "\n",
    "th = (90-143+360)*np.pi/180\n",
    "ax.plot([th, th], [0,0.8*ax.get_ylim()[1]], c='gray', ls='solid', lw=2, zorder=3)\n",
    "# ax.plot([th+np.pi, th+np.pi], [ax.get_ylim()[1],0], c='gray', ls='dashed', lw=1, zorder=100)"
   ]
  },
  {
   "cell_type": "code",
   "execution_count": 2343,
   "id": "f7992090",
   "metadata": {},
   "outputs": [
    {
     "name": "stdout",
     "output_type": "stream",
     "text": [
      "173.3737593024387 degree\n",
      "161.75337988688685 degree\n",
      "143.01459107603304 degree\n"
     ]
    }
   ],
   "source": [
    "print(vectors.vector_angle(np.nanmean(DF['u10'][open_]), np.nanmean(DF['v10'][open_])))\n",
    "print(vectors.vector_angle(np.nanmean(DF['ui'][open_]), np.nanmean(DF['vi'][open_])))\n",
    "print(vectors.vector_angle(np.nanmean(DF['up'][open_]), np.nanmean(DF['vp'][open_])))"
   ]
  },
  {
   "cell_type": "code",
   "execution_count": null,
   "id": "c7405229",
   "metadata": {},
   "outputs": [],
   "source": []
  },
  {
   "cell_type": "code",
   "execution_count": 1625,
   "id": "e312577c",
   "metadata": {},
   "outputs": [
    {
     "data": {
      "text/plain": [
       "2269   -38.204756\n",
       "2278   -21.594618\n",
       "2279   -16.129223\n",
       "2290   -13.010949\n",
       "2291   -25.661554\n",
       "          ...    \n",
       "5407     5.895805\n",
       "5413     0.890385\n",
       "5414   -30.744152\n",
       "5415   -30.194390\n",
       "5416   -17.019778\n",
       "Name: up, Length: 471, dtype: float64"
      ]
     },
     "execution_count": 1625,
     "metadata": {},
     "output_type": "execute_result"
    }
   ],
   "source": [
    "DF.up[COND]"
   ]
  },
  {
   "cell_type": "code",
   "execution_count": null,
   "id": "08300bc7",
   "metadata": {},
   "outputs": [],
   "source": [
    "df"
   ]
  },
  {
   "cell_type": "code",
   "execution_count": 353,
   "id": "188c5537",
   "metadata": {},
   "outputs": [
    {
     "name": "stdout",
     "output_type": "stream",
     "text": [
      "173.3737593024387 degree\n",
      "161.75337988688685 degree\n",
      "143.01459107603304 degree\n"
     ]
    }
   ],
   "source": [
    "DF = dfb\n",
    "\n",
    "COND = DF.extent>0\n",
    "A10 = vectors.vector_angle(np.nanmean(DF.u10[COND]), np.nanmean(DF.v10[COND]))\n",
    "Ai = vectors.vector_angle(np.nanmean(DF.ui[COND]), np.nanmean(DF.vi[COND]))\n",
    "Ap = vectors.vector_angle(np.nanmean(DF.up[COND]), np.nanmean(DF.vp[COND]))\n",
    "\n",
    "print(A10)\n",
    "print(Ai)\n",
    "print(Ap)"
   ]
  },
  {
   "cell_type": "code",
   "execution_count": 354,
   "id": "4198f290",
   "metadata": {},
   "outputs": [
    {
     "data": {
      "text/plain": [
       "<matplotlib.lines.Line2D at 0x1780e9250>"
      ]
     },
     "execution_count": 354,
     "metadata": {},
     "output_type": "execute_result"
    },
    {
     "data": {
      "image/png": "[encoded data removed]",
      "text/plain": [
       "<Figure size 300x300 with 1 Axes>"
      ]
     },
     "metadata": {},
     "output_type": "display_data"
    }
   ],
   "source": [
    "fig, ax = plt.subplots(figsize=(3,3))\n",
    "plt.hist(DF['ta_wi'][open_], bins=np.arange(-90,90,5))\n",
    "plt.hist(DF['ta_wp'][open_], bins=np.arange(-90,90,5))\n",
    "plt.axvline(18, c='k')\n",
    "plt.axvline(28, c='k')"
   ]
  },
  {
   "cell_type": "code",
   "execution_count": 2464,
   "id": "dba3440b",
   "metadata": {},
   "outputs": [
    {
     "data": {
      "text/plain": [
       "18.310160999317887"
      ]
     },
     "execution_count": 2464,
     "metadata": {},
     "output_type": "execute_result"
    }
   ],
   "source": [
    "np.nanmedian(DF['ta_ip'][open_])"
   ]
  },
  {
   "cell_type": "code",
   "execution_count": 2463,
   "id": "842ad0fc",
   "metadata": {},
   "outputs": [
    {
     "data": {
      "text/plain": [
       "28.500028176940397"
      ]
     },
     "execution_count": 2463,
     "metadata": {},
     "output_type": "execute_result"
    }
   ],
   "source": [
    "np.nanmedian(DF['ta_wp'][open_])"
   ]
  },
  {
   "cell_type": "code",
   "execution_count": null,
   "id": "68594226",
   "metadata": {},
   "outputs": [],
   "source": []
  },
  {
   "cell_type": "code",
   "execution_count": 1422,
   "id": "4b6a91ed",
   "metadata": {},
   "outputs": [
    {
     "data": {
      "text/plain": [
       "<matplotlib.lines.Line2D at 0x19169aed0>"
      ]
     },
     "execution_count": 1422,
     "metadata": {},
     "output_type": "execute_result"
    },
    {
     "data": {
      "image/png": "[encoded data removed]",
      "text/plain": [
       "<Figure size 300x300 with 1 Axes>"
      ]
     },
     "metadata": {},
     "output_type": "display_data"
    }
   ],
   "source": [
    "\n",
    "#============\n",
    "# DF = df[(df.year>=1987)&(df.year<2026)]\n",
    "DF = dfb\n",
    "# DF = df[(df.year>=2016)&(df.year<2024)]\n",
    "# DF = df[(df.year>=2003)&(df.year<2016)]\n",
    "#============\n",
    "\n",
    "fig, ax = plt.subplots(figsize=(3,3))\n",
    "x = DF[f'centermass_direction_r'][(DF.extent>0)]\n",
    "h = plotter.quick_hist(x, bin_edges = bins)\n",
    "\n",
    "\n",
    "theta = h['centers']\n",
    "width = h['w']\n",
    "ax.bar(theta, 100*h['prob'], width=width, bottom=0.0, alpha=0.1, color=color, zorder=-1)\n",
    "ax.step(theta, 100*h['prob'], where='mid', alpha=0.3, color=color,lw=1, zorder=-1)\n",
    "    \n",
    "\n",
    "x = DF[f'max_length_direction_r'][(DF.extent>0)]\n",
    "h = plotter.quick_hist(x, bin_edges = bins)\n",
    "\n",
    "\n",
    "theta = h['centers']\n",
    "width = h['w']\n",
    "ax.bar(theta, 100*h['prob'], width=width, bottom=0.0, alpha=0.1, color='r', zorder=-1)\n",
    "ax.step(theta, 100*h['prob'], where='mid', alpha=0.3, color='r',lw=1, zorder=-1)\n",
    "    \n",
    "    \n",
    "ax.set_xlim(200,360)\n",
    "ax.axvline((90-145)+360)"
   ]
  },
  {
   "cell_type": "code",
   "execution_count": 936,
   "id": "f75a61bd",
   "metadata": {},
   "outputs": [
    {
     "data": {
      "text/plain": [
       "285"
      ]
     },
     "execution_count": 936,
     "metadata": {},
     "output_type": "execute_result"
    }
   ],
   "source": [
    "(90-165)+360"
   ]
  },
  {
   "cell_type": "code",
   "execution_count": 937,
   "id": "5f0f5f2c",
   "metadata": {},
   "outputs": [
    {
     "data": {
      "text/plain": [
       "305"
      ]
     },
     "execution_count": 937,
     "metadata": {},
     "output_type": "execute_result"
    }
   ],
   "source": [
    "(90-145)+360"
   ]
  },
  {
   "cell_type": "code",
   "execution_count": 938,
   "id": "c890d9f3",
   "metadata": {},
   "outputs": [
    {
     "data": {
      "text/plain": [
       "301.52934204516964"
      ]
     },
     "execution_count": 938,
     "metadata": {},
     "output_type": "execute_result"
    }
   ],
   "source": [
    "np.nanmedian(DF[f'max_length_direction_r'][(DF.extent>0)])"
   ]
  },
  {
   "cell_type": "code",
   "execution_count": 939,
   "id": "fcb3574d",
   "metadata": {},
   "outputs": [
    {
     "data": {
      "text/plain": [
       "305.7704628259503"
      ]
     },
     "execution_count": 939,
     "metadata": {},
     "output_type": "execute_result"
    }
   ],
   "source": [
    "np.nanmedian(DF[f'centermass_direction_r'][(DF.extent>0)])"
   ]
  },
  {
   "cell_type": "code",
   "execution_count": 1202,
   "id": "719db8fb",
   "metadata": {},
   "outputs": [],
   "source": []
  },
  {
   "cell_type": "code",
   "execution_count": 1203,
   "id": "84392fab",
   "metadata": {},
   "outputs": [
    {
     "data": {
      "text/html": [
       "5.787037037037036 meter/second"
      ],
      "text/latex": [
       "$5.787037037037036\\ \\frac{\\mathrm{meter}}{\\mathrm{second}}$"
      ],
      "text/plain": [
       "<Quantity(5.78703704, 'meter / second')>"
      ]
     },
     "execution_count": 1203,
     "metadata": {},
     "output_type": "execute_result"
    }
   ],
   "source": [
    "10*units('km/day').to('m/s')/0.02"
   ]
  },
  {
   "cell_type": "code",
   "execution_count": 1204,
   "id": "ed8bb00b",
   "metadata": {},
   "outputs": [
    {
     "data": {
      "text/plain": [
       "array([8.        , 7.90909091, 7.81818182, 7.72727273, 7.63636364,\n",
       "       7.54545455, 7.45454545, 7.36363636, 7.27272727, 7.18181818,\n",
       "       7.09090909, 7.        , 6.90909091, 6.81818182, 6.72727273,\n",
       "       6.63636364, 6.54545455, 6.45454545, 6.36363636, 6.27272727,\n",
       "       6.18181818, 6.09090909, 6.        ])"
      ]
     },
     "execution_count": 1204,
     "metadata": {},
     "output_type": "execute_result"
    }
   ],
   "source": [
    "np.linspace(8,6, len(years))"
   ]
  },
  {
   "cell_type": "code",
   "execution_count": 1274,
   "id": "be930752",
   "metadata": {},
   "outputs": [
    {
     "data": {
      "text/plain": [
       "<matplotlib.lines.Line2D at 0x18bc71970>"
      ]
     },
     "execution_count": 1274,
     "metadata": {},
     "output_type": "execute_result"
    },
    {
     "data": {
      "image/png": "[encoded data removed]",
      "text/plain": [
       "<Figure size 300x300 with 1 Axes>"
      ]
     },
     "metadata": {},
     "output_type": "display_data"
    }
   ],
   "source": [
    "\n",
    "# likelihoods = np.array([])\n",
    "\n",
    "fig, ax = plt.subplots(figsize=(3,3))\n",
    "\n",
    "# all_wind_dir = np.sum(wind_dir_cond)\n",
    "# all_ice_dir = np.sum(ice_dir_cond)\n",
    "\n",
    "cat = 'wind'\n",
    "scat = 's10'\n",
    "\n",
    "# cat = 'ice'\n",
    "# scat = 'si_km'\n",
    "\n",
    "all_dir = np.sum(dir_conds(DF, cat))\n",
    "\n",
    "for bb in range(len(speed_bins[cat])-1):\n",
    "    \n",
    "    bmin = speed_bins[cat][bb]\n",
    "    bmax = speed_bins[cat][bb+1]\n",
    "    bmid = (bmax+bmin)/2\n",
    "    \n",
    "    not_last_day = (DF.final_day == False)\n",
    "    not_last_day[DF.single_day == True] = True\n",
    "\n",
    "    speed_range = (DF[scat] > bmin) & (DF[scat] > bmax)\n",
    "#     speed_range = (DF[scat] < bmax)\n",
    "\n",
    "\n",
    "    COND = speed_range & (dir_conds(DF, cat)==True)\n",
    "    total_counts = np.sum(COND)\n",
    "    open_counts = np.sum((DF['extent'][COND].values > 0))#&not_last_day[COND])\n",
    "#     db_counts = np.sum(DF['day_before_event'][COND].values == -1)\n",
    "    \n",
    "#     plt.bar(bmid, (db_counts+open_counts)/total_counts, color='gray', width = 0.8*(bmax-bmin))\n",
    "    plt.bar(bmid, (open_counts)/total_counts, color='lightgray', width = 0.8*(bmax-bmin))\n",
    "    \n",
    "    \n",
    "#     plt.bar(bmid, 10*(total_counts/all_dir), bottom = 1, color='k', alpha=0.1, width = 0.8*(bmax-bmin))\n",
    "    \n",
    "plt.axvline(6, c='k')\n",
    "plt.axhline(0.33, c='k')"
   ]
  },
  {
   "cell_type": "code",
   "execution_count": null,
   "id": "404486bf",
   "metadata": {},
   "outputs": [],
   "source": []
  },
  {
   "cell_type": "code",
   "execution_count": 1690,
   "id": "e6de6cb8",
   "metadata": {},
   "outputs": [
    {
     "data": {
      "text/html": [
       "10.367999999999999 kilometer/day"
      ],
      "text/latex": [
       "$10.367999999999999\\ \\frac{\\mathrm{kilometer}}{\\mathrm{day}}$"
      ],
      "text/plain": [
       "<Quantity(10.368, 'kilometer / day')>"
      ]
     },
     "execution_count": 1690,
     "metadata": {},
     "output_type": "execute_result"
    }
   ],
   "source": [
    "0.02 * 6 * units('m/s').to('km/day')"
   ]
  },
  {
   "cell_type": "code",
   "execution_count": 1206,
   "id": "b31ce6af",
   "metadata": {},
   "outputs": [
    {
     "data": {
      "text/plain": [
       "9.048566991439179"
      ]
     },
     "execution_count": 1206,
     "metadata": {},
     "output_type": "execute_result"
    }
   ],
   "source": [
    "\n",
    "np.nanpercentile(DF.si[(DF['extent'] == 0)], 75)"
   ]
  },
  {
   "cell_type": "code",
   "execution_count": 1207,
   "id": "9e167ae4",
   "metadata": {},
   "outputs": [
    {
     "data": {
      "text/plain": [
       "11.697253499171095"
      ]
     },
     "execution_count": 1207,
     "metadata": {},
     "output_type": "execute_result"
    }
   ],
   "source": [
    "np.nanpercentile(DF.si[(DF['extent'] > 0)], 30)"
   ]
  },
  {
   "cell_type": "code",
   "execution_count": 1208,
   "id": "5134bf8c",
   "metadata": {},
   "outputs": [
    {
     "data": {
      "text/plain": [
       "6.952249333466214"
      ]
     },
     "execution_count": 1208,
     "metadata": {},
     "output_type": "execute_result"
    }
   ],
   "source": [
    "np.nanpercentile(DF.s10[(DF['extent'] > 0)], 30)"
   ]
  },
  {
   "cell_type": "code",
   "execution_count": 521,
   "id": "56e1793b",
   "metadata": {},
   "outputs": [
    {
     "name": "stderr",
     "output_type": "stream",
     "text": [
      "/opt/anaconda3/envs/SBSpolynya/lib/python3.12/site-packages/numpy/lib/nanfunctions.py:1562: RuntimeWarning: Mean of empty slice\n",
      "  return np.nanmean(a, axis, out=out, keepdims=keepdims)\n"
     ]
    }
   ],
   "source": [
    "years = np.arange(2003,2026)\n",
    "\n",
    "#================\n",
    "DF = dfr\n",
    "#================\n",
    "\n",
    "\n",
    "months = [12,1,2,3,4]\n",
    "monthly = {}\n",
    "monthly['pol_cts_no12'] = {}\n",
    "monthly['pol_cts_no122425'] = {}\n",
    "monthly['win_cts'] = {}\n",
    "monthly['win_cts_no12'] = {}\n",
    "monthly['win_cts_no2425'] = {}\n",
    "monthly['win_cts_no122425'] = {}\n",
    "monthly['ice_cts_no2425'] = {}\n",
    "monthly['ice_cts_no122425'] = {}\n",
    "monthly['tot_cts'] = {}\n",
    "monthly['tot_cts_no12'] = {}\n",
    "monthly['tot_cts_no2425'] = {}\n",
    "monthly['tot_cts_no122425'] = {}\n",
    "\n",
    "for key in monthly:\n",
    "    for month in months:\n",
    "        monthly[key][month] = 0\n",
    "\n",
    "        \n",
    "years = np.arange(2003,2026)\n",
    "annual = {}\n",
    "annual['pol_cts'] = {}\n",
    "annual['win_cts'] = {}\n",
    "annual['ice_cts'] = {}\n",
    "\n",
    "for key in annual:\n",
    "    for year in years:\n",
    "        annual[key][year] = 0\n",
    "\n",
    "\n",
    "\n",
    "pol_counts = np.array([])\n",
    "win_counts = np.array([])\n",
    "ice_counts = np.array([])\n",
    "\n",
    "wind_factors = {}\n",
    "wind_factors[25] = np.array([])\n",
    "wind_factors[50] = np.array([])\n",
    "wind_factors[75] = np.array([])\n",
    "\n",
    "wf_match_years = np.array([])\n",
    "years_match_wf = np.array([])\n",
    "\n",
    "wind_speeds = {}\n",
    "wind_speeds[25] = np.array([])\n",
    "wind_speeds[50] = np.array([])\n",
    "wind_speeds[75] = np.array([])\n",
    "\n",
    "ice_speeds = {}\n",
    "ice_speeds[25] = np.array([])\n",
    "ice_speeds[50] = np.array([])\n",
    "ice_speeds[75] = np.array([])\n",
    "\n",
    "air_temps = {}\n",
    "air_temps[25] = np.array([])\n",
    "air_temps[50] = np.array([])\n",
    "air_temps[75] = np.array([])\n",
    "\n",
    "for year in years:\n",
    "    \n",
    "    \n",
    "    year_cond = (DF.year == year)\n",
    "    \n",
    "    \n",
    "    \n",
    "    # EVENT COUNTS\n",
    "    #------------------------------\n",
    "    \n",
    "    # polynyas\n",
    "    #----------\n",
    "    \n",
    "    pol_cond = (DF.extent > 0)\n",
    "    \n",
    "    if year in [2012]:\n",
    "        annual['pol_cts'][year] += np.nan\n",
    "        pol_counts= np.append(pol_counts, np.nan)\n",
    "    \n",
    "    else:\n",
    "        num_pol = np.sum(pol_cond&year_cond)\n",
    "        annual['pol_cts'][year] += num_pol\n",
    "        \n",
    "        pol_counts= np.append(pol_counts, num_pol)\n",
    "\n",
    "    # save monthly counts\n",
    "    for month in months:\n",
    "        month_cond = (DF.month == month)\n",
    "        \n",
    "        if year not in [2012]:\n",
    "            monthly['pol_cts_no12'][month] += np.sum((year_cond&month_cond)&pol_cond)\n",
    "            monthly['tot_cts_no12'][month] += np.sum(year_cond&month_cond)\n",
    "\n",
    "        if year not in [2024,2025]: \n",
    "            monthly['pol_cts_no122425'][month] += np.sum((year_cond&month_cond)&pol_cond)\n",
    "            monthly['tot_cts_no122425'][month] += np.sum(year_cond&month_cond)\n",
    "    \n",
    "    # winds\n",
    "    #----------\n",
    "    \n",
    "    wind_cond = (dir_conds(DF, 'wind'))&(DF['s10'] > 7.5)\n",
    "    num_win = len(DF[year_cond&wind_cond])\n",
    "    win_counts= np.append(win_counts, num_win)\n",
    "    \n",
    "    \n",
    "    annual['win_cts'][year] += np.sum(year_cond&wind_cond)\n",
    "    \n",
    "#     if year in [2012]:\n",
    "#         annual['win_cts_no12'][year] += np.nan\n",
    "#     else:\n",
    "#         annual['win_cts_no12'][year] += np.sum(year_cond&wind_cond)\n",
    "#         if year in [2024, 2025]:\n",
    "#             annual['win_cts_no122425'][year] += np.nan\n",
    "#         else:\n",
    "#             annual['win_cts_no122425'][year] += np.sum(year_cond&wind_cond)\n",
    "        \n",
    "        \n",
    "    for month in months:\n",
    "        \n",
    "        month_cond = (DF.month == month)\n",
    "        monthly['win_cts'][month] += np.sum((year_cond&month_cond)&wind_cond)\n",
    "        monthly['tot_cts'][month] += np.sum(year_cond&month_cond)\n",
    "\n",
    "        if year not in [2012]:\n",
    "            monthly['win_cts_no12'][month] += np.sum((year_cond&month_cond)&wind_cond)\n",
    "        if year not in [2024, 2025]:\n",
    "            monthly['tot_cts_no2425'][month] += np.sum((year_cond&month_cond))\n",
    "            monthly['win_cts_no2425'][month] += np.sum((year_cond&month_cond)&wind_cond)\n",
    "        if year not in [2012, 2024,2025]: \n",
    "            monthly['win_cts_no122425'][month] += np.sum((year_cond&month_cond)&wind_cond)\n",
    "\n",
    "    # ice\n",
    "    #----------\n",
    "    \n",
    "    ice_cond = (dir_conds(DF, 'ice'))&(DF['si_km'] > 12)\n",
    "    \n",
    "    annual['ice_cts'][year] += np.sum(year_cond&ice_cond)\n",
    "    \n",
    "    for month in months:\n",
    "        \n",
    "        month_cond = (DF.month == month)\n",
    "        if year not in [2024,2025]:\n",
    "            monthly['ice_cts_no2425'][month] += np.sum((year_cond&month_cond)&ice_cond)\n",
    "        if year not in [2012, 2024, 2025]:\n",
    "            monthly['ice_cts_no122425'][month] += np.sum((year_cond&month_cond)&ice_cond)\n",
    "                \n",
    "                \n",
    "    \n",
    "    if year > 2023:\n",
    "        ice_counts= np.append(ice_counts, np.nan)\n",
    "    else:\n",
    "        num_ice = len(DF[(DF.year == year)&((dir_conds(DF, 'ice'))&(DF['si_km'] > 12))])\n",
    "        ice_counts= np.append(ice_counts, num_ice)\n",
    "    \n",
    "#     wind_dir_cond\n",
    "    all_ws = DF.s10[(DF.year == year)&(DF.extent>0)]\n",
    "    for key in ice_speeds.keys():\n",
    "        wind_speeds[key] = np.append(wind_speeds[key], np.nanpercentile(all_ws, key))\n",
    "        \n",
    "        \n",
    "    all_t2m = DF.t2m[(DF.year == year)&(DF.extent>0)]\n",
    "    for key in ice_speeds.keys():\n",
    "        air_temps[key] = np.append(air_temps[key], np.nanpercentile(all_t2m, key))\n",
    "            \n",
    "    # ice speeds\n",
    "    if year > 2023:\n",
    "        for key in ice_speeds.keys():\n",
    "            ice_speeds[key] = np.append(ice_speeds[key],  np.nan)\n",
    "    else:\n",
    "        all_is = DF.si[(DF.year == year)&(DF.extent>0)]\n",
    "        for key in ice_speeds.keys():\n",
    "            ice_speeds[key] = np.append(ice_speeds[key], np.nanpercentile(all_is, key))\n",
    "\n",
    "    # wind factors\n",
    "    if year > 2023:\n",
    "        for key in wind_factors.keys():\n",
    "            wind_factors[key] = np.append(wind_factors[key],  np.nan)\n",
    "    else:\n",
    "        all_wf = (DF.si/DF.s10)[((DF.year == year)&(dir_conds(DF, 'wind')))&(DF['s10']>3)]\n",
    "        \n",
    "        wf_match_years = np.append(wf_match_years, all_wf)\n",
    "        years_match_wf = np.append(years_match_wf, np.full(len(all_wf), year))\n",
    "        \n",
    "        for key in ice_speeds.keys():\n",
    "            wind_factors[key] = np.append(wind_factors[key], np.nanpercentile(all_wf, key))\n"
   ]
  },
  {
   "cell_type": "code",
   "execution_count": 510,
   "id": "eab7a5d1",
   "metadata": {},
   "outputs": [],
   "source": [
    "DF = dfb"
   ]
  },
  {
   "cell_type": "code",
   "execution_count": 514,
   "id": "92f6b6fe",
   "metadata": {},
   "outputs": [
    {
     "data": {
      "text/plain": [
       "7.431806753415982"
      ]
     },
     "execution_count": 514,
     "metadata": {},
     "output_type": "execute_result"
    }
   ],
   "source": [
    "np.nanpercentile(DF.s10[(DF.extent>0)&(dir_conds(DF, 'wind'))], 25)"
   ]
  },
  {
   "cell_type": "code",
   "execution_count": 515,
   "id": "3707819a",
   "metadata": {},
   "outputs": [
    {
     "data": {
      "text/plain": [
       "12.018180291875913"
      ]
     },
     "execution_count": 515,
     "metadata": {},
     "output_type": "execute_result"
    }
   ],
   "source": [
    "np.nanpercentile(DF.si_km[(DF.extent>0)&(dir_conds(DF, 'ice'))], 25)"
   ]
  },
  {
   "cell_type": "code",
   "execution_count": 513,
   "id": "067b1398",
   "metadata": {},
   "outputs": [
    {
     "data": {
      "text/plain": [
       "7.871787705925337"
      ]
     },
     "execution_count": 513,
     "metadata": {},
     "output_type": "execute_result"
    }
   ],
   "source": [
    "np.nanpercentile(DF.si_km[DF.extent>0], 20)"
   ]
  },
  {
   "cell_type": "code",
   "execution_count": null,
   "id": "ea816fc6",
   "metadata": {},
   "outputs": [],
   "source": []
  },
  {
   "cell_type": "code",
   "execution_count": null,
   "id": "2ea1945b",
   "metadata": {},
   "outputs": [],
   "source": []
  },
  {
   "cell_type": "code",
   "execution_count": 522,
   "id": "168da9cb",
   "metadata": {},
   "outputs": [
    {
     "name": "stderr",
     "output_type": "stream",
     "text": [
      "/var/folders/p8/hz449fpx6nscv0jb1klyfqb40000gp/T/ipykernel_25941/3924069139.py:50: RuntimeWarning: All-NaN slice encountered\n",
      "  ax.scatter(year, np.nanmedian(yeardat), c='lightgray')\n",
      "/var/folders/p8/hz449fpx6nscv0jb1klyfqb40000gp/T/ipykernel_25941/3924069139.py:53: RuntimeWarning: All-NaN slice encountered\n",
      "  ax.scatter(year, np.nanmedian(yeardat), c='r')\n"
     ]
    },
    {
     "data": {
      "image/png": "[encoded data removed]",
      "text/plain": [
       "<Figure size 300x300 with 1 Axes>"
      ]
     },
     "metadata": {},
     "output_type": "display_data"
    }
   ],
   "source": [
    "annual['win_cts_no12'] = annual['win_cts'].copy()\n",
    "annual['win_cts_no12'][2012] = np.nan\n",
    "\n",
    "annual['win_cts_no2425'] = annual['win_cts'].copy()\n",
    "annual['win_cts_no2425'][2024] = np.nan\n",
    "annual['win_cts_no2425'][2025] = np.nan\n",
    "\n",
    "annual['win_cts_no122425'] = annual['win_cts'].copy()\n",
    "annual['win_cts_no122425'][2012] = np.nan\n",
    "annual['win_cts_no122425'][2024] = np.nan\n",
    "annual['win_cts_no122425'][2025] = np.nan\n",
    "\n",
    "annual['ice_cts_no12'] = annual['ice_cts'].copy()\n",
    "annual['ice_cts_no12'][2012] = np.nan\n",
    "\n",
    "annual['ice_cts_no2425'] = annual['ice_cts'].copy()\n",
    "annual['ice_cts_no2425'][2024] = np.nan\n",
    "annual['ice_cts_no2425'][2025] = np.nan\n",
    "\n",
    "annual['ice_cts_no122425'] = annual['ice_cts'].copy()\n",
    "annual['ice_cts_no122425'][2012] = np.nan\n",
    "annual['ice_cts_no122425'][2024] = np.nan\n",
    "annual['ice_cts_no122425'][2025] = np.nan\n",
    "\n",
    "all_ice_cts = np.array([annual['ice_cts_no2425'][key] for key in annual['ice_cts_no2425'].keys()])\n",
    "all_pol_cts = np.array([annual['pol_cts'][key] for key in annual['pol_cts'].keys()])\n",
    "# all_win_cts = np.array([annual['win_cts_no122425'][key] for key in annual['win_cts_no122425'].keys()])\n",
    "all_win_cts = np.array([annual['win_cts'][key] for key in annual['win_cts'].keys()])\n",
    "\n",
    "years_no12 = np.append(np.arange(2003,2012), np.arange(2013,2026))\n",
    "years_no122425 = np.append(np.arange(2003,2012), np.arange(2013,2024))\n",
    "\n",
    "\n",
    "include_months = (df.month ==1)\n",
    "include_months[(df.month ==12)] = True\n",
    "\n",
    "# include_months = (df.month ==4)\n",
    "# include_months[(df.month ==3)] = True\n",
    "# include_months[(df.month ==2)] = True\n",
    "\n",
    "\n",
    "win_ev = dir_conds(df, 'wind') & (df['s10'] > 3)\n",
    "\n",
    "fig, ax = plt.subplots(figsize=(3,3))\n",
    "\n",
    "for year in np.arange(2003,2025):\n",
    "    \n",
    "    yeardat = (df.si/df.s10)[win_ev&(df.year==year)]\n",
    "\n",
    "    ax.scatter(year, np.nanmedian(yeardat), c='lightgray')\n",
    "    \n",
    "    yeardat = (df.si/df.s10)[(win_ev&(df.year==year))&(include_months)]\n",
    "    ax.scatter(year, np.nanmedian(yeardat), c='r')\n"
   ]
  },
  {
   "cell_type": "code",
   "execution_count": 523,
   "id": "6cc662e2",
   "metadata": {},
   "outputs": [
    {
     "data": {
      "text/plain": [
       "0.817216"
      ]
     },
     "execution_count": 523,
     "metadata": {},
     "output_type": "execute_result"
    }
   ],
   "source": [
    "0.904**2"
   ]
  },
  {
   "cell_type": "code",
   "execution_count": null,
   "id": "5fb96b96",
   "metadata": {},
   "outputs": [],
   "source": []
  },
  {
   "cell_type": "code",
   "execution_count": null,
   "id": "068f1690",
   "metadata": {},
   "outputs": [],
   "source": []
  },
  {
   "cell_type": "code",
   "execution_count": 524,
   "id": "99045a8e",
   "metadata": {},
   "outputs": [
    {
     "name": "stderr",
     "output_type": "stream",
     "text": [
      "/opt/anaconda3/envs/SBSpolynya/lib/python3.12/site-packages/numpy/lib/nanfunctions.py:1215: RuntimeWarning: Mean of empty slice\n",
      "  return np.nanmean(a, axis, out=out, keepdims=keepdims)\n",
      "/opt/anaconda3/envs/SBSpolynya/lib/python3.12/site-packages/numpy/lib/nanfunctions.py:1562: RuntimeWarning: Mean of empty slice\n",
      "  return np.nanmean(a, axis, out=out, keepdims=keepdims)\n"
     ]
    },
    {
     "data": {
      "image/png": "[encoded data removed]",
      "text/plain": [
       "<Figure size 675x375 with 4 Axes>"
      ]
     },
     "metadata": {},
     "output_type": "display_data"
    }
   ],
   "source": [
    "fig, AXS = plt.subplots(2,2,figsize=(6.75,3.75), gridspec_kw={'width_ratios':[2.25,1], 'height_ratios':[1,1.25]})\n",
    "\n",
    "axs = AXS.ravel()\n",
    "\n",
    "years = np.arange(2003,2026)\n",
    "months = [12,1,2,3,4]\n",
    "\n",
    "# total events per year\n",
    "# annual_counts = [np.sum([pol_stats['counts'][month][year][0] for month in months]) for year in years]\n",
    "\n",
    "\n",
    "# mar1_kw = {'edgecolor': 'k', 'facecolor':'None', 'lw':1.25, 'marker':'P', 'zorder':10, 's':23}\n",
    "# mar1_kw = {'edgecolor': 'k', 'facecolor':'k', 'lw':1, 'marker':'D', 'zorder':10, 's':30}\n",
    "# mar2_kw = {'edgecolor': [0.35,0.35,0.35], 'facecolor':'lightgray', 'lw':1.5, 'marker':'o', 's':35}\n",
    "\n",
    "C = [0.6,0.6,0.6]\n",
    "\n",
    "mar1_kw = {'edgecolor': 'k', 'facecolor':'None', 'lw':1.25, 'marker':'o', 'zorder':10, 's':30}\n",
    "mar2_kw = {'edgecolor': C, 'facecolor':C, 'lw':0, 'marker':'D', 's':30}\n",
    "\n",
    "mar1_kw_L = {'edgecolor': 'k', 'facecolor':'None', 'lw':1.25, 'marker':'o', 'zorder':10, 's':40}\n",
    "mar2_kw_L = {'edgecolor': C, 'facecolor':C, 'lw':0, 'marker':'D', 's':40}\n",
    "\n",
    "# mar2_kw = {'edgecolor': 'None', 'facecolor':[0.65,0.65,0.65], 'lw':1.5, 'marker':'x', 's':30}\n",
    "# cmocean.cm.ice(0.7)\n",
    "# mar3_kw = {'facecolor':[160/255,220/255,239/255],'edgecolor':cmocean.cm.ice(0.7), \n",
    "#            'lw':1.5, 'marker':'s', 's':40}\n",
    "\n",
    "mar3_kw = {'facecolor':[200/255,220/255,245/255],'edgecolor':[150/255,190/255,240/255], \n",
    "           'lw':1.5, 'marker':'s', 's':40}\n",
    "# bar_kw = {'facecolor':[166/255,205/255,255/255],'edgecolor':[130/255,175/255,235/255], 'lw':0, \"alpha\":1}\n",
    "\n",
    "bar_kw = {'facecolor':[200/255,220/255,245/255],'edgecolor':[150/255,190/255,240/255], 'lw':1.5, \"alpha\":1}\n",
    "\n",
    "# bar_kw = {'facecolor':[160/255,220/255,239/255],'edgecolor':cmocean.cm.ice(0.7), 'lw':1.5, \"alpha\":1}\n",
    "# bar_kw = {'color':'lightcoral', \"alpha\":1}\n",
    "\n",
    "ax = axs[2]\n",
    "\n",
    "for yy, year in enumerate(years):\n",
    "\n",
    "    \n",
    "    ax.bar(year, annual['pol_cts'][year], width=0.75, **bar_kw)\n",
    "    \n",
    "    \n",
    "    ax.scatter(year, annual['win_cts'][year], **mar1_kw)\n",
    "    \n",
    "    \n",
    "    ax.scatter(year, annual['ice_cts_no2425'][year], **mar2_kw)\n",
    "\n",
    "ax.plot(years, [annual['win_cts'][year] for year in years], c='k', lw=1)\n",
    "\n",
    "ax.plot(years, [annual['ice_cts_no2425'][year] for year in years], c=C, lw=1)\n",
    "        \n",
    "ax.set_ylim(0,95)\n",
    "ax.bar(2012, ax.get_xlim()[-1], color=[0.9,0.9,0.9], zorder=-11)\n",
    "ax.set_xlim(2002.25,2025.75)\n",
    "ax.set_ylabel('Days', rotation=0, labelpad=20, va='center')\n",
    "ax.set_xlabel('Year')\n",
    "ax.xaxis.set_major_locator(ticker.MultipleLocator(5))\n",
    "ax.xaxis.set_minor_locator(ticker.MultipleLocator(1))\n",
    "ax.yaxis.set_major_locator(ticker.MultipleLocator(30))\n",
    "ax.yaxis.set_minor_locator(ticker.MultipleLocator(10))\n",
    "\n",
    "ax = axs[3]\n",
    "\n",
    "for mm, month in enumerate(months):\n",
    "    month\n",
    "#     monthly['pol_cts'] = {}\n",
    "# monthly['win_cts'] = {}\n",
    "# monthly['ice_cts'] = {}\n",
    "# monthly['tot_cts'] = {}\n",
    "# monthly['tot_cts_no12'] = {}\n",
    "\n",
    "#     ax.bar(mm, monthly['pol_cts_no12'][month]/monthly['tot_cts_no12'][month], alpha=0.5, color='b')\n",
    "\n",
    "\n",
    "    total_days = monthly['tot_cts_no122425'][month]\n",
    "    \n",
    "    ax.bar(mm, len(years_no122425)*monthly['pol_cts_no122425'][month]/total_days, **bar_kw)\n",
    "    ax.scatter(mm, len(years_no122425)*monthly['win_cts_no122425'][month]/total_days, **mar1_kw_L)\n",
    "    ax.scatter(mm, len(years_no122425)*monthly['ice_cts_no122425'][month]/total_days, **mar2_kw_L)\n",
    "\n",
    "ax.plot(np.arange(len(months)), [len(years_no122425)*monthly['ice_cts_no122425'][month]/monthly['tot_cts_no122425'][month] for month in months], c=C, lw=1)  \n",
    "ax.plot(np.arange(len(months)), [len(years_no122425)*monthly['win_cts_no122425'][month]/monthly['tot_cts_no122425'][month] for month in months], c='k', lw=1)      \n",
    "    \n",
    "    \n",
    "# ax.set_ylabel('Days\\nper\\nmonth', rotation=0, labelpad=20, va='center')\n",
    "ax.set_xlabel('Month')\n",
    "ax.set_xticks(range(len(months)))\n",
    "ax.set_xticklabels(['Dec','Jan','Feb','Mar','Apr'])\n",
    "ax.yaxis.tick_right()\n",
    "ax.yaxis.set_label_position(\"right\")\n",
    "ax.yaxis.set_major_locator(ticker.MultipleLocator(2))\n",
    "ax.yaxis.set_minor_locator(ticker.MultipleLocator(1))\n",
    "ax.set_ylim(0,6)\n",
    "\n",
    "plt.subplots_adjust(wspace=0.1)\n",
    "\n",
    "\n",
    "x = all_ice_cts\n",
    "y = all_pol_cts\n",
    "x_nn = x[(np.isfinite(x))&(np.isfinite(y))]\n",
    "y_nn = y[(np.isfinite(x))&(np.isfinite(y))]\n",
    "resp = stats.linregress(x_nn,y_nn)\n",
    "Rp = resp.rvalue\n",
    "\n",
    "x = all_win_cts\n",
    "y = all_pol_cts\n",
    "x_nn = x[(np.isfinite(x))&(np.isfinite(y))]\n",
    "y_nn = y[(np.isfinite(x))&(np.isfinite(y))]\n",
    "resa = stats.linregress(x_nn,y_nn)\n",
    "Rw = resa.rvalue\n",
    "\n",
    "\n",
    "ax = axs[2]\n",
    "ax.scatter(2003.25,75, **mar1_kw)\n",
    "ax.text(2003.25,75, f'  Wind events (R={Rw:.3f})', va='center')\n",
    "\n",
    "ax.scatter(2003.25,87, **mar2_kw)\n",
    "ax.text(2003.25,87, f'  Pack ice drift events (R={Rp:.3f})', va='center')\n",
    "\n",
    "ax.scatter(2003.25,62.5, **mar3_kw)\n",
    "ax.text(2003.25,62.5, f'  Polynya events', va='center')\n",
    "\n",
    "\n",
    "\n",
    "ax = axs[0]\n",
    "DF = dfb\n",
    "for year in years:\n",
    "    all_wf = (DF.si/DF.s10)[((DF.year == year)&(dir_conds(DF, 'wind')))&(DF['s10']>3)]\n",
    "#     ax.scatter(year, np.nanmedian(all_wf), marker='*', c='k')\n",
    "    \n",
    "    bf = 0.2\n",
    "    ax.plot(np.linspace(year-bf, year+bf,len(all_wf)), all_wf, c='lightgray',  zorder=-1)\n",
    "#     ax.scatter(np.linspace(year-bf, year+bf,len(all_wf)), all_wf, c='lightgray', s=5, zorder=-1)\n",
    "    ax.scatter(year, np.nanmedian(all_wf), marker='s', c='k')\n",
    "    ax.plot([year,year], [np.nanpercentile(all_wf,25), np.nanpercentile(all_wf,75)], c='k')\n",
    "#     print(year, np.nanmedian(all_wf))\n",
    "    \n",
    "\n",
    "ax.xaxis.set_major_locator(ticker.MultipleLocator(5))\n",
    "ax.xaxis.set_minor_locator(ticker.MultipleLocator(1))\n",
    "ax.set_xticklabels([])\n",
    "ax.set_ylabel('Ice : wind\\nspeed ratio', rotation=0, labelpad=30, va='center')\n",
    "    \n",
    "ax = axs[1]\n",
    "# ax.set_ylim(-0.1,4.5)\n",
    "DF = df[((df.year>=2003)&(df.year<=2023))&(df.year!=2012)]\n",
    "for mm, month in enumerate(months):\n",
    "    \n",
    "    all_wf = (DF.si/DF.s10)[((DF.month == month)&(dir_conds(DF, 'wind')))&(DF['s10']>3)]\n",
    "#     ax.scatter(year, np.nanmedian(all_wf), marker='*', c='k')\n",
    "    bf = 0.2\n",
    "    ax.plot(np.linspace(mm-bf, mm+bf,len(all_wf)), all_wf, c='lightgray', zorder=-1)\n",
    "    ax.scatter(mm, np.nanmedian(all_wf), marker='s', c='k')\n",
    "    ax.plot([mm,mm], [np.nanpercentile(all_wf,25), np.nanpercentile(all_wf,75)], c='k')\n",
    "    \n",
    "ax.set_xticks(range(len(months)))\n",
    "ax.set_xticklabels([])\n",
    "ax.yaxis.tick_right()\n",
    "ax.yaxis.set_label_position(\"right\")\n",
    "\n",
    "\n",
    "# ax.text(0.95, 1.05, 'Years\\n2003-2011,\\n2013-2023', \n",
    "#         weight='bold', size=9,\n",
    "#         ha='right', va='bottom', clip_on=False, transform=ax.transAxes)\n",
    "\n",
    "# ax.scatter(years, wind_factors[50])\n",
    "\n",
    "for ax in axs[:-2]:\n",
    "    ax.set_ylim(-0.1,5)\n",
    "for ax in AXS[:,1]:\n",
    "    ax.set_xlim(-0.7,4.7)\n",
    "for ax in AXS[:,0]:\n",
    "    ax.set_xlim(2002.25,2025.65)\n",
    "    \n",
    "def percent_format(x, pos):\n",
    "    return f\"{x:.0f}%\" # Formats as percentage with 0 decimal places\n",
    "\n",
    "for ax in AXS[0,:]:   \n",
    "    ax.set_ylim(-0.05,3.5)\n",
    "    ax.yaxis.set_major_locator(ticker.MultipleLocator(1))\n",
    "    ax.yaxis.set_minor_locator(ticker.MultipleLocator(0.5))\n",
    "    ax.yaxis.set_major_formatter(mticker.FuncFormatter(percent_format))\n",
    "\n",
    "plt.subplots_adjust(hspace=0.1, wspace=0.05)\n",
    "\n",
    "# for aa, ax in enumerate(axs):\n",
    "#     ax.text(0.975, 0.965, f'{chr(97+aa)}', weight='bold', ha='right', va='top', transform=ax.transAxes)\n",
    "\n",
    "axs[0].text(0.025,1.05, 'Interannual', weight='bold', clip_on=False, transform = axs[0].transAxes)\n",
    "axs[1].text(0.05,1.05, 'Intraseasonal', weight='bold', clip_on=False, transform = axs[1].transAxes)\n",
    "\n",
    "\n",
    "# fig.savefig('../figures/results/Fig05b_ice_too.png', dpi=400, bbox_inches='tight', pad_inches=0)\n",
    "\n",
    "SAVE(fig, '../figures/results/counts_time/Fig05.png')"
   ]
  },
  {
   "cell_type": "code",
   "execution_count": 606,
   "id": "dcc2332f",
   "metadata": {},
   "outputs": [
    {
     "data": {
      "text/html": [
       "12.959999999999999 kilometer/day"
      ],
      "text/latex": [
       "$12.959999999999999\\ \\frac{\\mathrm{kilometer}}{\\mathrm{day}}$"
      ],
      "text/plain": [
       "<Quantity(12.96, 'kilometer / day')>"
      ]
     },
     "execution_count": 606,
     "metadata": {},
     "output_type": "execute_result"
    }
   ],
   "source": [
    "0.02*7.5*units('m/s').to('km/day')"
   ]
  },
  {
   "cell_type": "code",
   "execution_count": 693,
   "id": "42d6c0df",
   "metadata": {},
   "outputs": [],
   "source": [
    "DF = dfr\n",
    "wev = (dir_conds(DF,'wind')) & (DF.year!=2012)\n",
    "iev = (dir_conds(DF,'ice')) & (DF.year!=2012)\n",
    "\n",
    "# iev = ( (DF.si_km>13)) & (DF.year!=2012)"
   ]
  },
  {
   "cell_type": "code",
   "execution_count": 732,
   "id": "bc3f537f",
   "metadata": {},
   "outputs": [
    {
     "data": {
      "text/plain": [
       "(5.0, 15.0)"
      ]
     },
     "execution_count": 732,
     "metadata": {},
     "output_type": "execute_result"
    },
    {
     "data": {
      "image/png": "[encoded data removed]",
      "text/plain": [
       "<Figure size 300x300 with 1 Axes>"
      ]
     },
     "metadata": {},
     "output_type": "display_data"
    }
   ],
   "source": [
    "\n",
    "# Sample data\n",
    "data = [DF.s10[(wev&(DF.extent>0))&(DF.year==year)].values for year in years[years!=2012]]\n",
    "\n",
    "# Create plot\n",
    "fig, ax = plt.subplots(figsize=(3,3))\n",
    "# ax.violinplot(data,positions=years[years!=2012], showextrema=False, showmeans=True)\n",
    "\n",
    "ax.scatter(years[years!=2012], [np.nanmedian(DAT) for DAT in data])\n",
    "ax.scatter(years[years!=2012], [np.nanpercentile(DAT, 25) for DAT in data], s=3)\n",
    "# ax.scatter(years[years!=2012], [np.nanpercentile(DAT, 75) for DAT in data], s=3)\n",
    "\n",
    "# showmeans=True, \n",
    "# ax.set_xticks(years[years!=2012])\n",
    "# ax.set_xticklabels(['A', 'B', 'C'])\n",
    "ax.set_ylim(5,15)"
   ]
  },
  {
   "cell_type": "code",
   "execution_count": 691,
   "id": "4a45a211",
   "metadata": {},
   "outputs": [
    {
     "name": "stderr",
     "output_type": "stream",
     "text": [
      "/var/folders/p8/hz449fpx6nscv0jb1klyfqb40000gp/T/ipykernel_25941/986257033.py:12: RuntimeWarning: Mean of empty slice\n",
      "  ax.scatter(year, np.nanmean(DF.s10[open_ev&wind_ev]), c='k')\n",
      "/var/folders/p8/hz449fpx6nscv0jb1klyfqb40000gp/T/ipykernel_25941/986257033.py:14: RuntimeWarning: Mean of empty slice\n",
      "  ax.scatter(year, np.nanmean(DF.s10[(open_ev==False)&wind_ev]), c='lightgray')\n",
      "/var/folders/p8/hz449fpx6nscv0jb1klyfqb40000gp/T/ipykernel_25941/986257033.py:16: RuntimeWarning: Mean of empty slice\n",
      "  ax.scatter(year, np.nanmean(DF.s10[wind_ev]), c='lightblue')\n"
     ]
    },
    {
     "data": {
      "image/png": "[encoded data removed]",
      "text/plain": [
       "<Figure size 300x300 with 1 Axes>"
      ]
     },
     "metadata": {},
     "output_type": "display_data"
    }
   ],
   "source": [
    "fig, ax = plt.subplots(figsize=(3,3))\n",
    "\n",
    "wind_poly_ratios = np.array([])\n",
    "ice_poly_ratios = np.array([])\n",
    "\n",
    "for year in years:\n",
    "    \n",
    "    wind_ev = wev & (DF.year==year)\n",
    "    open_ev = (DF.extent>0)\n",
    "\n",
    "    \n",
    "    ax.scatter(year, np.nanmean(DF.s10[open_ev&wind_ev]), c='k')\n",
    "    \n",
    "    ax.scatter(year, np.nanmean(DF.s10[(open_ev==False)&wind_ev]), c='lightgray')\n",
    "    \n",
    "    ax.scatter(year, np.nanmean(DF.s10[wind_ev]), c='lightblue')\n",
    "    "
   ]
  },
  {
   "cell_type": "code",
   "execution_count": null,
   "id": "dab6e7c0",
   "metadata": {},
   "outputs": [],
   "source": []
  },
  {
   "cell_type": "code",
   "execution_count": 681,
   "id": "b92474b8",
   "metadata": {},
   "outputs": [],
   "source": [
    "DF = dfr\n",
    "wev = (dir_conds(DF,'wind') & (DF.s10>7.5)) & (DF.year!=2012)\n",
    "iev = (dir_conds(DF,'ice') & (DF.si_km>12)) & (DF.year!=2012)\n"
   ]
  },
  {
   "cell_type": "code",
   "execution_count": 685,
   "id": "59ca8bdd",
   "metadata": {
    "scrolled": true
   },
   "outputs": [
    {
     "name": "stderr",
     "output_type": "stream",
     "text": [
      "/var/folders/p8/hz449fpx6nscv0jb1klyfqb40000gp/T/ipykernel_25941/992990939.py:12: RuntimeWarning: invalid value encountered in scalar divide\n",
      "  event_ratio = np.sum(open_ev&wind_ev)/np.sum(wind_ev)\n",
      "/var/folders/p8/hz449fpx6nscv0jb1klyfqb40000gp/T/ipykernel_25941/992990939.py:20: RuntimeWarning: invalid value encountered in scalar divide\n",
      "  event_ratio = np.sum(open_ev&iced_ev)/np.sum(iced_ev)\n"
     ]
    },
    {
     "data": {
      "image/png": "[encoded data removed]",
      "text/plain": [
       "<Figure size 300x300 with 1 Axes>"
      ]
     },
     "metadata": {},
     "output_type": "display_data"
    }
   ],
   "source": [
    "fig, ax = plt.subplots(figsize=(3,3))\n",
    "ax.set_ylim(0,1.05)\n",
    "\n",
    "wind_poly_ratios = np.array([])\n",
    "ice_poly_ratios = np.array([])\n",
    "\n",
    "for year in years:\n",
    "    \n",
    "    wind_ev = wev & (DF.year==year)\n",
    "    open_ev = (DF.extent>0) #+ (DF.day_before_event==-1) \n",
    "    \n",
    "    event_ratio = np.sum(open_ev&wind_ev)/np.sum(wind_ev)\n",
    "    \n",
    "    wind_poly_ratios = np.append(wind_poly_ratios, event_ratio)\n",
    "    ax.scatter(year, event_ratio, c='gray')\n",
    "    \n",
    "    \n",
    "    iced_ev = iev & (DF.year==year)\n",
    "    \n",
    "    event_ratio = np.sum(open_ev&iced_ev)/np.sum(iced_ev)\n",
    "    ice_poly_ratios = np.append(ice_poly_ratios, event_ratio)\n",
    "#     ax.scatter(year, event_ratio, c='gray')\n",
    "    \n",
    "#     open_ev = (DF.extent>0) + (DF.day_before_event==-1)\n",
    "\n",
    "#     ax.scatter(year, np.sum(open_ev&iced_ev)/np.sum(iced_ev), c='lightgray')\n",
    "    \n",
    "#     ax.scatter(year, np.sum(open_ev&iced_ev)/np.sum(iced_ev), c='lightgray')"
   ]
  },
  {
   "cell_type": "code",
   "execution_count": 669,
   "id": "25dffdc2",
   "metadata": {},
   "outputs": [
    {
     "name": "stdout",
     "output_type": "stream",
     "text": [
      "0.6024854864347898 0.7704162639253918\n"
     ]
    }
   ],
   "source": [
    "print(np.nanmean(ice_poly_ratios[years<2016]), np.nanmean(ice_poly_ratios[years>=2016]))"
   ]
  },
  {
   "cell_type": "code",
   "execution_count": 670,
   "id": "c50df9a3",
   "metadata": {},
   "outputs": [
    {
     "name": "stdout",
     "output_type": "stream",
     "text": [
      "0.1589643075986912 0.1271571639323953\n"
     ]
    }
   ],
   "source": [
    "print(np.nanstd(ice_poly_ratios[years<2016]), np.nanstd(ice_poly_ratios[years>=2016]))"
   ]
  },
  {
   "cell_type": "code",
   "execution_count": 671,
   "id": "0859e428",
   "metadata": {},
   "outputs": [
    {
     "name": "stdout",
     "output_type": "stream",
     "text": [
      "0.5365889624401887 0.8083740304271114\n"
     ]
    }
   ],
   "source": [
    "print(np.nanmean(wind_poly_ratios[years<2016]), np.nanmean(wind_poly_ratios[years>=2016]))"
   ]
  },
  {
   "cell_type": "code",
   "execution_count": 672,
   "id": "b26b7bc6",
   "metadata": {},
   "outputs": [
    {
     "name": "stdout",
     "output_type": "stream",
     "text": [
      "0.16969336225331477 0.11305166938230943\n"
     ]
    }
   ],
   "source": [
    "print(np.nanstd(wind_poly_ratios[years<2016]), np.nanstd(wind_poly_ratios[years>=2016]))"
   ]
  },
  {
   "cell_type": "code",
   "execution_count": null,
   "id": "d7c2edf2",
   "metadata": {},
   "outputs": [],
   "source": []
  },
  {
   "cell_type": "code",
   "execution_count": 518,
   "id": "45b3a93e",
   "metadata": {},
   "outputs": [
    {
     "data": {
      "text/plain": [
       "0.7992360000000001"
      ]
     },
     "execution_count": 518,
     "metadata": {},
     "output_type": "execute_result"
    }
   ],
   "source": [
    "0.894**2"
   ]
  },
  {
   "cell_type": "code",
   "execution_count": 519,
   "id": "e1d22b63",
   "metadata": {},
   "outputs": [
    {
     "data": {
      "text/plain": [
       "0.594441"
      ]
     },
     "execution_count": 519,
     "metadata": {},
     "output_type": "execute_result"
    }
   ],
   "source": [
    "0.771**2"
   ]
  },
  {
   "cell_type": "code",
   "execution_count": 419,
   "id": "ad40de7f",
   "metadata": {},
   "outputs": [],
   "source": [
    "DF = dfb"
   ]
  },
  {
   "cell_type": "code",
   "execution_count": 450,
   "id": "1e7c19ca",
   "metadata": {},
   "outputs": [
    {
     "data": {
      "text/plain": [
       "0.6928104575163399"
      ]
     },
     "execution_count": 450,
     "metadata": {},
     "output_type": "execute_result"
    }
   ],
   "source": [
    "np.sum((DF.extent>0)&((DF.s10>7)&(dir_conds(DF, 'wind'))) )/ np.sum(DF.extent>0)"
   ]
  },
  {
   "cell_type": "code",
   "execution_count": 451,
   "id": "33545622",
   "metadata": {},
   "outputs": [
    {
     "data": {
      "text/plain": [
       "0.15048732943469786"
      ]
     },
     "execution_count": 451,
     "metadata": {},
     "output_type": "execute_result"
    }
   ],
   "source": [
    "np.sum((DF.extent==0)&((DF.s10>7)&(dir_conds(DF, 'wind'))) )/ np.sum(DF.extent==0)"
   ]
  },
  {
   "cell_type": "code",
   "execution_count": 449,
   "id": "7d2850a2",
   "metadata": {},
   "outputs": [
    {
     "data": {
      "text/plain": [
       "0.8801742919389978"
      ]
     },
     "execution_count": 449,
     "metadata": {},
     "output_type": "execute_result"
    }
   ],
   "source": [
    "np.sum((DF.extent>0)&((dir_conds(DF, 'wind'))) )/ np.sum(DF.extent>0)"
   ]
  },
  {
   "cell_type": "code",
   "execution_count": 452,
   "id": "d800b088",
   "metadata": {},
   "outputs": [
    {
     "data": {
      "text/plain": [
       "0.6339869281045751"
      ]
     },
     "execution_count": 452,
     "metadata": {},
     "output_type": "execute_result"
    }
   ],
   "source": [
    "np.sum((DF.extent>0)&((DF.si_km>12)&(dir_conds(DF, 'ice'))) )/ np.sum(DF.extent>0)"
   ]
  },
  {
   "cell_type": "code",
   "execution_count": 453,
   "id": "a713ae59",
   "metadata": {},
   "outputs": [
    {
     "data": {
      "text/plain": [
       "0.10526315789473684"
      ]
     },
     "execution_count": 453,
     "metadata": {},
     "output_type": "execute_result"
    }
   ],
   "source": [
    "np.sum((DF.extent==0)&((DF.si_km>12)&(dir_conds(DF, 'ice'))) )/ np.sum(DF.extent==0)"
   ]
  },
  {
   "cell_type": "code",
   "execution_count": 413,
   "id": "b181a8a8",
   "metadata": {},
   "outputs": [
    {
     "data": {
      "text/plain": [
       "0.7992360000000001"
      ]
     },
     "execution_count": 413,
     "metadata": {},
     "output_type": "execute_result"
    }
   ],
   "source": [
    "0.894**2"
   ]
  },
  {
   "cell_type": "code",
   "execution_count": 311,
   "id": "84fedc6b",
   "metadata": {},
   "outputs": [
    {
     "data": {
      "text/plain": [
       "0.6731107205623902"
      ]
     },
     "execution_count": 311,
     "metadata": {},
     "output_type": "execute_result"
    }
   ],
   "source": [
    "DF = dfb\n",
    "\n",
    "wind_events = dir_conds(DF, 'wind') & (DF.s10 > 7)\n",
    "iced_events = dir_conds(DF, 'ice') & (DF.si_km > 11)\n",
    "poly_events = (DF.extent > 0)\n",
    "np.sum(wind_events&iced_events) / np.sum(iced_events)\n"
   ]
  },
  {
   "cell_type": "code",
   "execution_count": null,
   "id": "31beb8fb",
   "metadata": {},
   "outputs": [],
   "source": [
    "poly_events & (DF.year!=0)"
   ]
  },
  {
   "cell_type": "code",
   "execution_count": 312,
   "id": "e8dea207",
   "metadata": {},
   "outputs": [
    {
     "data": {
      "text/plain": [
       "459"
      ]
     },
     "execution_count": 312,
     "metadata": {},
     "output_type": "execute_result"
    }
   ],
   "source": [
    "np.sum(poly_events)"
   ]
  },
  {
   "cell_type": "code",
   "execution_count": 310,
   "id": "ed3fa7a8",
   "metadata": {},
   "outputs": [
    {
     "data": {
      "text/plain": [
       "0.846815834767642"
      ]
     },
     "execution_count": 310,
     "metadata": {},
     "output_type": "execute_result"
    }
   ],
   "source": [
    "np.sum(dir_conds(DF, 'ice')&wind_events) / np.sum(wind_events)"
   ]
  },
  {
   "cell_type": "code",
   "execution_count": 279,
   "id": "85d50ca0",
   "metadata": {},
   "outputs": [
    {
     "data": {
      "text/plain": [
       "(0.41895839794568623, 0.6948701867544627, 0.796309580853497, 1.0)"
      ]
     },
     "execution_count": 279,
     "metadata": {},
     "output_type": "execute_result"
    }
   ],
   "source": [
    "cmocean.cm.ice(0.7)"
   ]
  },
  {
   "cell_type": "code",
   "execution_count": 282,
   "id": "770d2543",
   "metadata": {},
   "outputs": [
    {
     "data": {
      "text/plain": [
       "203.05894311675002"
      ]
     },
     "execution_count": 282,
     "metadata": {},
     "output_type": "execute_result"
    }
   ],
   "source": [
    "0.79630958085*255"
   ]
  },
  {
   "cell_type": "code",
   "execution_count": 225,
   "id": "ee737c3f",
   "metadata": {},
   "outputs": [
    {
     "name": "stdout",
     "output_type": "stream",
     "text": [
      "0.7994158487774337\n",
      "0.5937511437502101\n"
     ]
    }
   ],
   "source": [
    "print(Rp**2)\n",
    "print(Rw**2)"
   ]
  },
  {
   "cell_type": "code",
   "execution_count": 783,
   "id": "eefb57a3",
   "metadata": {},
   "outputs": [],
   "source": [
    "cum_areas = np.array([])\n",
    "cum_winds = np.array([])\n",
    "\n",
    "shoulder = (dfr.season_start_flag == True)\n",
    "\n",
    "for year in years:\n",
    "    \n",
    "    cond = (dfr.year==year)#&(shoulder==False)\n",
    "    \n",
    "    cum_areas = np.append(cum_areas, np.sum(dfr.extent[cond]))\n",
    "    \n",
    "#     cond = cond & dir_conds(dfr, 'wind')\n",
    "#     cum_winds = np.append(cum_winds, np.sum(dfr.s10[cond]))\n",
    "\n",
    "#     cond = cond & dir_conds(dfr, 'wind')\n",
    "#     cum_winds = np.append(cum_winds, np.sum(dfr.s10[cond]))\n",
    "    cum_winds = np.append(cum_winds, np.sum(dfr.s10[cond&(dfr.u10<0)]))\n",
    "\n",
    "#     cum_winds = np.append(cum_winds, np.sum(dfr.s10))"
   ]
  },
  {
   "cell_type": "code",
   "execution_count": 784,
   "id": "7d38467b",
   "metadata": {},
   "outputs": [
    {
     "data": {
      "text/plain": [
       "0.5003092112555759"
      ]
     },
     "execution_count": 784,
     "metadata": {},
     "output_type": "execute_result"
    }
   ],
   "source": [
    "np.nanmean((all_pol_cts/all_win_cts)[years<2016])"
   ]
  },
  {
   "cell_type": "code",
   "execution_count": null,
   "id": "d0aa15b0",
   "metadata": {},
   "outputs": [],
   "source": []
  },
  {
   "cell_type": "code",
   "execution_count": 777,
   "id": "818c5920",
   "metadata": {},
   "outputs": [
    {
     "data": {
      "text/html": [
       "143.4407174410613 degree"
      ],
      "text/latex": [
       "$143.4407174410613\\ \\mathrm{degree}$"
      ],
      "text/plain": [
       "<Quantity(143.440717, 'degree')>"
      ]
     },
     "execution_count": 777,
     "metadata": {},
     "output_type": "execute_result"
    }
   ],
   "source": [
    "vectors.vector_angle(np.nanmean(df['up']), np.nanmean(df['vp']))"
   ]
  },
  {
   "cell_type": "code",
   "execution_count": 778,
   "id": "46ec1cb1",
   "metadata": {},
   "outputs": [
    {
     "name": "stdout",
     "output_type": "stream",
     "text": [
      "1.3722011649482653 2.0311756897858824\n"
     ]
    }
   ],
   "source": [
    "\n",
    "pre_2016 = np.array([])\n",
    "pst_2016 = np.array([])\n",
    "\n",
    "for year in np.arange(2003,2024):\n",
    "    \n",
    "    all_wf = (DF.si/DF.s10)[((DF.year == year)&(dir_conds(DF, 'wind')))&(DF['s10']>3)]\n",
    "    \n",
    "    if year >=2016:\n",
    "        pst_2016 = np.append(pst_2016, all_wf)\n",
    "    else:\n",
    "        pre_2016 = np.append(pre_2016, all_wf)\n",
    "        \n",
    "print(np.nanmean(pre_2016), np.nanmean(pst_2016))"
   ]
  }
 ],
 "metadata": {
  "kernelspec": {
   "display_name": "SBSpolynya",
   "language": "python",
   "name": "sbspolynya"
  },
  "language_info": {
   "codemirror_mode": {
    "name": "ipython",
    "version": 3
   },
   "file_extension": ".py",
   "mimetype": "text/x-python",
   "name": "python",
   "nbconvert_exporter": "python",
   "pygments_lexer": "ipython3",
   "version": "3.12.2"
  }
 },
 "nbformat": 4,
 "nbformat_minor": 5
}
