{
 "cells": [
  {
   "cell_type": "markdown",
   "id": "805f159d",
   "metadata": {},
   "source": [
    "### Import packages"
   ]
  },
  {
   "cell_type": "code",
   "execution_count": 1,
   "id": "155d0202",
   "metadata": {},
   "outputs": [],
   "source": [
    "%load_ext autoreload\n",
    "%autoreload 2\n",
    "\n",
    "# general\n",
    "import numpy as np, numpy.ma as ma\n",
    "import xarray as xr\n",
    "import pandas as pd\n",
    "\n",
    "# time\n",
    "from datetime import datetime, timedelta\n",
    "import calendar\n",
    "from calendar import monthrange\n",
    "\n",
    "# local system \n",
    "import sys  \n",
    "import glob\n",
    "import os\n",
    "\n",
    "# plotting\n",
    "import matplotlib as mpl\n",
    "from matplotlib import pyplot as plt\n",
    "import matplotlib.colors\n",
    "import cmocean\n",
    "import matplotlib.patches as mpatches\n",
    "from mpl_toolkits.axes_grid1.inset_locator import inset_axes\n",
    "from matplotlib.colors import Normalize\n",
    "import matplotlib.ticker as ticker\n",
    "# from matplotlib.ticker import MultipleLocator\n",
    "\n",
    "import matplotlib.dates as mdates\n",
    "import matplotlib.patches as patches\n",
    "import matplotlib.ticker as mticker\n",
    "\n",
    "from scipy import stats\n",
    "\n",
    "\n",
    "# geo plotting\n",
    "import cartopy\n",
    "import cartopy.crs as ccrs\n",
    "import cartopy.feature as cfeat\n",
    "from cartopy import img_transform\n",
    "\n",
    "from metpy.units import units\n",
    "\n",
    "# path to own functions\n",
    "sys.path.append('../../')\n",
    "import timeseries.adjust as tseries\n",
    "import timeseries.analyze as tanalyze\n",
    "import geofunc.general as geogen\n",
    "import geofunc.vectors as vectors\n",
    "import geofunc.shapes as geoshape\n",
    "import plot_simply.general as plotter\n",
    "import plot_simply.geomap as geomap\n",
    "import data_NSIDC.icedrift as icedrift\n",
    "import data_UniBremen.SIC as unisic"
   ]
  },
  {
   "cell_type": "markdown",
   "id": "6e44c110",
   "metadata": {},
   "source": [
    "## Function to run pease model"
   ]
  },
  {
   "cell_type": "code",
   "execution_count": 791,
   "id": "f10739d3",
   "metadata": {},
   "outputs": [],
   "source": [
    "def Pease_Model_v2(event_df, wf=0.02, ta=35, poly_dir=145, Hi = 25 * units('cm'), show_plot = False):\n",
    "\n",
    "\n",
    "    def convert_to_k(T):\n",
    "\n",
    "        if T.units == 'degree_Celsius':\n",
    "            T = T.to('degree_Kelvin')\n",
    "        elif T.units == 'delta_degree_Celsius':\n",
    "            print('T!! should not be delta deg C')\n",
    "        return T\n",
    "\n",
    "\n",
    "    def find_Qlu(Tw, sigma, eo):\n",
    "        Tw = convert_to_k(Tw)\n",
    "        qlu = sigma * eo * Tw**4\n",
    "        return qlu.to('W/m2')\n",
    "\n",
    "\n",
    "    def find_Qld(Ta, sigma, ea):\n",
    "        Ta = convert_to_k(Ta)\n",
    "        qld = sigma * ea * Ta**4\n",
    "        return qld.to('W/m2')\n",
    "\n",
    "\n",
    "    def find_Qs(Ta, Tw, rho_a, Cpa, Va):\n",
    "\n",
    "        Ta = Ta.magnitude * units('delta_degree_Celsius')\n",
    "        Tw = Tw.magnitude * units('delta_degree_Celsius')\n",
    "\n",
    "        Ch = 2e-3 # sensible heat coefficient\n",
    "\n",
    "        qs = rho_a * Ch * Cpa * Va * (Ta-Tw)\n",
    "\n",
    "        return qs.to('W/m2')\n",
    "\n",
    "\n",
    "    def open_Qld(event_df):\n",
    "        # determine event year to open\n",
    "        event_year = pd.to_datetime(event_df.time.values[-1]).year\n",
    "        if pd.to_datetime(event_df.time.values[-1]).month == 12:\n",
    "            event_year+=1\n",
    "\n",
    "        # grab shortwave downward data\n",
    "        with xr.open_dataset(f'../data/forcing/regional_daily_era_strd_{event_year}_v7.nc') as ds_sw:\n",
    "            down_longwave = ds_sw.strd.sel(time=event_df.time.values).values * units('W/m2')\n",
    "\n",
    "        qld = (down_longwave) # longwave down\n",
    "\n",
    "        return qld\n",
    "    \n",
    "    \n",
    "    def open_Qr(event_df):\n",
    "        # determine event year to open\n",
    "        event_year = pd.to_datetime(event_df.time.values[-1]).year\n",
    "        if pd.to_datetime(event_df.time.values[-1]).month == 12:\n",
    "            event_year+=1\n",
    "\n",
    "        # grab shortwave downward data\n",
    "        with xr.open_dataset(f'../data/forcing/regional_daily_era_ssrd_{event_year}_v7.nc') as ds_sw:\n",
    "            down_shortwave = ds_sw.ssrd.sel(time=event_df.time.values).values * units('W/m2')\n",
    "\n",
    "        qr = (1-0.1)*(down_shortwave) # short wave radiation absorbed (10% albedo)\n",
    "\n",
    "        return qr\n",
    "    \n",
    "    \n",
    "    \n",
    "    # wind component that extends polynya\n",
    "    wind_angle = (poly_dir+ta)*units('degree')\n",
    "    wind_comp = vectors.comp_along_theta(event_df['u10'].values, event_df['v10'].values, wind_angle)\n",
    "    wind_speed = np.sqrt(event_df['u10'].values**2 + event_df['v10'].values**2) * units('m/s')\n",
    "\n",
    "    # daily ice drift\n",
    "    Vi = wf * wind_comp*units('m/s').to('km/day')\n",
    "\n",
    "    # air temperature\n",
    "    Ta = event_df['t2m'].values * units('degC')\n",
    "\n",
    "    # water temperature\n",
    "    Tw = -1.8 * units('degC')\n",
    "\n",
    "    # surface heat balance\n",
    "    #-----------------------\n",
    "    # define positive upward\n",
    "    Qlu = find_Qlu(Tw, cst['sigma_sb'], 0.98)\n",
    "    Qld = -find_Qld(Ta, cst['sigma_sb'], 0.95)\n",
    "#     Qld = -open_Qld(event_df)\n",
    "    Qs = -find_Qs(Ta, Tw, cst['rho_a'], cst['Cp_a'], wind_speed)\n",
    "    Qr = -open_Qr(event_df) # short wave radiation absorbed (5% albedo)\n",
    "\n",
    "    Qnet = Qlu+Qld+Qs+Qr\n",
    "\n",
    "    # heat flux to ice production rate\n",
    "    #-----------------------------------\n",
    "    Fi = (Qnet / (cst['L_i']*cst['rho_i'])).to('cm/day')\n",
    "    \n",
    "    \n",
    "    if show_plot:\n",
    "        fig, ax = plt.subplots(figsize=(3,3))\n",
    "        ax.plot(Qs, label='sensible')\n",
    "        ax.axhline(Qlu, label='lw u', c='b')\n",
    "        ax.plot(Qld, label='lw d')\n",
    "        ax.plot(Qr, label='shortwave')\n",
    "        ax.plot(Qnet, c='k', label='net')\n",
    "        ax.legend()\n",
    "        \n",
    "        \n",
    "        \n",
    "    # iteratively solve for the length\n",
    "    #---------------------------------\n",
    "    Xp = np.array([0]) * units('m')\n",
    "\n",
    "    for tt in range(len(event_df)):\n",
    "\n",
    "        # current length\n",
    "        X_curr = Xp[-1]\n",
    "\n",
    "        # change in length\n",
    "        dXdt = Vi[tt] - X_curr * Fi[tt] / Hi\n",
    "        dX = dXdt * units('day')\n",
    "\n",
    "\n",
    "        Xnew = X_curr + dX\n",
    "        Xp = np.append(Xp, Xnew)\n",
    "\n",
    "\n",
    "    X_num = Xp[1:].to('km')\n",
    "\n",
    "    # solve for limiting width\n",
    "    #---------------------------------\n",
    "    X_max = (Vi * Hi / Fi).to('km')\n",
    "    # time to reach 95% of limiting size\n",
    "    t95 = (3 * Hi / Fi).to('day')\n",
    "    \n",
    "    if show_plot:\n",
    "        fig, ax = plt.subplots(figsize=(8,3))\n",
    "        ax.plot(event_df.time, np.cumsum(Vi.magnitude), marker='.', c='k', label='Fi=0')\n",
    "        ax.plot(event_df.time, X_num.to('km'), label='iter')\n",
    "        ax.plot(event_df.time, X_max.to('km'), label='limiting width')\n",
    "        ax.bar(event_df.time, event_df.length_145max, color='lightgray', label='obs')\n",
    "        plt.legend()\n",
    "\n",
    "    X_zip = np.cumsum(Vi*units('day'))\n",
    "    \n",
    "    return X_num, X_max, t95, X_zip, Ta, Vi, wind_speed"
   ]
  },
  {
   "cell_type": "code",
   "execution_count": null,
   "id": "7fec502a",
   "metadata": {},
   "outputs": [],
   "source": []
  },
  {
   "cell_type": "code",
   "execution_count": 792,
   "id": "7a6167b5",
   "metadata": {},
   "outputs": [
    {
     "data": {
      "text/plain": [
       "{'Cp_o': <Quantity(3850.0, 'joule / kilogram / delta_degree_Celsius')>,\n",
       " 'Cp_a': <Quantity(1004.0, 'joule / kilogram / delta_degree_Celsius')>,\n",
       " 'sigma_sb': <Quantity(5.670367e-08, 'watt / meter ** 2 / kelvin ** 4')>,\n",
       " 'rho_a': <Quantity(1.225, 'kilogram / meter ** 3')>,\n",
       " 'rho_o': <Quantity(1028.0, 'kilogram / meter ** 3')>,\n",
       " 'rho_i': <Quantity(917.0, 'kilogram / meter ** 3')>,\n",
       " 'L_i': <Quantity(334000.0, 'joule / kilogram')>,\n",
       " 'k_i': <Quantity(2.2, 'watt / meter / delta_degree_Celsius')>,\n",
       " 'kappa': <Quantity(0.4, 'dimensionless')>,\n",
       " 'St': <Quantity(0.0057, 'dimensionless')>,\n",
       " 'omega': <Quantity(7.2921e-05, 'radian / second')>}"
      ]
     },
     "execution_count": 792,
     "metadata": {},
     "output_type": "execute_result"
    }
   ],
   "source": [
    "# constants\n",
    "df = pd.read_csv('../data/constants.csv')\n",
    "df = df.set_index('var')\n",
    "df\n",
    "\n",
    "cst = {}\n",
    "for variable in list(df.index):\n",
    "    cst[variable] = df.loc[variable]['value'] * units(df.loc[variable]['units'])\n",
    "    \n",
    "cst"
   ]
  },
  {
   "cell_type": "markdown",
   "id": "69b86b4d",
   "metadata": {},
   "source": [
    "# polynya and regional stats"
   ]
  },
  {
   "cell_type": "code",
   "execution_count": 793,
   "id": "bccd8e8e",
   "metadata": {},
   "outputs": [
    {
     "name": "stderr",
     "output_type": "stream",
     "text": [
      "/var/folders/p8/hz449fpx6nscv0jb1klyfqb40000gp/T/ipykernel_34950/1163075840.py:17: SettingWithCopyWarning: \n",
      "A value is trying to be set on a copy of a slice from a DataFrame\n",
      "\n",
      "See the caveats in the documentation: https://pandas.pydata.org/pandas-docs/stable/user_guide/indexing.html#returning-a-view-versus-a-copy\n",
      "  df[f'{cat}_r'][df[f'{cat}_r']<0]+=360\n",
      "/var/folders/p8/hz449fpx6nscv0jb1klyfqb40000gp/T/ipykernel_34950/1163075840.py:17: SettingWithCopyWarning: \n",
      "A value is trying to be set on a copy of a slice from a DataFrame\n",
      "\n",
      "See the caveats in the documentation: https://pandas.pydata.org/pandas-docs/stable/user_guide/indexing.html#returning-a-view-versus-a-copy\n",
      "  df[f'{cat}_r'][df[f'{cat}_r']<0]+=360\n",
      "/var/folders/p8/hz449fpx6nscv0jb1klyfqb40000gp/T/ipykernel_34950/1163075840.py:17: SettingWithCopyWarning: \n",
      "A value is trying to be set on a copy of a slice from a DataFrame\n",
      "\n",
      "See the caveats in the documentation: https://pandas.pydata.org/pandas-docs/stable/user_guide/indexing.html#returning-a-view-versus-a-copy\n",
      "  df[f'{cat}_r'][df[f'{cat}_r']<0]+=360\n",
      "/var/folders/p8/hz449fpx6nscv0jb1klyfqb40000gp/T/ipykernel_34950/1163075840.py:17: SettingWithCopyWarning: \n",
      "A value is trying to be set on a copy of a slice from a DataFrame\n",
      "\n",
      "See the caveats in the documentation: https://pandas.pydata.org/pandas-docs/stable/user_guide/indexing.html#returning-a-view-versus-a-copy\n",
      "  df[f'{cat}_r'][df[f'{cat}_r']<0]+=360\n"
     ]
    }
   ],
   "source": [
    "df = pd.read_csv('../data/compiled_stats.csv')\n",
    "\n",
    "df['esei'] = vectors.comp_along_theta(df['ui'], df['vi'], 145*units('degree')) * units('cm/s').to('km/day')\n",
    "df['ese10'] = 0.02*vectors.comp_along_theta(df['u10'], df['v10'], 180*units('degree'))* units('m/s').to('km/day')\n",
    "# df['ese10'][df.year>=2016] = 1.3*df['ese10'][df.year>=2016]\n",
    "\n",
    "\n",
    "\n",
    "\n",
    "df['si_km'] = df['si'] * units('cm/s').to('km/day')\n",
    "\n",
    "df['e10'] = - df['u10']\n",
    "# manually modify this for now since I set too strict of threshold\n",
    "\n",
    "for cat in ['a10', 'ai', 'centermass_direction', 'max_length_direction']:\n",
    "    df[f'{cat}_r'] = 90-df[f'{cat}']\n",
    "    df[f'{cat}_r'][df[f'{cat}_r']<0]+=360\n",
    "\n",
    "df['up'] = df['centermass_length'].values * np.cos(df['centermass_direction'].values*np.pi/180)\n",
    "df['vp'] = df['centermass_length'].values * np.sin(df['centermass_direction'].values*np.pi/180)\n",
    "                     \n",
    "    \n",
    "vi = (df['ui'].values, df['vi'].values)\n",
    "vw = (df['u10'].values, df['v10'].values)\n",
    "vp = (df['up'].values, df['vp'].values )\n",
    "                              \n",
    "df['ta_wi'] = vectors.turning_angle(vw,vi).magnitude\n",
    "df['ta_ip'] = vectors.turning_angle(vi,vp).magnitude\n",
    "df['ta_wp'] = vectors.turning_angle(vw,vp).magnitude\n",
    "\n",
    "\n",
    "\n",
    "\n",
    "# identify base period\n",
    "dfb = df[df['2003_2023']]\n",
    "\n",
    "dfr = df[df.year >= 2003]\n"
   ]
  },
  {
   "cell_type": "code",
   "execution_count": null,
   "id": "415460fc",
   "metadata": {},
   "outputs": [],
   "source": []
  },
  {
   "cell_type": "code",
   "execution_count": 794,
   "id": "913ca241",
   "metadata": {},
   "outputs": [],
   "source": [
    "def dir_conds(dff, cat):\n",
    "    \n",
    "    if cat == 'wind':\n",
    "        dir_cond = (dff['a10_r'] > 260) & (dff['a10_r'] < 305)\n",
    "        \n",
    "    elif cat == 'ice':   \n",
    "        dir_cond = (dff['ai_r'] > 270) & (dff['ai_r'] < 315)\n",
    "\n",
    "    elif cat == 'poly':\n",
    "        dir_cond = (dff['centermass_direction_r'] > 280) & (dff['centermass_direction_r'] < 330)\n",
    "        \n",
    "    return dir_cond\n",
    "\n",
    "def speed_conds(dff, cat):\n",
    "    \n",
    "    if cat == 'wind':\n",
    "        speed_cond = (dff['s10'] > 6.5)\n",
    "    elif cat == 'ice':\n",
    "        speed_cond = (dff['si_km'] > 10)\n",
    "\n",
    "    return speed_cond\n"
   ]
  },
  {
   "cell_type": "code",
   "execution_count": 822,
   "id": "2ba4910a",
   "metadata": {},
   "outputs": [],
   "source": [
    "#===============\n",
    "DF = dfr\n",
    "#===============\n",
    "\n",
    "shoulder = (DF['season_start_flag'] + DF['season_end_flag'])\n",
    "\n",
    "\n",
    "# wind_comp = vectors.comp_along_theta(DF['u10'].values, DF['v10'].values, wind_angle)\n",
    "\n",
    "wind_event = dir_conds(DF, 'wind') #& (DF.s10>6.5)\n",
    "\n",
    "\n",
    "# wind_event = (DF.s10>5)\n",
    "\n",
    "# wind_event = (DF.u10<0) & (DF.s10>6.5)\n",
    "\n",
    "# wind_event = speed_conds(DF, 'wind') & (DF.u10<0)\n",
    "# wind_event = speed_conds(DF, 'wind') & dir_conds(DF, 'wind')\n",
    "# wind_event =(wind_comp>0)\n",
    "#  speed_conds(DF, 'wind') & "
   ]
  },
  {
   "cell_type": "code",
   "execution_count": 823,
   "id": "5b08668b",
   "metadata": {},
   "outputs": [
    {
     "name": "stdout",
     "output_type": "stream",
     "text": [
      "10: weak winds to start, omit\n",
      "93: weak winds to start, omit\n",
      "96: weak winds to start, omit\n",
      "109: weak winds to start, omit\n",
      "114: weak winds to start, omit\n"
     ]
    }
   ],
   "source": [
    "\n",
    "# determine sequences to evaluate\n",
    "# omit any that intersect with beginning/end of ice season\n",
    "# and make sure strong wind occur for at least part of event\n",
    "\n",
    "initial_cond = ((DF.sequence!=-999)&(shoulder==False))&wind_event\n",
    "all_seqs = np.array(list(set(DF.sequence[initial_cond])))\n",
    "\n",
    "\n",
    "# print(len(all_seqs))\n",
    "\n",
    "evaluate = {}\n",
    "\n",
    "all_days = np.array([])\n",
    "\n",
    "for ss in all_seqs:\n",
    "    \n",
    "    # current event\n",
    "    event = (DF.sequence==ss)\n",
    "    \n",
    "    # if first day of event has weak winds, omit\n",
    "    if wind_event[event].values[0]==False:\n",
    "        print(f'{ss}: weak winds to start, omit')\n",
    "        \n",
    "    # otherwise, proceed\n",
    "    else:\n",
    "        evaluate[ss] = {}\n",
    "        evaluate[ss]['max_ll'] = 0\n",
    "        evaluate[ss]['start'] = DF.time[event].values[0] # start time\n",
    "        evaluate[ss]['si'] = np.where(DF.time == DF.time[event].values[0])[0][0] # start index\n",
    "        \n",
    "        day_before = pd.to_datetime(DF.time[event].values[0]) - timedelta(days=1)\n",
    "        evaluate[ss]['dbi'] = np.where(pd.to_datetime(DF.time) == day_before)[0][0] # day before\n",
    "        # cannot go 2 days before becuase data missing for some events (e.g. '2019-12-02')\n",
    "\n",
    "        # only include days where wind event persists\n",
    "        for ii in range(len(wind_event[event].values)):\n",
    "            if wind_event[event].values[ii] == True:\n",
    "                evaluate[ss]['max_ll'] = DF.event_day[event].values[ii] # maximum event day w/ cont. winds\n",
    "                evaluate[ss]['end'] = DF.time[event].values[ii]         # end time\n",
    "                evaluate[ss]['fi'] = np.where(DF.time == DF.time[event].values[ii])[0][0] # end index\n",
    "            else:\n",
    "                break\n",
    "\n",
    "        all_days = np.append(all_days, evaluate[ss]['max_ll'])"
   ]
  },
  {
   "cell_type": "code",
   "execution_count": 824,
   "id": "bf1e585e",
   "metadata": {},
   "outputs": [
    {
     "data": {
      "text/plain": [
       "(array([74., 22., 18.,  5.,  2.,  0.,  5.,  1.,  1.,  1.]),\n",
       " array([ 1. ,  2.5,  4. ,  5.5,  7. ,  8.5, 10. , 11.5, 13. , 14.5, 16. ]),\n",
       " <BarContainer object of 10 artists>)"
      ]
     },
     "execution_count": 824,
     "metadata": {},
     "output_type": "execute_result"
    },
    {
     "data": {
      "image/png": "[encoded data removed]",
      "text/plain": [
       "<Figure size 640x480 with 1 Axes>"
      ]
     },
     "metadata": {},
     "output_type": "display_data"
    }
   ],
   "source": [
    "plt.hist(all_days)"
   ]
  },
  {
   "cell_type": "markdown",
   "id": "28b71f76",
   "metadata": {},
   "source": [
    "### Set up dictionary to save data by day"
   ]
  },
  {
   "cell_type": "code",
   "execution_count": 825,
   "id": "e08550fc",
   "metadata": {},
   "outputs": [],
   "source": [
    "across = {}\n",
    "\n",
    "#========\n",
    "lmax = 9\n",
    "#========\n",
    "\n",
    "\n",
    "cats = ['Fi=0', 'Xlim', 'Xp', 'Xo', 'seq', 'Ta', 'Vi', 'ws']\n",
    "\n",
    "across[f'-1'] = {}\n",
    "for cat in cats:\n",
    "    across[f'-1'][cat] = np.array([])\n",
    "\n",
    "for ll in range(1, lmax+1):\n",
    "    across[f'{ll}'] = {}\n",
    "    for cat in cats:\n",
    "        across[f'{ll}'][cat] = np.array([])\n",
    "\n",
    "across[f'{lmax+1}+'] = {}\n",
    "for cat in cats:\n",
    "    across[f'{lmax+1}+'][cat] = np.array([])\n",
    "    \n",
    "    \n",
    "    \n",
    "    \n",
    "# model params\n",
    "#===============================\n",
    "wf = 0.02 # wind factor\n",
    "ta = 35   # CW turning angle wind to ice, degrees\n",
    "poly_dir = 145  #  polynya direction, degrees CCW from E\n",
    "Hi = 25 * units('cm')\n",
    "#===============================\n",
    "    \n",
    "for ev in list(evaluate.keys()):\n",
    "    \n",
    "    # open data from event\n",
    "    dbi = evaluate[ev]['dbi']\n",
    "    si = evaluate[ev]['si']\n",
    "    fi = evaluate[ev]['fi']\n",
    "\n",
    "    # grab conditions over event\n",
    "    #===============================\n",
    "    event_df = DF[dbi:fi+1]\n",
    "    #===============================\n",
    "\n",
    "    # run model\n",
    "    X_num, X_max, t95, X_zip, Tair, Vice, wsp = Pease_Model_v2(event_df, wf=wf, ta=ta, poly_dir=poly_dir, Hi = Hi, show_plot = False)\n",
    "    \n",
    "    # save output\n",
    "    for ll, Xp, Xm, Xz, Xo, Ta, Vi, ws in zip(event_df.event_day.values, X_num, X_max, X_zip, event_df.length_145max.values,\n",
    "                                   Tair, Vice, wsp):\n",
    "\n",
    "        # determine key to save to\n",
    "        if ll == -999:\n",
    "            key = '-1'\n",
    "        elif ll > lmax:\n",
    "            key = f'{lmax+1}+'\n",
    "        else:\n",
    "            key = f'{ll}'\n",
    "\n",
    "        across[key]['Fi=0'] = np.append(across[key]['Fi=0'], Xz)\n",
    "        across[key]['Xlim'] = np.append(across[key]['Xlim'], Xm)\n",
    "        across[key]['Xp'] = np.append(across[key]['Xp'], Xp)\n",
    "        across[key]['Xo'] = np.append(across[key]['Xo'], Xo*units('km'))\n",
    "        \n",
    "        across[key]['Ta'] = np.append(across[key]['Ta'], Ta)\n",
    "        across[key]['Vi'] = np.append(across[key]['Vi'], Vi)\n",
    "        across[key]['ws'] = np.append(across[key]['ws'], ws)\n",
    "        \n",
    "        # record sequence number\n",
    "        across[key]['seq'] = np.append(across[key]['seq'], int(event_df.sequence.values[-1]))"
   ]
  },
  {
   "cell_type": "code",
   "execution_count": 826,
   "id": "5f48139a",
   "metadata": {},
   "outputs": [
    {
     "data": {
      "text/plain": [
       "[32.0, 12.0, 140.0, 79.0, 82.0, 148.0, 85.0, 117.0]"
      ]
     },
     "execution_count": 826,
     "metadata": {},
     "output_type": "execute_result"
    }
   ],
   "source": [
    "list(set(across['10+']['seq']))"
   ]
  },
  {
   "cell_type": "code",
   "execution_count": 827,
   "id": "d82f4019",
   "metadata": {},
   "outputs": [
    {
     "data": {
      "text/plain": [
       "4847    2019-12-08\n",
       "4848    2019-12-09\n",
       "4849    2019-12-10\n",
       "4850    2019-12-11\n",
       "4851    2019-12-12\n",
       "4852    2019-12-13\n",
       "4853    2019-12-14\n",
       "4854    2019-12-15\n",
       "4855    2019-12-16\n",
       "4856    2019-12-17\n",
       "4857    2019-12-18\n",
       "4858    2019-12-19\n",
       "Name: time, dtype: object"
      ]
     },
     "execution_count": 827,
     "metadata": {},
     "output_type": "execute_result"
    }
   ],
   "source": [
    "DF.time[DF.sequence==117]"
   ]
  },
  {
   "cell_type": "code",
   "execution_count": 828,
   "id": "59a7b0c0",
   "metadata": {},
   "outputs": [
    {
     "data": {
      "image/png": "[encoded data removed]",
      "text/plain": [
       "<Figure size 300x300 with 1 Axes>"
      ]
     },
     "metadata": {},
     "output_type": "display_data"
    }
   ],
   "source": [
    "nums = np.array([len(across[ll]['Xlim']) for ll in across.keys()])\n",
    "dnums = np.array([len(set(across[ll]['seq'])) for ll in across.keys()])\n",
    "\n",
    "fig, ax = plt.subplots(figsize=(3,3))\n",
    "\n",
    "\n",
    "ax.bar(across.keys(), nums)\n",
    "ax.scatter(across.keys(), dnums)\n",
    "\n",
    "for key, num, dnum in zip(across.keys(), nums, dnums):\n",
    "    \n",
    "    ax.text(key, num, num, ha='center')\n",
    "    ax.text(key, num+10, dnum, ha='center', c='orange')"
   ]
  },
  {
   "cell_type": "code",
   "execution_count": 829,
   "id": "3b241a41",
   "metadata": {},
   "outputs": [
    {
     "data": {
      "image/png": "[encoded data removed]",
      "text/plain": [
       "<Figure size 300x300 with 1 Axes>"
      ]
     },
     "metadata": {},
     "output_type": "display_data"
    }
   ],
   "source": [
    "fig, ax = plt.subplots(figsize=(3,3))\n",
    "\n",
    "for ll in across.keys():\n",
    "    ax.scatter(ll, np.nanpercentile(across[ll]['Fi=0'], 50), c='b')\n",
    "#     ax.scatter(ll, np.nanpercentile(across[ll]['Xlim'], 50), c='royalblue')\n",
    "    ax.scatter(ll, np.nanpercentile(across[ll]['Xp'], 50), c='royalblue')\n",
    "    \n",
    "    ax.scatter(ll, np.nanpercentile(across[ll]['Xo'], 50), c='k')"
   ]
  },
  {
   "cell_type": "markdown",
   "id": "4dc00548",
   "metadata": {},
   "source": [
    "### Grab percentiles over time"
   ]
  },
  {
   "cell_type": "code",
   "execution_count": 830,
   "id": "9d40f217",
   "metadata": {},
   "outputs": [],
   "source": [
    "CATS = ['Fi=0', 'Xp', 'Xo', 'Xlim', 'Ta', 'ws', 'Vi']\n",
    "percentiles = [5,25,50,75,95]\n",
    "byday = {}\n",
    "\n",
    "for cat in CATS:\n",
    "    byday[cat] = {}\n",
    "    for per in percentiles:\n",
    "        byday[cat][per] = np.array([])\n",
    "    \n",
    "\n",
    "for cat in CATS:\n",
    "    \n",
    "    # grab all data\n",
    "    all_data = np.array([])\n",
    "    for ll in across.keys():\n",
    "        all_data = np.append(all_data, across[ll][cat].magnitude)\n",
    "        # save each percentile\n",
    "        for per in percentiles:\n",
    "            byday[cat][per] = np.append(byday[cat][per], np.nanpercentile(across[ll][cat], per))"
   ]
  },
  {
   "cell_type": "code",
   "execution_count": 831,
   "id": "62ec6e2c",
   "metadata": {},
   "outputs": [
    {
     "data": {
      "text/plain": [
       "[<matplotlib.lines.Line2D at 0x1696ed910>]"
      ]
     },
     "execution_count": 831,
     "metadata": {},
     "output_type": "execute_result"
    },
    {
     "data": {
      "image/png": "[encoded data removed]",
      "text/plain": [
       "<Figure size 640x480 with 1 Axes>"
      ]
     },
     "metadata": {},
     "output_type": "display_data"
    }
   ],
   "source": [
    "cat = 'ws'\n",
    "plt.plot(byday[cat][50])\n",
    "plt.plot(byday[cat][75])\n",
    "plt.plot(byday[cat][25])"
   ]
  },
  {
   "cell_type": "code",
   "execution_count": 862,
   "id": "87790371",
   "metadata": {},
   "outputs": [
    {
     "name": "stderr",
     "output_type": "stream",
     "text": [
      "<>:22: SyntaxWarning: invalid escape sequence '\\m'\n",
      "<>:39: SyntaxWarning: invalid escape sequence '\\m'\n",
      "<>:22: SyntaxWarning: invalid escape sequence '\\m'\n",
      "<>:39: SyntaxWarning: invalid escape sequence '\\m'\n",
      "/var/folders/p8/hz449fpx6nscv0jb1klyfqb40000gp/T/ipykernel_34950/2660563211.py:22: SyntaxWarning: invalid escape sequence '\\m'\n",
      "  ax.set_ylabel('Wind\\nspeed\\n($\\mathrm{m\\;s^{-1}}$)', rotation=0, labelpad=25, va='center')\n",
      "/var/folders/p8/hz449fpx6nscv0jb1klyfqb40000gp/T/ipykernel_34950/2660563211.py:39: SyntaxWarning: invalid escape sequence '\\m'\n",
      "  ax.set_ylabel('$\\mathrm{T_{a}\\;(^{\\circ}C)}$', rotation=0, labelpad=20, va='center')\n"
     ]
    },
    {
     "data": {
      "image/png": "[encoded data removed]",
      "text/plain": [
       "<Figure size 300x500 with 3 Axes>"
      ]
     },
     "metadata": {},
     "output_type": "display_data"
    }
   ],
   "source": [
    "fig, axs = plt.subplots(3,1, figsize=(3,5), gridspec_kw={'height_ratios':[0.35,0.35,1]})\n",
    "    \n",
    "\n",
    "# for xx, cat, color, color2, fillc,lab, mr, zo, al, LW, S in zip([np.append(np.array([-1,0]),days), days, \n",
    "#                                         np.append(np.array([-1,0]),days),], ['wind', 'obs', 'lat'], \n",
    "#                               ['white', [0.3,0.3,0.3], 'white'][::-1], \n",
    "#                               [[75/255,150/255,255/255], 'None', 'orange'][::-1], \n",
    "#                                 [[75/255,150/255,255/255], 'k', 'orange'][::-1],                           \n",
    "#                              ['Wind-driven ice drift', 'observed', 'Latent-heat estimate'],\n",
    "#                                                ['d', 's', 'o'][::-1], [0,1,0], [0.4,0.15,0.4], [0.5,1.5,0.5],\n",
    "#                                                           [60,40,60]):\n",
    "\n",
    "x = np.arange(len(across.keys()))\n",
    "\n",
    "\n",
    "ax = axs[0]\n",
    "ax.set_xticks(x)\n",
    "ax.set_xticklabels([])\n",
    "ax.yaxis.set_major_locator(ticker.MultipleLocator(5))\n",
    "ax.yaxis.set_minor_locator(ticker.MultipleLocator(1))\n",
    "ax.set_ylim(3,16)\n",
    "ax.set_ylabel('Wind\\nspeed\\n($\\mathrm{m\\;s^{-1}}$)', rotation=0, labelpad=25, va='center')\n",
    "cat = 'ws'\n",
    "\n",
    "for X, Ymin, Ymax in zip(x, byday[cat][25].magnitude, byday[cat][75].magnitude):\n",
    "    ax.plot([X,X], [Ymin, Ymax], lw=1, color='k', alpha=1, zorder=-10)\n",
    "ax.scatter(x, byday[cat][50], lw=0, color='k', alpha=1, zorder=-10)\n",
    "\n",
    "# ax.fill_between(x, byday[cat][25], byday[cat][75], lw=0, color=fillc, alpha=alpha, zorder=-10)\n",
    "\n",
    "\n",
    "\n",
    "ax = axs[1]\n",
    "ax.set_xticks(x)\n",
    "ax.set_xticklabels([])\n",
    "ax.set_ylim(-23,-9)\n",
    "ax.yaxis.set_major_locator(ticker.MultipleLocator(5))\n",
    "ax.yaxis.set_minor_locator(ticker.MultipleLocator(1))\n",
    "ax.set_ylabel('$\\mathrm{T_{a}\\;(^{\\circ}C)}$', rotation=0, labelpad=20, va='center')\n",
    "cat = 'Ta'\n",
    "for X, Ymin, Ymax in zip(x, byday[cat][25].magnitude, byday[cat][75].magnitude):\n",
    "    ax.plot([X,X], [Ymin, Ymax], lw=1, color='k', alpha=1, zorder=-10)\n",
    "ax.scatter(x, byday[cat][50], lw=0, color='k', alpha=1, zorder=-10)\n",
    "\n",
    "ax = axs[2]\n",
    "\n",
    "x_adj = np.concatenate((np.array([x.min()-0.5]), x, np.array([x.max()+0.5])))\n",
    "\n",
    "for cat, fillc, alpha, edgec, facec, xx, LW, mr, ms in zip(['Fi=0', 'Xp', 'Xo'], \n",
    "                                      ['orange', [75/255,150/255,255/255], 'k'], \n",
    "                                                  [0.5,0.5,0.2],\n",
    "                                     ['white', 'white', 'k'], \n",
    "                                                       \n",
    "                                            ['orange', [75/255,150/255,255/255], 'None'], \n",
    "                                      [x_adj,x_adj,x_adj], \n",
    "                                                       [0.75,0.75,1.5],\n",
    "                                     [ 'o','d', 's'], [50,50,40]):\n",
    "\n",
    "    ax.fill_between(xx, np.concatenate((np.array([byday[cat][25][0].magnitude]), byday[cat][25].magnitude, np.array([byday[cat][25].magnitude[-1]]))), \n",
    "                   np.concatenate((np.array([byday[cat][75][0].magnitude]), byday[cat][75].magnitude, np.array([byday[cat][75].magnitude[-1]]))), lw=0, color=fillc, alpha=alpha, zorder=-10)\n",
    "#     ax.fill_between(xx, byday[cat][5], byday[cat][95], lw=0, color=fillc, alpha=alpha, zorder=-10)\n",
    "    \n",
    "#     ax.fill_between(np.append(xx, xx[-1]+0.35), \n",
    "#                     np.append(byday[cat][25], byday[cat][25][-1]), \n",
    "#                     np.append(byday[cat][75], byday[cat][75][-1]), lw=0, color=fillc, alpha=al, zorder=-1)\n",
    "    \n",
    "    ax.scatter(xx[1:-1], byday[cat][50], \n",
    "               edgecolor=edgec, lw=LW,\n",
    "               facecolor = facec,marker=mr, s=ms)\n",
    "    \n",
    "    \n",
    "    \n",
    "    \n",
    "# plt.legend()\n",
    "#     for dd in days:\n",
    "#         yy = grouplen[cat]['all'][dd]\n",
    "#         ax.scatter(np.full(len(yy), dd), yy, c=color2, s=1, zorder=-1)\n",
    "\n",
    "\n",
    "ax.set_xticks(x)\n",
    "ax.set_xticklabels(across.keys())\n",
    "\n",
    "# ax.bar(days, nums/2, bottom=250, color='k', clip_on=False)\n",
    "# for dd, n in zip(days, nums):\n",
    "#     ax.text(dd, 250+n/2, f'{n:.0f}', c='k', ha='center', va='bottom', clip_on=False)\n",
    "\n",
    "ax.set_ylim(-10,280)\n",
    "ax.set_ylabel('Polynya\\nlength\\n(km)\\n', rotation=0, labelpad=25, va='center')\n",
    "ax.set_xlabel('Days')\n",
    "\n",
    "\n",
    "ax.yaxis.set_major_locator(ticker.MultipleLocator(50))\n",
    "ax.yaxis.set_minor_locator(ticker.MultipleLocator(10))\n",
    "\n",
    "for ax, ch in zip(axs, ['a', 'b', 'c']):\n",
    "    ax.text(0.95,0.97, ch, weight='bold',  ha='right', va='top', transform=ax.transAxes)\n",
    "\n",
    "# plt.axhline(6.25, zorder=-1, ls='dashed', c='darkgray')\n",
    "\n",
    "plt.text(5, 180, '2% wind-driven\\npack ice drift', ha='center', c='darkorange')\n",
    "plt.text(3, 85, 'Observed', ha='right', c='k')\n",
    "plt.text(10, 9, 'Latent-heat (Pease)', ha='right', c=[75/255,150/255,255/255])\n",
    "\n",
    "for ax in axs:\n",
    "    ax.set_xlim(-0.75,10.75)\n",
    "# plt.axhline(6.25, c='darkgray', ls='dashed')\n",
    "# plt.text(10, -5, 'SIC resolution', ha='right', c='gray')\n",
    "\n",
    "\n",
    "plt.subplots_adjust(hspace=0.1)"
   ]
  },
  {
   "cell_type": "code",
   "execution_count": null,
   "id": "a03dca94",
   "metadata": {},
   "outputs": [],
   "source": []
  },
  {
   "cell_type": "code",
   "execution_count": null,
   "id": "6c6282a6",
   "metadata": {},
   "outputs": [],
   "source": []
  }
 ],
 "metadata": {
  "kernelspec": {
   "display_name": "SBSpolynya",
   "language": "python",
   "name": "sbspolynya"
  },
  "language_info": {
   "codemirror_mode": {
    "name": "ipython",
    "version": 3
   },
   "file_extension": ".py",
   "mimetype": "text/x-python",
   "name": "python",
   "nbconvert_exporter": "python",
   "pygments_lexer": "ipython3",
   "version": "3.12.2"
  }
 },
 "nbformat": 4,
 "nbformat_minor": 5
}
