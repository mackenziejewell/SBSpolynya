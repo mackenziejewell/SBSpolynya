{
 "cells": [
  {
   "cell_type": "markdown",
   "id": "b746cacd",
   "metadata": {},
   "source": [
    "# 05_WindForcing\n",
    "\n",
    "Relation to large-scale patterns of atm. forcing"
   ]
  },
  {
   "cell_type": "code",
   "execution_count": 4,
   "id": "a1bfe797",
   "metadata": {},
   "outputs": [
    {
     "name": "stdout",
     "output_type": "stream",
     "text": [
      "The autoreload extension is already loaded. To reload it, use:\n",
      "  %reload_ext autoreload\n"
     ]
    }
   ],
   "source": [
    "%load_ext autoreload\n",
    "%autoreload 2\n",
    "\n",
    "# general\n",
    "import numpy as np, numpy.ma as ma\n",
    "import xarray as xr\n",
    "import pandas as pd\n",
    "\n",
    "# time\n",
    "from datetime import datetime, timedelta\n",
    "import calendar\n",
    "from calendar import monthrange\n",
    "\n",
    "# local system \n",
    "import sys  \n",
    "import glob\n",
    "import os\n",
    "\n",
    "# plotting\n",
    "import matplotlib as mpl\n",
    "from matplotlib import pyplot as plt\n",
    "import matplotlib.colors\n",
    "import cmocean\n",
    "import matplotlib.patches as mpatches\n",
    "from mpl_toolkits.axes_grid1.inset_locator import inset_axes\n",
    "from matplotlib.colors import Normalize\n",
    "import matplotlib.ticker as ticker\n",
    "# from matplotlib.ticker import MultipleLocator\n",
    "\n",
    "import matplotlib.dates as mdates\n",
    "import matplotlib.patches as patches\n",
    "import matplotlib.ticker as mticker\n",
    "\n",
    "from scipy import stats\n",
    "\n",
    "\n",
    "# geo plotting\n",
    "import cartopy\n",
    "import cartopy.crs as ccrs\n",
    "import cartopy.feature as cfeat\n",
    "from cartopy import img_transform\n",
    "\n",
    "from metpy.units import units\n",
    "\n",
    "# path to own functions\n",
    "sys.path.append('../../')\n",
    "import timeseries.adjust as tseries\n",
    "import timeseries.analyze as tanalyze\n",
    "import geofunc.general as geogen\n",
    "import geofunc.vectors as vectors\n",
    "import geofunc.shapes as geoshape\n",
    "import plot_simply.general as plotter\n",
    "import plot_simply.geomap as geomap\n",
    "import data_nsidc.icedrift as icedrift\n",
    "import data_unibremen.SIC as unisic"
   ]
  },
  {
   "cell_type": "code",
   "execution_count": 5,
   "id": "e6d296b8",
   "metadata": {},
   "outputs": [],
   "source": [
    "plt.style.use('../jgr_oceans.mplstyle')\n",
    "\n",
    "def SAVE(fig, filename):\n",
    "    fig.savefig(filename, bbox_inches='tight', dpi=500, pad_inches=0.05)\n",
    "\n",
    "    "
   ]
  },
  {
   "cell_type": "code",
   "execution_count": 6,
   "id": "f467d059",
   "metadata": {},
   "outputs": [
    {
     "data": {
      "text/plain": [
       "{'Cp_o': <Quantity(3850.0, 'joule / kilogram / delta_degree_Celsius')>,\n",
       " 'Cp_a': <Quantity(1004.0, 'joule / kilogram / delta_degree_Celsius')>,\n",
       " 'sigma_sb': <Quantity(5.670367e-08, 'watt / meter ** 2 / kelvin ** 4')>,\n",
       " 'rho_a': <Quantity(1.225, 'kilogram / meter ** 3')>,\n",
       " 'rho_o': <Quantity(1028.0, 'kilogram / meter ** 3')>,\n",
       " 'rho_i': <Quantity(917.0, 'kilogram / meter ** 3')>,\n",
       " 'L_i': <Quantity(334000.0, 'joule / kilogram')>,\n",
       " 'k_i': <Quantity(2.2, 'watt / meter / delta_degree_Celsius')>,\n",
       " 'kappa': <Quantity(0.4, 'dimensionless')>,\n",
       " 'St': <Quantity(0.0057, 'dimensionless')>,\n",
       " 'omega': <Quantity(7.2921e-05, 'radian / second')>}"
      ]
     },
     "execution_count": 6,
     "metadata": {},
     "output_type": "execute_result"
    }
   ],
   "source": [
    "# Save to file\n",
    "df = pd.read_csv('../data/constants.csv')\n",
    "df = df.set_index('var')\n",
    "df\n",
    "\n",
    "cst = {}\n",
    "for variable in list(df.index):\n",
    "    cst[variable] = df.loc[variable]['value'] * units(df.loc[variable]['units'])\n",
    "    \n",
    "cst"
   ]
  },
  {
   "cell_type": "markdown",
   "id": "a3c79ff1",
   "metadata": {},
   "source": [
    "## Reference grids"
   ]
  },
  {
   "cell_type": "code",
   "execution_count": 7,
   "id": "3b3a0ebd",
   "metadata": {},
   "outputs": [],
   "source": [
    "\n",
    "\n",
    "# open regional bounding coordinates\n",
    "df = pd.read_csv('../data/coastal_region_bounds_v7.csv')\n",
    "reg_poly = geoshape.make_polygon(np.stack((df['lons'], df['lats']), axis=1))\n"
   ]
  },
  {
   "cell_type": "code",
   "execution_count": null,
   "id": "74eaefce",
   "metadata": {},
   "outputs": [],
   "source": []
  },
  {
   "cell_type": "code",
   "execution_count": null,
   "id": "fa60cf8d",
   "metadata": {},
   "outputs": [],
   "source": []
  },
  {
   "cell_type": "code",
   "execution_count": 8,
   "id": "6f815f26",
   "metadata": {},
   "outputs": [
    {
     "name": "stderr",
     "output_type": "stream",
     "text": [
      "/var/folders/p8/hz449fpx6nscv0jb1klyfqb40000gp/T/ipykernel_2317/810645748.py:17: SettingWithCopyWarning: \n",
      "A value is trying to be set on a copy of a slice from a DataFrame\n",
      "\n",
      "See the caveats in the documentation: https://pandas.pydata.org/pandas-docs/stable/user_guide/indexing.html#returning-a-view-versus-a-copy\n",
      "  df[f'{cat}_r'][df[f'{cat}_r']<0]+=360\n",
      "/var/folders/p8/hz449fpx6nscv0jb1klyfqb40000gp/T/ipykernel_2317/810645748.py:17: SettingWithCopyWarning: \n",
      "A value is trying to be set on a copy of a slice from a DataFrame\n",
      "\n",
      "See the caveats in the documentation: https://pandas.pydata.org/pandas-docs/stable/user_guide/indexing.html#returning-a-view-versus-a-copy\n",
      "  df[f'{cat}_r'][df[f'{cat}_r']<0]+=360\n",
      "/var/folders/p8/hz449fpx6nscv0jb1klyfqb40000gp/T/ipykernel_2317/810645748.py:17: SettingWithCopyWarning: \n",
      "A value is trying to be set on a copy of a slice from a DataFrame\n",
      "\n",
      "See the caveats in the documentation: https://pandas.pydata.org/pandas-docs/stable/user_guide/indexing.html#returning-a-view-versus-a-copy\n",
      "  df[f'{cat}_r'][df[f'{cat}_r']<0]+=360\n",
      "/var/folders/p8/hz449fpx6nscv0jb1klyfqb40000gp/T/ipykernel_2317/810645748.py:17: SettingWithCopyWarning: \n",
      "A value is trying to be set on a copy of a slice from a DataFrame\n",
      "\n",
      "See the caveats in the documentation: https://pandas.pydata.org/pandas-docs/stable/user_guide/indexing.html#returning-a-view-versus-a-copy\n",
      "  df[f'{cat}_r'][df[f'{cat}_r']<0]+=360\n"
     ]
    }
   ],
   "source": [
    "df = pd.read_csv('../data/compiled_stats.csv')\n",
    "\n",
    "df['esei'] = vectors.comp_along_theta(df['ui'], df['vi'], 145*units('degree')) * units('cm/s').to('km/day')\n",
    "df['ese10'] = 0.02*vectors.comp_along_theta(df['u10'], df['v10'], 180*units('degree'))* units('m/s').to('km/day')\n",
    "# df['ese10'][df.year>=2016] = 1.3*df['ese10'][df.year>=2016]\n",
    "\n",
    "\n",
    "\n",
    "\n",
    "df['si_km'] = df['si'] * units('cm/s').to('km/day')\n",
    "\n",
    "df['e10'] = - df['u10']\n",
    "# manually modify this for now since I set too strict of threshold\n",
    "\n",
    "for cat in ['a10', 'ai', 'centermass_direction', 'max_length_direction']:\n",
    "    df[f'{cat}_r'] = 90-df[f'{cat}']\n",
    "    df[f'{cat}_r'][df[f'{cat}_r']<0]+=360\n",
    "\n",
    "df['up'] = df['centermass_length'].values * np.cos(df['centermass_direction'].values*np.pi/180)\n",
    "df['vp'] = df['centermass_length'].values * np.sin(df['centermass_direction'].values*np.pi/180)\n",
    "                     \n",
    "    \n",
    "vi = (df['ui'].values, df['vi'].values)\n",
    "vw = (df['u10'].values, df['v10'].values)\n",
    "vp = (df['up'].values, df['vp'].values )\n",
    "                              \n",
    "df['ta_wi'] = vectors.turning_angle(vw,vi).magnitude\n",
    "df['ta_ip'] = vectors.turning_angle(vi,vp).magnitude\n",
    "df['ta_wp'] = vectors.turning_angle(vw,vp).magnitude\n",
    "\n",
    "\n",
    "\n",
    "\n",
    "# identify base period\n",
    "dfb = df[df['2003_2023']]\n",
    "\n",
    "dfr = df[df.year >= 2003]\n",
    "\n"
   ]
  },
  {
   "cell_type": "code",
   "execution_count": 9,
   "id": "8e9728f8",
   "metadata": {},
   "outputs": [
    {
     "name": "stdout",
     "output_type": "stream",
     "text": [
      "2024-10-01 00:00:00 2025-07-01 00:00:00\n"
     ]
    }
   ],
   "source": [
    "\n",
    "\n",
    "years = np.arange(2003,2026)\n",
    "doys = np.arange(-92,182)\n",
    "\n",
    "all_extents = np.array([])\n",
    "all_doys = np.array([])\n",
    "\n",
    "year = 2025\n",
    "ti = datetime(year, 1, 1) + timedelta(days=int(doys[0]))\n",
    "tf2 = datetime(year, 1, 1) + timedelta(days=int(doys[-1]))\n",
    "print(ti,tf2)\n",
    "\n",
    "for year in years:\n",
    "    \n",
    "#     if year == 2025:    \n",
    "#         with xr.open_dataset(f'../data/polynya_size/daily_polynya_2025_sic10_v7.6_radius25km.nc') as ds:\n",
    "\n",
    "#             print(ds.time)\n",
    "#             ti = datetime(year, 1, 1) + timedelta(days=int(doys[0]))\n",
    "#             tf2 = datetime(year, 1, 1) + timedelta(days=int(doys[-1]-1))\n",
    "#             ds = ds.sel(time=slice(ti,tf2))\n",
    "#             print(ti, tf2)\n",
    "\n",
    "#             # save times and areas\n",
    "#             dt = (pd.to_datetime(ds.time.values) - datetime(year, 1, 1)).days\n",
    "#             areas = ds.polynya_extent + ds.other_polynya_extent\n",
    "            \n",
    "# #             areas = np.concatenate((np.full(31,100000), areas.values))\n",
    "            \n",
    "# #             areas = np.concatenate((areas, np.full(273-len(areas), np.nan)))\n",
    "# #             print(areas)\n",
    "#             curr_areas = areas\n",
    "\n",
    "#             curr_doy = np.append(curr_doy, dt)\n",
    "        \n",
    "#                     # crop time\n",
    "#             ti = datetime(year, 1, 1) + timedelta(days=int(doys[0]))\n",
    "#             tf = datetime(year, 1, 1) + timedelta(days=int(134))\n",
    "#             ds = ds.sel(time=slice(ti,tf))\n",
    "\n",
    "#     #         print(len(ds.time), tf)\n",
    "\n",
    "#             # save times and areas\n",
    "#             dt = (pd.to_datetime(ds.time.values) - datetime(year, 1, 1)).days\n",
    "#             areas = ds.polynya_extent + ds.other_polynya_extent\n",
    "\n",
    "#             curr_areas = areas\n",
    "#             curr_doy = dt\n",
    "\n",
    "\n",
    "        \n",
    "#     else:    \n",
    "    with xr.open_dataset(f'../data/polynya_size/daily_polynya_{year}_sic10_v7.6_radius25km.nc') as ds:\n",
    "#     with xr.open_dataset(f'../data/polynya_size/daily_polynya_{year}_sic10_v7.4_radius25km.nc') as ds:\n",
    "\n",
    "        # crop time\n",
    "        ti = datetime(year, 1, 1) + timedelta(days=int(doys[0]))\n",
    "        tf = datetime(year, 1, 1) + timedelta(days=int(doys[-1]))#134))\n",
    "        ds = ds.sel(time=slice(ti,tf))\n",
    "\n",
    "#         print(len(ds.time), tf)\n",
    "\n",
    "        # save times and areas\n",
    "        dt = (pd.to_datetime(ds.time.values) - datetime(year, 1, 1)).days\n",
    "        areas = np.copy(ds.polynya_extent.values) + ds.other_polynya_extent\n",
    "\n",
    "        \n",
    "        areas_interp, _ = tseries.linear_interpolate(pd.to_datetime(ds.time.values), \n",
    "                                                      pd.to_datetime(ds.time.values), \n",
    "                                                      areas, max_dt = 7 * units('day'))\n",
    "        \n",
    "        \n",
    "        curr_areas = areas_interp\n",
    "        curr_doy = dt\n",
    "\n",
    "\n",
    "#         with xr.open_dataset(f'../data/polynya_size/daily_polynya_{year}_sic10_v7.6_radius25km.nc') as ds:\n",
    "\n",
    "#             tf2 = datetime(year, 1, 1) + timedelta(days=int(doys[-1]-1))\n",
    "#             ds = ds.sel(time=slice(tf,tf2))\n",
    "#     #         print(len(ds.time), tf2)\n",
    "\n",
    "#             # save times and areas\n",
    "#             dt = (pd.to_datetime(ds.time.values) - datetime(year, 1, 1)).days\n",
    "#             areas = ds.polynya_extent + ds.other_polynya_extent\n",
    "\n",
    "#             curr_areas = np.append(curr_areas, areas)\n",
    "\n",
    "#             curr_doy = np.append(curr_doy, dt)\n",
    "\n",
    "#     print(len(curr_doy))\n",
    "\n",
    "    all_extents = np.append(all_extents, curr_areas)\n",
    "    all_doys = np.append(all_doys, curr_doy)\n",
    "\n",
    "extents = np.reshape(all_extents, (len(years), len(doys)))\n",
    "\n",
    "#     all_extents = np.append(all_extents, df[df.year == year].extent.values)"
   ]
  },
  {
   "cell_type": "code",
   "execution_count": 10,
   "id": "d1e57656",
   "metadata": {},
   "outputs": [],
   "source": [
    "# tO = (datetime(year-1, 10, 1) - datetime(year, 1, 1)).days\n",
    "# tN = (datetime(year-1, 11, 1) - datetime(year, 1, 1)).days\n",
    "# tD = (datetime(year-1, 12, 1) - datetime(year, 1, 1)).days\n",
    "# tJ = (datetime(year, 1, 1) - datetime(year, 1, 1)).days\n",
    "# tF = (datetime(year, 2, 1) - datetime(year, 1, 1)).days\n",
    "# tM = (datetime(year, 3, 1) - datetime(year, 1, 1)).days\n",
    "# tA = (datetime(year, 4, 1) - datetime(year, 1, 1)).days\n",
    "\n",
    "# tMa = (datetime(year, 5, 1) - datetime(year, 1, 1)).days\n",
    "# tJu = (datetime(year, 6, 1) - datetime(year, 1, 1)).days\n",
    "# tJl = (datetime(year, 7, 1) - datetime(year, 1, 1)).days\n",
    "\n",
    "\n",
    "tO = datetime(year-1, 10, 1) \n",
    "tN = datetime(year-1, 11, 1) \n",
    "tD = datetime(year-1, 12, 1) \n",
    "tJ = datetime(year, 1, 1) \n",
    "tF = datetime(year, 2, 1) \n",
    "tM = datetime(year, 3, 1) \n",
    "tA = datetime(year, 4, 1) \n",
    "\n",
    "tMa = datetime(year, 5, 1) \n",
    "tJu = datetime(year, 6, 1) \n",
    "tJl = datetime(year, 7, 1) \n",
    "\n"
   ]
  },
  {
   "cell_type": "code",
   "execution_count": 11,
   "id": "1a9c5cca",
   "metadata": {},
   "outputs": [
    {
     "name": "stderr",
     "output_type": "stream",
     "text": [
      "<>:40: SyntaxWarning: invalid escape sequence '\\m'\n",
      "<>:40: SyntaxWarning: invalid escape sequence '\\m'\n",
      "/var/folders/p8/hz449fpx6nscv0jb1klyfqb40000gp/T/ipykernel_2317/816859519.py:40: SyntaxWarning: invalid escape sequence '\\m'\n",
      "  cb_label='Open extent $\\mathrm{(km^2)}$', labelpad='auto',\n"
     ]
    },
    {
     "data": {
      "text/plain": [
       "[<matplotlib.lines.Line2D at 0x13e7c5640>]"
      ]
     },
     "execution_count": 11,
     "metadata": {},
     "output_type": "execute_result"
    },
    {
     "data": {
      "image/png": "[encoded data removed]",
      "text/plain": [
       "<Figure size 700x300 with 2 Axes>"
      ]
     },
     "metadata": {},
     "output_type": "display_data"
    }
   ],
   "source": [
    "import matplotlib.pyplot as plt\n",
    "import numpy as np\n",
    "from matplotlib.patches import Rectangle\n",
    "from matplotlib import ticker\n",
    "from matplotlib.colors import ListedColormap\n",
    "import cmocean\n",
    "from matplotlib.ticker import FixedLocator\n",
    "\n",
    "# --- Setup figure and axis ---\n",
    "fig, ax = plt.subplots(figsize=(7, 3))\n",
    "ax.set_facecolor([0.9, 0.9, 0.9])\n",
    "\n",
    "# --- Modify colormap ---\n",
    "cmap = cmocean.tools.crop_by_percent(cmocean.cm.ice_r, 5, which='min')\n",
    "colors = cmap(np.arange(cmap.N))\n",
    "colors[0] = [1, 1, 1, 1]  # Replace first color with white\n",
    "modified_cmap = ListedColormap(colors)\n",
    "\n",
    "# --- Pcolormesh plot ---\n",
    "mesh = ax.pcolormesh(ds.time, years, extents, vmin=0, vmax=4000, cmap=modified_cmap)\n",
    "\n",
    "# --- Customize x-axis ---\n",
    "# Set major ticks to the first day of each month\n",
    "ax.xaxis.set_major_locator(mdates.MonthLocator())\n",
    "ax.xaxis.set_major_formatter(mdates.DateFormatter('%b'))  # 'Jan', 'Feb', etc.\n",
    "ax.set_xlabel('Time of year')\n",
    "\n",
    "# --- Customize y-axis ---\n",
    "ax.set_ylabel('Year')\n",
    "ax.set_ylim(years.min() - 0.5, years.max() + 0.5)\n",
    "ax.yaxis.set_major_locator(ticker.MultipleLocator(5))\n",
    "ax.yaxis.set_minor_locator(ticker.MultipleLocator(1))\n",
    "\n",
    "# --- Colorbar ---\n",
    "plotter.add_colorbar(\n",
    "    fig, ax, [mesh],\n",
    "    cb_placement='top', cb_orientation='auto',\n",
    "    cb_width=0.025, cb_length_fraction=[0.8, 1], cb_pad=0.05,\n",
    "    cb_ticks='auto', cb_ticklabels='auto', cb_extend='neither',\n",
    "    cb_label='Open extent $\\mathrm{(km^2)}$', labelpad='auto',\n",
    "    cb_label_placement='auto', cb_tick_placement='auto',\n",
    "    tick_kwargs = {'pad':0.1}, cb_labelsize=plt.rcParams['font.size'],\n",
    "    draw_edges=False, edge_params=['k', 2]\n",
    ")\n",
    "\n",
    "# --- Ice season highlight rectangle ---\n",
    "top_y = years.max() + 0.5\n",
    "height = 2\n",
    "is_color = [226/255, 170/255, 0/255]\n",
    "\n",
    "rect = Rectangle(\n",
    "    (tD, top_y), tMa - tD, height,\n",
    "    facecolor=is_color, edgecolor='None',\n",
    "    alpha=0.1, linewidth=1.25, clip_on=False\n",
    ")\n",
    "ax.add_patch(rect)\n",
    "\n",
    "# --- Labels and annotations ---\n",
    "ax.text(tO +timedelta(days=5), 2012-0.1, 'NO DATA', ha='left', va='center', c=[0.6]*3,weight='bold', size=plt.rcParams['font.size']-2)\n",
    "ax.text(0.5, 1.045, 'Analyzed ice season', transform=ax.transAxes,\n",
    "        ha='center', va='center', c=is_color, )\n",
    "\n",
    "# --- Draw bounding lines around ice season ---\n",
    "line_kwargs = dict(color=is_color, lw=1.5, linestyle='solid', clip_on=False, zorder=100)\n",
    "dashed_kwargs = {**line_kwargs, 'dashes': (2, 1)}\n",
    "\n",
    "ax.plot([tD, tD], [2003 - 0.5, top_y + height], **dashed_kwargs)\n",
    "ax.plot([tMa, tMa], [2003 - 0.5, top_y + height], **dashed_kwargs)\n",
    "ax.plot([tD, tMa], [top_y + height, top_y + height], **dashed_kwargs)\n",
    "\n",
    "# ax.tick_params(axis='x', which='minor', length=4, color='gray', )\n",
    "# ax.tick_params(axis='x', which='major', length=7, color='black', width=1.5)\n",
    "\n",
    "# SAVE(fig, '../figures/results/occurrences/Fig02b.png')"
   ]
  },
  {
   "cell_type": "code",
   "execution_count": null,
   "id": "446dedd0",
   "metadata": {},
   "outputs": [],
   "source": []
  },
  {
   "cell_type": "code",
   "execution_count": null,
   "id": "f5a28860",
   "metadata": {},
   "outputs": [],
   "source": []
  },
  {
   "cell_type": "code",
   "execution_count": null,
   "id": "e7c796d3",
   "metadata": {},
   "outputs": [],
   "source": []
  },
  {
   "cell_type": "code",
   "execution_count": 25,
   "id": "55dfefc7",
   "metadata": {},
   "outputs": [
    {
     "name": "stderr",
     "output_type": "stream",
     "text": [
      "<>:57: SyntaxWarning: invalid escape sequence '\\m'\n",
      "<>:135: SyntaxWarning: invalid escape sequence '\\m'\n",
      "<>:57: SyntaxWarning: invalid escape sequence '\\m'\n",
      "<>:135: SyntaxWarning: invalid escape sequence '\\m'\n",
      "/var/folders/p8/hz449fpx6nscv0jb1klyfqb40000gp/T/ipykernel_2317/265778318.py:57: SyntaxWarning: invalid escape sequence '\\m'\n",
      "  cb_label='Open water extent $\\mathrm{(km^2)}$', labelpad='auto',\n",
      "/var/folders/p8/hz449fpx6nscv0jb1klyfqb40000gp/T/ipykernel_2317/265778318.py:135: SyntaxWarning: invalid escape sequence '\\m'\n",
      "  ax.set_ylabel('Maximum\\nextent $\\mathrm{(km^2)}$')\n"
     ]
    },
    {
     "data": {
      "image/png": "[encoded data removed]",
      "text/plain": [
       "<Figure size 700x300 with 4 Axes>"
      ]
     },
     "metadata": {},
     "output_type": "display_data"
    }
   ],
   "source": [
    "import matplotlib.pyplot as plt\n",
    "import matplotlib.gridspec as gridspec\n",
    "import numpy as np\n",
    "from matplotlib.patches import Rectangle\n",
    "from matplotlib.colors import ListedColormap\n",
    "from matplotlib import ticker\n",
    "import cmocean\n",
    "\n",
    "# === Dummy placeholders (replace with real data) ===\n",
    "# Assume doys is 1D array of time-of-year values\n",
    "# Assume years is 1D array of years\n",
    "# Assume extents is a 2D array of shape (len(years), len(doys))\n",
    "# Assume tO, tN, tD, ... etc. are defined\n",
    "# Assume plotter.add_colorbar is a custom colorbar utility\n",
    "\n",
    "# === Setup figure and layout ===\n",
    "fig = plt.figure(figsize=(7, 3))  # Wider figure to accommodate side panels\n",
    "gs = gridspec.GridSpec(2, 2, width_ratios=[3, 1], height_ratios=[1,1], wspace=0.1, hspace=0.2)\n",
    "\n",
    "# --- Left Main Panel: pcolormesh plot ---\n",
    "ax_main = fig.add_subplot(gs[:, 0])  # Span both rows\n",
    "ax_main.set_facecolor([0.9, 0.9, 0.9])\n",
    "\n",
    "# --- Modify colormap ---\n",
    "cmap = cmocean.tools.crop_by_percent(cmocean.cm.ice_r, 5, which='min')\n",
    "colors = cmap(np.arange(cmap.N))\n",
    "colors[0] = [1, 1, 1, 1]  # Replace first color with white\n",
    "modified_cmap = ListedColormap(colors)\n",
    "\n",
    "# --- Pcolormesh plot ---\n",
    "mesh = ax_main.pcolormesh(ds.time, years, extents, vmin=0, vmax=4000, cmap=modified_cmap)\n",
    "\n",
    "# --- Customize x-axis ---\n",
    "# Set major ticks to the first day of each month\n",
    "ax_main.xaxis.set_major_locator(mdates.MonthLocator())\n",
    "ax_main.xaxis.set_major_formatter(mdates.DateFormatter('%b'))  # 'Jan', 'Feb', etc.\n",
    "ax_main.set_xlabel('Time of year')\n",
    "\n",
    "# --- Customize y-axis ---\n",
    "ax_main.set_ylabel('Year')\n",
    "ax_main.set_ylim(years.min() - 0.5, years.max() + 0.5)\n",
    "ax_main.yaxis.set_major_locator(ticker.MultipleLocator(5))\n",
    "ax_main.yaxis.set_minor_locator(ticker.MultipleLocator(1))\n",
    "\n",
    "\n",
    "def custom_formatter(x, pos):\n",
    "    return f'{str(int(x-1))}'+'/'+str(int(x))[-2:]\n",
    "ax_main.yaxis.set_major_formatter(custom_formatter)\n",
    "\n",
    "\n",
    "# --- Colorbar ---\n",
    "plotter.add_colorbar(\n",
    "    fig, ax_main, [mesh],\n",
    "    cb_placement='top', cb_orientation='auto',\n",
    "    cb_width=0.025, cb_length_fraction=[-0.1,0.18], cb_pad=0.05,\n",
    "    cb_ticks='auto', cb_ticklabels='auto', cb_extend='neither',\n",
    "    cb_label='Open water extent $\\mathrm{(km^2)}$', labelpad='auto',\n",
    "    cb_label_placement='auto', cb_tick_placement='auto',\n",
    "    tick_kwargs = {'pad':0.1}, cb_labelsize=plt.rcParams['font.size'],\n",
    "    draw_edges=False, edge_params=['k', 2]\n",
    ")\n",
    "\n",
    "# --- Ice season highlight rectangle ---\n",
    "top_y = years.max() + 0.5\n",
    "height = 2\n",
    "is_color = [226/255, 170/255, 0/255]\n",
    "\n",
    "rect = Rectangle(\n",
    "    (tD, top_y), tMa - tD, height,\n",
    "    facecolor=is_color, edgecolor='None',\n",
    "    alpha=0.1, linewidth=1.25, clip_on=False\n",
    ")\n",
    "ax_main.add_patch(rect)\n",
    "\n",
    "# --- Labels and annotations ---\n",
    "ax_main.text(tO +timedelta(days=5), 2012-0.1, 'NO DATA', ha='left', va='center', c=[0.6]*3,weight='bold', size=plt.rcParams['font.size']-2)\n",
    "ax_main.text(0.5, 1.045, 'Analyzed ice season', transform=ax_main.transAxes,\n",
    "        ha='center', va='center', c=is_color, )\n",
    "\n",
    "# --- Draw bounding lines around ice season ---\n",
    "line_kwargs = dict(color=is_color, lw=1.5, linestyle='solid', clip_on=False, zorder=100)\n",
    "dashed_kwargs = {**line_kwargs, 'dashes': (2, 1)}\n",
    "\n",
    "ax_main.plot([tD, tD], [2003 - 0.5, top_y + height], **dashed_kwargs)\n",
    "ax_main.plot([tMa, tMa], [2003 - 0.5, top_y + height], **dashed_kwargs)\n",
    "ax_main.plot([tD, tMa], [top_y + height, top_y + height], **dashed_kwargs)\n",
    "\n",
    "ax_main.scatter(0.035, 0.95,  c='white', s=100,  transform=ax_main.transAxes)\n",
    "ax_main.text(0.025, 0.975, 'a', weight='bold', ha='left', va='top', transform=ax_main.transAxes)\n",
    "\n",
    "\n",
    "# --- Right Upper Panel: Metric A ---\n",
    "ax2 = fig.add_subplot(gs[0, 1], )\n",
    "\n",
    "ax = ax2\n",
    "\n",
    "# ax2.plot(time_data, metric_a, color='blue', lw=1)\n",
    "ax.set_ylabel('Duration (days)')\n",
    "ax.hist(event_durations, bins=np.arange(0.5,21,1), orientation='horizontal',\n",
    "        facecolor=cmocean.cm.ice(0.75), edgecolor='None')\n",
    "ax.yaxis.set_label_position(\"right\")\n",
    "ax.yaxis.tick_right()\n",
    "ax.yaxis.set_major_locator(ticker.MultipleLocator(5))\n",
    "ax.yaxis.set_minor_locator(ticker.MultipleLocator(1))\n",
    "ax.set_xlim(-2,60)\n",
    "ax.set_ylim(0,21)\n",
    "ax.xaxis.set_major_locator(ticker.MultipleLocator(20))\n",
    "ax.xaxis.set_minor_locator(ticker.MultipleLocator(5))\n",
    "ax.set_xticklabels([])\n",
    "ax.invert_xaxis()\n",
    "\n",
    "ax.set_title('MCP events', weight='bold')\n",
    "\n",
    "ax.text(0.05, 0.95, 'b', weight='bold', ha='left', va='top', transform=ax.transAxes)\n",
    "\n",
    "# plt.setp(ax2.get_xticklabels(), visible=False)  # Hide x labels\n",
    "\n",
    "# --- Right Lower Panel: Metric B ---\n",
    "ax3 = fig.add_subplot(gs[1, 1], )\n",
    "\n",
    "ax = ax3\n",
    "\n",
    "# dfr.extent[dfr.sequence!=-999]\n",
    "ax.hist(max_sizes, bins=np.logspace(1, np.log10(30000), 15), orientation='horizontal', \n",
    "        facecolor=cmocean.cm.ice(0.75), edgecolor='None')\n",
    "ax.semilogy()\n",
    "ax.axhline(39, c='gray', lw=1.5, ls='dashed')\n",
    "ax.text(43,45, 'ASI SIC\\nresolution', c='gray', ha='center', va='bottom')\n",
    "ax.set_xlim(-2,60)\n",
    "ax.yaxis.set_label_position(\"right\")\n",
    "ax.yaxis.tick_right()\n",
    "ax.xaxis.set_major_locator(ticker.MultipleLocator(20))\n",
    "ax.xaxis.set_minor_locator(ticker.MultipleLocator(5))\n",
    "\n",
    "ax.set_ylabel('Maximum\\nextent $\\mathrm{(km^2)}$')\n",
    "ax.set_xlabel('Counts')\n",
    "ax.invert_xaxis()\n",
    "\n",
    "# Optional: fine-tune layout\n",
    "# plt.tight_layout()\n",
    "\n",
    "ax.text(0.05, 0.95, 'c', weight='bold', ha='left', va='top', transform=ax.transAxes)\n",
    "\n",
    "\n",
    "\n",
    "\n",
    "SAVE(fig, '../figures/results/occurrences/Fig02.png')"
   ]
  },
  {
   "cell_type": "code",
   "execution_count": 255,
   "id": "74983c9a",
   "metadata": {},
   "outputs": [
    {
     "data": {
      "text/plain": [
       "Index(['time', 'month', 'year', 'pre_2003', '2003_2023', 'compact', 'open',\n",
       "       'q1', 'q2', 'q3', 'q4', 'extent', 'length_145max', 'length_145min',\n",
       "       'length_145p95', 'length_145p5', 'length_max', 'centermass_length',\n",
       "       'centermass_direction', 'max_length_direction', 'width595', 'width',\n",
       "       'ai', 'si', 'ui', 'vi', 'a10', 's10', 'u10', 'v10', 't2m', 'msl',\n",
       "       'year_start', 'year_end', 'missing_sic', 'sequence', 'event_day',\n",
       "       'day_before_event', 'day_after_event', 'overlap_flag', 'single_day',\n",
       "       'season_start_flag', 'season_end_flag', 'first_day', 'final_day',\n",
       "       'peak_day', 'event_length', 'after_event_length', 'before_event_length',\n",
       "       'esei', 'ese10', 'si_km', 'e10', 'a10_r', 'ai_r',\n",
       "       'centermass_direction_r', 'max_length_direction_r', 'up', 'vp', 'ta_wi',\n",
       "       'ta_ip', 'ta_wp'],\n",
       "      dtype='object')"
      ]
     },
     "execution_count": 255,
     "metadata": {},
     "output_type": "execute_result"
    }
   ],
   "source": [
    "dfr.keys()"
   ]
  },
  {
   "cell_type": "code",
   "execution_count": 13,
   "id": "1c82b3da",
   "metadata": {},
   "outputs": [],
   "source": [
    "event_durations = np.array([])\n",
    "event_sizes = np.array([])\n",
    "max_sizes = np.array([])\n",
    "\n",
    "start_flag = np.array([])\n",
    "final_flag = np.array([])\n",
    "\n",
    "\n",
    "all_seqs = np.array(list(set(dfr.sequence[(dfr.sequence!=-999)])))\n",
    "for ss in all_seqs:\n",
    "    \n",
    "    dur = dfr[dfr.sequence==ss].event_length.values.max()\n",
    "    event_durations = np.append(event_durations, dur)\n",
    "    \n",
    "\n",
    "    event_sizes = np.append(event_sizes, np.sum(dfr[dfr.sequence==ss].extent))\n",
    "\n",
    "#     event_sizes = np.append(event_sizes, np.mean(dfr[dfr.sequence==ss].extent))\n",
    "    max_sizes = np.append(max_sizes, np.max(dfr[dfr.sequence==ss].extent))\n",
    "    \n",
    "    \n",
    "    start_flag = np.append(start_flag, dfr.season_start_flag[dfr.sequence==ss].values[-1])\n",
    "    final_flag = np.append(final_flag, dfr.season_end_flag[dfr.sequence==ss].values[-1])\n",
    "        "
   ]
  },
  {
   "cell_type": "code",
   "execution_count": 14,
   "id": "117b5d58",
   "metadata": {},
   "outputs": [
    {
     "name": "stderr",
     "output_type": "stream",
     "text": [
      "/var/folders/p8/hz449fpx6nscv0jb1klyfqb40000gp/T/ipykernel_2317/1477532890.py:53: UserWarning: Attempt to set non-positive ylim on a log-scaled axis will be ignored.\n",
      "  ax.set_ylim(0,30000)\n"
     ]
    },
    {
     "data": {
      "text/plain": [
       "[<matplotlib.lines.Line2D at 0x13f926de0>]"
      ]
     },
     "execution_count": 14,
     "metadata": {},
     "output_type": "execute_result"
    },
    {
     "data": {
      "image/png": "[encoded data removed]",
      "text/plain": [
       "<Figure size 200x200 with 1 Axes>"
      ]
     },
     "metadata": {},
     "output_type": "display_data"
    }
   ],
   "source": [
    "fig, ax = plt.subplots(figsize=(2,2))\n",
    "\n",
    "\n",
    "# ax.scatter(event_durations, max_sizes, s=30, facecolor='None', edgecolor='k', )\n",
    "\n",
    "# plt.semilogy()\n",
    "\n",
    "x = event_durations\n",
    "y = max_sizes\n",
    "\n",
    "# Define bins\n",
    "x_bins = np.arange(0.5, 20.5, 1)       # 29 bins for x\n",
    "y_bins = np.logspace(1, np.log10(y.max()), 30)#np.linspace(0, 27000, 50)       # 49 bins for y\n",
    "\n",
    "# Modify colormap\n",
    "cmap = cmocean.tools.crop_by_percent(cmocean.cm.tempo, 5, which='min')\n",
    "colors = cmap(np.arange(cmap.N))\n",
    "colors[0] = [1, 1, 1, 1]\n",
    "modified_cmap = ListedColormap(colors)\n",
    "\n",
    "\n",
    "# 2D histogram\n",
    "out = plt.hist2d(x,#[(start_flag==False)&(final_flag==False)], \n",
    "                 y,#[(start_flag==False)&(final_flag==False)], \n",
    "                 bins=[x_bins, y_bins],  cmap=modified_cmap, vmin=0, vmax=20)  # You can adjust bins or colormap\n",
    "\n",
    "# plotter.add_colorbar(fig, ax, [out])\n",
    "\n",
    "\n",
    "# ax.scatter(x[(start_flag==False)&(final_flag==False)], \n",
    "#            y[(start_flag==False)&(final_flag==False)], s=20, facecolor='None', edgecolor=[0.]*3, )\n",
    "\n",
    "ax.scatter(x[all_seqs==150], y[all_seqs==150], marker='*', c='k')\n",
    "\n",
    "\n",
    "# ax.scatter(x[start_flag==True], y[start_flag==True], marker='o', s=15, edgecolor='darkorange', facecolor='None')\n",
    "# ax.scatter(x[final_flag==True], y[final_flag==True], marker='o', s=15, edgecolor='royalblue', facecolor='None')\n",
    "\n",
    "ax.axhline(39, c='gray', ls='dashed')\n",
    "ax.text(20,32, 'ASI SIC resolution  ', c='gray', ha='right', va='top')\n",
    "\n",
    "ax.semilogy()\n",
    "\n",
    "\n",
    "ax.xaxis.set_major_locator(ticker.MultipleLocator(5))\n",
    "ax.xaxis.set_minor_locator(ticker.MultipleLocator(1))\n",
    "\n",
    "ax.set_xlabel('Duration (days)')\n",
    "ax.set_ylabel('Maximum extent (km2)')\n",
    "\n",
    "\n",
    "# ax.set_xlim(0,20)\n",
    "ax.set_ylim(0,30000)\n",
    "\n",
    "# for L in range(1,20):\n",
    "#     ax.axvline(L, c='lightgray', lw=0.5,  zorder=-1)\n",
    "    \n",
    "    \n",
    "Y = y.max()+10000\n",
    "ax.plot([np.nanpercentile(x, 5), np.nanpercentile(x, 95)], [Y,Y], clip_on=False)\n",
    "ax.plot([np.nanpercentile(x, 25), np.nanpercentile(x, 75)], [Y,Y], lw=5, clip_on=False)\n",
    "ax.plot([np.nanpercentile(x, 25), np.nanpercentile(x, 50)], [Y,Y], lw=5, clip_on=False)\n",
    "ax.plot([np.nanpercentile(x, 5), np.nanpercentile(x, 25)], [Y,Y], lw=5, clip_on=False)\n",
    "\n",
    "\n",
    "X =21\n",
    "ax.plot([X,X], [np.nanpercentile(y, 5), np.nanpercentile(y, 95)],  clip_on=False)\n",
    "ax.plot([X,X], [np.nanpercentile(y, 25), np.nanpercentile(y, 75)],  lw=5, clip_on=False)\n",
    "ax.plot([X,X], [np.nanpercentile(y, 25), np.nanpercentile(y, 50)], lw=5, clip_on=False)\n",
    "ax.plot([X,X], [np.nanpercentile(y, 5), np.nanpercentile(y, 25)], lw=5, clip_on=False)\n",
    "\n",
    "\n",
    "# for per in [2,25,50,75,95]:\n",
    "#     ax.text(np.nanpercentile(x, per), Y, f'{per}%',clip_on=False)"
   ]
  },
  {
   "cell_type": "code",
   "execution_count": 15,
   "id": "2cbdff75",
   "metadata": {},
   "outputs": [
    {
     "data": {
      "image/png": "[encoded data removed]",
      "text/plain": [
       "<Figure size 200x200 with 1 Axes>"
      ]
     },
     "metadata": {},
     "output_type": "display_data"
    }
   ],
   "source": [
    "fig, ax = plt.subplots(figsize=(2,2))\n",
    "\n",
    "\n",
    "# ax.scatter(event_durations, max_sizes, s=30, facecolor='None', edgecolor='k', )\n",
    "\n",
    "# plt.semilogy()\n",
    "\n",
    "x = event_durations\n",
    "y = max_sizes\n",
    "\n",
    "# Define bins\n",
    "x_bins = np.arange(0.5, 20.5, 1)       # 29 bins for x\n",
    "y_bins = np.logspace(1, np.log10(y.max()), 30)#np.linspace(0, 27000, 50)       # 49 bins for y\n",
    "\n",
    "# 2D histogram\n",
    "out = plt.hist(x,bins=x_bins)  # You can adjust bins or colormap\n",
    "\n",
    "# plotter.add_colorbar(fig, ax, [out])\n",
    "\n",
    "\n",
    "# ax.scatter(x[(start_flag==False)&(final_flag==False)], \n",
    "#            y[(start_flag==False)&(final_flag==False)], s=20, facecolor='None', edgecolor=[0.]*3, )\n",
    "\n",
    "# ax.scatter(x[all_seqs==150], y[all_seqs==150], marker='*', c='k')\n",
    "\n",
    "\n",
    "# ax.axhline(39, c='gray', ls='dashed')\n",
    "# ax.text(20,32, 'ASI SIC resolution  ', c='gray', ha='right', va='top')\n",
    "\n",
    "\n",
    "\n",
    "# X =21\n",
    "# ax.plot([X,X], [np.nanpercentile(y, 5), np.nanpercentile(y, 95)],  clip_on=False)\n",
    "# ax.plot([X,X], [np.nanpercentile(y, 25), np.nanpercentile(y, 75)],  lw=5, clip_on=False)\n",
    "# ax.plot([X,X], [np.nanpercentile(y, 25), np.nanpercentile(y, 50)], lw=5, clip_on=False)\n",
    "# ax.plot([X,X], [np.nanpercentile(y, 5), np.nanpercentile(y, 25)], lw=5, clip_on=False)\n",
    "\n",
    "\n",
    "# for per in [2,25,50,75,95]:\n",
    "#     ax.text(np.nanpercentile(x, per), Y, f'{per}%',clip_on=False)"
   ]
  },
  {
   "cell_type": "code",
   "execution_count": 366,
   "id": "a3f5183b",
   "metadata": {},
   "outputs": [
    {
     "data": {
      "text/plain": [
       "95"
      ]
     },
     "execution_count": 366,
     "metadata": {},
     "output_type": "execute_result"
    }
   ],
   "source": [
    "per"
   ]
  },
  {
   "cell_type": "code",
   "execution_count": 352,
   "id": "68f4ffbb",
   "metadata": {},
   "outputs": [],
   "source": [
    "Lvals = list(set(event_durations))\n",
    "data = [y[x==L] for L in Lvals]\n"
   ]
  },
  {
   "cell_type": "code",
   "execution_count": 349,
   "id": "9cfb4912",
   "metadata": {},
   "outputs": [
    {
     "data": {
      "image/png": "[encoded data removed]",
      "text/plain": [
       "<Figure size 300x300 with 1 Axes>"
      ]
     },
     "metadata": {},
     "output_type": "display_data"
    }
   ],
   "source": [
    "import matplotlib.pyplot as plt\n",
    "import numpy as np\n",
    "\n",
    "# Combine data into a list of arrays\n",
    "# data = [data1, data2, data3]\n",
    "\n",
    "data = [y[x==L] for L in list(set(event_durations))]\n",
    "\n",
    "# Create the violin plot\n",
    "fig, ax = plt.subplots(figsize=(3,3))\n",
    "parts = ax.violinplot(data, showmeans=False, showmedians=True, showextrema=True)\n",
    "\n",
    "# Customize appearance\n",
    "# ax.set_xticks([1, 2, 3])\n",
    "# ax.set_xticklabels(['Group A', 'Group B', 'Group C'])\n",
    "ax.set_ylabel('Value')\n",
    "ax.set_title('Vertical Violin Plot (Matplotlib only)')\n",
    "\n",
    "plt.tight_layout()\n",
    "plt.show()\n"
   ]
  },
  {
   "cell_type": "code",
   "execution_count": 322,
   "id": "eabc1e2b",
   "metadata": {},
   "outputs": [
    {
     "data": {
      "text/plain": [
       "array([ 21,  87, 107])"
      ]
     },
     "execution_count": 322,
     "metadata": {},
     "output_type": "execute_result"
    }
   ],
   "source": [
    "all_seqs[final_flag==True]"
   ]
  },
  {
   "cell_type": "code",
   "execution_count": 277,
   "id": "00465e71",
   "metadata": {},
   "outputs": [
    {
     "data": {
      "text/plain": [
       "87"
      ]
     },
     "execution_count": 277,
     "metadata": {},
     "output_type": "execute_result"
    }
   ],
   "source": [
    "all_seqs[np.argmax(event_sizes)]"
   ]
  },
  {
   "cell_type": "code",
   "execution_count": 324,
   "id": "6fe0e754",
   "metadata": {},
   "outputs": [
    {
     "data": {
      "text/plain": [
       "array([467.69626171])"
      ]
     },
     "execution_count": 324,
     "metadata": {},
     "output_type": "execute_result"
    }
   ],
   "source": [
    "event_sizes[all_seqs==107]"
   ]
  },
  {
   "cell_type": "code",
   "execution_count": 327,
   "id": "256789b2",
   "metadata": {},
   "outputs": [
    {
     "data": {
      "text/plain": [
       "[<matplotlib.lines.Line2D at 0x16aa300e0>]"
      ]
     },
     "execution_count": 327,
     "metadata": {},
     "output_type": "execute_result"
    },
    {
     "data": {
      "image/png": "[encoded data removed]",
      "text/plain": [
       "<Figure size 640x480 with 1 Axes>"
      ]
     },
     "metadata": {},
     "output_type": "display_data"
    }
   ],
   "source": [
    "plt.plot(dfr.extent[dfr.year==2021])"
   ]
  },
  {
   "cell_type": "code",
   "execution_count": 325,
   "id": "78d7a785",
   "metadata": {},
   "outputs": [
    {
     "data": {
      "text/plain": [
       "4688    2018-04-30\n",
       "Name: time, dtype: object"
      ]
     },
     "execution_count": 325,
     "metadata": {},
     "output_type": "execute_result"
    }
   ],
   "source": [
    "dfr.time[dfr.sequence==107]"
   ]
  },
  {
   "cell_type": "code",
   "execution_count": 275,
   "id": "c37fe1a3",
   "metadata": {},
   "outputs": [
    {
     "data": {
      "text/plain": [
       "111361.7626670447"
      ]
     },
     "execution_count": 275,
     "metadata": {},
     "output_type": "execute_result"
    }
   ],
   "source": [
    "event_sizes.max()"
   ]
  },
  {
   "cell_type": "code",
   "execution_count": 276,
   "id": "e31ab538",
   "metadata": {},
   "outputs": [
    {
     "data": {
      "text/plain": [
       "array([102928.22815122])"
      ]
     },
     "execution_count": 276,
     "metadata": {},
     "output_type": "execute_result"
    }
   ],
   "source": [
    "event_sizes[all_seqs==150]"
   ]
  },
  {
   "cell_type": "code",
   "execution_count": 248,
   "id": "5ad9824e",
   "metadata": {},
   "outputs": [
    {
     "data": {
      "text/plain": [
       "4.477121254719663"
      ]
     },
     "execution_count": 248,
     "metadata": {},
     "output_type": "execute_result"
    }
   ],
   "source": [
    "np.log10(30000)"
   ]
  },
  {
   "cell_type": "code",
   "execution_count": null,
   "id": "2955610b",
   "metadata": {},
   "outputs": [],
   "source": [
    "ax.scatter(x[all_seqs==150], y[all_seqs==150])"
   ]
  },
  {
   "cell_type": "code",
   "execution_count": 240,
   "id": "fad1a0e7",
   "metadata": {},
   "outputs": [
    {
     "data": {
      "text/plain": [
       "array([], shape=(0, 162), dtype=float64)"
      ]
     },
     "execution_count": 240,
     "metadata": {},
     "output_type": "execute_result"
    }
   ],
   "source": [
    "y[all_seqs==150]"
   ]
  },
  {
   "cell_type": "code",
   "execution_count": 197,
   "id": "d562be90",
   "metadata": {},
   "outputs": [],
   "source": [
    "# fig, ax = plt.subplots(figsize=(3,3))\n",
    "# plt.hist((dfr.length_145max-dfr.length_145min)[dfr.sequence!=-999], bins=np.arange(0,400,10), alpha=0.5)\n",
    "# plt.hist(dfr.width[dfr.sequence!=-999], bins=np.arange(0,400,10), alpha=0.5)\n",
    "\n",
    "# fig, ax = plt.subplots(figsize=(3,3))\n",
    "# plt.scatter(dfr.width[dfr.sequence!=-999], (dfr.length_145max-dfr.length_145min)[dfr.sequence!=-999])"
   ]
  },
  {
   "cell_type": "code",
   "execution_count": null,
   "id": "08070384",
   "metadata": {},
   "outputs": [],
   "source": []
  },
  {
   "cell_type": "code",
   "execution_count": 128,
   "id": "a119d50d",
   "metadata": {},
   "outputs": [
    {
     "data": {
      "text/plain": [
       "9280.146888920392"
      ]
     },
     "execution_count": 128,
     "metadata": {},
     "output_type": "execute_result"
    }
   ],
   "source": [
    "event_sizes.max()"
   ]
  },
  {
   "cell_type": "code",
   "execution_count": 184,
   "id": "647156b4",
   "metadata": {},
   "outputs": [
    {
     "data": {
      "image/png": "[encoded data removed]",
      "text/plain": [
       "<Figure size 300x300 with 2 Axes>"
      ]
     },
     "metadata": {},
     "output_type": "display_data"
    }
   ],
   "source": [
    "import numpy as np\n",
    "import matplotlib.pyplot as plt\n",
    "from scipy.stats import gaussian_kde\n",
    "from matplotlib.colors import LogNorm\n",
    "\n",
    "# --- Generate 2D sample data ---\n",
    "x = event_durations\n",
    "y = event_sizes\n",
    "\n",
    "# --- Perform 2D KDE ---\n",
    "values = np.vstack([x, y])\n",
    "kde = gaussian_kde(values)\n",
    "\n",
    "# Create grid over data range\n",
    "x_grid = np.arange(0.5,20.5,1)\n",
    "y_grid = np.linspace(y.min(), y.max(), 50)\n",
    "\n",
    "X, Y = np.meshgrid(x_grid, y_grid)\n",
    "positions = np.vstack([X.ravel(), Y.ravel()])\n",
    "\n",
    "# Evaluate KDE on grid\n",
    "Z = kde(positions).reshape(X.shape)\n",
    "\n",
    "# --- Plot using log-scaled colormap ---\n",
    "fig, ax = plt.subplots(figsize=(3,3))\n",
    "# cf = ax.contourf(X, Y, Z, levels=50, norm=LogNorm(), cmap='viridis')\n",
    "\n",
    "cf = ax.pcolormesh(X, Y, Z, cmap=cmocean.cm.dense, vmin=0, vmax=0.0002)\n",
    "\n",
    "ax.semilogy()\n",
    "\n",
    "ax.scatter(event_durations, event_sizes, s=30, facecolor='None', edgecolor='mediumpurple', alpha=0.5 )\n",
    "\n",
    "\n",
    "# Add colorbar\n",
    "cbar = plt.colorbar(cf, ax=ax)\n",
    "cbar.set_label('Density (log scale)')\n",
    "\n",
    "ax.set_xlabel('X')\n",
    "ax.set_ylabel('Y')\n",
    "ax.set_title('2D Kernel Density Estimate (Log Color Scale)')\n",
    "\n",
    "plt.axhline(39)\n",
    "\n",
    "plt.tight_layout()\n",
    "plt.show()"
   ]
  },
  {
   "cell_type": "code",
   "execution_count": 180,
   "id": "92bb62e4",
   "metadata": {},
   "outputs": [
    {
     "data": {
      "text/plain": [
       "5478    16\n",
       "5479    16\n",
       "5480    16\n",
       "5481    16\n",
       "5482    16\n",
       "5483    16\n",
       "5484    16\n",
       "5485    16\n",
       "5486    16\n",
       "5487    16\n",
       "5488    16\n",
       "5489    16\n",
       "5490    16\n",
       "5491    16\n",
       "5492    16\n",
       "5493    16\n",
       "Name: event_length, dtype: int64"
      ]
     },
     "execution_count": 180,
     "metadata": {},
     "output_type": "execute_result"
    }
   ],
   "source": [
    "dfr.event_length[dfr.sequence==150]"
   ]
  },
  {
   "cell_type": "code",
   "execution_count": 179,
   "id": "b48fa423",
   "metadata": {},
   "outputs": [
    {
     "data": {
      "text/plain": [
       "5478    2024-01-03\n",
       "5479    2024-01-04\n",
       "5480    2024-01-05\n",
       "5481    2024-01-06\n",
       "5482    2024-01-07\n",
       "5483    2024-01-08\n",
       "5484    2024-01-09\n",
       "5485    2024-01-10\n",
       "5486    2024-01-11\n",
       "5487    2024-01-12\n",
       "5488    2024-01-13\n",
       "5489    2024-01-14\n",
       "5490    2024-01-15\n",
       "5491    2024-01-16\n",
       "5492    2024-01-17\n",
       "5493    2024-01-18\n",
       "Name: time, dtype: object"
      ]
     },
     "execution_count": 179,
     "metadata": {},
     "output_type": "execute_result"
    }
   ],
   "source": [
    "dfr.time[dfr.sequence==150]"
   ]
  },
  {
   "cell_type": "code",
   "execution_count": 101,
   "id": "ebf652e1",
   "metadata": {},
   "outputs": [
    {
     "data": {
      "text/plain": [
       "(array([92., 22.,  9.,  6.,  8.,  0.,  4.,  1.,  3.,  0.,  4.,  0.,  1.,\n",
       "         1.,  0.,  1.,  0.,  0.,  0.,  0.,  1.,  0.,  1.,  1.,  0.,  0.,\n",
       "         0.,  0.,  0.]),\n",
       " array([    0.,  1000.,  2000.,  3000.,  4000.,  5000.,  6000.,  7000.,\n",
       "         8000.,  9000., 10000., 11000., 12000., 13000., 14000., 15000.,\n",
       "        16000., 17000., 18000., 19000., 20000., 21000., 22000., 23000.,\n",
       "        24000., 25000., 26000., 27000., 28000., 29000.]),\n",
       " <BarContainer object of 29 artists>)"
      ]
     },
     "execution_count": 101,
     "metadata": {},
     "output_type": "execute_result"
    },
    {
     "data": {
      "image/png": "[encoded data removed]",
      "text/plain": [
       "<Figure size 200x150 with 1 Axes>"
      ]
     },
     "metadata": {},
     "output_type": "display_data"
    }
   ],
   "source": [
    "fig, ax = plt.subplots(figsize=(2,1.5))\n",
    "plt.hist(event_sizes, bins=np.arange(0,30000,1000))"
   ]
  },
  {
   "cell_type": "code",
   "execution_count": 91,
   "id": "ac59d507",
   "metadata": {},
   "outputs": [
    {
     "data": {
      "image/png": "[encoded data removed]",
      "text/plain": [
       "<Figure size 200x150 with 1 Axes>"
      ]
     },
     "metadata": {},
     "output_type": "display_data"
    }
   ],
   "source": [
    "fig, ax = plt.subplots(figsize=(2,1.5))\n",
    "plt.hist(event_durations, bins=np.arange(0,21,1))\n",
    "\n",
    "ax.set_ylim(0,)\n",
    "ax.xaxis.set_major_locator(ticker.MultipleLocator(5))\n",
    "ax.xaxis.set_minor_locator(ticker.MultipleLocator(1))"
   ]
  },
  {
   "cell_type": "code",
   "execution_count": 92,
   "id": "d72e54cc",
   "metadata": {},
   "outputs": [
    {
     "data": {
      "text/plain": [
       "(array([16.,  0.,  4., 16.,  2.,  0.,  6.,  3.,  0.,  4.]),\n",
       " array([38.95349509, 38.95791057, 38.96232605, 38.96674153, 38.97115701,\n",
       "        38.97557249, 38.97998798, 38.98440346, 38.98881894, 38.99323442,\n",
       "        38.9976499 ]),\n",
       " <BarContainer object of 10 artists>)"
      ]
     },
     "execution_count": 92,
     "metadata": {},
     "output_type": "execute_result"
    },
    {
     "data": {
      "image/png": "[encoded data removed]",
      "text/plain": [
       "<Figure size 640x480 with 1 Axes>"
      ]
     },
     "metadata": {},
     "output_type": "display_data"
    }
   ],
   "source": [
    "plt.hist(dfr.extent[(dfr.extent<50)&(dfr.sequence!=-999)])"
   ]
  },
  {
   "cell_type": "code",
   "execution_count": 87,
   "id": "c3b6c3a3",
   "metadata": {},
   "outputs": [
    {
     "name": "stderr",
     "output_type": "stream",
     "text": [
      "<>:46: SyntaxWarning: invalid escape sequence '\\m'\n",
      "<>:46: SyntaxWarning: invalid escape sequence '\\m'\n",
      "/var/folders/p8/hz449fpx6nscv0jb1klyfqb40000gp/T/ipykernel_59413/1893579119.py:46: SyntaxWarning: invalid escape sequence '\\m'\n",
      "  cb_label='Open extent $\\mathrm{(km^2)}$', labelpad='auto',\n",
      "/var/folders/p8/hz449fpx6nscv0jb1klyfqb40000gp/T/ipykernel_59413/1893579119.py:94: UserWarning: This figure includes Axes that are not compatible with tight_layout, so results might be incorrect.\n",
      "  plt.tight_layout()\n"
     ]
    },
    {
     "data": {
      "image/png": "[encoded data removed]",
      "text/plain": [
       "<Figure size 720x400 with 4 Axes>"
      ]
     },
     "metadata": {},
     "output_type": "display_data"
    }
   ],
   "source": [
    "import matplotlib.pyplot as plt\n",
    "import matplotlib.dates as mdates\n",
    "import numpy as np\n",
    "from matplotlib.patches import Rectangle\n",
    "from matplotlib import ticker\n",
    "from matplotlib.colors import ListedColormap\n",
    "from matplotlib.ticker import FixedLocator\n",
    "from matplotlib.gridspec import GridSpec\n",
    "from datetime import timedelta\n",
    "import cmocean\n",
    "\n",
    "# --- Create figure and GridSpec layout ---\n",
    "fig = plt.figure(figsize=(7.2, 4))  # wider to fit extra plots\n",
    "gs = GridSpec(nrows=2, ncols=2, width_ratios=[1.7, 1], height_ratios=[1, 1], wspace=0.1)\n",
    "\n",
    "# === Left panel: original plot ===\n",
    "ax = fig.add_subplot(gs[:, 0])\n",
    "ax.set_facecolor([0.9, 0.9, 0.9])\n",
    "\n",
    "# --- Modify colormap ---\n",
    "cmap = cmocean.tools.crop_by_percent(cmocean.cm.ice_r, 5, which='min')\n",
    "colors = cmap(np.arange(cmap.N))\n",
    "colors[0] = [1, 1, 1, 1]  # Replace first color with white\n",
    "modified_cmap = ListedColormap(colors)\n",
    "\n",
    "# --- Pcolormesh plot ---\n",
    "mesh = ax.pcolormesh(ds.time, years, extents, vmin=0, vmax=4000, cmap=modified_cmap)\n",
    "\n",
    "# --- Customize x-axis ---\n",
    "ax.xaxis.set_major_locator(mdates.MonthLocator())\n",
    "ax.xaxis.set_major_formatter(mdates.DateFormatter('%b'))\n",
    "ax.set_xlabel('Time of year')\n",
    "\n",
    "# --- Customize y-axis ---\n",
    "ax.set_ylabel('Year')\n",
    "ax.set_ylim(years.min() - 0.5, years.max() + 0.5)\n",
    "ax.yaxis.set_major_locator(ticker.MultipleLocator(5))\n",
    "ax.yaxis.set_minor_locator(ticker.MultipleLocator(1))\n",
    "\n",
    "# --- Colorbar ---\n",
    "plotter.add_colorbar(\n",
    "    fig, ax, [mesh],\n",
    "    cb_placement='top', cb_orientation='auto',\n",
    "    cb_width=0.025, cb_length_fraction=[0.8, 1], cb_pad=0.05,\n",
    "    cb_ticks='auto', cb_ticklabels='auto', cb_extend='neither',\n",
    "    cb_label='Open extent $\\mathrm{(km^2)}$', labelpad='auto',\n",
    "    cb_label_placement='auto', cb_tick_placement='auto',\n",
    "    tick_kwargs={'pad': 0.1}, cb_labelsize=plt.rcParams['font.size'],\n",
    "    draw_edges=False, edge_params=['k', 2]\n",
    ")\n",
    "\n",
    "# --- Ice season highlight rectangle ---\n",
    "top_y = years.max() + 0.5\n",
    "height = 2\n",
    "is_color = [226/255, 170/255, 0/255]\n",
    "\n",
    "rect = Rectangle(\n",
    "    (tD, top_y), tMa - tD, height,\n",
    "    facecolor=is_color, edgecolor='None',\n",
    "    alpha=0.1, linewidth=1.25, clip_on=False\n",
    ")\n",
    "ax.add_patch(rect)\n",
    "\n",
    "# --- Labels and annotations ---\n",
    "ax.text(tO + timedelta(days=5), 2012 - 0.1, 'NO DATA', ha='left', va='center',\n",
    "        c=[0.6]*3, weight='bold', size=plt.rcParams['font.size'] - 2)\n",
    "ax.text(0.5, 1.045, 'Analyzed ice season', transform=ax.transAxes,\n",
    "        ha='center', va='center', c=is_color)\n",
    "\n",
    "# --- Bounding lines ---\n",
    "line_kwargs = dict(color=is_color, lw=1.5, linestyle='solid', clip_on=False, zorder=100)\n",
    "dashed_kwargs = {**line_kwargs, 'dashes': (2, 1)}\n",
    "\n",
    "ax.plot([tD, tD], [2003 - 0.5, top_y + height], **dashed_kwargs)\n",
    "ax.plot([tMa, tMa], [2003 - 0.5, top_y + height], **dashed_kwargs)\n",
    "ax.plot([tD, tMa], [top_y + height, top_y + height], **dashed_kwargs)\n",
    "\n",
    "# === Right panel: Top subplot ===\n",
    "ax_top = fig.add_subplot(gs[0, 1])\n",
    "ax_top.hist(event_durations, bins=np.arange(0,21,1))\n",
    "\n",
    "# ax_top.set_ylim(0,)\n",
    "ax_top.xaxis.set_major_locator(ticker.MultipleLocator(5))\n",
    "ax_top.xaxis.set_minor_locator(ticker.MultipleLocator(1))\n",
    "\n",
    "ax_top.tick_params(labelleft=False)\n",
    "\n",
    "# === Right panel: Bottom subplot ===\n",
    "ax_bottom = fig.add_subplot(gs[1, 1])\n",
    "ax_bottom.hist(dfr.extent[dfr.extent>0], bins=30, log=True)\n",
    "ax_bottom.set_xlabel('Example X')\n",
    "ax_bottom.tick_params(labelleft=False)\n",
    "\n",
    "plt.tight_layout()\n",
    "plt.show()\n"
   ]
  },
  {
   "cell_type": "code",
   "execution_count": 99,
   "id": "becc7c88",
   "metadata": {},
   "outputs": [
    {
     "data": {
      "text/plain": [
       "<BarContainer object of 51 artists>"
      ]
     },
     "execution_count": 99,
     "metadata": {},
     "output_type": "execute_result"
    },
    {
     "data": {
      "image/png": "[encoded data removed]",
      "text/plain": [
       "<Figure size 300x300 with 1 Axes>"
      ]
     },
     "metadata": {},
     "output_type": "display_data"
    }
   ],
   "source": [
    "fig,ax = plt.subplots(figsize=(3,3))\n",
    "\n",
    "ret = plotter.quick_hist(dfr.extent[dfr.extent>0], bin_edges=np.arange(0,26000,500))\n",
    "ax.barh(ret['centers'], ret['counts'], height=ret['w'])\n",
    "# plt.hist(dfr.extent[dfr.extent>0], bins=30, log=True)"
   ]
  },
  {
   "cell_type": "code",
   "execution_count": null,
   "id": "0c7c274e",
   "metadata": {},
   "outputs": [],
   "source": [
    "### Old version"
   ]
  },
  {
   "cell_type": "code",
   "execution_count": 16,
   "id": "3ec05616",
   "metadata": {},
   "outputs": [
    {
     "name": "stderr",
     "output_type": "stream",
     "text": [
      "<>:176: SyntaxWarning: invalid escape sequence '\\m'\n",
      "<>:176: SyntaxWarning: invalid escape sequence '\\m'\n",
      "/var/folders/p8/hz449fpx6nscv0jb1klyfqb40000gp/T/ipykernel_2317/1564126474.py:176: SyntaxWarning: invalid escape sequence '\\m'\n",
      "  ax.text(date+2*db, all_YY.max()+25, '$\\mathrm{10^4\\;km^2}$ polynya extent',\n",
      "/var/folders/p8/hz449fpx6nscv0jb1klyfqb40000gp/T/ipykernel_2317/1564126474.py:176: SyntaxWarning: invalid escape sequence '\\m'\n",
      "  ax.text(date+2*db, all_YY.max()+25, '$\\mathrm{10^4\\;km^2}$ polynya extent',\n"
     ]
    },
    {
     "ename": "FileNotFoundError",
     "evalue": "[Errno 2] No such file or directory: '/Users/mackenziejewell/Documents/GitHub/SBSpolynya/data/polynya_size/daily_polynya_2003_sic10_v6.nc'",
     "output_type": "error",
     "traceback": [
      "\u001b[0;31m---------------------------------------------------------------------------\u001b[0m",
      "\u001b[0;31mKeyError\u001b[0m                                  Traceback (most recent call last)",
      "File \u001b[0;32m/opt/anaconda3/envs/SBSpolynya/lib/python3.12/site-packages/xarray/backends/file_manager.py:211\u001b[0m, in \u001b[0;36mCachingFileManager._acquire_with_cache_info\u001b[0;34m(self, needs_lock)\u001b[0m\n\u001b[1;32m    210\u001b[0m \u001b[38;5;28;01mtry\u001b[39;00m:\n\u001b[0;32m--> 211\u001b[0m     file \u001b[38;5;241m=\u001b[39m \u001b[38;5;28mself\u001b[39m\u001b[38;5;241m.\u001b[39m_cache[\u001b[38;5;28mself\u001b[39m\u001b[38;5;241m.\u001b[39m_key]\n\u001b[1;32m    212\u001b[0m \u001b[38;5;28;01mexcept\u001b[39;00m \u001b[38;5;167;01mKeyError\u001b[39;00m:\n",
      "File \u001b[0;32m/opt/anaconda3/envs/SBSpolynya/lib/python3.12/site-packages/xarray/backends/lru_cache.py:56\u001b[0m, in \u001b[0;36mLRUCache.__getitem__\u001b[0;34m(self, key)\u001b[0m\n\u001b[1;32m     55\u001b[0m \u001b[38;5;28;01mwith\u001b[39;00m \u001b[38;5;28mself\u001b[39m\u001b[38;5;241m.\u001b[39m_lock:\n\u001b[0;32m---> 56\u001b[0m     value \u001b[38;5;241m=\u001b[39m \u001b[38;5;28mself\u001b[39m\u001b[38;5;241m.\u001b[39m_cache[key]\n\u001b[1;32m     57\u001b[0m     \u001b[38;5;28mself\u001b[39m\u001b[38;5;241m.\u001b[39m_cache\u001b[38;5;241m.\u001b[39mmove_to_end(key)\n",
      "\u001b[0;31mKeyError\u001b[0m: [<class 'netCDF4._netCDF4.Dataset'>, ('/Users/mackenziejewell/Documents/GitHub/SBSpolynya/data/polynya_size/daily_polynya_2003_sic10_v6.nc',), 'r', (('clobber', True), ('diskless', False), ('format', 'NETCDF4'), ('persist', False)), '7be9e7ed-93ec-4644-aaa3-7d19e097d20c']",
      "\nDuring handling of the above exception, another exception occurred:\n",
      "\u001b[0;31mFileNotFoundError\u001b[0m                         Traceback (most recent call last)",
      "Cell \u001b[0;32mIn[16], line 24\u001b[0m\n\u001b[1;32m     18\u001b[0m     sizes_over_time \u001b[38;5;241m=\u001b[39m np\u001b[38;5;241m.\u001b[39mappend(sizes_over_time, np\u001b[38;5;241m.\u001b[39mfull(\u001b[38;5;241m274\u001b[39m, np\u001b[38;5;241m.\u001b[39mnan))\n\u001b[1;32m     20\u001b[0m \u001b[38;5;28;01melse\u001b[39;00m:\n\u001b[1;32m     21\u001b[0m \n\u001b[1;32m     22\u001b[0m     \u001b[38;5;66;03m# open polynya data and crop to time range\u001b[39;00m\n\u001b[1;32m     23\u001b[0m     \u001b[38;5;66;03m#-----------------------------------------\u001b[39;00m\n\u001b[0;32m---> 24\u001b[0m     DSo \u001b[38;5;241m=\u001b[39m xr\u001b[38;5;241m.\u001b[39mopen_dataset(\u001b[38;5;124mf\u001b[39m\u001b[38;5;124m'\u001b[39m\u001b[38;5;124m../data/polynya_size/daily_polynya_\u001b[39m\u001b[38;5;132;01m{\u001b[39;00myear\u001b[38;5;132;01m}\u001b[39;00m\u001b[38;5;124m_sic10_v6.nc\u001b[39m\u001b[38;5;124m'\u001b[39m)\n\u001b[1;32m     25\u001b[0m     time_range \u001b[38;5;241m=\u001b[39m \u001b[38;5;28mslice\u001b[39m(datetime(year\u001b[38;5;241m-\u001b[39m\u001b[38;5;241m1\u001b[39m,\u001b[38;5;241m10\u001b[39m,\u001b[38;5;241m1\u001b[39m), datetime(year,\u001b[38;5;241m1\u001b[39m,\u001b[38;5;241m1\u001b[39m,\u001b[38;5;241m0\u001b[39m) \u001b[38;5;241m+\u001b[39m timedelta(days\u001b[38;5;241m=\u001b[39m\u001b[38;5;241m119\u001b[39m\u001b[38;5;241m+\u001b[39m\u001b[38;5;241m62\u001b[39m))\n\u001b[1;32m     26\u001b[0m     DSo \u001b[38;5;241m=\u001b[39m DSo\u001b[38;5;241m.\u001b[39msel(time \u001b[38;5;241m=\u001b[39m time_range)\n",
      "File \u001b[0;32m/opt/anaconda3/envs/SBSpolynya/lib/python3.12/site-packages/xarray/backends/api.py:566\u001b[0m, in \u001b[0;36mopen_dataset\u001b[0;34m(filename_or_obj, engine, chunks, cache, decode_cf, mask_and_scale, decode_times, decode_timedelta, use_cftime, concat_characters, decode_coords, drop_variables, inline_array, chunked_array_type, from_array_kwargs, backend_kwargs, **kwargs)\u001b[0m\n\u001b[1;32m    554\u001b[0m decoders \u001b[38;5;241m=\u001b[39m _resolve_decoders_kwargs(\n\u001b[1;32m    555\u001b[0m     decode_cf,\n\u001b[1;32m    556\u001b[0m     open_backend_dataset_parameters\u001b[38;5;241m=\u001b[39mbackend\u001b[38;5;241m.\u001b[39mopen_dataset_parameters,\n\u001b[0;32m   (...)\u001b[0m\n\u001b[1;32m    562\u001b[0m     decode_coords\u001b[38;5;241m=\u001b[39mdecode_coords,\n\u001b[1;32m    563\u001b[0m )\n\u001b[1;32m    565\u001b[0m overwrite_encoded_chunks \u001b[38;5;241m=\u001b[39m kwargs\u001b[38;5;241m.\u001b[39mpop(\u001b[38;5;124m\"\u001b[39m\u001b[38;5;124moverwrite_encoded_chunks\u001b[39m\u001b[38;5;124m\"\u001b[39m, \u001b[38;5;28;01mNone\u001b[39;00m)\n\u001b[0;32m--> 566\u001b[0m backend_ds \u001b[38;5;241m=\u001b[39m backend\u001b[38;5;241m.\u001b[39mopen_dataset(\n\u001b[1;32m    567\u001b[0m     filename_or_obj,\n\u001b[1;32m    568\u001b[0m     drop_variables\u001b[38;5;241m=\u001b[39mdrop_variables,\n\u001b[1;32m    569\u001b[0m     \u001b[38;5;241m*\u001b[39m\u001b[38;5;241m*\u001b[39mdecoders,\n\u001b[1;32m    570\u001b[0m     \u001b[38;5;241m*\u001b[39m\u001b[38;5;241m*\u001b[39mkwargs,\n\u001b[1;32m    571\u001b[0m )\n\u001b[1;32m    572\u001b[0m ds \u001b[38;5;241m=\u001b[39m _dataset_from_backend_dataset(\n\u001b[1;32m    573\u001b[0m     backend_ds,\n\u001b[1;32m    574\u001b[0m     filename_or_obj,\n\u001b[0;32m   (...)\u001b[0m\n\u001b[1;32m    584\u001b[0m     \u001b[38;5;241m*\u001b[39m\u001b[38;5;241m*\u001b[39mkwargs,\n\u001b[1;32m    585\u001b[0m )\n\u001b[1;32m    586\u001b[0m \u001b[38;5;28;01mreturn\u001b[39;00m ds\n",
      "File \u001b[0;32m/opt/anaconda3/envs/SBSpolynya/lib/python3.12/site-packages/xarray/backends/netCDF4_.py:590\u001b[0m, in \u001b[0;36mNetCDF4BackendEntrypoint.open_dataset\u001b[0;34m(self, filename_or_obj, mask_and_scale, decode_times, concat_characters, decode_coords, drop_variables, use_cftime, decode_timedelta, group, mode, format, clobber, diskless, persist, lock, autoclose)\u001b[0m\n\u001b[1;32m    569\u001b[0m \u001b[38;5;28;01mdef\u001b[39;00m \u001b[38;5;21mopen_dataset\u001b[39m(  \u001b[38;5;66;03m# type: ignore[override]  # allow LSP violation, not supporting **kwargs\u001b[39;00m\n\u001b[1;32m    570\u001b[0m     \u001b[38;5;28mself\u001b[39m,\n\u001b[1;32m    571\u001b[0m     filename_or_obj: \u001b[38;5;28mstr\u001b[39m \u001b[38;5;241m|\u001b[39m os\u001b[38;5;241m.\u001b[39mPathLike[Any] \u001b[38;5;241m|\u001b[39m BufferedIOBase \u001b[38;5;241m|\u001b[39m AbstractDataStore,\n\u001b[0;32m   (...)\u001b[0m\n\u001b[1;32m    587\u001b[0m     autoclose\u001b[38;5;241m=\u001b[39m\u001b[38;5;28;01mFalse\u001b[39;00m,\n\u001b[1;32m    588\u001b[0m ) \u001b[38;5;241m-\u001b[39m\u001b[38;5;241m>\u001b[39m Dataset:\n\u001b[1;32m    589\u001b[0m     filename_or_obj \u001b[38;5;241m=\u001b[39m _normalize_path(filename_or_obj)\n\u001b[0;32m--> 590\u001b[0m     store \u001b[38;5;241m=\u001b[39m NetCDF4DataStore\u001b[38;5;241m.\u001b[39mopen(\n\u001b[1;32m    591\u001b[0m         filename_or_obj,\n\u001b[1;32m    592\u001b[0m         mode\u001b[38;5;241m=\u001b[39mmode,\n\u001b[1;32m    593\u001b[0m         \u001b[38;5;28mformat\u001b[39m\u001b[38;5;241m=\u001b[39m\u001b[38;5;28mformat\u001b[39m,\n\u001b[1;32m    594\u001b[0m         group\u001b[38;5;241m=\u001b[39mgroup,\n\u001b[1;32m    595\u001b[0m         clobber\u001b[38;5;241m=\u001b[39mclobber,\n\u001b[1;32m    596\u001b[0m         diskless\u001b[38;5;241m=\u001b[39mdiskless,\n\u001b[1;32m    597\u001b[0m         persist\u001b[38;5;241m=\u001b[39mpersist,\n\u001b[1;32m    598\u001b[0m         lock\u001b[38;5;241m=\u001b[39mlock,\n\u001b[1;32m    599\u001b[0m         autoclose\u001b[38;5;241m=\u001b[39mautoclose,\n\u001b[1;32m    600\u001b[0m     )\n\u001b[1;32m    602\u001b[0m     store_entrypoint \u001b[38;5;241m=\u001b[39m StoreBackendEntrypoint()\n\u001b[1;32m    603\u001b[0m     \u001b[38;5;28;01mwith\u001b[39;00m close_on_error(store):\n",
      "File \u001b[0;32m/opt/anaconda3/envs/SBSpolynya/lib/python3.12/site-packages/xarray/backends/netCDF4_.py:391\u001b[0m, in \u001b[0;36mNetCDF4DataStore.open\u001b[0;34m(cls, filename, mode, format, group, clobber, diskless, persist, lock, lock_maker, autoclose)\u001b[0m\n\u001b[1;32m    385\u001b[0m kwargs \u001b[38;5;241m=\u001b[39m \u001b[38;5;28mdict\u001b[39m(\n\u001b[1;32m    386\u001b[0m     clobber\u001b[38;5;241m=\u001b[39mclobber, diskless\u001b[38;5;241m=\u001b[39mdiskless, persist\u001b[38;5;241m=\u001b[39mpersist, \u001b[38;5;28mformat\u001b[39m\u001b[38;5;241m=\u001b[39m\u001b[38;5;28mformat\u001b[39m\n\u001b[1;32m    387\u001b[0m )\n\u001b[1;32m    388\u001b[0m manager \u001b[38;5;241m=\u001b[39m CachingFileManager(\n\u001b[1;32m    389\u001b[0m     netCDF4\u001b[38;5;241m.\u001b[39mDataset, filename, mode\u001b[38;5;241m=\u001b[39mmode, kwargs\u001b[38;5;241m=\u001b[39mkwargs\n\u001b[1;32m    390\u001b[0m )\n\u001b[0;32m--> 391\u001b[0m \u001b[38;5;28;01mreturn\u001b[39;00m \u001b[38;5;28mcls\u001b[39m(manager, group\u001b[38;5;241m=\u001b[39mgroup, mode\u001b[38;5;241m=\u001b[39mmode, lock\u001b[38;5;241m=\u001b[39mlock, autoclose\u001b[38;5;241m=\u001b[39mautoclose)\n",
      "File \u001b[0;32m/opt/anaconda3/envs/SBSpolynya/lib/python3.12/site-packages/xarray/backends/netCDF4_.py:338\u001b[0m, in \u001b[0;36mNetCDF4DataStore.__init__\u001b[0;34m(self, manager, group, mode, lock, autoclose)\u001b[0m\n\u001b[1;32m    336\u001b[0m \u001b[38;5;28mself\u001b[39m\u001b[38;5;241m.\u001b[39m_group \u001b[38;5;241m=\u001b[39m group\n\u001b[1;32m    337\u001b[0m \u001b[38;5;28mself\u001b[39m\u001b[38;5;241m.\u001b[39m_mode \u001b[38;5;241m=\u001b[39m mode\n\u001b[0;32m--> 338\u001b[0m \u001b[38;5;28mself\u001b[39m\u001b[38;5;241m.\u001b[39mformat \u001b[38;5;241m=\u001b[39m \u001b[38;5;28mself\u001b[39m\u001b[38;5;241m.\u001b[39mds\u001b[38;5;241m.\u001b[39mdata_model\n\u001b[1;32m    339\u001b[0m \u001b[38;5;28mself\u001b[39m\u001b[38;5;241m.\u001b[39m_filename \u001b[38;5;241m=\u001b[39m \u001b[38;5;28mself\u001b[39m\u001b[38;5;241m.\u001b[39mds\u001b[38;5;241m.\u001b[39mfilepath()\n\u001b[1;32m    340\u001b[0m \u001b[38;5;28mself\u001b[39m\u001b[38;5;241m.\u001b[39mis_remote \u001b[38;5;241m=\u001b[39m is_remote_uri(\u001b[38;5;28mself\u001b[39m\u001b[38;5;241m.\u001b[39m_filename)\n",
      "File \u001b[0;32m/opt/anaconda3/envs/SBSpolynya/lib/python3.12/site-packages/xarray/backends/netCDF4_.py:400\u001b[0m, in \u001b[0;36mNetCDF4DataStore.ds\u001b[0;34m(self)\u001b[0m\n\u001b[1;32m    398\u001b[0m \u001b[38;5;129m@property\u001b[39m\n\u001b[1;32m    399\u001b[0m \u001b[38;5;28;01mdef\u001b[39;00m \u001b[38;5;21mds\u001b[39m(\u001b[38;5;28mself\u001b[39m):\n\u001b[0;32m--> 400\u001b[0m     \u001b[38;5;28;01mreturn\u001b[39;00m \u001b[38;5;28mself\u001b[39m\u001b[38;5;241m.\u001b[39m_acquire()\n",
      "File \u001b[0;32m/opt/anaconda3/envs/SBSpolynya/lib/python3.12/site-packages/xarray/backends/netCDF4_.py:394\u001b[0m, in \u001b[0;36mNetCDF4DataStore._acquire\u001b[0;34m(self, needs_lock)\u001b[0m\n\u001b[1;32m    393\u001b[0m \u001b[38;5;28;01mdef\u001b[39;00m \u001b[38;5;21m_acquire\u001b[39m(\u001b[38;5;28mself\u001b[39m, needs_lock\u001b[38;5;241m=\u001b[39m\u001b[38;5;28;01mTrue\u001b[39;00m):\n\u001b[0;32m--> 394\u001b[0m     \u001b[38;5;28;01mwith\u001b[39;00m \u001b[38;5;28mself\u001b[39m\u001b[38;5;241m.\u001b[39m_manager\u001b[38;5;241m.\u001b[39macquire_context(needs_lock) \u001b[38;5;28;01mas\u001b[39;00m root:\n\u001b[1;32m    395\u001b[0m         ds \u001b[38;5;241m=\u001b[39m _nc4_require_group(root, \u001b[38;5;28mself\u001b[39m\u001b[38;5;241m.\u001b[39m_group, \u001b[38;5;28mself\u001b[39m\u001b[38;5;241m.\u001b[39m_mode)\n\u001b[1;32m    396\u001b[0m     \u001b[38;5;28;01mreturn\u001b[39;00m ds\n",
      "File \u001b[0;32m/opt/anaconda3/envs/SBSpolynya/lib/python3.12/contextlib.py:137\u001b[0m, in \u001b[0;36m_GeneratorContextManager.__enter__\u001b[0;34m(self)\u001b[0m\n\u001b[1;32m    135\u001b[0m \u001b[38;5;28;01mdel\u001b[39;00m \u001b[38;5;28mself\u001b[39m\u001b[38;5;241m.\u001b[39margs, \u001b[38;5;28mself\u001b[39m\u001b[38;5;241m.\u001b[39mkwds, \u001b[38;5;28mself\u001b[39m\u001b[38;5;241m.\u001b[39mfunc\n\u001b[1;32m    136\u001b[0m \u001b[38;5;28;01mtry\u001b[39;00m:\n\u001b[0;32m--> 137\u001b[0m     \u001b[38;5;28;01mreturn\u001b[39;00m \u001b[38;5;28mnext\u001b[39m(\u001b[38;5;28mself\u001b[39m\u001b[38;5;241m.\u001b[39mgen)\n\u001b[1;32m    138\u001b[0m \u001b[38;5;28;01mexcept\u001b[39;00m \u001b[38;5;167;01mStopIteration\u001b[39;00m:\n\u001b[1;32m    139\u001b[0m     \u001b[38;5;28;01mraise\u001b[39;00m \u001b[38;5;167;01mRuntimeError\u001b[39;00m(\u001b[38;5;124m\"\u001b[39m\u001b[38;5;124mgenerator didn\u001b[39m\u001b[38;5;124m'\u001b[39m\u001b[38;5;124mt yield\u001b[39m\u001b[38;5;124m\"\u001b[39m) \u001b[38;5;28;01mfrom\u001b[39;00m \u001b[38;5;28;01mNone\u001b[39;00m\n",
      "File \u001b[0;32m/opt/anaconda3/envs/SBSpolynya/lib/python3.12/site-packages/xarray/backends/file_manager.py:199\u001b[0m, in \u001b[0;36mCachingFileManager.acquire_context\u001b[0;34m(self, needs_lock)\u001b[0m\n\u001b[1;32m    196\u001b[0m \u001b[38;5;129m@contextlib\u001b[39m\u001b[38;5;241m.\u001b[39mcontextmanager\n\u001b[1;32m    197\u001b[0m \u001b[38;5;28;01mdef\u001b[39;00m \u001b[38;5;21macquire_context\u001b[39m(\u001b[38;5;28mself\u001b[39m, needs_lock\u001b[38;5;241m=\u001b[39m\u001b[38;5;28;01mTrue\u001b[39;00m):\n\u001b[1;32m    198\u001b[0m \u001b[38;5;250m    \u001b[39m\u001b[38;5;124;03m\"\"\"Context manager for acquiring a file.\"\"\"\u001b[39;00m\n\u001b[0;32m--> 199\u001b[0m     file, cached \u001b[38;5;241m=\u001b[39m \u001b[38;5;28mself\u001b[39m\u001b[38;5;241m.\u001b[39m_acquire_with_cache_info(needs_lock)\n\u001b[1;32m    200\u001b[0m     \u001b[38;5;28;01mtry\u001b[39;00m:\n\u001b[1;32m    201\u001b[0m         \u001b[38;5;28;01myield\u001b[39;00m file\n",
      "File \u001b[0;32m/opt/anaconda3/envs/SBSpolynya/lib/python3.12/site-packages/xarray/backends/file_manager.py:217\u001b[0m, in \u001b[0;36mCachingFileManager._acquire_with_cache_info\u001b[0;34m(self, needs_lock)\u001b[0m\n\u001b[1;32m    215\u001b[0m     kwargs \u001b[38;5;241m=\u001b[39m kwargs\u001b[38;5;241m.\u001b[39mcopy()\n\u001b[1;32m    216\u001b[0m     kwargs[\u001b[38;5;124m\"\u001b[39m\u001b[38;5;124mmode\u001b[39m\u001b[38;5;124m\"\u001b[39m] \u001b[38;5;241m=\u001b[39m \u001b[38;5;28mself\u001b[39m\u001b[38;5;241m.\u001b[39m_mode\n\u001b[0;32m--> 217\u001b[0m file \u001b[38;5;241m=\u001b[39m \u001b[38;5;28mself\u001b[39m\u001b[38;5;241m.\u001b[39m_opener(\u001b[38;5;241m*\u001b[39m\u001b[38;5;28mself\u001b[39m\u001b[38;5;241m.\u001b[39m_args, \u001b[38;5;241m*\u001b[39m\u001b[38;5;241m*\u001b[39mkwargs)\n\u001b[1;32m    218\u001b[0m \u001b[38;5;28;01mif\u001b[39;00m \u001b[38;5;28mself\u001b[39m\u001b[38;5;241m.\u001b[39m_mode \u001b[38;5;241m==\u001b[39m \u001b[38;5;124m\"\u001b[39m\u001b[38;5;124mw\u001b[39m\u001b[38;5;124m\"\u001b[39m:\n\u001b[1;32m    219\u001b[0m     \u001b[38;5;66;03m# ensure file doesn't get overridden when opened again\u001b[39;00m\n\u001b[1;32m    220\u001b[0m     \u001b[38;5;28mself\u001b[39m\u001b[38;5;241m.\u001b[39m_mode \u001b[38;5;241m=\u001b[39m \u001b[38;5;124m\"\u001b[39m\u001b[38;5;124ma\u001b[39m\u001b[38;5;124m\"\u001b[39m\n",
      "File \u001b[0;32msrc/netCDF4/_netCDF4.pyx:2469\u001b[0m, in \u001b[0;36mnetCDF4._netCDF4.Dataset.__init__\u001b[0;34m()\u001b[0m\n",
      "File \u001b[0;32msrc/netCDF4/_netCDF4.pyx:2028\u001b[0m, in \u001b[0;36mnetCDF4._netCDF4._ensure_nc_success\u001b[0;34m()\u001b[0m\n",
      "\u001b[0;31mFileNotFoundError\u001b[0m: [Errno 2] No such file or directory: '/Users/mackenziejewell/Documents/GitHub/SBSpolynya/data/polynya_size/daily_polynya_2003_sic10_v6.nc'"
     ]
    },
    {
     "data": {
      "image/png": "[encoded data removed]",
      "text/plain": [
       "<Figure size 600x325 with 1 Axes>"
      ]
     },
     "metadata": {},
     "output_type": "display_data"
    }
   ],
   "source": [
    "fig, ax = plt.subplots(figsize=(6,3.25))\n",
    "\n",
    "\n",
    "years2 = np.arange(2003,2026)\n",
    "\n",
    "all_YY = []\n",
    "\n",
    "sizes_over_time = np.array([])\n",
    "\n",
    "\n",
    "for yy, year in enumerate(years2):\n",
    "    \n",
    "    YY = yy * 4\n",
    "    all_YY.append(YY)\n",
    "    \n",
    "    \n",
    "    if year == 2012:\n",
    "        sizes_over_time = np.append(sizes_over_time, np.full(274, np.nan))\n",
    "        \n",
    "    else:\n",
    "    \n",
    "        # open polynya data and crop to time range\n",
    "        #-----------------------------------------\n",
    "        DSo = xr.open_dataset(f'../data/polynya_size/daily_polynya_{year}_sic10_v6.nc')\n",
    "        time_range = slice(datetime(year-1,10,1), datetime(year,1,1,0) + timedelta(days=119+62))\n",
    "        DSo = DSo.sel(time = time_range)\n",
    "\n",
    "        # find first and last closure dates\n",
    "        dt_og = (pd.to_datetime(DSo.time.values) - datetime(year,1,1)).days\n",
    "        water_area = (DSo.polynya_extent + DSo.other_polynya_extent)/1000\n",
    "\n",
    "        # first/last day of compact conditions\n",
    "        closure_ind = np.where(water_area == 0)[0][0]\n",
    "        breakup_ind = np.where(water_area == 0)[0][-1]\n",
    "\n",
    "        # re-define dt\n",
    "    #     dt = (pd.to_datetime(DS.time.values) - datetime(year,1,1)).days\n",
    "        # plot polynya data\n",
    "    #     ax.bar(dt_og, DSo.polynya_extent/1000, bottom=YY, color='lightgray', alpha=0.5)\n",
    "\n",
    "        tim = pd.to_datetime(np.array([datetime(2025,1,1) + timedelta(days=dd) for dd in dt_og]))\n",
    "        if year%4 == 0:\n",
    "            tim_i = tim\n",
    "        ext = water_area\n",
    "\n",
    "        \n",
    "        if len(ext) < 274:\n",
    "            sizes_over_time = np.append(sizes_over_time, np.append(ext, np.full(274 -len(ext), np.nan)))\n",
    "        else:\n",
    "            sizes_over_time = np.append(sizes_over_time, ext)\n",
    "                                        \n",
    "        ext, _ = tseries.linear_interpolate(tim, tim, ext, max_dt = 7 * units('day'))\n",
    "\n",
    "    #     ax.plot(tim, YY+ext, color=colors['blue3'], alpha=0.5, lw=0.5, zorder=yy)\n",
    "    \n",
    "#         plot_color = [0.3,0.3,0.3]\n",
    "        plot_color = 'dodgerblue'\n",
    "        ax.fill_between(tim, YY, YY+ext, color=plot_color, lw=0, alpha=0.5, zorder=2*yy)\n",
    "        ax.plot(tim, YY+ext, color=plot_color, lw=0.75, alpha=1, zorder=2*yy)\n",
    "        \n",
    "        \n",
    "#         ax.bar(tim, ext, bottom=YY, color=plot_color, lw=0, alpha=0.65, width=tim[1]-tim[0], zorder=yy)\n",
    "        \n",
    "        sc = 'k'\n",
    "        ax.scatter(tim[closure_ind], YY, marker='*', color=sc, s=20, zorder=1000)\n",
    "        \n",
    "        if year!=2025:\n",
    "            ax.scatter(tim[breakup_ind], YY, marker='*', color=sc, s=20, zorder=1000)\n",
    "\n",
    "    \n",
    "\n",
    "        # re-define dt\n",
    "        closure_ind = np.where(pd.to_datetime(DSo.time.values) == datetime(year-1,12,1))[0][0]\n",
    "        breakup_ind = np.where(pd.to_datetime(DSo.time.values) == datetime(year,4,30))[0][0]\n",
    "        DS = DSo.sel(time = slice(DSo.time[closure_ind],DSo.time[breakup_ind]))\n",
    "        dt = (pd.to_datetime(DS.time.values) - datetime(year,1,1)).days\n",
    "        ext = DS.polynya_extent.values/1000\n",
    "        tim = np.array([datetime(2025,1,1) + timedelta(days=dd) for dd in dt])\n",
    "\n",
    "        ext, _ = tseries.linear_interpolate(tim, tim, ext, max_dt = 3 * units('day'))\n",
    "        \n",
    "        ec = 'orange'\n",
    "        for st in tim[ext>0]:\n",
    "            ax.plot([st, st+timedelta(hours=25)], [YY-1,YY-1], \n",
    "                       color=ec, lw=1.5, alpha=1, zorder=-1)\n",
    "\n",
    "    \n",
    "    if year%5 ==0:\n",
    "        color1 = [0.3,0.3,0.3]\n",
    "        ax.text(datetime(2024,10,10), YY, year, va='center', ha='right', clip_on=False)\n",
    "        ax.plot([datetime(2024,10,11),datetime(2024,10,15)], [YY,YY], c=color1, lw=0.5, zorder=100, clip_on=False)\n",
    "        ax.plot([datetime(2025,6,15),datetime(2025,7,25)], [YY,YY],  c=color1, lw=0.5, zorder=100, clip_on=False)\n",
    "        ax.axhline(YY, c=color1, lw=0.5, zorder=100)\n",
    "        \n",
    "    else:\n",
    "        color2 = [0.3,0.3,0.3]\n",
    "        ax.plot([datetime(2024,10,13),datetime(2024,10,15)], [YY,YY], \n",
    "            c=color2, lw=0.5, zorder=100, clip_on=False)\n",
    "        ax.plot([datetime(2025,6,15),datetime(2025,7,25)], [YY,YY], \n",
    "            c=color2, lw=0.5, zorder=100, clip_on=False)\n",
    "        ax.axhline(YY, c=color2, lw=0.5, zorder=100)#-100)\n",
    "    \n",
    "ax.set_ylim(-4,YY+15)\n",
    "    \n",
    "ax.set_yticks([])\n",
    "\n",
    "# xvals = [-61,-31,0,30,58,89,119,150]\n",
    "# ticklabs = ['Nov', 'Dec', 'Jan', 'Feb', 'Mar', 'Apr', 'May', 'Jun']\n",
    "# for tt, lab in zip(xvals, ticklabs):\n",
    "#     ax.text(tt, -26, f'1 {lab}', ha='center')\n",
    "\n",
    "\n",
    "ax.xaxis.set_major_locator(mdates.MonthLocator())\n",
    "ax.xaxis.set_major_formatter(mdates.DateFormatter('%b')) # Display month abbreviations\n",
    "ax.xaxis.set_minor_locator(mdates.MonthLocator(bymonthday=[15,]))\n",
    "\n",
    "ax.set_xlim(datetime(2024,10,15),datetime(2025,6,15))\n",
    "    \n",
    "ax.set_xlabel('Day of year')\n",
    "\n",
    "    \n",
    "all_YY = np.array(all_YY)\n",
    "\n",
    "# label SIC record\n",
    "date1 = datetime(2025,6,23)\n",
    "date2 = datetime(2025,7,2)\n",
    "date3 = datetime(2025,7,11)\n",
    "date4 = datetime(2025,7,19)\n",
    "\n",
    "line_kwargs = {'clip_on':False, 'lw':5, 'color': [0.3,0.3,0.3], 'zorder':1000}\n",
    "dot_kwargs = {'clip_on':False, 'marker':'o', 's':15, 'c':line_kwargs['color'], 'zorder':1000}\n",
    "x_kwargs = {'clip_on':False, 'marker':'x', 's':30, 'c':line_kwargs['color'], 'zorder':1000}\n",
    "\n",
    "# draw lines\n",
    "for date, pair in zip([date1, date1, date2, date3, date4],\n",
    "                      ([2003, 2011], [2013, 2025], [2003, 2025], [2003, 2023], [2017, 2019])):\n",
    "#     ax.plot([date, date], [all_YY[years2==pair[0]], all_YY[years2==pair[1]]], **line_kwargs)\n",
    "\n",
    "    ax.plot([date, date], [all_YY[years2==pair[0]], all_YY[years2==pair[1]]], **line_kwargs)\n",
    "\n",
    "# draw markers on their own\n",
    "# for date, year, kwarg in zip([date1, date1, date1, date2, date3, date4, date4],\n",
    "#                              [2003, 2025, 2012,2025, 2023, 2017, 2019], \n",
    "#                              [dot_kwargs, dot_kwargs, x_kwargs,dot_kwargs,\n",
    "#                               dot_kwargs,dot_kwargs,dot_kwargs]):\n",
    "#     ax.scatter([date], all_YY[years2==year], **kwarg)\n",
    "    \n",
    "# arrow markers\n",
    "ax.scatter([date2], all_YY[years2==2003]-1.5, marker='v', s=100, c=line_kwargs['color'], clip_on=False, zorder=10000)\n",
    "ax.scatter([date3], all_YY[years2==2003]-1.5, marker='v', s=100, c=line_kwargs['color'], clip_on=False, zorder=10000)\n",
    "\n",
    "    \n",
    "# text labels\n",
    "for date, year, label in zip([date1, date2, date3, date4],\n",
    "                             [2025, 2025, 2023, 2019],\n",
    "                             ['  ASI SIC', '  ERA5', '  PP ice drift', \"  MARES moorings\"]):\n",
    "    ax.text(date, all_YY[years2==year], label, ha='center',weight='bold', va='bottom',c=[0.3,0.3,0.3], rotation=90)\n",
    "\n",
    "\n",
    "\n",
    "ax.scatter(tim[-70], all_YY.max()+20, marker='*', color=sc, s=20, clip_on=False, zorder=1000)\n",
    "ax.text(tim[-70], all_YY.max()+20, '  First and last complete ice', ha='left', va='center', clip_on=False, zorder=1000)\n",
    "\n",
    "\n",
    "st = tim[-72]\n",
    "ax.plot([st, st+timedelta(hours=72)], [YY+30,YY+30], \n",
    "                       color=ec, lw=1.5, alpha=1, clip_on=False, zorder=1000)\n",
    "ax.text(tim[-70], all_YY.max()+30, '  Analyzed polynya events', ha='left', va='center', clip_on=False, zorder=1000)\n",
    "\n",
    "\n",
    "date = datetime(2024,11,1)\n",
    "db = timedelta(hours=30)\n",
    "ax.plot([date, date], [all_YY.max()+20, all_YY.max()+30], lw=1,c='k',  clip_on=False)\n",
    "ax.plot([date-db, date+db], [all_YY.max()+20, all_YY.max()+20], lw=1,c='k',  clip_on=False)\n",
    "ax.plot([date-db, date+db], [all_YY.max()+30, all_YY.max()+30], lw=1,c='k',  clip_on=False)\n",
    "ax.text(date+2*db, all_YY.max()+25, '$\\mathrm{10^4\\;km^2}$ polynya extent', \n",
    "        ha='left', va='center', clip_on=False, zorder=1000)\n",
    "\n",
    "\n",
    "# color=[0.6,0.6,0.6]\n",
    "# ax.plot([datetime(2024,12,4), datetime(2025,4,29)], \n",
    "#         [all_YY.max()+25, all_YY.max()+25], lw=7, c=color, clip_on=False)\n",
    "# for date in [datetime(2024,12,1), datetime(2025,4,30)]:\n",
    "#     ax.plot([date,date], [all_YY.min()-3, all_YY.max()+25], \n",
    "#             lw=2, ls='solid', alpha=0.5, c=color, clip_on=False)\n",
    "\n",
    "\n",
    "ax.set_ylabel('Year', labelpad=40)\n",
    "\n",
    "# fig.savefig('../figures/results/identified_events_v2.png', dpi=400, bbox_inches='tight', pad_inches=0)\n",
    "\n",
    "\n",
    "time_grid, year_grid = np.meshgrid(tim_i, years2)\n",
    "sizes_over_time = np.reshape(sizes_over_time, (len(years2), int(len(sizes_over_time)/len(years2))))"
   ]
  },
  {
   "cell_type": "code",
   "execution_count": null,
   "id": "ade04c5f",
   "metadata": {},
   "outputs": [],
   "source": []
  }
 ],
 "metadata": {
  "kernelspec": {
   "display_name": "SBSpolynya",
   "language": "python",
   "name": "sbspolynya"
  },
  "language_info": {
   "codemirror_mode": {
    "name": "ipython",
    "version": 3
   },
   "file_extension": ".py",
   "mimetype": "text/x-python",
   "name": "python",
   "nbconvert_exporter": "python",
   "pygments_lexer": "ipython3",
   "version": "3.12.2"
  }
 },
 "nbformat": 4,
 "nbformat_minor": 5
}
