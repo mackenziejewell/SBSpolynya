{
 "cells": [
  {
   "cell_type": "markdown",
   "id": "b746cacd",
   "metadata": {},
   "source": [
    "# 05_WindForcing\n",
    "\n",
    "Relation to large-scale patterns of atm. forcing"
   ]
  },
  {
   "cell_type": "code",
   "execution_count": 1,
   "id": "a1bfe797",
   "metadata": {},
   "outputs": [],
   "source": [
    "%load_ext autoreload\n",
    "%autoreload 2\n",
    "\n",
    "# general\n",
    "import numpy as np, numpy.ma as ma\n",
    "import xarray as xr\n",
    "import pandas as pd\n",
    "\n",
    "# time\n",
    "from datetime import datetime, timedelta\n",
    "import calendar\n",
    "from calendar import monthrange\n",
    "\n",
    "# local system \n",
    "import sys  \n",
    "import glob\n",
    "import os\n",
    "\n",
    "# plotting\n",
    "import matplotlib as mpl\n",
    "from matplotlib import pyplot as plt\n",
    "import matplotlib.colors\n",
    "import cmocean\n",
    "import matplotlib.patches as mpatches\n",
    "from mpl_toolkits.axes_grid1.inset_locator import inset_axes\n",
    "from matplotlib.colors import Normalize\n",
    "from matplotlib.ticker import MultipleLocator\n",
    "\n",
    "import matplotlib.dates as mdates\n",
    "\n",
    "# geo plotting\n",
    "import cartopy\n",
    "import cartopy.crs as ccrs\n",
    "import cartopy.feature as cfeat\n",
    "from cartopy import img_transform\n",
    "\n",
    "from metpy.units import units\n",
    "\n",
    "# path to own functions\n",
    "sys.path.append('../../')\n",
    "import timeseries.adjust as tseries\n",
    "import geofunc.general as geogen\n",
    "import geofunc.vectors as vectors\n",
    "import geofunc.shapes as geoshape\n",
    "import plot_simply.general as plotter\n",
    "import plot_simply.geomap as geomap\n",
    "import data_NSIDC.icedrift as icedrift"
   ]
  },
  {
   "cell_type": "code",
   "execution_count": null,
   "id": "5171c942",
   "metadata": {},
   "outputs": [],
   "source": []
  },
  {
   "cell_type": "code",
   "execution_count": 2,
   "id": "1f8cd652",
   "metadata": {},
   "outputs": [],
   "source": [
    "def grab_atm(time_range, lat = 70.5 , lon = -140, dt = 'hourly'):\n",
    "\n",
    "    def file_name(year, dt):\n",
    "        if str(dt) == 'hourly':\n",
    "            return f'/Volumes/Jewell_EasyStore/ECMWF/annual/hourly/ERA5_{year}.nc'\n",
    "        else:\n",
    "            return f'/Volumes/Jewell_EasyStore/ECMWF/annual/daily/ERA5_{year}_daily.nc'\n",
    "            \n",
    "    if time_range.stop.year != time_range.start.year:\n",
    "        \n",
    "        # year1\n",
    "        DS1 = xr.open_dataset(file_name(time_range.start.year, dt))\n",
    "        DS1.close()\n",
    "        time_slice = slice(time_range.start, datetime(time_range.start.year, 12, 31, 23))\n",
    "        DS1 = DS1.sel(latitude = lat, longitude = lon, time=time_slice)\n",
    "        \n",
    "        # year2\n",
    "        DS2 = xr.open_dataset(file_name(time_range.stop.year, dt))\n",
    "        DS2.close()\n",
    "        time_slice = slice(datetime(time_range.stop.year, 1, 1, 0), time_range.stop)\n",
    "        DS2 = DS2.sel(latitude = lat, longitude = lon, time=time_slice)\n",
    "\n",
    "        # combine\n",
    "        dsm = xr.concat([DS1, DS2], dim=\"time\")\n",
    "    \n",
    "    else:\n",
    "        \n",
    "        # year1\n",
    "        dsm = xr.open_dataset(file_name(time_range.start.year, dt))\n",
    "        dsm.close()\n",
    "        time_slice = time_range\n",
    "        dsm = dsm.sel(latitude = lat, longitude = lon, time=time_slice)\n",
    "        \n",
    "    return dsm\n",
    "    "
   ]
  },
  {
   "cell_type": "code",
   "execution_count": 3,
   "id": "6f558045",
   "metadata": {},
   "outputs": [],
   "source": [
    "def open_hourly_winds(year, lat_range, lon_range, time_range = None):\n",
    "    \n",
    "    ds = xr.open_dataset(f'/Volumes/Jewell_EasyStore/ECMWF/annual/hourly/ERA5_{year}.nc')\n",
    "    ds.close()\n",
    "    \n",
    "    if 'valid_time' in list(ds.coords):\n",
    "        ds = ds.rename({\"valid_time\": \"time\"})\n",
    "    \n",
    "    if time_range == None:\n",
    "        ds = ds.sel(latitude = lat_range, longitude = lon_range)\n",
    "    else:\n",
    "        ds = ds.sel(time = time_range, latitude = lat_range, longitude = lon_range)\n",
    "        \n",
    "    return ds\n",
    "\n",
    "def open_daily_winds(year, lat_range, lon_range, time_range = None):\n",
    "    \n",
    "    ds = xr.open_dataset(f'/Volumes/Jewell_EasyStore/ECMWF/annual/daily/ERA5_{year}_daily.nc')\n",
    "    ds.close()\n",
    "    if time_range == None:\n",
    "        ds = ds.sel(latitude = lat_range, longitude = lon_range)\n",
    "    else:\n",
    "        ds = ds.sel(time = time_range, latitude = lat_range, longitude = lon_range)\n",
    "        \n",
    "    return ds\n",
    "\n",
    "def open_daily_t2m(year, lat_range, lon_range, time_range = None):\n",
    "    \n",
    "    ds = xr.open_dataset(f'/Volumes/Seagate_Jewell/KenzieStuff/ERA5/daily_t2m/ERA5_T2m_daily_{year}.nc')\n",
    "    ds.close()\n",
    "    \n",
    "    if time_range == None:\n",
    "        ds = ds.sel(latitude = lat_range, longitude = lon_range)\n",
    "    else:\n",
    "        ds = ds.sel(valid_time = time_range, latitude = lat_range, longitude = lon_range)\n",
    "    \n",
    "    return ds\n",
    "\n",
    "\n",
    "def open_daily_drift(year, lat_range, lon_range, time_range = None):\n",
    "    \n",
    "    if time_range == None:\n",
    "        dates = pd.to_datetime(pd.date_range(datetime(year,1,1),datetime(year,12,31), freq='1D'))\n",
    "    else:\n",
    "        dates = pd.to_datetime(pd.date_range(time_range.start, time_range.stop, freq='1D'))\n",
    "        \n",
    "    drift = icedrift.open_local_file(dates, crop = [200,300,110,200],include_units = False)\n",
    "    \n",
    "    \n",
    "    drift2 = {}\n",
    "    drift2['u'] = drift['u']\n",
    "    drift2['v'] = drift['v']\n",
    "    drift2['e'] = drift['e']\n",
    "    drift2['n'] = drift['n']\n",
    "    drift2['error'] = drift['error']\n",
    "    \n",
    "    drift2['s'] = np.sqrt(drift['e']**2+drift['n']**2)\n",
    "\n",
    "    return drift2\n",
    "\n"
   ]
  },
  {
   "cell_type": "code",
   "execution_count": null,
   "id": "a45fb829",
   "metadata": {},
   "outputs": [],
   "source": []
  },
  {
   "cell_type": "code",
   "execution_count": null,
   "id": "dae3657d",
   "metadata": {},
   "outputs": [],
   "source": []
  },
  {
   "cell_type": "markdown",
   "id": "d123020f",
   "metadata": {},
   "source": [
    "### Background fields (and regional data)"
   ]
  },
  {
   "cell_type": "code",
   "execution_count": null,
   "id": "ac5905f4",
   "metadata": {},
   "outputs": [],
   "source": []
  },
  {
   "cell_type": "code",
   "execution_count": 4,
   "id": "2df724d9",
   "metadata": {},
   "outputs": [
    {
     "data": {
      "text/plain": [
       "{'Cp_o': <Quantity(3850.0, 'joule / kilogram / delta_degree_Celsius')>,\n",
       " 'Cp_a': <Quantity(1004.0, 'joule / kilogram / delta_degree_Celsius')>,\n",
       " 'sigma_sb': <Quantity(5.670367e-08, 'watt / meter ** 2 / kelvin ** 4')>,\n",
       " 'rho_a': <Quantity(1.225, 'kilogram / meter ** 3')>,\n",
       " 'rho_o': <Quantity(1028.0, 'kilogram / meter ** 3')>,\n",
       " 'rho_i': <Quantity(917.0, 'kilogram / meter ** 3')>,\n",
       " 'L_i': <Quantity(334000.0, 'joule / kilogram')>,\n",
       " 'k_i': <Quantity(2.2, 'watt / meter / delta_degree_Celsius')>,\n",
       " 'kappa': <Quantity(0.4, 'dimensionless')>,\n",
       " 'St': <Quantity(0.0057, 'dimensionless')>,\n",
       " 'omega': <Quantity(7.2921e-05, 'radian / second')>}"
      ]
     },
     "execution_count": 4,
     "metadata": {},
     "output_type": "execute_result"
    }
   ],
   "source": [
    "# Save to file\n",
    "df = pd.read_csv('../data/constants.csv')\n",
    "df = df.set_index('var')\n",
    "df\n",
    "\n",
    "cst = {}\n",
    "for variable in list(df.index):\n",
    "    cst[variable] = df.loc[variable]['value'] * units(df.loc[variable]['units'])\n",
    "    \n",
    "cst"
   ]
  },
  {
   "cell_type": "markdown",
   "id": "ac183b27",
   "metadata": {},
   "source": [
    "## Reference grids"
   ]
  },
  {
   "cell_type": "code",
   "execution_count": 5,
   "id": "3dc918dd",
   "metadata": {},
   "outputs": [
    {
     "name": "stdout",
     "output_type": "stream",
     "text": [
      "era\n",
      "ppd\n"
     ]
    }
   ],
   "source": [
    "grids = {}\n",
    "\n",
    "# ERA5\n",
    "#-----\n",
    "era_lat_range = slice(74,68)\n",
    "era_lon_range = slice(-165,-125)\n",
    "ds = xr.open_dataset(f'/Volumes/Jewell_EasyStore/ECMWF/annual/daily/ERA5_2024_daily.nc')\n",
    "ds.close()\n",
    "ds = ds.sel(latitude = era_lat_range, longitude = era_lon_range)\n",
    "longrid, latgrid = np.meshgrid(ds.longitude, ds.latitude)\n",
    "\n",
    "grids['era'] = {}\n",
    "grids['era']['lat'] = latgrid\n",
    "grids['era']['lon'] = longrid\n",
    "\n",
    "\n",
    "# PPD drift\n",
    "#----------\n",
    "drift = icedrift.open_local_file(datetime(2023,1,1), crop = [200,300,110,200],include_units = False)\n",
    "drift['lon'][drift['lon']>180]-=360\n",
    "grids['ppd'] = {}\n",
    "grids['ppd']['lat'] = drift['lat']\n",
    "grids['ppd']['lon'] = drift['lon']\n",
    "grids['ppd']['xx'] = drift['xx']\n",
    "grids['ppd']['yy'] = drift['yy']\n",
    "\n",
    "\n",
    "# open regional bounding coordinates\n",
    "df = pd.read_csv('../data/coastal_region_bounds_v6.csv')\n",
    "reg_poly = geoshape.make_polygon(np.stack((df['lons'], df['lats']), axis=1))\n",
    "\n",
    "\n",
    "from shapely.geometry import Point\n",
    "\n",
    "for key in grids.keys():\n",
    "    print(key)\n",
    "    \n",
    "    grids[key]['region'] = np.full(grids[key]['lon'].shape, False)\n",
    "\n",
    "    for ii in range(np.shape(grids[key]['region'])[0]):\n",
    "        for jj in range(np.shape(grids[key]['region'])[1]):\n",
    "\n",
    "            lon, lat = grids[key]['lon'][ii,jj], grids[key]['lat'][ii,jj]\n",
    "            if lon > 180:\n",
    "                lon-=360\n",
    "\n",
    "            if reg_poly.contains(Point(lon, lat)):\n",
    "                grids[key]['region'][ii,jj] = True\n",
    "                "
   ]
  },
  {
   "cell_type": "code",
   "execution_count": 6,
   "id": "f676b399",
   "metadata": {},
   "outputs": [
    {
     "data": {
      "image/png": "[encoded data removed]",
      "text/plain": [
       "<Figure size 800x600 with 1 Axes>"
      ]
     },
     "metadata": {},
     "output_type": "display_data"
    }
   ],
   "source": [
    "\n",
    "# initialize map\n",
    "map_proj = ccrs.NorthPolarStereo(central_longitude=-150)\n",
    "fig, ax = plt.subplots(subplot_kw=dict(projection=map_proj), figsize=(8,6))\n",
    "ax.set_ylim(-2500000,-1500000)\n",
    "ax.set_xlim(-800000,1000000)\n",
    "ax.set_facecolor('lightgray')\n",
    "geomap.land(ax, scale = '10m', color='darkgray', alpha=1, fill_dateline_gap = False, zorder=2)\n",
    "\n",
    "\n",
    "ax.add_geometries([reg_poly], edgecolor='k', facecolor='None', crs=ccrs.PlateCarree())\n",
    "\n",
    "\n",
    "for key in ['era', 'ppd']:\n",
    "    ax.scatter(grids[key]['lon'][grids[key]['region']], grids[key]['lat'][grids[key]['region']], zorder=100, s = 10, transform=ccrs.PlateCarree())\n"
   ]
  },
  {
   "cell_type": "markdown",
   "id": "c3338400",
   "metadata": {},
   "source": [
    "## Hourly regional atm. forcing"
   ]
  },
  {
   "cell_type": "code",
   "execution_count": 12,
   "id": "43dd0f0a",
   "metadata": {
    "scrolled": false
   },
   "outputs": [
    {
     "name": "stdout",
     "output_type": "stream",
     "text": [
      "0 2002-10-01T00:00:00.000000000\n",
      "500 2002-10-21T20:00:00.000000000\n",
      "1000 2002-11-11T16:00:00.000000000\n",
      "1500 2002-12-02T12:00:00.000000000\n",
      "2000 2002-12-23T08:00:00.000000000\n",
      "0 2003-01-01T00:00:00.000000000\n",
      "1000 2003-02-11T16:00:00.000000000\n",
      "2000 2003-03-25T08:00:00.000000000\n",
      "3000 2003-05-06T00:00:00.000000000\n",
      "0 2003-10-01T00:00:00.000000000\n",
      "500 2003-10-21T20:00:00.000000000\n",
      "1000 2003-11-11T16:00:00.000000000\n",
      "1500 2003-12-02T12:00:00.000000000\n",
      "2000 2003-12-23T08:00:00.000000000\n",
      "0 2004-01-01T00:00:00.000000000\n",
      "1000 2004-02-11T16:00:00.000000000\n",
      "2000 2004-03-24T08:00:00.000000000\n",
      "3000 2004-05-05T00:00:00.000000000\n",
      "4000 2004-06-15T16:00:00.000000000\n",
      "0 2004-10-01T00:00:00.000000000\n",
      "500 2004-10-21T20:00:00.000000000\n",
      "1000 2004-11-11T16:00:00.000000000\n",
      "1500 2004-12-02T12:00:00.000000000\n",
      "2000 2004-12-23T08:00:00.000000000\n",
      "0 2005-01-01T00:00:00.000000000\n",
      "1000 2005-02-11T16:00:00.000000000\n",
      "2000 2005-03-25T08:00:00.000000000\n",
      "3000 2005-05-06T00:00:00.000000000\n",
      "0 2005-10-01T00:00:00.000000000\n",
      "500 2005-10-21T20:00:00.000000000\n",
      "1000 2005-11-11T16:00:00.000000000\n",
      "1500 2005-12-02T12:00:00.000000000\n",
      "2000 2005-12-23T08:00:00.000000000\n",
      "0 2006-01-01T00:00:00.000000000\n",
      "1000 2006-02-11T16:00:00.000000000\n",
      "2000 2006-03-25T08:00:00.000000000\n",
      "3000 2006-05-06T00:00:00.000000000\n",
      "0 2006-10-01T00:00:00.000000000\n",
      "500 2006-10-21T20:00:00.000000000\n",
      "1000 2006-11-11T16:00:00.000000000\n",
      "1500 2006-12-02T12:00:00.000000000\n",
      "2000 2006-12-23T08:00:00.000000000\n",
      "0 2007-01-01T00:00:00.000000000\n",
      "1000 2007-02-11T16:00:00.000000000\n",
      "2000 2007-03-25T08:00:00.000000000\n",
      "3000 2007-05-06T00:00:00.000000000\n",
      "0 2007-10-01T00:00:00.000000000\n",
      "500 2007-10-21T20:00:00.000000000\n",
      "1000 2007-11-11T16:00:00.000000000\n",
      "1500 2007-12-02T12:00:00.000000000\n",
      "2000 2007-12-23T08:00:00.000000000\n",
      "0 2008-01-01T00:00:00.000000000\n",
      "1000 2008-02-11T16:00:00.000000000\n",
      "2000 2008-03-24T08:00:00.000000000\n",
      "3000 2008-05-05T00:00:00.000000000\n",
      "4000 2008-06-15T16:00:00.000000000\n",
      "0 2008-10-01T00:00:00.000000000\n",
      "500 2008-10-21T20:00:00.000000000\n",
      "1000 2008-11-11T16:00:00.000000000\n",
      "1500 2008-12-02T12:00:00.000000000\n",
      "2000 2008-12-23T08:00:00.000000000\n",
      "0 2009-01-01T00:00:00.000000000\n",
      "1000 2009-02-11T16:00:00.000000000\n",
      "2000 2009-03-25T08:00:00.000000000\n",
      "3000 2009-05-06T00:00:00.000000000\n",
      "0 2009-10-01T00:00:00.000000000\n",
      "500 2009-10-21T20:00:00.000000000\n",
      "1000 2009-11-11T16:00:00.000000000\n",
      "1500 2009-12-02T12:00:00.000000000\n",
      "2000 2009-12-23T08:00:00.000000000\n",
      "0 2010-01-01T00:00:00.000000000\n",
      "1000 2010-02-11T16:00:00.000000000\n",
      "2000 2010-03-25T08:00:00.000000000\n",
      "3000 2010-05-06T00:00:00.000000000\n",
      "0 2010-10-01T00:00:00.000000000\n",
      "500 2010-10-21T20:00:00.000000000\n",
      "1000 2010-11-11T16:00:00.000000000\n",
      "1500 2010-12-02T12:00:00.000000000\n",
      "2000 2010-12-23T08:00:00.000000000\n",
      "0 2011-01-01T00:00:00.000000000\n",
      "1000 2011-02-11T16:00:00.000000000\n",
      "2000 2011-03-25T08:00:00.000000000\n",
      "3000 2011-05-06T00:00:00.000000000\n",
      "0 2011-10-01T00:00:00.000000000\n",
      "500 2011-10-21T20:00:00.000000000\n",
      "1000 2011-11-11T16:00:00.000000000\n",
      "1500 2011-12-02T12:00:00.000000000\n",
      "2000 2011-12-23T08:00:00.000000000\n",
      "0 2012-01-01T00:00:00.000000000\n",
      "1000 2012-02-11T16:00:00.000000000\n",
      "2000 2012-03-24T08:00:00.000000000\n",
      "3000 2012-05-05T00:00:00.000000000\n",
      "4000 2012-06-15T16:00:00.000000000\n",
      "0 2012-10-01T00:00:00.000000000\n",
      "500 2012-10-21T20:00:00.000000000\n",
      "1000 2012-11-11T16:00:00.000000000\n",
      "1500 2012-12-02T12:00:00.000000000\n",
      "2000 2012-12-23T08:00:00.000000000\n",
      "0 2013-01-01T00:00:00.000000000\n",
      "1000 2013-02-11T16:00:00.000000000\n",
      "2000 2013-03-25T08:00:00.000000000\n",
      "3000 2013-05-06T00:00:00.000000000\n",
      "0 2013-10-01T00:00:00.000000000\n",
      "500 2013-10-21T20:00:00.000000000\n",
      "1000 2013-11-11T16:00:00.000000000\n",
      "1500 2013-12-02T12:00:00.000000000\n",
      "2000 2013-12-23T08:00:00.000000000\n",
      "0 2014-01-01T00:00:00.000000000\n",
      "1000 2014-02-11T16:00:00.000000000\n",
      "2000 2014-03-25T08:00:00.000000000\n",
      "3000 2014-05-06T00:00:00.000000000\n",
      "0 2014-10-01T00:00:00.000000000\n",
      "500 2014-10-21T20:00:00.000000000\n",
      "1000 2014-11-11T16:00:00.000000000\n",
      "1500 2014-12-02T12:00:00.000000000\n",
      "2000 2014-12-23T08:00:00.000000000\n",
      "0 2015-01-01T00:00:00.000000000\n",
      "1000 2015-02-11T16:00:00.000000000\n",
      "2000 2015-03-25T08:00:00.000000000\n",
      "3000 2015-05-06T00:00:00.000000000\n",
      "0 2015-10-01T00:00:00.000000000\n",
      "500 2015-10-21T20:00:00.000000000\n",
      "1000 2015-11-11T16:00:00.000000000\n",
      "1500 2015-12-02T12:00:00.000000000\n",
      "2000 2015-12-23T08:00:00.000000000\n",
      "0 2016-01-01T00:00:00.000000000\n",
      "1000 2016-02-11T16:00:00.000000000\n",
      "2000 2016-03-24T08:00:00.000000000\n",
      "3000 2016-05-05T00:00:00.000000000\n",
      "4000 2016-06-15T16:00:00.000000000\n",
      "0 2016-10-01T00:00:00.000000000\n",
      "500 2016-10-21T20:00:00.000000000\n",
      "1000 2016-11-11T16:00:00.000000000\n",
      "1500 2016-12-02T12:00:00.000000000\n",
      "2000 2016-12-23T08:00:00.000000000\n",
      "0 2017-01-01T00:00:00.000000000\n",
      "1000 2017-02-11T16:00:00.000000000\n",
      "2000 2017-03-25T08:00:00.000000000\n",
      "3000 2017-05-06T00:00:00.000000000\n",
      "0 2017-10-01T00:00:00.000000000\n",
      "500 2017-10-21T20:00:00.000000000\n",
      "1000 2017-11-11T16:00:00.000000000\n",
      "1500 2017-12-02T12:00:00.000000000\n",
      "2000 2017-12-23T08:00:00.000000000\n",
      "0 2018-01-01T00:00:00.000000000\n",
      "1000 2018-02-11T16:00:00.000000000\n",
      "2000 2018-03-25T08:00:00.000000000\n",
      "3000 2018-05-06T00:00:00.000000000\n",
      "0 2018-10-01T00:00:00.000000000\n",
      "500 2018-10-21T20:00:00.000000000\n",
      "1000 2018-11-11T16:00:00.000000000\n",
      "1500 2018-12-02T12:00:00.000000000\n",
      "2000 2018-12-23T08:00:00.000000000\n",
      "0 2019-01-01T00:00:00.000000000\n",
      "1000 2019-02-11T16:00:00.000000000\n",
      "2000 2019-03-25T08:00:00.000000000\n",
      "3000 2019-05-06T00:00:00.000000000\n",
      "0 2019-10-01T00:00:00.000000000\n",
      "500 2019-10-21T20:00:00.000000000\n",
      "1000 2019-11-11T16:00:00.000000000\n",
      "1500 2019-12-02T12:00:00.000000000\n",
      "2000 2019-12-23T08:00:00.000000000\n",
      "0 2020-01-01T00:00:00.000000000\n",
      "1000 2020-02-11T16:00:00.000000000\n",
      "2000 2020-03-24T08:00:00.000000000\n",
      "3000 2020-05-05T00:00:00.000000000\n",
      "4000 2020-06-15T16:00:00.000000000\n",
      "0 2020-10-01T00:00:00.000000000\n",
      "500 2020-10-21T20:00:00.000000000\n",
      "1000 2020-11-11T16:00:00.000000000\n",
      "1500 2020-12-02T12:00:00.000000000\n",
      "2000 2020-12-23T08:00:00.000000000\n",
      "0 2021-01-01T00:00:00.000000000\n",
      "1000 2021-02-11T16:00:00.000000000\n",
      "2000 2021-03-25T08:00:00.000000000\n",
      "3000 2021-05-06T00:00:00.000000000\n",
      "0 2021-10-01T00:00:00.000000000\n",
      "500 2021-10-21T20:00:00.000000000\n",
      "1000 2021-11-11T16:00:00.000000000\n",
      "1500 2021-12-02T12:00:00.000000000\n",
      "2000 2021-12-23T08:00:00.000000000\n",
      "0 2022-01-01T00:00:00.000000000\n",
      "1000 2022-02-11T16:00:00.000000000\n",
      "2000 2022-03-25T08:00:00.000000000\n",
      "3000 2022-05-06T00:00:00.000000000\n",
      "0 2022-10-01T00:00:00.000000000\n",
      "500 2022-10-21T20:00:00.000000000\n",
      "1000 2022-11-11T16:00:00.000000000\n",
      "1500 2022-12-02T12:00:00.000000000\n",
      "2000 2022-12-23T08:00:00.000000000\n",
      "0 2023-01-01T00:00:00.000000000\n",
      "1000 2023-02-11T16:00:00.000000000\n",
      "2000 2023-03-25T08:00:00.000000000\n",
      "3000 2023-05-06T00:00:00.000000000\n",
      "0 2023-10-01T00:00:00.000000000\n",
      "500 2023-10-21T20:00:00.000000000\n",
      "1000 2023-11-11T16:00:00.000000000\n",
      "1500 2023-12-02T12:00:00.000000000\n",
      "2000 2023-12-23T08:00:00.000000000\n",
      "0 2024-01-01T00:00:00.000000000\n",
      "1000 2024-02-11T16:00:00.000000000\n",
      "2000 2024-03-24T08:00:00.000000000\n",
      "3000 2024-05-05T00:00:00.000000000\n",
      "4000 2024-06-15T16:00:00.000000000\n",
      "0 2024-10-01T00:00:00.000000000\n",
      "500 2024-10-21T20:00:00.000000000\n",
      "1000 2024-11-11T16:00:00.000000000\n",
      "1500 2024-12-02T12:00:00.000000000\n",
      "2000 2024-12-23T08:00:00.000000000\n",
      "0 2025-01-01T00:00:00.000000000\n",
      "1000 2025-02-11T16:00:00.000000000\n"
     ]
    }
   ],
   "source": [
    "\n",
    "\n",
    "years = np.arange(2003, 2026)\n",
    "# years = [2023,2024,2025]\n",
    "\n",
    "\n",
    "\n",
    "for year in years:\n",
    "    \n",
    "    era_vars = ['u10', 'v10', 'msl']\n",
    "\n",
    "    hourly_data = {}\n",
    "    for var in era_vars:\n",
    "        hourly_data[var] = np.array([])\n",
    "\n",
    "    all_dates = np.array([], dtype=np.datetime64)\n",
    "\n",
    "    # Nov-Dec data\n",
    "    #-------------\n",
    "    dates = pd.date_range(datetime(year-1, 10,1), datetime(year-1, 12,31, 23), freq='1H')\n",
    "    all_dates = np.append(all_dates, dates)\n",
    "    ds = open_hourly_winds(year-1, era_lat_range, era_lon_range, time_range = slice(dates[0], dates[-1]))\n",
    "\n",
    "    # loop over each hour\n",
    "    for tt, time in enumerate(ds.time):\n",
    "\n",
    "        if tt%500 == 0:\n",
    "            print(tt, time.values)\n",
    "        ds_crop = ds.sel(time = time)\n",
    "\n",
    "        # find regional means\n",
    "        for var in era_vars:\n",
    "            reg_mean = geogen.lat_weighted_mean(ds_crop[var].values[grids['era']['region']], \n",
    "                                        grids['era']['lat'][grids['era']['region']])\n",
    "            hourly_data[var] = np.append(hourly_data[var], reg_mean)\n",
    "\n",
    "    # Jan-June data\n",
    "    #-------------\n",
    "    dates = pd.date_range(datetime(year, 1,1), datetime(year, 6,15, 23), freq='1H')\n",
    "    all_dates = np.append(all_dates, dates)\n",
    "    ds = open_hourly_winds(year, era_lat_range, era_lon_range, time_range = slice(dates[0], dates[-1]))\n",
    "\n",
    "    # loop over each hour\n",
    "    for tt, time in enumerate(ds.time):\n",
    "\n",
    "        if tt%1000 == 0:\n",
    "            print(tt, time.values)\n",
    "        ds_crop = ds.sel(time = time)\n",
    "\n",
    "        # find regional means\n",
    "        for var in era_vars:\n",
    "            reg_mean = geogen.lat_weighted_mean(ds_crop[var].values[grids['era']['region']], \n",
    "                                        grids['era']['lat'][grids['era']['region']])\n",
    "            hourly_data[var] = np.append(hourly_data[var], reg_mean)\n",
    "            \n",
    "            \n",
    "    key = 'era'\n",
    "    data_vars = {}\n",
    "    for var in era_vars:\n",
    "        extra_nans = np.full(len(all_dates) - len(hourly_data[var]), np.nan)\n",
    "        data_vars[var] = ((\"time\"), np.append(hourly_data[var], extra_nans))\n",
    "#         data_vars[var] = ((\"time\"), hourly_data[var])\n",
    "\n",
    "    coords={\"time\": all_dates}\n",
    "\n",
    "    ds = xr.Dataset(data_vars, coords=coords)\n",
    "\n",
    "    # save to file\n",
    "    mainpath = '../data/forcing/'\n",
    "    filename = f\"regional_hourly_era_{year}_v6.nc\"\n",
    "    ds.to_netcdf(mainpath+filename)"
   ]
  },
  {
   "cell_type": "markdown",
   "id": "100fcf51",
   "metadata": {},
   "source": [
    "## Daily wind forcing"
   ]
  },
  {
   "cell_type": "code",
   "execution_count": 14,
   "id": "666d71ab",
   "metadata": {},
   "outputs": [
    {
     "name": "stdout",
     "output_type": "stream",
     "text": [
      "0 2003-11-01T00:00:00.000000000\n",
      "0 2004-01-01T00:00:00.000000000\n",
      "0 2004-11-01T00:00:00.000000000\n",
      "0 2005-01-01T00:00:00.000000000\n",
      "0 2005-11-01T00:00:00.000000000\n",
      "0 2006-01-01T00:00:00.000000000\n",
      "0 2006-11-01T00:00:00.000000000\n",
      "0 2007-01-01T00:00:00.000000000\n",
      "0 2007-11-01T00:00:00.000000000\n",
      "0 2008-01-01T00:00:00.000000000\n",
      "0 2008-11-01T00:00:00.000000000\n",
      "0 2009-01-01T00:00:00.000000000\n",
      "0 2009-11-01T00:00:00.000000000\n",
      "0 2010-01-01T00:00:00.000000000\n",
      "0 2010-11-01T00:00:00.000000000\n",
      "0 2011-01-01T00:00:00.000000000\n",
      "0 2011-11-01T00:00:00.000000000\n",
      "0 2012-01-01T00:00:00.000000000\n",
      "0 2012-11-01T00:00:00.000000000\n",
      "0 2013-01-01T00:00:00.000000000\n",
      "0 2013-11-01T00:00:00.000000000\n",
      "0 2014-01-01T00:00:00.000000000\n",
      "0 2014-11-01T00:00:00.000000000\n",
      "0 2015-01-01T00:00:00.000000000\n",
      "0 2015-11-01T00:00:00.000000000\n",
      "0 2016-01-01T00:00:00.000000000\n",
      "0 2016-11-01T00:00:00.000000000\n",
      "0 2017-01-01T00:00:00.000000000\n",
      "0 2017-11-01T00:00:00.000000000\n",
      "0 2018-01-01T00:00:00.000000000\n",
      "0 2018-11-01T00:00:00.000000000\n",
      "0 2019-01-01T00:00:00.000000000\n",
      "0 2019-11-01T00:00:00.000000000\n",
      "0 2020-01-01T00:00:00.000000000\n",
      "0 2020-11-01T00:00:00.000000000\n",
      "0 2021-01-01T00:00:00.000000000\n",
      "0 2021-11-01T00:00:00.000000000\n",
      "0 2022-01-01T00:00:00.000000000\n",
      "0 2022-11-01T00:00:00.000000000\n",
      "0 2023-01-01T00:00:00.000000000\n"
     ]
    }
   ],
   "source": [
    "\n",
    "# years = np.arange(2003, 2025)\n",
    "\n",
    "# years = np.arange(1987, 2003)\n",
    "\n",
    "# years = [2025]\n",
    "\n",
    "\n",
    "years = np.arange(2003, 2024)\n",
    "\n",
    "for year in years:\n",
    "    \n",
    "    era_vars = ['u10', 'v10', 's10', 'msl', 't2m',]\n",
    "\n",
    "    daily_data = {}\n",
    "    for var in era_vars:\n",
    "        daily_data[var] = np.array([])\n",
    "\n",
    "    all_dates = np.array([], dtype=np.datetime64)\n",
    "\n",
    "    # Nov-Dec data\n",
    "    #-------------\n",
    "    dates = pd.date_range(datetime(year-1, 11,1), datetime(year-1, 12,31, 23), freq='1D')\n",
    "    all_dates = np.append(all_dates, dates)\n",
    "    \n",
    "    ds2 = open_daily_t2m(year-1, era_lat_range, era_lon_range,  time_range = slice(dates[0], dates[-1]))\n",
    "    ds = open_daily_winds(year-1, era_lat_range, era_lon_range,  time_range = slice(dates[0], dates[-1]))\n",
    "    \n",
    "    # loop over each hour\n",
    "    for tt, time in enumerate(ds.time):\n",
    "\n",
    "        if tt%1000 == 0:\n",
    "            print(tt, time.values)\n",
    "        ds_crop = ds.sel(time = time)\n",
    "        ds2_crop = ds2.sel(valid_time = time)\n",
    "        \n",
    "        # find regional means\n",
    "        for var in ['u10', 'v10', 'msl']:\n",
    "            reg_mean = geogen.lat_weighted_mean(ds_crop[var].values[grids['era']['region']], \n",
    "                                        grids['era']['lat'][grids['era']['region']])\n",
    "            daily_data[var] = np.append(daily_data[var], reg_mean)\n",
    "            \n",
    "        for var in ['s10']:\n",
    "            speeds = np.sqrt(ds_crop['u10'].values**2+ds_crop['v10'].values**2)\n",
    "            reg_mean = geogen.lat_weighted_mean(speeds[grids['era']['region']], \n",
    "                                        grids['era']['lat'][grids['era']['region']])\n",
    "            daily_data[var] = np.append(daily_data[var], reg_mean)\n",
    "            \n",
    "            \n",
    "        for var in ['t2m']:\n",
    "            reg_mean = geogen.lat_weighted_mean((ds2_crop[var]-273.15).values[grids['era']['region']], \n",
    "                                        grids['era']['lat'][grids['era']['region']])\n",
    "            daily_data[var] = np.append(daily_data[var], reg_mean)\n",
    "            \n",
    "            \n",
    "    # Jan-June data\n",
    "    #-------------\n",
    "    dates = pd.date_range(datetime(year, 1,1), datetime(year, 4,30, 23), freq='1D')\n",
    "    all_dates = np.append(all_dates, dates)\n",
    "    ds = open_daily_winds(year, era_lat_range, era_lon_range,  time_range = slice(dates[0], dates[-1]))\n",
    "    ds2 = open_daily_t2m(year, era_lat_range, era_lon_range,  time_range = slice(dates[0], dates[-1]))\n",
    "    \n",
    "    # loop over each hour\n",
    "    for tt, time in enumerate(ds.time):\n",
    "\n",
    "        if tt%1000 == 0:\n",
    "            print(tt, time.values)\n",
    "        ds_crop = ds.sel(time = time)\n",
    "        ds2_crop = ds2.sel(valid_time = time)\n",
    "        \n",
    "        # find regional means\n",
    "        for var in ['u10', 'v10', 'msl']:\n",
    "            reg_mean = geogen.lat_weighted_mean(ds_crop[var].values[grids['era']['region']], \n",
    "                                        grids['era']['lat'][grids['era']['region']])\n",
    "            daily_data[var] = np.append(daily_data[var], reg_mean)\n",
    "            \n",
    "        for var in ['s10']:\n",
    "            speeds = np.sqrt(ds_crop['u10'].values**2+ds_crop['v10'].values**2)\n",
    "            reg_mean = geogen.lat_weighted_mean(speeds[grids['era']['region']], \n",
    "                                        grids['era']['lat'][grids['era']['region']])\n",
    "            daily_data[var] = np.append(daily_data[var], reg_mean)\n",
    "            \n",
    "        for var in ['t2m']:\n",
    "            reg_mean = geogen.lat_weighted_mean((ds2_crop[var]-273.15).values[grids['era']['region']], \n",
    "                                        grids['era']['lat'][grids['era']['region']])\n",
    "            daily_data[var] = np.append(daily_data[var], reg_mean)\n",
    "            \n",
    "            \n",
    "    key = 'era'\n",
    "    data_vars = {}\n",
    "    for var in era_vars:\n",
    "        extra_nans = np.full(len(all_dates) - len(daily_data[var]), np.nan)\n",
    "        data_vars[var] = ((\"time\"), np.append(daily_data[var], extra_nans))\n",
    "    #         data_vars[var] = ((\"time\"), hourly_data[var])\n",
    "\n",
    "    coords={\"time\": all_dates}\n",
    "\n",
    "    ds = xr.Dataset(data_vars, coords=coords)\n",
    "\n",
    "    # save to file\n",
    "    mainpath = '../data/forcing/'\n",
    "    filename = f\"regional_daily_era_{year}_v6_witht2m.nc\"\n",
    "    ds.to_netcdf(mainpath+filename)"
   ]
  },
  {
   "cell_type": "code",
   "execution_count": null,
   "id": "9185f4fa",
   "metadata": {},
   "outputs": [],
   "source": []
  },
  {
   "cell_type": "code",
   "execution_count": null,
   "id": "721c7b1d",
   "metadata": {},
   "outputs": [],
   "source": []
  },
  {
   "cell_type": "markdown",
   "id": "b10c11b3",
   "metadata": {},
   "source": [
    "## Daily regional PPd drift"
   ]
  },
  {
   "cell_type": "code",
   "execution_count": 20,
   "id": "104264dd",
   "metadata": {},
   "outputs": [
    {
     "name": "stdout",
     "output_type": "stream",
     "text": [
      "0\n"
     ]
    },
    {
     "name": "stderr",
     "output_type": "stream",
     "text": [
      "/var/folders/p8/hz449fpx6nscv0jb1klyfqb40000gp/T/ipykernel_7172/1307702962.py:33: RuntimeWarning: Mean of empty slice\n",
      "  reg_mean = np.nanmean(ds[var][tt,:,:][grids['ppd']['region']])\n"
     ]
    },
    {
     "name": "stdout",
     "output_type": "stream",
     "text": [
      "0\n",
      "0\n"
     ]
    },
    {
     "name": "stderr",
     "output_type": "stream",
     "text": [
      "/var/folders/p8/hz449fpx6nscv0jb1klyfqb40000gp/T/ipykernel_7172/1307702962.py:33: RuntimeWarning: Mean of empty slice\n",
      "  reg_mean = np.nanmean(ds[var][tt,:,:][grids['ppd']['region']])\n"
     ]
    },
    {
     "name": "stdout",
     "output_type": "stream",
     "text": [
      "0\n"
     ]
    },
    {
     "name": "stderr",
     "output_type": "stream",
     "text": [
      "/var/folders/p8/hz449fpx6nscv0jb1klyfqb40000gp/T/ipykernel_7172/1307702962.py:33: RuntimeWarning: Mean of empty slice\n",
      "  reg_mean = np.nanmean(ds[var][tt,:,:][grids['ppd']['region']])\n"
     ]
    },
    {
     "name": "stdout",
     "output_type": "stream",
     "text": [
      "0\n"
     ]
    },
    {
     "name": "stderr",
     "output_type": "stream",
     "text": [
      "/var/folders/p8/hz449fpx6nscv0jb1klyfqb40000gp/T/ipykernel_7172/1307702962.py:33: RuntimeWarning: Mean of empty slice\n",
      "  reg_mean = np.nanmean(ds[var][tt,:,:][grids['ppd']['region']])\n"
     ]
    },
    {
     "name": "stdout",
     "output_type": "stream",
     "text": [
      "0\n"
     ]
    },
    {
     "name": "stderr",
     "output_type": "stream",
     "text": [
      "/var/folders/p8/hz449fpx6nscv0jb1klyfqb40000gp/T/ipykernel_7172/1307702962.py:33: RuntimeWarning: Mean of empty slice\n",
      "  reg_mean = np.nanmean(ds[var][tt,:,:][grids['ppd']['region']])\n"
     ]
    },
    {
     "name": "stdout",
     "output_type": "stream",
     "text": [
      "0\n"
     ]
    },
    {
     "name": "stderr",
     "output_type": "stream",
     "text": [
      "/var/folders/p8/hz449fpx6nscv0jb1klyfqb40000gp/T/ipykernel_7172/1307702962.py:33: RuntimeWarning: Mean of empty slice\n",
      "  reg_mean = np.nanmean(ds[var][tt,:,:][grids['ppd']['region']])\n"
     ]
    },
    {
     "name": "stdout",
     "output_type": "stream",
     "text": [
      "0\n",
      "0\n"
     ]
    },
    {
     "name": "stderr",
     "output_type": "stream",
     "text": [
      "/var/folders/p8/hz449fpx6nscv0jb1klyfqb40000gp/T/ipykernel_7172/1307702962.py:33: RuntimeWarning: Mean of empty slice\n",
      "  reg_mean = np.nanmean(ds[var][tt,:,:][grids['ppd']['region']])\n"
     ]
    },
    {
     "name": "stdout",
     "output_type": "stream",
     "text": [
      "0\n"
     ]
    },
    {
     "name": "stderr",
     "output_type": "stream",
     "text": [
      "/var/folders/p8/hz449fpx6nscv0jb1klyfqb40000gp/T/ipykernel_7172/1307702962.py:33: RuntimeWarning: Mean of empty slice\n",
      "  reg_mean = np.nanmean(ds[var][tt,:,:][grids['ppd']['region']])\n"
     ]
    },
    {
     "name": "stdout",
     "output_type": "stream",
     "text": [
      "0\n"
     ]
    },
    {
     "name": "stderr",
     "output_type": "stream",
     "text": [
      "/var/folders/p8/hz449fpx6nscv0jb1klyfqb40000gp/T/ipykernel_7172/1307702962.py:33: RuntimeWarning: Mean of empty slice\n",
      "  reg_mean = np.nanmean(ds[var][tt,:,:][grids['ppd']['region']])\n"
     ]
    },
    {
     "name": "stdout",
     "output_type": "stream",
     "text": [
      "0\n",
      "0\n"
     ]
    },
    {
     "name": "stderr",
     "output_type": "stream",
     "text": [
      "/var/folders/p8/hz449fpx6nscv0jb1klyfqb40000gp/T/ipykernel_7172/1307702962.py:33: RuntimeWarning: Mean of empty slice\n",
      "  reg_mean = np.nanmean(ds[var][tt,:,:][grids['ppd']['region']])\n"
     ]
    },
    {
     "name": "stdout",
     "output_type": "stream",
     "text": [
      "0\n"
     ]
    },
    {
     "name": "stderr",
     "output_type": "stream",
     "text": [
      "/var/folders/p8/hz449fpx6nscv0jb1klyfqb40000gp/T/ipykernel_7172/1307702962.py:33: RuntimeWarning: Mean of empty slice\n",
      "  reg_mean = np.nanmean(ds[var][tt,:,:][grids['ppd']['region']])\n"
     ]
    },
    {
     "name": "stdout",
     "output_type": "stream",
     "text": [
      "0\n"
     ]
    },
    {
     "name": "stderr",
     "output_type": "stream",
     "text": [
      "/var/folders/p8/hz449fpx6nscv0jb1klyfqb40000gp/T/ipykernel_7172/1307702962.py:33: RuntimeWarning: Mean of empty slice\n",
      "  reg_mean = np.nanmean(ds[var][tt,:,:][grids['ppd']['region']])\n"
     ]
    },
    {
     "name": "stdout",
     "output_type": "stream",
     "text": [
      "0\n"
     ]
    },
    {
     "name": "stderr",
     "output_type": "stream",
     "text": [
      "/var/folders/p8/hz449fpx6nscv0jb1klyfqb40000gp/T/ipykernel_7172/1307702962.py:33: RuntimeWarning: Mean of empty slice\n",
      "  reg_mean = np.nanmean(ds[var][tt,:,:][grids['ppd']['region']])\n"
     ]
    },
    {
     "name": "stdout",
     "output_type": "stream",
     "text": [
      "0\n",
      "0\n"
     ]
    },
    {
     "name": "stderr",
     "output_type": "stream",
     "text": [
      "/var/folders/p8/hz449fpx6nscv0jb1klyfqb40000gp/T/ipykernel_7172/1307702962.py:33: RuntimeWarning: Mean of empty slice\n",
      "  reg_mean = np.nanmean(ds[var][tt,:,:][grids['ppd']['region']])\n"
     ]
    },
    {
     "name": "stdout",
     "output_type": "stream",
     "text": [
      "0\n"
     ]
    },
    {
     "name": "stderr",
     "output_type": "stream",
     "text": [
      "/var/folders/p8/hz449fpx6nscv0jb1klyfqb40000gp/T/ipykernel_7172/1307702962.py:33: RuntimeWarning: Mean of empty slice\n",
      "  reg_mean = np.nanmean(ds[var][tt,:,:][grids['ppd']['region']])\n"
     ]
    },
    {
     "name": "stdout",
     "output_type": "stream",
     "text": [
      "0\n"
     ]
    },
    {
     "name": "stderr",
     "output_type": "stream",
     "text": [
      "/var/folders/p8/hz449fpx6nscv0jb1klyfqb40000gp/T/ipykernel_7172/1307702962.py:33: RuntimeWarning: Mean of empty slice\n",
      "  reg_mean = np.nanmean(ds[var][tt,:,:][grids['ppd']['region']])\n"
     ]
    },
    {
     "name": "stdout",
     "output_type": "stream",
     "text": [
      "0\n"
     ]
    },
    {
     "name": "stderr",
     "output_type": "stream",
     "text": [
      "/var/folders/p8/hz449fpx6nscv0jb1klyfqb40000gp/T/ipykernel_7172/1307702962.py:33: RuntimeWarning: Mean of empty slice\n",
      "  reg_mean = np.nanmean(ds[var][tt,:,:][grids['ppd']['region']])\n"
     ]
    }
   ],
   "source": [
    "\n",
    "\n",
    "# years = np.arange(1987, 2003)\n",
    "\n",
    "\n",
    "\n",
    "years = np.arange(2003, 2024)\n",
    "\n",
    "\n",
    "for year in years:\n",
    "    \n",
    "    ppd_vars = ['e', 'n', 'error', 's']\n",
    "\n",
    "    daily_data = {}\n",
    "    for var in ppd_vars:\n",
    "        daily_data[var] = np.array([])\n",
    "\n",
    "    all_dates = np.array([], dtype=np.datetime64)\n",
    "\n",
    "    # Nov-Dec data\n",
    "    #-------------\n",
    "    dates = pd.date_range(datetime(year-1, 10,1), datetime(year-1, 12,31, 23), freq='1D')\n",
    "    all_dates = np.append(all_dates, dates)\n",
    "    ds = open_daily_drift(year-1, era_lat_range, era_lon_range,  time_range = slice(dates[0], dates[-1]))\n",
    "    \n",
    "    \n",
    "    # loop over each hour\n",
    "    for tt in range(len(ds['e'])):\n",
    "\n",
    "        if tt%100 == 0:\n",
    "            print(tt)\n",
    "        # find regional means\n",
    "        for var in ppd_vars:\n",
    "            \n",
    "            reg_mean = np.nanmean(ds[var][tt,:,:][grids['ppd']['region']])\n",
    "            daily_data[var] = np.append(daily_data[var], reg_mean)\n",
    "\n",
    "    # Jan-June data\n",
    "    #-------------\n",
    "    dates = pd.date_range(datetime(year, 1,1), datetime(year, 6, 30, 23), freq='1D')\n",
    "    all_dates = np.append(all_dates, dates)\n",
    "    ds = open_daily_drift(year, era_lat_range, era_lon_range,  time_range = slice(dates[0], dates[-1]))\n",
    "\n",
    "    # loop over each hour\n",
    "    for tt in range(len(ds['e'])):\n",
    "\n",
    "        # find regional means\n",
    "        for var in ppd_vars:\n",
    "            \n",
    "            reg_mean = np.nanmean(ds[var][tt,:,:][grids['ppd']['region']])\n",
    "            daily_data[var] = np.append(daily_data[var], reg_mean)\n",
    "            \n",
    "            \n",
    "    key = 'ppd'\n",
    "    data_vars = {}\n",
    "    for var in ppd_vars:\n",
    "        extra_nans = np.full(len(all_dates) - len(daily_data[var]), np.nan)\n",
    "        data_vars[var] = ((\"time\"), np.append(daily_data[var], extra_nans))\n",
    "    #         data_vars[var] = ((\"time\"), hourly_data[var])\n",
    "\n",
    "    coords={\"time\": all_dates}\n",
    "\n",
    "    ds = xr.Dataset(data_vars, coords=coords)\n",
    "\n",
    "    # save to file\n",
    "    mainpath = '../data/forcing/'\n",
    "    filename = f\"regional_daily_ppd_{year}_v6.nc\"\n",
    "    ds.to_netcdf(mainpath+filename)"
   ]
  },
  {
   "cell_type": "code",
   "execution_count": null,
   "id": "089b758d",
   "metadata": {},
   "outputs": [],
   "source": []
  },
  {
   "cell_type": "code",
   "execution_count": null,
   "id": "b9cc49de",
   "metadata": {},
   "outputs": [],
   "source": []
  },
  {
   "cell_type": "code",
   "execution_count": null,
   "id": "3b0cb9c4",
   "metadata": {},
   "outputs": [],
   "source": []
  },
  {
   "cell_type": "code",
   "execution_count": null,
   "id": "85c9d9b8",
   "metadata": {},
   "outputs": [],
   "source": []
  },
  {
   "cell_type": "code",
   "execution_count": null,
   "id": "e72dbf48",
   "metadata": {},
   "outputs": [],
   "source": []
  },
  {
   "cell_type": "code",
   "execution_count": 584,
   "id": "dddaaaaa",
   "metadata": {},
   "outputs": [
    {
     "name": "stdout",
     "output_type": "stream",
     "text": [
      "2003\n",
      "2004\n",
      "2005\n",
      "2006\n",
      "2007\n",
      "2008\n",
      "2009\n",
      "2010\n",
      "2011\n",
      "2013\n",
      "2014\n",
      "2015\n",
      "2016\n",
      "2017\n",
      "2018\n",
      "2019\n",
      "2020\n",
      "2021\n"
     ]
    },
    {
     "name": "stderr",
     "output_type": "stream",
     "text": [
      "/var/folders/p8/hz449fpx6nscv0jb1klyfqb40000gp/T/ipykernel_16386/1981190657.py:109: RuntimeWarning: Mean of empty slice\n",
      "  reg_mean = np.nanmean(d3[group][ii][reg_pts])\n"
     ]
    },
    {
     "name": "stdout",
     "output_type": "stream",
     "text": [
      "2022\n"
     ]
    },
    {
     "name": "stderr",
     "output_type": "stream",
     "text": [
      "/var/folders/p8/hz449fpx6nscv0jb1klyfqb40000gp/T/ipykernel_16386/1981190657.py:109: RuntimeWarning: Mean of empty slice\n",
      "  reg_mean = np.nanmean(d3[group][ii][reg_pts])\n"
     ]
    },
    {
     "name": "stdout",
     "output_type": "stream",
     "text": [
      "2023\n",
      "2024\n"
     ]
    },
    {
     "name": "stderr",
     "output_type": "stream",
     "text": [
      "/var/folders/p8/hz449fpx6nscv0jb1klyfqb40000gp/T/ipykernel_16386/1981190657.py:109: RuntimeWarning: Mean of empty slice\n",
      "  reg_mean = np.nanmean(d3[group][ii][reg_pts])\n",
      "/var/folders/p8/hz449fpx6nscv0jb1klyfqb40000gp/T/ipykernel_16386/1981190657.py:109: RuntimeWarning: Mean of empty slice\n",
      "  reg_mean = np.nanmean(d3[group][ii][reg_pts])\n",
      "/var/folders/p8/hz449fpx6nscv0jb1klyfqb40000gp/T/ipykernel_16386/1981190657.py:109: RuntimeWarning: Mean of empty slice\n",
      "  reg_mean = np.nanmean(d3[group][ii][reg_pts])\n",
      "/var/folders/p8/hz449fpx6nscv0jb1klyfqb40000gp/T/ipykernel_16386/1981190657.py:109: RuntimeWarning: Mean of empty slice\n",
      "  reg_mean = np.nanmean(d3[group][ii][reg_pts])\n",
      "/var/folders/p8/hz449fpx6nscv0jb1klyfqb40000gp/T/ipykernel_16386/1981190657.py:109: RuntimeWarning: Mean of empty slice\n",
      "  reg_mean = np.nanmean(d3[group][ii][reg_pts])\n",
      "/var/folders/p8/hz449fpx6nscv0jb1klyfqb40000gp/T/ipykernel_16386/1981190657.py:118: RuntimeWarning: invalid value encountered in divide\n",
      "  field[key][group][month][year]['mean'] = field[key][group][month][year]['sum'] / field[key][group][month][year]['N']\n"
     ]
    }
   ],
   "source": [
    "\n",
    "field = {}\n",
    "\n",
    "reg = {}\n",
    "\n",
    "GROUPS = {}\n",
    "GROUPS['era'] = ['u10', 'v10', 'msl', 't2m', 's10']\n",
    "GROUPS['ppd'] = ['e', 'n','s']\n",
    "months = [12, 1, 2, 3, 4]\n",
    "YEARS = years\n",
    "\n",
    "for key in ['era', 'ppd']:\n",
    "    \n",
    "    # whole maps\n",
    "    field[key] = {}\n",
    "\n",
    "    # regional means\n",
    "    reg[key] = {}\n",
    "    regmonth[key] = {}\n",
    "    regyear[key] = {}\n",
    "\n",
    "    for group in GROUPS[key]:\n",
    "        \n",
    "        field[key][group] = {}\n",
    "        \n",
    "        reg[key][group] = {}\n",
    "        \n",
    "        for month in months:\n",
    "            field[key][group][month] = {}\n",
    "            reg[key][group][month] = {}\n",
    "            \n",
    "            for year in YEARS:\n",
    "                field[key][group][month][year] = {}\n",
    "                field[key][group][month][year]['sum'] = np.zeros(grids[key]['lon'].shape)\n",
    "                field[key][group][month][year]['N'] = np.zeros(grids[key]['lon'].shape)\n",
    "                reg[key][group][month][year] = np.array([])\n",
    "\n",
    "\n",
    "# build dictionary \n",
    "for year in YEARS:\n",
    "\n",
    "    print(year)\n",
    "    \n",
    "    # January - April\n",
    "    #-----------------\n",
    "    for month in months:\n",
    "\n",
    "        if month == 12:\n",
    "            YEAR = year - 1\n",
    "        else:\n",
    "            YEAR = year\n",
    "            \n",
    "        # open files\n",
    "        month_length = calendar.monthrange(YEAR, month)[1]\n",
    "        time_range = slice(datetime(YEAR,month,1), datetime(YEAR,month,month_length))        \n",
    "        ds = open_daily_winds(YEAR, era_lat_range, era_lon_range, time_range=time_range)\n",
    "        ds2 = open_daily_t2m(YEAR, era_lat_range, era_lon_range, time_range=time_range)\n",
    "        \n",
    "        if year != 2024:\n",
    "            d3 = open_daily_drift(YEAR, lat_range, lon_range, time_range = time_range)\n",
    "        else:\n",
    "            d3 = {}\n",
    "            for group in GROUPS[key]:\n",
    "                d3[group] = np.full((month_length, 100, 90), np.nan)\n",
    "        \n",
    "        # atmosphere\n",
    "        #-----------------\n",
    "        key = 'era'\n",
    "        reg_pts = grids[key]['region']\n",
    "        for group in GROUPS[key]:\n",
    "            \n",
    "            dicts = field[key][group][month][year]\n",
    "\n",
    "            if group == 't2m':\n",
    "                dicts['sum'] += (ds2[group]-273.15).sum(dim='valid_time').values\n",
    "                dicts['N'] += np.isfinite(ds2[group]).sum(dim='valid_time').values\n",
    "            elif group == 's10':\n",
    "                dicts['sum'] += np.sqrt(ds['u10']**2+ds['v10']**2).sum(dim='time').values\n",
    "                dicts['N'] += np.isfinite(ds['u10']).sum(dim='time').values\n",
    "            else:\n",
    "                dicts['sum'] += ds[group].sum(dim='time').values\n",
    "                dicts['N'] += np.isfinite(ds[group]).sum(dim='time').values\n",
    "                    \n",
    "            # save regional means\n",
    "            for time in ds.time:\n",
    "                \n",
    "                if group == 't2m':\n",
    "                    reg_values = (ds2[group]-273.15).sel(valid_time = time).values[reg_pts]\n",
    "                elif group == 's10':\n",
    "                    reg_values = np.sqrt(ds['u10']**2+ds['v10']**2).sel(time = time).values[reg_pts]\n",
    "                else:\n",
    "                    reg_values = ds[group].sel(time = time).values[reg_pts]\n",
    "                \n",
    "                reg_mean = geogen.lat_weighted_mean(reg_values, grids[key]['lat'][reg_pts])\n",
    "                reg[key][group][month][year] = np.append(reg[key][group][month][year], reg_mean)\n",
    "\n",
    "        \n",
    "        # sea ice drift\n",
    "        #-----------------\n",
    "        key = 'ppd'\n",
    "        reg_pts = grids[key]['region']\n",
    "        for group in GROUPS[key]:\n",
    "            \n",
    "            dicts = field[key][group][month][year]\n",
    "            dicts['sum'] += np.nansum(d3[group], axis=0)\n",
    "            dicts['N'] += np.nansum(np.isfinite(d3[group]), axis=0)\n",
    "                    \n",
    "            # save regional means\n",
    "            for ii in range(len(d3['e'])):\n",
    "                reg_mean = np.nanmean(d3[group][ii][reg_pts])\n",
    "                reg[key][group][month][year] = np.append(reg[key][group][month][year], reg_mean)\n",
    "\n",
    "# calculate means!\n",
    "#-----------------\n",
    "for key in ['era', 'ppd']:\n",
    "    for group in GROUPS[key]:\n",
    "        for month in months:\n",
    "            for year in YEARS:\n",
    "                field[key][group][month][year]['mean'] = field[key][group][month][year]['sum'] / field[key][group][month][year]['N']\n"
   ]
  },
  {
   "cell_type": "code",
   "execution_count": null,
   "id": "97236f9b",
   "metadata": {},
   "outputs": [],
   "source": []
  },
  {
   "cell_type": "markdown",
   "id": "d086712c",
   "metadata": {},
   "source": [
    "## Save to nc\n"
   ]
  },
  {
   "cell_type": "markdown",
   "id": "b87c5bce",
   "metadata": {},
   "source": [
    "#### ERA map"
   ]
  },
  {
   "cell_type": "code",
   "execution_count": 585,
   "id": "0444c5b5",
   "metadata": {},
   "outputs": [],
   "source": [
    "key = 'era'\n",
    "\n",
    "data_vars = {}\n",
    "\n",
    "for group in list(field[key].keys()):\n",
    "    \n",
    "    # stack data\n",
    "    stacked = np.array([])\n",
    "    for month in months:\n",
    "        for year in YEARS:\n",
    "            stacked = np.append(stacked, field[key][group][month][year]['mean'])\n",
    "    stacked = np.reshape(stacked, (len(months),len(YEARS),*grids[key]['lat'].shape))\n",
    "\n",
    "    # construct data field\n",
    "    data_vars[group] = ((\"month\", \"year\", \"lat\", \"lon\"), stacked)#, {'long_name': long_name, 'units': units})\n",
    "\n",
    "coords={\"month\": months, \"year\": YEARS, \"lat\":grids[key]['lat'][:,0], \"lon\":grids[key]['lon'][0,:]}\n",
    "\n",
    "ds = xr.Dataset(data_vars, coords=coords)   \n",
    "\n",
    "# save to file\n",
    "mainpath = '../data/forcing/'\n",
    "filename = f\"dailymaps_{key}_v0.nc\"\n",
    "ds.to_netcdf(mainpath+filename)\n"
   ]
  },
  {
   "cell_type": "markdown",
   "id": "10b8c298",
   "metadata": {},
   "source": [
    "#### PPD map"
   ]
  },
  {
   "cell_type": "code",
   "execution_count": 586,
   "id": "06c8b0ce",
   "metadata": {},
   "outputs": [],
   "source": [
    "key = 'ppd'\n",
    "\n",
    "data_vars = {}\n",
    "\n",
    "for group in list(field[key].keys()):\n",
    "    \n",
    "    # stack data\n",
    "    stacked = np.array([])\n",
    "    for month in months:\n",
    "        for year in YEARS:\n",
    "            stacked = np.append(stacked, field[key][group][month][year]['mean'])\n",
    "    stacked = np.reshape(stacked, (len(months),len(YEARS),*grids[key]['lat'].shape))\n",
    "\n",
    "    # construct data field\n",
    "    data_vars[group] = ((\"month\", \"year\", \"y\", \"x\"), stacked)#, {'long_name': long_name, 'units': units})\n",
    "\n",
    "coords={\"month\": months, \"year\": YEARS, \"x\":grids[key]['xx'][0,:], \"y\":grids[key]['yy'][:,0]}\n",
    "\n",
    "ds = xr.Dataset(data_vars, coords=coords)   \n",
    "\n",
    "# save to file\n",
    "mainpath = '../data/forcing/'\n",
    "filename = f\"dailymaps_{key}_v0.nc\"\n",
    "ds.to_netcdf(mainpath+filename)\n"
   ]
  },
  {
   "cell_type": "markdown",
   "id": "bbca4507",
   "metadata": {},
   "source": [
    "#### ERA region stats"
   ]
  },
  {
   "cell_type": "code",
   "execution_count": 587,
   "id": "a158ba12",
   "metadata": {},
   "outputs": [
    {
     "name": "stderr",
     "output_type": "stream",
     "text": [
      "/opt/anaconda3/envs/SBSpolynya/lib/python3.12/site-packages/xarray/coding/times.py:618: RuntimeWarning: invalid value encountered in cast\n",
      "  int_num = np.asarray(num, dtype=np.int64)\n"
     ]
    }
   ],
   "source": [
    "key = 'era'\n",
    "\n",
    "data_vars = {}\n",
    "\n",
    "for group in list(reg[key].keys()):\n",
    "    \n",
    "    # stack data\n",
    "    stacked = np.array([])\n",
    "    stacked_dates = np.array([])\n",
    "    \n",
    "    for month in months:\n",
    "        for year in YEARS:\n",
    "            \n",
    "            monthlydata = reg[key][group][month][year]\n",
    "            fillto31 = np.append(monthlydata, np.full(31-len(monthlydata), np.nan))\n",
    "            stacked = np.append(stacked, fillto31)\n",
    "            \n",
    "            if month == 12:\n",
    "                YEAR = year-1\n",
    "            else:\n",
    "                YEAR = year\n",
    "            for day in range(1,32):\n",
    "                if day <= calendar.monthrange(YEAR, month)[1]:\n",
    "                    stacked_dates = np.append(stacked_dates, datetime(YEAR, month, day))\n",
    "                else:\n",
    "                    stacked_dates = np.append(stacked_dates, np.nan)\n",
    "            \n",
    "    stacked = np.reshape(stacked, (len(months),len(YEARS), 31))\n",
    "    stacked_dates = np.reshape(stacked_dates, (len(months),len(YEARS), 31))\n",
    "\n",
    "    # construct data field\n",
    "    data_vars[group] = ((\"month\", \"year\", \"day\"), stacked)\n",
    "    \n",
    "data_vars['date'] = ((\"month\", \"year\", \"day\"), stacked_dates)\n",
    "\n",
    "coords={\"month\": months, \"year\": YEARS, \"day\" : np.arange(1,32)}\n",
    "\n",
    "ds = xr.Dataset(data_vars, coords=coords)\n",
    "\n",
    "# save to file\n",
    "mainpath = '../data/forcing/'\n",
    "filename = f\"regional_{key}_v0.nc\"\n",
    "ds.to_netcdf(mainpath+filename)"
   ]
  },
  {
   "cell_type": "markdown",
   "id": "2c1790b8",
   "metadata": {},
   "source": [
    "#### PPD region stats"
   ]
  },
  {
   "cell_type": "code",
   "execution_count": 588,
   "id": "934b412f",
   "metadata": {},
   "outputs": [
    {
     "name": "stderr",
     "output_type": "stream",
     "text": [
      "/opt/anaconda3/envs/SBSpolynya/lib/python3.12/site-packages/xarray/coding/times.py:618: RuntimeWarning: invalid value encountered in cast\n",
      "  int_num = np.asarray(num, dtype=np.int64)\n"
     ]
    }
   ],
   "source": [
    "key = 'ppd'\n",
    "\n",
    "data_vars = {}\n",
    "\n",
    "for group in list(reg[key].keys()):\n",
    "    \n",
    "    # stack data\n",
    "    stacked = np.array([])\n",
    "    stacked_dates = np.array([])\n",
    "    \n",
    "    for month in months:\n",
    "        for year in YEARS:\n",
    "            \n",
    "            monthlydata = reg[key][group][month][year]\n",
    "            fillto31 = np.append(monthlydata, np.full(31-len(monthlydata), np.nan))\n",
    "            stacked = np.append(stacked, fillto31)\n",
    "            \n",
    "            if month == 12:\n",
    "                YEAR = year-1\n",
    "            else:\n",
    "                YEAR = year\n",
    "            for day in range(1,32):\n",
    "                if day <= calendar.monthrange(YEAR, month)[1]:\n",
    "                    stacked_dates = np.append(stacked_dates, datetime(YEAR, month, day))\n",
    "                else:\n",
    "                    stacked_dates = np.append(stacked_dates, np.nan)\n",
    "            \n",
    "    stacked = np.reshape(stacked, (len(months),len(YEARS), 31))\n",
    "    stacked_dates = np.reshape(stacked_dates, (len(months),len(YEARS), 31))\n",
    "\n",
    "    # construct data field\n",
    "    data_vars[group] = ((\"month\", \"year\", \"day\"), stacked)\n",
    "    \n",
    "data_vars['date'] = ((\"month\", \"year\", \"day\"), stacked_dates)\n",
    "\n",
    "coords={\"month\": months, \"year\": YEARS, \"day\" : np.arange(1,32)}\n",
    "\n",
    "ds = xr.Dataset(data_vars, coords=coords)\n",
    "\n",
    "# save to file\n",
    "mainpath = '../data/forcing/'\n",
    "filename = f\"regional_{key}_v0.nc\"\n",
    "ds.to_netcdf(mainpath+filename)"
   ]
  },
  {
   "cell_type": "code",
   "execution_count": 344,
   "id": "073f5a12",
   "metadata": {},
   "outputs": [
    {
     "data": {
      "image/png": "[encoded data removed]",
      "text/plain": [
       "<Figure size 300x300 with 1 Axes>"
      ]
     },
     "metadata": {},
     "output_type": "display_data"
    }
   ],
   "source": [
    "fig, ax = plt.subplots(figsize=(3,3))\n",
    "\n",
    "bins = np.arange(-25,35,1)\n",
    "\n",
    "key = 'ppd'\n",
    "var = 's'\n",
    "\n",
    "\n",
    "for year in [2003,2008,2013,2018,2023]:\n",
    "\n",
    "    plt.hist(regyear[key][var][year], bins=bins)\n",
    "#     # plt.hist(regmonth[key][var][1], bins=bins)\n",
    "#     plt.hist(regmonth[key][var][2], bins=bins)\n",
    "#     # plt.hist(regmonth[key][var][3], bins=bins)\n",
    "#     plt.hist(regmonth[key][var][4], bins=bins)\n"
   ]
  },
  {
   "cell_type": "code",
   "execution_count": 590,
   "id": "b632228c",
   "metadata": {},
   "outputs": [
    {
     "data": {
      "text/plain": [
       "33.2"
      ]
     },
     "execution_count": 590,
     "metadata": {},
     "output_type": "execute_result"
    }
   ],
   "source": [
    "123.2 - 90"
   ]
  },
  {
   "cell_type": "code",
   "execution_count": 345,
   "id": "0d5ee38a",
   "metadata": {},
   "outputs": [
    {
     "data": {
      "text/plain": [
       "<cartopy.mpl.geocollection.GeoQuadMesh at 0x143b31e80>"
      ]
     },
     "execution_count": 345,
     "metadata": {},
     "output_type": "execute_result"
    },
    {
     "data": {
      "image/png": "[encoded data removed]",
      "text/plain": [
       "<Figure size 800x600 with 1 Axes>"
      ]
     },
     "metadata": {},
     "output_type": "display_data"
    }
   ],
   "source": [
    "\n",
    "# initialize map\n",
    "map_proj = ccrs.NorthPolarStereo(central_longitude=-150)\n",
    "fig, ax = plt.subplots(subplot_kw=dict(projection=map_proj), figsize=(8,6))\n",
    "ax.set_ylim(-2500000,-1500000)\n",
    "ax.set_xlim(-800000,1000000)\n",
    "ax.set_facecolor('lightgray')\n",
    "geomap.land(ax, scale = '10m', color='darkgray', alpha=1, fill_dateline_gap = False, zorder=2)\n",
    "\n",
    "\n",
    "ax.add_geometries([reg_poly], edgecolor='k', facecolor='None', crs=ccrs.PlateCarree())\n",
    "\n",
    "\n",
    "\n",
    "# ax.pcolormesh(grids[key]['lon'], \n",
    "#               grids[key]['lat'], \n",
    "#               fieldmonth[key]['t2m'][4]['mean'], vmin=-40, vmax=-10, transform=ccrs.PlateCarree())\n",
    "\n",
    "\n",
    "# key = 'era'\n",
    "# ax.pcolormesh(grids[key]['lon'], \n",
    "#               grids[key]['lat'], \n",
    "#               fieldmonth[key]['t2m'][3]['mean'] - field[key]['t2m']['mean'], vmin=-10, vmax=10, cmap=cmocean.cm.balance, transform=ccrs.PlateCarree())\n",
    "\n",
    "\n",
    "\n",
    "# key = 'ppd'\n",
    "# ax.pcolormesh(grids[key]['lon'], \n",
    "#               grids[key]['lat'], \n",
    "#               fieldmonth[key]['s'][4]['mean'] - field[key]['s']['mean'], vmin=-10, vmax=10, cmap=cmocean.cm.balance, transform=ccrs.PlateCarree())\n",
    "\n",
    "\n",
    "key = 'era'\n",
    "ax.pcolormesh(grids[key]['lon'], \n",
    "              grids[key]['lat'], \n",
    "              fieldmonth[key]['s10'][1]['mean'] - field[key]['s10']['mean'], vmin=-5, vmax=5, cmap=cmocean.cm.balance, transform=ccrs.PlateCarree())\n"
   ]
  },
  {
   "cell_type": "code",
   "execution_count": null,
   "id": "f83e4b23",
   "metadata": {},
   "outputs": [],
   "source": []
  }
 ],
 "metadata": {
  "kernelspec": {
   "display_name": "SBSpolynya",
   "language": "python",
   "name": "sbspolynya"
  },
  "language_info": {
   "codemirror_mode": {
    "name": "ipython",
    "version": 3
   },
   "file_extension": ".py",
   "mimetype": "text/x-python",
   "name": "python",
   "nbconvert_exporter": "python",
   "pygments_lexer": "ipython3",
   "version": "3.12.2"
  }
 },
 "nbformat": 4,
 "nbformat_minor": 5
}
