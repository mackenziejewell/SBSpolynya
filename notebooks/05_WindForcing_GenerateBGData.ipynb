{
 "cells": [
  {
   "cell_type": "markdown",
   "id": "b746cacd",
   "metadata": {},
   "source": [
    "# 05_WindForcing\n",
    "\n",
    "Relation to large-scale patterns of atm. forcing"
   ]
  },
  {
   "cell_type": "code",
   "execution_count": 1,
   "id": "a1bfe797",
   "metadata": {},
   "outputs": [],
   "source": [
    "%load_ext autoreload\n",
    "%autoreload 2\n",
    "\n",
    "# general\n",
    "import numpy as np, numpy.ma as ma\n",
    "import xarray as xr\n",
    "import pandas as pd\n",
    "\n",
    "# time\n",
    "from datetime import datetime, timedelta\n",
    "import calendar\n",
    "from calendar import monthrange\n",
    "\n",
    "# local system \n",
    "import sys  \n",
    "import glob\n",
    "import os\n",
    "\n",
    "# plotting\n",
    "import matplotlib as mpl\n",
    "from matplotlib import pyplot as plt\n",
    "import matplotlib.colors\n",
    "import cmocean\n",
    "import matplotlib.patches as mpatches\n",
    "from mpl_toolkits.axes_grid1.inset_locator import inset_axes\n",
    "from matplotlib.colors import Normalize\n",
    "from matplotlib.ticker import MultipleLocator\n",
    "\n",
    "import matplotlib.dates as mdates\n",
    "\n",
    "# geo plotting\n",
    "import cartopy\n",
    "import cartopy.crs as ccrs\n",
    "import cartopy.feature as cfeat\n",
    "from cartopy import img_transform\n",
    "\n",
    "from metpy.units import units\n",
    "\n",
    "# path to own functions\n",
    "sys.path.append('../../')\n",
    "import timeseries.adjust as tseries\n",
    "import geofunc.general as geogen\n",
    "import geofunc.vectors as vectors\n",
    "import geofunc.shapes as geoshape\n",
    "import plot_simply.general as plotter\n",
    "import plot_simply.geomap as geomap\n",
    "import data_NSIDC.icedrift as icedrift"
   ]
  },
  {
   "cell_type": "code",
   "execution_count": null,
   "id": "5171c942",
   "metadata": {},
   "outputs": [],
   "source": []
  },
  {
   "cell_type": "code",
   "execution_count": 2,
   "id": "1f8cd652",
   "metadata": {},
   "outputs": [],
   "source": [
    "def grab_atm(time_range, lat = 70.5 , lon = -140, dt = 'hourly'):\n",
    "\n",
    "    def file_name(year, dt):\n",
    "        if str(dt) == 'hourly':\n",
    "            return f'/Volumes/Jewell_EasyStore/ECMWF/annual/hourly/ERA5_{year}.nc'\n",
    "        else:\n",
    "            return f'/Volumes/Jewell_EasyStore/ECMWF/annual/daily/ERA5_{year}_daily.nc'\n",
    "            \n",
    "    if time_range.stop.year != time_range.start.year:\n",
    "        \n",
    "        # year1\n",
    "        DS1 = xr.open_dataset(file_name(time_range.start.year, dt))\n",
    "        DS1.close()\n",
    "        time_slice = slice(time_range.start, datetime(time_range.start.year, 12, 31, 23))\n",
    "        DS1 = DS1.sel(latitude = lat, longitude = lon, time=time_slice)\n",
    "        \n",
    "        # year2\n",
    "        DS2 = xr.open_dataset(file_name(time_range.stop.year, dt))\n",
    "        DS2.close()\n",
    "        time_slice = slice(datetime(time_range.stop.year, 1, 1, 0), time_range.stop)\n",
    "        DS2 = DS2.sel(latitude = lat, longitude = lon, time=time_slice)\n",
    "\n",
    "        # combine\n",
    "        dsm = xr.concat([DS1, DS2], dim=\"time\")\n",
    "    \n",
    "    else:\n",
    "        \n",
    "        # year1\n",
    "        dsm = xr.open_dataset(file_name(time_range.start.year, dt))\n",
    "        dsm.close()\n",
    "        time_slice = time_range\n",
    "        dsm = dsm.sel(latitude = lat, longitude = lon, time=time_slice)\n",
    "        \n",
    "    return dsm\n",
    "    "
   ]
  },
  {
   "cell_type": "code",
   "execution_count": 3,
   "id": "6f558045",
   "metadata": {},
   "outputs": [],
   "source": [
    "def open_hourly_t2m(year, lat_range, lon_range, time_range = None):\n",
    "    \n",
    "    ds = xr.open_dataset(f'/Volumes/Seagate_Jewell/KenzieStuff/ERA5/hourly_t2m/ERA5_T2m_hourly_{year}.nc')\n",
    "    ds.close()\n",
    "    \n",
    "    if 'valid_time' in list(ds.coords):\n",
    "        ds = ds.rename({\"valid_time\": \"time\"})\n",
    "    \n",
    "    if time_range == None:\n",
    "        ds = ds.sel(latitude = lat_range, longitude = lon_range)\n",
    "    else:\n",
    "        ds = ds.sel(time = time_range, latitude = lat_range, longitude = lon_range)\n",
    "    \n",
    "    return ds\n",
    "\n",
    "def open_hourly_winds(year, lat_range, lon_range, time_range = None):\n",
    "    \n",
    "    ds = xr.open_dataset(f'/Volumes/Jewell_EasyStore/ECMWF/annual/hourly/ERA5_{year}.nc')\n",
    "    ds.close()\n",
    "    \n",
    "    if 'valid_time' in list(ds.coords):\n",
    "        ds = ds.rename({\"valid_time\": \"time\"})\n",
    "    \n",
    "    if time_range == None:\n",
    "        ds = ds.sel(latitude = lat_range, longitude = lon_range)\n",
    "    else:\n",
    "        ds = ds.sel(time = time_range, latitude = lat_range, longitude = lon_range)\n",
    "        \n",
    "    return ds\n",
    "\n",
    "def open_daily_winds(year, lat_range, lon_range, time_range = None):\n",
    "    \n",
    "    ds = xr.open_dataset(f'/Volumes/Jewell_EasyStore/ECMWF/annual/daily/ERA5_{year}_daily.nc')\n",
    "    ds.close()\n",
    "    if time_range == None:\n",
    "        ds = ds.sel(latitude = lat_range, longitude = lon_range)\n",
    "    else:\n",
    "        ds = ds.sel(time = time_range, latitude = lat_range, longitude = lon_range)\n",
    "        \n",
    "    return ds\n",
    "\n",
    "def open_daily_t2m(year, lat_range, lon_range, time_range = None):\n",
    "    \n",
    "    ds = xr.open_dataset(f'/Volumes/Seagate_Jewell/KenzieStuff/ERA5/daily_t2m/ERA5_T2m_daily_{year}.nc')\n",
    "    ds.close()\n",
    "    \n",
    "    if time_range == None:\n",
    "        ds = ds.sel(latitude = lat_range, longitude = lon_range)\n",
    "    else:\n",
    "        ds = ds.sel(valid_time = time_range, latitude = lat_range, longitude = lon_range)\n",
    "    \n",
    "    return ds\n",
    "\n",
    "\n",
    "def open_daily_drift(year, lat_range, lon_range, time_range = None):\n",
    "    \n",
    "    if time_range == None:\n",
    "        dates = pd.to_datetime(pd.date_range(datetime(year,1,1),datetime(year,12,31), freq='1D'))\n",
    "    else:\n",
    "        dates = pd.to_datetime(pd.date_range(time_range.start, time_range.stop, freq='1D'))\n",
    "        \n",
    "    drift = icedrift.open_local_file(dates, crop = [200,300,110,200],include_units = False)\n",
    "    \n",
    "    \n",
    "    drift2 = {}\n",
    "    drift2['u'] = drift['u']\n",
    "    drift2['v'] = drift['v']\n",
    "    drift2['e'] = drift['e']\n",
    "    drift2['n'] = drift['n']\n",
    "    drift2['error'] = drift['error']\n",
    "    \n",
    "    drift2['s'] = np.sqrt(drift['e']**2+drift['n']**2)\n",
    "\n",
    "    return drift2\n",
    "\n"
   ]
  },
  {
   "cell_type": "code",
   "execution_count": null,
   "id": "a45fb829",
   "metadata": {},
   "outputs": [],
   "source": []
  },
  {
   "cell_type": "code",
   "execution_count": null,
   "id": "dae3657d",
   "metadata": {},
   "outputs": [],
   "source": []
  },
  {
   "cell_type": "markdown",
   "id": "d123020f",
   "metadata": {},
   "source": [
    "### Background fields (and regional data)"
   ]
  },
  {
   "cell_type": "code",
   "execution_count": null,
   "id": "ac5905f4",
   "metadata": {},
   "outputs": [],
   "source": []
  },
  {
   "cell_type": "code",
   "execution_count": 5,
   "id": "2df724d9",
   "metadata": {},
   "outputs": [
    {
     "data": {
      "text/plain": [
       "{'Cp_o': <Quantity(3850.0, 'joule / kilogram / delta_degree_Celsius')>,\n",
       " 'Cp_a': <Quantity(1004.0, 'joule / kilogram / delta_degree_Celsius')>,\n",
       " 'sigma_sb': <Quantity(5.670367e-08, 'watt / meter ** 2 / kelvin ** 4')>,\n",
       " 'rho_a': <Quantity(1.225, 'kilogram / meter ** 3')>,\n",
       " 'rho_o': <Quantity(1028.0, 'kilogram / meter ** 3')>,\n",
       " 'rho_i': <Quantity(917.0, 'kilogram / meter ** 3')>,\n",
       " 'L_i': <Quantity(334000.0, 'joule / kilogram')>,\n",
       " 'k_i': <Quantity(2.2, 'watt / meter / delta_degree_Celsius')>,\n",
       " 'kappa': <Quantity(0.4, 'dimensionless')>,\n",
       " 'St': <Quantity(0.0057, 'dimensionless')>,\n",
       " 'omega': <Quantity(7.2921e-05, 'radian / second')>}"
      ]
     },
     "execution_count": 5,
     "metadata": {},
     "output_type": "execute_result"
    }
   ],
   "source": [
    "# Save to file\n",
    "df = pd.read_csv('../data/constants.csv')\n",
    "df = df.set_index('var')\n",
    "df\n",
    "\n",
    "cst = {}\n",
    "for variable in list(df.index):\n",
    "    cst[variable] = df.loc[variable]['value'] * units(df.loc[variable]['units'])\n",
    "    \n",
    "cst"
   ]
  },
  {
   "cell_type": "markdown",
   "id": "ac183b27",
   "metadata": {},
   "source": [
    "## Reference grids"
   ]
  },
  {
   "cell_type": "code",
   "execution_count": 6,
   "id": "3dc918dd",
   "metadata": {},
   "outputs": [
    {
     "name": "stdout",
     "output_type": "stream",
     "text": [
      "era\n",
      "ppd\n"
     ]
    }
   ],
   "source": [
    "grids = {}\n",
    "\n",
    "# ERA5\n",
    "#-----\n",
    "era_lat_range = slice(74,68)\n",
    "era_lon_range = slice(-165,-125)\n",
    "ds = xr.open_dataset(f'/Volumes/Jewell_EasyStore/ECMWF/annual/daily/ERA5_2024_daily.nc')\n",
    "ds.close()\n",
    "ds = ds.sel(latitude = era_lat_range, longitude = era_lon_range)\n",
    "longrid, latgrid = np.meshgrid(ds.longitude, ds.latitude)\n",
    "\n",
    "grids['era'] = {}\n",
    "grids['era']['lat'] = latgrid\n",
    "grids['era']['lon'] = longrid\n",
    "\n",
    "\n",
    "# PPD drift\n",
    "#----------\n",
    "drift = icedrift.open_local_file(datetime(2023,1,1), crop = [200,300,110,200],include_units = False)\n",
    "drift['lon'][drift['lon']>180]-=360\n",
    "grids['ppd'] = {}\n",
    "grids['ppd']['lat'] = drift['lat']\n",
    "grids['ppd']['lon'] = drift['lon']\n",
    "grids['ppd']['xx'] = drift['xx']\n",
    "grids['ppd']['yy'] = drift['yy']\n",
    "\n",
    "\n",
    "# open regional bounding coordinates\n",
    "df = pd.read_csv('../data/coastal_region_bounds_v7.csv')\n",
    "reg_poly = geoshape.make_polygon(np.stack((df['lons'], df['lats']), axis=1))\n",
    "\n",
    "\n",
    "from shapely.geometry import Point\n",
    "\n",
    "for key in grids.keys():\n",
    "    print(key)\n",
    "    \n",
    "    grids[key]['region'] = np.full(grids[key]['lon'].shape, False)\n",
    "\n",
    "    for ii in range(np.shape(grids[key]['region'])[0]):\n",
    "        for jj in range(np.shape(grids[key]['region'])[1]):\n",
    "\n",
    "            lon, lat = grids[key]['lon'][ii,jj], grids[key]['lat'][ii,jj]\n",
    "            if lon > 180:\n",
    "                lon-=360\n",
    "\n",
    "            if reg_poly.contains(Point(lon, lat)):\n",
    "                grids[key]['region'][ii,jj] = True\n",
    "                "
   ]
  },
  {
   "cell_type": "code",
   "execution_count": 7,
   "id": "f676b399",
   "metadata": {},
   "outputs": [
    {
     "data": {
      "image/png": "[encoded data removed]",
      "text/plain": [
       "<Figure size 800x600 with 1 Axes>"
      ]
     },
     "metadata": {},
     "output_type": "display_data"
    }
   ],
   "source": [
    "\n",
    "# initialize map\n",
    "map_proj = ccrs.NorthPolarStereo(central_longitude=-150)\n",
    "fig, ax = plt.subplots(subplot_kw=dict(projection=map_proj), figsize=(8,6))\n",
    "ax.set_ylim(-2500000,-1500000)\n",
    "ax.set_xlim(-800000,1000000)\n",
    "ax.set_facecolor('lightgray')\n",
    "geomap.land(ax, scale = '10m', color='darkgray', alpha=1, fill_dateline_gap = False, zorder=2)\n",
    "\n",
    "\n",
    "ax.add_geometries([reg_poly], edgecolor='k', facecolor='None', crs=ccrs.PlateCarree())\n",
    "\n",
    "\n",
    "for key in ['era', 'ppd']:\n",
    "    ax.scatter(grids[key]['lon'][grids[key]['region']], grids[key]['lat'][grids[key]['region']], zorder=100, s = 10, transform=ccrs.PlateCarree())\n"
   ]
  },
  {
   "cell_type": "code",
   "execution_count": 25,
   "id": "457dff56",
   "metadata": {},
   "outputs": [],
   "source": []
  },
  {
   "cell_type": "markdown",
   "id": "c3338400",
   "metadata": {},
   "source": [
    "## Hourly regional atm. forcing"
   ]
  },
  {
   "cell_type": "code",
   "execution_count": 10,
   "id": "43dd0f0a",
   "metadata": {
    "scrolled": false
   },
   "outputs": [
    {
     "name": "stdout",
     "output_type": "stream",
     "text": [
      "0 2016-11-01T00:00:00.000000000\n",
      "500 2016-11-21T20:00:00.000000000\n",
      "1000 2016-12-12T16:00:00.000000000\n",
      "0 2017-01-01T00:00:00.000000000\n",
      "1000 2017-02-11T16:00:00.000000000\n",
      "2000 2017-03-25T08:00:00.000000000\n",
      "3000 2017-05-06T00:00:00.000000000\n"
     ]
    }
   ],
   "source": [
    "\n",
    "\n",
    "# years = np.arange(2003, 2026)\n",
    "# years = [2023,2024,2025]\n",
    "# years = [2019,2020,2021,2022,2023,2024,2025]\n",
    "years = [2017]\n",
    "\n",
    "\n",
    "for year in years:\n",
    "    \n",
    "    era_vars = ['u10', 'v10', 'msl', 't2m', 'd2m']\n",
    "\n",
    "    hourly_data = {}\n",
    "    for var in era_vars:\n",
    "        hourly_data[var] = np.array([])\n",
    "\n",
    "    all_dates = np.array([], dtype=np.datetime64)\n",
    "\n",
    "    # Nov-Dec data\n",
    "    #-------------\n",
    "    dates = pd.date_range(datetime(year-1, 11,1), datetime(year-1, 12,31, 23), freq='1H')\n",
    "    all_dates = np.append(all_dates, dates)\n",
    "    ds = open_hourly_winds(year-1, era_lat_range, era_lon_range, time_range = slice(dates[0], dates[-1]))\n",
    "    \n",
    "    if 't2m' in era_vars:\n",
    "        dst = open_hourly_t2m(year-1, era_lat_range, era_lon_range, time_range = slice(dates[0], dates[-1]))\n",
    "\n",
    "    # loop over each hour\n",
    "    for tt, time in enumerate(ds.time):\n",
    "\n",
    "        if tt%500 == 0:\n",
    "            print(tt, time.values)\n",
    "        ds_crop = ds.sel(time = time)\n",
    "        \n",
    "        if 't2m' in era_vars:\n",
    "            dst_crop = dst.sel(time = time)\n",
    "\n",
    "        # find regional means\n",
    "        for var in era_vars:\n",
    "            if var in ['t2m', 'd2m']:\n",
    "                reg_mean = geogen.lat_weighted_mean(dst_crop[var].values[grids['era']['region']], \n",
    "                                        grids['era']['lat'][grids['era']['region']])\n",
    "            else:    \n",
    "                reg_mean = geogen.lat_weighted_mean(ds_crop[var].values[grids['era']['region']], \n",
    "                                            grids['era']['lat'][grids['era']['region']])\n",
    "            hourly_data[var] = np.append(hourly_data[var], reg_mean)\n",
    "\n",
    "    # Jan-June data\n",
    "    #-------------\n",
    "    dates = pd.date_range(datetime(year, 1,1), datetime(year, 5,15, 23), freq='1H')\n",
    "    all_dates = np.append(all_dates, dates)\n",
    "    ds = open_hourly_winds(year, era_lat_range, era_lon_range, time_range = slice(dates[0], dates[-1]))\n",
    "\n",
    "    if 't2m' in era_vars:\n",
    "        dst = open_hourly_t2m(year, era_lat_range, era_lon_range, time_range = slice(dates[0], dates[-1]))\n",
    "\n",
    "        \n",
    "    # loop over each hour\n",
    "    for tt, time in enumerate(ds.time):\n",
    "\n",
    "        if tt%1000 == 0:\n",
    "            print(tt, time.values)\n",
    "        ds_crop = ds.sel(time = time)\n",
    "        \n",
    "        if 't2m' in era_vars:\n",
    "            dst_crop = dst.sel(time = time)\n",
    "\n",
    "        # find regional means\n",
    "        for var in era_vars:\n",
    "            if var in ['t2m', 'd2m']:\n",
    "                reg_mean = geogen.lat_weighted_mean(dst_crop[var].values[grids['era']['region']], \n",
    "                                        grids['era']['lat'][grids['era']['region']])\n",
    "            else:    \n",
    "                reg_mean = geogen.lat_weighted_mean(ds_crop[var].values[grids['era']['region']], \n",
    "                                        grids['era']['lat'][grids['era']['region']])\n",
    "            hourly_data[var] = np.append(hourly_data[var], reg_mean)\n",
    "            \n",
    "            \n",
    "    key = 'era'\n",
    "    data_vars = {}\n",
    "    for var in era_vars:\n",
    "        extra_nans = np.full(len(all_dates) - len(hourly_data[var]), np.nan)\n",
    "        data_vars[var] = ((\"time\"), np.append(hourly_data[var], extra_nans))\n",
    "#         data_vars[var] = ((\"time\"), hourly_data[var])\n",
    "\n",
    "    coords={\"time\": all_dates}\n",
    "\n",
    "    ds = xr.Dataset(data_vars, coords=coords)\n",
    "\n",
    "    # save to file\n",
    "    mainpath = '../data/forcing/'\n",
    "    filename = f\"regional_hourly_era_{year}_v7_witht2m.nc\"\n",
    "    ds.to_netcdf(mainpath+filename)"
   ]
  },
  {
   "cell_type": "markdown",
   "id": "100fcf51",
   "metadata": {},
   "source": [
    "## Daily wind forcing"
   ]
  },
  {
   "cell_type": "markdown",
   "id": "34b7c3ff",
   "metadata": {},
   "source": [
    "### 2025 is weird"
   ]
  },
  {
   "cell_type": "code",
   "execution_count": 8,
   "id": "b01d6824",
   "metadata": {},
   "outputs": [
    {
     "name": "stdout",
     "output_type": "stream",
     "text": [
      "0 2024-11-01T00:00:00.000000000\n",
      "0 2024-11-01T00:00:00.000000000\n",
      "0 2024-11-01T00:00:00.000000000\n",
      "0 2024-11-01T00:00:00.000000000\n",
      "0 2025-01-01T00:00:00.000000000\n",
      "0 2025-01-01T00:00:00.000000000\n",
      "0 2025-01-01T00:00:00.000000000\n",
      "0 2025-01-01T00:00:00.000000000\n"
     ]
    }
   ],
   "source": [
    "for year in [2025]:\n",
    "    \n",
    "    era_vars = ['u10', 'v10', 's10', 'msl', 't2m',]\n",
    "\n",
    "    daily_data = {}\n",
    "    for var in era_vars:\n",
    "        daily_data[var] = np.array([])\n",
    "\n",
    "    all_dates = np.array([], dtype=np.datetime64)\n",
    "\n",
    "    # U \n",
    "    for var, file in zip( ['u10', 'v10', 'msl'], ['u10',  'v10','msl']):\n",
    "\n",
    "        filename = f'/Volumes/Jewell_EasyStore/ECMWF/annual/daily/ERA5_{year-1}_daily_{var}.nc'\n",
    "        dsu = xr.open_dataset(filename)\n",
    "        dates = pd.date_range(datetime(year-1, 11,1), datetime(year-1, 12,31, 23), freq='1D')\n",
    "        crop_u = dsu.sel(latitude = era_lat_range, longitude = era_lon_range, valid_time = slice(dates[0], dates[-1]))\n",
    "\n",
    "        for tt, time in enumerate(crop_u.valid_time):\n",
    "            if tt%1000 == 0:\n",
    "                print(tt, time.values)\n",
    "            ds_crop = crop_u.sel(valid_time = time)\n",
    "            reg_mean = geogen.lat_weighted_mean(ds_crop[var].values[grids['era']['region']], \n",
    "                                                    grids['era']['lat'][grids['era']['region']])\n",
    "\n",
    "            daily_data[var] = np.append(daily_data[var], reg_mean)\n",
    "            \n",
    "            \n",
    "    for var in ['t2m']:\n",
    "\n",
    "        filename = f'/Volumes/Seagate_Jewell/KenzieStuff/ERA5/daily_t2m/ERA5_T2m_daily_{year-1}.nc'\n",
    "        dsu = xr.open_dataset(filename)\n",
    "        dates = pd.date_range(datetime(year-1, 11,1), datetime(year-1, 12,31, 23), freq='1D')\n",
    "        crop_u = dsu.sel(latitude = era_lat_range, longitude = era_lon_range, valid_time = slice(dates[0], dates[-1]))\n",
    "\n",
    "        for tt, time in enumerate(crop_u.valid_time):\n",
    "            if tt%1000 == 0:\n",
    "                print(tt, time.values)\n",
    "            ds_crop = crop_u.sel(valid_time = time)\n",
    "            reg_mean = geogen.lat_weighted_mean(ds_crop[var].values[grids['era']['region']], \n",
    "                                                    grids['era']['lat'][grids['era']['region']])\n",
    "\n",
    "            daily_data[var] = np.append(daily_data[var], reg_mean)\n",
    "            \n",
    "            \n",
    "    all_dates = np.append(all_dates, dates)\n",
    "            \n",
    "#         daily_data[var] = np.append(daily_data[var], np.full(len(dates)-len(daily_data[var]), np.nan))\n",
    "        \n",
    "    for var, file in zip( ['u10', 'v10', 'msl'], ['u10',  'v10','msl']):\n",
    "\n",
    "        filename = f'/Volumes/Jewell_EasyStore/ECMWF/annual/daily/ERA5_{year}_daily_{var}.nc'\n",
    "        dsu = xr.open_dataset(filename)\n",
    "        dates = pd.date_range(datetime(year, 1,1), datetime(year, 4,30, 23), freq='1D')\n",
    "        crop_u = dsu.sel(latitude = era_lat_range, longitude = era_lon_range, valid_time = slice(dates[0], dates[-1]))\n",
    "\n",
    "        for tt, time in enumerate(crop_u.valid_time):\n",
    "            if tt%1000 == 0:\n",
    "                print(tt, time.values)\n",
    "            ds_crop = crop_u.sel(valid_time = time)\n",
    "            reg_mean = geogen.lat_weighted_mean(ds_crop[var].values[grids['era']['region']], \n",
    "                                                    grids['era']['lat'][grids['era']['region']])\n",
    "\n",
    "            daily_data[var] = np.append(daily_data[var], reg_mean)\n",
    "            \n",
    "#         daily_data[var] = np.append(daily_data[var], np.full(len(dates)-len(crop_u.valid_time), np.nan))\n",
    "        \n",
    "        \n",
    "    for var in ['t2m']:\n",
    "\n",
    "        filename = f'/Volumes/Seagate_Jewell/KenzieStuff/ERA5/daily_t2m/ERA5_T2m_daily_{year}.nc'\n",
    "        dsu = xr.open_dataset(filename)\n",
    "        dates = pd.date_range(datetime(year, 1,1), datetime(year, 4,30, 23), freq='1D')\n",
    "        crop_u = dsu.sel(latitude = era_lat_range, longitude = era_lon_range, valid_time = slice(dates[0], dates[-1]))\n",
    "\n",
    "        for tt, time in enumerate(crop_u.valid_time):\n",
    "            if tt%1000 == 0:\n",
    "                print(tt, time.values)\n",
    "            ds_crop = crop_u.sel(valid_time = time)\n",
    "            reg_mean = geogen.lat_weighted_mean(ds_crop[var].values[grids['era']['region']], \n",
    "                                                    grids['era']['lat'][grids['era']['region']])\n",
    "\n",
    "            daily_data[var] = np.append(daily_data[var], reg_mean)\n",
    "            \n",
    "#         daily_data[var] = np.append(daily_data[var], np.full(len(dates)-len(crop_u.valid_time), np.nan))\n",
    "            \n",
    "    all_dates = np.append(all_dates, dates)"
   ]
  },
  {
   "cell_type": "code",
   "execution_count": 11,
   "id": "08b72da3",
   "metadata": {},
   "outputs": [
    {
     "data": {
      "text/plain": [
       "[<matplotlib.lines.Line2D at 0x13ad5cc20>]"
      ]
     },
     "execution_count": 11,
     "metadata": {},
     "output_type": "execute_result"
    },
    {
     "data": {
      "image/png": "[encoded data removed]",
      "text/plain": [
       "<Figure size 640x480 with 1 Axes>"
      ]
     },
     "metadata": {},
     "output_type": "display_data"
    }
   ],
   "source": [
    "plt.plot(all_dates, daily_data['t2m'])"
   ]
  },
  {
   "cell_type": "code",
   "execution_count": 12,
   "id": "15e30b7d",
   "metadata": {},
   "outputs": [],
   "source": [
    "daily_data['t2m'] = daily_data['t2m'] - 273.15"
   ]
  },
  {
   "cell_type": "code",
   "execution_count": 13,
   "id": "97e39cce",
   "metadata": {},
   "outputs": [],
   "source": [
    "key = 'era'\n",
    "data_vars = {}\n",
    "for var in era_vars:\n",
    "    extra_nans = np.full(len(all_dates) - len(daily_data[var]), np.nan)\n",
    "    data_vars[var] = ((\"time\"), np.append(daily_data[var], extra_nans))\n",
    "#         data_vars[var] = ((\"time\"), hourly_data[var])\n",
    "\n",
    "coords={\"time\": all_dates}\n",
    "\n",
    "ds = xr.Dataset(data_vars, coords=coords)\n",
    "\n",
    "# save to file\n",
    "mainpath = '../data/forcing/'\n",
    "filename = f\"regional_daily_era_{year}_v7_witht2m.nc\"\n",
    "ds.to_netcdf(mainpath+filename)"
   ]
  },
  {
   "cell_type": "code",
   "execution_count": 62,
   "id": "a487bbbb",
   "metadata": {},
   "outputs": [
    {
     "data": {
      "text/html": [
       "<div><svg style=\"position: absolute; width: 0; height: 0; overflow: hidden\">\n",
       "<defs>\n",
       "<symbol id=\"icon-database\" viewBox=\"0 0 32 32\">\n",
       "<path d=\"M16 0c-8.837 0-16 2.239-16 5v4c0 2.761 7.163 5 16 5s16-2.239 16-5v-4c0-2.761-7.163-5-16-5z\"></path>\n",
       "<path d=\"M16 17c-8.837 0-16-2.239-16-5v6c0 2.761 7.163 5 16 5s16-2.239 16-5v-6c0 2.761-7.163 5-16 5z\"></path>\n",
       "<path d=\"M16 26c-8.837 0-16-2.239-16-5v6c0 2.761 7.163 5 16 5s16-2.239 16-5v-6c0 2.761-7.163 5-16 5z\"></path>\n",
       "</symbol>\n",
       "<symbol id=\"icon-file-text2\" viewBox=\"0 0 32 32\">\n",
       "<path d=\"M28.681 7.159c-0.694-0.947-1.662-2.053-2.724-3.116s-2.169-2.030-3.116-2.724c-1.612-1.182-2.393-1.319-2.841-1.319h-15.5c-1.378 0-2.5 1.121-2.5 2.5v27c0 1.378 1.122 2.5 2.5 2.5h23c1.378 0 2.5-1.122 2.5-2.5v-19.5c0-0.448-0.137-1.23-1.319-2.841zM24.543 5.457c0.959 0.959 1.712 1.825 2.268 2.543h-4.811v-4.811c0.718 0.556 1.584 1.309 2.543 2.268zM28 29.5c0 0.271-0.229 0.5-0.5 0.5h-23c-0.271 0-0.5-0.229-0.5-0.5v-27c0-0.271 0.229-0.5 0.5-0.5 0 0 15.499-0 15.5 0v7c0 0.552 0.448 1 1 1h7v19.5z\"></path>\n",
       "<path d=\"M23 26h-14c-0.552 0-1-0.448-1-1s0.448-1 1-1h14c0.552 0 1 0.448 1 1s-0.448 1-1 1z\"></path>\n",
       "<path d=\"M23 22h-14c-0.552 0-1-0.448-1-1s0.448-1 1-1h14c0.552 0 1 0.448 1 1s-0.448 1-1 1z\"></path>\n",
       "<path d=\"M23 18h-14c-0.552 0-1-0.448-1-1s0.448-1 1-1h14c0.552 0 1 0.448 1 1s-0.448 1-1 1z\"></path>\n",
       "</symbol>\n",
       "</defs>\n",
       "</svg>\n",
       "<style>/* CSS stylesheet for displaying xarray objects in jupyterlab.\n",
       " *\n",
       " */\n",
       "\n",
       ":root {\n",
       "  --xr-font-color0: var(--jp-content-font-color0, rgba(0, 0, 0, 1));\n",
       "  --xr-font-color2: var(--jp-content-font-color2, rgba(0, 0, 0, 0.54));\n",
       "  --xr-font-color3: var(--jp-content-font-color3, rgba(0, 0, 0, 0.38));\n",
       "  --xr-border-color: var(--jp-border-color2, #e0e0e0);\n",
       "  --xr-disabled-color: var(--jp-layout-color3, #bdbdbd);\n",
       "  --xr-background-color: var(--jp-layout-color0, white);\n",
       "  --xr-background-color-row-even: var(--jp-layout-color1, white);\n",
       "  --xr-background-color-row-odd: var(--jp-layout-color2, #eeeeee);\n",
       "}\n",
       "\n",
       "html[theme=dark],\n",
       "body[data-theme=dark],\n",
       "body.vscode-dark {\n",
       "  --xr-font-color0: rgba(255, 255, 255, 1);\n",
       "  --xr-font-color2: rgba(255, 255, 255, 0.54);\n",
       "  --xr-font-color3: rgba(255, 255, 255, 0.38);\n",
       "  --xr-border-color: #1F1F1F;\n",
       "  --xr-disabled-color: #515151;\n",
       "  --xr-background-color: #111111;\n",
       "  --xr-background-color-row-even: #111111;\n",
       "  --xr-background-color-row-odd: #313131;\n",
       "}\n",
       "\n",
       ".xr-wrap {\n",
       "  display: block !important;\n",
       "  min-width: 300px;\n",
       "  max-width: 700px;\n",
       "}\n",
       "\n",
       ".xr-text-repr-fallback {\n",
       "  /* fallback to plain text repr when CSS is not injected (untrusted notebook) */\n",
       "  display: none;\n",
       "}\n",
       "\n",
       ".xr-header {\n",
       "  padding-top: 6px;\n",
       "  padding-bottom: 6px;\n",
       "  margin-bottom: 4px;\n",
       "  border-bottom: solid 1px var(--xr-border-color);\n",
       "}\n",
       "\n",
       ".xr-header > div,\n",
       ".xr-header > ul {\n",
       "  display: inline;\n",
       "  margin-top: 0;\n",
       "  margin-bottom: 0;\n",
       "}\n",
       "\n",
       ".xr-obj-type,\n",
       ".xr-array-name {\n",
       "  margin-left: 2px;\n",
       "  margin-right: 10px;\n",
       "}\n",
       "\n",
       ".xr-obj-type {\n",
       "  color: var(--xr-font-color2);\n",
       "}\n",
       "\n",
       ".xr-sections {\n",
       "  padding-left: 0 !important;\n",
       "  display: grid;\n",
       "  grid-template-columns: 150px auto auto 1fr 20px 20px;\n",
       "}\n",
       "\n",
       ".xr-section-item {\n",
       "  display: contents;\n",
       "}\n",
       "\n",
       ".xr-section-item input {\n",
       "  display: none;\n",
       "}\n",
       "\n",
       ".xr-section-item input + label {\n",
       "  color: var(--xr-disabled-color);\n",
       "}\n",
       "\n",
       ".xr-section-item input:enabled + label {\n",
       "  cursor: pointer;\n",
       "  color: var(--xr-font-color2);\n",
       "}\n",
       "\n",
       ".xr-section-item input:enabled + label:hover {\n",
       "  color: var(--xr-font-color0);\n",
       "}\n",
       "\n",
       ".xr-section-summary {\n",
       "  grid-column: 1;\n",
       "  color: var(--xr-font-color2);\n",
       "  font-weight: 500;\n",
       "}\n",
       "\n",
       ".xr-section-summary > span {\n",
       "  display: inline-block;\n",
       "  padding-left: 0.5em;\n",
       "}\n",
       "\n",
       ".xr-section-summary-in:disabled + label {\n",
       "  color: var(--xr-font-color2);\n",
       "}\n",
       "\n",
       ".xr-section-summary-in + label:before {\n",
       "  display: inline-block;\n",
       "  content: '►';\n",
       "  font-size: 11px;\n",
       "  width: 15px;\n",
       "  text-align: center;\n",
       "}\n",
       "\n",
       ".xr-section-summary-in:disabled + label:before {\n",
       "  color: var(--xr-disabled-color);\n",
       "}\n",
       "\n",
       ".xr-section-summary-in:checked + label:before {\n",
       "  content: '▼';\n",
       "}\n",
       "\n",
       ".xr-section-summary-in:checked + label > span {\n",
       "  display: none;\n",
       "}\n",
       "\n",
       ".xr-section-summary,\n",
       ".xr-section-inline-details {\n",
       "  padding-top: 4px;\n",
       "  padding-bottom: 4px;\n",
       "}\n",
       "\n",
       ".xr-section-inline-details {\n",
       "  grid-column: 2 / -1;\n",
       "}\n",
       "\n",
       ".xr-section-details {\n",
       "  display: none;\n",
       "  grid-column: 1 / -1;\n",
       "  margin-bottom: 5px;\n",
       "}\n",
       "\n",
       ".xr-section-summary-in:checked ~ .xr-section-details {\n",
       "  display: contents;\n",
       "}\n",
       "\n",
       ".xr-array-wrap {\n",
       "  grid-column: 1 / -1;\n",
       "  display: grid;\n",
       "  grid-template-columns: 20px auto;\n",
       "}\n",
       "\n",
       ".xr-array-wrap > label {\n",
       "  grid-column: 1;\n",
       "  vertical-align: top;\n",
       "}\n",
       "\n",
       ".xr-preview {\n",
       "  color: var(--xr-font-color3);\n",
       "}\n",
       "\n",
       ".xr-array-preview,\n",
       ".xr-array-data {\n",
       "  padding: 0 5px !important;\n",
       "  grid-column: 2;\n",
       "}\n",
       "\n",
       ".xr-array-data,\n",
       ".xr-array-in:checked ~ .xr-array-preview {\n",
       "  display: none;\n",
       "}\n",
       "\n",
       ".xr-array-in:checked ~ .xr-array-data,\n",
       ".xr-array-preview {\n",
       "  display: inline-block;\n",
       "}\n",
       "\n",
       ".xr-dim-list {\n",
       "  display: inline-block !important;\n",
       "  list-style: none;\n",
       "  padding: 0 !important;\n",
       "  margin: 0;\n",
       "}\n",
       "\n",
       ".xr-dim-list li {\n",
       "  display: inline-block;\n",
       "  padding: 0;\n",
       "  margin: 0;\n",
       "}\n",
       "\n",
       ".xr-dim-list:before {\n",
       "  content: '(';\n",
       "}\n",
       "\n",
       ".xr-dim-list:after {\n",
       "  content: ')';\n",
       "}\n",
       "\n",
       ".xr-dim-list li:not(:last-child):after {\n",
       "  content: ',';\n",
       "  padding-right: 5px;\n",
       "}\n",
       "\n",
       ".xr-has-index {\n",
       "  font-weight: bold;\n",
       "}\n",
       "\n",
       ".xr-var-list,\n",
       ".xr-var-item {\n",
       "  display: contents;\n",
       "}\n",
       "\n",
       ".xr-var-item > div,\n",
       ".xr-var-item label,\n",
       ".xr-var-item > .xr-var-name span {\n",
       "  background-color: var(--xr-background-color-row-even);\n",
       "  margin-bottom: 0;\n",
       "}\n",
       "\n",
       ".xr-var-item > .xr-var-name:hover span {\n",
       "  padding-right: 5px;\n",
       "}\n",
       "\n",
       ".xr-var-list > li:nth-child(odd) > div,\n",
       ".xr-var-list > li:nth-child(odd) > label,\n",
       ".xr-var-list > li:nth-child(odd) > .xr-var-name span {\n",
       "  background-color: var(--xr-background-color-row-odd);\n",
       "}\n",
       "\n",
       ".xr-var-name {\n",
       "  grid-column: 1;\n",
       "}\n",
       "\n",
       ".xr-var-dims {\n",
       "  grid-column: 2;\n",
       "}\n",
       "\n",
       ".xr-var-dtype {\n",
       "  grid-column: 3;\n",
       "  text-align: right;\n",
       "  color: var(--xr-font-color2);\n",
       "}\n",
       "\n",
       ".xr-var-preview {\n",
       "  grid-column: 4;\n",
       "}\n",
       "\n",
       ".xr-index-preview {\n",
       "  grid-column: 2 / 5;\n",
       "  color: var(--xr-font-color2);\n",
       "}\n",
       "\n",
       ".xr-var-name,\n",
       ".xr-var-dims,\n",
       ".xr-var-dtype,\n",
       ".xr-preview,\n",
       ".xr-attrs dt {\n",
       "  white-space: nowrap;\n",
       "  overflow: hidden;\n",
       "  text-overflow: ellipsis;\n",
       "  padding-right: 10px;\n",
       "}\n",
       "\n",
       ".xr-var-name:hover,\n",
       ".xr-var-dims:hover,\n",
       ".xr-var-dtype:hover,\n",
       ".xr-attrs dt:hover {\n",
       "  overflow: visible;\n",
       "  width: auto;\n",
       "  z-index: 1;\n",
       "}\n",
       "\n",
       ".xr-var-attrs,\n",
       ".xr-var-data,\n",
       ".xr-index-data {\n",
       "  display: none;\n",
       "  background-color: var(--xr-background-color) !important;\n",
       "  padding-bottom: 5px !important;\n",
       "}\n",
       "\n",
       ".xr-var-attrs-in:checked ~ .xr-var-attrs,\n",
       ".xr-var-data-in:checked ~ .xr-var-data,\n",
       ".xr-index-data-in:checked ~ .xr-index-data {\n",
       "  display: block;\n",
       "}\n",
       "\n",
       ".xr-var-data > table {\n",
       "  float: right;\n",
       "}\n",
       "\n",
       ".xr-var-name span,\n",
       ".xr-var-data,\n",
       ".xr-index-name div,\n",
       ".xr-index-data,\n",
       ".xr-attrs {\n",
       "  padding-left: 25px !important;\n",
       "}\n",
       "\n",
       ".xr-attrs,\n",
       ".xr-var-attrs,\n",
       ".xr-var-data,\n",
       ".xr-index-data {\n",
       "  grid-column: 1 / -1;\n",
       "}\n",
       "\n",
       "dl.xr-attrs {\n",
       "  padding: 0;\n",
       "  margin: 0;\n",
       "  display: grid;\n",
       "  grid-template-columns: 125px auto;\n",
       "}\n",
       "\n",
       ".xr-attrs dt,\n",
       ".xr-attrs dd {\n",
       "  padding: 0;\n",
       "  margin: 0;\n",
       "  float: left;\n",
       "  padding-right: 10px;\n",
       "  width: auto;\n",
       "}\n",
       "\n",
       ".xr-attrs dt {\n",
       "  font-weight: normal;\n",
       "  grid-column: 1;\n",
       "}\n",
       "\n",
       ".xr-attrs dt:hover span {\n",
       "  display: inline-block;\n",
       "  background: var(--xr-background-color);\n",
       "  padding-right: 10px;\n",
       "}\n",
       "\n",
       ".xr-attrs dd {\n",
       "  grid-column: 2;\n",
       "  white-space: pre-wrap;\n",
       "  word-break: break-all;\n",
       "}\n",
       "\n",
       ".xr-icon-database,\n",
       ".xr-icon-file-text2,\n",
       ".xr-no-icon {\n",
       "  display: inline-block;\n",
       "  vertical-align: middle;\n",
       "  width: 1em;\n",
       "  height: 1.5em !important;\n",
       "  stroke-width: 0;\n",
       "  stroke: currentColor;\n",
       "  fill: currentColor;\n",
       "}\n",
       "</style><pre class='xr-text-repr-fallback'>&lt;xarray.Dataset&gt;\n",
       "Dimensions:  (time: 181)\n",
       "Coordinates:\n",
       "  * time     (time) datetime64[ns] 2024-11-01 2024-11-02 ... 2025-04-30\n",
       "Data variables:\n",
       "    u10      (time) float64 ...\n",
       "    v10      (time) float64 ...\n",
       "    s10      (time) float64 ...\n",
       "    msl      (time) float64 ...\n",
       "    t2m      (time) float64 ...</pre><div class='xr-wrap' style='display:none'><div class='xr-header'><div class='xr-obj-type'>xarray.Dataset</div></div><ul class='xr-sections'><li class='xr-section-item'><input id='section-040d2a23-69d9-4946-ba64-4a5d11b9c5b7' class='xr-section-summary-in' type='checkbox' disabled ><label for='section-040d2a23-69d9-4946-ba64-4a5d11b9c5b7' class='xr-section-summary'  title='Expand/collapse section'>Dimensions:</label><div class='xr-section-inline-details'><ul class='xr-dim-list'><li><span class='xr-has-index'>time</span>: 181</li></ul></div><div class='xr-section-details'></div></li><li class='xr-section-item'><input id='section-1437a16a-6cbe-42e1-936f-60a02d24eba5' class='xr-section-summary-in' type='checkbox'  checked><label for='section-1437a16a-6cbe-42e1-936f-60a02d24eba5' class='xr-section-summary' >Coordinates: <span>(1)</span></label><div class='xr-section-inline-details'></div><div class='xr-section-details'><ul class='xr-var-list'><li class='xr-var-item'><div class='xr-var-name'><span class='xr-has-index'>time</span></div><div class='xr-var-dims'>(time)</div><div class='xr-var-dtype'>datetime64[ns]</div><div class='xr-var-preview xr-preview'>2024-11-01 ... 2025-04-30</div><input id='attrs-eec54b92-acf6-43ab-9f1d-0e9383c13a95' class='xr-var-attrs-in' type='checkbox' disabled><label for='attrs-eec54b92-acf6-43ab-9f1d-0e9383c13a95' title='Show/Hide attributes'><svg class='icon xr-icon-file-text2'><use xlink:href='#icon-file-text2'></use></svg></label><input id='data-254bfcdd-eb7c-4162-b636-fe978e35e6b7' class='xr-var-data-in' type='checkbox'><label for='data-254bfcdd-eb7c-4162-b636-fe978e35e6b7' title='Show/Hide data repr'><svg class='icon xr-icon-database'><use xlink:href='#icon-database'></use></svg></label><div class='xr-var-attrs'><dl class='xr-attrs'></dl></div><div class='xr-var-data'><pre>array([&#x27;2024-11-01T00:00:00.000000000&#x27;, &#x27;2024-11-02T00:00:00.000000000&#x27;,\n",
       "       &#x27;2024-11-03T00:00:00.000000000&#x27;, &#x27;2024-11-04T00:00:00.000000000&#x27;,\n",
       "       &#x27;2024-11-05T00:00:00.000000000&#x27;, &#x27;2024-11-06T00:00:00.000000000&#x27;,\n",
       "       &#x27;2024-11-07T00:00:00.000000000&#x27;, &#x27;2024-11-08T00:00:00.000000000&#x27;,\n",
       "       &#x27;2024-11-09T00:00:00.000000000&#x27;, &#x27;2024-11-10T00:00:00.000000000&#x27;,\n",
       "       &#x27;2024-11-11T00:00:00.000000000&#x27;, &#x27;2024-11-12T00:00:00.000000000&#x27;,\n",
       "       &#x27;2024-11-13T00:00:00.000000000&#x27;, &#x27;2024-11-14T00:00:00.000000000&#x27;,\n",
       "       &#x27;2024-11-15T00:00:00.000000000&#x27;, &#x27;2024-11-16T00:00:00.000000000&#x27;,\n",
       "       &#x27;2024-11-17T00:00:00.000000000&#x27;, &#x27;2024-11-18T00:00:00.000000000&#x27;,\n",
       "       &#x27;2024-11-19T00:00:00.000000000&#x27;, &#x27;2024-11-20T00:00:00.000000000&#x27;,\n",
       "       &#x27;2024-11-21T00:00:00.000000000&#x27;, &#x27;2024-11-22T00:00:00.000000000&#x27;,\n",
       "       &#x27;2024-11-23T00:00:00.000000000&#x27;, &#x27;2024-11-24T00:00:00.000000000&#x27;,\n",
       "       &#x27;2024-11-25T00:00:00.000000000&#x27;, &#x27;2024-11-26T00:00:00.000000000&#x27;,\n",
       "       &#x27;2024-11-27T00:00:00.000000000&#x27;, &#x27;2024-11-28T00:00:00.000000000&#x27;,\n",
       "       &#x27;2024-11-29T00:00:00.000000000&#x27;, &#x27;2024-11-30T00:00:00.000000000&#x27;,\n",
       "       &#x27;2024-12-01T00:00:00.000000000&#x27;, &#x27;2024-12-02T00:00:00.000000000&#x27;,\n",
       "       &#x27;2024-12-03T00:00:00.000000000&#x27;, &#x27;2024-12-04T00:00:00.000000000&#x27;,\n",
       "       &#x27;2024-12-05T00:00:00.000000000&#x27;, &#x27;2024-12-06T00:00:00.000000000&#x27;,\n",
       "       &#x27;2024-12-07T00:00:00.000000000&#x27;, &#x27;2024-12-08T00:00:00.000000000&#x27;,\n",
       "       &#x27;2024-12-09T00:00:00.000000000&#x27;, &#x27;2024-12-10T00:00:00.000000000&#x27;,\n",
       "       &#x27;2024-12-11T00:00:00.000000000&#x27;, &#x27;2024-12-12T00:00:00.000000000&#x27;,\n",
       "       &#x27;2024-12-13T00:00:00.000000000&#x27;, &#x27;2024-12-14T00:00:00.000000000&#x27;,\n",
       "       &#x27;2024-12-15T00:00:00.000000000&#x27;, &#x27;2024-12-16T00:00:00.000000000&#x27;,\n",
       "       &#x27;2024-12-17T00:00:00.000000000&#x27;, &#x27;2024-12-18T00:00:00.000000000&#x27;,\n",
       "       &#x27;2024-12-19T00:00:00.000000000&#x27;, &#x27;2024-12-20T00:00:00.000000000&#x27;,\n",
       "       &#x27;2024-12-21T00:00:00.000000000&#x27;, &#x27;2024-12-22T00:00:00.000000000&#x27;,\n",
       "       &#x27;2024-12-23T00:00:00.000000000&#x27;, &#x27;2024-12-24T00:00:00.000000000&#x27;,\n",
       "       &#x27;2024-12-25T00:00:00.000000000&#x27;, &#x27;2024-12-26T00:00:00.000000000&#x27;,\n",
       "       &#x27;2024-12-27T00:00:00.000000000&#x27;, &#x27;2024-12-28T00:00:00.000000000&#x27;,\n",
       "       &#x27;2024-12-29T00:00:00.000000000&#x27;, &#x27;2024-12-30T00:00:00.000000000&#x27;,\n",
       "       &#x27;2024-12-31T00:00:00.000000000&#x27;, &#x27;2025-01-01T00:00:00.000000000&#x27;,\n",
       "       &#x27;2025-01-02T00:00:00.000000000&#x27;, &#x27;2025-01-03T00:00:00.000000000&#x27;,\n",
       "       &#x27;2025-01-04T00:00:00.000000000&#x27;, &#x27;2025-01-05T00:00:00.000000000&#x27;,\n",
       "       &#x27;2025-01-06T00:00:00.000000000&#x27;, &#x27;2025-01-07T00:00:00.000000000&#x27;,\n",
       "       &#x27;2025-01-08T00:00:00.000000000&#x27;, &#x27;2025-01-09T00:00:00.000000000&#x27;,\n",
       "       &#x27;2025-01-10T00:00:00.000000000&#x27;, &#x27;2025-01-11T00:00:00.000000000&#x27;,\n",
       "       &#x27;2025-01-12T00:00:00.000000000&#x27;, &#x27;2025-01-13T00:00:00.000000000&#x27;,\n",
       "       &#x27;2025-01-14T00:00:00.000000000&#x27;, &#x27;2025-01-15T00:00:00.000000000&#x27;,\n",
       "       &#x27;2025-01-16T00:00:00.000000000&#x27;, &#x27;2025-01-17T00:00:00.000000000&#x27;,\n",
       "       &#x27;2025-01-18T00:00:00.000000000&#x27;, &#x27;2025-01-19T00:00:00.000000000&#x27;,\n",
       "       &#x27;2025-01-20T00:00:00.000000000&#x27;, &#x27;2025-01-21T00:00:00.000000000&#x27;,\n",
       "       &#x27;2025-01-22T00:00:00.000000000&#x27;, &#x27;2025-01-23T00:00:00.000000000&#x27;,\n",
       "       &#x27;2025-01-24T00:00:00.000000000&#x27;, &#x27;2025-01-25T00:00:00.000000000&#x27;,\n",
       "       &#x27;2025-01-26T00:00:00.000000000&#x27;, &#x27;2025-01-27T00:00:00.000000000&#x27;,\n",
       "       &#x27;2025-01-28T00:00:00.000000000&#x27;, &#x27;2025-01-29T00:00:00.000000000&#x27;,\n",
       "       &#x27;2025-01-30T00:00:00.000000000&#x27;, &#x27;2025-01-31T00:00:00.000000000&#x27;,\n",
       "       &#x27;2025-02-01T00:00:00.000000000&#x27;, &#x27;2025-02-02T00:00:00.000000000&#x27;,\n",
       "       &#x27;2025-02-03T00:00:00.000000000&#x27;, &#x27;2025-02-04T00:00:00.000000000&#x27;,\n",
       "       &#x27;2025-02-05T00:00:00.000000000&#x27;, &#x27;2025-02-06T00:00:00.000000000&#x27;,\n",
       "       &#x27;2025-02-07T00:00:00.000000000&#x27;, &#x27;2025-02-08T00:00:00.000000000&#x27;,\n",
       "       &#x27;2025-02-09T00:00:00.000000000&#x27;, &#x27;2025-02-10T00:00:00.000000000&#x27;,\n",
       "       &#x27;2025-02-11T00:00:00.000000000&#x27;, &#x27;2025-02-12T00:00:00.000000000&#x27;,\n",
       "       &#x27;2025-02-13T00:00:00.000000000&#x27;, &#x27;2025-02-14T00:00:00.000000000&#x27;,\n",
       "       &#x27;2025-02-15T00:00:00.000000000&#x27;, &#x27;2025-02-16T00:00:00.000000000&#x27;,\n",
       "       &#x27;2025-02-17T00:00:00.000000000&#x27;, &#x27;2025-02-18T00:00:00.000000000&#x27;,\n",
       "       &#x27;2025-02-19T00:00:00.000000000&#x27;, &#x27;2025-02-20T00:00:00.000000000&#x27;,\n",
       "       &#x27;2025-02-21T00:00:00.000000000&#x27;, &#x27;2025-02-22T00:00:00.000000000&#x27;,\n",
       "       &#x27;2025-02-23T00:00:00.000000000&#x27;, &#x27;2025-02-24T00:00:00.000000000&#x27;,\n",
       "       &#x27;2025-02-25T00:00:00.000000000&#x27;, &#x27;2025-02-26T00:00:00.000000000&#x27;,\n",
       "       &#x27;2025-02-27T00:00:00.000000000&#x27;, &#x27;2025-02-28T00:00:00.000000000&#x27;,\n",
       "       &#x27;2025-03-01T00:00:00.000000000&#x27;, &#x27;2025-03-02T00:00:00.000000000&#x27;,\n",
       "       &#x27;2025-03-03T00:00:00.000000000&#x27;, &#x27;2025-03-04T00:00:00.000000000&#x27;,\n",
       "       &#x27;2025-03-05T00:00:00.000000000&#x27;, &#x27;2025-03-06T00:00:00.000000000&#x27;,\n",
       "       &#x27;2025-03-07T00:00:00.000000000&#x27;, &#x27;2025-03-08T00:00:00.000000000&#x27;,\n",
       "       &#x27;2025-03-09T00:00:00.000000000&#x27;, &#x27;2025-03-10T00:00:00.000000000&#x27;,\n",
       "       &#x27;2025-03-11T00:00:00.000000000&#x27;, &#x27;2025-03-12T00:00:00.000000000&#x27;,\n",
       "       &#x27;2025-03-13T00:00:00.000000000&#x27;, &#x27;2025-03-14T00:00:00.000000000&#x27;,\n",
       "       &#x27;2025-03-15T00:00:00.000000000&#x27;, &#x27;2025-03-16T00:00:00.000000000&#x27;,\n",
       "       &#x27;2025-03-17T00:00:00.000000000&#x27;, &#x27;2025-03-18T00:00:00.000000000&#x27;,\n",
       "       &#x27;2025-03-19T00:00:00.000000000&#x27;, &#x27;2025-03-20T00:00:00.000000000&#x27;,\n",
       "       &#x27;2025-03-21T00:00:00.000000000&#x27;, &#x27;2025-03-22T00:00:00.000000000&#x27;,\n",
       "       &#x27;2025-03-23T00:00:00.000000000&#x27;, &#x27;2025-03-24T00:00:00.000000000&#x27;,\n",
       "       &#x27;2025-03-25T00:00:00.000000000&#x27;, &#x27;2025-03-26T00:00:00.000000000&#x27;,\n",
       "       &#x27;2025-03-27T00:00:00.000000000&#x27;, &#x27;2025-03-28T00:00:00.000000000&#x27;,\n",
       "       &#x27;2025-03-29T00:00:00.000000000&#x27;, &#x27;2025-03-30T00:00:00.000000000&#x27;,\n",
       "       &#x27;2025-03-31T00:00:00.000000000&#x27;, &#x27;2025-04-01T00:00:00.000000000&#x27;,\n",
       "       &#x27;2025-04-02T00:00:00.000000000&#x27;, &#x27;2025-04-03T00:00:00.000000000&#x27;,\n",
       "       &#x27;2025-04-04T00:00:00.000000000&#x27;, &#x27;2025-04-05T00:00:00.000000000&#x27;,\n",
       "       &#x27;2025-04-06T00:00:00.000000000&#x27;, &#x27;2025-04-07T00:00:00.000000000&#x27;,\n",
       "       &#x27;2025-04-08T00:00:00.000000000&#x27;, &#x27;2025-04-09T00:00:00.000000000&#x27;,\n",
       "       &#x27;2025-04-10T00:00:00.000000000&#x27;, &#x27;2025-04-11T00:00:00.000000000&#x27;,\n",
       "       &#x27;2025-04-12T00:00:00.000000000&#x27;, &#x27;2025-04-13T00:00:00.000000000&#x27;,\n",
       "       &#x27;2025-04-14T00:00:00.000000000&#x27;, &#x27;2025-04-15T00:00:00.000000000&#x27;,\n",
       "       &#x27;2025-04-16T00:00:00.000000000&#x27;, &#x27;2025-04-17T00:00:00.000000000&#x27;,\n",
       "       &#x27;2025-04-18T00:00:00.000000000&#x27;, &#x27;2025-04-19T00:00:00.000000000&#x27;,\n",
       "       &#x27;2025-04-20T00:00:00.000000000&#x27;, &#x27;2025-04-21T00:00:00.000000000&#x27;,\n",
       "       &#x27;2025-04-22T00:00:00.000000000&#x27;, &#x27;2025-04-23T00:00:00.000000000&#x27;,\n",
       "       &#x27;2025-04-24T00:00:00.000000000&#x27;, &#x27;2025-04-25T00:00:00.000000000&#x27;,\n",
       "       &#x27;2025-04-26T00:00:00.000000000&#x27;, &#x27;2025-04-27T00:00:00.000000000&#x27;,\n",
       "       &#x27;2025-04-28T00:00:00.000000000&#x27;, &#x27;2025-04-29T00:00:00.000000000&#x27;,\n",
       "       &#x27;2025-04-30T00:00:00.000000000&#x27;], dtype=&#x27;datetime64[ns]&#x27;)</pre></div></li></ul></div></li><li class='xr-section-item'><input id='section-387063ad-f6eb-42ff-a824-89c1b0daca25' class='xr-section-summary-in' type='checkbox'  checked><label for='section-387063ad-f6eb-42ff-a824-89c1b0daca25' class='xr-section-summary' >Data variables: <span>(5)</span></label><div class='xr-section-inline-details'></div><div class='xr-section-details'><ul class='xr-var-list'><li class='xr-var-item'><div class='xr-var-name'><span>u10</span></div><div class='xr-var-dims'>(time)</div><div class='xr-var-dtype'>float64</div><div class='xr-var-preview xr-preview'>...</div><input id='attrs-1a581366-3909-4c4f-9956-f7ca7489c2c4' class='xr-var-attrs-in' type='checkbox' disabled><label for='attrs-1a581366-3909-4c4f-9956-f7ca7489c2c4' title='Show/Hide attributes'><svg class='icon xr-icon-file-text2'><use xlink:href='#icon-file-text2'></use></svg></label><input id='data-4c0a7246-da1a-4787-a812-d90e01d31c0f' class='xr-var-data-in' type='checkbox'><label for='data-4c0a7246-da1a-4787-a812-d90e01d31c0f' title='Show/Hide data repr'><svg class='icon xr-icon-database'><use xlink:href='#icon-database'></use></svg></label><div class='xr-var-attrs'><dl class='xr-attrs'></dl></div><div class='xr-var-data'><pre>[181 values with dtype=float64]</pre></div></li><li class='xr-var-item'><div class='xr-var-name'><span>v10</span></div><div class='xr-var-dims'>(time)</div><div class='xr-var-dtype'>float64</div><div class='xr-var-preview xr-preview'>...</div><input id='attrs-2b7b572f-4f61-4651-ad74-832922b3a11d' class='xr-var-attrs-in' type='checkbox' disabled><label for='attrs-2b7b572f-4f61-4651-ad74-832922b3a11d' title='Show/Hide attributes'><svg class='icon xr-icon-file-text2'><use xlink:href='#icon-file-text2'></use></svg></label><input id='data-b6713be7-7899-4190-ac74-062f6fb2179d' class='xr-var-data-in' type='checkbox'><label for='data-b6713be7-7899-4190-ac74-062f6fb2179d' title='Show/Hide data repr'><svg class='icon xr-icon-database'><use xlink:href='#icon-database'></use></svg></label><div class='xr-var-attrs'><dl class='xr-attrs'></dl></div><div class='xr-var-data'><pre>[181 values with dtype=float64]</pre></div></li><li class='xr-var-item'><div class='xr-var-name'><span>s10</span></div><div class='xr-var-dims'>(time)</div><div class='xr-var-dtype'>float64</div><div class='xr-var-preview xr-preview'>...</div><input id='attrs-3256e335-c5dd-4186-ae6e-9c13b7b86d89' class='xr-var-attrs-in' type='checkbox' disabled><label for='attrs-3256e335-c5dd-4186-ae6e-9c13b7b86d89' title='Show/Hide attributes'><svg class='icon xr-icon-file-text2'><use xlink:href='#icon-file-text2'></use></svg></label><input id='data-61145e91-1140-4d68-85f5-8d58a55c2d8e' class='xr-var-data-in' type='checkbox'><label for='data-61145e91-1140-4d68-85f5-8d58a55c2d8e' title='Show/Hide data repr'><svg class='icon xr-icon-database'><use xlink:href='#icon-database'></use></svg></label><div class='xr-var-attrs'><dl class='xr-attrs'></dl></div><div class='xr-var-data'><pre>[181 values with dtype=float64]</pre></div></li><li class='xr-var-item'><div class='xr-var-name'><span>msl</span></div><div class='xr-var-dims'>(time)</div><div class='xr-var-dtype'>float64</div><div class='xr-var-preview xr-preview'>...</div><input id='attrs-098777da-0cba-4d33-985a-aad9bfb2d104' class='xr-var-attrs-in' type='checkbox' disabled><label for='attrs-098777da-0cba-4d33-985a-aad9bfb2d104' title='Show/Hide attributes'><svg class='icon xr-icon-file-text2'><use xlink:href='#icon-file-text2'></use></svg></label><input id='data-cf62fd12-fa9a-4338-b29b-81529efcaba7' class='xr-var-data-in' type='checkbox'><label for='data-cf62fd12-fa9a-4338-b29b-81529efcaba7' title='Show/Hide data repr'><svg class='icon xr-icon-database'><use xlink:href='#icon-database'></use></svg></label><div class='xr-var-attrs'><dl class='xr-attrs'></dl></div><div class='xr-var-data'><pre>[181 values with dtype=float64]</pre></div></li><li class='xr-var-item'><div class='xr-var-name'><span>t2m</span></div><div class='xr-var-dims'>(time)</div><div class='xr-var-dtype'>float64</div><div class='xr-var-preview xr-preview'>...</div><input id='attrs-6a001db4-9c98-49e4-9b12-5f7d9b1bdd12' class='xr-var-attrs-in' type='checkbox' disabled><label for='attrs-6a001db4-9c98-49e4-9b12-5f7d9b1bdd12' title='Show/Hide attributes'><svg class='icon xr-icon-file-text2'><use xlink:href='#icon-file-text2'></use></svg></label><input id='data-ed71f1c4-68cd-4aaf-9fec-4142144c1661' class='xr-var-data-in' type='checkbox'><label for='data-ed71f1c4-68cd-4aaf-9fec-4142144c1661' title='Show/Hide data repr'><svg class='icon xr-icon-database'><use xlink:href='#icon-database'></use></svg></label><div class='xr-var-attrs'><dl class='xr-attrs'></dl></div><div class='xr-var-data'><pre>[181 values with dtype=float64]</pre></div></li></ul></div></li><li class='xr-section-item'><input id='section-be5ae641-fa54-4fbb-ae3a-2b52a9a74f67' class='xr-section-summary-in' type='checkbox'  ><label for='section-be5ae641-fa54-4fbb-ae3a-2b52a9a74f67' class='xr-section-summary' >Indexes: <span>(1)</span></label><div class='xr-section-inline-details'></div><div class='xr-section-details'><ul class='xr-var-list'><li class='xr-var-item'><div class='xr-index-name'><div>time</div></div><div class='xr-index-preview'>PandasIndex</div><div></div><input id='index-d7e6c2cb-386f-4baa-8d6e-edf6b8843491' class='xr-index-data-in' type='checkbox'/><label for='index-d7e6c2cb-386f-4baa-8d6e-edf6b8843491' title='Show/Hide index repr'><svg class='icon xr-icon-database'><use xlink:href='#icon-database'></use></svg></label><div class='xr-index-data'><pre>PandasIndex(DatetimeIndex([&#x27;2024-11-01&#x27;, &#x27;2024-11-02&#x27;, &#x27;2024-11-03&#x27;, &#x27;2024-11-04&#x27;,\n",
       "               &#x27;2024-11-05&#x27;, &#x27;2024-11-06&#x27;, &#x27;2024-11-07&#x27;, &#x27;2024-11-08&#x27;,\n",
       "               &#x27;2024-11-09&#x27;, &#x27;2024-11-10&#x27;,\n",
       "               ...\n",
       "               &#x27;2025-04-21&#x27;, &#x27;2025-04-22&#x27;, &#x27;2025-04-23&#x27;, &#x27;2025-04-24&#x27;,\n",
       "               &#x27;2025-04-25&#x27;, &#x27;2025-04-26&#x27;, &#x27;2025-04-27&#x27;, &#x27;2025-04-28&#x27;,\n",
       "               &#x27;2025-04-29&#x27;, &#x27;2025-04-30&#x27;],\n",
       "              dtype=&#x27;datetime64[ns]&#x27;, name=&#x27;time&#x27;, length=181, freq=None))</pre></div></li></ul></div></li><li class='xr-section-item'><input id='section-a2ca8751-2cb7-4b5f-a080-00af41d23727' class='xr-section-summary-in' type='checkbox' disabled ><label for='section-a2ca8751-2cb7-4b5f-a080-00af41d23727' class='xr-section-summary'  title='Expand/collapse section'>Attributes: <span>(0)</span></label><div class='xr-section-inline-details'></div><div class='xr-section-details'><dl class='xr-attrs'></dl></div></li></ul></div></div>"
      ],
      "text/plain": [
       "<xarray.Dataset>\n",
       "Dimensions:  (time: 181)\n",
       "Coordinates:\n",
       "  * time     (time) datetime64[ns] 2024-11-01 2024-11-02 ... 2025-04-30\n",
       "Data variables:\n",
       "    u10      (time) float64 ...\n",
       "    v10      (time) float64 ...\n",
       "    s10      (time) float64 ...\n",
       "    msl      (time) float64 ...\n",
       "    t2m      (time) float64 ..."
      ]
     },
     "execution_count": 62,
     "metadata": {},
     "output_type": "execute_result"
    }
   ],
   "source": [
    "ds = xr.open_dataset(f'../data/forcing/regional_daily_era_{year}_v7.nc')\n",
    "ds"
   ]
  },
  {
   "cell_type": "code",
   "execution_count": 55,
   "id": "666d71ab",
   "metadata": {},
   "outputs": [
    {
     "name": "stdout",
     "output_type": "stream",
     "text": [
      "0 1985-11-01T00:00:00.000000000\n",
      "0 1986-01-01T00:00:00.000000000\n"
     ]
    }
   ],
   "source": [
    "\n",
    "# years = np.arange(2003, 2025)\n",
    "\n",
    "# years = np.arange(1987, 2003)\n",
    "\n",
    "years = [1986]\n",
    "\n",
    "\n",
    "# years = np.arange(2003, 2025)\n",
    "\n",
    "for year in years:\n",
    "    \n",
    "    era_vars = ['u10', 'v10', 's10', 'msl', 't2m',]\n",
    "\n",
    "    daily_data = {}\n",
    "    for var in era_vars:\n",
    "        daily_data[var] = np.array([])\n",
    "\n",
    "    all_dates = np.array([], dtype=np.datetime64)\n",
    "\n",
    "    # Nov-Dec data\n",
    "    #-------------\n",
    "    dates = pd.date_range(datetime(year-1, 11,1), datetime(year-1, 12,31, 23), freq='1D')\n",
    "    all_dates = np.append(all_dates, dates)\n",
    "    \n",
    "#     ds2 = open_daily_t2m(year-1, era_lat_range, era_lon_range,  time_range = slice(dates[0], dates[-1]))\n",
    "    ds = open_daily_winds(year-1, era_lat_range, era_lon_range,  time_range = slice(dates[0], dates[-1]))\n",
    "    \n",
    "    # loop over each hour\n",
    "    for tt, time in enumerate(ds.time):\n",
    "\n",
    "        if tt%1000 == 0:\n",
    "            print(tt, time.values)\n",
    "        ds_crop = ds.sel(time = time)\n",
    "#         ds2_crop = ds2.sel(valid_time = time)\n",
    "        \n",
    "        # find regional means\n",
    "        for var in ['u10', 'v10', 'msl']:\n",
    "            reg_mean = geogen.lat_weighted_mean(ds_crop[var].values[grids['era']['region']], \n",
    "                                        grids['era']['lat'][grids['era']['region']])\n",
    "            daily_data[var] = np.append(daily_data[var], reg_mean)\n",
    "            \n",
    "        for var in ['s10']:\n",
    "            speeds = np.sqrt(ds_crop['u10'].values**2+ds_crop['v10'].values**2)\n",
    "            reg_mean = geogen.lat_weighted_mean(speeds[grids['era']['region']], \n",
    "                                        grids['era']['lat'][grids['era']['region']])\n",
    "            daily_data[var] = np.append(daily_data[var], reg_mean)\n",
    "            \n",
    "            \n",
    "#         for var in ['t2m']:\n",
    "#             reg_mean = geogen.lat_weighted_mean((ds2_crop[var]-273.15).values[grids['era']['region']], \n",
    "#                                         grids['era']['lat'][grids['era']['region']])\n",
    "#             daily_data[var] = np.append(daily_data[var], reg_mean)\n",
    "            \n",
    "            \n",
    "    # Jan-June data\n",
    "    #-------------\n",
    "    dates = pd.date_range(datetime(year, 1,1), datetime(year, 4,30, 23), freq='1D')\n",
    "    all_dates = np.append(all_dates, dates)\n",
    "    ds = open_daily_winds(year, era_lat_range, era_lon_range,  time_range = slice(dates[0], dates[-1]))\n",
    "#     ds2 = open_daily_t2m(year, era_lat_range, era_lon_range,  time_range = slice(dates[0], dates[-1]))\n",
    "    \n",
    "    # loop over each hour\n",
    "    for tt, time in enumerate(ds.time):\n",
    "\n",
    "        if tt%1000 == 0:\n",
    "            print(tt, time.values)\n",
    "        ds_crop = ds.sel(time = time)\n",
    "#         ds2_crop = ds2.sel(valid_time = time)\n",
    "        \n",
    "        # find regional means\n",
    "        for var in ['u10', 'v10', 'msl']:\n",
    "            reg_mean = geogen.lat_weighted_mean(ds_crop[var].values[grids['era']['region']], \n",
    "                                        grids['era']['lat'][grids['era']['region']])\n",
    "            daily_data[var] = np.append(daily_data[var], reg_mean)\n",
    "            \n",
    "        for var in ['s10']:\n",
    "            speeds = np.sqrt(ds_crop['u10'].values**2+ds_crop['v10'].values**2)\n",
    "            reg_mean = geogen.lat_weighted_mean(speeds[grids['era']['region']], \n",
    "                                        grids['era']['lat'][grids['era']['region']])\n",
    "            daily_data[var] = np.append(daily_data[var], reg_mean)\n",
    "            \n",
    "#         for var in ['t2m']:\n",
    "#             reg_mean = geogen.lat_weighted_mean((ds2_crop[var]-273.15).values[grids['era']['region']], \n",
    "#                                         grids['era']['lat'][grids['era']['region']])\n",
    "#             daily_data[var] = np.append(daily_data[var], reg_mean)\n",
    "            \n",
    "            \n",
    "    key = 'era'\n",
    "    data_vars = {}\n",
    "    for var in era_vars:\n",
    "        extra_nans = np.full(len(all_dates) - len(daily_data[var]), np.nan)\n",
    "        data_vars[var] = ((\"time\"), np.append(daily_data[var], extra_nans))\n",
    "    #         data_vars[var] = ((\"time\"), hourly_data[var])\n",
    "\n",
    "    coords={\"time\": all_dates}\n",
    "\n",
    "    ds = xr.Dataset(data_vars, coords=coords)\n",
    "\n",
    "    # save to file\n",
    "    mainpath = '../data/forcing/'\n",
    "    filename = f\"regional_daily_era_{year}_v7.nc\"\n",
    "    ds.to_netcdf(mainpath+filename)"
   ]
  },
  {
   "cell_type": "code",
   "execution_count": null,
   "id": "9185f4fa",
   "metadata": {},
   "outputs": [],
   "source": []
  },
  {
   "cell_type": "code",
   "execution_count": null,
   "id": "721c7b1d",
   "metadata": {},
   "outputs": [],
   "source": []
  },
  {
   "cell_type": "markdown",
   "id": "b10c11b3",
   "metadata": {},
   "source": [
    "## Daily regional PPd drift"
   ]
  },
  {
   "cell_type": "code",
   "execution_count": 20,
   "id": "104264dd",
   "metadata": {},
   "outputs": [
    {
     "name": "stdout",
     "output_type": "stream",
     "text": [
      "0\n"
     ]
    },
    {
     "name": "stderr",
     "output_type": "stream",
     "text": [
      "/var/folders/p8/hz449fpx6nscv0jb1klyfqb40000gp/T/ipykernel_30819/1512228688.py:35: RuntimeWarning: Mean of empty slice\n",
      "  reg_mean = np.nanmean(ds[var][tt,:,:][grids['ppd']['region']])\n"
     ]
    },
    {
     "name": "stdout",
     "output_type": "stream",
     "text": [
      "0\n"
     ]
    },
    {
     "name": "stderr",
     "output_type": "stream",
     "text": [
      "/var/folders/p8/hz449fpx6nscv0jb1klyfqb40000gp/T/ipykernel_30819/1512228688.py:35: RuntimeWarning: Mean of empty slice\n",
      "  reg_mean = np.nanmean(ds[var][tt,:,:][grids['ppd']['region']])\n"
     ]
    },
    {
     "name": "stdout",
     "output_type": "stream",
     "text": [
      "0\n",
      "0\n"
     ]
    },
    {
     "name": "stderr",
     "output_type": "stream",
     "text": [
      "/var/folders/p8/hz449fpx6nscv0jb1klyfqb40000gp/T/ipykernel_30819/1512228688.py:35: RuntimeWarning: Mean of empty slice\n",
      "  reg_mean = np.nanmean(ds[var][tt,:,:][grids['ppd']['region']])\n"
     ]
    },
    {
     "name": "stdout",
     "output_type": "stream",
     "text": [
      "0\n",
      "0\n",
      "0\n",
      "0\n"
     ]
    },
    {
     "name": "stderr",
     "output_type": "stream",
     "text": [
      "/var/folders/p8/hz449fpx6nscv0jb1klyfqb40000gp/T/ipykernel_30819/1512228688.py:35: RuntimeWarning: Mean of empty slice\n",
      "  reg_mean = np.nanmean(ds[var][tt,:,:][grids['ppd']['region']])\n"
     ]
    },
    {
     "name": "stdout",
     "output_type": "stream",
     "text": [
      "0\n",
      "0\n"
     ]
    },
    {
     "name": "stderr",
     "output_type": "stream",
     "text": [
      "/var/folders/p8/hz449fpx6nscv0jb1klyfqb40000gp/T/ipykernel_30819/1512228688.py:35: RuntimeWarning: Mean of empty slice\n",
      "  reg_mean = np.nanmean(ds[var][tt,:,:][grids['ppd']['region']])\n"
     ]
    },
    {
     "name": "stdout",
     "output_type": "stream",
     "text": [
      "0\n",
      "0\n"
     ]
    },
    {
     "name": "stderr",
     "output_type": "stream",
     "text": [
      "/var/folders/p8/hz449fpx6nscv0jb1klyfqb40000gp/T/ipykernel_30819/1512228688.py:35: RuntimeWarning: Mean of empty slice\n",
      "  reg_mean = np.nanmean(ds[var][tt,:,:][grids['ppd']['region']])\n"
     ]
    },
    {
     "name": "stdout",
     "output_type": "stream",
     "text": [
      "0\n"
     ]
    },
    {
     "name": "stderr",
     "output_type": "stream",
     "text": [
      "/var/folders/p8/hz449fpx6nscv0jb1klyfqb40000gp/T/ipykernel_30819/1512228688.py:35: RuntimeWarning: Mean of empty slice\n",
      "  reg_mean = np.nanmean(ds[var][tt,:,:][grids['ppd']['region']])\n"
     ]
    },
    {
     "name": "stdout",
     "output_type": "stream",
     "text": [
      "0\n"
     ]
    },
    {
     "name": "stderr",
     "output_type": "stream",
     "text": [
      "/var/folders/p8/hz449fpx6nscv0jb1klyfqb40000gp/T/ipykernel_30819/1512228688.py:35: RuntimeWarning: Mean of empty slice\n",
      "  reg_mean = np.nanmean(ds[var][tt,:,:][grids['ppd']['region']])\n"
     ]
    },
    {
     "name": "stdout",
     "output_type": "stream",
     "text": [
      "0\n"
     ]
    },
    {
     "name": "stderr",
     "output_type": "stream",
     "text": [
      "/var/folders/p8/hz449fpx6nscv0jb1klyfqb40000gp/T/ipykernel_30819/1512228688.py:35: RuntimeWarning: Mean of empty slice\n",
      "  reg_mean = np.nanmean(ds[var][tt,:,:][grids['ppd']['region']])\n"
     ]
    },
    {
     "name": "stdout",
     "output_type": "stream",
     "text": [
      "0\n",
      "0\n"
     ]
    },
    {
     "name": "stderr",
     "output_type": "stream",
     "text": [
      "/var/folders/p8/hz449fpx6nscv0jb1klyfqb40000gp/T/ipykernel_30819/1512228688.py:35: RuntimeWarning: Mean of empty slice\n",
      "  reg_mean = np.nanmean(ds[var][tt,:,:][grids['ppd']['region']])\n"
     ]
    },
    {
     "name": "stdout",
     "output_type": "stream",
     "text": [
      "0\n",
      "0\n"
     ]
    },
    {
     "name": "stderr",
     "output_type": "stream",
     "text": [
      "/var/folders/p8/hz449fpx6nscv0jb1klyfqb40000gp/T/ipykernel_30819/1512228688.py:35: RuntimeWarning: Mean of empty slice\n",
      "  reg_mean = np.nanmean(ds[var][tt,:,:][grids['ppd']['region']])\n"
     ]
    },
    {
     "name": "stdout",
     "output_type": "stream",
     "text": [
      "0\n"
     ]
    },
    {
     "name": "stderr",
     "output_type": "stream",
     "text": [
      "/var/folders/p8/hz449fpx6nscv0jb1klyfqb40000gp/T/ipykernel_30819/1512228688.py:35: RuntimeWarning: Mean of empty slice\n",
      "  reg_mean = np.nanmean(ds[var][tt,:,:][grids['ppd']['region']])\n"
     ]
    },
    {
     "name": "stdout",
     "output_type": "stream",
     "text": [
      "0\n"
     ]
    },
    {
     "name": "stderr",
     "output_type": "stream",
     "text": [
      "/var/folders/p8/hz449fpx6nscv0jb1klyfqb40000gp/T/ipykernel_30819/1512228688.py:35: RuntimeWarning: Mean of empty slice\n",
      "  reg_mean = np.nanmean(ds[var][tt,:,:][grids['ppd']['region']])\n"
     ]
    },
    {
     "name": "stdout",
     "output_type": "stream",
     "text": [
      "0\n"
     ]
    },
    {
     "name": "stderr",
     "output_type": "stream",
     "text": [
      "/var/folders/p8/hz449fpx6nscv0jb1klyfqb40000gp/T/ipykernel_30819/1512228688.py:35: RuntimeWarning: Mean of empty slice\n",
      "  reg_mean = np.nanmean(ds[var][tt,:,:][grids['ppd']['region']])\n"
     ]
    },
    {
     "name": "stdout",
     "output_type": "stream",
     "text": [
      "0\n"
     ]
    },
    {
     "name": "stderr",
     "output_type": "stream",
     "text": [
      "/var/folders/p8/hz449fpx6nscv0jb1klyfqb40000gp/T/ipykernel_30819/1512228688.py:35: RuntimeWarning: Mean of empty slice\n",
      "  reg_mean = np.nanmean(ds[var][tt,:,:][grids['ppd']['region']])\n"
     ]
    },
    {
     "name": "stdout",
     "output_type": "stream",
     "text": [
      "0\n"
     ]
    },
    {
     "name": "stderr",
     "output_type": "stream",
     "text": [
      "/var/folders/p8/hz449fpx6nscv0jb1klyfqb40000gp/T/ipykernel_30819/1512228688.py:35: RuntimeWarning: Mean of empty slice\n",
      "  reg_mean = np.nanmean(ds[var][tt,:,:][grids['ppd']['region']])\n"
     ]
    },
    {
     "name": "stdout",
     "output_type": "stream",
     "text": [
      "0\n"
     ]
    },
    {
     "name": "stderr",
     "output_type": "stream",
     "text": [
      "/var/folders/p8/hz449fpx6nscv0jb1klyfqb40000gp/T/ipykernel_30819/1512228688.py:35: RuntimeWarning: Mean of empty slice\n",
      "  reg_mean = np.nanmean(ds[var][tt,:,:][grids['ppd']['region']])\n"
     ]
    },
    {
     "name": "stdout",
     "output_type": "stream",
     "text": [
      "0\n"
     ]
    },
    {
     "name": "stderr",
     "output_type": "stream",
     "text": [
      "/var/folders/p8/hz449fpx6nscv0jb1klyfqb40000gp/T/ipykernel_30819/1512228688.py:35: RuntimeWarning: Mean of empty slice\n",
      "  reg_mean = np.nanmean(ds[var][tt,:,:][grids['ppd']['region']])\n"
     ]
    },
    {
     "name": "stdout",
     "output_type": "stream",
     "text": [
      "0\n"
     ]
    },
    {
     "name": "stderr",
     "output_type": "stream",
     "text": [
      "/var/folders/p8/hz449fpx6nscv0jb1klyfqb40000gp/T/ipykernel_30819/1512228688.py:35: RuntimeWarning: Mean of empty slice\n",
      "  reg_mean = np.nanmean(ds[var][tt,:,:][grids['ppd']['region']])\n"
     ]
    },
    {
     "name": "stdout",
     "output_type": "stream",
     "text": [
      "0\n"
     ]
    },
    {
     "name": "stderr",
     "output_type": "stream",
     "text": [
      "/var/folders/p8/hz449fpx6nscv0jb1klyfqb40000gp/T/ipykernel_30819/1512228688.py:35: RuntimeWarning: Mean of empty slice\n",
      "  reg_mean = np.nanmean(ds[var][tt,:,:][grids['ppd']['region']])\n"
     ]
    },
    {
     "name": "stdout",
     "output_type": "stream",
     "text": [
      "0\n"
     ]
    },
    {
     "name": "stderr",
     "output_type": "stream",
     "text": [
      "/var/folders/p8/hz449fpx6nscv0jb1klyfqb40000gp/T/ipykernel_30819/1512228688.py:35: RuntimeWarning: Mean of empty slice\n",
      "  reg_mean = np.nanmean(ds[var][tt,:,:][grids['ppd']['region']])\n"
     ]
    },
    {
     "name": "stdout",
     "output_type": "stream",
     "text": [
      "0\n"
     ]
    },
    {
     "name": "stderr",
     "output_type": "stream",
     "text": [
      "/var/folders/p8/hz449fpx6nscv0jb1klyfqb40000gp/T/ipykernel_30819/1512228688.py:35: RuntimeWarning: Mean of empty slice\n",
      "  reg_mean = np.nanmean(ds[var][tt,:,:][grids['ppd']['region']])\n"
     ]
    },
    {
     "name": "stdout",
     "output_type": "stream",
     "text": [
      "0\n"
     ]
    },
    {
     "name": "stderr",
     "output_type": "stream",
     "text": [
      "/var/folders/p8/hz449fpx6nscv0jb1klyfqb40000gp/T/ipykernel_30819/1512228688.py:35: RuntimeWarning: Mean of empty slice\n",
      "  reg_mean = np.nanmean(ds[var][tt,:,:][grids['ppd']['region']])\n"
     ]
    },
    {
     "name": "stdout",
     "output_type": "stream",
     "text": [
      "0\n"
     ]
    },
    {
     "name": "stderr",
     "output_type": "stream",
     "text": [
      "/var/folders/p8/hz449fpx6nscv0jb1klyfqb40000gp/T/ipykernel_30819/1512228688.py:35: RuntimeWarning: Mean of empty slice\n",
      "  reg_mean = np.nanmean(ds[var][tt,:,:][grids['ppd']['region']])\n"
     ]
    },
    {
     "name": "stdout",
     "output_type": "stream",
     "text": [
      "0\n"
     ]
    },
    {
     "name": "stderr",
     "output_type": "stream",
     "text": [
      "/var/folders/p8/hz449fpx6nscv0jb1klyfqb40000gp/T/ipykernel_30819/1512228688.py:35: RuntimeWarning: Mean of empty slice\n",
      "  reg_mean = np.nanmean(ds[var][tt,:,:][grids['ppd']['region']])\n"
     ]
    },
    {
     "name": "stdout",
     "output_type": "stream",
     "text": [
      "0\n"
     ]
    },
    {
     "name": "stderr",
     "output_type": "stream",
     "text": [
      "/var/folders/p8/hz449fpx6nscv0jb1klyfqb40000gp/T/ipykernel_30819/1512228688.py:35: RuntimeWarning: Mean of empty slice\n",
      "  reg_mean = np.nanmean(ds[var][tt,:,:][grids['ppd']['region']])\n"
     ]
    },
    {
     "name": "stdout",
     "output_type": "stream",
     "text": [
      "0\n"
     ]
    },
    {
     "name": "stderr",
     "output_type": "stream",
     "text": [
      "/var/folders/p8/hz449fpx6nscv0jb1klyfqb40000gp/T/ipykernel_30819/1512228688.py:35: RuntimeWarning: Mean of empty slice\n",
      "  reg_mean = np.nanmean(ds[var][tt,:,:][grids['ppd']['region']])\n"
     ]
    },
    {
     "name": "stdout",
     "output_type": "stream",
     "text": [
      "0\n"
     ]
    },
    {
     "name": "stderr",
     "output_type": "stream",
     "text": [
      "/var/folders/p8/hz449fpx6nscv0jb1klyfqb40000gp/T/ipykernel_30819/1512228688.py:35: RuntimeWarning: Mean of empty slice\n",
      "  reg_mean = np.nanmean(ds[var][tt,:,:][grids['ppd']['region']])\n"
     ]
    },
    {
     "name": "stdout",
     "output_type": "stream",
     "text": [
      "0\n"
     ]
    },
    {
     "name": "stderr",
     "output_type": "stream",
     "text": [
      "/var/folders/p8/hz449fpx6nscv0jb1klyfqb40000gp/T/ipykernel_30819/1512228688.py:35: RuntimeWarning: Mean of empty slice\n",
      "  reg_mean = np.nanmean(ds[var][tt,:,:][grids['ppd']['region']])\n"
     ]
    }
   ],
   "source": [
    "\n",
    "\n",
    "# years = np.arange(1987, 2003)\n",
    "\n",
    "\n",
    "\n",
    "# years = np.arange(2003, 2024)\n",
    "\n",
    "years = np.arange(1987, 2024)\n",
    "\n",
    "\n",
    "for year in years:\n",
    "    \n",
    "    ppd_vars = ['e', 'n', 'error', 's']\n",
    "\n",
    "    daily_data = {}\n",
    "    for var in ppd_vars:\n",
    "        daily_data[var] = np.array([])\n",
    "\n",
    "    all_dates = np.array([], dtype=np.datetime64)\n",
    "\n",
    "    # Nov-Dec data\n",
    "    #-------------\n",
    "    dates = pd.date_range(datetime(year-1, 10,1), datetime(year-1, 12,31, 23), freq='1D')\n",
    "    all_dates = np.append(all_dates, dates)\n",
    "    ds = open_daily_drift(year-1, era_lat_range, era_lon_range,  time_range = slice(dates[0], dates[-1]))\n",
    "    \n",
    "    \n",
    "    # loop over each hour\n",
    "    for tt in range(len(ds['e'])):\n",
    "\n",
    "        if tt%100 == 0:\n",
    "            print(tt)\n",
    "        # find regional means\n",
    "        for var in ppd_vars:\n",
    "            \n",
    "            reg_mean = np.nanmean(ds[var][tt,:,:][grids['ppd']['region']])\n",
    "            daily_data[var] = np.append(daily_data[var], reg_mean)\n",
    "\n",
    "    # Jan-June data\n",
    "    #-------------\n",
    "    dates = pd.date_range(datetime(year, 1,1), datetime(year, 6, 30, 23), freq='1D')\n",
    "    all_dates = np.append(all_dates, dates)\n",
    "    ds = open_daily_drift(year, era_lat_range, era_lon_range,  time_range = slice(dates[0], dates[-1]))\n",
    "\n",
    "    # loop over each hour\n",
    "    for tt in range(len(ds['e'])):\n",
    "\n",
    "        # find regional means\n",
    "        for var in ppd_vars:\n",
    "            \n",
    "            reg_mean = np.nanmean(ds[var][tt,:,:][grids['ppd']['region']])\n",
    "            daily_data[var] = np.append(daily_data[var], reg_mean)\n",
    "            \n",
    "            \n",
    "    key = 'ppd'\n",
    "    data_vars = {}\n",
    "    for var in ppd_vars:\n",
    "        extra_nans = np.full(len(all_dates) - len(daily_data[var]), np.nan)\n",
    "        data_vars[var] = ((\"time\"), np.append(daily_data[var], extra_nans))\n",
    "    #         data_vars[var] = ((\"time\"), hourly_data[var])\n",
    "\n",
    "    coords={\"time\": all_dates}\n",
    "\n",
    "    ds = xr.Dataset(data_vars, coords=coords)\n",
    "\n",
    "    # save to file\n",
    "    mainpath = '../data/forcing/'\n",
    "    filename = f\"regional_daily_ppd_{year}_v7.nc\"\n",
    "    ds.to_netcdf(mainpath+filename)"
   ]
  },
  {
   "cell_type": "code",
   "execution_count": null,
   "id": "089b758d",
   "metadata": {},
   "outputs": [],
   "source": []
  },
  {
   "cell_type": "code",
   "execution_count": null,
   "id": "b9cc49de",
   "metadata": {},
   "outputs": [],
   "source": []
  },
  {
   "cell_type": "code",
   "execution_count": null,
   "id": "3b0cb9c4",
   "metadata": {},
   "outputs": [],
   "source": []
  },
  {
   "cell_type": "code",
   "execution_count": null,
   "id": "85c9d9b8",
   "metadata": {},
   "outputs": [],
   "source": []
  },
  {
   "cell_type": "code",
   "execution_count": null,
   "id": "e72dbf48",
   "metadata": {},
   "outputs": [],
   "source": []
  },
  {
   "cell_type": "code",
   "execution_count": 584,
   "id": "dddaaaaa",
   "metadata": {},
   "outputs": [
    {
     "name": "stdout",
     "output_type": "stream",
     "text": [
      "2003\n",
      "2004\n",
      "2005\n",
      "2006\n",
      "2007\n",
      "2008\n",
      "2009\n",
      "2010\n",
      "2011\n",
      "2013\n",
      "2014\n",
      "2015\n",
      "2016\n",
      "2017\n",
      "2018\n",
      "2019\n",
      "2020\n",
      "2021\n"
     ]
    },
    {
     "name": "stderr",
     "output_type": "stream",
     "text": [
      "/var/folders/p8/hz449fpx6nscv0jb1klyfqb40000gp/T/ipykernel_16386/1981190657.py:109: RuntimeWarning: Mean of empty slice\n",
      "  reg_mean = np.nanmean(d3[group][ii][reg_pts])\n"
     ]
    },
    {
     "name": "stdout",
     "output_type": "stream",
     "text": [
      "2022\n"
     ]
    },
    {
     "name": "stderr",
     "output_type": "stream",
     "text": [
      "/var/folders/p8/hz449fpx6nscv0jb1klyfqb40000gp/T/ipykernel_16386/1981190657.py:109: RuntimeWarning: Mean of empty slice\n",
      "  reg_mean = np.nanmean(d3[group][ii][reg_pts])\n"
     ]
    },
    {
     "name": "stdout",
     "output_type": "stream",
     "text": [
      "2023\n",
      "2024\n"
     ]
    },
    {
     "name": "stderr",
     "output_type": "stream",
     "text": [
      "/var/folders/p8/hz449fpx6nscv0jb1klyfqb40000gp/T/ipykernel_16386/1981190657.py:109: RuntimeWarning: Mean of empty slice\n",
      "  reg_mean = np.nanmean(d3[group][ii][reg_pts])\n",
      "/var/folders/p8/hz449fpx6nscv0jb1klyfqb40000gp/T/ipykernel_16386/1981190657.py:109: RuntimeWarning: Mean of empty slice\n",
      "  reg_mean = np.nanmean(d3[group][ii][reg_pts])\n",
      "/var/folders/p8/hz449fpx6nscv0jb1klyfqb40000gp/T/ipykernel_16386/1981190657.py:109: RuntimeWarning: Mean of empty slice\n",
      "  reg_mean = np.nanmean(d3[group][ii][reg_pts])\n",
      "/var/folders/p8/hz449fpx6nscv0jb1klyfqb40000gp/T/ipykernel_16386/1981190657.py:109: RuntimeWarning: Mean of empty slice\n",
      "  reg_mean = np.nanmean(d3[group][ii][reg_pts])\n",
      "/var/folders/p8/hz449fpx6nscv0jb1klyfqb40000gp/T/ipykernel_16386/1981190657.py:109: RuntimeWarning: Mean of empty slice\n",
      "  reg_mean = np.nanmean(d3[group][ii][reg_pts])\n",
      "/var/folders/p8/hz449fpx6nscv0jb1klyfqb40000gp/T/ipykernel_16386/1981190657.py:118: RuntimeWarning: invalid value encountered in divide\n",
      "  field[key][group][month][year]['mean'] = field[key][group][month][year]['sum'] / field[key][group][month][year]['N']\n"
     ]
    }
   ],
   "source": [
    "\n",
    "field = {}\n",
    "\n",
    "reg = {}\n",
    "\n",
    "GROUPS = {}\n",
    "GROUPS['era'] = ['u10', 'v10', 'msl', 't2m', 's10']\n",
    "GROUPS['ppd'] = ['e', 'n','s']\n",
    "months = [12, 1, 2, 3, 4]\n",
    "YEARS = years\n",
    "\n",
    "for key in ['era', 'ppd']:\n",
    "    \n",
    "    # whole maps\n",
    "    field[key] = {}\n",
    "\n",
    "    # regional means\n",
    "    reg[key] = {}\n",
    "    regmonth[key] = {}\n",
    "    regyear[key] = {}\n",
    "\n",
    "    for group in GROUPS[key]:\n",
    "        \n",
    "        field[key][group] = {}\n",
    "        \n",
    "        reg[key][group] = {}\n",
    "        \n",
    "        for month in months:\n",
    "            field[key][group][month] = {}\n",
    "            reg[key][group][month] = {}\n",
    "            \n",
    "            for year in YEARS:\n",
    "                field[key][group][month][year] = {}\n",
    "                field[key][group][month][year]['sum'] = np.zeros(grids[key]['lon'].shape)\n",
    "                field[key][group][month][year]['N'] = np.zeros(grids[key]['lon'].shape)\n",
    "                reg[key][group][month][year] = np.array([])\n",
    "\n",
    "\n",
    "# build dictionary \n",
    "for year in YEARS:\n",
    "\n",
    "    print(year)\n",
    "    \n",
    "    # January - April\n",
    "    #-----------------\n",
    "    for month in months:\n",
    "\n",
    "        if month == 12:\n",
    "            YEAR = year - 1\n",
    "        else:\n",
    "            YEAR = year\n",
    "            \n",
    "        # open files\n",
    "        month_length = calendar.monthrange(YEAR, month)[1]\n",
    "        time_range = slice(datetime(YEAR,month,1), datetime(YEAR,month,month_length))        \n",
    "        ds = open_daily_winds(YEAR, era_lat_range, era_lon_range, time_range=time_range)\n",
    "        ds2 = open_daily_t2m(YEAR, era_lat_range, era_lon_range, time_range=time_range)\n",
    "        \n",
    "        if year != 2024:\n",
    "            d3 = open_daily_drift(YEAR, lat_range, lon_range, time_range = time_range)\n",
    "        else:\n",
    "            d3 = {}\n",
    "            for group in GROUPS[key]:\n",
    "                d3[group] = np.full((month_length, 100, 90), np.nan)\n",
    "        \n",
    "        # atmosphere\n",
    "        #-----------------\n",
    "        key = 'era'\n",
    "        reg_pts = grids[key]['region']\n",
    "        for group in GROUPS[key]:\n",
    "            \n",
    "            dicts = field[key][group][month][year]\n",
    "\n",
    "            if group == 't2m':\n",
    "                dicts['sum'] += (ds2[group]-273.15).sum(dim='valid_time').values\n",
    "                dicts['N'] += np.isfinite(ds2[group]).sum(dim='valid_time').values\n",
    "            elif group == 's10':\n",
    "                dicts['sum'] += np.sqrt(ds['u10']**2+ds['v10']**2).sum(dim='time').values\n",
    "                dicts['N'] += np.isfinite(ds['u10']).sum(dim='time').values\n",
    "            else:\n",
    "                dicts['sum'] += ds[group].sum(dim='time').values\n",
    "                dicts['N'] += np.isfinite(ds[group]).sum(dim='time').values\n",
    "                    \n",
    "            # save regional means\n",
    "            for time in ds.time:\n",
    "                \n",
    "                if group == 't2m':\n",
    "                    reg_values = (ds2[group]-273.15).sel(valid_time = time).values[reg_pts]\n",
    "                elif group == 's10':\n",
    "                    reg_values = np.sqrt(ds['u10']**2+ds['v10']**2).sel(time = time).values[reg_pts]\n",
    "                else:\n",
    "                    reg_values = ds[group].sel(time = time).values[reg_pts]\n",
    "                \n",
    "                reg_mean = geogen.lat_weighted_mean(reg_values, grids[key]['lat'][reg_pts])\n",
    "                reg[key][group][month][year] = np.append(reg[key][group][month][year], reg_mean)\n",
    "\n",
    "        \n",
    "        # sea ice drift\n",
    "        #-----------------\n",
    "        key = 'ppd'\n",
    "        reg_pts = grids[key]['region']\n",
    "        for group in GROUPS[key]:\n",
    "            \n",
    "            dicts = field[key][group][month][year]\n",
    "            dicts['sum'] += np.nansum(d3[group], axis=0)\n",
    "            dicts['N'] += np.nansum(np.isfinite(d3[group]), axis=0)\n",
    "                    \n",
    "            # save regional means\n",
    "            for ii in range(len(d3['e'])):\n",
    "                reg_mean = np.nanmean(d3[group][ii][reg_pts])\n",
    "                reg[key][group][month][year] = np.append(reg[key][group][month][year], reg_mean)\n",
    "\n",
    "# calculate means!\n",
    "#-----------------\n",
    "for key in ['era', 'ppd']:\n",
    "    for group in GROUPS[key]:\n",
    "        for month in months:\n",
    "            for year in YEARS:\n",
    "                field[key][group][month][year]['mean'] = field[key][group][month][year]['sum'] / field[key][group][month][year]['N']\n"
   ]
  },
  {
   "cell_type": "code",
   "execution_count": null,
   "id": "97236f9b",
   "metadata": {},
   "outputs": [],
   "source": []
  },
  {
   "cell_type": "markdown",
   "id": "d086712c",
   "metadata": {},
   "source": [
    "## Save to nc\n"
   ]
  },
  {
   "cell_type": "markdown",
   "id": "b87c5bce",
   "metadata": {},
   "source": [
    "#### ERA map"
   ]
  },
  {
   "cell_type": "code",
   "execution_count": 585,
   "id": "0444c5b5",
   "metadata": {},
   "outputs": [],
   "source": [
    "key = 'era'\n",
    "\n",
    "data_vars = {}\n",
    "\n",
    "for group in list(field[key].keys()):\n",
    "    \n",
    "    # stack data\n",
    "    stacked = np.array([])\n",
    "    for month in months:\n",
    "        for year in YEARS:\n",
    "            stacked = np.append(stacked, field[key][group][month][year]['mean'])\n",
    "    stacked = np.reshape(stacked, (len(months),len(YEARS),*grids[key]['lat'].shape))\n",
    "\n",
    "    # construct data field\n",
    "    data_vars[group] = ((\"month\", \"year\", \"lat\", \"lon\"), stacked)#, {'long_name': long_name, 'units': units})\n",
    "\n",
    "coords={\"month\": months, \"year\": YEARS, \"lat\":grids[key]['lat'][:,0], \"lon\":grids[key]['lon'][0,:]}\n",
    "\n",
    "ds = xr.Dataset(data_vars, coords=coords)   \n",
    "\n",
    "# save to file\n",
    "mainpath = '../data/forcing/'\n",
    "filename = f\"dailymaps_{key}_v0.nc\"\n",
    "ds.to_netcdf(mainpath+filename)\n"
   ]
  },
  {
   "cell_type": "markdown",
   "id": "10b8c298",
   "metadata": {},
   "source": [
    "#### PPD map"
   ]
  },
  {
   "cell_type": "code",
   "execution_count": 586,
   "id": "06c8b0ce",
   "metadata": {},
   "outputs": [],
   "source": [
    "key = 'ppd'\n",
    "\n",
    "data_vars = {}\n",
    "\n",
    "for group in list(field[key].keys()):\n",
    "    \n",
    "    # stack data\n",
    "    stacked = np.array([])\n",
    "    for month in months:\n",
    "        for year in YEARS:\n",
    "            stacked = np.append(stacked, field[key][group][month][year]['mean'])\n",
    "    stacked = np.reshape(stacked, (len(months),len(YEARS),*grids[key]['lat'].shape))\n",
    "\n",
    "    # construct data field\n",
    "    data_vars[group] = ((\"month\", \"year\", \"y\", \"x\"), stacked)#, {'long_name': long_name, 'units': units})\n",
    "\n",
    "coords={\"month\": months, \"year\": YEARS, \"x\":grids[key]['xx'][0,:], \"y\":grids[key]['yy'][:,0]}\n",
    "\n",
    "ds = xr.Dataset(data_vars, coords=coords)   \n",
    "\n",
    "# save to file\n",
    "mainpath = '../data/forcing/'\n",
    "filename = f\"dailymaps_{key}_v0.nc\"\n",
    "ds.to_netcdf(mainpath+filename)\n"
   ]
  },
  {
   "cell_type": "markdown",
   "id": "bbca4507",
   "metadata": {},
   "source": [
    "#### ERA region stats"
   ]
  },
  {
   "cell_type": "code",
   "execution_count": 587,
   "id": "a158ba12",
   "metadata": {},
   "outputs": [
    {
     "name": "stderr",
     "output_type": "stream",
     "text": [
      "/opt/anaconda3/envs/SBSpolynya/lib/python3.12/site-packages/xarray/coding/times.py:618: RuntimeWarning: invalid value encountered in cast\n",
      "  int_num = np.asarray(num, dtype=np.int64)\n"
     ]
    }
   ],
   "source": [
    "key = 'era'\n",
    "\n",
    "data_vars = {}\n",
    "\n",
    "for group in list(reg[key].keys()):\n",
    "    \n",
    "    # stack data\n",
    "    stacked = np.array([])\n",
    "    stacked_dates = np.array([])\n",
    "    \n",
    "    for month in months:\n",
    "        for year in YEARS:\n",
    "            \n",
    "            monthlydata = reg[key][group][month][year]\n",
    "            fillto31 = np.append(monthlydata, np.full(31-len(monthlydata), np.nan))\n",
    "            stacked = np.append(stacked, fillto31)\n",
    "            \n",
    "            if month == 12:\n",
    "                YEAR = year-1\n",
    "            else:\n",
    "                YEAR = year\n",
    "            for day in range(1,32):\n",
    "                if day <= calendar.monthrange(YEAR, month)[1]:\n",
    "                    stacked_dates = np.append(stacked_dates, datetime(YEAR, month, day))\n",
    "                else:\n",
    "                    stacked_dates = np.append(stacked_dates, np.nan)\n",
    "            \n",
    "    stacked = np.reshape(stacked, (len(months),len(YEARS), 31))\n",
    "    stacked_dates = np.reshape(stacked_dates, (len(months),len(YEARS), 31))\n",
    "\n",
    "    # construct data field\n",
    "    data_vars[group] = ((\"month\", \"year\", \"day\"), stacked)\n",
    "    \n",
    "data_vars['date'] = ((\"month\", \"year\", \"day\"), stacked_dates)\n",
    "\n",
    "coords={\"month\": months, \"year\": YEARS, \"day\" : np.arange(1,32)}\n",
    "\n",
    "ds = xr.Dataset(data_vars, coords=coords)\n",
    "\n",
    "# save to file\n",
    "mainpath = '../data/forcing/'\n",
    "filename = f\"regional_{key}_v0.nc\"\n",
    "ds.to_netcdf(mainpath+filename)"
   ]
  },
  {
   "cell_type": "markdown",
   "id": "2c1790b8",
   "metadata": {},
   "source": [
    "#### PPD region stats"
   ]
  },
  {
   "cell_type": "code",
   "execution_count": 588,
   "id": "934b412f",
   "metadata": {},
   "outputs": [
    {
     "name": "stderr",
     "output_type": "stream",
     "text": [
      "/opt/anaconda3/envs/SBSpolynya/lib/python3.12/site-packages/xarray/coding/times.py:618: RuntimeWarning: invalid value encountered in cast\n",
      "  int_num = np.asarray(num, dtype=np.int64)\n"
     ]
    }
   ],
   "source": [
    "key = 'ppd'\n",
    "\n",
    "data_vars = {}\n",
    "\n",
    "for group in list(reg[key].keys()):\n",
    "    \n",
    "    # stack data\n",
    "    stacked = np.array([])\n",
    "    stacked_dates = np.array([])\n",
    "    \n",
    "    for month in months:\n",
    "        for year in YEARS:\n",
    "            \n",
    "            monthlydata = reg[key][group][month][year]\n",
    "            fillto31 = np.append(monthlydata, np.full(31-len(monthlydata), np.nan))\n",
    "            stacked = np.append(stacked, fillto31)\n",
    "            \n",
    "            if month == 12:\n",
    "                YEAR = year-1\n",
    "            else:\n",
    "                YEAR = year\n",
    "            for day in range(1,32):\n",
    "                if day <= calendar.monthrange(YEAR, month)[1]:\n",
    "                    stacked_dates = np.append(stacked_dates, datetime(YEAR, month, day))\n",
    "                else:\n",
    "                    stacked_dates = np.append(stacked_dates, np.nan)\n",
    "            \n",
    "    stacked = np.reshape(stacked, (len(months),len(YEARS), 31))\n",
    "    stacked_dates = np.reshape(stacked_dates, (len(months),len(YEARS), 31))\n",
    "\n",
    "    # construct data field\n",
    "    data_vars[group] = ((\"month\", \"year\", \"day\"), stacked)\n",
    "    \n",
    "data_vars['date'] = ((\"month\", \"year\", \"day\"), stacked_dates)\n",
    "\n",
    "coords={\"month\": months, \"year\": YEARS, \"day\" : np.arange(1,32)}\n",
    "\n",
    "ds = xr.Dataset(data_vars, coords=coords)\n",
    "\n",
    "# save to file\n",
    "mainpath = '../data/forcing/'\n",
    "filename = f\"regional_{key}_v0.nc\"\n",
    "ds.to_netcdf(mainpath+filename)"
   ]
  }
 ],
 "metadata": {
  "kernelspec": {
   "display_name": "SBSpolynya",
   "language": "python",
   "name": "sbspolynya"
  },
  "language_info": {
   "codemirror_mode": {
    "name": "ipython",
    "version": 3
   },
   "file_extension": ".py",
   "mimetype": "text/x-python",
   "name": "python",
   "nbconvert_exporter": "python",
   "pygments_lexer": "ipython3",
   "version": "3.12.2"
  }
 },
 "nbformat": 4,
 "nbformat_minor": 5
}
