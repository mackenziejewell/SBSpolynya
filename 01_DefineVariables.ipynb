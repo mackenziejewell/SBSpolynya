{
 "cells": [
  {
   "cell_type": "markdown",
   "id": "4993ba60",
   "metadata": {},
   "source": [
    "# 01_DefineVariables\n",
    "Define all relevant variables."
   ]
  },
  {
   "cell_type": "markdown",
   "id": "28d38529",
   "metadata": {},
   "source": [
    "### Import packages"
   ]
  },
  {
   "cell_type": "code",
   "execution_count": 18,
   "id": "6d44ad89",
   "metadata": {},
   "outputs": [
    {
     "name": "stdout",
     "output_type": "stream",
     "text": [
      "The autoreload extension is already loaded. To reload it, use:\n",
      "  %reload_ext autoreload\n"
     ]
    }
   ],
   "source": [
    "%load_ext autoreload\n",
    "%autoreload 2\n",
    "\n",
    "# general\n",
    "import numpy as np, numpy.ma as ma\n",
    "import xarray as xr\n",
    "import pandas as pd\n",
    "\n",
    "from metpy.units import units"
   ]
  },
  {
   "cell_type": "code",
   "execution_count": null,
   "id": "94a30394",
   "metadata": {},
   "outputs": [],
   "source": []
  },
  {
   "cell_type": "code",
   "execution_count": 31,
   "id": "e7b2eaf1",
   "metadata": {},
   "outputs": [
    {
     "name": "stdout",
     "output_type": "stream",
     "text": [
      "                    long_name  value                units\n",
      "var                                                      \n",
      "Cp_o   seawater heat capacity   3850  J / (kg delta_degC)\n",
      "rho_o        seawater density   1028               kg/m^3\n"
     ]
    }
   ],
   "source": [
    "data = []\n",
    "\n",
    "# https://talleylab.ucsd.edu/sio210/lect_2/lecture_2.html\n",
    "data.append(['Cp_o', 'seawater heat capacity', 3850, 'J / (kg delta_degC)'])\n",
    "\n",
    "data.append(['rho_o', 'seawater density', 1028, 'kg/m^3'])\n",
    "\n",
    "\n",
    "df = pd.DataFrame(data, columns=['var', 'long_name', 'value', 'units'])\n",
    "df = df.set_index('var')\n",
    "print(df)"
   ]
  },
  {
   "cell_type": "code",
   "execution_count": 32,
   "id": "530cfe8a",
   "metadata": {},
   "outputs": [],
   "source": [
    "# Save to file\n",
    "df.to_csv('./data/constants.csv')"
   ]
  },
  {
   "cell_type": "code",
   "execution_count": null,
   "id": "f77b6a0b",
   "metadata": {},
   "outputs": [],
   "source": []
  }
 ],
 "metadata": {
  "kernelspec": {
   "display_name": "SBSpolynya",
   "language": "python",
   "name": "sbspolynya"
  },
  "language_info": {
   "codemirror_mode": {
    "name": "ipython",
    "version": 3
   },
   "file_extension": ".py",
   "mimetype": "text/x-python",
   "name": "python",
   "nbconvert_exporter": "python",
   "pygments_lexer": "ipython3",
   "version": "3.12.2"
  }
 },
 "nbformat": 4,
 "nbformat_minor": 5
}
